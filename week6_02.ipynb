{
  "nbformat": 4,
  "nbformat_minor": 0,
  "metadata": {
    "colab": {
      "provenance": [],
      "authorship_tag": "ABX9TyN1aBMkbnfE7SJ4SrkAqCDt",
      "include_colab_link": true
    },
    "kernelspec": {
      "name": "python3",
      "display_name": "Python 3"
    },
    "language_info": {
      "name": "python"
    }
  },
  "cells": [
    {
      "cell_type": "markdown",
      "metadata": {
        "id": "view-in-github",
        "colab_type": "text"
      },
      "source": [
        "<a href=\"https://colab.research.google.com/github/dahyun723/ESAA_1/blob/main/week6_02.ipynb\" target=\"_parent\"><img src=\"https://colab.research.google.com/assets/colab-badge.svg\" alt=\"Open In Colab\"/></a>"
      ]
    },
    {
      "cell_type": "markdown",
      "source": [
        "파이썬 머신러닝 완벽가이드\n",
        "\n",
        "ch4. 7-8,11 (244 - 267p, 295 - 306p)"
      ],
      "metadata": {
        "id": "Y0SkiK8AkYRz"
      }
    },
    {
      "cell_type": "markdown",
      "source": [
        "###07. LightGBM\n",
        "LightGBM은 XGBoost와 함께 부스팅 계열 알고리즘에서 가장 각광받고 있음\n",
        "\n",
        "LightGBM의 장점 : XGBoost보다 학습에 걸리는 시간이 훨씬 적다. 메모리 사용량도 상대적으로 적다 예측 성능은 차이가 없고 기능상의 다양성도 약간 더 많다\n",
        "\n",
        "LightGBM의 단점 : 적은 데이터 세트에 적용할 경우 과적합이 발생하기 쉽다\n",
        "\n",
        "LightGBM은 일반 GBM계열의 트리 분할 방법과 다르게 리프 중심 트리 분할 방식을 사용\n",
        "대부분 트리 기반 알고리즘은 트리 깊이를 효과적으로 줄이기 위한 균형트리 분할 방식을 사용한다\n",
        "\n",
        "트리의 균형을 맞추지 않고 최대한 손실값을 가지는 리프노드를 지속적으로 분할하면서 트리의 깊이가 깊어지고 비대칭 적인 규칙트리가 생성\n",
        "\n",
        "반복할수록 균형트리 분할 방식보다 예측 오류손실을 최소화 할 수 있다\n",
        "\n",
        "LightGBM의 XGBoost 대비 장점\n",
        "* 더 빠른 예측 수행시간\n",
        "* 더 작은 메모리 사용량\n",
        "* 카테고리형 피처의 자동 변환과 최적 분할"
      ],
      "metadata": {
        "id": "0fdqefFem6he"
      }
    },
    {
      "cell_type": "code",
      "execution_count": 1,
      "metadata": {
        "id": "uqDcMzRokL0U",
        "colab": {
          "base_uri": "https://localhost:8080/"
        },
        "outputId": "7a14ee03-0003-4aef-d493-bd0633849c73"
      },
      "outputs": [
        {
          "output_type": "stream",
          "name": "stdout",
          "text": [
            "Collecting lightgbm==3.3.2\n",
            "  Downloading lightgbm-3.3.2-py3-none-manylinux1_x86_64.whl.metadata (15 kB)\n",
            "Requirement already satisfied: wheel in /usr/local/lib/python3.10/dist-packages (from lightgbm==3.3.2) (0.44.0)\n",
            "Requirement already satisfied: numpy in /usr/local/lib/python3.10/dist-packages (from lightgbm==3.3.2) (1.26.4)\n",
            "Requirement already satisfied: scipy in /usr/local/lib/python3.10/dist-packages (from lightgbm==3.3.2) (1.13.1)\n",
            "Requirement already satisfied: scikit-learn!=0.22.0 in /usr/local/lib/python3.10/dist-packages (from lightgbm==3.3.2) (1.5.2)\n",
            "Requirement already satisfied: joblib>=1.2.0 in /usr/local/lib/python3.10/dist-packages (from scikit-learn!=0.22.0->lightgbm==3.3.2) (1.4.2)\n",
            "Requirement already satisfied: threadpoolctl>=3.1.0 in /usr/local/lib/python3.10/dist-packages (from scikit-learn!=0.22.0->lightgbm==3.3.2) (3.5.0)\n",
            "Downloading lightgbm-3.3.2-py3-none-manylinux1_x86_64.whl (2.0 MB)\n",
            "\u001b[2K   \u001b[90m━━━━━━━━━━━━━━━━━━━━━━━━━━━━━━━━━━━━━━━━\u001b[0m \u001b[32m2.0/2.0 MB\u001b[0m \u001b[31m15.8 MB/s\u001b[0m eta \u001b[36m0:00:00\u001b[0m\n",
            "\u001b[?25hInstalling collected packages: lightgbm\n",
            "  Attempting uninstall: lightgbm\n",
            "    Found existing installation: lightgbm 4.5.0\n",
            "    Uninstalling lightgbm-4.5.0:\n",
            "      Successfully uninstalled lightgbm-4.5.0\n",
            "Successfully installed lightgbm-3.3.2\n"
          ]
        }
      ],
      "source": [
        "!pip install lightgbm==3.3.2"
      ]
    },
    {
      "cell_type": "code",
      "source": [
        "import lightgbm"
      ],
      "metadata": {
        "id": "UtA9py9B5IQ_"
      },
      "execution_count": 9,
      "outputs": []
    },
    {
      "cell_type": "code",
      "source": [
        "from lightgbm import LGBMClassifier"
      ],
      "metadata": {
        "id": "YuDok3ED5Wtd"
      },
      "execution_count": 10,
      "outputs": []
    },
    {
      "cell_type": "markdown",
      "source": [
        "###LightGBM 하이퍼 파라미터\n",
        "lightGBM 하이퍼 파라미터는 XGBoost와 많은 부분이 유사하다\n",
        "차이점은 트리의 깊이가 점점 깊어진다는 것이고 이러한 트리 특성에 맞는 하이퍼 파라미터 설정이 필요하다\n",
        "\n",
        "**주요 파라미터**\n",
        "\n",
        "* nun_iterations\n",
        "* learing_rate\n",
        "* max_depth\n",
        "* min_data_in_leaf\n",
        "* num_leaves\n",
        "* boosting\n",
        "* bagging_fraction\n",
        "*feature_fraction\n",
        "* lambda_I2\n",
        "* lambda_I1\n",
        "\n",
        "Learning Task 파라미터\n",
        "* objective\n",
        "\n",
        "하이퍼 파라미터 튜닝 방안\n",
        "* num_leaves는 개별 트리가 가질 수 있는 최대 리프의 개수 / 개수를 높이면 정확도가 높아지지만 반대로 트리의 깊이가 깊어지고 목잡도가 커져 과적합 영향도가 커진다\n",
        "* min_data_in_leaf 는 사이킷런 래퍼 클래스에서는 min_child_samples로 이름이 바뀐다\n",
        "과적합을 개선하기 위한 중요한 파라미터 / 큰값으로 설정하면 트리가 깊어지는 것을 방지\n",
        "*max_depth 명시적으로 깊이의 크기를 제한한다 num_leaves, min_data_in_leaf와 결합해 과적합을 개선한다"
      ],
      "metadata": {
        "id": "PpDkNXrR6hf7"
      }
    },
    {
      "cell_type": "markdown",
      "source": [
        "###파이썬 래퍼 LightGBM과 사이킷런 래퍼 XGBoost, LightGBM하이퍼 파라미터 비교\n",
        "![KakaoTalk_20241014_125943552.jpg](data:image/jpeg;base64,/9j/4AAQSkZJRgABAQAASABIAAD/4QCMRXhpZgAATU0AKgAAAAgABQESAAMAAAABAAEAAAEaAAUAAAABAAAASgEbAAUAAAABAAAAUgEoAAMAAAABAAIAAIdpAAQAAAABAAAAWgAAAAAAAABIAAAAAQAAAEgAAAABAAOgAQADAAAAAQABAACgAgAEAAAAAQAABF6gAwAEAAAAAQAAAmQAAAAA/+0AOFBob3Rvc2hvcCAzLjAAOEJJTQQEAAAAAAAAOEJJTQQlAAAAAAAQ1B2M2Y8AsgTpgAmY7PhCfv/AABEIAmQEXgMBIgACEQEDEQH/xAAfAAABBQEBAQEBAQAAAAAAAAAAAQIDBAUGBwgJCgv/xAC1EAACAQMDAgQDBQUEBAAAAX0BAgMABBEFEiExQQYTUWEHInEUMoGRoQgjQrHBFVLR8CQzYnKCCQoWFxgZGiUmJygpKjQ1Njc4OTpDREVGR0hJSlNUVVZXWFlaY2RlZmdoaWpzdHV2d3h5eoOEhYaHiImKkpOUlZaXmJmaoqOkpaanqKmqsrO0tba3uLm6wsPExcbHyMnK0tPU1dbX2Nna4eLj5OXm5+jp6vHy8/T19vf4+fr/xAAfAQADAQEBAQEBAQEBAAAAAAAAAQIDBAUGBwgJCgv/xAC1EQACAQIEBAMEBwUEBAABAncAAQIDEQQFITEGEkFRB2FxEyIygQgUQpGhscEJIzNS8BVictEKFiQ04SXxFxgZGiYnKCkqNTY3ODk6Q0RFRkdISUpTVFVWV1hZWmNkZWZnaGlqc3R1dnd4eXqCg4SFhoeIiYqSk5SVlpeYmZqio6Slpqeoqaqys7S1tre4ubrCw8TFxsfIycrS09TV1tfY2dri4+Tl5ufo6ery8/T19vf4+fr/2wBDAAEBAQEBAQIBAQIDAgICAwQDAwMDBAUEBAQEBAUGBQUFBQUFBgYGBgYGBgYHBwcHBwcICAgICAkJCQkJCQkJCQn/2wBDAQEBAQICAgQCAgQJBgUGCQkJCQkJCQkJCQkJCQkJCQkJCQkJCQkJCQkJCQkJCQkJCQkJCQkJCQkJCQkJCQkJCQn/3QAEAEb/2gAMAwEAAhEDEQA/AP7+KKKKACikPT0prkhaAH00sB0rwD4gfHvRPAGtroeoafqF1I+wA2tu8q/OMgkqMDHfNcDe/td+EbKVoDo+sO6uqDZZSHdnqRxyB3NZyrQW7OmGDqyV1E+vsg0zzP8AP+RXyK37XXgzzLhk0rV9lsyoW+xSYct3TjkDuRUUv7X3hBZ7mKHSNYZYApDLZSEPu/unHOO/pUPE00r3NVl1a3wn2AWFPr44m/bA8IWzTg6PrLm3VXytlIQ+7svHOO+Ksv8AteeERa3Fyukaw4tlVmC2chJLHG1ePmI746VH12n3F/Z9brE+vqYzba+Obj9snwTbTSQ/2RrJZI1l4spCCW/gU85Yd8dKsXX7YXgq2uzZyaZqwkEIkOLORhz/AAjA5P0o+u0+5P1Gr2Pr0OCaeCD0r5IP7W3gzeYxpWr/ACwmY/6FJjj+DOMb/ao4P2ufBk9ylsuk6urND553WcgAH90nH3v9nrT+uU+jL/s+r/KfXYOaaz4OK+Qo/wBsTwQ/lCTStYTzlZvmspOAOx44J7VYj/a48HPJao+k6un2jfybOTChB/EccE9geTQsXT7gsur/AMp9aCT1/wA/pUlfIqfte+A7iCBxp+qr9odkw1nICmO7cfKPTNR2n7Xvgm5EIi0zWCZ5GiXNlIMbf4m44X0NL69S7ieX1v5T6+pM84r5Ksf2t/BF3jGm6sh84wgPZSAnH8X+7700/tc+BdrtHp2rSBZhCCtnJyT/ABdB8o9elP65S7krL6/8rPrikJA618mN+1v4ECyuLDVGCTCDizkOSe44+6PXpTb79rzwFYRzSGx1WUQSLETHZStuJ/u4HIHc9qSxtPuH1Ct/Iz6zVt1Pr5Cm/a/8BRRuz6dq2FIA/wBCky2fQY5HvSy/tgeAYXuY1sNWkNqgclLKQhs8YXjkir+s0+5TwFbrFo+vKOa+PZP2w/ANvG0lxp+rJsjEhzZS9zjA45Pt2q1/w174AwDFZamQYRKT9jkOB6Yx972qXjKK3mhf2fW6RZ9cUV8jR/tf+AC/lPYasD5PnE/YZSAPTgH5v9kc1Cv7Y3w7cp/oOsKZIjLhrCcYX0OV4J7L1prGUntJB/Z1frBn19mjp1r43sf20Ph3fNDiw1iPzgT89jKNo/2sjircP7YXw4nW2C2eqk3JcLmxmwNnXcduBntk81X1in3D+z63WLPrxm2im7/b/P5V8jt+2L8OUjgZrDV1+0EgbrCb5cdS3y/L+OM0y2/bD+HM8EM0VtqpErMij7DMDx/EQV4HpnGah42kvtBHA1noos+vgc0tfHiftj+AZJIYxp2r5lk8sE2Mq4/2jkcCpX/bE+HkJHmWOrDLlF/0KU5568KcD3OKX12l3H/Ztf8AkZ9e5pGbbXx+37ZPw+dCw03WOJhFxYynJPfp93/a6Uah+2P8PdO3vNY6s+yYQ4jsJ2JJ78Kfl/2ulNYym+ov7Pr/AMjPsEYPI70m9a+QR+2H4BxMwstUKwuqcWcg3FvT2Hc1JP8Ati/DmK4mtmstWJhCcrYTsG3f3cLzjuc4FP63S/mH/Z9b+Rn12DkUZAr5An/bE+HyPO0VjqzpAB86WMzBmP8ACvy8kdyOBTp/2xvh1AZkW01WR4UVyI7Cd87uy4X5iO+OlH1qn3B5fX/kZ9eBgeKdXxxD+2b8PHuHt1sNXcxR+YxWwm/75Hy/MfYZxVub9sP4f2z7JrHVceT55YWUxC5/hOF+9/sjmh4qn3BZdXe0GfXeRRkV8kRfte/D2aSJVs9TPmoZObOUYGCR268dOtRwfth/D+5aKNbDVwXVnJNhNhQO7cd+w60vrlH+dCeXV1vBn15SZGcV8jw/tf8AgCaOF/sGro1wThWsJgVUfxNlePYHmoYv2xvh80sUIsNXAkJAP2CY4A/iJxx9DzR9do/zIP7Pr78jPr/POKQkDrXyJB+2J8Op5IIxZ6srXMjRrusJgAF7tlflB7E9abL+2B4BEe8WGrEGUwjFhNyQcFvu8L7mqWKpP7Qf2dX/AJGfXoORmlr5Gsv2vvh7eQSSRWWrbY5PKy1hMMn+8AR933xiov8Ahsb4eFpdtlq2Y5fKA+wTAue5UFc7R69KbxNNfaQvqNbpFn16TgZpofJwK+SD+2J8OPLcm01UMr7B/oE/zN3wNvQevT3qGT9sn4cwmcPY6xiEqMjT5vmyP4Rtyfc9Kj67R/nRTy+uvsP7j7Aor5Hl/a++G0FxNbi11QmGJZSVspmHzfwjC8n1A6U8/tc/D03FxClnqh+zxrISLGYg7uy/L8x9QOlNYum9pC+oVv5WfWjDIxQOOK+Sf+Gvfhykc0kttqf7pA7D7DMTyOAAFOT7DPvVZP2yvhpNN5MdpqzDy/MZvsM2F/2T8uc/T8aaxVN6cw1l1f8AkZ9fbh1pGbHA618ln9r/AOHmE8yy1UBommJ+wynAXscDqew60y3/AGv/AIdzmN47LVSskZkz9hm4AGeRjOT2HWm8VSW8kH9n1/5GfXVFfIrftjfDuKKCeax1ZVuFLD/QZcqB3YYyM+nWoLP9s34aXs1vFHaaspuAzDdYTLtC92JUYz2HWl9ap/zIFl1d/YZ9g0V8jf8ADYXw3L28IttTJuHK5FlLhR6twcD60+D9sD4cXMcbQ2mqMZHZMGxmBUKcFmBXgehPXtR9Zp9JB/Z2I/kf3H1opzxjFIzEcdK+RI/2yPhnKQJLbVUHmeWC1hOAf9rO3gfWq1x+2h8M0O2O11WQ+b5S7bCY5P8Ae5A+X3pfXKX8yH/Z1f8AkZ9jZ9eKQMD+NfJkn7X/AMN/sv2pbfUiPM8sD7HJkkdSOOnvSD9sL4XyCcRQ6k7W7qmFspTuLf3cLyB3Pal9co/zIl5fXX2GfW1FfJ11+138O7Tz2ltdSHklRxZyncW6BeOfeqlz+2J8N7IyrLBqR8oA5FjMclv4R8vNNYula/Mhf2fX/kZ9eUmRXyOP2vvhvvniaDU98EQkP+hTH73RQAMlvpSyfthfDOJil5BqUR8oSc2M/Q+ny8n2FWsRTfUpZdX/AJGfWxYCmhhgtXyVL+2F8M4JvLeHUtvk+cWFnLgD06fePpUr/tffDeNUlng1ONXh85s2Mx2rjjOF6n061m8ZRX2kP+z638jPrFW3U+vkWz/bH+Gl3LCgttTRZY2lJeylG0KM/NxwT2HWpF/bC+GcktvF5GooZ1LgNZyjAHduOPbNNYqm9pCeXV/5H9x9a5Apa+Rx+2F8NyltIbXUh9qYqAbOXKgfxOMcDjg0W37YXwyn8ry4NRJlkZF/0OUfd6sePu+9P6zT6yE8vrLeLPrimhwelfJf/DX/AMMWSGRYdS2zTGEH7HL1H8R44X3NMP7YXw0QO4g1EgS+Sv8AocvzHuV45X3oWKpfzD/s6t0iz63B5xTs18ht+2R8MjFJPFb6mwjmERAspcknuOPujuast+1/8NVilufI1IpHIsYIs5TuLf3eOQO5pPF0lvJC/s+v/Iz6yBBpGOK+Srv9sX4W2z3C+TqUjW5VcJZTNuLdhgc471n3P7afwttfP8yHUj5IX5hZSkMzfwrxyR3pfXaP8yF9Qr/yM+xiwFLkV8ht+2F8NPMlt1i1FmijV8CylOSf4Rxy3qKnP7YPwxjEvmQ6iohjEjE2cuMn+Ecfe9qpYqn/ADB9Rrfys+taK+R5f2xfhfbq4kh1JTHCJmzZy9G6LwPve1RQftjfDW4mEKw6kv7jzyTZS4UD+EnH3j6daf1mltzIPqNf+Rn17RXyf/w178MmdIzBqPzQmYkWcpCgfwtxw3oOtV7b9sX4XXUcUph1GMSozgtZzAALxhvl4J7DvR9Yp/zFf2dX/kZ9bb1BxTq+QpP2x/hWj20fl6huulZxizmO1V7vhePbJpg/bO+FL/ZnaLUkW4JwWsphhR/E3y/KD2z1pPE0ukhLL638jPsA8c0V8iL+2X8Km+zKY9RU3Lsqg2U4AC9WY7flU9icZq3afte/DO8iSaODUVV5TECbKYcj+L7v3T69KaxFPuH9n1/5GfV+fmxS18gH9tH4TsyqsOpZaYw/NZTgZHU52/d9+lWl/bD+Fjq7RLfyCOUREpZzkZPf7nT36VP1ul/Mg+oV/wCRn1rRXyLN+2X8KooBOseosrSrEuLGcli3cAL90dz0FTTftg/CtfOMCahKYXCEJZTsSSewC8gdyKaxVL+YP7PrfyM+sEPapK+WLj9rn4WwJLJi/bySobbZzHO70+XnHfHSs/Uf2xfhTYPKhTUZDDs+WOyncsXGcLhDk+uOlN4mmteYHga38jPreivkr/hsX4TiSWNF1DEKK7N9inx83RQdnLe3WpZv2wfhdFHJIE1E+VEJDixnJ5/hA28n260vrVL+ZD/s6v8AyP7j6wpoOa+Rk/bO+D3mmFzqCbYhMzPYzgDPO3Oz73t1qWf9sb4TKyIxv13RmUn7FOcAcgH5eGPYE5NDxVL+ZC/s+v8AyP7j60Vs0oPJr5Es/wBs34Q3ezYNRBeMykNYzjaoOPmyvBPYdafa/tnfCO78oRf2hmVWbBsLgbQvdvk+XPbPWp+uUekkL6jW/kZ9a7+cVJXyCv7aPwhke1hX+0Q91nANjccAd2+T5QexNDftofCFGgin/tENcSmJf9AuOMZyzfJwvHU8VX1mn3K/s+t/I/uPrwsBSqcjNfIsX7Z3wgey+2RHUNvnGIZsbjJx1YDZnb/tdKe37aHwbCth9QyJfKH+g3B3H1Hycj36UfWaf8xP1Ct/I/uPrijIr47n/bb+DUOXB1F0EqwhlsLghiepGE5A7kcVbP7ZnwYKSOJ70iKQR8WU5LE/3fk5A7kdKTxdL+YPqFf+Rn1wTyKWvkd/2yvhB5s0KtqDeQyqStjcEEnptOz5h6kZxRdftl/CG3eVZG1DEezlbG4bcX7KQhBIxz6d6f1ql/Mh/UK/8j+4+t8rS18ny/tg/CCHz3SS+k8lVY7LK4P3uwwnJHcDpUN1+2b8HLWSZWkv28hVJC2VwcluwwnLewpfW6XRi+o1v5WfW2RRXyg/7YHwhSVolkviEiEpIspzjP8ADwn3v9nrUB/bK+EEkkkUT35MUXmnFjcdPT7nLf7PWhYqm9mH1Cv/ACM+tqK+U7T9r34TXsSzB75QYjKwaynBUDsQU4Y9geTUEX7YXwlmaH5r4efGZBmxuBgDsfk4PseapYiHcHgKy3iz6zoyK+Vl/a0+Fji3Mf2/E6O/NlONoXru+Tj2z1qvB+2L8H5Vgd3v1W4JCk2VwMbf72UG32z1pqvDuDwNb+V/cfWNICCcV8o237YvwfuBGInv/wB4zKM2Nxn5e5+TgVVi/bO+DcyxsjagPMkMQJsLjqO5+Thfc8UpYiC6gsBXf2GfW4fJxTq+SB+2Z8HJJ2skkvw6SeV/x43HX+8Pk5X36Utx+2J8JbVXaYaiwjmWAlLG4YFm7jEfK+rdBS+tU+4fUq38rPrbIor5Pn/bA+EVu0hZ7/ETrGQLG4JJb+78nI9SKln/AGv/AIRQG4Ej32LfbnFlP8248bPk+b3xS+tU+5H1Sr/Kz6ror5Qm/bD+EECTStJfMLfbnbZXBzuGePk5I746VFdftjfCC281na/PlIrkrY3BBDdMYTk+oHSqeIh3HHB1XtFn1gHO7B/z+lSV8mT/ALZHwdgEhmkvQIYfPbFnOeD2GFOW/wBnrVM/tpfBtZ9ivftmDz8rZXBAB/hzs+9/s9aX1mn3LeX1/wCR/cfX9FfJMX7ZXweeUxI1+MQmc5srgYA7H5Op9OtSRftg/CeZIXH2/bPEZQfsc/AXs3ycN6DqaX1qn3D+z6/8j+4+sqTIr5Vh/a8+EsggcNeqtxGZAWs5hgL13Db8p9jzUEX7YPwiZLaUNf4ut20mznwApwS/y/L7A8mj61T7jWX1v5X9x9ZUV8mJ+2L8IWht5pJL5BcFgu6yuB93PX5OM9s0+y/bB+EV9FA8cl9i4kMaqbKcHjucpwvucVX1mn3J+oVv5H9x9XclvanVwPw8+ImgfEvQz4g8Neb9nErxfvo2iYlDgkK4Bx6HvXeA5rWMk1dHNKLTsx1FFFMk/9D+/iiiigAqNxhWPrUlRucqw9BQNM+UPi+jJ4qF0TjagHHcV5FNb3T3Ed0j8dMZ7V6v8ZXZvEhRwQBGpHvXjU9zcS3IgtuOBjPHNeBXclV0PqMLL92Vr4SIWE7MobrjoasQrdzWrZOyMYxz1r8rfi5+3F8dfE37QHiL9l/9jT4dp4413wasP/CQapqV6unaXp8twu6GFpWDNJIw52qDgV594h/bt/a//Zb1LRbr9vD4W2Wh+EtX1C302TxF4b1NdStbG5un2QLcx4WRVduNwBGa6pUHy3S1COKovdn7EeTOkoSYmRSOxqPzJGQojFSp/Ovz+/bk/bt+HX7MfhuLRrLxBpel+LtQijuNOt9ZFyttJAx+Z3kt4pWUeny9a+e/2QP+Cp/w8+KOpHwT8aPGXhVNW1Vx/ZiaK160ZiVSZGnlu4IVjxgkZwMd6554dy959C5Y+nH3Ln7H3Rt5oUkf5pR/FnofcUk0MsgWTzBmMcD+gr88P2Kf2ybv9q3xn8VtGtbWzXTPAXiVtDsryyn89LyNIlk81jjaCd2OCRxX6GgJOvzDBPTFFnawQrKSui1FeNCF8osWYYI9KtXTTLFkZ6Zz/SslbVFYlyS5GBj+dSMl2IDbqGLdfwrNylHdnTBdS9L5c0UVwrHJIyCeOPWjz7mWDy1yGLfe7fUVntYy/IoJ5HSrRs57aIqjM+amNRN6s25r7lmOMRkCXPXJbPWkvhLCNlo26QD5cfrVSFBe2uYnJYHBqNGkiUx25+Y9zyajnnfczcERQXUwYK0h3L6Hr9a0YE1i5QzeYNr8KPUDrkVlfZGuJA8R2nPP1q8IriBmVGO5+p7D6VoqncJMmmeUsn2fKbevoact4zAtCz8MAR7mkEU8MWNwJP5/hVNGlVHCKVZjnnvVe2kiYyZZu7hhOFmRiQcg81SmuLkT+ZEXUj3xhffrTrk30/lllJYdcVWlW9jmwUbaeB7+1S6kpGhaF/emMx3PzL1Q1Yha8I8qJh8yjnsKrFJWXy50K+g9DUximtbXJcEE8+tZVJNMELJHdl3bzznHJz+tVo3DWxuNSbIU9e5+lMaX5flOT6D+tROzxwCylXOctn61fOraB0EMkX2UNAG2k+vP41J5EsJjlfaW7KapiBobTGSpz36V85/tJ/tM+CP2Wfh3/wALL+I0OoXGnrMsB/s+1lvJgzf9M4lZsY6noK0gnJ2M5uyuz6WaeaeX7PO25R27c9s9asyo0UcRyFwD0GP1r8dbf/gtH+yVdX0VnBpvi4Pcsix7/DuoKJWcgDafK96+ivgj+1n4n+L/AO1t46/Z8fTIbfSvCOlaXqMF0zMLiQagjPskjYDZtxjk5PpWlSlOGpzUcQm7H3fd3jxPw5KvUlu10775ZCy9ia/Mb9oT/gpz8G/gZ8WtR+D+m+HPEnjbWPD1uLvXF8O6e97HpNs67le7Kn5cr82Bk47V1nxk/bg0XRf2FNY/bJ+CHk6/Y2+l/b7HzWMcbjdt2vjlSDkEdQRjrVxhPRdzd4mDTs9j9FUmmuJTcu20p8oDng+9Z326+W4aJh8o6kfyr4I/aM/bD1z4B/sPWv7WU2lxandNp+lXLWCyFEMmoNCu1XwSApl4OO1RfEz9s+6+Hnx9+EvwXvtNha0+I1ne3k188/lCzFnEshypX5gd2MkjGKmknPVmca8XLlufoJbzSMpADBM/pVy7nvraBYrfqeo77TX51/s4ftkap8fP2ufid8BdBisbnQPh/DYSxalaz+a00t4pZkYLlAExjg5Pevs34k+P7P4W+D9R8f8AiWK4n0/S4XuJ/s0TzS7EGSEiQFnOOgAzSqws7GkKsHqmeiJDNE0Myv8AKO3uetB+0vcOly5w/YdBivzQ+E3/AAVI/Zx+O/xUsvg14Kt9etvEN7Z3N/BDqWlXdkskNquZCrzxoDjPbNeG+Ef+Cn3jXx2nwmvdM8Ipbw/EjxjqnhaQyzlvIj04SbZ1wvzFzH904xnrQ8K29DKWJikrM/Z9XQEhZNzDpk85HpU7Sl4vLZ3KMfzPvX5n/HX/AIKafAP9n34oXPwl8eab4im1G12mWTTtHvLyH5hu+SaGNkPHXBOK0vgn/wAFH/gh+0nf614f+E9rryXuiWE1+41HSruxhxCOjSzxooJPbr3xW88PO6Vty6deN+Vn6RBoYI2izlgRjPvT1iu4i3kuD3BB6fWvir9gv9o/Xf2u/wBl/Rvj34k0yHSbzV5ryJreF2kjQWt1LAMOwBOQmTx3rvvi5+0R4I+Bfijwf4S8ZfahP441L+ytPeBPMQ3GwyASEfcUgH5jWEKFnylTkrXTPo//AEgw4mcl5T6npVIT/vHBk3MBtNQatqkulaZcav5TSeQjSLGgLMQoztA6knHA715r8GfiRbfGH4f2fxITRNT0MXxkIs9VgNrdRhHK5kiPKg4yM9Rg04rS4qlazsz1iQ3Eahy+UxwR1FLaz3CSqrOzAj5T6A1nTXTQx+Yv3DxtNfPnwB/aP8IftBnxR/wr37Sp8J6zcaFetNFsH2u3Cs4TP3lww+YetZ6tXiOE9NT6nc38Fwm6RkQjrnjFPDzW8nmiYZUcHtg14b8WPjX4C+CWh6drnxJ1JLK21TUbbSrcuCfNu7ttsMa47sRXi/7Tf7bHwY/ZXtNM/wCFgvdXuq68/kaZoumQSXmoXrr1WGCIFiB3bAA7mtoxk0Yuo0m30PsEz3e8zROVVuue4rMn+2tiOBzsU5J96+BPgX/wUU+Enxo+IEHwk8Q6J4h8AeJ71GlstO8V6fJp0l2i9TblxskPqqkkDqK4r4k/8FSPhL8PPjl4h/Z8tfCni3xNr3hZoU1QaDpFxfxW/noJIy7xDA3K3GKzhRk5bD+uxUVc/U21gnlQN5oY9znpUEr3skrJayhipycV8I/DD/goV+zh8XvBXirWPB8+o6ff+CYWuNc0nU7Oaz1K1jVS+XtpVV8EA7SBg9q9e/Zi/aW+Ff7VnwlsfjX8FtQN7oWpFxFIymNwUJVkdW5VlIwQeapycbPzsP28ZOyPotruW1zKx3sew7ZqWBVGTG7BnG4gH9K+U9K/bA+DeoftPXn7IenX7TeN7bSxq89usTGOG2ZgoLSY2hjuHy5z3r6hhX7ErRbtzetZSp2bbLg7rcuLezldhyPXHXHvWgbuaKPG8legGe3vWVb5wXkGGPPNI2wIxLcNxn3oUepskPZru4DbpODzgk/nU0ayyriXl0wQV68d6y9t21vvJAKcfUVZaOeJRcAlSyiplddRWNC6m+y4MTnLck55yeuas73aD7UWIJGBg8//AKqx5rTEKCRwW+8QOuDVyK4i8gu4KnGAD0qWkNM0rKQqXtpSzRgZHvms7zJJJGWJmOOoU9faoZ4ppoljyQw5G0/zqN4Xt4/tUhKzSdAOnFKMWhuLLMcU02IlLeZ056YqFp7iK+eAORgYBB7VmXAvVmiuLYsC45z098V8s/sn/tS+GP2u/DWv+MPCmn3WmW/hzWr3QnNwVJlmspDG7rtJ+UnkZqnG2pzyrcrsfYFrLcvIJC7ZXgZPGalObhzCz8xg59cn0r4V/Z2/a31f40ftL/F74EXelx2ll8Mryys47xGLNcm6g85i4PC7c4GOteMfHT/grD+z78H/AIh6x8PNM0vxB4ouPChT+37vQdNmvrXTQ3JF1NH8isq8sucgda3jSm7x7ERxceVSP1Vt7jyQIzIeOBuJzUUc9xPN5bYiA6HPWvgb9pf9tjQvhp+xhcftjfCuCDxJYCGzuLBS5jjuIrqVUzuHIIBzjHbFdz8Vf2g/Hvw7+Geh+PvBHgDW/iDd6pFDNNp+gRrLNCssYcsRIygICduSazjRnf4RvEJK8mfXa3dw959nXc23gMOg+lWHur2KMqxLk5A9RX5OfCD/AIKSeIPiP+0lo37LPjz4P+LfAOv63ZXOqwNrSQpH9ktiA0hMcjMAWOBkdRXoPwN/a+8afFn4q/G3wI3h2a4Hwp1M2NnHZndcX5FuJgiq2AHYnaoziuhYeb3VhfW4cvOmfoVZ3E7I7SBkVieB61fEk7xFYd2E5BHrX4ifEn/gqt8ePgr4LufiJ8XP2afHei+HrWaNJb6cWojiWZwiNJ+9yOSMjB+tfTf7Rn7cGpfB7U/g9o3g3T4L2X4n6/a6RPFLNiS0SeIylsJnLgcYOPrWU6Ti9UL65Bq9z9K7m8mEYjdTuAyS1Up72eSJfs64I7CgvJlWbMpHP1zX5zfH7/gpd8DP2bNd1vSPiDpviKKHQAGvr2LSLqazRe5W4RChA7nPFKFPnV0jX2qhZn6OtdyLGJpZWG7Hfk1beQSW7M7Nvbo2fSvy98a/t76YPi94S+Gvgqx+22Xi7wff+LLS/lbywqWaB1iaLGfnB68Yqz8L/wBv/wAP6p+xN4T/AGwPijpd7aQeIIS0tjpVvNftE/mMg2rGCxGFyTjAo+ru6uZvEQvoz9IWu7yF1hyGR/vMeSfrVtzOMvISyHpjjH5V+T9r/wAFcP2Y7y5g09NL8WhrplWMtoF8FLNgABjEPx9PWva9H/a68Sar+3r/AMMm2ekxR6anhGLxGt7IxEzNJJs8ooeBt/OtXR0BYuN0u595WtwDIsKMW+bv1FaFw8xn2cLt6E964Hxl4s0rwR4a1Lx1rKPBZ6TazXlwVG4+XChd9oHU4BwK474MfGTwx+0H8LtA+MPgszDSNftlvLT7QhjlMb5wSp5HSudxRu5pHsiXE8dyXT5ioGFPIqhdySLJvkJ9SO3PavFNF+MsGu/GnVvgtBpWpR3Ok2cV62oNbsLGQTEgRxz/AHWkGMlR0Fey3EEj/uZjk8YPfNaNcmoKrFu1zXia/kBuCTswBt9B7VWe/dWXarBB78Cvnnxj+074C+HPxu8J/s8a3JOdf8aW13caeEjLRbbIAy73HC/eGM9a9tOrwWdpNeai2y3gRpHc9Aqgk/oKdTow9o9zYtPOuIGMBKspJ+uaqq81u4htcHHTPODXz9oH7U/wQ8S/B28/aC0fXbeLwnaxzySajI3lxKtuxSTlschgRjv6V8PWP/BWn4MwQR+LNZ8H+MdL8DXkm2DxZdaPcLpbDOBIZCu5Yif4yAuMHpVxhN3t0FKtFa3P1tijm8tbqQbnTjC9Oe9MkjeUecz7dpyFPWvgb9pf/goD8DP2YPBvhjxn4sl1LWLPxjN5Wj/2JbSX8l05XzBsSEEkFeQa88+Fv/BVr9m/4gfEHRfhtrdn4h8K6l4gcxaa3iLSrjTobmTBPlxSzqFLnsOp9KbpS5TOWIjsz9RZ5RIEx0IyQexqyGJj84vuI4AHFfI3gL9r34LfE/8AaG8U/sweFtQZ/F3guKGfULZ0ZQI51DKyOeJAMjOOnerH7TP7XPwf/ZP8PaRrnxevJLGPXdTg0qyWKMyvLc3DBEAVcnGSMnsKmkrPlZSqrofVcRluJNuQFHUNVkXAN8XhbDhQM1i6dfxi1Ny+TuXO3vzUyy/KLgABf1pSpwerRttoWonkWcys4ZsnIFLHeS2s7rFgFxwT2rHEm/BXliTnb6VGizvGVZCefxrGXawrGzLc3DFuDhuuOOlX7OWSyjEsgJJ6lvesGYukBYE7TjOO1aLAlESPcwxzmoldaxBolnmWSfBPyDnaO5p4u3MJa6Lkt1AP6GqaWUu35vmHYjsamVisbQzjOf4h0rNXvdhew0z7GWVGC8HGfTvTzeSSNvjyxHbtVKXTXMBFuCwHNRQNKpAmO3cv+c10Ra7FqaCG8uVjkSRtoYkY7D2FSSrdxxKWX5SeAvGa+SviL+09ovgD9qLwT+y/c6dPcX/jayvb6G8QgQwixAMivnkkg8Yrjv2vv2rfEv7Nni34Y6Bo2mxamPH/AImg0IvLKUW2SVSxkwqtuIxgA4HvWyh0ZyVKiufcYjVJRIwIZuo74qGRJ5G3eYyqT8oPrXy7+1T+2H8MP2TPDln4i+JDXd3fa5ciw0vStNt3ur69uDz5dvBGCzH36DvXHfsyftyfDH9qW51nw3oVrqXhrxT4bKjU/D+u2zWep2ocAo7wuOUYdGXIPrVxu43QliI83IfbtpmKMpKhbvk9TUE946MYbc+WrHLA9K+Bf2Xf2ufGX7RcXxMl1HRlgi8CeILvRLQWkhlkuxaorAkELtdy2NuSPevmX4zf8FRfiJ8C/B978Rviz+z74/0fw7pOPP1Ca2tvL+ZtqnifoSRj603hJ9thTxEI/Ez9h9nnxy75BtGMAVGv2wrxysn8OPT1r4G+Jv7YfiPwnr3wXsNF8OLHb/Fa6jt5FvpTFPZJNb+ehKoGDOBwVyB71J8aP2ov2j/A/j2fw18OPgX4p8b6dZKp/tTSWt/IZiMlQrurEjvQsPKWw3iI7s+/lfUGfyw3Trjr+FWIXkZGjdWPtnn8a/NX4Mft/wA3xj/Zv8c/HC58LXXhfU/Bkuo2suk6s6pN9p0+Mu8bGPcADwMjpmvpj9lT43ap+0J+zt4Q+NmuWi6Tc+KdOh1A20TmVYxIM7Q5Ck/iBXJUoyiOliIzskfTcZVrdo2xgA5AqhJ5zeXcRlWC9M9TXzJ+0x+178NP2W9I07VfiLZarc22qTmCL+ytPuNQk3gZG5LZHZQfUjHavjPxb/wVW+F9z+zR4h/aP+Cmm3muJ4Z1m10W6sL6CbTpo7m4ljjKMs8YYFRIG5XnpShCq3ZKxpPEwWjkfrRG04OW++Xzx0+gqWZrzzvlby3/ACr88/hP+2F4n+IXx8+I/wAKNY0NbLS/h7p+nahLcxyM88hvommK+VtH3QpA2kk+leEf8Pn/ANkcXkkM8PiyQrIYznw7qXGDjJIhIA7844rqp0LJprUzniKa1ufr6bt4ZVjZ8OxBJ9f6VbubqDChiM5yT2Nfkh8b/wDgo/o3h79nXw9+0R8G9KudQsda8VWPhzbrFvPpzqLqbypJFSVA52Z+X5cN61+pyr9stlZhksoYBe+QDxSrUnD4h0a1Oetzf33r28pU7QoyNvQ5qGG+xAIcbnXk+tfMHw9/ai8AfED4weJP2eoPtNl4n8LJHLdWlyhiaSCXHlzw5/1kRzjcMjPFVPDP7Tfw+8afGPxH8IPB63F5d+DoEl1u/jX/AEGzeTlYZZj8vm4GSo5A64qKcZN8qLlVg7an1VFfSGR5A+2IjBHQ/SliYxwpJafMW4GfvAV+UOvf8FYvgv8A2xqNj8LfBnjT4g6VpM0kGoaz4b0ae7063eHIk/0jAD7cEny9w96991L/AIKA/s/6P+yjqf7Xun6hJf8AhLS4FmuGt42e5jJYJ5bQ/fWQMcFCMg1pPDdOplSxEbM+7UdpIibs4KEdOKm+0FYm8lxtU8Zr8d9P/wCCyH7O8Nna6l8RfDPjHwvo1z5bHVdS0O8iso0lGUeWby8Kp9emOa/VLwv4g0bxPokHiLw5cpe6ffxLNbzRNuV43GVZT3BFctXCun8ZrSxCelzp4bi9+0eZKQR0GKklkkBJnXPYGqUdyXjEDY54AHWm5dXCqGGDn5j370RTXQ3Titi5HLKLc3A3DaSKVLy5WMNbqDjnpk8/hVCIztE8bHaXyR6V5V8Uvjd8PPgTpenaz8SdUTTINVv4NMtywZvMurltkUYCg8u3ArdpdiJ1IrVnsWLy4HmTYB7H0oQSFS4AbnqepIrI82adWukZhuAOOgx9PWr7TMpU23ccA/rStdFWuWbedRI6uuAemaqXV5fWFwjq2UP8NQyGUIRg4J5NQTTSTOkbLworFpIFoaf2n7QhljUrIOT0p5uZrpcQfKq8MMc1m7BayiZWyPSrlowuWfJ29+Keg20yy0szqsUQKkcEdzUbXdwFYMoCA7TnqarfatrMmDvBwSK0LXbOPLuj8udx9aTSeoktbn2f8F8f8IYgxg72/XFewV5D8Hplk8IIUUoA7D5u+D1r10dPSvawqtBI+Qxn8Ri0UUV0HKf/0f7+KKKKACo2HDZ6YqSkPQ0AfIPxihceKxcSPtVUHXpXg/iLxBp3hrQLrxPq8yxWNhE89zIR9yOMbi2PYCvePjJHA3iGV7kMcRrtGeprxDU7LTri0OnXkQeN1+dGGVZW6qR0IPpXg4pe/ofWYGLdNWP5ovjj+0j+wTefHzUf2hP2c/2j2+FvjLxKsUGrQxWZvdO1M2wISWe0lCkTKny71YHFcHN8fP2JfjJ8QdCuf2x/2qG8f6JoV3Bqtn4XsdKbSrO4u7Vt0Ul4SXkkRWG4KcAmv1H/AGw/2dNW8ffte/s6eLPh14Isrzw94Y1y+u9fuYLKBYreBrKSOPz1CAMpcgDdnnHFU/EX7MGv3v8AwVo8P/GnTfBdlJ4JtfAU9jNeiztxaJdtPlUK7Npm29MjOO9ehUnHq90ebVwc92up5x+3F4u+KH7T3w4+HfxN/ZiTUdc+FE99NJ4ofwrDENeuLELtiWy89S3l+Z98J82OlfHHwe8IfFzxn8YfEvg79n7TpbL4VXXh8wXmm/F+ZFin1Eyj5bYKgvPL8vIk7Z6Hmv15/wCChHwh/aB+I37IfiX4bfshXkWg+JbmJXtWhdbRmgRg08EEigLFLKgKowxgntX5C+FPDv7FOheCYfhz8RP2Q/H7+LJraNLlru3vL69nuiBudb4XGSS3IcFR0OKdKouSwsVQtI+jv+CI/wAJvGHweHx50LxnoGneHv8AiuHEEOipJHpZRbeMf6F5o3tEOzHPev3e+0Mu1YxyBjHf61+WP/BJ/wCB/wC0h8HPhT4ml+PEOpaLomp6zNd+EvDetXP2zUdJ0wgAQ3UxJO4nlVYkgda/U2G7gkCyhcO+QPcivPqfEz0cBT/cq5at2u2+/IvvxyBUpe4N2GjkyoXqBVJCqO0+0uGO3jjmraOzARKQm5vL6d/SuWTbZ2xj0NOObzJUKrlge1VppGcsBuRyT9MelIr2Vu+4Ev8AN5fy8YaqeoajdxPtg2soOAMDIPvUKOtzTlY0vLDaRiFhG5Y8evvVuTdFHkrg9zUUlyphZ5FA2KCT6E0+Lyy0kOdwIBc+gPSqSk9LiaaJbaQmEkjBqrMJ542WM7WHfsKfLcGC5NtFztA5+tNkmjSVcn6+9JU2nqHNry2Et0vY4AvBKcE1YRLqaN5JHGVp0tzA0eQPkHUDr7VXt5FjBRG8zzfm9MAVcnoTe/Qld5EstxOWz29KiE7S4lVidvbsDUlwsckHkod2ew7CnxW9tOBGMlokyMcce9ZQTRajcinS7c/aAdjejd/eooxf3ULKy46gntVkypLEkEILM3v0PpVdzHLEturECTO0juR1qJO4/ZkCQu0JhC/P7dcVDLfK+JpuGHy/lVnMJiVUz5jHapBqER21wiSTHG1tv41ooPkuOMe5A9wvQn5j0U18a/8ABQF79P2JfikmnTNDO3hnUGR4nMbgrGTlGBBBGM5FfZl3CkA6hdx+UnnNfMX7TH7Kfwi/as8IwfD74vf2o+jxyl5YtMv5LBpt67SkrR/fjI6qeK3w85Re5jiaUnBqKPyJ1P4keJdT1/8AYU0e31O8H25Wu5FN4yrN5GnDLzYb5xnn5iRmr3gKz/aS8Vf8Fkvi1rXwQvNAsdI/s7QG8QSaz5zyzWoDECz8nIMuN3LcdK+prv8A4I4/8E4dGjsLq+8N+Irs6EhhsRL4gvnFsjDaViCsNinOCEI4ql+x5+zXqPwZ/bt+LfifR9DvdL8E3eiaHp+iPM0kkD/ZY3V086Qlndcgkkk12VK6u2noeRRwlS3vqyOD/wCCWHiTTLLxT+0nY+LJvK8Xnx7fy6yZSFkax8pRa7iefKCZCg/LgnFfFPhGBrb/AIItfHI6VFv0C617X/7FRvljawF58rITxs8zfjFfq78df+CYP7PHx/8Aihf/ABY1HWfEfg7VtYgSy12Tw1qBsk1SCMYWO6Tawbj5d4+bHFWP21/2bbJv+Ccfi/8AZp/Zp8Ou0FtoY07SNJssvJhGB+Xu7scszHknJrX2yUlbUpUZxpt2PlD9o79lf9oL9uL9nn4Y/syeF7qPwt8Mrzw9p2o+JPFHmoX321un2ezhgLBixk2szHC4XrmvlnxV/wAE8f8Agof+0TJY/F/4r3OjweIvhPFBonhXSBKJLLxPYjEd9NcyBv3AuocBc8gg5x1r9bPjj8M/idrH/BOHUfhD4TtJ/wDhLn8G29hDbxExzfahbJGEG3kMGGDz1zXw98B/2uP26fg38GPDPwz1j9mLxVqFz4e0+3sJ7gXVs32mWNArSbmfIBIzzzXPhJzVNJRW36GEqaUvfb1K/wDwTY+D3gf4J/8ABQX9oXwF8NfD9n4StbWw8OmTS9OZ3toLiSFmlVWdmLDdnBzX6qfti/Gbxn+z9+zN44+M/guKC61bwxpM1/bRz58ppIlyA23nHrjmvD/2S/GnxI+I/wAU/FXjLxv8DLr4Xale2lvJfavdywPNqJjyscb+XI3MS9OBgGvrv4sfCjwb8cfhtrvwf+IAuBpHiKzls7z7NJ5cphmGG2OQwBx04NTOb9u5S2/4B2UIr2TikfkN8DPg7+3F8ffjX4A/bu/ao1vwnHo9n4Quks9K0K4uTcImqRLKvmCVNuVHBAY/jX48/sjab+0KPiJ+zjL4ruNLl+H0vxR8Sf2JBAJxqazEXBlNwWPleWRnZt59a/oB+G3/AASP/Zs+E2t2WqaR4o+IGspokQewsdR8STvZp5QyieTGqgx8AFSQMcYr4d8L/sc/tC/C25/Zr8P+INDuri58NePdd1rU47DbNDa2N4s5gld0JCL869TnnBrvhWg3bv8AojCnhmnF26n1l+1D4x1/wx/wVC/Zvj0PWZrWxuoPEME8STkQtiFXxJHnaWH8JIz6V8mfszaz+1F458DftAX/AMCvGWl6fPcfEHXRcN4l+0XkD2cEe1EtkRjsPXtt9hX6LfEj/glX+xZ8aPiW/wAYfifpuvar4ku52uUmj1u6t47fcMMLZIiBDkDkL1703wJ/wSz/AGJvgGNQ8dfAzwnqNt4hezvhatdatd3SNNcRMrM8LvseRj3Zck96VGvGTiubsZPByVSUpI4f/giZqN//AMO3PAz6q8ck7T6pv2LhA39oXG4qPQnkegrB/wCCkDT2/wC0L+zRcQKJFHjmQ7GPyN/ojjDY7DPevYf+CVXwp+IHwd/YQ8E/D/4q6bPomuW0moGWxuU8uWPzb6eRMqeRuRgRnsat/t5/sq/HD9oS8+HHij9n/WtF0bX/AALrzarH/byzPazkxGIxlYFL85zxisZ1L1mondy2pao+0viJq1/p/hLVZrQmCSG1mlSRSAUZY2YEHOMg8iv5yvhZ+01+07+0F4H/AGef2b1+IOo6HqXxStdb1TX/ABYscc2otaadO6LBbhx5ayuMLux8oGcV+nPhz4bf8FTtQ1afTvir4l+HE2g3aywXa6ZDqIutskZUCLzV2ZyQST2r4P8AjZ+yNpn7JP7KXwj8PfFK41dNT+H2oXO/x54QHnT6G1zJI/nSWsqbri1cMEmTHGM1rSpOz+f5HBi5OUozS02PUvHPgP46/si/tSfAnwN4d+L3ibxP4K8Xazd2Goab4g+zT3jmK1eYEXCorvHleQRlT0btXgP7IX7NXx5/aU8W/HzUrT4war8OPC1p8QNUGnWvhy3hN3LehY90tzNLlfJUBAI1HzHOTisP4S6RpH7Uv7eXwk8YeBPipr/xkuvh5Ndajr2syWC6bomnWsts0cNvDGowbqWRgSSxOM9Oh/Zn9k39lzxT+z7ZfEf/AISrVrS7/wCE08W3+vwJabv3EN4ECpIXC/vBt5xkZ71bai1buv8Aglwoueq2R/Pd8e9d+P8A+0/+xT8M9U+Ivjm90/WfC3xPtPDFxfWEEDfbpra+a3j1Aq44mjChwq/KSTkYr9Kv2WdJkvP+CsXxN/4Tq9n17WPAPg7RdL0PUL8IspgulL3V4iIAqPPIMOUHGMZrU1r/AIJifEp/2Rrr4L+GvGGmW3jCz8cv420i7kSaWxilF4biGKdQoc5U4cqCM16/8cf2Nv2mdQ+J+hftUfAnxNoWjfFrTNIj0rXIrtJf7C1m1++0TbAZomWTmF+3Qj153JyVm+gKD5nzHiH7WP7Ynwv/AOFmeHNE/aW+B/je7s/Dvim1h0TxF9jKaat9NIIreaK7Eoba5bkEYI6g185fBrx9+2N4a/4KdftJ3P7KXgPTvFgmu9H/ALQk1LWE0o2z/Yk2Rp5gIkyMknIx717x8ef2Iv8Agod+2bY+F3+PXjPwz4Qg8I65YazH4a0Ca4u4Lo2soeSW6u2RRuCD91GiEBj8x4ro9Y/Y2/4KCfDP9rX4m/Hv9mTxT4Gh0v4hvZTm28RR38lxCtpbpCMm3QISxUk8nr1reTto+y/r7jKV3LZ2PkTR/FHxNvfjr+0lrn7Znh5vB3xV1vwA66VptncLe6fJotrFJm4hu0/183mHDDaNoxWp/wAEaL+H9kXwPr/wE8ZXZi0PU/Dlj8RNHaZwf3F1Af7QRW4A8uWPJHON3NfbWgf8E9vjt4t1Lxl8cf2q/HOka38R/EPhK78L6RBoVtNb6PpVtdKd7kzbppHcnLnbwOma4T49/wDBK74ifF74IfCn4Y/Dbxlp/hrxH4O0tNA1zUx53lXejyxot9FBhCwMm0lNwUZPajEVYz9x+vzsjflejS2Pkf8A4J5+Dtb1b/gpWn7TfitpJNW+LngbUfEHkzcC1sv7Sjhso0HtAqnnOc5r+mlmw/7sAYxk18TaP+ylqWkftg+G/jz4bvLSPwz4c8GP4Ut7Il/tJKzRukiqBsCBI8HnOT0r7ShuIHmSCIfPIMj0OK4sTUfNpsehg6LjBuXdltbC6Mv2mRwobhQe1EqbSIXZeDuY44JqMNNMCgyR25qOCPyf3BOd5xzXLudvITyfaZv32zKgdun1qhFc3N3DtGHKtxjsKvW11bpG0ahpIm+QAHndUYltI3WKPlmO0gcY9q55NjUBIHxkn75GMmooluUmEjANg556VaeJUBl27ecD3PpUb3kF1sjtsgk4Y1UZCcCdLow3TJJ97Gfzp1xcLKPMdd2Og71UinhecmUcIdob39KnQW0ZkMj/AOr5Ix61rOXYmx458c/jP4X+BPwm1z4reLbiO3s9GtXuGMrAAsi5VBk9WbAA7k1+Bv8AwRV+Kfj34QeKvF37Nn7Q+mzeGtb8bXkvjrQLe8wqXWn6ofMKwk43Oh5deq55FftF8ef2TPhb+0h418N+Lvi9c6jeaZ4PulvU0BJhHpt5OpBie8ixmURt8yrnaTjIq1+0V+yL8C/2ptW0HWfizYTx3/hK8iv9KvtNmNpd22wg+Ukyc+S4G106EeldkJQ5VBrU4asKjl7VLRH5G/srv+1HJ/wU8/aNHwTj0RvCEmsab/bz6jLIl4jLYjy/scaDa7YPIYgV61/wSg8R6Ja/sm/FLTvF7RrrH/CU+JH8TSSII5GkdpMCfoSvkgAZ4xXuf7Ffwt8d+D/2zP2lPG/inSLvStE8Ra3pkmkz3EZCXUEFmqNJG5HzbW+Ukda6L42/8EoP2b/jf8U9d+Jja74n8ISeKIYl8Sad4dvhaWOsRx8A3Me0kMy/K7KQSK3nWXwydjhpYWXsk0rn49W0XiOD/g3qu5LiRlsZ9TL6aZBgrYf2y3kbc9V24x7V+k/7bHiP4XWnwo+H+j+LrTx3r3iG/sYYdI03wDNcWsl7L5KArcPEjIsYOMlyAoya9H/4KYfA3UdR/wCCe+qfs+fs7eHjstYtLs9I0mxG7ZbWtzGQqrjJwoyx78k19ia9448bfA34DWmvaH4bv/EWtWGk2yrpOlBftE8vlqmxN5VR833iSMc9ainVbaaOp0Wqb5j8qP2Df2d/DP7D/wASZfiD+1R4k2/Fr4ukw6LoupalJqc+l6XCS4sYbiU5kkyd0xQBQQAK5n9nm+8XWfxf/bY1Dwld3f8Aah1WZrGWBCJIpRpw8tY8D5pFfG04yTitbxj/AME1f2tf2vPEp/a1/aC8SQ+APibo2yb4f6LaSreWuirGxkP9pSAYlkuclZAnCD1r9H/2RfFPx+8Q2mq+HP2hPhjB4F8T6bJGt/qtg0EthrMm3AuYJkw78AEhxlema1qVXbmZxQtZK1j+Zv4e+GfC/wAW/gvoOhftP+JP2hNb10rDc67o8Wlyz2ctzEwcogMJzFuHGSK+uf2ifhp8Cbr4t/sz/tIfDnwN4g8Fa/4i+IcMd2mvvcJeyQpCw8w2ckjRwlioPyqDj2r6Y+HPjz/gpB+y5+0H8X2sPg54p+JPhvxZ4nk1PRtQttUhSJLQoqBYop5coNyk4AA56V7R/wALi/aK+PvxL8GTfG39k7xHG+kaul1ZapfalbSJpkn3DdgRzZOxScjDcdqVeMpQcV2MZYVSsnb7nc/W9p4RctJC4O7IwOcV+AX7R/xO/b4/bZ8f/Hf9gv8AZ5t/Cdl4T0K0t9Kv7zWbmeC7ZtSjL5jVA6Ert6nAr971sn+0iONeZCeffuK/PHxx/wAEsP2Z/HfxX8Q/GjUtZ8X6LrviiSIakdC1drGCdohtQMiKeQOM5rlwlaME+Z2PWxlCc0nE/JH9qr4bftGfDv8Aah+D/wALfg1eaBceJ9B+Fer2N7dak0hsXt4IlScxlPm8wY+QkY9a+kP2ftU1rRP+Df6O2tb57bU4/AmpMk9s+x0kzL9x8gjB5yDmvVvHH/BPLW/An7RmkeOvgraahqHhPw54J1zSLibVtSN3fyX9+S0Sq0h3nPQYGBWr+zZ/wT/8DfGn/gnF8NvgV+13pmr6c2g2ji40+zvpdPmWWR3BinaP/WIVPKng13TndRmtr/oedTg0muW58z6n8RPiD4n1P9ivT9J1mSGa60S8mluLy6cwyTR6UnlNcYOXUSfMc5P41r/s4aJ+0Npf/BYq/l/aE8QaB4r1ST4frJbz6FDLbQxQNc8ArLlmfjk5we1fUtn/AMES/wDgnhFNp2qXekeKL9dH/dWkc/iC7dLdT/DEvHlqRwQmM0vgn4Aax4E/4KsS+NPDfhy4tvA2mfDu30O3v2cvHHPHNlIi7ZZmCdc8msKuIUk1vb/M2lh37SD5bH39+0XcTP8AAjxnHhWDaHfj5hlRm3fg187f8Ey0ni/YL+GUo+ZV0WJUB6ZBb7v+zX1d8V/B1x40+GniDwXpjrFLqmnXNnG0n3FeeNowzY7fNzX5G/BL9nX/AILG/s4/CXRfg94M1j4YX+j+H7UQW0l5LfCYxAnZv2qFzg84FcUKfNTWvVndiJ8ju0Z/7Q37Zfxg+Av7QPx2fTdTlutK8F+A7DV9N0tgGgiv7mV4/NbHzBckFvYVzviv9nT9pjwb+yjqv7T2l/tD+I7vxvJ4am1yQvFbNoYka388wRW4UMqr0RwxOcEg19EL+xp8Z7T4i/EX4+fG4aL4qm8XeBLXR7/QdLZ1F1cwh2ljSSUDEbbtsbE5zjNfiv428d/C7Uf2btV/Zg0j4o/ESS9vLCbS9L+FEulImrQ3ci7I7SW/CFpLSJzneMBkH3sV6fK+Z22PIq1le9tWfT3im1+Pn7Qnxz/ZEfwj4xj8P+J/EXgbUbjVvEDwLPNHBPBbtdNBEcL55JGwngE5r3vQvDPxw+Af7UPif9iPWPjFrHi/wz4r8EXuu2Gp6rFCdU067gfy5URkGxkdWyoPQ19X/CL9hn4geEfiR+z78StVltY4vhb4Im0PU7aRj57XF1BCmYgBtOwxkMSa9P8AHP7IXiDx5+2jaftKQ39rb6Rb+E73w3JAd32pmupFcSoPu4RQR1zmsqVdQ1e+n4M6K1GT95d/wP54Ph34H1Tw3/wTl+AHgr4geJbrWfDPjv4nQQ6nDdRosFtYwXcjC2OzBkWeWMF93dsV/SP+1L8ddU+G3h+38GWHws8QePvD2o6fNBdW+gWontobVE2eVLGSFUMvAwOBXx58Ov8Agln4zb9jLU/2Qvjl4h0+8sLLUpr/AMH6zpKyLeWjLKbq3uJ1cD95HKxBC8Fa3Jfgn/wVj8X+BD8C/Gfi/wAE6LoOoQPZ3XinTWun1OS22bC0NkVVUndepL4BJooxbSbZnGDgnpvb8D89fjN8Y4fFHw7/AGWPiD+xV4CkiWw8V3sWheHNSuxbzb4oZI3jNxIWEYUhiAc46CvSP2yPiT+2b8QPFXwsn/4KA/C+LwN8KdM8U2V9qerWGpQavcQ3isVs0Yx4aCJpSoeT0OK72y/4JiftX/Df9nv4MfD74L+JvDd94t+FOs32pw3OsNL9lniuTIoDlF3GQq+W9D3Ne3+Jf2GP27v2t10vwn+2v458Jab4EstQt9TutJ8KQXEl3qDWriRLd558KsRYAsetbUKltHYiUGrOx+cUd1L8Ev8AgpP8R/2ydJkC6bp/iXSPC+sBM+X9g1Ozj8qcsOMrLtP4133/AAU9vT+018YxeQzGXw/8FL/w+21WISTWNWvYiEPBBaO3XP8AwIV+iPiT/gnRdeLNJ+O/hy+voI7H4tSWsmlJC7brKWyt0iieTK4ysiBgV5xXA+Cv+CYPxC8PfsZR/Abxt4o0/VvHeveJ7PxDrmuoJBFcSWlzG4QHG/5YolReOvNYtwu5JFU6FS3K1bW5+waqZYo7iFCEMahifoOPrWhBEbpDAw27Rx9KrW6wWziMvv2kR9epAx/nNX3mjhbZJ/HxkfyrkxCd1Y9+NMowW2FLg4UnaD7ipnP2aeJFYnPWoS9qkQMr+WFfgetWpptw3XGE2nGetYWaehfIOSFhGY3YbCTkd6QzTlFFsMkZGD6VHDChkdmbftx0PHNSbjZI6yRlHT+tW3NIErEYuWZ40QHPcdqbNmJ9sTbj3X2/Kk06GW2ldrk8oCzDuBVpXiVjv+8FDkf7JrnlK+4cpN9q3WW7DbRx8p5xWatuJMyQ5EfX5j/Wr0zSJOoixuK7gvYj1rzn4m+A0+IvgfUfBd5qF7o0erW7wvdadKIrqNXGC0LEEKwHQ4qocxhOnbWKufza/tl/tKeJ4v8Agp74a/ae8E6dLqvwx+CDDRPFur2eZI7a41UFXUlc5EWFMhXO3vX05/wVy8VeJfG8H7P3i79nsWOt61eeNLOXRo7mTZYXEsqExGWVTwnPUV+tvwj/AGWvgb8G/gav7NngLRI28KTQyi8gvSJptQkuP9fPdyHmWSU5LMenbFfmt+0X+w7p3wzl/Z/+Hv7M3h7VNQ0Dwp49j1m8ja4ku/slodxchnPyQRE4ReiivXVSEppxeyZ5E6U43Uluctr8vxE0P/gqX8B7r9pSKwj1dfB+qvDHp87TWEGtNIocW7uBuYRZAOM4rvp9SsvEv/BbqS80K3FzcWvw4kXW5UOR5hul+y+aR/Ht3bdxzivu/wDac/Y9+B/7XGh2Og/FH+0LC/0yU3ekavpU/wBmv7C4X/lpDMM/ipG0jrWV+y9+x18F/wBkXSNWm8FXep+IvEvil1fWPEevTC51G9aPhEZwAqRr/CicVCxEbaMurRldcsdup+a/7A/iHwzo/wALv2k77xO9/Hpq/ELW3umsFkFwsaxxK3kmL94rj+ErznkV85aJ+yR4T/ad8T6d8dfGkXjnwD+z34KmOsalJ48128nfXmtSGVY9Pmb91ahgGaSTBPQCv0q/4J2fBP4ofCVvi/c+NtKudKk8ReP9Q1TTPtC+Wk9o6RhJ489QxBH4Vz/7SPw+/bR/4KAeItT/AGdNd8P3Pw3+EcVwINe8S6hPG17rNuuC1vpkCFmVZRwZX4A7V0qq7ySZGKpwajJ6HAftYeOfCHxf+Ov7L3xD+G89rfaBfeJXlsriFiIXg+ysqMntgYFfEv7WPjjxPoP7e/jnTvjL4t+LPhvwdHaWbaDF4FtJbm3eYr++d9kUg9OnOa+6fgB8CP2kv2KfHOh/AfQPBX/C2PhLBdNB4d1tRBJqnhsPlmiull58pRws8WDjg+ldN/wUJf8Aa08J/GX4QfFH9m/wj4k8bWXhfUbubXNG8P3LQebFJDtjEyl0jYBzkbsisKUnTfLLqKvC9J2R8C+Hv2Y/2PPiz+zL448Ox+APidqFjpWn6n4jh8S+MBeaT51/PF8+WTyllJKg7WB4Br9c/wDgmZBbxfsDfCeIokQXQLYKqHJKgcZPPJHWvBvEn7YP7cnxI02bw34w/ZM8b3+lajatDcW9xd2ShlcFWiI87gMMjOQeelfdH7OmkWmk/BvQ9Nh8EzfDVLW2WJPDtw4kksQDgRu4ZwT34Y9awxakkp9r/ia5bRjCae+h8sftv/tVftDfAn4g/DP4Wfs02elyaz8Q9XbTJJdYlkhtoVjjaVWZ41ZhkL2Br8vv2xP2Z/j5+z//AME9vi7qnxc1LQ73xn4+8badr0X9kTSzWkbyXNukaSPKquPnQZ46dK/Z79qb9hz4I/tjN4fb4w6hr2mTeGLlruwuNAvjYTxzuu3d5oVz09AD718FftI/8Eo9C0r4G634N/Zj1fxj4x8Uarf6U7R+KPEL3kEcFteRzyyIswjjVginnqeldGFxN3FsjGYd87l0Oe/4Jvf8Loh/bF+Od5+0PLpMnilLDQBcTaG0jWHlLA+xcSgOHAPOeM9OK+f9T+JXjfQ/g/8AtypBrN5EIPEpgtGa/k3QLPZQYEJ3ZjBLcBMDJr76+CH7MXjYftdfH6f4nafqdp4S8a6dpFjBqVsxtxMYoHjmFvOoOHQsPmHQ1NZf8ES/+CdtlbahpOqaf4tvI9WcT6iJvEV0y3TDAV5woAkIAAG7pRCtBSm5aXf6EJVL2hG6Z+dn7f8Ap37VF/8AAL4OXnirxX4duvh1beIPB8FtpscU8mtCb92N89w5MZAkBLdzn1r+l6wuvsFopBDsiAl8cEkelfjZ+2V+wL4X8D/Abwr8Nf2OPCmqXrR+OND1a8Sa8uNRlSC2mG+V2nZisSIAW24AFfsjFZiOD7Nc7TJGgJ2/dIA5/WljXFxUkzpwFO02pI/DX/gsnc6p8GT4K/ab+BNw8HxqtJn0zSbSzhaebVLGVWaeCaFOXihGZQT91hXIT+IPB/wu/wCCJPi7xb8AdUm1i/8AEekXGpa/rfK3dzq14Qt7NMD8ymFiyKp+6or9M/hR+y/remftN67+1z8bL611jWJbVtK8KWcLNNFpWmvxNIQygfaJz94gcLxnnjy3wN/wTzu/h94/+Ifh/wAOX9rL8IPibbyyXfhqRnE9pfTgi4ltTjasUudxXIw3OK3ddPlS0S3MPqr5mpRO8+GPxAi/ZW/Ye8CW/wADfB+r+LNP0nRrFINK8OwCW8mMsSvLPsyu/cxLMxOTnmvxu/aI+O3wK+I/7A37Slj8Kfhjrnw58S213BP4jsdZi8iSS+unjkVhBvdYtwGWxjrmv0L8B/s3/wDBUj9myztfgb+z3r/g/wAT+BIsw6LrXiK4nt9T0yzJOIriCNSLryRwpRhkAZrxy8/4JL/GqP4H/Hr4fXPxItvEPiD4y3ljcxapdq8SR3FuF88yRgMVi3AiNVLHYBnmigkmpTMakE7qK/A5T9pT4tf8FYfFv7Elz4J8Q/BG0tfDWpaDBBqN1Z61bX00GmmFfNnjs+GkkWPLKhIweM1P8K/FOo/ta/ETwL+yL+yl471LwR8K/B/gmy1vWNbsVj/te+SbEEFqnmq6xHcrNIQCQeK+i9W/Zd/4Kw+PPA8Xwi8Z/Ev4daHo1zaLpd1qGm219NqC23l+WzQJIFjMhTOMkYNM1H/gnD4r/Zp1nwb4+/YG1i1j8QeEtDXw5d6brztFaa9aK3mF5pkDeTOJCzq2COcUp1F7NRnp2JjDVct2fNHxl/aj+Ln/AATT+Inif4S6h4m1L4maLd+FptZ8N3WsRxJfW93C6xNbTyxBVkjy4cOVBwCK9E+I37P/AO1f8JP2aJv2sbf44eINX+IunaYNdu9InS2/4R+ZNonkski2BkUJlFlDbiea9ci/4J0fEL9onUvGnxQ/bt1TTf7d8TaG3hvS9J8Ou01votrIwd5TPIq+bcO6qcgAADFYd/8Asl/8FKPHHwsH7J/ivxP4Pg8Ai2TTLvxZBLO2rXFip2mIWJQKtw8Q2s+/ZnkVM6cdFFeprU503pofF/xF/a7+J3xl+JGgaz8avHfiX4O/DDVvC1hqelaj4d09LqO71C4XMyXN4ySLCIWwApA3c81zv7Zvg34vfEr9lH4PanP8bLbxKZPiHpdpYaxosMMgnhluMW9zdBlCpdW+CSikqzdetfp14w/Zq/bG+BnjCK7/AGH9d0TxF4RvNPtNJufCXiyQ21vZC1jWJbi0lRXVg4GZI3UknpXjB/4JS+OtG/Zw1HwPB4r0ez+Id341g8eeZb20iaDZ6hBIrrZwwphhbEAhmABJOcVfLFaIwcJS91XP2H0LSJ/DGi2Wh3OoyarNbQxxSXlwipJOyqA0zKvClzzgcc1qlnaMoBuwTkj0rlvDdr4og0m3Tx7c2smsCBPtjWm77OZcfN5W75tmfu5GcV0cDpbo2cmVcHrwQa8tJ9T6SjDQsxBXjI3YXuDUFxDvO5JAF9O9QaghugSDtZcEgdqkaJbVQ8vzbRkn271jUbbLlEsqIBbCMH72eT6ilggZovNXg5w3+eKSSQ3DCBMLGE8zOO1T+TmFRId6MMgrxxV2stSFFj4J1SZ7UpkE8H1p0kyj5I8cdj1zUKLFuWPT+SqlsnnpTo0mkgdTjzG+YNioUtCuU+0/gyWfwehcYO9v517GxwM1438FDu8FRtu35dsmvZa9/D/AmfH4v+I7iKcjNLSKMDFLWxys/9L+/iiiigAprnCk06o5SQpwKLgj5Q+LVtI/iQzt8/yD5fSvE7m2Ysy2wxkYLHmu7+OfifWbLxS0en6Hql/sZI99rbNIhZh2K54Hc9q8OTxXr3kTibw3rWxJBGdtlKWZyei/LyB3IrwsTO89j67BTSprU6GKwkhdWUbwff8A+vV2SJjayCHLICCMH7p+ma4rV/GGpQrdEeGtdk+zFIyEspW3Mey4B3Y746UXHiDWbE3EY8Na5IsKoSRZyYcuOAmAdxHcDOKzjVk9LHWqq7o66aAiRJHPAGM9RzU095qwjPkzOzDGHDHgenWuKv8AxV4isFmi/wCEZ1hggQnFlK/LfwqQPmYdwOlNi8Q67p5uPt/hbW8IAzMLSVhg9AuF5PqB0rWE0nrcXuvW+vy/zOtmtruVRKWOX5bJyTT1ja0ImK5PY44FclJ4l12wuLiJfDetsIYxJgWUpLBhkBTjDH2HIpB4p8SiQtceF9aiRIhI26zkJAPRRgct7DkVMmm/diaqdtLr7zqZ9727MP8AWFs+grUgbasW8dcAj+tcbP4qvZY/JXw3rTOITMP9ClGAP4fu/e/2evtSv4mv3+zRf8I1rQeWIzHFlKdoH97jhj/dPPtWMovsQ3HujsxYl5yAuznJHqPWqX2EvumRSpUnPOa5geNNdnmtYI/DeuBZozLuaxlAVR2YkcH0B5q7aeMdSnZNvhfW0S4ViubOUY29S3y/KD2zjNSk+qE6v9XRvwxtLG8kvBcbSPpTYXaW5aNR8uMMwriV8e668VuieHNbZrlmCg2EoChepY7eB6E9arQ+MNfJRU8Nawq3JIRvsUvRepORwPc1enVMrm81953MYSOby89+fWtT/RvMBiwx968zg8XXssi3EfhnWlM0vkruspuoGSw+X7n+0eKhHjG/dJUk8N627RzeShWxmwx7lTt5X36VPtPJkbu7a+89RuAmRxj29arJAFPmPwa4FPG+ofYyf+Ef1pVSZYeLGYksfT5ckDuelX5/Ht7DFcOvh3W2WGVYjiwlJZjjlRt5UdyKHLyKUV3X3nYNC8YE68qBimWy5laVT8xUjFcddePdRhEsL+HtZCxYDEWMzcnoBheffHSpT4v1O2k8+HRNXlEKr5mLKXq3YfLyfXHSpab3Q7W2a+862BDJJ+76p94dMCoHtpJt8pGMcLiuP1Txrc2F5Mv9ga0oijEpZLGZg2R90ELy3+yOarS+ONbjDq2g6wcW4uQBZS7sH+EDHLf7PWolB9mJVX5fed5FaASBHyQwGfakjsojJLbohJxwc9K41PHF2tol1N4f1lGeAzE/YZuB6H5eG9utRReM7sLFc/8ACP6y32mIy4WymLAD+8NvB9utEVLazKlLzX3nXyWxiDC4+bZ074pn2W2K+cPmHp61xTeOb/MOzw7rmLgFipsZgFVe7Hbx9D1qHT/Ft5cNbtHoOsbLksU3WMwwAOc5Xj2zjNaNepKqLujpbrT47jCXSfITxzn862I4nitljyduD8vb8BXn9l41uJruMxeH9bzKxWPdYTDJ6EsSvyj64rUi8cXkzJHFoWsO0rmNWFjNgkZz1XAHHXpQrvdGntL2V196N0We4bdpUA9z1qWIzWchmt3KOn93gj8RXKL44u5njz4e1orJIYhmxmU5UZJ5Xhfc1WTxiLht0Ph7XEZ5vJXdYy8n1Hy/d9+nvVX091MzlJ7Lb1R2rQXEjfaJZMbud39Ku/adQtyGkuGZF6KTXBv4xvizRT+HdbkEcywYFhNgue4O3lR3PSoJ/HF5A9z53h/WhHBIIWH2CYkk9dvy/MB6jj3o5mu5Dq+aO+a4+1l7iVydw7cfgfWqCFnbLKUA4GTmuI/4TS90sXMcPhvXHjidQ5+wTHJc4+X5ecZrQvPHCJHctPoOtB7TarbbCcqxboAQvPvjpVXfVMuVdvb80dmiCQgBsdjUrL5cMvlbkDDa+M8j615/P40uoRMZPD+tlraMO2ywmIO7GFHy8n2FTH4j3ts1wl14e1tUhjR2P2CY8N24XlvYc1UZuL0TBVNNWvwOvjgiuoBFZ5wn5j+VThVjCKc7uzA4xj0rh4PGMxu3mg0LW44xD5xLWEwyMcADb+nWqreL74yosmga1l4vOINhN8qYzz8v3j6daJN30Q3VTVrL70epCJ5y1zLKZJOMFzkn8TmqjxQy/vrlsv2x61wb+MZ5LKMroWshihmAFjMWCDrkbeD7VZs/G0tzdwCXQdYCzp5iq1lKCqDu3y8ewPNCqWd9RRemjX3nfWUbRIyJhXwWyeeP896z5raMxmRwJRIMMrAMGB6ggggj6iuSi8cC9ngjt9C1kfaCxTNjMCFXqW+Xj2yeaLrxq1tJFcJomsyJOWCYsZjgL1JAXge5og7XunqSqmtpWaNbTLfTNC099F8PWFrYQytveKzgjt42b1ZYlUFvc1sPdSSRiORAM8fT2rhNN8cyapCk40DWYhPKyIDYzByV6nBXIX36VZXxoGt0Y+HNbk8yUxRkWM2Sw7425x78D3qvavzFTcY7W+87VYY0U4iIYDOQcZpJ7OSaDBfjAP8A9auFT4jzsQG8OayuJfIH+gz435xkfL9336e9SW/j1pkdZPDuthUn8kt9hmALnrjK9B3PSs0/evZmntbO6sdcbExPGVGd56jirrxhlYRLmT+I1w9z45S3uJI10PWD5LiM/wCgzkMx6bcLz746VZvfFV3aQz3kmhasEjwHVLOVmyewAXn6U5pvdBKs+jR048kK3y4Ix+dTyLDJHmMHcOG56elcDL4/gSyuGm0LWs2oUkrp85++eB93r6jtTW8fvbuy/wBhayfJRXYiwnxhugPy9fYZpNvsJVH3X4HowgnlgEMAG5QSWHH4VWjErwKzrtA43D1rg2+IEiTTWsuiawrQoJnP2GfBU9ADt5PsOalfx9eyFtuhax5aQ/aMfYJ/ujs3y8MewoUn1QvatPX8zuorKWImQtu74qw+n3AgF1jCk78d/rXFR+Po5L6JRoetRRyQmbL2E6qi4z82V6nsDyarp8RJ9TliMWiaxsaMsAbCdcKp/i+X5T6ZrKo+yZSqX2a+87ixsRaBpT/q3ORn+dRTxwXFyqo3DcYHXPrXHv4+u7gQ2r6JrIWTLqGsJgAq9zhePaoZ/Hh8y2FpomsO9xkx4sJiFC9d/wAvy/jjNJRb3Q16/iegKlpFnexXbxzz+NQCESwmHG0ZyGFcN/wsSS4t7WZNF1c/aXKrmwmGCCQWYbeF9zU9v4xEsEEiaVqym4kZAFspjkr1J+XhffpWiUuwm7dTrLixZ5C6/dHLY/n2qaOGSJHTqz4rhH+I/wBpkjmj0TV18+XyF/0GbJK8ZwF6e9T3Hj+AXKeRpWrsJJRACthOfn9T8v3ffpSevQcanp9529zYubUBiDjqcfepsLSRxDagLEc8VxE3xFhJkxo+rmOGYQjFlN87nrt+XkDuaafiKLVp5jpGrNsk8k7bGY5kPQL8vPuaaXXUUn0kdrEb+WX/AEpyyD7obkY/kKtokTyYxlz29q87ufibHaq8Uujaq7xkJIFspiNzdAMKasTfEG1sIrmSTSdV32m3eFspjy/YfLyR3pNX3TLTsrJo9AhT7POZCds6n5PZaTZLtE4JEgyd5Oea88f4hQW8t1cSaTqpaCIM5FlPgBumDtwW9hTr74hx2Nt5M+l6oxEazMfsUx2KegJC9T6Ua7akc/p952UK3LgzTku+eBnGavSm72fuiyMozjORz7VxUvj/AE2SQW8mj6tvWAS7jZTABT3Py9fapJPHkFlLHA+l6nnyTMx+ySn5OxPy8ewPWhTt0YPXe33o7SFJJ8hZtvygewPtWdK01nMDGWbHHXp6/nXH23xBsrhQbfStWj8yMzKXsZwNvqfl+X2zTI/FtvcwxXc9hqQR9zc2cythRnO0qDitFVk+5lZfasd4ltMxbfJy+D/+qql4AiMqHDZzk+tchZ/EC1vLSO7t9L1Zg5IQGylUkA4JIK8D3rNuvHUVy9s9rpOrfv3KIGs5h8w6n7v3ffpRF9LDU30aPQoY3FuyE/OSG5PXFOjs31IHccjlsH1FedDxxbXSrHLpmp5ll8rclpKcsO4AXOPU9KnsvHtrHOQdN1VoVbyQRayDe/tx271bv52NKlV8r1Wp2aW5t4mtxlTJ68irHk/ZYfKkBZWbc3J5Pv61xUHxCSaGdzpWpyJA4j/49JMlj2Tjn3rOvviXFFYGWXS9SMaSiJsWkpO89h8vPvUTn5Dc33R6U7K0DRKvD81UtbFjG6u52nsf5VwknxCtY45wum6q3kMsZC2crHcx4AAXJ96vSfEHTrZLlW07UnNqV3qLObO5ugHynJ9hSjFW1RnKr2aOtjs5Z4mkxgoMDnqKnstI0o6h/wAJDHYWY1JV2rd/Zojc9McTbfM/8erj5PiDZW8E1xdabqhWBQWVLOYnLfw/d689OtTQfEiytmJbR9UQ2yCWQG0lxtboAduC3tnNKnUa01CU7pcy1R2MMF9PO/myFtozzUUSyS79x2gcKO/vXHXnxRsNPlupP7N1ImGNZWxZy/dPPUL19qSL4g2Rm+1LpeqK0kXnYks5lwvvleCew6mqnL+VEe1bnurHeywbXMK5KKB36ZrLOUffdDeG+6D2rkJvHlkZVj+w6nvliM5DWcwCoPU7eCewPJpo8eaZeXEVk2nakS8RlG60mXAAzyCoI/GpTdtUbQqWVro7hY4QRNnYCMY68mli04klFYjg+3Nef2PxDshLGp07Uh5yM6E2M+AF67vl49s07TviXZahFDONK1YRXW4ofsUw+51JG3IHoTwa0U2lawp1JOyujs1to41/d53AYJ9/b/P/ANd8sEzRowbAB61xf/CzdMme2gj0rUwtyzIjNZzKTtHJOV6ehp8nxD0qeO3i0+w1OQTuUUCzmJyp+bPy8AevSpVV20QpTb6o7hlabIwPlGQR3/8Ar1BHEJgHmJznp71w6fEfTTdxW0mnaoqyy+TG32Kchj7YXke/Stq1+IenTIJEsNSfbM0KkWU2Sy9cAKcgevT3p8zdmyJzbs9NPM6eKOJZcTLlW6A9aluI0IEbAsue1cFN8T9D89nksdRVo5vIBW0lO6T0A29PU9KrN8UdNuGlWGw1MGKQREpaS53nsPl598Vo2raFqur7r7z0P7IEiXyzjHNNjMssglmPmk9F9Meted3HxKsdNW4hvLHUd1u6oSLOYhmbptO3B684qzP8T9BgjmZrLUhLasquq2UzfM3QDCnPvjpXPOtLojVVX3X3npL2cyTNJHw7jDKeeKoraYkaNpNp9T1+n0rkj8VvD/mSLPZaor20YkmJspzgHoMheW9hzTZfiJogMzQWGol4k8wsbObAUjPPy9fbrWSTveSJc+7R18lpKjCaYkEcKeuRT5LPcdzNuY9j2/z+FcRL8T9Hs32yafqLMIDM2+zmAVPcFcg+mRVKz+KOiMgP2LUD50Rl+a0mACerfKcH0BxmulPTZiUl0aPRPsx8n9zktnHHaqkslxBJ5dqcNjBPcD0rk4vijYFYore0vx5iF1/0SX7o7sdhx+NJf/EvQp5LaBtP1DfcIzqRZTj5V6lvl4/HrWbUraISqLrY62K2luHDSLntnOPxqOWwRRxyAcj2NcnpXxM8PXT27RafqapdEiMPZzjdt6k5Xge5496guvijoZMAs7HUnWaRlx9jn/h6/wAHT36UQjJdB+080dvevPKsUMbHYvAGeQfrSXLSQWxspmL9xuYnGfSvPH+IWkX8aTWen6myvL5Kk2cyjcPTK8j36e9IPiLoskyyta6h/rfJOLOZvn9Pu9Pet3N21EpLuj0SwivIMSW0jordSpxmqPlXIuPMjc5U9fU+9cnP8S9Fk+WK11NSZfIH+hTY3+3ycj3FVo/ihoFu73BtdQZI5TbsfsU+DJ2A+T5ueuM4rCrJ8uqZXPe+p6BJe36PvmdjJ2GaqyF7iTzJQR5g+bPPPrXHRfFDQ4lkuZLDUnEUnlNss5m5PYELyfXHT+S6j8TNAiWW4FrqCi2YCTy7Od8Mei5Ccn2FO91azFGTT3R3LadcQRgyKdmcgnvTJYFdvtMJ+c43AdSK4I/FjQmkuEu7PUwsG0yEWU/G7oB8nJ9QOafe/E3w5piy3gtdR224VpCLKcnD/dAGzk+oHIqY80NkQ5Puj0BZJlhZJMtFniPPQ0ghhDJLO+AeOnQe9ecj4n6ML6QPZamEijWWUCymO0N0H3fve3WtOT4keHpPMhSy1MNHGJSfsM/yqRnn5Ovt19qq76mkJyXVHZtua5K2GVBGCc9qdBEbhWIHyrwR6+1edRfEvR7m6MEVlqIZIfOYfY5s7Mdcbc5PYdan0/4k6X5iILPUIwy+cA9pMMr7nb8rex5qL69R+1ktmjvprKOOISJhdv8ADjpUf2i8kwm/aF6AdvpXBT/E3Rp7uJLWw1CRZFL82swJUeoK8U4/E3RX8q6s7LUFafdhTZTjAXqTlePb1roVV9AVWXSSPQZDbzW5a5Q71+6TVKNQmHT5vb39vSuDHxV8PXNtBdQ2OpyfaHMag2UwOV65G3IHueKq2nxD0e9mjaKz1QCSTYoaynGSOpxszgevSpg7vVMhud90enRWVpOVnkQhxyBnJB9asz27+eJZo+G6eoPrXAJ8T/Dhk8+C01GRfN8kf6HPksOuBs5HuKvL8UdDZ5fN0/UgsUoiyLOflz0x8nI9SOKqoo9hKc11R1iwukZ2LjnHPf3qu8UQ/dMpDnkY6E1yl38UPDTlybTUlEJ2Nts5jlz2GF5/DNVn+JelxzSs1jqKG2IRs2c2CzdAPk5P0oVSWyRqpyfxM7GaKTysSEB+x/xqpG+D9nuiQ7d+ua465+Knh6RbmO9s9QC2ZHmn7JMBuboqnbyfXHSmD4kaTa3M8v2LUWW3RXP+hzYAboA23r7DNEvLclya2aPR3giEBa5+ctx9RVaGxneNvLbg/wAq4tviTpavJ59pfKI4xK+60m+VW6fw9fbrWzF8QNJhXy/sWobEh+0OwtJsbD052/e/2etKLdtUTGXmjbSNkkVzyP4s+1OZ45m8on5T39q4uX4neH5JPsyWepBXh+0MTaSjCf8AfPX261Vj+IehxkpBaakytD9oGbOXhB7bcg+3WovrsPmfdHcJZKpZVfBXj6ipWs5ljVgDhRXJ2Hj7SZRE/wBkvsSxGZWNpKDtHcgrx+NQwfE3SWiglltb+UXAZl22sv8AD6/LxgetaSd+gSqN9UdnCj7GZ+N36VpWm2BPLlUsr8A5rgbT4j6DeC3C2d+Fuy3l7rWQA7OpPy8Crlv8SdDdIpILW/fznKRn7LJgbev8PTjrWMo+RmqjXb7z74+CY/4pILGfkWRgO1e1qcjNeDfs+69p/iXwBHqWmrIiGV1KyxtG+4HnKsAa93Xd1Ne9h/gSPksXK82x9FFFbHKf/9P+/iiiigBCMjFIyhhg06igCqYGPGeKURenBqx9aWhsdyqImVcHBHU8UhTIIPf0q3RQFyiYQfvEmnKjE/Ng546VcpCSOgzTHcqGBhyT160CM54P6VbBJ6jFLSDmKhjJ4bk+lDR7+T2q3RQDkU2Qkgg4xTvJ3A5OMjtVqigV+xUMRHyg4GMUwQOcENgVeooBspi2zyDgUwWu35dw56cdKv0mBnNMOZlVbbGB6UGAHk8k+lW6KQXZAIex5FQ/Zir7x361dooC7K/kKeehzmka33NmrNFAczKvkYAGfzpBEx4Jq3RQPnZW8gEYDdaUQBQcc/WrFV2uEjkEb8Z6UBzMXygTuyRTWiwABxj04pv2qMfe65xUpnTJ54ouJqxGISecmk8gqMA0PdQL827gUC8gYgBhycUXBaDjHjhjmgw9CT09qlVwxwOa87+Injq38BaSus3tvc3cbXENvstIzLIDO4jDFQM7VJyx7DmnYq7eh3ywk5yTzUgiyPmNedeBfil4S8f3+saV4cuhcTaBeNp96MEeXcoqsyc9cBh0r0IXUDMQGHy9eaS12JuO8nC4H500QjZ8pxzmkF3btwGHpUTX0Cp8rc07hqSCIuME9KHhLDZmvDta/aD8EaT/AMJNb2JuNSvPCUkEWoWlpE0kyNcqskYVQPmyjhjjoK9os9ThvLOG8TK+aobaRgjIzz6GkiuZlkwsBnJpVh5LYGT39qcJoyMbuaal3byZww4OKdhXDYVYnOQeaX7MOme+aYL23ZsK3Hr2q0pDAY70rBzsgNsOu7pTymBipqKBczKvk4Oc5JpnlEHGau0hAPFNDU2VlhB70nkktuPGKt0hyOlIHIiVCABn60nlqFwxyBUwJPUUEA9aBXIxGo6UGLJySeKlooEVDEzck/nSiBsAg9DVhmK06grmZWNuuc5xzmgxRggL19v881YIB4NAAHShski8lQcj6UjRZJHrxU9FBXMyukahs5/ClMQ3FgOtT4HWigVyBodxDdCKNgUc0CdCxXOMCkW5iYZB6Ux3YiQqqjsKPIXbnNWOoqF5Y4/lbkjtRYV2RmIuM5/+vQkDq2GPH0pzXMSELuAJrE8ReJ9J8MaBe+JNXmENpYQyXE0h5CxxKWZjjnAANIfMzbMS/dHHc05IggwTn3rxbSfjFpXiDxTp/hnSba7mXVNN/tSG9SFvsnk7ggVpsbRI2dyp1K84r2WKZNmJGBPrRcnmFa3AHBNNjiPQnn1qZbiFvusKinuBHGxUgladilJjhH/CDSeTkY/z+NcL4a+I3hjxT4h1jwvo90Jr3QJo4L5MEeXJIgkUZ75RgfxrvFnjIPPTrQHOxhiAOSOtP8neuCSPxpDdQBNxYYoFzDypYce9JDcmNEW04Bz255pwjLLsBxipo5FkGVp9AudlbyMqAzE4p/lA4yeKmooDmZAsKLnA60yWPHPcVappUN1oQrlAESN5bcMOTVhYBgYJp5hXcXHepFJPWm7dB8xA1uG7mj7OMbc8VZopBzsriADg00W4XgEnvVqigOdlV4CcgUn2cEhcnA9Kt0UBzsrPGT8tBtxknJqzTQTnpQDmyv5WefSnhT3FSkn0pR09KLIXMVjGRwOKXyBnPQen+TVmilYrnZV+z/KVBIzThANoU9qsUUuUXOyEwhgQT1qNbZVwSc45zU5Y5wKHbapb0qg52VzaozFmOcjFOMO0YXvSrcQuAUIOamUk8mgfOyDyAozuNAiHoCKkaVFbaxxUf2mLnaw44607C52J5CNk+vb3o+zxLyAAPpTWubcjAZemeteK+J/jz4K8P2/iI+ZPfT+FvK+3WtlE81wnngMgEagliVIOBnikylOR7QLZFfIGc9ae9spADYIHqKo6VqUd9p8N+dyLOqsqvww3DIBHY+1aRnTIG4dM0WFzsYlpEgwoAHoBT/LQncePWlE0Z53CuJ134ieFfDGv6R4Z1u6SG+12R4bKI5JleNC7AYB6KM0xJs7IwIXyB9aRbZFYMF/KkiuomAYsAG6c083UIbhhStcHdEa2qpkjjJzTmjDdKkW4jddysKkVgeO4ot3FzMrCBduAOn5Un2WM8kAj6VdoosivaMpm1TJKrjNO8iNRwKtUUB7RlX7PGx3FRx7c1HNZxSjDqD9RV6ihoFNlZbWJYxGqgY9BSeQoTZtq1RUqCFzspi0iXouaPIUDkDH0q1k+lOpuKY1NooC1iHO0ZznoKVrUHA9+1XqQkjoM0cqG6jKK2qA5YZxUjW6f6sAY9xxVodPSlpi9oyi1lGzB8AH6dv1qT7OOo5q1RQJzZWMQbIA25pi2uDknNWySOgzQCfSgXMyBoVc7hxR5WWqxRQNSYxIwnSn0mOc0tBIUUUUAf//U/v4ooooAKKKKACiiigAooooAKKKKACiiigAooooAKKKKACiiigAooooAKKKKACiiigAooooAKKKKAGk9B1r4d/bXvPi+bLwR4U+DPiEeGb7xB4ihsLq9MKzstoYZXlCI3G8hRtPQNgnjivuHb82a8G+Mfwv1j4h+JfBusaZcLCnhvWBqMytkb4xC8ZUYHXL5pSWg0fGWt+APGn7K/wAQtA1Pw74417xDp3iqS6sNQs9amjulW4S1eeO6t2WNDEQYyGQZU5HAxXvf7PPjzxZ4x/Y00b4leIb97jWbnQXupbplUMZhGx3kL8vBAOK9G+L3wn1D4j+IPCWowSokOhajLd3Mb5zJHJbSW5C+/wC8zXwjafBX9vDwD8ItS/ZZ+HP/AAjy6F5FxY6V4pnnk+0WljMGCCSwCfPPGrbQQ+0kbiR0pOLvcrscd8OE+Mn7TfibwP4V8U+PNU0nQ7rwLbarqkWl+XBdXl3NMVSTz9rNEABlgo5J7YNQ/Dj4W/Gv4oaP8SJfFXxT1+P/AIVxrN9p3h/7EYYWZbKISRyX58tvtLknawIQYHTJzX1n+zL+yz4x+CN14YufEepxajJofg6x8OTSopDTT2rszTDPG1s9OtejfDT4Aax4E0/4kWV1eRuPG+rX+pQFc/uheRLGFb3BGeKhRa5Wym0ejfs++MtW+I/wa8M+N9dK/bdT0+C4m2DCl2QbiBz1PPWvOP2x/FPiPwd8J49Z8KXj2N2+saTbmSPG7y5r2JJF57MpIPsag+GXjX4T/s6/D7Qfg7448W6ZFqeg2MNrMJZ1idiq43bXIIB61i/GGfwT+1F4OPgb4WeJNOvb221DTtQZYp1kxFaXUcz5CZI3BCB710PR3Cm/eR+XWjeM7X9lzRPi/rtn4q1a0uPFnxIbRvt92TeixM0CSvNBCkeS4QEKMEZ254HPpPgX44/DD4c/ETw1/wAKX8c+K/FkmvX8Njq2m61DcXCTLOcG6idoIxbtG2CwXCFc8AivprU/2MPiBdR+N10zWbezudT8TxeLvDt8FZntb5I0Vo54+hibayNtJJRzxkDPpPhPSP20vG3jHRW+J0ej+FtG0pjLf/2XdPezalIFKqi740EMJJ3NnLnAFZUo2ViIrufN/wCzFovxz8b/AAx1b9pD4meO55taguNZtdHs3ZLfSLW3iuJYoZLtFGZnRVBZiwAHGO9fJfxI+M3gL4UeDrz4zfDT4xeLfGnjXTjBNdQwIb3R7vEirLEbeOARQQkEgOsoK8Ek4r9LLX9krxPB+x/qP7OkuqxR315PdTC5VSYT51410sci9TG4IjkHOVJrx74ofBP9uH48fBTUPgVJb+GPhxps1ols9zp8r3rXHlspEcMXlRJBG4XBLZYA8DNTSi1uNNHzPaeG9V+G3iH9pD43eGtf1qLW9QuvD77ZrsSwQefBasfJjCjaQrlMn+Hjmvqbwt4D8V/tpeIvEfiTxN4017wzoHhvVJdH0yx0C4SyaSWyASe5uJdjtIWkztThQByDmtTxB+xp8UNTm+JGlW+pWP8AZ3jyHRpUY7xLBdadFDDIjDbtaNlhDKwIOTgjit5fg3+03+z9468Q6z+ztbaR4k0DxbP/AGjNpuqXL2T2GpOirNJFIscgkgmZd7KcMrE4yCMXSVo2fd/mOVrHzp4s8Z/tL6hquhfs1eHvG82mavpnjB9Fv9ee2jee80o2Bu422fcWfYwXfjbvG4rjivZf+FdeNf2VPir4Z0zwH4w13xTZ+MxfWk+n+IblbsC9ht2ngnhmCI0QYrtdOUwRgDHPYeAv2Q/Hmm694c+JPjnWre/8Sr4hufEWtywIywvJPam1jgtwfmCQptRSwyQuTgmvdvjh8Ede+Kut+GNY0fUzpMmgTXkomRcyq1zavbo8fGN0ZbdzwcVcd/l+r/4BV1dH5neEZtN1W9g1TxT8T/E3hD4u/bVMtjrspt9Le43DfZxWrRLDJbso2o8bFsHduJr9yNLE62EK3O0ybF3lclS2BnGe2elfl74m+Hf7cPxN8BSfAf4m6D4WvLK4jNrceJ3unkPkjgXEdi0O9LrGGADhVfkNgV+mHhbQx4d8P2WhrK8ws4Y4Q8hyzeWoXcfc4yahGTZ0dFFFMQUUZHSigAooooAKKKKACiiigAooooAKKKKACiiigBCAetIxwKdURdl6jNMD89P2wJfjdrPxR+GHwr+Eviw+E7PxNf36azcxQpPO1pBbCQRwb8qkhbo5BAGTisnwb4X8Tfs0/tGeGfhva+MNZ8TaH42tLwtb63Il1LbXViI3MkUyohCSK+DGQQCMgjpX0V8TPg5r3jX40fD/AOJdlcxxWvhCW/lniYHfKLyBYVC44+XGTmsz4ufDZbv4y+Cfjbf6jb6fpngyLUReeeSuVu44lDBug2lOc+tS0B9Tu7Rpkc4Ffjl8af2ifhv42/aI8UfDX4kePNY8J6L4NeG1Fho6yRTXd1NCszTS3CRSHYquqqi45BJzX6Px/tJ/s/XQLx+MNIcIMsRdxHH1+avmbxT4F+N3gj4oal8cP2W7TSvFWkeM0gk1PTLu6+y/6RFH5aXdtcbXQhkCq6HHQEEnNCQI+SbP49/EPxF8OPEXw/8AAur+INf8P+HdUs4rrxNbWjf2qukXUTO/lBogJJoHAR5EQkId2M03xXpGheMPg348svg78U9V1jwve+Fr/wDtCzvLwPqllOkRMc0DtEsiq4ysiMMdMYr65vvhv+2tH4Wi8e23iLTpPF0OpPfDQiWXSzZvF5f2D7Rs8wspAkExX7+RgCvP9e/Z++PX7RXim58SfFbQtJ8CrBo9/pdubG5F7d3b38BjLXMkaKvkxnlVJZiecCrpu0kzWLV0fPumeKviL8G/C2keAfA3ia+caf8ACOfUrV79lnIvVlVYbiQ7VLsmQMf3Rit74m+Cf2hfhn4e+GHiPw78VNUm17x9qdjouuzXUUUloYruB5ZZrK3CqLeVSmIzuYc/MDXt/wDwx98Utbt7O58TXtjDeReA5fCUvkNI0XntKHWZSyhtm0cjGcn8a+iviX8B9X8daR8O9MtZ4o28GaxZalK0mfnW1hkiZU4+8d/GccVyz5ry5e7Jl1Pm/S9M+IvwG+L+u/CTw540utV0/U/C7axZz+I5Vm+w3kUpheQyqqHymBDFCMAg4IBr5F+JXxt8GfCTwy3xO+HXxd8U+L/Fum3MD3kEcJvNLug0qJNE0McCpDFgna4cbeMk1+hX7UX7Kvif44eJbzXdD1KCyE+gf2XHFKrlXmW8S6VZtvWFwmxwOcMeK8K+JPwe/bq/aC+E158HdWsvDvw200rDE8mnztfSXKwSK/lxqscaQxSBcEnLAHG2utQTasO6seEaXf698IfH3xh8YeA9b1M+IvGnirR9FshqEwuLS0nv7WFjOkW0f6qPdtGcEKFr6t8ZfDDxz+yz4csPjNo/j3XfEX2K6tY9ctdYljngvILmVYneJFRPIdHcMoU4xwR3qTWf2OPH/iK98dWcuq21lD4jvNL1rSb2IO09jqmnQxR/PGRtaImEdGyVZhgHrLqnw2/bB+PF1pXgP432ei+HfDGnX1td6jPp1091Nqv2RxJHFHGUQQxu6q77yTgbQO9Q00O6ZxPwa0v49fF648d/F/V/Ft1evoGt6xZeGNEttlvabYC0cQvcKWmbcOPmVRxnNed/DC703Ude0/UdG+JniHS/ick8J1LSPEz+VZXLEjz7dbVo1VVxnymhbOcckV9ufD79n7xp4D+FHjLwBZayLC/8Rarqmo2d/aJk2v22UyRHawAYoSMjoea+f/Fvw9/bJ+N+i2/wZ+L3hfw9bacjxfafE0F6ZpNsLKyy2lsYhLHOxXOWYBPU1MU/tGR+nmnFvs4BO49yOlaNZGkWRsNOhsmYvsQLuPU7RjJ9616oAooooAKKKKACiiigAooooAKKKKACiiigAooooAKKKKACiiigAoopvzU0gFAxXl3xq1XVtD+EniXVtDl8i+ttNuZbeTGdkqxsUOO+GwcV6lXEfEjw5deMPAer+FbKRYpdRtJbdHbkKZFKgkD0zSGj8m9K+Avx1sf2dLL9pXxX8V9fuvHllo66qyQNFFo7FIxKbc2Ww5jZflLF9/OQR0r9Yvh14guPFXgTR/Ec6qsl/Zw3DBegaRAxxn0Jryy6+FGq3P7PMnweE6G8fRv7N88g7N/k+Xux1xms3RPjF8Gfg94d0/4e+NPFml2V/o1rDbXEc1zHGysiAfdY5Gcd6DV2seM/t/fH5fgZ4F0O1XWW8Oy+KdTj0v8AtJLd7p7aIq0srxxIrEybEKoSpAJBIwK+I/hz8a/hp8LfiNoMHwI8eeKfGI8R3Ysb/TNfjuLpS8ynbdxSvDH5OxwN4B2bTwBjn9Bfiovgz9qXw/bz/Avxbp8viPwtexanp91BIs8cc6Bl8udUJPlTIzI+OQDkdMVz/hbS/wBtH4i+IoIfinFpHgrQ7OKdJBpFy19dX0rqUjcM8UawRoTvAOWJABAFVZvUzbPh+0uLPXdYbVfHPxL8SeBvi3FcGOG21WQ2+jPIsh8uGK3aPyJ7aQYG9WLkH7wNY58OeKfhf46/aI+LWi+KtVGsu+iqYvPWS0gkkghLtbpsBAJJCkk/Kce9fU3iz4dftt+KfBEv7P3inQfDXiDR7m3a0bxNe3beYITwJpLHyd32gLyNjbdwzkUy5/Yp8f6ZpHjfwX4f1S3utL8W2OlqtxdPJ9pjudOSOFvM+U5SRIw24HO49O9EruSZKOG0P4b/ABn+P3xP+Juo+I/iTrWjaP4WvbeHQrDSDFb+TKtjFM0lw7I5nBkbhOFxnPtwHhnT/wBoPR/2edD/AGz/ABj8SNU1PxMk1s9xpdusUOjS2kl0sLQC12F9xQ583zN27kDHFfpJ8Kvgxr3gXVfHF/qM8UyeJ7tbm3VQcxqtrHAQ5PfKE8Z4NeYax+zT4ouf2R7b9nq1u7c38Ytx5zhjDiG5Wc443fdXA461PK1v/XY0+yz5a+OfiDwBqvxM1BPjX8X9Y0K4ieN9I8P+FZ9skEewFZLpY4ZZJZXbPyNhcYGDXzP4X1/Xf2gPGfwa8feNPE3iGKXwr4j1+xDqn9nSXsVjDJskvLV48h3QDdgKCM8DNfeng/4SftZ/BO/1nwx8KNI8OarZ65fz3417ULqWC6ia4bdtuIVhdpvKztTEgBUAfLXEfDv9i74+eC/+Ec1rxL4gsfE2p6X4t1TWL6V0e2FxZ6qjI6oqqwV4t3yqcggfeBqmuxC0Jvhz8EfiB+1n4Rg/aT1n4keI/D2oX5ln0Kx0e4jg0+ztwxEHnQNG/wBoZgoaTecHJC4rz/RfHf7Q37R3xW8GfDWLxlL4Y019I1VfEh06KMXNzcWF2LYPbSSBhDvIJJw2AePUe6aD8LP2y/gXol18JfgnFoWs+HJZpm0u/wBTuZbe40uCdi/lSwJE4uBEWIjKsuRgEDGa7/4L/sk6l8KPiH4Z8TxamNQi0PQrrT7uaQETXN1eTi4knx0Cls8ZyOKlLQqTPlT4l6Lpq/FHUfCX7RXjbxd4TsdOEcPhq9sJ5LaweFUH7+e6WNkluS/31lIXH8OK/TD9npPFMfww0yPxhrlt4kvUiK/2pafcu4wx8uU4+XeUxu28bs4r5v8AFNh+2t4H8Wa3a+DNJ0Xx94a1e4aa0XUrw2FxYo4w0MimKRJol6qVO7HBFe9/syfCfVPg78NIvDGuywvfSzz3c8dopS0hkuJGkMVsrcrEm7Cjj1xVyWpB9EjOOaWiioAKKKDntQAUUc5ooAKKKKACiiigAooooAKKKKACiiigAooooAKKKKACiiigAooooA//1f7+KKKKACiiigAooooAKKKKACiiigAooooAKKKKACiiigAooooAKKKKACiiigAooooAKKKKACkJwM0tZWq6nb6VaS310rMkKFzsBJIAzgAdT6UDSuaSsxNNZiQVXrXz5b/tGeEbyS2tVsNUR7pGcbrKYBFUZy5K4XjpmmWv7Rng248gLY6r/pJfaTYzgBU6s3y8A9ietLnRt9Wqdj6IU5XPpSYUY3V882/7RPg+6ktlFlqoNyzKu6ynXATqzZX5V9CetQw/tG+DLuOJobHVS1xKyIpspwSqdW+793/ao549wWGqdj6NYgLnHTpTThlwTnjmvnpP2jPCMqRvHp2rnzJfKQCwuMnBxuxt+7/tdKG/aN8HFUkSw1YrJP8AZ1xYz5Zu7Abfuj+9jFL2sVuw+rVOx32t/CD4XeJtROseIvDelajdOAHnurKCWRscDLOhJx9at+Hvhf8ADnwjdtfeEtC07SpZBtd7O0ht2ZfQtGqkj2NeYw/tKeEZ4Hkh0rWcrN5Cg6fcAu395fl5X/a6Ulx+0p4Lt45pksNWdYplgG2wuG3u39zCfMB3I4FKOIg3ox/VqnY+jMgcelG7rXzhd/tF+EbcXLDTtYb7K6RttsLhgzP2TCfNjvjpUl1+0d4KsI7ySSx1VxYmMOVsZ23NJ0VMJ8zDPIHTvQ60FuyVh6n8p9FNs+6wpx2kYbmvnWf9o7wYs08IsdWYWyqzMthcEEtjCqQnzN6gHij/AIaL8ExiZjaari3RZHP2G4ON/RQNnLeq8kU1Ui+pX1ap2PoreMUEgj3r55P7QXhKKQxmx1ZsQ+cx+w3Hy+in5Pvf7PX2pbf9oDwrcXC2y2OrB2iMx3WE6hAOzErgMey9afOu5P1ep2PoUc/MaXjG4CvnqL9o3wjJcQ276dq6GSJp2zp9xhFXP3zs+UnHAOCaZZ/tHeEr0QOdN1aIXCu/72wuEKqnUsCny+2etSqkejH9Xn2PoU4U7h3p+8V8+QftD+FLu0try307Vmju2YAf2fcBlC5+ZgUyq8cE4BqKL9onwnNDbummayBcOUG7T7gHA6ucpwv+0eKrmXcFh59j6I3r1o3jODXzxF+0T4OeWO3Sw1bzJpzAi/YLjJI6t9z7v+10pX/aI8JYG7TdYjLXH2VQ2n3A3tnll+TlB/f6UnOK6jeGqdj6ELLnNBf0/wA/pXzy37RXg9Y3nFlqrBLgWwAsbglm7lQE5Ud2HFPuP2hvCdtLPEdP1ZjBKseBp9wdxbuuE+YDuRwO9L2sO4fVp9j6FVt3SlyDXzzeftIeC7Jp0lsdWZoJFjwlhcNvZjj5CE+bHfHTvTbj9onwtbPd7tN1g/ZNoJXT7jDlhnEfyfPjvtzihVYvZi+rVP5T6IIBoGOnpXzvP+0d4MtftIms9VAtY1diNPuWGXxhFwnzNzyo5HpSzftF+E4luWaw1cCzhEzkafcncG6BcJ8zf7I59qfPHqxfV59j6Ior5vb9pDwXCssj2Wr4jhWY50+54DdF+597/Z61Zj/aJ8JyyCL7BqyFoPtGW0+4UBR2OU4b/Z6n0o9pF6pjWGqdj6F3rS7gK+dv+GjPBqlFmsdWQvbtcndp9wNqKcYb5OGPZTyfSnn9oPwi3k5sdWAmha4z9guMKi/3js+Vj2U8nsKl1YdxvDT7H0ISSMYpFYAmvnO3/aU8FyPZxfY9VV72N5URtPuAVVOu/KDZnsG61NB+0V4QupLWOOx1Ufa1criwuPlCZyX+T5AccbsZ7UKtB63F9Xn2PorNN3rXzpbftE+CLg26i31RWuXeMbrG4Xb5YyS+UG1fQng0+H9ozwVLDDMlpqhWaUxBjYXAAx/Efk4X0Y8H1pqtDuH1ap2PonIxmk3rXz2n7R3giWOJ1s9VAmnMCg6fcclerfc4T0bp71Tk/aQ8EQkO1pqpZrj7OirYXBJb+8Bt+4O7dPenzruP6tPsfRp4JGaxdX0LSfENnNpmu20V5aXA2SQzoskbqeoZGBBH1rx4/tA+DXjeVbbU8RziD/jxnyWPcDbyv+0OKqT/ALSPga2+0gWupu1rKIcLY3DF3PZPk+YDuRnFNVF3E8NPsaLfsv8A7Oedw8B+HFz1/wCJXacj6+XmvY9H0jStA06LR9Gt47S1t1CRQwoI40UdFVVAAHsBXil1+0J4Nso7iWa01PbblV4srhizNjhAE+bGecZx3qjc/tM/DuzS4aSHUc223cBY3BJLHAUDZyfYdKfOP6tPsfRpPzZBpFbcea+ep/2h/BVslw91a6mi28azMTYz9G6AYTlj/dHI9KdL+0T4IgMm6DUQkUC3DN9huCNp6AHZy3+z1pOpFbsX1efY+gwCvHWjGeCMivn4/tFeDVl8t7TVF2widibGcBQ3QE7PvH+71qJP2jvAshQG31JC0LTnNjP8qr2PycE9l6ntUPEQ7i+rz6o+iSAaawDD1r53/wCGjfBJKbrXUw0kDXGDYXAIRfX5OD6Dr7VNaftEeB7v7M0VvqSi6jaRd9lOMKvUtlBt9s9aarR7lLDT7H0HkHFLnk+1fPFt+0Z4J1CCKWzttTxOW27rG4BATOWYFOB6E9aqWn7Sfge8S1mjttV23krRR7rC4ByvViCnyr7nApOrFbsX1ef8p9IAgnb2oJVhg8187f8ADRfgYPCiW+pt9omMKkWNxjI7k7OF9+lWU/aH8EZXy7fUWL3H2Zf9Cn5fGc/c+7/tdPej2se5X1af8p9AbsAU4MDXzrL+0b4GQM6QajIPtAtcpZXBG8+mE+6O7dPeopf2kfAls86TQakPs8qwf8eNwQzt/d+T5gO5HFWpIl4efY+jycUhYDrXz5c/tGeBbWK5laHUWFtIkTbbK4OWfptwnPuRnFRTftF+BIp7m1MOolrbbuK2VwVJbspCfMfXHTvTbXcn2E+x9EFgKbvAr58k/aL8BRG4QxajutVUuBZTsct0UYXk+w6d6ZcftHeA7OWWK4h1EGCNZXxZTkYboBhOW9QORUOrFbspYaf8p9D7ulG7kDFfPN1+0R4BtTL5qagfKjErFbOcgBug+719utLcftDeBrRiJo9QUpB9obNlOcL2Bwn3v9nOafPHuDw8/wCU+hycUgYYBr58b9ojwI2xWW/TdB9oObOcbU68/JwT2B59qmtP2gPBF0se2LUFEkJm+a0mGF5+9leCccA80c8e4vq8+x755g/z/wDqpVbNfO1v+0N4EuTbqsWoL9pRpFLWc64VepbKDb+PWnwftDeBJ0geKPUCLgOV/wBDn4VOrH5OOnGevajnRX1afSJ9Dk47U3eOnSvnvTv2iPAeoNbJGl+PtZYJus51xt4JbKfKPc4pbb9oPwJdyRRwpqBM8jRKfsU/VM5JOzgccE8GnddxfVp9j6FzSZzXzqv7R/w9KwYGoFriUwov2OfO5eCT8nC/7R4pqftJ/D24CGBb9t832cYs5+WHU52cKPXpQ5JdQ+rVOx9Fs+OlHmD/AD/+qvnJ/wBpP4ciEzkX5zOLZVFnPln74G3p79PepJ/2jPh7DJIM3v7mUQnFpOcsfTCnOO5qfaLuP6tU7H0WDmkJ9q+dZf2j/h3DHcTbr5lt5BG2LSc5Y9lwvze+OlRSftMfDSNJmLXxMGAwFnOeW6AfJyfpT513F9Xn2Po7fjrRvx/n/wCtXz9P+0R4Ct2mE4vcW4UyEWkxxv6D7vJ57dKin/aK+HdvJNHI95m3gE74tZjhWOAOE5Y+g59qn2se43h59j6GLY7UcEgivnsftG/DuFJC/wBuBih89w1pONqnpn5ep9OtN/4aO+G4mEDS3SyNAbkqbabIjHfG3r7dapVEL6tO3wn0NjOcjp2ry3Wfgl8I/EuqSa34i8L6RqF1Ny81zY28sjH1LuhY/jXFRftJfDiWeGENegzRGfJtJwFQDPzEpwT6HmqyftN/DKRoI1e9JuY2lQfY587E6k/Jx7Z61SmhfV6n8p6p4Z+GfgXwY8p8IaNYaSJ/9b9itYrcvjpuMarnHvXdqgRQo7V842v7Tfw0uBbeW1+DeBmjVrOcHanUn5PlH1qS3/aT+G12LbypLwfbC6x5tJwfk6scp8q+5xS9pHuL2E/5T6N70zhz7V81L+1F8MGSOSOS9IlkaJP9DnySv3j9z7o9atw/tL/DG5jR4JLxhJL5KH7LOAzDrj5Onv0p8yXUPYT7H0V91c4xSBl6V82QftQfDGWdkWS8O2f7OP8ARJ/mc+nydB69PerE37Tfwvht3uJJ7hQtwLbItpjukPYfJz9envUuqi1hp9UfRjfKvrUccmeJBg187H9pj4ZJvIlu5Nkgh+W1mOXPYfJz9RxUcv7THwviaR5JbvbG4iJFrMfnbovCdaPaIlYef8p9JYGdy04dK+arz9pj4YWEs8Mst7m3Kq2LScjc/QAhDk8846d6mk/aW+GqfaFaW6U2hVZP9FmPL9APl+Y/TNDqLuNYap2Po/HTFBIBwa+dZ/2kPhtam4eWW722iq0pFpMdu7lRwvJPoKrzftNfDCNpllnulMEYmkJtZ8KD0GdnX260vaR6sPq1T+U+k6K+dE/aQ+GkUzRyT3I2QfaGP2abhD0/g6n0604/tH/DYzx2pmug8tubof6LN/qx3J28H260OpHuL6vPqj6GLijccZxXzvD+0j8NbkxtDLdHzIzKAbWYEIvVjladF+0d8OJ3thFNdE3UZlQG1mBCL1LAr8v41KrRfUf1efY+hN5HWneYP8//AKq+dIf2k/hndeUsE10xmztH2WYcL1PKcCm2/wC0r8NrgQyQteMtxIY0/wBFm5K8E428D3NaOUe4lh5vofR24c0b1r5tj/ac+F0pt9txdD7RK0KZtZhudeuPl6D16VIP2mvhc65SW7z5wgH+izcufT5OR79Pep9pHuU8LU6RPpCkJxXztL+0Z8N4XcPcXICS+SSbeXG89gNvP8qhvP2l/hjYQXF1PPdFbeUQMBazZMh7KNvP1HFPnXclYefY+ji2KTzOP8/4V83z/tMfC+2Fw8tzdBbYor5tpurjIH3eT646UTftO/C6287zpLzFsAZCLScj5ugBC8n6UvaLuP6tU/lPpDJ64pN/+f8AIr5yn/aU+GsNrLcvcXIWAB3/ANGm43dB93k/SpJf2jfhzbCSaWW6KwxLM5W2mO0N0H3ep9KftF3D6tU7H0WCT1FG8E4r5wf9pX4bQu8U090rRQi4fNrNwh9fl6+3WpR+0h8N2C7ZbohoPtBP2WbCx+p+XqfTrRzx7h9Wqdj6L3DGablvSvneP9pH4bRyxQzTXQMsBuQDbTcRjufl4+nWmWn7Svwy1BoTay3ZE6s6/wCjTABE6k5XijnXcX1ea3R9FB/X/P6U8nAzXzgn7SPw3lEH7y7H2rc0ebaUZVOrH5eB9aSL9pb4ZTRWsqTXZW8dkjzazZO3qT8vA9zTUk+o3h59In0gDkZFLXD+BPHWg/EHRR4g8OO72xdkDSI0ZJQ4PDgGu3B3DIqmYtW3FooopCP/1v7+KKKKACiiigAooooAKKKKACiiigAooooAKKKKACiiigAooooAKKKKACiiigAooooAKKKKACoZYhKMHjHSpqKBplNrZmA+Y/nQtvgAMxz9at55xXm/jb4l+HvAeraDpGuuyTeIr7+z7QKpOZvLeXk9htQ80wSO7+yAfxH6mlW1wdzsTkc8057qH1z/APWppu4DncfxqbLsFhWtQ3RiPfNMFnt4DMfqaI7yIkIp3e9Sm7gGcsOPf0ppW2ERta8fMx9uaEtuOHI5z1rP1rXrXR9IudZZHmS2iaUpEpd2CgthFHJY44A6msbwT42s/HHg/T/GNra3FlHqNulwsF3G0M8YcA7ZI2wysOhB5FNzGlfQ6hbLYflY8n1NI1krdWP1zUi3kJVcHr0zTDd26/MT7UJgoi/Y1xgO2PrSi0OCN5qxG6sMimSTBFyAT9KTsIjezDjBY+3NM+xsT944HvSi9gZQxOBXFfED4oeDfhnosev+MbxbK0lubezWVwdvnXUqwwrwDyzsB+NGiGjuEt9hypP09KPsiYIyeevNRrfW8iA5681Is0chAU027rUXKRLY7Qcuxz15pRaberEj61cVs8U+lZdgRQNnk5JPHfNSC2wMBiOfWrdFCHcoi0K42sfzoFqQQwYnHvV6iqcmJlP7GoUKpIwc8U02merHPY1eopNgUfsQ5O9vbmg2SFt+SDnPXvV6ii4FA2jcgN19zQLPHRjV+inzsCj9iH95vzphsd4IZzg9a0aKTdwKS2m0/KTyOT3o+ydfmP59au0UXAzzY7ursPpTlsVXBDHI/l6Veop87BFM27EAFj78037GcY3EetXqKmyHcoi1wfvn8+lKbXnKkivM/FnxZ8H+C/HXh34ea1O66l4qe5jsUCkqzWkYkkBboMKR1r0lbyBMtIccUlbsND1ttvRj19aZ9hQN5nfOcmpRdwnqaT7ZCRkdOtUl5C1Gm1DDr/8ArpBanbtDHB/nT47uBgSh6HBrF8TeJrLwzoN94guklmisYJbh0hQySMsSliERclmOOAOSeKI+Q3dGytpgkbjimtYq2QScGsDw14ssfEnh6y8RWscsMV9CkyxzIY5VDgMA6NgqQOoIyK6JryFSoBGDQ5CXkM+xqGO1iM9aaLAKCNxIPXNS/aoSBznJqeJt60+Z7A11K6WiLyGOcYPPamG0bbgOferMkscR2ngmo2u7YcswHvRfsTyoiFmwAwxBHv2oaz3YwxU+oNcf46+Jng34b6faap4wu1tIL68gsIWbPzXFy2yJB7s3Fdl9sgXau7G7oe1Ro3sUkDWe4bd5H0pfsfGNx6561YV97ZU5HtT2bFPQlop/Y+Nu44z600WCqQEYgL05NXwwPFLQFigLPaThiM+9Bszu3A89var9FUpW2GUzaZQoWNNNocEbiM1eoocgKJsgT99uaabEk8ucD3rQoqXZ7isUBZkHO489aBaEfxHnrV+ijTsMomz3LtZiQeooFmQMb2P41eopjuUBYhTkMfxJoFmeBu4/pV+ikKxnmyxj52/P9KRbLHCsRj3NaNFFkFjOGnhRwx9uelSG0bHDHPartJkZxRoFig1jufcWPr9KGsix3FyOcitCilyrsNMo/ZDk5Y4PaojYZ43HGOeeprTrlvGPiaw8H+GNQ8U6sStrpsD3MxUZIjjBZiB34FPQErm2bTjDOSCMdaX7GB1JOeufWua8K+KNN8UeHbLxTp7k2moQpPDu4OyRQwyO3WumS7hYDac0aD5A+ykOGDH354pjWYb+I/8A1vSgXsRJKsGHtT/tsCttZuRRZCaGi0IADMfr7URWip8wJPbrTmuYRuOcnHSvOfDHxAsPEHi3W/CsVtdQy6G8SSyTRMkMomjEgMMh4kABw23oeKNASPRTa5XaSfrnmmizx0YgjoaRdQti3XrT0u4ZMkMPlJFFl2BoPsgwMscr0NMNljkMc5yPariMrcileRI8bz1pWXYVigbM8kOcE55NPW1BGQxx+fFKb61BIdxz29qjnvbO1t2uJpAqICxPsBk02kUP+yKvyqevuaabLcuCxJ6/j61yvgT4h+EviV4Ts/HHg67W802/QvDMAQHAJU8HB6g1163MC9Gzmkkuw7ERs22bdxJ9Se/rSGzkbqxxWgrK4ypzS5FFl2JuUBaOBt3ZzxSCwBwGJI9DzWjRRyrsD11KH2JsBS3yjtTRavj7x565NXhu6N0p9Oy7AZosSowrHHp2p32VzlN3H1/StCijTsFzONkSfvHk5zmgWbrnYxH+FaNFFl2ByM/7ERzuOaVbRwc7jV+ijTsFyg1kT0Y/zpv2DHzK5B+taNFFl2EUfssnP7w8+9NNmeQG4rQoosuwrGeLRyAGY4HuaT7C2d24k+9aNFDS7FRk1sZ4tZSMO56dqa1o5YHcRWlTH9cUadgcr7kEduU+82SeasgAcCkXGM06gG7hRRRQI//X/v4ooooAKKKKACiiigAooooAKKKKACiiigAooooAKKKKACiiigAooooAKKKKACiiigAooooAKKKKAEIzXw/+1/qiaP4u+FmoMTi38SyTMAMnbFp105wPoK+4a+d/jj8HtU+KniLwXqNpPFFbeHNWa/ukfO6WJ7Wa3KLgdSZQTnsKcQPx+8FfH34dfGzwYfjR41+Lev6B4q1Uvdaba6bHKmn6bEGYwwvbmFhP8uBKzN83JXHFe36x8coPi58OPBXjH4v+O7nwBoGpWLzXFlYA2uraldxyshIDo0kVvtXcAi7ju6gdfWfDvwy/bd+B2jy/BH4QW2h614ZWR00XWb67kgn0y1kJKx3FsEYzmDOEKH5gBnFSeIfgV+0/8LPizD8XvhjaaV8RNR1LSLXS7+XWrj7DPay2u7M1u4jdRFMWzIihWyM89k9JXA+G9T/ab+LWgaJ8TvhR+zj4p1TUE0dPDd3oOreJLVy8A1a/FtcRh3RGuYlVCyttzyVycZr6o+KXw0+OvhHxH8NvhN4B+I+pwz+MtSv5PEeq3oSadreO03NHZRhQkJ348vqEGSc1BqP7Df7S/wAQPF3iz4j/ABW8V6ZLqPimDw/GtlZRyJbWI0e/N28UbsN8okQ43sFy38IFfe3jf4Rax4q+KngXx3BPFHB4Ue9eaM53yfaoBEu04xwRk1nST5ncaZ8d6/4Z8WfsyePo9B8K+LNX1nRvE2iasxg1icXU9re2EAkS4hl2KQGDHehyMgEd6+e/hBcftA/tNeM/BXgnVfiDf6L4Wk+H2k6zq62ARNQu764lkGVuWUiJGCfPtXJ4xiv0k+N3wM1/4neLdG8Q6XdRQppWn6vaFJM5ZtRgWJCMA8KVy36V5b+zP+yb4q+B/i+w8Razf29zHaeDtK8MmOLef3unvM7yjcMbWEgA78c1VWOqsOXQ+TvGPxF+K/7MniPxJ+zr4f8AFV7rbapcaHB4f1PWNtxc6adbmlgmEsiqgmWERM8ZYA5IBz1rp/2ivh58Xf2X/h3o3xF+EvxB1i9vW1/RrTVo9bmS6iu7e7vYoZzENi+S+GOAvGDjHevWv2rf2ebjWJvHHxV1c3VxYXmj6ZFbJpabtRs7jTLiS4F3EpG1zGXDhBksFK45xX59/FDXvEv7Uum+CPhZP8VdO8cXw8RaPf22m+HrOS2mZbC5S4kuNUJkkEUccaksgABkIGe1ZXbjzEn9FNnJvt49/wB5lBr4C/a4u/jFrfxf+Gnwm+FviY+GLPxFPqQ1m4jjDzmzgt1bbblgVSXcw2swIHXBr6Sn/aN+BOjzPpmo+LNKhuLU+XKjXUYZGXggjPBzxXm+qaDo3xs+LXgz4w/DzW7K/wBN8KnUorjyHEhdryKNFCsuQCpXJyRwaqpqgPlL43W3gr4feKdE+H3xZ+LWpeH/AA3Yacv2OytLv/ic6jcbm8ye7mWMv5aDAQIqgknPYV+evxN8dP8AHDwP42/Z/bxP4pu/D/hHxR4QutI1S8VrLUnh1K7jDRNI8S+fHGykxy7B1HXGT+pHi/4Q/tS/C/8AaB8QfGD4HaRoHiuDxilpFP8A2vcvZXelm2jEYWKURS+bbMR5hRdpDluDnNeM6p+wV+0p4svfiH8QPiH4s0rUfEni+Xw5f2VvDHLDY2c2g3Hni33YZ2ifAHmEbiSTtHSpxUZ8toMfMed/EX9o34R+Lfjf4p+Fnxc8f+IfDmj+A5bfSray0UTR3FzcG3jlkurq5jifd98BEGBwWbOQK+yP2FvjW/xJt/E3giz1W98Sad4Xu4odP1u/gaGa8tZ4hIgk3IgeSIlkZgAGwDgZqn4i+Fn7U/wg+JmrfE/9nq00jXrXxetvPrOh6jdSWYh1CKNYXubW4EThkdFUOjgHK5HXFfTvwL8L/GTRdDudS+N+qW+o63qNy9wYbJSLSyiPCW8LMAzhFHLsAWYk4AwK1d2rMVz3xeRk06kyBxS1TAKKKKACiiigAooooAKKKKACiiigAooooAKKKKACiiigBjFs4FISwwOtPIzTWXK4PWmB+Yv7cHj3Rvhf8Z/hf8StfOLTw/b+JL+QYJLLBp6yEDGfSvizT/2hfhnrng+P4t3nxp16Px1cxC+htrW3lOlRtjzEtPsfkHdFg7GcvvPXPav1P+P/AOzdJ8bfHPhPWNUMM2kaNFqsF/byg75o9StRb7YzggY5JzXz/wCGfAP7evgvQIvgLo8OgXOk2kYtbLxhLcMLiK0Hyp5lhsJa5WPAyH8st82e1TFe82B5/wDEb4r6H8SB4c1340/Ee6+Hei6ro9ve2mjaTMLbUrm5lGZnmLxvIqISoRFUZ5ya+eNN/aP+Nut+FfFvws+DnijULubQ/FugabpGva9ZNFcNZaqVaZXVkjE/lDcEkCgNx6V9tan8Hv2nPhH8XNd+Ifwn0XRvG/8AwlMdoktxq90bO6sXtoRCQG8uQPAxXzNqYIYng9a5Pwp+xz+0Te+ONd+IPxa8S6dqWpa/r2g60Y7WN44LOPS1KyW0W7LMvdWbBYk5AreMkjSMil8TPhj8ctF+KPw7+Avw++JGp2en69Bq974g1O78qe/lSHyNq2rbBHEdzkDKkKpPU4qt4vh+J37M/iXxH4F0LxjqmuaNrPg7VdWs/wC15UnvLC+08KA8Uqom6Nw4JDA7WHBxX3X4o+FWs658dfCvxRtZYks9CsNRs5o2z5jNeGEqV4xgeUQc+orzj4+/s8eJvip4s/4SLQbmC3X/AIRjWNDAl3A+bqKxiN+B91SnP1qIuzuU5Jnx34I0b48ftIfGabwtr3j2+0PwZp3hLQb6S20vZDf3OoXkcplc3DK/lxkKMhVyW7gCjX/iZ8WPg9reo/sv6D4kutU1C917S9M0rWtRWOS5tLTVIZLiRpcBFlkiWJwhK8krkHFfavwE+AfiX4XeMb/xLrV3BOt1omkaYEjByJNPjZJG5H3WLfL3r5y/an+BktjeeO/jRrkk8cM76NeadeabGZbzTJtN3K14YmwJETeS6KctHuHFZzi7aGT8jhv2jvAPxU/Ze0nwb4o+FPj3Wr1NV8W6Pp2s2+sSpdie3u7oJK0J2KYmOcYGV28ADGa/Xe1JNuueuK/n68d+J/Ff7UGufDXwLJ8StL8b31v4l0zWobTwxayRQpa2EhmlutRdnfYu1dqpwN5HJr9kB+03+z9Zytpl14w0mOeJjG6G6jDB14ZSN3UHrWS5ufXsI+fv2sYvi/4q+NXw6+Fvw48Ty+GNL1uPU31qW3RGuHtoEiKi3Z8hJd7YDEEAE8ZxXhvx9svCPhzxdYfDb4tfFvUvDfh6wsYV06z0y8261fzg/PPdSiJ5CoPCqigNySe1fY9xovh74z/Fvwr8afAGtWmpab4bh1GymFu4k3SXQixgrkZXZyD6ivA/Enwi/aW+F/xy8VfE74M6Boni2DxnJDI0mq3ZtLrTWghWIRBvKkL22V3hUIIZm45rWKd7Afmf428bH9ojwxffBu88UeJL7TPA3xH8MJpuqzIdPv5oL4xyKkpaNfNETEhJNg3DBxX0R4w/aD+GfxO+MHjDwv8AEv4geIfDeleCb86NZWOipLE0k0CL51zc3CQyeY5cnYgIUAcg549OuP2GP2h9ZvvGPxB8a+JNM1HxLr+u+HvENrFFHJBaQSaMqKbXPzOYyFIVyMk9QK9k1T4XftQ/Br4la74w+A2m6R4k0HxhOt9e6Vf3RspLHUSipNPDL5brJDLjcynDBgSM5qaWkpcwHa/sSfG29+KXgvWdIub641yLw5qTWFvrE8DW7X9uUV45SrKoLqG2OVGCykj0r7j2ZUV4z8EPDHxP0Dwao+MOo2+o67dTSXM/2NCltBvPywQ5+ZkjHAZuWPPFe0MxHQVcbgOAA6UtFFABRRRQAUUUUAFFFFABRRRQAUUUUAFFFFABRRRQAUUUUAFFFFACEZGK8U/aPYp8AvGbA4xo17jP/XFq9srzz4r+ELnx/wDDbXfBNlKIZdWsZ7VHPRWlQoGP0zTVuoz8VF+PngTxz4ntPgr8TPGur+EdA8HaJpPmWuiiSK4vrq5tlm3vcxxuVijUqAqkZbOTgV6l8PvjfruqeAvGvw88LePZRpGgS2ctt4v1qHyZYLC5Y+dFvkRUluYQpCMV53KSM17bJ8Av2gvgN4ktfH/7OttpuuPqGmWWn69pGoXL2glmso/Kiurafa6g7fldGAyACDmqvjT4A/tW/EfwLD4s8aXmi6h4osdZh1iz8OzF20ZIoY2RbR5zGZHbLeZ5pTAkAwuBmhtdCnNnyVpvxs8EfB74l+B0/Z/8deK/HCeJNch0rWI9X8y8svKuUci4E5hjWBlZRtCttbOMd66rwfqH7Q9/+yr46/an8ZeOLuXxFpltr/8AYNnCEjsbaK3lmjt3uIwpM8oCgkk4HAAzk175rvwR/bQ+Peq+Etb+Ks+ieDNM8La3a6p/YumSyXr3iwK6lZrlkREUbsoiKckDJFexab+zF4qsv2Tdc/Z9uL6A6hqttqUK3Sg+WpvpZJFJGAflDgGsJuakrIlnyprfwg+Mnw9/Z5tf2ndY+J2t3/jjStOg1S8UvGmjXQCq0lv9i2ELGwyAwfeDzntWT8Xfi/8AtA6jceL7H4V+IhpOpTeIfDNlYyXEImgtIL+CJ7kIg5fIZiBn72K/QX4lfBPW/HH7N178F7a4jhvbrSBpwnfJjDhFUtjGccV4PH+yR47XxTqetSX9sYLzWdC1GNecrHpcCRSKeOrMuVqYufMkI4jxH8M/HX7MniPw18RdF8ea/wCIItVv0sNbstYljnt7kToxEsCLGv2d0deAp2lSQRnBqP4TfC/4mftAeA4v2jNf8f6zpGuauJbzSbDT5Y49Msoct5MUkBQmb5QPNZmznOMV9qfGb4U6p8TrLQY7CVLY6Rq1rqEgkyd8cGdyDA6tnA/zn8hdO+J7/BKy8TfC3S/ifYeDNB028vDJ4f1qxeXW7KORmbytOdJFW4jkyTAxU7cgfNitlBpgfp1+wv43+I3xC/Zp0HxN8WruG/8AEMj3UV5PBgRu8M7x5THbCius/a68T+MvBH7OvizxV8O7lbTXLLT5WspnAZUnI+Qsp6gHr7V4D+xHqfgb9nT9lbwZ8OfiDq0ejXq2j3KW+qTol15dxK0qGUMQd+GG70ORXrfxd8S/Df8AaI+HetfBv4f+KtNn1bVbdo4xFOsjJ0JYqhLYH0qwufNXjHwd4z+F3wPj8V+NvivNpV3r0lrJruvXzxRpawmMl49LgKeXE7MQqb9x5JOSMV81aX8VPAeifFTw58MPgt4+8U+KtB8cQ31hqTakHnjtpEtXljngvmhjEMpKkbPmDA5AGOfvj9o/4JfEzxbYeDPF/wAMbfT9Y1bwTMZ10nVnKWd4Wi8onzNr+XLH96JypAJPTOa8dvfgP+2X8cfih4I+JvxfvtE8M6T4XvLmZvDunvJeMwntZLdZXuyiAuhcFURduCcsTxT+yB8H/Bf4jaL8FP2Z/hJ+z9qvjrWNB0/xNa3+o3+rnNxfrBbzbTb27rEyx+Yzj5ipIUHHJBr7B/Z7+Nngzw98ftN+Ffwo8Yaz4z8PeIba4kePVFlnl06eAKwIuWiTMUoLDa5JDdOOK6Pwb+yX+0D8Mvhj4Rm8F3umv4x+Hsl7bWRkeRbTVdOuHJMNy23dDIwCsCFYK69wa+kvg5pv7V/ijxnJ42+PC6f4d02K3aC10HTLg3u9ywJuLm4ZEGRjCImQATuOeKE9gufX0AyoJHNT4Gc1FChjjCntU1SO4UUUUCCiiigAooooAKKKKACiiigAopAQelLQAUUUUAFFFFABSEZGKWigAooooAKKKKAP/9D+/iiiigAooooAKKKKACiiigAooooAKKKKACiiigAooooAKKKKACiiigAooooAKKKKACiiigApCQOtLWZqepR6ZavcyIz+WpYhAWJAGeAOp9qBpGkCD0ppUsea+f2/aJ8KI0KSabrCvPE02DYT/KqnHzfJwT2HWnw/tE+EpxCw0/Vl85HkG6wuAQqdSwKcZ7etQ6sV1NPYzXQ99LbTjFLnNfP0H7RfhObyWOnaunnIXXdp9wML/tfJ8p9AetVbf9pTwfM1qiadrBN4zCPOn3A4XqzfJ8o9z1rNYmn3BUZdj6NOe1NwduK+ebX9ozwvOIMaXrA+0uyIWsJh93OWOV4XjgnGami/aJ8KO0af2dq6+bMYU3WE4yR1J+Thfc8Vp7WPcf1efY99BLLtHFSc4r5+l/aD8OQ7W/srWGDzGFdthOckdT93hf8AaPFK37RHhUWxuP7O1f8A1/2dQNPuCSx7gbM7R/e6e9HtI9wdGXRHu0kSzp5cvrnjiue0zwP4R0W7n1DR9MtbS4ujmaWGGON5On32UBm/EmvKG/aH8K7pNunauwhmEBI0+4IZj3X5eR/tDikf9orwuklwG0zWALeUQn/QJ/mc/wB35OQO5HFN1Y9yfZy7HVP8B/gpNcS3U3hHRnknYvIzWNuWdiclmJjySe5Ndf4a8D+EPBlu9n4Q0u10qGRt7R2kKQoWP8RVAoJ968nl/aL8JwrK507V3WFgrFNPuDlj2UBMnHcjIp8v7Q3hNFuXNhqw+zBdw+wXHJboF+T5j9KOePcPZS7HvzYIwRTsCvn+f9obwrAJWl07Vx9mQPJjT5zjd2GE5PsOlIP2h/CgupbV9O1dfIhE7t/Z9xt2tyADsIZvVRkj0odSPcPYz7HvzDcvFKTtwK8Fi/aA8LHJ+w6tgReec2E/C9Bn5Op9OtTRftAeFJXVP7P1Vd0LTnNhOAFXsTtwG9F60vax7g6Uluj3akBB6V4bB8efCt00CRWWqbriNpVBsZ1wq+uV4PseT6VGnx98KSm2MdnqmbpWZQbGcYC9S3yfL7Z601Uj3F7OXY93orwOH9obwfN9mCWWq5uWZU/0C4/h6scpwPc4qS2/aC8I3ojENjqi+bK0S7rCdeU6k5TIX0J4pOpHuP2Uux7xSZGcV4TD+0B4RlaFVstU/fTmBT9huB8w7nKcL/tHj3quP2hvCpYA6dqwDT/Z1P2C45cZ/wBjhf8AaPHvR7SPcXs5dj3+ivn4/tFeD1kmQ2OrYhlWDP8AZ9x8zt/d+TkDu3QetPk/aG8JRLclrDVSLWRYmxYT/Mx/ufJ8w55I4pOrFdQVOXY9+pAQTj0rwN/2h/B6xXEptNTxbsqN/oM+dzdAo25b8OlSXH7QXhG1Wd5rLVAtuqOx+wzn72MKuE+Y+wpxqxezH7KXY95orwef9oHwdA08UltqQNuiyPixuDw3QAhDk+wzTZf2g/CMDTJJY6qRBEJmZbCcjaegzt5b2HNVzLuL2cux7ySBgUteCt+0B4RGS9nqgCw+e3+gz/KpGQD8n3v9nrSr+0B4UdgBY6ngW5uWzZTfKg6Z+X7x7L19qHJdw9nLse8ZFBYDg18/f8NEeDTLbRNZaqDcRNPzYzgKi92+TgnsDyfSki/aM8H3MtvDDY6rm4DMpNhOAqqMkt8mB7Z5NHMu5XsJ9j6Dor5/j/aJ8GySWiCz1QG9R5EzYTjCR/eLEp8vtnk1Lb/tDeDbqK2lgtNTcXZk8v8A0GcYEfUtlflHpnGaOZdxezl2Pe6buHWvn8ftFeDWS3cWeqZu3ZYx9hn/AIepPy/KPQnrUiftD+DJvJjjtNTLXEhjQfYZ88dWPy8L7nijmXcpYefY98HqKBgHFeBwftEeDJ44pEtdSxNO1uhNjcDc69T9z7vox4NO/wCGhfBhTzEt9ROZ/s4H2KbJfOOPl+7/ALXT3pc8e5LpSXQ95C4UKeacCO1fP037RXg2ETSG11LEMy2/FjP8zn+58vzD1I496W8/aJ8FWkcztb6ixt5BGwSynYlj2XC8+5HFHPHuNUZPoe/lQetLjIrwT/hoTweDceZaakq2wXefsU33n6KPl5bnkDpVM/tJ+Bh9qDW+pD7GoaTNjPjJ6KPl+Y+wo513D2Eux9C7M9fXNVZbOKYMsgzn+teFy/tFeDIfNEtpqeYIBO+LKc4VugHy8t/sjmhf2ivBCRu01tqSlIhKwaymBCt0/h6+3Wnzq24ewn2PT9H8BeDfDryy6BptrYNMcytbQxwmT/fKKC345rlJvgL8E7qVp7nwhosskjF2drC3LMx6knZkk9zXOf8ADRPgpGEb22pLvhM+TZTYCe528E+h5pR+0T4J2QuYdQXzojNg2kvyoP73y8E+lHPHuHsZ9j1jwx4P8LeCbJtM8JadbaZbO2/ybWJIY9x6nagAyfWumGcc189wftI+CLn7MIbXUmNwrN/x5zDaq9Wb5flHpmprX9ojwZdtaRR22oBrzeY82sg+VOrN8vA9M1PtY7XF7KXY98IHQ0uMV89Wf7R3gi+kgNpDqDi5kaOP/RZQPk+8TleFHqetTr+0V4IfYyxXwEshjT/RJeSOp+709/8AJTqx7j9jLse+MQGGafwa8Ci/aL8DzxebDDfOpuBbAi1lGW9R8v3ffpVQftKeA2WQ+TqA2TCEZtJcsx/u/LyPU01Uj3G8PPsfRNFfP5/aM8CkS+VFfymGdbdglpLkyN2Hy847npTbr9ozwRaLcloL9/sjrG+y0lOXboF+Xn3I4p867k+yl2PoKivnq4/aS8C25nRbfUJXtwu5UtJSSzfwj5eSO9LN+0d4Hhe6RrfUP9EVWkItJSAzdFHy8t7CjnXcPZS7H0JRXgM37RHgeB54Zo75TbxJK5+yy8B+g+7y3tT3/aG8EosxaG/HkxiRz9ll4B6D7vX2p8y7h7KXY96ByM0tfPR/aS8BojyTRX0YjgFw260l4Q9B937x9OtJb/tJ+A50SUQ6goa2N0Q1pKCqdgfl4Y+nWjmXcPZS7H0NRXgMX7RPgWV402Xyl4Wnw1rKMIO5+Xg+g61Fb/tG+Bp2t0WG/wA3Ks6g2svCrzk/Lx7Zpc67gqUn0PoOivniL9pLwDI0EbR36Nc7iga0mztUZLH5eBVq1/aK8B3sNvPbR3xS6LhGNrKMBOrEbcgfWjnXcfsJ9j32ivnyD9pLwBcJA8KXxFw5RP8ARJf4erfd4Huali/aJ8DXKRvBHfESzeUh+yS/N6kZX7vuaHOPcTpy7Hv1IDmvnyL9pHwDPny0vsmc265tJeWBwcfL0Hr0pW/aO8BhZZUS+dYpxb/Laync5H8Py8gdz0oU49wVKT2R9B0V89SftJfD6JJWZb7EUohJ+yS8u3YfLzjuelSSftF+BEFy6rfN9ldY2C2kpyzdlAU7j646U+aPcv6vPsfQNFfPtx+0h8P7U3KzrfKbfbuAtJjkv0UfJy3sOlMuf2k/h1Z/a0l+2lrONZJAtrKSA/RRheW9hS513I9jPax9C0gYE4r59m/aP+H9qJnuPtqiGMSvm1l4DdB9373tSr+0d4ALlQt9lYfPYG0l+VT0B+XgnsOtPmj3KdCfY+gT0phG7pXgp/aL+HwdY5DeKxh88g2svyr23fLwfbrTZv2j/hyjxwyG8BmiMy/6LMcIPX5eD6A80cy7kqlLse+4J69KXnPtXz7H+0f8P5DbAreqblWZA1pMCAvdsrx7ZqGH9pz4ayxW8jfbl+0ltgaznBwvUn5eB7mpdSK6lexl2PodQwJz0zSgHgnmvne0/aa+G1ytu8Yv/wDSnZUzZTjhepPy8L7nip4f2k/hpcRxyRyXf76Uwp/oswJZevG3p7nikq0e5Pspdj6BKA5964vUfh54L1jVbbXdY0y0u7+0/wBRczwxyTRf7kjKWX/gJFeZt+0h8OgIpN15iWXyU/0Sf5mHcfJ9336VDD+0t8NJY/MWS8J8826/6JP8zjrt+TkD16VXtUHsZ9jvvEvwg+F3ja8TUfGXhzTdXuYl2JNfWkFxIF64DSIxA9gRVXw98EPg94P1Y694R8K6Ppd6VKfaLOxt4Jdp6jfGitj8a4yX9pb4bwjkagf3oiXbZTtvY9lwnIHcjpUv/DSfw3Ly/PdjypRCf9En5c9h8vP9KbrLuCpS7HvkEQhjCCngY4zXz/N+0j8Oo3uIy14TayLG5W0mOWboFwnPvjpS337SXw205JpLk32ICN2LOc5J6KMJyfYUOce4/Yy7H0FTQM8njmvA5P2jfh3GLksb3NqivIBZzn7/AEA+XlvYcioJf2kvhvGZt73q/ZohLJmzn+UN0B+T73+z1qfaR7h7CfY+g2z2pRnHNeCH9of4eBHcSXR8uH7Q3+izEqnXn5evoOtRr+0d8Osxh3vB5kPngm0nAVP9r5flPseaftI9wVCfY+gKK8I/4aE8AYSQteKHhM4BtJshFHU/LwfbrVK1/aT+HV0YQhvk86Jph5lnOuEUZJbKcZHTPWjnj3H7CfY+hKK+f7L9o34d38FpcWzXhF5uMebSdThepYFPlHoTT4v2ivh/MIVxfBrhmVAbOcfd6k/JwvueKOePcPq8+x77RXgMX7Rvw6mSJ0e8JmlMKj7JPyw6kfJ93/a6VDP+0j8O7cJI5viHnNupFnOQXHUjCfd/2ulTKtFbsXsJ9j6Eor58l/aR+G8KsZJLwbZxBxaTct6L8nI9xxQf2kfh2LWW8P24RwzCAg2c+WY/3Rs+YepHAoVaD2Y/YT7H0HRXgF/+0d8OtOW4a7a8AtigdltJiCZOgX5Pm98ZxUl5+0T4AsY55Z/toS3CFmFnOQS/QLhPmPqByKpTj3J9lLse9AAdKWvn6b9o/wCHFubhZJLzNuiuwFpMThumAF5PsKdN+0b8PoFlkP24rDGsrYs5zw3TGE5Pt1o549x+xn1R7/RXg6ftCeA2mMRN2uIPtJ3WkwAT0JK43f7PX2qBf2jvh28whX7acw+fkWc5AX0JC43H060c8e43Qn2Pfsc5pa8IT9ob4ftJFAxvEeSIzDdaTABR6nbwT2B5psf7Q/gKTysfbf3kTTDFnP8AdHr8nB9AeTT5l3JVKT6HvNFeCw/tE/D2ZrZQb5ftKsybrOdeF6lsp8vtnrVO1/aW+GN49tHbzXZa7LrGptZgfkOCTleB9aOaPcPYz7H0NRXFeB/HOj+P9G/t7QPNNuZGjHmxtE2UOD8rAHHoe9doDkUyGrC0UUUCP//R/v4ooooAKKKKACiiigAooooAKKKKACiiigAooooAKKKKACiiigAooooAKKKKACiiigAooooAKhkjRs7zU1FAFFrSEnq351OsKKvyjNTcEVXlnROGNBV2RtZxFw3OR7mnfZIi2Tnj3qBb1i23HTmphc8EtxjrRyLsF2h32aJfX86U20eMAY+hxUcdyJgO3vVnzFA3Z4oQXZC1qjJtOT3xmgQxrjjFWQcrmq8lwsZw3THWn5iuxFt4g5kUct1NBtY2bcc5+przrU/ir4V0n4laZ8Kr6Vhq2sWtxe2yBSVaK1KLKS2MAgyLx3r0M3I3kAZIoasNNkv2ePOcc+uSKYbWM+o/Gmtc4UD+L0rkPGfxB8MfD/TItZ8VXK2lvPcwWiu3QzXLiOJR/vOwApXBXOwFvGeNvfPXpSfY4g24FvTqa868KfFTwv4x8UeIfCWiys934ZuIrW+BUhVlmhSdQD3/AHbqTjpmvTEfK7+1DSDUYbaNvX0xmo2tISADnj3NXKKBXZT+xxHjnH1pFsoVz1Pf8au0UBzMqm2Rhhgfz9KRrWI8nI/GrdFMOZlMWkJAByRSizhD7+c/WrdFKwXZV+yRbt5JzjHWmm1hDAjI/E1copWQXZU+zqeDn8+lILSDLYJ+bryauUUWC7Kv2SMDAz+dKbaMndzkdOas0UwuyoLWMAAZ/Ola2jHzdz1NWqKAuyj9lhHzAnJ9amW3jAxz+dWKKA5mVltYl4GcfWk+zKAQM/nVqigLsqC1j27TnH1p/wBnXuTj61YooC7K3kRtxk/n3pptYySMkfjSvMsTkv0qM3sPAB69P85oUeo7j/Ihzs5596GtoycNn86hjvoWYknA6DPSpDexjAXk+1AajmtkLEHofzpPsyLwxPJz1qRpkUZY4J6Z71JG+8ZIqtdw5mQiCN1bk88ZpsltGQOWHQcE0+SZISd1ecT/ABR8LQfES3+GDSt/at1YvqEaBcjyEkEbNnp949Kkqx6P5KsMc46deaRbZBg5b5enJ/yarm/hUhScVK96ijPT68UEybHi3XknP50n2RDyS35muM8a/Efwv8P7S0vvFFwLaO+vILCDgnfcXLbYkGAfvNxWP4L+Lnhbx3rviHQdDaQz+Gb4adeh12hZzCk+B6jZIv40couZnpotkGVBOD71GLGMfxN/30animWYbk6VKTgUWHzMptboG5LH8TT/ALNGBjkD6mrXvRTuK5U+yx44LfnS/ZVK7STz6GrVFKwczKxtUPVj+dMa2Rm3sWGeOCRVyigLsqiFNmxckfWk8mPzNwJ9Opq3RQFymbRG4YnA9zQLOMEHLce5q0zbaVc45oHd7lXyFUHgn6mgW8K8qTn1yat0U7iuVPsseAMtn6mkNmhXblh6c1copXC7Kf2OPO4Fsj3NK1sGJOSPxq3RQF2VVt1QYUk59STQbdD1JBznrVhW3U6gd2VTaoerN+dNNsijGTz71cooFdlIWcTLjLfmaRrJC2VJH0NXqaWxQO7ZUWzjU5yfzp5t4wckn86nBLDg4psrhF3HtRYNdiA2kA55H40otYlB2559/wBaiW+i5wST6Ui6hAx2g5PpTBtkxtYl7nn3NBtIwuF6/Wj7VGcgnHvSC7THHJxmny9RXY0WsO4MScj35oW0G/LEkfWpopkmJKduopZpPLQvnp2qGkNNkf2VBwCe/ej7LCfm5475Nec/E74reF/hP4LvfH/iuR00+xCGUopdhvdY1wB1+ZhXd22q295bxXUJwkqqwzxwwyKL62BNlg2sTNwW59zQbOH7pZvzNM+2QR5YnIHfsKrT6vaQxNPKcIilifYDOabG7mg1srjYScfWozaKGDFj/SvFdI/aJ+GviC/8MWOi3jXP/CXLcPpzoh2uLUAyknjbjPevb451kGU7HpTDW5GtnH1yfz4/KgWUW7JyfxNT5MnIqUbsc9aT13E79ykbRR93p6UgswTlifwq/RSsibvuURaITnJ46cnpSfYk65OD2zV+imF33KaWUS/hTRYop4Jx7mr1FA+Z9yl9hixgZGOnNAsYhuxkbj2NXaKGrhdlA2aA4UkU8Wi4xk/nzVyigOZ9ygbJWkDsTxThZqOMnGc8nvV2kbOOKdwKgtF7k5pfskZ9fz/+tVkbu9OpNhdrqUjaKWJJJHpmkNmuzaCeavU1t38NNME2UvsMLDDZIp32VAMEnH15/GrfzbvanUXC7Ka2sZOckjoMmk+xqPuk1dpqkkZNFwuyNIfLBGcg881NRRSEFFFFAH//0v7+KKKKACiiigAooooAKKKKACiiigAooooAKKKKACiiigAooooAKKKKACiiigAooooAKKKKACiikJwMmgAOOhr4m/bCu/idc6h8PvBHw119vDf/AAkPiFbTULqJFklNmttNLIke4EK7FAA2Pl6819sfewa8U+KHwwu/H3i3wf4jguxbr4Y1Jr90K580NBJDsB7ffzn2ole2gH562nw2+Jk/7U97+y//AMJ5rieCofD0HiAETL/af2qW5kgaH7WUz5ACbwNoOTjOK0bL4l+N7H4Pan4W+I/jxPD+n+HvE15ol7r1wyJfzWMBJhWLKlTcOGVWbb0BIGa+2LX4L3MH7TF18e2vVdLjw/Bogtdp3KYriScvu9CHxj2zXzV4n/ZK8c6P45i+KnhGfTdY1Cw1rVtVt9M1RWS2f+0ljVT5gV9k0Pl4V9jfKzAYzTj8LuNM+afhn8XNDsfj34f+BvwN8XeKNY8P+NLDVBLe6rHJOlpdWsayRy2t3NEgZm3NmP5hgAjFes+Bv2l/iv8AFr4uSfscrKum+LvBkkV14r1SHaYjp+7Nq9sDwZLwD51/5ZANnnFd1rX7PP7Tnjz4veF/jf4g8SaXpbeFrLUYbPQbON5rcXN/CsYnluH2s5iZeFVVBGe/TU039iGw8EWeheOPh7qf2Xx5pV615qWuzrl9XFw269iuwOTG4/1Q/wCWRVdvAOVazLk7xR+hcC7YVVjnjrXwl8fNd8dfEL4+6L+zR4Y1O50DSrzSJ9a1jULJlW7aGOZYIreB2B8suxZmfaSAAB1r1+4/a4/Zw0ud9O1fxlpVvcwsY5I3uFBVhwQc988V47460W4+MfjfQv2j/wBl7XtL1HVNCiuNLnhlkLWl9azlXaB5Yw5ieORQyNtI5II5pSemhmfEfxw1jxX+xj+0Fa+P9U1m58ReFfDvgHxBqVo+pv515BPDLbAxNKiqZIn+Q5ILLyMmvO4P2o/hdpHgo/GXTPil4j1D4gRWgvZbWS2uRpVy5XzDZpaeQAkbfcRwd4JBJNfZ+o/sb/Ff45fGdvi3+0NrFjBpdx4V1DwwfDmnb5YoBfyJI1wLhwu+UGMAfIAOK73R/h/+2rpPhKx+EjanoItrKGO3PiceY120UbKARZFNvnNGMZMm0NzyK0lK6uNHkvgL/hbX7Vnxq8baH4r8Q6joXgXTrLRp7S00xxa3puruzW4mjkl2s6JGWXgDJJOTgV4L+0fo3iK90e9/Zk8e+JdWvoPDfinwxeafqUcyxXkllqN0FSOd1TDPDIj4YAEgKT7+7eFPBn7Qei/tffFv4g/Ci6tNQtpRo9nPpOqF7aGV4bKMi5huEV9r/MwkUqQcDkYrvtV/ZB+JvjLSfEPjjxbrVjJ4013WtJ1ZdiP9itYNHlR7eyQkb2HDlpMDLOTjFKUUr2HF2Z4p4I+APir4xftN/GPStY8Zaro/hjTtR0uOOz0WYW15cXH9m27NNc3RVmIwQAiBc4yT2r63/ZH8W+NX1Tx38IPGmqS643gXXP7Ntb+42iae2mtormLztoAMkYk2FgBuxnvXqPwg+Dl74B+I/jv4hXl0k7eM761vTEikeSYLSK2K5PUEx5BHrU3wo+DE/wAOPiN488az3i3C+M9Vi1JIlUgw+XaxWxUnPOfL3cetLsStD6IoppbB5p1IAooooAKKKKACiiigAooooAKKKKACiiigAooooAKKKKACiiigAphHIPU0+kAwMUAfA/7UsvxT8R/GP4a/CjwR4kn8N6V4gk1Q6xJahPtMsFtBGyJC7K3lsWb72OBXzx4V+C/xU8XfHHxX+zp4g+I+vHwZ4QtNPvNOa3mWPVZJb5XZlubzZ88cRT5AFBbJ3ZxX6DeNvhLqXiz4xeDfiZFcxxQ+GF1ASRMCXk+2RxopUjgbdnOeuai8LfCi88OfHDxX8Vp7lJIvEVpp9qkQHzR/YlkBLHodxfjFXzWiUlc/PKL4w+JfEvwD0Zfiv49XwhpFpqWq6PquqxSrFqV79guXtoFgyjBXlC7pWVSQeg5yOP8Ag18Y7W7+O0f7MPwP8a+Ida0XX/Dl9qNrqetRPJJY3lnLGqmK5lij89HEvzIclQBg817hoX7GnxK+FHi/TviZ4Vk0zxNdWB1hP7Ovi0MSLql814Jrd2Vwky7tjkjlRwfW5q/7NP7VnjH47237QGseKNG0q503QdR0TStLtYZJY7Rr94XFzJMwUyuvlfcVQvTnrXG3UdPTfQky/hP+1F8SPj/8VX+AFqV0HWvh7PH/AMJtMm11L8m2gtCch1u1HmMw+4nynDcD9SIX/wBG3j8z3r4F0n9jDT/hNP4Z8afCS+Sw8QaNIy6xf3mWOsWk7GS7F2yjLSbyZImP3DlRhTXuR/a1/ZvgU283jTSVdMqVNynUcEda6Yt7MDxz4v3PjL4z/HZf2c9L1i98O6FYaNHrOrXmmyCK8me4nkhgt45CreWmInd2AyeACK+Jfil4z8X/ALG/7QWs+KvEuqza34d8P/D2a50u81J/Nu1nfUVhaKd0UGSNS0bbsbsEjmvtvXvDOrePviLpn7T37M2safq0qWT6PqNrNKwtb61SQyp5cqBvLmikLYJBUqxBx38y1b9jD4n/ABj+LviL4r/HHWbaLTte8Jt4attFsN7rp5+0C4W4ErALJLvwzHaBlQBxVSvZ6lRfY+YNR+Pnw/8AAvhiX4teDviP4l1vxpbwreTWc0FxJYX5ADPbR2vkARK3KxlTuBxknmvozwZB8V/2n/i78QtB8Y+IdR0HwXolxpyadb6ZKLW9aW5sIbiYSyhSyrG8nAA5PXjivYNM8LftnN4X034d6nqmh2xtpII7rxBbmVpp7aNsOYrVkAjmdFAO5igJJBNeG/Dzwr8fPC37WHxg8e/DR7PVdJ1LUtPt59J1B3tsS2+nW6i5t5wrKd2SJFIGSAQc8VairEs8B+POk+IvEAg/Zv8AHXifVb6bwV428NzWOpxzrDd3FlqB3xfaSi4Z4mVlzgFsA969e+G/7P3jD4wfHb4w2+reM9W0Dw5Z+IoY4LTRJhbXM040+23TXFyyMTgbQqKAOMknOB6vqP7IfxV8UaDqnjXXtX06bxzqvibTdeI2yCxig01lWGyVgvmFRGCd+PvnOMV9SfBz4Qa38O/GHjrxLq93Dcr4u1hdTijiDAwqLWG3KMT15iJBHY1k5tJFX2Rwf7Ifi7xrf6T4r+HfjfUH1i68Fa/caNHqEoVZbm3SOOWJ5QoA8wJIFYgDJGe/H2QDnmvnr4M/BzVPhh4l8ca5dXqXKeLNefV4lUEGJXhii2Nnqcx549a+hMdccUrskdRRRTAKKKKACiiigAooooAKKKKACiiigAooooAKKKKACiiigAooooAKKKDxzQAV5H8edZ1fw78GfFGvaBMbe9s9MuZreUfwSJGxQ9D0Ir1kPk9K4P4p+FL3x38Odc8GafIkM2qWM9qkkgJVWlQqCwHOBntTA/IH4geHfj58Kvhh8PvihpHxI1S98UeM9Q0rSNVe78uSwEeoj95JbWwUeVJHj92Sx5+8DX0Lo1j48+AHxjuPhlpfiq91uw1vw5e6tHL4hnWQWl5aOib/ADUjUrC/mAsuDtxx6V7r8SP2cdX8d/DTwP4FivII5vCWp6XqEkjq22T7B98J7t2z071zP7UH7K3if49axPe6Vq0WmxS+H77SRvDFvNuJYZULbesR8rY4zkqxxRTW/Mxpn5v/ABD+OHw4+Gvg/Uvi58Oviz4o8XeN9NQ3U0Nij3+kzMhBkhNtHB5cUOMrvEgKjksSK+rfit+1d4x/Zq1jSm8TI+t2nxMMMHhdflDQavcRgrZSnHywH/WCQ8AAqecZ1/iV8DP2zvi18E7z4DWTeFPA2n3OntZzXWnNNdMwwAI4YTBCkSP0ZjuKgnCk16FZ/sXx+P5dV1H9oGWHVpn09dI0iO2z5em2qIoM0BdQVunkG8ygArhQDwc6RegNn1H8FPDnivwv4Cs7Hxzqjavq8u6a7uGAA82Q7mRABxGn3U9gK4T9rf4qaz8IPgve+KfDSI+q3FxaadZeYCUW4vp0to3cD+FGk3H6Vx/gD4q6F+z34NsPhv8AtK+OdJfXrJWjS5llWCS5tlYrDLIj4xIUA8zHy7s4NM+I3iv4F/tbeCNT+D/gfxfp1zqdyiz2z2syTSQT27rLFPsBORHIqk+1YyVxHw3+2J+zt4/+HH7MOs+KdG8Z6v4iv7mTT/7Xt9ZnV7O4Q3kPmtBGiJ5DL1QKcY4PrXM6v+1B8Gfir488RaT8RviJrfhrTvC95/ZNjp+iJLCfOtUUSzzTCCTzCXJCp90Ac5zXv/x6/Z//AG0/2kfg5H8FvFOo+H/DsPmWsl5qVlNcTve/ZZ45RGsTQp5KyhPnOWI6DPWvXdO+EH7QnwX8ea7qfweTR9W8OeJSt9LYahPLayWepeWEleJ0ikV4ZdoZlIDBskZzWaTU0xI+MdN/aC+OXxWHgXwF8NfEU8cV14ru9FutcltTE95pcdk84nSKRQDMOE3Abd4JxjivoPxr4H8T/s8eJ9H0228Za7q3hvxvNNo15HqdzHNPa3UsEkkNxaSiJShJQqVIYDIIxivP/wBof4XftD6nr/wYjvvE9v8A8JpaeI77UhcxQt/Z4Y2k2LN1xvMG1tm/72fmxnivoiD4QftD/GH4oaB4s+N0mk6NofhQS3Fpp2lzyXTXV/LE0ImmeSKIJHErMUQbiWbJxjnfmNOqPzm+FPwf8YR+Cf2evh34B8Xanp/9of23Nd6peOlzqEUBjy8VuzIEVicBSynaOeTX6AeA9A8Rfs1/tC+H/hRZ+KdY8SaD4xsL648vW5lubi1ubLy2LxzBEJSQScoQQpHGBxVv4O/ssfEjwhf/AA9m8V3mnbPAcuqxr9maRzcW958sDfMq7XC/fHIB6E19C+OvhBrHiv47eC/itbXEUVr4ZttRgmibPmObxYwpTHHGznPrST92wpSvJs+hIipXcoxmpKijQRLgVLSJCiiigAooooAKKKKACiiigAooooAKKKKACiiigAooooAKKKbn5sUAOooooAKKKKACiiigD//T/v4ooooAKKKKACiiigAooooAKKKKACiiigAooooAKKKKACiiigAooooAKKKKACiiigAooooAKTIHBpaxdb1VNH0+bUJY3lECM+yJS7tgZwqjkn2FJtLcaVzaphAPJr5xk/aL0yNo4pPD2u5eEzN/oE2EA6KxxgMey9aW3/aK0iZYQdB1uNpojLhrCYbQOzfL8pPYHrUe2j3Nvq1TsfRiokeSKY8UTfM6g1862v7RGnXUEMreHddjMu44ewlXCoercYGe3PNFv+0Vplxa21x/wjuup9pL4DWEwKhO7DHy5xxnrVe1j3KWEqdj6JW3iUY2jrUhVeVIyDXzVbftIWF2ltJF4a1/Fy5QZ0+UFVX+JwRlQe2etPg/aN0ydov+Kc15RLK0ak6fMOF6ufl4X0Jp+0j1Y3gqi3R67P8ADL4cXUjS3WgabK7kszPaQsST3JKcmt3SfDXh7QLY2egWNvYQk7ilvEkS5PU4QAZ98V4ra/tA2N3bxTr4e1tfOmMIVrGUNwM7yCBhP9o8Gs4ftH6Z5X2iTw7ryhrj7OgNhNuY93xtyIx/ePFT7SPcSwlV7I+kVhjAwoGKa0Klgce1fPD/ALRmmQpKf+Ec15vKmWEYsJjvLd1wOVHcjiq9x+0hYWrTBvDWvkRyrEpGnTHzGbk7Pl5Cjqego9pHuH1Sot0fQ8enWcLu0caq0vLkDlvqepq4sahPL7CvnaT9oSwD3Ii8Pa5ItuyoGWxlIdmH8HHOO5HApLn9obTbZ50bw9rrCBlXK6fO25mHRML82O+OBQ6kSXhpn0UkaoMKMClEag5xXz+/x8sI/PH9ga0wgjEjMtjKRk/wj5eW9hUb/H+yiMpfw7r2IohISNPnIJPRBheW9hR7SPclUJs+hiAetIOOK+eV/aA02SZIT4f11T5JmbNhNheM7CduN5/ujmnx/tAaa4hzoGuL5sLTHNhMNgAztcbeHPQL1NNVY9y3hanVH0GTg06vne3/AGgtMu0tyuga7G9yjSbX06dSqr/fyo2k9geT6U+L9oLTZpIFHh/XV85WcbtPnGFX+98vyk9getT7aPcSw03sj6For51tf2h9LuIoJG8P69F57EKH06cEAfxN8vyj3NMt/wBorTLp4I08Pa8DcyOik6dOAFU43sSvyr6E9aPax7j+q1Ox9G5FFfOTftD6THtA0DXmZ5jCoGnT84/i+7wn+0eKlP7QelggN4e17Jn8lcadPj3bO3hR/ePFVzolYeZ9EUV87n9obRiJGi0HXWCTGFf+JdcfP6svy8r/ALXShv2hdLCzEeH9dAilEXGnTkuT/EuF+6PXpQ5ruP6tU7H0RRXzrc/tE6HZG5VtD1xjbMinbp07by3aPC/PjvjOKu3Px30yzW4kl0PWsW+zO2wnJYvjAQBTux3x071Ptodw+rT7HvtFfO1x+0NpNsLsNoWuMbVVY7dPnIcsM7UwnzEd8dKV/wBoLSY/NJ0LXB5MSyMRp85GW/gHy8sO4HSmqsX1F9XntY+iDRkV88Q/tB6TJNLDNoOtoIYvNZjYT7Qf7mQvL+wpG/aF0SOcQy6FrgBtzcFxp1wVUf3CduN/+z19qrnj3B4ea3R9D556UtfPcPx/0hlRpND1tN0BuGH2Cf5FHZvlOHP93r7UsP7QehzeQU0XW/8ASIjNzp1wNqjs2VGG9FPNLnQvYz7H0HR3r51h/aJ0OWaCJtC1yMzI0uX06dQqr13HbwfQHk+lPtf2hdCuxb+Toutn7Qsj86fcDYqd3yvGewPJ7UOaKWGqdj6GyM4pa+c4v2i9Bka3J0PXEM+cBtOuBtA7t8nyj0z1qxbfH3R7lIZItF1kLcSFFL2E64VRks2V+VfQnGaOdB9Xn2PoEr6cU1og5DHqO9fOq/tG+H38sroeufvJzCn/ABLrg5x/F93hP9o8UwftHeHpnKxaJrhYzeSn/EuuAGweWBK/d/2ulL2ke41hqnY+jyqnIPem+UvHA46V87SftGaGkLySaHrnyTCED+zrjLnOMqNvKju3SrB/aD0FUuT/AGTrGbaRIiBYzncz/wBz5PmA7kcCnzxF9Xn2PfpIY5V2SqGXGNp6YrhW+E3wvZvMbw3pTNnOTZQZz9dlebTftC6JELnZoutMLVlUldPnO5m7Jhfmx3I4FE/7Rfh60knjm0fWcQIGLCwmKsT/AAqdvLeoHTvS9og+rVOx7ppWg6LodsLLRbWG0gGSI4UWNAT14UAc1pCJAnl9jXzvd/tE6HbeeF0TW2EEaSMUsJmzv6KuF+Zh3AzjvTk/aM0DEvmaLrQEEQmY/wBnznr0UfLy3sOfaj2se5f1Sr2PoIQRdSoOeKhXT7JXMiRqCx3MQAMn1Pr+NeDyftD6JE7Ry6HrYK2/2k4sJiMHouQuN5/u9ajj/aH0CS5itn0bWo2lgNwd2nzgKucYY7cBj/dPNQ8TBdRfU6nY+h9gDBhxilCdj2r5zg/aM0OdoV/sLW1M8bSDdYTAKq/3vl4z2B5PpU1t+0R4fuWt1XRtaT7SrMN9hOoUL1LEr8vsDyauNaL2H9Tq9j6IwB9KWvnOL9ozw7PFbsui61/pJcKG0+cYCdS2V+XPbOM9qnh/aA8PywwONJ1gec7KA1hOCAvVmyvyj0J60/aR7kvCVF0PoWivnD/ho7wwsUco0rWSs0pjX/QJxjb1Y5Xhf9rpUjftE+GViSZ9M1fEkxhUiwn5IOC2NvC/7R4p88e4fVanY+i6Q5r5wb9ovw4IWuItH1qQLN5IC6fPuY+oG37v+10p7ftG+Gf9IxpOtEW8yw4+wT5Zm/ujZkgdz0pc8e4LCzeyPo2ivm9v2kfDRS4EGkazI1vKsRC2E5JLcfL8vIHcjgU+X9onQYZrmL+yNZIttgJFhOQzP/Cny/MR3xkCl7SIPC1F9k+jaK+dLv8AaI8NWdxc20ul6wPs4XcwsJ2UlsYCkKdx9cZxS3H7Q/hy0WZ7jSdYAtow7EWMxyWOAq4U7j6gZxT549xfVqnY+iqK+d5f2hfDEEssc+l6wrRQic/6BORgjIUYXlv9kc1HJ+0X4chAL6RrPyw+c+LCchR2Bwv3j6Dmp9pHuP6rU7H0ZRXzvH+0J4alKI+l6uhMJnJNlMAFHYnbjcey9falH7QegZQppOsEGLzCRYz/ACr7/L1/2evtVOpHuJ4ap2PoeivnKH9ovw05tzJpWsx+eGb57CcbVXu3y/LntmooP2kPDdxNbxjSNYAuA7bmsJwFVM8sSvy5xxnr2pKpHuCw1R7I+kqDxzXzhb/tIeF7owKNJ1lPPZwoewnUgIMlmyvCntnGe1JD+0n4XnS3ePSNaIuZGjXOnzjG04LNleF9CetNzj3D6tU7H0hRXzxZ/tEeFL5VMem6sgklMS77CdScfxHK8L6E8Goj+0b4TMayRabq7BpzbqBYz5LDqfucL/tdPel7SPcf1Wp2PoyivnX/AIaL8JuJP+JdqwEcwhH+gz5LHqR8udv+1jHvSD9o7wg0Msq6dq5WKUQnFjOSzH+6NvI9SOKPaR7h9Vqdj6Lor5wvv2kvCFg1ysmmau4tSinbYTtuZ+gTCHd746d6ln/aO8IRLKv9nau7w7cqljO2S3QDC8++KfPHuDwtTsfRBUZBFOr5zn/aO8J2wmN1p2rgW8au+LCc8v0UYU7m9QOnei4/aO8JW0txGdP1Um1hWV8WM5GG6KCFwz/7I5qfbR7ieGqdj6JGScn6U4jPQ185p+0f4OGRJp+rg+T57f6BcDaD0B+X73+z1pIf2k/B8qrv07V03RGU5sLjKr7/ACcE9gefardSPcf1afY+jAoBJ9aaUBUr0r53tv2j/CcrQj+zdYUTRGX5tPuBtUd2+X5SewPJ9KZD+0r4MuJLaIafrCtchmXdp9wNqrnl/k+UccZ61PtY9wWFqdj2DWfAXgrxJcC88Q6PZX0wG0SXNvHMwHoC6k4qPSPh74D8P3f27w/othY3GNplt7aKJ8HqNyKDj8a8ktP2kfCV0lu66ZrCC4L7S9hOuFj+8zZX5R6Z69qpRftOeBpEikisNYbz3KIP7Puc4HVmGzhfc9aaqxvuL6tPsfSvkqAQtK0Qbg9K+bIv2nPBEqwyR6frBE0piT/iX3POOrfcGFH948U//hpvwKdp+xath5/IXOn3AJOM5xs+7/tdKHVj1Y/qtTsfQkum2N1Kk1xGrtEcoSASp6cHt+FWkhVOF6Gvm6L9p/wW7Zi0zWXVpvIUjTrjlh1I+T7o/vdPepk/aY8ESh3Sw1ghZhAv/EvuBvf/AGfk5X1bpU+3h3H9Wqdj6SpCOOea+c7r9pLwXbQTXB0/V3EMixYTT7gku3ZRsywHcjgetRy/tKeCYUuXNhq7LbOIzt0+4JZjxhBsy3vjpT9rDuL6tPsfR455xTq+b5/2lfBNvJdK1hq7fZNqtt0+4OWYcKuE+Y+uOneif9pbwTbGdZtP1f8A0ZQ0hGn3BwW6KMJy3sOaXtY9w+q1Ox9IUV84N+0h4LSaSI2Orbo4hM3+gz4G7gLnZgt/s9farP8Aw0V4PTeHsdVBS3+0vmxnAUf3Sdn3z/d6+1HtYdw+q1Ox9DUV85wftLeApiV+yaqjJALlw1hcDanbPydf9nrUtr+0X4NvDFHHY6sPNjMuWsJ1CoO7EpxnsOtP2ke4vq1TsfQ9Jk18+QftD+Dp7m3tUstUDXCl8tYzgKgzy5K4X2zioYP2jvCExs1i07V/9NL7M2E+AqdWclPlB7Zxml7WPcf1afY+iqK+cIP2kvBU6wFbPVA08hRQ1hcDhf4j8nC+54pP+GmPBGwSf2fq/wA9x9nUf2fcZYjq33Puf7XSj2sO4fVp9j6Qor5y/wCGk/BZgFwLHVmVpxbriwnyWPcDbkqP73T3ps37SfgqGOaY2Grnyrj7MANPuMu/+wNvK/7XSn7WPcawlTsfR9FfOM/7SXgm387fZasWikEWPsE/zMf7vycgdyOKS9/aT8F2SXk01hqxFm6RttsZ23M+MCPap34zzjOKFUj3E8LU7H0fRXzo/wC0d4LWS4jSz1NjalVYiynwWfoFOwbiO4HSpbj9ofwZbG5M1lqrC0RXcrYzkEt0UYQ5b1A5FHtY9xfVqn8p9DUV88TftE+ELeSaKWx1RTBCsz/6DOfvdFHy8t/sjmpV/aF8Hlpd9jqgEMAuH/0KbgHov3fvf7PWl7WPcFhp9j6Cor5yH7SvgppfINhqyssHnsWsJwFX0JKfeP8Ad61Gv7Tfgf7RHaLYaxukhM5P9n3GFTOPmOzAPseaHVh3H9Wqdj6Ror5vtP2lfBF3JbotjqyNcI0mHsLgbFXu/wAny57Z60yH9pjwPI0CLZ6qDPuIBsZxhV7t8vyg9icZoVWHcPqtToj6ToriPAvjfTvH3h6LxLpEc8UExO1biNon4OOUYAjOOK7erTuYyi1owooopkn/1P7+KKKKACiiigAooooAKKKKACiiigAooooAKKKKACiiigAooooAKKKKACiiigAooooAKKKKACoZEU9R1qaigadiAW8IGAvGc/jStGgO7HSpqj3rjIPFAczIhFDjbtp3lJypGccU3zkYhww2jqa4TxX47PhbXdE0Yade339t3LWwltYjJFbbY2k8ydhwiHbtDH+Igd6dug2zvTBEw6cGgQRgEY+vvTRKB8pIyegqXeuOtIHcZ5ERbO2m+RCGIx3z+NTlsDJryb4sfFvw58IfD8XijxOXNrLe2lgvlDe3m3kywR5A7bmGT2HNNX2Q43bsep+XGTnbzSiKIDIXH9KrQXiMuTxkZ61w2u/Ezwz4c8a6N4A1e48vUvEAnaxiwf3i2yq0vPT5Qw/OlYLHoRhjfBK9OM+1KsMa9BUayru8tjjFWAcjNOxN2RfZ4sg46fWneTGTuI5rgviX48Hw48IXfjB9OvdVWzVWNrp8RnuZNzBcJGvLEZycdgfSuws9QFzZR3boUMihtrcMMjOCD0NCQXZYNvGTwMYNL9njJxjgdKmV1bkVT1G/i02xm1CfJSFGc49FGT+lK4XZIIIjwF/nTxBFjleteZ/B/wCLPhf40/DjS/il4RZ/7L1iAXFu0qmN9hyPmVuQeO9elpMH4T5hjOexoWo+YV4Ijyy5pWSI/eXOaQTI4+U57nmvEvhh8dPDPxY8WeKvDHhWG4ZfCWotpd3cyJtie6RFeRIifvbA4DEcA0DV2e3eTHuzil8iPJ44NKHwcGpaLk3ZB5UTdv504xIeo61LRQF2VVtocnKD5utPEEQ6LxU9FAXZXa3Q/X8aPs8aqQB1qxRQF2QGGIdvpR5CenQYFT0UCIFgjByRmnGJCckVLRQO7K/kRhduM/nS/Z4f7o+lT0U7hdkAgjXgDp0prWsDfeUHPrVmkJAGTSC7IFhiXkDBpyxJ1I60SPhee9Q/aYljDhv14oC7HrBFk8dak8tVAULkV5brnxMTRfH+ieA5NNvJ31qK5kW7hhL2sH2YKds8o4QvvGwHrg46V6ZFcqwyx59BQW7kht4jjK/SlEKnG4dOlODBwadkAdaCCJ4UbnoelAhRMFR04qlPqcMSPIvzLGCSfpXEfC/4oeHfiv4EsPiD4bL/AGLUkMkQkGGwCRyOvUGgNdz0JIocEgd80vkxsgAGcHOK+f8A4sftCaD8HLfWtU8UadfHTtD0eTWbm8iiLQeXE2GiV+hlx82305r2fRdfs9c0O1120O2K8hSeMNwdrqGGffmldXsNtrU2fJh3BgP/AK9K0aAYA4rzHwx8VNB8WeO/EXw/sVkF94Ze3S6LLhCbmISoUP8AunmvUVY7cnmmDuhpijYYpjxRbShXIPWlEsY+TcAx7E80hnSIZc8etOwri+Sj5JHFJ9mjB+UYzzQspPORinefHt3KRj1zxQlcbbFdFIwRQYlIwR2xQJUKhs9aqXt9Hb27ThshAWOOTgDNIV2WGtonOGGSBjqaeIYwu3H6mvNfhZ8UvD3xb8Aad8RfDBYWGpxmSIyDa2ASvPpyK9HWVCNwbOe9O49R/lIW3Y9qTylC4xgfWmrMsj7UYE+xqYuAcCkGowRKBjFHlJjbjg1NRQK7IBGrYOOlHkJ0xU9FANsgaJMEqMUhhRx0zViigLkHkq3UYHU01oI/vEVZooC5CIlI5HHpQYY/T2/zzU1FFguyAwxjLDjPBp3lKDkd6looC7IvKH/1qYsKflU5GaWmFyDyEAwBgelL5Eec4qaikFyIwocDtUbwx8bhnBqzVaeUwoZm6Cmguxxijx04PamCCELwuB1zXzX4a/aq+G3ij9oHxH+zdZtND4k8NWtreTJMhSOaK6UsphcjDlON4HK5Ga9J8RfFjw94X8b+H/h/qwcX/iQzi0CqSp+zoJJNx6DAPFKWmjG21oelMkK8ke+frTvLTZkd/cmvB/it8WrnwV4s8KeC9EtBfaj4mvzbhC20RW8SNJPM2M8IAB7lgM1zvxV/au+GXwe+J3g74SeMHnXVfGk0kFl5UTPFGUGQ07jiJWYhFLdWOBQgbPp/y1OPpj/PNRfZYtxbH3utMtpzMgkUcGrDMwIGKBWYnlL3FBhQ9RUtHNAXZAIFDbhTXt43ILZ4qzRRcLsqCJADxx060LbQBSBnH1q3RQPmKS20GcbfxqUwREkAdasYooByKrxQ85X64pwijI5HFTFcmnUXFcrtDHjDDOKPIVvvDrVikIzQF2VXt4T/AKwZxxTxBF94L156ntU4FLQFymYIg5OKkSFV7fjViigfMyqsMe7KjpTfs8Ybc45PHFXKQjIwaBXKvkQngKR2qQQRKQQOnFTAYGBS0Bcr+TEvA4pqW8OQcfd96tUUD5ioLaEtvPU07yFxgjJqxjnOaWgV2V2t4yu1Rio2to2bpyO9XKKdxEYjVc4HWngYGKWikO4UUUUCP//V/v4ooooAKKKKACiiigAooooAKKKKACiiigAooooAKKKKACiiigAooooAKKKKACiiigAooooAKKKKAGlsMB618I/tp23xG17Vvht4A8AeJbnwtD4g8RfZtTuLNQZpLNbSeV4UY5CM5QAPgkda+7yM14b8VvhheePPF/g3xHaXS26+F9Ue/dCCfNVreSDaD2IL5/CjXoB+adp8FPGU/wC2Tqn7MknjzxGfh7B4ZtfES2P2x/tn22e5ltmT7f8A67yAsQfy8/fJ528VB4N8dfFXw1qngj4b6n4ivNQGi+Ote0E3Mr5mu7G1sriW2W5bA8xkAQFsDJGa/Q23+Dl7B+0xe/HgXSGC68P2+ii32neHguJJy+emMPgDrmvD4/2SfEf/AAnOn+LE1WHyrXxZqniN0Ktkx39pJbrEDj7ys+4+wpw5lqxo+Sv2a/2cvir8Zv2T7H42fGH4peI7nxteWU97Y3en3P2W0sShcwKLZVKT4AHmGXdv5xjjH6b/ALKnj7Wfir+z34S+IviTm/1bTYJ7k42gylRvIHOATyBWZ8FPg9q3wo/Z70z4O3t6l3Pp1i9m1xGpCOWDDcAef4umO1cB8JfHfwk/ZU+Fnh34F/Ezxhp0OraFYR27mWQRGQKOGCtg4I9qQ3K5qftrePvHng74W6foXw0uRp+teLtasfD9venBNot65WW4QHgvHErFAeN2K/PT9sz9mTXfg38MfCniT4c+LdbvkHi/w5FrVvrV416l5A+oxB5UEg/dTBsEbMLgkY6Gvvb4m6r8Hv2v/BN18OPh34ts5NbspYNTsLi1cStaXdpIJIZmQHJUMNrDIypIr5l+J37Ov7af7TdloPhT416roPhrTPDHiDTNZL6LLcXD6sdNnSYLKJI4/IjfBJT5juxk4ralLlkmVSlZ3OW+LOqfCTWPir4ktfjF8RvEV9rFrc+XpmieEZblF06Db+7EiWsbGS5bJZ/MJUcADFeAfA7VNb/aD+LvwP8AiF8Q7zxBHq/hjU/F2kp9rd7KWeLTXWKF7y2AC+a6Y8zONxHQCvtrwj8Fv2wPg5qOseB/g9c+GLjw/q+pXWqLrOotcLfwPeSmWRJreNCtwybiI2Mq5UAHGKwPhr+w/wDFf4bWnhqW58Xw67faXr+v6hf3lyjxST2uu7i5j2KQs0JK7R93HfilF+8JzPn7xfrPwt8Qa5rmpfEX4k+LNe8ewXVykNv4LkuntNPZGIgt4YIYmikaMBRJ5u7c2c4HT9IP2EPjJ4p+PP7KHgv4reOIpIdW1SwBuhKgjkMkbNGzOg4VmK5K9iSO1fNfw8+CH7aXwv8AAEP7P3hDUvC+neGrBGgg8QxC4k1FoWLZlezMaxNckHLOZSpfJOelenfs53/wq/Yl+C3hv9nL4oeOtPn1bRLV1ee5dYZLgPIziUocYLbucDGelYxlLQg9Q/bf8Q6/4V/Zn8TeIPDF7Lp97bpbGO4hbY67rmJDg+6kiviD4bfBj4j/ALSHx/8Ai7D8VfHmvR+EtC1qzs9G0bSbprEQ7tNtpZZJLiMea+XclUBCg5JzmvrT4seLPhb+1z8Mtb+B/wAM/F+mXGqajDE6mKQS7UinjkLFUycfJj6mvRfgv8GdW+Gni3xz4i1C9W6i8WapFqEKIpVoVitIbYqx6EkxbuOxpO+iQXPPP2L9W8ZafaeNPhL4x1e48Qf8IR4gm0qz1G8IN1NaGKO4hE7KAGkjWXyy+Bu2gnk19deL18zwtqO0/wDLtL+HyGvkzw/c+Af2VvFPjLxf8W/FFhp1v4619tRsvtD+Vt220MJiy3DMPLzx2Ndq37U37Ofjb/ikPDXjPSrq/wBTDQQQx3Cs8juNoAUHJyT0qaUW4vmC5+IPwi+Png/Ufhx8Nf2c/iBq3iLTvD2leEbbVb+Dw7bXjXV9NdTSpEklxaxs8USJGzMAQzluuBX1Z8LPi5qGj6Z42+Hnwa8T61p/hWDRV1Cw1vxdb3KjRpTL5U8X2i6RWnAj/eQh8kNwxIxXsvhX9kz48/A/wn4P8RfA/W9Ln8V+HtH/ALF1WyvhLDp2q2yyNJEfNjVpIZYXdtjlGBBKnAwa3vFn7OP7SHxq+HmqD42eI9Nt9aurywvdN0iyWSfSbZtOmE6RTvIqy3AmcYlbYoC7QqnGTdBNRswPgXxt8V/h98Go9C+I/wCzf418deK9c/tzS7fVZ7z7Ve6PeW15cR21wblpIkt7YbX3I8RXDAAAg4r7X/4Ju/DHQvBHir426zpl1fzyah4/1ISC7u5LhBtWMjYrnCk55I6gCqPxJ+An7bv7TPhGDwh8VtU8OeCtL07UbC+W00d579r77BdxzhJZZYohDEyp91EZs45AFfXn7N3wT1r4O33ja51a8iu18V+JLrXIhEGHlR3CoqxtuAyw2c44rCq586tsO59TqCBzTqTvS10CCiiigAooooAKKKKACiiigAooooAKKKKACmOxHA70+kIB60Afm3+19oPxP+Ifx0+E/wAKvCnjK88KaJrMmrvrcenlUub23t4ImjhjkIJiIdsl15AJA68eCeAv2b/GXin49+OP2ePEfxB8SzeAvCVppl3pNnHevHfrNfq7yeffj97MkTR/u1OMAkMWHFfox46+E954u+NHgn4opdpEnhNdQRoWXc0ovo40G0/w7dmT65pnhP4U3nhj46eLfirNdLJD4ltNPt0hUHdGbFZFYsehDb+MVSTK5j8tPBfxs+M17ceCNN1fXprm4sNK8c2c8wOPtb6PMkNpcSqODIFXJ4xuJx1rqPCH7M/xg1z9lPT/ANoPxx8VvENz8RoNDGsxXtpcCDTY5UgEyw/YdpSSJtoV95LnJIK9vetJ/Yn8R6Pq+kX39tW8kenxeKkYeWwZj4hmEsZB7CLGG9e1fWOh/Ce/0r9nCH4NXV2huI9DOkm4UHbu8gxbwOuM84/ycMJJt+/sNS11Ov8Agv4l1Dxp8MdB8Y6n8s+q6fb3Mij7oeSMM2PbJNeGftc+NvGOi6N4e+HfgK+fS9W8c6xFo0N+oBNnEYpJ7iZM8GQRRsI88byDjirHhP42fAj4A+FdI+EHjrxppVtqeg2UFnMk9wsblo41XO08jOM81yfxPuvhz+194SOh/A/xpp//AAkvh2+t9X068tXFyttdQE7POjQgmKRS0bgEfKx710Ttd2Jla+hzXhf9k7xD8FfEun+KPhL4w1u8s5Xl/t3T9fv3vo7qF42zNCXXMUyuAQFIjIJGBxXyL+zT+x34u8e/s1aX8SPEvxI8RWuuRQ3M+if2Xc/ZLHTkV5DBGbYLtuSAB5pmzvOcbRivs7wx4L/bF+IHizTLn4w32i+G9E0QmSaDQppbmbU5tjRgSNNGght/m3FBuYkDkAV718EPhRe/Cz4IaX8KtQukupdPtXgaaMFVJYtyAemN1Qld67GikrH46fGX40fEL4jfArxFceMb/fJf/ByTULqGMbYWvfPeOSZU5wTj+lfQXwy8G6h+2J4n1u68UeJta0vwv4Ce10Ow07Rrl7Ey3cVpDLcXVxJH88hDSbI0+5gZIJNdd4l/YG8Q6t8P7/wZa63bJLd+A5PB6yFG2iV52l889Tt+bGOtduPgN+0P8DvGl94v/Z2l0jVbLxLb239r6Vqs0tqkV/bW6W4uraaNJMrIiL5kbKCSMg80p017VOPZGdR308jP/Yj8N+PPBnxy+NfhXxzqra99i1nTUsL6bb572Z06Fo1m2gAyISQWwN3XHNfpHfvKbVmgPJ4GPWvzu+BvgI/sk+IfHfxd/aJ8bWEt38RdUtr93kYwW8EsNpHbm3g39Y0WMbe56nBNfRJ/am/Zw8RD+wtM8caS9zekQRLFdRly0nyjZz97J4460JWKk7s/Mq+Gizy6nP8AH7xb4n8C/FKK8f7Pqs01zDoqS7j9mWBR/octswwCrAuRnJB6enfHXWfA+p/EEaJ+0X8R9TRIrG1NjonhKaeOUyNHmW7n+zI0p3uP3a5Chexzx6nqXw5/bRvPBl58EdUl8NeJdFu43tDr2oPKLn7LLwWmsRGyPMFOMiQKWAPFZ/gn9nD9oL9m661TSfgA+ja5Ya4IGa71yWWK8tZIYEg+Zo0kM8OEDImVK5IrW7IPg7w98Yfjn8WvDi/BfwN4y8QaDZ6b8ULPw/Fq+pWwh1efRZ9Oa8khkWRB8xJ2JKUDYCtjNfSMf7OfjDT/ANqIfs22HxF8Rr8Prvw82u3Vg968l+955/kbUvz+9SBgNxRed2MEDivTfh/+xB8T9B8cXXjnx/4vj1vUL7xnaeLp3WAwoPI05rJrWJAThASCpJJx15r7TX4Wzv8AH2L4zvcLhNEOk+RtO7Pn+du3dMc4xWeHUteY0i1bU/KXWvEP7SNpJ4d/Z58B+Mrm1/s34kT+HpdVuyJruTRBYSXW13IAeZeFR8dQCc85+jvGfw6vf2T/ABz4V8YeCPEWt6po3ifUBoes6Zql415G0l1DI0N3EZfmikWRAGVDsKsflGK8o/aZ/Zr8cW3xF8KzeEfETaXqev8AxIfxBZ3UcRdLdo9NmVYZxkExSFSj4PRuOcV9HaV8Hf2kvi5470DxD+0dLounaR4Uke8tLDR3luPtt+YnhS4meVE8uOIOxSMBjuIJPFYU+Z/ETfufnp4B+MXhrUPDfgL4A+ONW1vS/DeneG49cu4/D8Nz597LcXM0cMLz2yO8cSCNiwG1mJHOAa9k8M/E34lWUfjL4U/s2zeJ9b0c6VFqWnz6razi6spPtAS7tLe4u0XzZDATJArliG4JPFe7aZ+yd8Zvg1pnhTxh8CNX0+TxT4f0z+xtStdQ8xLHVbPzWlQeYgZ4ZYndij7WGGYEdDXaSfBn9rLxn4a1nxN4w8Z2+geKbqS2l0qw0zfNptp9jcyCOd2VZZhcE7ZioX5cbRkc9EfMVzxH9nyX4VQ/FTw3dfB/xzr+l6tIrrrXhzxXPctNfQlG3OkN2AyTxy4OYsIRkY6V+vSNuA9a/OKD4WftMfGzxr4SvPj7p/h3R7DwnfR6mLjSp5Lu7uLqIMqrE0kcZgiO4mQZYsPlx3r9HY4wowO1U7CH7fm3U6iioG2FFFFAgooooAKKKKACiiigAooooAKKKKACiiigAqvcrujxViq8x3RHse1AWfQ/KKf4Yap46+Pvxb13whKLXxR4c1HSr/SZ/WRbFd8D9/KmXKMOnIPUV083xU0X4s/HL4KeK7GNoLiRtbguraQfvLS4it1WaFx1DKwxX1n8OvhNe+D/AIr+NviPdXi3MPiuW0kSHbgwi2gEJDHvkjIr5e+Jf7NGseEf2jrf9rLwdrH2fRdJsNRuNS8PrCX+16hLAI47iBx9xyo2yDHzcHrmpxavdx8jWoveuen+Dhb/ABG/aZ8R/EGRd9j4Ntk0KxbOVFxNie8YdsgeWhPsa+BtU+MP7Nfx6uvih4z8T+NtI03V5bj+xfD/ANpuo45bYaPIWikCscqXvAze6gV+gXw5+FXjnTP2ZZvC2mXa6b4m1+2uLm5upAT5V7f5kdmA5JTdgfQV6b8P/wBmT4NeCPBOleEIPDelXK6fbRwmWWygd5GRQC7syElmPJJJJJpx6syY79l74yaP8dfgf4e+JelzpP8A2hbjzjGwZVuI/kmUEcHEgIr6F96+dPhR8Hv+FQeJvEtt4ekhi0DWLsX9pYwpsFrLIoE6qoAUI7DeAMck8V9EKSQM00gHDOOaWiigAooooAKKKKACiiigAooooAKKKKACiiigAooooAKKKKACiiigAooooAKKKKACiiigAooooAKKKKAP/9b+/iiiigAooooAKKKKACiiigAooooAKKKKACiiigAooooAKKKKACiiigAooooAKKKKACiiigAoorI1bUjplrLebGkESF9qDcxwOgA6n0oHGN9DWJA60m1a8APxytDI8L6Hq4McXnNmzlxj+6DjBf8A2RzUMHxvjkMaDQdZG6EzkmykG1R/CePvf7PWo9tFbs2+rz6I+hAEPQUnlJnOK+frf46W8nkE+HtajEsZlw1nJ8qjs3HBPYdTVu1+NcN4Ldo9D1dBOjybXs5FKhP72QME9geT2FDrR7idCfb8j3YRrnkVyereAvBWvX41LXNGsb2dRgS3FtFK49gzKTj8a8lg+Owl+zsvh7W0W63lS1lINoTu/Hy5HQHGamtvjgJ47eQeH9ZX7UzABrOTKhf4n4+UHtmpeIh3/MXsZ9j2DS/B/hXQp3udE0y0spHGGaCCONj9SoBNb+yMDaRn8K+eYPju119njTw5rSNcztEu6zcYCdXc4+VT2z1pV+PVs7IjeHtbXzJzArGylAyOrHjhP9o8Ue3j3GqE+x9CBU2nao+lIyRFdpAI+lfPknx1Qq7ReHtaYCXylIspMNjGWHH3ffpRL8cbdEmlbQtZxHMIVxZSksxONwG37o7t096fto9GN4ea6fkfQZjUL90VzWq+BPBWvXf2/XdHsb2fAHmXFvHK+PTcyk49q8hm+PCQRyyf8I9rMgilWEbbOTLse6jGSo7t0qK6+PsFuLhf+Ef1t2gKp8ljK29j2XA5x3PSmq8dm7DWFqPp+R7Jo3gfwb4duDc6BpFjYuRt3W9vHE2D2yijiunAz1HTtXzk/wAfE8y6hXw5rhNqAC32GXDMf4U4+b3xxWpD8aocXBm0PV1Nuis4NpJyW/hXA+YjvjOKPaxXUHhprp+R7Dq3hrw9r0axa3YW94sf3RPEkgX6bgetZlv4C8CWlwl5a6LYRSxEMjpbRKykdCCFyPwry2X46wxzyRL4f1p1hi8xmWyk289FHHLewqNvjnBHsM3h/WVzAZmH2OQ7QP4TgH5/9nrR7aL2ZDoT7H0AI4+VwMGkMMbAZAOPUdq8DX42xmO2b+wdYVpoWmKmzkyiqM4fjhj2XrSaf8dbXUY4XGga1AJY2lPm2UqlFX+9kcE9h1qudDWHqPZfke+FUVsKBipAig5AxXzpZfH/AE+7jtn/ALB1pTdAsA1jKpVVOMtlflzjgHmrv/C8rXNuV0DWsXLsATZSgKq/xNwNoPbPWpdWK6g8PNdD6Bor5+s/jja3UMUq6HrCmeRlUNZSjAU43Hjhfc4plv8AHOK5iWWLQNZw87QgNZSKTtOC+CMhPc9an20basPYT7fl/mfQlFfOtv8AH2wnUN/YOtL5k/kJusJhkgfeORwv+0cCpX+OttGsqnQdZZ0l8oAWMvzkdWXj7vv0o9tHcf1efRfkfQgAHApa8DX44Wckc8g0TV/3TrF/x5y/Mx/ujHIHc9Peqs3x4t4vtG/QNaZYWRARYynezdk45A7miNaL2ZHsZ9v6+8+hcrS5A618/wA/xxtYEuJX0TWGW32g7LKUli3ZMDJx39KVfjlZsZs6HrCrborMTZS/MW6KvHJHfHSr9pEv6tPse/5B6UhIHWvn6f452luZVbQ9YXyYhKx+xykc9FBAOW9hmmp8c7Yttk0HWOIvNJNlLxx93py3sKHUj3D6vJbo+gt606vn6P45Wf2tbd9E1hQYPPLmylwo/uk4+/8A7PX2qUfHKw3Q50XV8Sx+Zn7FL8gxnD8cE9hQpp7EeyltY97ytLXz6vx407ZHI+iawgkVn/48pSVUf3uOCfTrVe0/aB0u9nt7e30LWd06tJ81jKuxVzy5KgDOOAeTSc0P2E+x9FU3etfPlr8fLG5+yj+wtYT7UzAB7OQbQv8AE+R8oPbPWoY/2gNJlECRaJrJe4lZB/oMvyqvV244X0JPNS60e5XsJdUfQ4jUdqQxow4ANeBR/HbT5Vhxo+rA3ErRJmylH3RkseOFPYnrVY/tBaPHBHKNE1hvPnNugFlNksOC2NvCf7R4pqsr2uHsJdj6HCKOozQygjb0r58l+P2moju2iaxj7QLdcWUuWb+8Pl+6O7dKhl/aB0mNpS2jawVSYQDbZSnc57rgcqO7dPem6qb1D6rPoj1nUfAHgfWLt73VtGsLqZz80k1tE7H3JZSTVrQfBfhPw1LJP4d0uzsHl4ZreCOIsP8AaKKM/jXi97+0Fo9n9pWXSNWY2zrG22ymO5m6Bfl59yOBVj/hf2ixSTx/2Rq7fZyqkiymwzN2X5fmx3x0pOrHYr6pNdD6FVFXhQB61IFAGBXz23x80lJLiOTRtX/0VELMLOUqS/RVIBy3rjpTLv8AaA0i0nnhOjau4t4VlYrZSkDd0UHHL/7IyapVEZujLax9Csit1FN8tANoAx6V89j9oHSk+aXRdXUCDz2P2OX5R/cPH3z/AHetIP2gdIZohJousLviMzbrKUbF64b5eGPYdan20b2uWsJV/lPa9Z8MeHvEVutt4gsLa+jQ5CXESSqD6gOCAawIfhf8NYJ1ubfQNNjdCCrLaQggjoQQmcivNY/2gtHd4Auj6viaJpsmyl+RR/f4+UnsOtWY/jto0v2ZW0jVlN0rOM2cg2Kvd+Plz2zzTVRMPqtTse8CGNDuRB6celO8pTywGa8BtfjxpdytsY9I1Ufat+3daSKVCAkswI+UemetJaftAaHdtboNK1WNrp2VA9nKv3erHjhfQnrTdVEvDzW6PoDy0J3Ec0qKq8DrXgI+Peju0aro+rkzymJP9Dl/h6ueOE9zxVZP2gtDfbt0jV/nuPIB+xSjJHVhlfuj16Ue1T0uSqMux77NYWU8izTxIzocqzKCVPqCen4VaCJjoK+d7j9oPQYztTSdWlb7R9nCpZynLf3l+XlB3bpU8vx80iCCad9L1UiKRYsLZykszcfJxyAeppOrHqxujJbnvxjDcYwPShoo2PzAEdq+eLj9ojQ4Emf+x9YkMEixEJZSku7dlG3nHfHSpX/aC0c/aCNG1cm1Ko2LKU72bsnHzYzzjpTUluWsLU7H0GsSL2APqKkGO1fPcvx90ONrkf2Zqh+yhM4tJfmLdFUlRkjv6Va/4XppHnTQnSdU/cIGYi0lwSQDtU4wW56CplVitxSw81uj3rK0ZWvAT8d9GjaUSaVqii3jEjk2kmOeijj73tSN8etFiBeXStVCrD57H7HLwD0U/L98+nWrUkxKhPoj3/K0tfPQ+PuhtKkR0rVATbm4INpL8q/3SdvDf7J5qnD+0TosskMS6PrC+ZE0p3WMw2gdN3y8E9h3o5kWsJV/lPpDK0m9a+f7T48aLdRQzjStVQTRtIN1nKu1V678rweOAcZqK3+P2i3UdtcR6PqwW7Dld1nKpQIOr5X5Qe2etL2kerD6rPsfQ9GR1r56tvj1o9y1rGNL1VTeB3XdZygIqdS/Hyg9s9arWn7RHh28FuYtJ1f/AEmRkXNjMDherHK8L7mpjWg9mT9Vq9Y/1959G5Wlr57tvj/oN2sckel6qokmeIBrKUHKdWxjhP8Aa6GmwfH/AEK6tvtVtpequpl8kYs5clv7wG3O3/a6Vd0T7CfY+hqK+ch+0LokisY9I1Y7ZfJ4sZuW7lfl5Ud26e9SXH7Qfh638wjTNWcpKIcJYzNuY/3cLyB3PSndF/VKnY+iaK+erj9oLw7bPPG+m6o5hKj5LKVtzN2XA5I746Ul3+0J4ctZZo207VH8kLnZZTNkt/Cvy8t6gVLmluH1Wp/KfQ1GRXzxP+0H4ft5J4X0nV826q7N9hmwd3QA7TlvUdakl+Pvh6EzA6dqjtbxCVwtnKfvdFGF5f8A2RzWarw7ieGqdj6DyKZtTpXgI+PWgE7TpeqoRB553WUwwD/Cfl+//s9aoSftFeHI1z/ZesbvJ84j7BPkLnoRt4b261cakWNYap0R9F+WgGMAU1okb5SAQa+eoP2h/DtyYQumasvmxGUFrGYBVGfvZXgnsDzVmD9oDw5KbVf7N1VTdo0q7rKYbFXOTJlflzjjPWk60V1H9Wq9j37y4ypUqMGnAKDxXz4v7Qnhto7WUaZquLott/0Kb5Qv8T/L8oPYnrRbftB+GJ7iCD+ztUBuC4TdZTDGzqWO3hfQnrU+3j3F9Vqdj6E2jO7HNO4FfOVt+0d4XuVjeLTNX2ySGNf9Bn5x/F93hffp71L/AMNC+GGjjmFjqYE0/kIPsUwO7u2Np+T/AGulP28O5PsJ7JH0RRXzsv7Q/ht3WFNN1Us8vlKfsU2CR1IO37vv0qsf2jPDQ80/2bq58ucQcafcHcx/u/LyPU9BR7eHVjlhprVo+kqK+ef+GhvDWyaRNN1V0hlEJK2M5DMTj5fl5A7kcUkv7Q/heL7QJNN1YfZnEbf6DOdxbps+X5vcjpTVaD2Zn7Nn0PkHpRXzrN+0P4ZgkmiGl6vJ5G3cUsJyCW6BTs+YjvjOKtT/ALQXhu1aeOTTdV3Wyqz/AOhTfxdAPk5b1A5odaHcpUWz6Aor50l/aO8Lo0sa6Zq7tEgc7bCcjB7D5OT6gc1Mv7Qnht2mH9naqPKh85s2M/Tj5R8v3v8AZ6+1J1o9x+wZ9C0V88J+0P4Wdin9m6sGEPnc2M/C+h+X73+z1p6ftC+Fm8oHT9UXzYjMN1lONqr2bKfKfY9aTxEFuw9hLofQlFfPFt+0J4ZvJLeGDTtUDTqz4aynG1VGfm+X5c9s9aSH9onwvPLBb/2VrCNOCVLWFwAAvdiV+X2z1oVeL2JdJo+iKK+eYv2h/C08kMaWGq5nZlUfYJ8jZ1J+XgehPFQy/tFeGYVhaTS9XH2iUxIPsE+eP4j8vC89TxVOtFbsFTZ9GUV89L+0L4bcqI9O1UbpzAP9Bn+Yg4yPl+7/ALXSpl/aB8ONDJcDTdV2xzeT/wAeM/zN0yvy8j36VPt49xezZ78RkYpa8Cn/AGg/DNuziTT9TIilEJIspjuZv7oC8gdyOKoXP7RvhqB7pV03VW+yssZIsZ/mZv7ny/NjuRnFUqqYKDPoyivnCX9pDwrE1wDpmrP9nChiljO2WbsuE5PqBVmT9obw1ClzINM1ZhbBd+LCcklugX5eT646U/aR7jdNn0NRXz5c/tDeGbTzRc6dqn7qNZG22M54boo+XlvUDmpD8fvDfmSR/wBm6pmOETn/AEKbG0jhQdvL/wCyOaFUXQSgz3+ivn6L4/eHfNeObTdUXZD55JspgAvoTt+9/s9aYn7QvhkxrKNO1QAwmc/6DPwvofl6+3X2oc0V7Jn0JRXzxF+0R4blMKjTtVUTRNKN1jOMBf73y8H0B5PpU8H7QXhm4Nrs0/UwbuMyLmynG1V67vl+U+gPNNTT2H7GR9AUVx3gvxhZ+ONDXX9NhngikLBUuYmhkG045RwCPxFdgM4561Rk1YWiiigR/9f+/iiiigAooooAKKKKACiiigAooooAKKKKACiiigAooooAKKKKACiiigAooooAKKKKACiiigAqAg5+YZqeigadiEBS2elPVdtOOO9eZ+PPidoXgPW/D/h/Vt/neJLtrK2KjIEixtL8x7Dahp3A9KK8epoPIzVeK5glAZZFP0IpTdQCQRs65PbIz+VCETkBvxpiqucj1pj3EMXzSuAB6nFOEsfY0JgSbBnPp0pAp71SmnjYbopRlTg4P864PwV8QH8WXutWU2n3Wn/2TfPZB7tNizhQD5sR/ijOcA+35O2th2PSRGoGAKacYx2NMjuYX3YdTt6gHOKPOiLeWHXJ5Azz+VJoEO2qx5HBqUIMYNNWQElOpHXFeY/GD4paD8Gvh1q3xK8TLI9lpMBmkSBS8r8hVRF6lmYgAepoSuB6bxuCmlC4OCK5Twj4hm8Q+HLLxDeQSWLXkEcxt58CSIuudjgZAYdCK6Y3VupAZ1BJwMmlboDJMKDtPegKM7TTXmjCkhgMe/pXCfEr4l+F/hZ4E1P4jeKp/K0vSLdrm5kUFisafeIA5OPQU7dxHftuA4pOd2K8g0r4orq3jRPCtjp15JbS6dHqKagY/wDRmErbREHz/rAPmK+lesR3CSjAcBh1FIZYIBYe1NVcMVqNriJeSyj8alWRG4BBx6UAAQDgU4gU6igVhmA2TQUB/Gn0UXAZtpoUDrxUtFFwGkDrSbRTxnvRQAzbx1pSQeKU57UtADB15/Cne9LRQA0ADGKaOTmpKKAI8jsaVTkc96dtU0EgcmgegwKuc0jEA4prTIrHcRgDPWlE0XUMD3oGhwUD2oYc81BczGJQR36V5j8Lvi14e+Kej3ms6CHWGxv7rTn80bT51pM0MmPUblJB9KfJck9SKKedoPvTsL1I46UhmjRNzkADrzQk0cgypBB9KVh2GgLnAH4CpGBCnb1ppmiP3XGR7017hYyAxGSOmeaFELi+XuHHFP2gnkVGtzCeN4JoeeJVBZguehoAeu0ngYp5UHrXk3in4raF4Y+JHh/4ZXYf7f4jiupbYgfIFtFVpNx7feGK9OinjChC4LYz1ptWG4st7FIwRTQvbHFKrBidvSnEgdaQrDdoHA9c0fKeMU+igREdvTGaUxLzUlFFh3Iyq4AameWG4znvU9GMdKAuM24/CjbnGe1PooER7OlIygcgVLRSsBGFz1HWl+6frT6KaSC5FjGWFAXP4c1LRRYBm2hVC9O9PoosBHsHOB+NKY1JJI60+igCJRljT9oxinUUWG2N2gnJoC4xmnUUWEN2r6e1M2fwnpUhOBmkZgoJJxiiwDdgHPvTgoxgdKrrcwOxhV1ZgOQDUvmIDjIotYYuxcjinBRXmet/E/RNE+I2k/DS6WT7drFvcXULAZTZbFA+T6/OMV6NHPHKu9GBHsc0WEPaNScnvS+WKhW6t5JTCrgsvJGeakeeKM4ZgCegJxSshsdtU/X1p4AHSmNIqgsxAxUYmixvLjBxjmnYLkmAoJHWmbQDnH1pzSIM/MBivP8A4ofEbRPhX4A1P4jeICzafpUDXE5jG9ti9doHU0AjvWjR+MZNOMasDu79c1j6NrNnqek2+rwnZFcxrIu7AOHAIz+BrbDqehBocRttaEQjVe2ccU7yl6Ecd6mooDmZF5cfTaKakSD5cVPRSsK7IjDGe2PpTTCueBU9FFg5mQ+UrDnpTFiTdyv+FWaKdg5mReWhwSMY6U0xBW3KKnopWQczK7RLjIH5UCJOcr1qxRTsHMysUAOSM08xqfm6etTUUWQ+ZkHlgdvx6UBA3XtU9FJq4+ch2AYHU0/y19KfRTSJ5mV2izxjNAhQgZ7f59asUUrIfOyMRrnOKDGnUipKKYrsjVBipKKKAbCiiigR/9D+/iiiigAooooAKKKKACiiigAooooAKKKKACiiigAooooAKKKKACiiigAooooAKKKKACiiigAooooAYQMivzc/b+8K+PfG3ir4P+HPh9q39iXF14rInvVAMsdsLK4M3khsjzCoIUkcE5wcV+kpx1r41/a4/Z68W/HuPwfqHgTxCfDereDtaXWrabYZEkkjhkiWKRQRmN9+HHXGcc00O589+I/hLqX7I/xM8HeNPhp4i1i90jxRqg0bWdO1i8a8hdp4XeC6iMg3RSJIgDBTtKseBivkXxdqnwu1mDWdfuviB4x8VfEy1jupYrjws1w+nWs8e5khihSM25jjOFbzSS2DkivvG6+Bn7Q/xv8AEljc/tGX+lWGj6HHO1lZ6I80jy3s0LwC6lklSPZ5SOxjQZ+Y5J4rjNA+Av7Y+nfDNf2d7HWfDmgeHbezbThrenpM9/Jb7dgZbVkWKOZh95i7DPPNIuD11PG/gXN40/bw1e0T4sa3qGlaL4f8O6Nc3Gm6ZcPZPe6jqMHnyTTSR/vAkYwqIrBd27OcVxXj7xN8dvgd8V/iB8FvDPja4u9Nuh4T0zQpr51luNKGsXNxFcyO5X946qn7ov1O0H3sfEDwLd/sfXvgy0sfGE/gy8tfDlro03ie4sTe6Xqn2M7VivY1ZDDOmd0T7hkMRg1zfgP4O2vxV0X4x/G7UI9Y8badr9ppEUeppGbW6vrnSGeU3WmQtnaluzgwgbt7IeTnl8rKlJXdj3T9qf4B69+zZ8JrD4gfA/xrrVnqY13RbfU21G9e7S+t7i/hinG2TIjlZWODHgAZGPTxfxL4m+PPxB8U3fw48F+Nrvw6+ofF250mW7QLNJHpkenGZ7eEONqk4+Q4IU84PSvOvGF/qf7Wdj4W+D9l8Rb34hXkGvaZfRafa6a2nNZJYXEc8k+qSFmG6NVICfJucjjtX6V+Hf2ONW0rx+vjSXVoyB42uPFixhGBCT2ZtfJJ/vDO7PSorN2jymTeiPCPiZ4Km/YP8c6F8RPh9r+u6zpmt2+qRavpeqXkl8lzLaWEl3FcRFxmKTdFtITCEN90YrS8I/s9eLvGH7PMf7SOrePNbi+IWo6I2sR3kV0VsLeWSFpkgFljymgTIU5+YgZ3Zr7q+Nvwjf4k654V1tZFMXhy8uLqS2cEi4Wa1kt/Lz0XPmZJNfijqHxIXwf4H1r4CD4hanotmILnTIfAr6Y0muh33Rx2dpdhvngbcAkuw4Q5zxmklK4XP1+/YZ8WeMvHf7KXgDxp49uxfazqmh2dxfTjH72d4lMjjGBhjz0rzj/gpZ4F0vx7+x74q0PWJ7uCFjaNvs52t5QftUQGHTnv0rP/AGefiZ8Iv2VfgJ4J+BXxV8Q6foWt+H9CsraeyuJwHiKRKMc8nHIz3xXXfFLxb8Lv2t/hnrXwZ+FnivTb7Ur2OGX91L5gRIp0kLMFycHbj61rTurMqm7NM+VvCnwp8dfEv9rzxL8K/EXjLVoPh94V8N+HpbbSrW4MU0944lLSTXIAkKkIu5QfnPU1wfxUb4I+Jfilr+n/ABW8e+Kte12zuJIbDTPCD3Yh0uJAPLR1tUYSXHALmUsM8bcV+lXgf4J3HhX41+Jfi1Jd+aviHTtNsDAAQ0f2AOC+7vu3/hivmLwX8Bf2rfgra6n8Nfg3f+Hl8O3d9cXkOr3/ANoOoxfa5Wlk823jj2TyKzkK5lGRjOKyw6l9sJHyR+zh8Uvi1+13pnhn4BeMda1jSbLTzrk2sXgxZarfWunX7WNnbysBmF3ALzlAGyoxtzXrX7U/7Klz8PP2Xvid4f0PxPq934L1HQLiQ6fe3ss13aXSENutrpsy+U4yGRy2CODg4rpvA37C3xh+C3hjTfEHw18W2+oeOdJ1XVr37ZqMLJb6jaaxcG5ltbkRAmMq+GR0BAI6c17BefAj9oj4weGvFtr8etdsLCbXdJm0mw0rR/MmsrUSjP2iaWVEeWQkDgKoVeOSaIqXLruKN9z4z+KPxJ8dfs5eIIvCHw41S7eJPAmh6fpf26ZrlYr7U9TazW6lJyXZFYEk9dozXufxR/Zr1r9mXwQ/7R3w88aeIb7xJoHkXeqx6pftc2mq2+9ftKPbMPLiYoSYzEF2kAYNd94k/Yx1z4n3NzqHxN1WCC4vfCNpoDPp6N+5vbO5a5ivITIAQEkKlVPPHNV774Nfth/FjSrL4T/HXWNBi8KW00Tahd6UZ2vdUjtpFeOJopEVLdZCo80h34yBnPCpxaWoou1zyT4RfAjxp+1R8QviZ4i+NPjnXv8AhHNO8SXNnoOkaTdtp6WsKwxEvLNCBLK4ZiUBIVR1Br6z/Yh1rxbc+Btf8GeNdUl1y78H+INQ0OK/uMCe4t7WTELTbQAZAhCsQBkjOOa9a+CPwkk+E58VyPdLdJ4i1qfVkVFKmJZkRRGc9SNvWnfA/wCEtx8KZPFMst0Lv/hI9fvNZ4Ur5QuSCIznqRjrW0rDVz38Zxz1paau7+KnVJLCiiigAoopMjOKAFoopoYHgUBYdRRRQAUUUhIHWgBaKKKACo5OUKnuKkqJ2UjpmgaR+dv7YaeKFvvDra2usv4CUztrTeHvMF8JgV+z+YYcyi3+9vMfOcZ4r5qs/FX/AAhvhs3vwM8f3es+G73xRoNutlfSPNqOnNNdBLq3d5QJPJlXGFfLKS3JGMfd3xs8GftAv400z4kfAfUbQzWUD2t5oups8Vpdxu4ZZFljVzFMhzg7SCDg4r561f8AZK+KvxdGufEb4mz6Z4d8X30dmulppW+eC0k0+c3FtLcuVjNwxkADfKMJkA0FqVtz6J/ay8XeJvCPhXwneeGLtreS78U6TaTlf47eabbKh9iOtfBv7Mf7MOt/Gi3+IHif4leL9ZttMbxjr8WiWOjXbWKWsIu5AZZGj+aWYvk/N8oGBtPNel+LPgJ+3D8f9e8GSfGXXPD3hzRvB+vWmrz2ejma5fVTaE4EjyJGIVydwUbuep4qTwB+zv8Atifs56j4rt/gjqui+I9O8W67f6z9n1d5bc6XJfSmQiJo0fzY8EHYcENnBwapJ9B8yPH9S8VfFrU/C1v4E+JF/rms+GvBeuajoviK/wBBDLqFykIjawmm8keYIzG588xDO/HQV33g/XPDnhz4d+Nr74P/ABUe08NtDbyM2uyyTXuiSFytywMwEm148GJZM4k9RXp2mfsz/tC/CPTdL8XfBvxDaar4m827ufEFtqnmQ2Wqz3jiWSSNkDtA8bfLESCNgANefeL/ANj344/HHVn+MHxPOiaL4vs2tTplhZGS40+QWcxnVNRkKK04djgYUiPAIz3klvsfLnij4seBvhFrfgnxz+ztrvjfWri58Q6bpmrSaiLq4027tdRnWB3nadFjiYFw0bRY54wQePWLb4d/Fjxx8Evif+0Bq3xB1g+I9B1PX5fDiW8vlWdhFp80ot4ZYANtwDsw+/qOARjNe0fEr9nn9sH9pLSdF034u65onhWy0PWtN1ZNO0YS3Iuzp9ykxWaaRY9iMF+VUXOcZIHFfSnhb4AahoHwR8WfCmW9jlk8STavOJwp2x/2lJK6gjqdm8A/Sm02nYcbXVz4jm8D+OPg14T+Ff7QEPi/V9X8TeItY0mz11bq4JsLuPVRtlCWv3IRGxDRbeRjBJzVj9mX4O+Pv2ofCPirxj8cvGus4i8Ta5YaJFpN41oLO0t72SKJpCg/eSgLxuyoXAxX2t46/Z81Dxh8L/BHw++3JC3hPUdJvmlKsRKNOIyq45BbtnpX57fspfD39sXwF4N8R3vwPudJ1LTte8Wa3cva6+81u+mySXsu6SExo/mxH7wjODknBweOZqXOZt+8YusfHTxh4E1zQ/EnxHnOr6l8NIvGdrLdkfNdx6dBC8Lsq/xuhUPjHzA4rgdJ+KXw8134Z2/xmuPFXjp/iHcWq6klylpfpYCdl8xbYWYjMRtznZ03Ec7s19/+G/2GrewHh8eLtUXVjBFrja+zIVOoXGuBROyjkKikYUHooHpWV4b+E37dXgrSY/ghoGu6JJ4UtFFvZ+IZTN/akFmpwsZtthieZU+USb9ueSO1dSi+ppOVz7b+Bvi/VPH3wk8P+Ntcs5NPvNUsYLqa2lUo8UkiBmRlblSCehr1nAYZNYnh+0k07S4bGaVp2iUKZX+85A5Y44yeprcBB6UiL9RaKKKQgooooAKKKKACiiigAooooAKKKKACiiigAooooAKKKKACiiigAooooAK8w+NA8dH4Va+PhkVGvmyl+wb8Y8/adnUgZz0zxmvTunQV5p8XvBepfEH4dap4R0XVJtFvbuIi3vYPvwSjlHx3AYDcO4yKAPyI8BWPw90nxr4e1Dwr4u8T+EPiG90jajYeKJrnyNRB/wCPiExTL5PIyYmhwAcdRX2r+xJ4z8V+OfgLNrvi/UJNQvF1nWoRPLy/lwX00cScAcKgCj2Fefah8IP2tvjJp9h8Nfj2PDMWg2VxBcXWo6fJPLd3RtmDp5MMkSC3ZiBubecZIGaqx/Aj9rP4SJrfw3+BGqaCvhbW7y6vbW81Mz/bNLa9dpJlWKNGS4AdmaPLr6GspJuUSktbs+KfBGn/ABj+P/jr4Ow3Pi27sYp28Wrq17EQLuWzhvfLjgifbhDwg34JCj1Oa+o/FXw8+JP7LnxBtvCXwL1/UdUsfG2m6lDa6frN2139m1WCEzQTQzSfOqSYZXRiQDgjHNcr4H/4J+/Gz4YeEvhvfeD/AB9Fd+KfhyNXY3V3A622ptqk/nMlwiAsiH1XJUgEAgV7Y/7O/wC0D8YvEs/jz476zZaHqFpp89joMHh9pZkspbkL5l5JLMke+T5QqqFwFyM5NFFSUfeHGSsrnyV8OtP+H+n+IdCvNP8AFXinwN8U5b2B76HxVPc/ZtRk3AXFt5Ug+zlHG7yjBjBxgkV0Xj67+E3iv4ieIo/iV8RPE+s+JrW8lSysPCD3Bh0xAMRR7LeN1ebu5kyM8YAr6I1z4K/tgfF3w5b/AAi+Ms3hj+wElj+16xZNcPezxwsGDQ27xKkEzYGX8w7TnGab4F+BX7WXwZ0C4+DnwlvfDcPhozzSQ6zc/aDqKJcOWYzW6x7JpgSf3hlw3U46V0SStcSZ8j/B3UfjL+1Sfhb4P8b+MNc0XTJbDX01q3h22l9qK2F2tvb/AGhwC0Mm0hn2YOc4x29F+HH7OPijx98TfiN8IPFXxE8Sy+GvAc9pH4eiguzBdW7XFuJ2a4uQC1zsYgIHGNvDAmvo/wDZq/Y28R/AzWfDd/q/iH+2m0ODWIpJ5VImuW1S6FzvYYABXGMDj0r6I8A/By58IfE3x549kuhMni6a1kSIA5h+zQCE5PfJGeKymnrY1mld2PzW8G6l8c/2hfiD8NvAeteLrvT9Bl8M6hP4g+xsIbi9ktbpII2SQLmMvyXIwcHA65E37RnhbWf2c/Cni74SaBrOoat4Z8UeGb68tLbVLhruaxurNk8wRyvmRopVkBwxYqw4ODW9c/s4/FD4fftAeDIvhdrcMWueF/Deo7RdLJ/Z97HdXqu0M2wFkYDlWAOD2r1fWf2VPjR8Z4vEvjL486nptvr+qaNNoWk2emGWWzsLedleWRpZER5JZSq5woAAwM1EFJX5u5irpo+T9b+Mfw2+K/xL17wj8Xrvxk2j+CxZ6Za2Hh62v1gNwbaOV7ia4skJdsuAiFwABkg5r71/YW+IHiXxPoviPwxfjW7zStDvVi0rUtdtJbS6ubWRA4VxKiF2ibKF8c4Geaz7/wCBPx6+EfjO68d/s43mkTw65bwJq+l6u00MT3MEawrdwzQpIVYooDoyfNgHIr6T+BfhH4j+EdAurj4q62Nd1nUrh7mZoUKW1vu4WC3U/N5aAYy3JOTgZxXROTbfYqb1Z7zRRRUEBRRRQAUUUUAFFFFABRRRQAUUUUAFFFFABRRRQAUUUUAFFFFABRRRQAUUUUAFFFFAH//R/v4ooooAKKKKACiiigAooyB1ooAKKKKACiiigAooooAKKKKACiim5+bFADqKKKACiiigAooooAKKKKACiisDxFrH9haVPqnky3At42fy4VLyPgZCqo5JPahDSvsb9NAHPHWvm3/hf0XmBZPDutr+4M75spPlPZDx972FT2n7QFrPGrHw9ranyGnYGykBUDop4+8ew60NmjoT7f1959FDDcUpANfNtl+0JDdNCZ/DWuw+bE0zb7KQeWq9A/HBPYVbtfj3DqFxbWn/AAj+tRNdRtL89nIPLVf75IwpbsDzU86GqE30PddS0+y1O3azvokljfqsih1IH+y2R+lSRWiQQC2hARVG0BQAAB2AHT8q+f4/jpvkt0fw7rYadXb5rOQFBH3bjjPb1otPj3DcPaBfD2tr9r3YLWUi7AO75Hy/j1pxqFfVp9j3iz0y1s7h5reNFaXl3VQrMf8AaIHJ9zWqTg89K+cz8eJCEB8Na2N8zQ5Fk/AH/LQ+i+/eo4vj9HJaxzP4d1wNJcNCA1jKG2r1kIxwnvScyvq0ux9IhQDurEuNF064uxqU0EbzopVJCil1B7KxGR+deFWP7QVveozR+HdcAE/kAtYyrnBwX5H3PfpUMP7QlsyyPH4d135Lj7OqmxlBb/bUY5X36U+cn6tM9mvvAng/V7s6hrmlWd5MQBvnt45HwPVmUmpNJ8EeFNDumvNE0yzsnYYLQQRxMR6FlUHFeTy/HSEtMsWg60/lSLEpFlId5PUrxyB3PSqt38fra1W7I8Pa5J9klWL5LGRvMZv7nHzAdyOB60OQLDT7H0ZgBQQKXbg8dK+crv4/2tjDcSJ4d1uf7OF4jspWLM38KjHzEd8dKbc/H+O1Nyp8N64TbRq/y2Mp3swGEXjlvUDpSU7lPCTPo8MC3Hegjd+NfOi/HyEibd4b1wGCESsDYy9W/gHHLe1TQ/HeEiIt4d1seZD55zZS/IeyNxw5/u0+bsL6rOx9D4HpUYX5gCK+f7X49Q3UkUZ8O63GZYWmO6xlGzb/AAtxwx7DvUEXx1jlubSM+HtbX7VG0pzZS/u1Xs5x8pPYHmlzkvDT7H0WQOuOlAAHAr54tPj3BcLAx8O62pnV3+axlBUL/eBHy57Z61HY/H5b6O1dPDeuRtclhh7GUFVH8T8fKD2z1pc6F9Xn2PovctGR0r57tfj1b3d7bWLeHNcje5kaMF7GYKAvG9m24VfQmpz8bIwEA8P60TJM8I/0KXjb/EeOEPZu9P2ke4nQkuh79RXzY37QcEYQt4e1xS9x9nUGwm5Pd/u/cH97pTj+0NC8LzL4a18bZhCo/s+bLc8uBt5Qf3ulHPHuP6vPsfSNIQOpr51n+PlksMk66FrbBJRCNthMSxPdRtyVHc9Kmn+O0Vq06p4f1uUQMqgrYynzN/8AcwOQO+OlHOurF7CfY+hCQOtLXzve/Hizs1vS2ha0/wBjKL8ljMfMZ+MRjb82O+OlLN8dktjc48P6262yqf8Ajwl+dmxwnHzEdwOlHPHuCoyeyPoem7l6Zr54uvj1b2klxG/h/W2+zoHJWxlKlj/CpC8t7CmN8frYSSxjw5rpEUKylhYTYJb+AfLyw7r1ocl0Y/YT7H0ZRXzuPjzb5Ik0DW1CweexNjLx/sfd+/8A7PWo7b4/21yiyHQNbAaHzjusJVKgdFIK53e3WlzruCoT7H0VvWlByM185J+0FYSNAjaBrcZmhachrCb5Nv8ACx28Mew6mpbb4+W120IGga0omjaQlrCZQgUZwxK8E9h1NNSXcXsJ9j6JpMDGK+d4/wBoGxaa0jOga2oukZ8mwm+QL/f+X5c9s0yL482lxJAtvoWt/wCkMykNYzDYF53PkcA9s9aOePcPYz7H0UuD0o7186xftCWEkFvMfD+tqbiZogv2CcEBf42G3hT2Y8Vaj+O9hOilNF1jmVoubKUEhf4+V+7/ALXShzXcFRm+h9Ak4oGOor5sT9oqxMbOmga222byf+QfNk/7Q+X7o/vdKnl/aE0wbmOh618sohX/AECb5yepX5eVHc0vaIaw8+x9GMAwxTcEY4r54uf2gNLgW4Y6HrRFvKsXFjMd5bumFyQO5HAou/j/AKTbfaFGjazJ9nZF+SwmO4vjhMD5sZ5x0p88e4/q0+x9EHGMkUcHpXzjcfHuzs7q4gbRNaYW4U5FhMwYt/CuB8xHfFPk/aE023kuYW0PWS1sqscWMx3FxkKPl5YdwOlHPHuDw0+qPowgbcVm21pHa/IiqvJOFGOv0ArwWb9oOwEk0K6FrRa3iWZiLCbac/wqdvzN7DpUp+PdiX8s6JrG5YPPbFjLwP7ucY3f7PWl7RFrCT7H0IpzTgQfrXz4nx804vAr6HrAWeEzbhZTYUf3W+XhvbrUNr+0FpdzsT+w9Zj81C+GsJhsA/vfLwT2FVzLuH1SfY+isDO6gCvnGP8AaF0yaKCRdD1pBOGPNhNlNvXeCvHt61Jp/wAfdPvLa2kbR9XH2otjdZTIVVP4nBXKg9s1m60VuxfVKnY+i6TNfOlv+0Fo1ykLJo2sqJ3aME2Mwxt7sNvA9z1pIv2gdHkjjmXRtZAklMKg2M2TtON5+XhP9o8U1Vi+oPCz7H0YDmlr54f4/wClghRo2sEtP9nUCxmwT/fzt+5/tdKlb486UI2ePSdWbEghAFlLktnqOOV/2ulVzruL6tPsfQVFfPB+P+lguq6LrDYlWFQLGb5iTgkfLyo7npTZf2g9LjMwGi6yfIkWLiwmO8t/d+XkDuRwKHUj3D6rU7H0TRXz1qHx70vT2nWXSdXYwlB8ljM24v0CkDkjvjpQ3x80yIXYGjaxmyxuH2GYly3ZPl+YjvjOKOePcn6vPsfQtIDkZr51vP2gtLsXdJtH1j90oZtthMRluQAQvJ9hT7j9oDSrUT7tI1Zvs8QmcrZTEHd0UfLkt/sjml7SPcf1afY+iKK+epf2gtIhZhJpGrYW3FwxFlNgA9F+6fn/ANnrTk+PekzMEXSNYz5ImP8AoMxAB6A/L97/AGetDmugPDT7H0ETgZpN2enNfPn/AAvvSfMWN9I1cbozKT9hnwoHY/L97/ZzmkX4/wCiSm3C6TrANxG0v/HhP8qr/f8Al+UnsDzRzruH1efY+hqK8Bt/j1oUz20a6Zqq/aommG6ymG1V/vZX5SewPJqC2+Puj3gt3h0rV0FyGI3WE+AF4Jb5fl9s9aHNLdidCR9C03PzYr58s/2gNDuVt92l6uv2piqlrCdQMd2yvyj0JxmnJ8fNFmt4riDStXbzZjEo+wz5+XqxG3hffoafPHuJUZH0CDmnV87t8ftDMazDSdXKvP5CD7DOCWHfG3O3/aPFOP7QOifMkelavxL5QP2Gf5iOpHy9B69KPaR7h7GXY+hqK+eJf2gPD8MdxM2l6s4glEPy2M5LMcfdAX5gO7DgVM3x+0FftAGm6qRbMqkixn+YscfL8vzY746U3Jdx+wn2PoGmsoavnuf9oPw7CJ2bTdW224XJFjOdxbsoC8n6Vcb48eH0S4LWGploFViBZzfxjgD5eT6gdKXtI9w9hPse8E4BpqgMoBrwC7+P/h6zaWGTTtUzFGJGZbGZgM9BkKQW9hTU+PXh6SZ4TYaoWihEzH7DOBgjIGduC3+z1p88e4lQn2PoMUvPavnw/tAeHVnFs2masrGHzzmwnwF7Anb94+nWo7b9oPw5d+WPsGqKZYmmG6xnXaqnHzZTgnsDzS511ZX1afY+hVOWpSAa+eov2gvDcnkq2naqhlUsP9AnOFHdvl46cA80v/DQvhYyWarY6n/pm/ZmxnG0J1L/AC/ID2z17Ue0i+olh5vofQm0DJo2qRgfpXzvB+0X4XvJLaOHTtVBu3ZUzYTjAXqzZT5RxwTTYf2jvDFxHHNFp2rYllaFQ1hOp+XqxBThf9o8GmpruH1efY98ktE8/wC0Kg3AY3YG7HpnrVworKPMGSOfxr52g/aK8NTpFcf2dqu2SZoV/wBBnySP4sbfu+/Q08ftFeHWjjddO1QiWZoE/wBCnGSvU/d4Uf3jxQ6ke4ewn2PoUxIfvgGnqqKPlwK+dG/aM8NRwvIum6tJsmEA2WE5yx6kfL90evT3qWT9ojw1BK0badqxxKIFxYT8ufT5fu/7XT3pe0Rf1WpvY+iKbvWvnWf9ofw7bRzytpuqyCGRYSFsZ2LO3TaAvIHcjgVWvP2kvC1m06zadqw8hkQ4sLg5Zuy4Q5xnnGaXOivqc+x9J7h1p1fPEv7QHh+3af8A4l+qOLdQXK2Mx5PQLheT7DNSy/tBeHLeWVZbDU8QRrK/+hT8hugHy8n1AyRT50S8LPex9BU3eK8Dk+Pfh+FWMllqRMcQmYfYpzhTyB93lvYc0v8Awvrw5v2fYNR4h89ibOYAL6fd+9/s9fahVYdWZujJdD3wEHkUtfPKftA+HmkjjXT9U3SJ5pzZTjanPJ+Xj6ZzVkfHnQv3YNjqS+Yhk5spvlVf73y8H0HWlzoaoTeyPfMrS189Wv7Q3he8EBgsdT/0lmCbrGdeF7nK8e2etSp8fdCfyHGn6mPtLMqg2U3G3+I/LwPrVOSK+qz7H0BRXzvF+0V4ZmAYWOpKGlMKlrOYZI6nlenvQv7Q+gAKBpuqtvm8lT9hn+Y55P3eF9zxU+0QpYaa3R9EUhOBmvng/tE+GGBdbLUQnm+SpNnNy3fjb0Hrimy/tE+HIY3eTT9Tby5FjG2ymJYt6AKcgdz0p86EsPPsfRCsG6U6vnaX9ojwohlZ7HU1WJwhIspuWPYfLzj1HHvReftDeHbO1muzYalIsEix/JZzMWZ+gVQpJx34wKXtEP6vM+iAwNBOBmvn5/2gvDsU9xFJp+pILVVLk2cwBZv4VO35j6gdKin/AGgdBtbq4hl0/Uz9ljWRitnKVO/oFbbgn1Ap86G8NNa2PoXcPWlBB5FeAXPx98P2k7wy2GokpEJWItJcDI4Xp19qZ/w0D4fRubDUf9T5zf6JLkD06fe9hR7SPcj2Mux9B57UhYDrXzrJ+0P4ei8sT6dqoMsDXGPsM3yqOzfLwx7DqfSprX9oHwzcx27pZamv2mIzBWspgVQf3/l+X6HmhSTD2M97H0LRXH+CvFlr410GLxBZwzQRz5wlxG0TgDjlW5FdeDkZFUZtC0UUUCP/0v7+KKKKACiiigApCcdaWsfXtUg0XRrzWZ1d0s4XndY1LORGpYhVHJJA4A70Aa5x3pCwXrX4iN/wXO/Zemu721i8L+NppNOLC42eH7793t5O793gcc89qg+Jf/BXTS7rwT8Ivid8GdAvTpfxE8dW/hGZdctptPlijljZzPFHIoLDgbTjB9aUpWVxta2P3BLY4Pelzzg1+e/7Y/7eI/ZCv9GsW+HfizxydYikkLeG9Pa9WARnbiUr90nsK8v/AGR/+Co/gD9sTxN49+Hvhnwp4g8K+JPh/p1vqF/p/iG0NnKEu0keDCk5IbyyenQitYQ5hS0XMfquSTwvWnHp6V+XH7Gv7fh+Nn7ASfttfGezj0C3s4NUvNRit90qxW+nXE0TMvG4kpHnGOpr5PT/AIOLv+Cfa2Frr97J4mtdMu/J2Xk2h3qWxWdgkbeaY9uGLDBzUWvsNK8bn76jI+8eacTgE1+Y3xb/AG3PEngv9uX4LfsweHNMhudE+KWi6rq0l/I5WWAWCo0aomMHeH5zjFcJ+0X/AMFcfgn+zj+0JqX7M1/4b8UeJfEmkWltf3aaFpst6sUF0Mxs5jBwD0571UYXTaFbWx+uWeQM4pQTuINfm/4G/bz074xfs0fEH48+AfDOtaPP4LsL6ZLPxDZy2Ek01ram4XCSAMYzwCw968Cf/gqdJ8Pv+CYHg3/goT8TvDFxe3PiK205n0fSiHka41GRYo0jL4z8zDriojq7Ivk0b7H7PZ5xUbcL9K/n48bf8F1NP+BPi3wdpf7WPwe8XfDHRfGV41lb6zrEcQtY3WPzGLbHZsAYzgd69h/Zh/4K0eA/2u/+Cg+o/sw/AW6s9f8ABuneEI9el1eIyCUXjXHlGDYygbQuDketO2lxxpNn7VLnHNLUYywDDvUlIzCiiigAooooAKKKKAEYZGKjMalfmqWkIyMUDTK4hbJO7rQUyDg9KscCvCvjZ8atI+DqaGl5bT3134h1KHS7O2tl3SPLLli3OAFRFZ2Oegpoakz2wRyMyknipAjfdB4qgmoWywqbhgmexPJqdtQs0xukUZ9aTikJybJRCFYMT270/BJ4PbmuI8e+O/DvgTwZqPjjXZtlhpUD3Nw6jdiOJSzkAZzgDNa3hrxHpviXQLTxBpr77e+iSeI9Mo4BUn6g0WC7Oh2tjg0gQsevNN+0W6DlwB1qMXdqwZlcHHUZ5osCuTFG6Ej/AOtUTwzYCgjHeoo761kXEbg464OatPIDESDiiw9SNIVByxycY/ClMDdAxwK+f7P466XqfxtvvgdplrcT32madDqN3chB5EKTuyxIzE/ffazADPA7d/ere8tyAjON2MmnKFtwbLJix0b86csewZzn61B9qtgThgcehqKa7tc48xVJ469/pU7iXYtsgYkZxTTFk8Ma8U8Q/Gbw9pXijVPAVus13rGl6WNYa0gjLSPAxdUEfZnZkKhc5JxXoPhHxRD4m8MWHiCeCbT2vYEmNtcrsmiLjOyRezL0I7Gna5Tujqmj3fKW/KnrEB1OagN5bqdpYe1MN9aLnbIMk0cpPMywVzwDTRER1anpIkmWHapCoNFgbYxVGRz0pSGx8xpwAUZpSMiiwXICoOP1pxi3YOeRTwgp9A2yFYtqhc/nQVdeEqaihCbuQlSep96cVyvFOIGcmnUBcj2qowTQUDDGaeQD1paLBcr+SAvBpwjGODmpqbsWgfMM2E96QQjk+tTUUWDmZGU5yDjFM8odc1PTSy7dx6UrIOZkflgqBn2pPLGNpPPT8KiknhjTlwBjPPFEV3bso2OGyAeD602GpKImIwxoKqOAe9QSXlsrELIC3pmvKfAHxc8OfEXVPEGnaIzq/hrUX0y88xdo85FVztJ6jDA5pj9T17HoeajWIjIU9TmmQ3dpKu+GRWA7g5pov7PdhXGR2zzSFcsCMBcE9KVhnJB61Ukv7IOEkcA9smpvtFv5nlBxuPbvTsFyXA2kA4GKMD1qKSa3jQ+bIoHua8q8d/F3w54A8QeG/D+s7zL4nvzp9oUG4eaInm+fB4G1DzRa4KR64yk454oyF+Yniqcd1bnCu6hz0GRz9KteZExC5yTU8qC4oCggng03C4GTmvMfi78UNC+EHhCbxr4kWRrSCWCFhEu5t1xKsK8em5xn2r0K2vbSaBJBIoyAcZ559aaC/cuFWxhGxmkSIqMOaRriJVJBGAP89q8svfi34O074oWPwiurkrrOoWMuowxAHBt4XWN2z0GGYcUXBJnqhReh5Gafsxz1qtFcQNwzD2pY7u0diEkUkdgc4osOxbIHQmkC4HXFVXvLZCGd1XPAyQM/nUqyLL86HiglpkxAOR60mCRg0beQTT6BXI2yTjNKqsvSl28g+lOoHcYUycn/AD+tJleuetSUm1elAXG4Dc5pCnqakooC41Vx+NGMnNOooERhMdTTtp4AOKdRQO40KQMZ6UmN2DT6KAuMK570MuafRQCY3HzZpijJ6nipajd0jBdzigLjsYJamsMHPrUH2y1z98A+maab22UZaRc/UUBqWdrHrRt7evevI/G/xb8PeDfGHhrwdqBc3Hii5ltrUxjcA8UTStuPYbVNeqfbbbhS65PYnB/KmOxMFKtk5pJd/SMZNIbiEdWGPr6UouYCMhwc0kKTYuwjFKVxwBUX2y1Kb/MXA75pWuIuiuKAbbJAgUDJ5FNljLAKpxXL+JPFWm+FvDV94lvW8yCwgknl2cnbGpZsDucCsf4cfEDS/iT4J0zx1orMlnqttHdQiUbX2SLuGR24NVyhd7noYyqjNIFJPtTEuIpP4h9Kr30/2eMEVIXZbxngU7HXNeN/Cn4veH/jB4VHi7w4ZEtjd3NoRMuxt9rK0L8em5Dj1r18XMR70DsyTAJ4puNzEivOPip8UPCPwg8GT+OvGdz9n0+2kijdwpYhppFiTheeWYCu2s7+G4thclgEYAg54we/X3our2EaQyfmxSv71XkvLRDmSRR9SKke5t1U73AH1oQkyTvnvQQvIqvFdW7YWJg2fQ1bwM0D1Iwg4HXFAVeg/nUmKQqKAuxoXPBpoQj3qYccUUBdkWwBaULsXA+apMA9aKAuM5YYIpCgxjOKkowD1oC5D8vP50rDJ604IAacAB0oC43vkdKQIpOafjtS4A6UWC5EqYORSGPP4cVNRQFxgTuevelwQQB0p1FAgooooA//0/7+KKKKACiiigBCQOTWfdXK26sZCNgUkluAB7k1o1w/jvwfa/EDwlqng3U5JbeDVbWW0kkt32SokqlSyN2YdQfWqjuJn8uV/wDF6PwRp3/BSJxreybTZmurAvck+Ws+kRqPI+b5RuB+7jmvGP2wT421n/gm9+w/ofwj1SzufGaeKPDiWdxfOZoY7yS0+VrraS+OTnvX6J2//Btj+wS8msz67qvjPU5fEGP7RefWXH2lQMBZQqDeAOBuzxXk/wAeP+CQnw7/AGWrX4JeEv2OdI1WbT7H4naVres/a7qe/ZLe0heMOCwIiVQ3YBfWpqStFtLv+KsU+lvL8D0T9pT9pr/gqF8PvjH8Ff2NvhjfeDX+IvjnQ9V1TWtTvobgaYH051+WAKd4DK/cZyPSvSv2KP2S/wBr74W/tBfGb9qj9s7X/DV9r/xF0HTtPih8PtIIk/suGdNxWYA8q46E9DX1H+2l/wAE0fB/7ZnxR8H/ABkv/GPiHwT4g8GWt1aWN3oEyROY7wgyhy4PXaB0ry3wN/wSY8NfCzxXZ/Fi/wDij498XatoVvcNa22qaij2skkkLxqJIEjUNjdkAnrWyn76vsOTumfjn/wT5/4acb/giX8WL74hvosnwybwp4pHh4WzSHVFlE90JPtIYbNpbO3Bz0r2T9tMaZcf8G2/ht4/J88eHfCeCNm47bi1/HP+cV+hP/BMz9knXP8Ah1Rafso/HuxuNMbWbfWtP1GFQYpkgvru4OV3rlWKOCCRXlVx/wAG9P7NV74CtfhbqnxD8f3nhqzMPl6VNqiNa7bd1eNTGYiNoKjiuPDVG4xm/wCriUbR5PQ5D41zFv8Agrj+xpEwIB8C+IDn0/cQda+eviNpP7aV9/wXF+MP/DE2s+GdI1NfB3h4asfEySukkOH8vyBDyCpzuz7V+g/7QfwF8fH/AIKn/s2fEHwvpdxd+GfCfhrX9MvbraWWAzJGsW9wNoLBeMkV1/7RP/BHv4N/tHftJap+1LceNfF3hTxLrdjbWF2dAvktYpIbVdsakbGJx161vTqbx9B8jWrPkr9r34U/8FYfGH7G/i6fxP8AFnwboep6Xo2tT6tDpNhLcJfad9mdliUysGjk2hl3cjkfj5H4V/Zl+Mv7Vn/BvT8HPhX8BY7a88URWHhzVbaO7lEEUp0+4juGVpDwobbivtqL/glR4U/Z3+FHxS8RfD3xd4w8Z+IvEfhHVdIgh17Ujdx5mtnCCOIIo3lsAGvQv2GPg/8AG/wX/wAEjPCPwV0AHw14/tPBj6dZm8QqbTUPIZInkUjI2uQTxScve5Xtr+VjVxfs3bufgz+3NdftmftcfGX4N+C/2n9V+Hnwetfh3rcuoT6imuWmpzxvLB5JU2U21X4A4PrX2f8A8E7f2afiD8Lf+CtOq/EePxfH8TfCWofDuO1i8TWNhbWdmtyLzcbT/RSY96r83PzYNfLf7Mnwo/Yz/ZZ+F0HgT/goR+z7r+vfE4zytrWvahpk+trqd67fPNBcxBlETnlF42ivuj/glN+zT8QfAP7Z/j347/BjwVqfwr+BPiXSYorXw5qzlXuNWSXLXcFmxzbRmMgY4zWccfCXuxf4M2lhqsFeS/FdT+kaEll3fhipqijXaoFS1ocQUUUUAFFFFABRRRQAUUUmRnFAARmvzH/b9+FWgfEH4n/A+81e71G2ex8Xh41srl7dH22c74kC4DcqOvbI71+nNfN/x1+E+vfEvxT4C1rR5Y44/C2urqdwshOXi+zzQlVx/FmQH6A00wPyA0P49/B79obW/EfjD4wa141tpV1W807SLfRre+t7awgsp2hRw8Me2WVmTe5csvO3HFeqf8Lkk+IHwg8Mw/Grxdf+HdJTU7+wnWGCaz1fXY7V9ts0UezzERl+eUouSehANfStn8NP2tfgD4l8Q6F8BtO0jxJ4T1+/n1KzTULtrOfTLi7YyTqwCMJYTKS6hfmGSMVmar8Af2oPCHjLwr8aNHn03xz4o03S7nS9ShvpDZoDczCczWblXCbSBGVOCUA5zxT5lYpKz1Pz3+IXiLRtfh+JHwF8DXPi5PAGteAdU1JH1hriJo721YIfsVzOBMUZW/eKcj0POK/QL9k+PUvB3xd0/wCENlqd7caHp/gDRrmGC8mMzCaSWZWdmb5ixCgZJ7VyXiP9kr9qn4y/EPVfib8YNb0qyj1TwjqnhuDR7EPJHZPeFWjmM7AGU/L8+FAGBjNdd/woz9qL4e+KfC3xo8AW+lap4hh8OQeHdf0ma5aG3lS3YyQz2twUOGR2YMrqMqeORRVacbRKujxj9tb4t/Grw34p+LHh/wCGmvNpNxY+F/D0umTFQ8dvc3upPBJLtI5JTAPPOKxf2jfEkH7MsHgb4L6t4u8SPN8Rrq5u9d1qBZby9aGxhUzRWscSMLfzmdQNq4Vc9+a6u7/Yq/ao+KevfEbxt8b9b0lbrxtaaNbWFjp3mGLTYtLuzcmJpWUGUt1LAD5iRjFfaH7RXwP8f+Orbwz43+Et5b6f4w8HXX2qwe8DfZp45I/LuLaUoCyrKvRgDtYAkYrFXu7kM+JfgJ8UPBXhj48+HfB/wBk8W3+g6958Gq22uW97JDbvHEZI7uO4ulBTcV2Om7BLAqBiv2MjUvbbH+mPSvjPwTcftNz+L/8AhYnx8k0zwj4Z0izkT+zrS6+1NPM5Bae4nZVREQD5FGTzk4r1lf2nP2fhBj/hMNKBxkf6VHzn8a1iOLsflF8dPBt78Nvjb+0z8ZPh1qF9YeJIfA2nvaTyXUj28U7JOVdYCdq7SoIx059a931D4e+IPhV+zHZ+LfHHxQvLDV/EcennxBr13LkiJkHmxadAA0cUr52pwx7nJr1Px9+zprHxnuPih4g8L6raSab8RfDVnpdhOrFlV4RKGkcrn5TvGMZrqvjt+z58QPFWgfD3WfAK2l3rPw+u471LG+ZktL0rbmBlZgG2sud0bFSAw7VU5XqeViqlr6dkfnPqfxs8I/A/4rfD7xD+z5e+NNY0nWNVbStcbVhdT6dLCbSaZX825UeXOHjG3yzhgSCK+mfhP+zlr/7SvwosP2gfHvjTX9O8WeKIf7TsG068aCz0xZfmt4UthmKUKm0SeYGLnOCO238RP2f/ANr/APaL8eeC/FXxMu9I8M+HvCOuw6m2hWjPeS3qLDLFJ51wQqpgSZRFBz3IrQ8L/Cz9tf4HeDLn4H/CCDQtT0OB3TQtYv7mSGWxtpWLLHcWyoxla3DEIUbDgDO2ueMZKb7GaPnjxT8OPE/hT9o7xv8AEfxVq13L4xsfhJulltLmZLI3URulMyQNhVJKBhkcHkVpfs92vjD9sXVrHwl468R6vY+G/BHhzRPtNtp9y1rPqWp39mtzJPcXCYk2IjIFCkAsWJJxivpbXv2WvjE3ie4vLXWINWg1vwRP4Z1S8vtyXRusStFOiIpQozTMGGQVAGM1y/hX9mj9oL9nvX9J8efBMafrU1xoOnaNr+k3s7W0csmnRGOG7tptjANg7XVxyoBByMUWlzX6Gkne1j5G/ag1T9oP4J6B4i/Zq+Gnja+glbVvDF3oGt3hFzeWlnqeo/Z7q3mYgeaE2NsLclSAScZr6W+J3wSv/wBk268E/Fj4feLNf1LULvX7HStZh1a+e6ttQh1B/KkdoX+WGRGw8Zi2gY2kEVu3X7H/AMZ/irb6p49+LmpWNr4r1rWtFvvstqXltLKx0afzo7aOQqGd3+ZnfaAWPHAzX1t+0h8Gdb+NfhTQdD0W6Szl0nX9N1Z2kBw8dlL5joAM8sOBQ+Z3I5WfRdmv7o7zkg8mr1U7RWSIjGD71crRAFFFFMQUUUUAFFFFABRRSEgdaAFooooAKKKKACiiigAqJkUKSalqKTdjpx3oGj88/wBom48V/FX47+Ff2YNE1m88PaVqOnXeu6zdae3lXU1tbSRwx2sMuD5e+R8uwGdowMZzXkXxg8N/Ev8AYn8Aa54o+FfiW81PQtSitdOsrXXJXvp7DVL66itIZ45WAZ4MS7nRycFeDg8fUX7Q/wAIfijrHi/w38bPgg9ofFHhlbi3eyvnaO3v7G62mWBpVVjG6sivG2MZBBxnNeQ+JvgX+0n+0roviXS/jtPa+E9MvLIW2kaZpsgvJIruN1ljvribaFLRyRqUjTgDOTk1E+boGp5r8Uf2bfEX7NPw7l/aR8BeNvEGp+KdAWK+1SPU71prLU4FI+0xNbECOHKFjGYwNpAzmvH7yTx3qWmfEa68Opq8ug3Pj7zNfi0IE6l/Z72EJxBt+fHmFfMKfMFzivojxJ8Lf23fjb4Os/gX8YLbRNI0HzYRretafdPNNqFtbur+Xb25RWiM2wCTeflBOM1u3H7PX7Svw18Q634/+Cep2Etxe+IptUfR7xmjtr2ymt4YRE8wVmjmjaLchwV5IPXNNJ3NYbHifwmuvBPhCLxZc/s1/EiW00qLQpWudM8U3E80ul3q/wCru1+0jzVjClvMViRuC4xzXyp8TfiJ8PfhJ4Eb40fAvxv448X+MtKks5ru7AuLvSr1HmRJhNEY1t4oWVm+ZCCnB5r7L+MX7KPx/wD2tb658RfE/TdL8HTaTZmHS4be4+2SXsjTQzsl68agC2JiC7MsfmJx2N741/CD9un9pb4P3vwXnttC+HdhNFDHNcQ3BvpbkRSI5iiSNVWGNwuCzfMB0Wq6MmZyGi/Bnxf+0J47+Lvjbxv461+1h8P6oE8OWOm3RtYbB49PhmLMEXM2ZWJ2vlccYrzPw34Q+KHhv9lXwx+214q8dazqXj920y6vF88x6XLBdXUUEtqLIDYqbJDh879wzntX6e/Br4Ha78OYvG8Wr3UdyfFGpPewlc5jV7aKDa2RyQUzx2rz3xL+zD4k1f8AY8tv2c4L6FL+2isUNywYRH7LcxztjvghMD61EpNaIhI+Ufgl8KvHX7VfxM+L7fHHxdq3/CN+H/Ftxp+habpV01l5ES28Ls8skWHc73OxScADkHNcTq3iPxd4N8c+FvhZ441CfXn+HPjqWK11CbDT3NjJo091CsxAG6VEfy2bAyVB71tfs/eEv2qvhj8VvjP4t+C0Om+LNN1zxlcNJpV9c/ZGtJktoE82KYhlZGwN6HBBHGc17h4S/Y1+J0l5ofjr4japbXviOfxXP4m13yAwt9stnJZx2luWG5lhQooLAbsE8ZxS5pcqfmWkrnwX4H+L/wALvjn4Fh+OXj/WviBH4w1lmvLC40qz1AWWnAsTDFFBHGYJUVcBy+7fzjFftF+yv8QfGHxO+B/h3xp44sJrDVru323MVxE0Em+NinmGJ8Mm/G4AjjNfKnhP4X/tsfALw5P8Dfg9Bous+GFMy6NrF9cvDPptvKxZIZ7dVYymHdhChwwADYr6u0H4mfD74S6dYeBfil4xs5des7WIXM15LHDNM+PmkMe75Qx5AqtRtHiX/BTGHxJcfsgeJrfwfcR2mrTTadHZTTAtHFO19CEdwMZUMQSM14/8U/2evEnwA+Gn/DRXg3xprd74s0Fbe91MXt20ljqMIZftMTWpHlxjYW8opgqQMk17H+09B4I/bS+Cfib9n34Q+M7CPXL+KCRZ7aZZZLYQzpJ5u1Sc7dnHqa808QfCz9tL4w6BafAv4s2ujWPhiOa3/tXW7O6aSfULa1dZFihtSgMbTbFEm84AJxmqJbXQ6TwJ+0BqHwvn+Jnhr4pXcl3/AMI5EPEWlyzABrjTtQUyQxKBjcYpg0P/AHz618k+F/hDrrftr/D34mfE7V9Ul8WN8P8AVtQuUW6ZbZJJLmNlh8lRtKxq+0D1UHrX0B+1B8IdJ+NP7U/ww8H+GdVEF14fL3fiO0jwfO0iMrJbwzDqA10iFevRu1fSvxI+BfjPXP2hvDvxj8LS2xtrTRNQ0K/hmZlYQ3RWWOWEKpBZXTDAkcHOah3vbsJXex+a3h7xV8Ufgv8AsP6d+1d8TvFmqa/408Qw2umxyRq0trZR6jciFHis4h+9kiRsljksw7VkW/xA+HPwrvtL8f8AwJvPiDqniYXlsmowaraahPbanDPKqT70ljEcLKGLoybQuMHIr9G1/ZV1jUv2OrD9nLVtQS31XTrK3S21CEFlhvbRxLBOo4JCyKpI4yM1yvhew/b88Z6tpHhP4kW+jeGdL0ieGW/1fTrprmXUkhwTHDbsoMKyn75fkDIAPWtF3YtT4I0v41fCf9onxL4n8X/F7U/HAuodRu7HSLPRLa/httOgtJTEsiPboUnmZkLszll527eK/Uz9ijx54z8ffB8XPjhL03WnXlzYR3N/bPazXlvA5WG4aJwGBkTBPGN2ccV4mfhv+2B8AvEmuaL+z7Y6R4m8L+IdQl1G2TU7trOXSprol51IVG86HzCXUL83JGK+1Pg14d8e+FvAlnpHxM1Ua1rioXvLtE8uNpXO5hEvURrnauecAZ5pDdz1qimJkjJp9BLQUUUgIPSgBaKKKACiiigAoopMjOKAFopAcjNLQAUUUUAFFFFABXhH7TXxIv8A4R/ArxL8QtKhFxd6daM1ujfdMzEJGT7BiCfavd685+LPw/0n4rfDjWvh1rgP2XWLSW1cr1XzBgMPdTyPpQB8KaD+xf4s0jw/ZfETQPiBr03xAYJdzXl9dtJp88jYLwNYgeUkJGVXYAyjB3GuK8GfCPWf2yvE3in4g/FjxNrWl6VpOr3OjaPpmhXz2McQsj5UlzKYxukleUMQGO1VAGDzXd2vhb9v2fR7P4OS/wBh6fpdqI4JPFMVy8t1JbRED5LMoNs7oMEltgOTk9DWX4TftX/s++MvENz+z7YaV4o8O+K7s6i1vql21lNYX0qhZ3yEcSQyEbyBhgxOBSZcd9T5u0XxV8R0+KXhL4T67fnWtY8DeKtW0uy1G7KiS6iOlvNavOVAG8CRVkIAyVzgZrk9KTQbiGIfFPxb4o8B/GCK8VmvdXmuY9Hmuw/EMcePsstrIPlUL823BzmvqTRv2KPiQW8P+JvEGuQHxO2qalq+u39ujKv2nUbR7ZRaqeSsAKKhbBIXPBPCa54K/bl8XeB3/Z98d+G/D+p6XdW5srjxK14WDQH5DL9idPM+0bPmAB2h+Q3ekrtO5tKS0sedfGTxF8IdV+LF/pPxs8ea3f39rDGLHQ/Ccl0iWitGN0s/2RWZ5pHJK7ztC4+U18//AAz+Ivxs+O+h+D/hLB4q13w/aW/jnU9Fubq8gW31e70q0tjNHFNuHyOwZR5oUMRzgGvr34Z/An9q39mK31XwF8EdN0XX9K1e7a8j1fVbySC8gaRVVluUWNjMEx8hVvu4GB3d8Df2LfjN4B8Y2PjD4jeJLbXb2LxXqHiKeeONodyX9qsAiROcCMjAyeVwTzRUvy+6YO+p5T4c/Zv13Wv2sPEv7O19498Sf8IDpei2Wt22npeyLdC8u5JYnD32TM0K+VuVM8MTkkcViWWt/H/xJqXw9+CeleL7iC3HiXXdG1bUsqbubTrFWMWGK48/Gxd+PVsZr9LNE+D2taZ+0nrPxokniaz1TRLPTFiAPmK9tLLIWbttIkwPpX55/Fv9nD4veHPij4A1P4fatBDrdn4p13XrZZNwtp0uoWxbXBA3AMDjcAcHB5qZyur7ajjZbnTfFz4b6t+zF4qtoPBmv6pqHhjxxYajpuoafq12955F1FaSTRXMEkvzru2MsiglTkEYr5Y8MfHbwL4lvfDvwP8AiVq/iTTtA8KeFdIuZLXw9Bd7r25voi4MtzaqzrHEigBFZSSck4Ffdlx8Ff2lfj14tj8b/Hiz0zw7a6Hp97baRpVjcteNJeXkJgNzcShVQKqEhEGT8xJxVLRf2c/2iPgDceHvHXwNi03WdQj0K00XxBpV3cNax3Rs1Igntp9rKHTLKQ4AKkcgjFdHO+VrzLVuQX9iH4j3Wo/EPxR8LvDtx4g1jwfpkNveaVqOvWs8UsbTFlls/OmRDMIyoZWPzANgk1+m98CYmbr8pr5B8EeL/HPw10vUPiH+1br+maK2qXKJa2Mc4NrYogwEE7hTLI/3mOAM8DIrvIv2q/2dtYnj0vSvGekzTzsERFuoyzMxwABnOTWZlY/NX9kH9lW6+MHwn8Q678RvFetWgfxJri6LFo17JZpZQLfS7Xby+JZS2WPmZXBxtruPhd8X/i34L17wbqfxJ1eTU9PttY1HwRrc5CqktxHM/wDZ96QOFaRUEb9BubpVz4OfBT9uH9mTw5r/AIM+HyaH4t07XtX1HVbN767e0OmNfTvL5ZGx/OiBYN8uGySMY5rpPjF8GtP+F37C+sfC3xfqscnibVxNPFfxqEe41+6nM8LwqTnKzkBO+1RWbi9xq584ft5LeftJ/Cv4mXOo3t7beE/D2p6TotktpO9v515HfQm6mDpgsFLiMckZUmvd9F+GXjPx7+1H4h8A614u1W28BeDtC0Wa10u1uGjmmusSktNc/wCsZCqLuUH5j1OK9MT9kvxbcfsMWP7PsWoRv4kFpbXVxezgiOfUUmS6keTGSBJKpBODjNe7/Cv4T+LvD/xM8Q/E/wAVPbmTxBp+nWzQQEt5clojrINxAypLfKfSnCcudyewdWfkFofxw+DPx4fV/iB8Wta8cpqhvrq00uDQ7fUIrXTobaZoYmTyIzHPJ8m53k3Kc4xUt9+2NffESDwb8HvjLc+KdH002t/cajc6bp11FqGpRWdx9nti3lxmS3SZRvcgKSeARX3d4f8Ahn+178BtQ13wV8GbPR9d8Kalez3ulSX93Jaz6Y10xeWKRAjiWNZGLJtIODjHFbPjH4CftCaTJ4P+K/w/1u11jx54bt5rTU1vt9va6ra3LB5YlZAxiMbjMTMD05xmtFu2PoeO/sl/FvQrL9olPhh8JJ/FGqeD9V0+a6ZNetbs/wBm3MLLtCXVyisUmUn5GZiGHXBr9es4HNfKXwY079pPWfGV540+NklnpFj5IgstEsJDchWzlp57gqoLHoqqCAO9fVJPGDzSFyktFMV88Gn0CaCiiigQUUUUAFFFFABRRRQAUUUUAFFFFABRRRQAUUUUAf/U/v4ooooAKKKKACjHeig57UAFVntwXDKSMdqsAd6WmNMaowMUyVA67TxnvUvNJjnmkIrxQpExwck9c1ZoopKKWiG3cpvFu6nPb0qcDy4wqjHtUgUDpQM1V9QctLEE6LIm09T3qqLMNgM3Q59KvhTu3U7HpR5jb0sUjaAD7xHOaeluofnt3qyGycCnUgu0FFFNJIYCgkdRRRQAUUUUAFFFFABRSHjnNZOratBpNhPf3Cs6QRmQhAWYheuAOSfahuw1Fs1iwHWmK2TzXz8f2iPByAmaz1IbYTO2bOXgen3fvH0qFP2jfBbqJHtNTj/0c3OGsp8hB2Py/ePYdah1Y9zVUJvZH0MW+bgZpwwW3DrXzxbftIeC7iOKRLTUl8yA3HzWUw2qPX5eD7daitf2kPBd3NbRxWupK13G0q7rOZdqr/fyuAfQHk0lXh3Klhai6H0aSq9aYZBj5etfPFt+0X4PuktWNlqf+kqzDNlOMBTjLfL8o44z1qez/aE8HXj25itNRAumYJutJhwvUt8owOO9N1oLqSqE+x9AB+Ru64pGYDJPSvAov2hfB9xPa262Wpq13I8abrKYY2dWb5RhfQnrU9v+0D4NuWgRbXUFM8jRoGs5hnb1b7v3fQ0lWh3G8PPsez6rpOna7psuk6xBFc206lZYpkWRHU9QysCCPqK8mk/Z1/Z/J+bwVoH/AILLTj/yFWFH+0d4LkRZ4rLVHV5vIXbZTdQcE/d+6P73SlH7SfgiVi0dpqXE5t/+PKbJYdSPk+6PXpTVePcFh5voe3aHoml+HrGLStDt4rSzgULHDCixxoo6BUUBVHsBWxvHOa+d5P2kvBEZkU2mpkRTrBlbKch2bP3Ts5A7mif9pHwNBDdSfZdSYWkywkiynJZm/ugJkgdyOBS9vDuCw8+x9DhwDing+leATftAeDInugLXUT9i27yLOY5Ldl+X5j64p9z+0H4PtI7p7i21HFoELbbOYk7+gXC/MfXHSm6sOjH9Wqdj30cimn5Rx+VeAf8ADRHgmKee3NvqJNvCJ3Is5iArds7cFvYc0s37Q3gqGZo2ttRGy3+0ufsc+ADjC52/f5+71pqpHuJ4ap2Pf8D73Q01R82414ZD8e/B88ohWC/LfZ/tLf6LMMLjOD8v3vRevtUUfx98IS+SFttQX7RA04LWcw2qo/i+XhvQHk0e0h3D6vU/lPegQPlFIXxxXgVr+0P4Mnu7WxS31DzLuIyrus5htUd3JXC/Q0kX7RPgidrVBb6jm6DEA2c+VCdS3y/KPTPWhVI9w+rVOiPoAMDRuGcV4HD8fPBt3HA8MOoDz3ZVBtJgfl5yfl4HueKdF8f/AAfMLYi11FGupmgQPZzqcr3OV4X0Y8Gk6sF1EsNU/lPe6TIzivAz+0B4MYKTb6h+8mNuP9Dm5Yfxfc+7/tdKbN+0N4LS2+1Ja6kV877OALGcszZxuUbOVHc9Pej2ke4fVqnY9/pobJxXgk/7QHgqGOV/Jvz5MqxcWkxyzHHHy8gdz2qGX9ojwTGbjNtqTC2kEZK2U53Mf7ny/NjvjpTdSK3Y/qtX+U+giQKAQeleDT/tAeCbMXJeG/P2TaG22kxyW6Bfl+b3x0qtd/tFeBrI3CywaiTbBCxSynIbf0CYU7j6gZx3qfbw7lLCVf5T6CyBTd3AIrwdv2hPBKGQGDUAYYhK2bObkN0X7n3vbrTW/aF8FxzTobfUf9GhE0n+hz4APO0HZy3+yOfahVYPqJ4aouh74GBpcivAj+0F4LMmWjv1T7P9o5tJgAvofl+97daafj74Id1hjjv9zwG54tJvlX0b5eGP93rTVSPcn6vPse/blNBYCvAYfj74MmaFGjvlM9u1wM2k3yovXd8owfQHk0y0/aD8DXDW4SO/JukaQA2k3yqvr8gxnHAOKftI9WV9WnfY+gcjGaODXz1bftIeALh7ZEjv/wDSVZwWs51ACdd2U49s9amj/aF8D3MVs6C9xc79oNpMDhOpPycD3NL2sO4/qlTse/KME0pHevBdM/aE8D6obbyI74G7dkjDWky8p1JyvA9zVAftK/DueKOeP7dtkna3XFnPnch5P3Pu+/Sj2sO4fVKvSJ9C7huz+tLxncK+cV/aZ+HjuY0j1DP2gWw/0KcfOe/3OV/2ulW5/wBpH4e2m/zlvhtnFuNtpOSzn+7hOR79KftYdweFq/ys+hAoPalIBGDxXz7N+0Z8P7SK5laO/It5VhbFnOSWboFwvPuRTD+0T4CiN8kgvv8AQSvmEWk/JboF+T5j64zij2sO5Lw1Tsz6GIHU9qjlTzBwcV88Xf7SfgDToLmaZL9ltAm/ZZzscydAuE5PqB0rRP7QvgFlkkK3oWGISsTaTDhugHy8t7dan20O41han8rPZNP0jT9IMp0+COJrlzJKUULvc9WbA5YjqTzWsAB0r59H7Q3gUm43reD7LD57/wCiz8KcYA+TljnoOaE/aG8BySPGovQVgFwc2swwp/4D19utNVIdweFqLdH0ERkYryTxT8Cvg5451R9c8aeFtK1W9kQRtPeWcM0jKvQFnUkgdhXKJ+0j4AE8UDpfr5kLT5aznChQM4J2cH0HWpoP2i/At0luY1vQblGkXdaTjCr/AHspwfQHrR7SPcawdV/ZOw8J/Bb4TeAb1tS8B+GtL0a4ZPLaSytYoHKZztLIoOPavT1UA18/f8ND+ApFtxGl+RdKzqfsk3Gzru+X5fx61Ba/tIfDyZ7YAXwN4WEYa0nHCdSfk4HpnrR7WHcl4ap2PaD4b0eLVptctraGO8uVRZZ1jUSuqE7Qz43ELk4BPGa6EY218/2/7RHgK8u7S0hW93XbtHHm0nx8vUk7MAe5pJP2hfAIRGP20CSdoF/0Sb7y9T937vv0p+1h3F9Wqdj6BKg9aOc+1fONv+0v8Orq2+0wfbWxc/ZQBZz/AHx/wD7v+1096sn9onwFjc3235Z/s2BaTZZ/b5OR79Pel7WHcf1ap2PoQlQeaOM5HSvnpv2h/AfkyzlL11ikER22kxJZuwG3n6jinT/tEeAoRMWW+It5FibFpMSWbGMfJz16jik60O4fVp9j6EytLkV8+y/tDeALaS6jlF7myKiT/RZjktxhfl+Y+uOlNvP2ifh/aSTiT7Yfs4UtttJyDv6YwpyfUDpTVWL6h9Wn2PoFWzxTiQOtfPd1+0X8OrLz3ma8xbxrI+LWYkbug4Q5PsOaa/7RXw+tzL5320LDCs7H7JP0boAdvJ9uvtR7SHcX1efY+hd606vn0/tDfD8XTxObtfLgFy2bSbhG6fwYz7dail/aH8BJcG3P20FYfPP+iT42+52dfbrU+3h3D6vPoj6HoyK+e1/aN+HMqRlnvF8yIz82swwq+uV4PtwaZF+0T8PbkwrC12RNCbgH7LMMIvOT8vB9utNVYPqU8LU/lZ9D0V8+RftEeApUgkJvFW5RnTNrMPlTqTlOB6ZxUMf7SHw3n+zeTLdn7SGKZtZui9Sfl4H1o9tDa4fVanY+iCwHWjIr51h/aQ+HErW6CS7/ANKZlTdaTjO3rn5OB7mnWn7Rfw5vWhNtJdt9omaBP9GmHzJ1/h6e/SmqsO4nhqnY+iaK+fYf2h/h5MBKsl1zObYA202S4/4D09+lRf8ADR/w2+zm4E1ywE/2cYtpTl/b5eR79KHWguovq8+x9D0Ag9K8Au/2i/hzbRSzSy3OyGRYTi2lzub0G059yOlV5/2lPhhamZfOuWMDrGVW2lJ3N0A+Xn3x0qfbw7gsPPsfQ9RKexOa+e7v9o/4b2f2pZ5btTZbfN/0aY7S2MDheT9Klf8AaM+Gtv8AaGNxcYtkV3/0aX+PoPu8n2qlVj3H9Xn2PoIHPSlyOg7V4BcftGfDeF5w89wDbRLLIBby4Abp/DyfYc0g/aK+GzO8Uc07NHB9qYfZ5eE/756/7PWj2se4vq8+x7+AoxR39q+d/wDhpH4aJKsck9wrNCbgg28vyp6n5ePxqWH9or4Y3MiQpdTgyRG4G6CUfJ68rR7WHcf1afY+giSOOtKwDAg186r+0t8LWktopLi5jNyGdN1tKPlXnJ+XgfWmwftK/CyeK1ljvJ9t5vMZNvLyE6n7vA+tL28OjH9Vqdj6LQ5GDWbcaTZXE6XU0SPJDny2ZQWXPXBPIyOOK8Nt/wBpD4YzLbztdzqLtmSPMEoDbOpHy9Pc020/aT+F1x5Eq3ku26laGPMEg3MvXHy9Pem5xe7F9Wqdj3+2jES7Sc1YJU8da+ej+0j8MCkckd1MwlmMC4t5Tlx1/h6D16UwftLfC/asgup/3k/2dT9nlwXHXHy849elDqwXUHhp9j1nxV4D8I+N4FsfGGl2erWyP5iw3sEdwgcdGCyKwB9wM1w8X7PXwMtbtLyz8G6FBNE29HTTrVWUjoVYRggjsRWIP2jPhm6fu7q4k/e+QGW3lILnsPl5+tVn/aW+GUSyPJc3BEMwtz/o8uTIey4XnHf0ojXh0YLDVH0Z9CwxCJFReg/SsbWfD2l640P9o28M5tpBLEZY1k8tx0ZdwO1h2IwfevEl/aZ+GDrM63NwyQSrAxFvKR5jdFHy8mn3X7Sfw0tJ54Li7nU2zqj/AOjy/ebov3eT64putDqyvqlT+Vn0LGojiA61IPmHNfPlx+0d8NbU3HmXc7G2C+YFt5TjdyP4evsKYf2kPhrFNPFJc3CfZ41lkJtpcKH6ZO3GfaoVeG1xfVanY+hznIxSdsV8/wA37RXw0txIz3M6+VEJ3xbynajdMjb19utVpP2lvhjHcrC9zcAtCZ/+PabAjHcnbx7VftIdxfVqnY+iE6YxinbhnFfP6ftE/DiYxFbucebF54H2eX7nqfl4qpB+0n8NJ3tY47q43XiNIgNtKPlTqT8vA+vWp9tHuH1ap2PoykyK+dLf9pL4aXUkESXVwDdbimbeXkJ1P3eB9aeP2kfhrKltKlzchbpmVM28uTt6t93p7mj2se4/q1Tqj6H3KaUsBXzpF+0l8MZzDi7uCJpDGh+zy8lev8PT3ob9pP4aFY5Y57nEsxgXFtKcsOuPl6e/Sh1odw+rT7M+itwNOr5yb9pT4YC2a5F5MVE32fP2eXl/QDbzjuelTx/tF/DMIT9puGKyiH/j3k5c8YHy80e2h3D6rU7H0NSBgeK+dp/2jPhfAJma+lPkSrEw8mTO5ugGF5qW7/aJ+HFuk7yXVwPs5VGxbyfeboB8vJ9aPbR6sFhanZn0LUfmDOK+fbr9or4cWSTPPdTL9nKB8QSHBfoPu9fai5/aM+G1pBcTS3NxstlVpCLeQ7d/QcL19qftYdwWGn2PoUMDQSB1r56l/aK+HFpDPNJcXCiGMSv/AKPLwD0H3ep9KjuP2kPhzaMwuLi4XZALhv8AR5eEbpn5ep9OtJ1o9yfq8+x9Dlx2p9fPMH7Rvw0aUxvdzIfI+0YaCQbUxnLfLx9Kfa/tD/De88hLe6nYywm4AMEg/dr1Y/L+VCqxezB0Zdj6Cwc5zS1xvgrxjpPjfQovEeiO729wTsMiGM4Bx91gDXY9cGtDJq24tFFFAj//1f7+KKKKACiiigAooooAKKKKACiiigAooooAKKKKACiiigBAoHSloooAKQgNS0UAFFFFABRRRQAUmcnFLRQAhGRiq8kHmKUJxmrNFA07FIWwRduS2fWmpbgAl8gD8av15h47+KvhX4feIfDnh7xDI6XPie9axslVSwaZYmlIYjoNiHrTQas9BFqDyxJwaQ2uDnJOO3apGu4lbDHGaiN9CBtOfxqtbCWhILZVBySRmm+Qp4DGj7dCVVh/EcV53p/xY8Jal8TNR+FdtK/9q6XZ299OhUhRFcs6xkN0JzG2R2qY3tcdz0RrZV6scmhoF2+XkjPWozfwqu7JKnjIrzD4t/Gbwb8F/CI8ceM3kjsvtdrZZRDI3m3kyQRDC9i7rk9qlytuP1PUPswVsrnA96ebMH+I8HPWoxqNt5QlLYDc+/PtVyKdJl3J0FVckgWAKCGY01bcAk7ic/pXM/EDxzovw48Fap498Quyafo9rLd3DKpZhHCpdsAck4HSvkL4gftu+HNA1q28N/DnwzrvjjVJbODULq00S1MxtLa5AaNp2JCozLyEJ3EdBVFJaXPuEWYL5Lc+1Pa2Z2DbjXjHwC+PHgP9oTwSfHPgKSUwxzyWt1BcRtDcWtzA22SCeJwGSRDwQRXutLmJSsZ62R37ixx6dqJLXdgIxBH61oUVN+o0yilsydCcj9aVbXnkn061dop8zC5mrapH8rMeaVrQ7yyscHrkVo0UmFyg1mj4KscjmmiywxySRWjRTTBu5npaSKCC55OaT7EQM5LN6k1o0U+YLlI2pwfmIyO1RfZMsDk9MVpUUrhcoC2UcAkDFRCzBGCea1KKTBMz/sriMoTgegpggbGMkY/zmtOincdzK+x7s72PB/yanNqhOQSM8ccfjV6ii4ikbXPDE4qP7KCuwE+taNFFwuUTaZPJOKYbIB9/+TV/nd7UpIAyaLkci7GcLRQw2de+aX7EFb5fwqf7TGG5BGahOoWyoXZ+Pc00y1oNWxGQG/z9KQWOwnbz3Ht9KkF/Ds3A5HH61J9stwB82c9KVx87IFsckFjjHP4057TfwD0PpVxm3DCnrXmGs/FrwhoXxN0n4T30zrrGs2lzeW0ewlTDaFFkJbGBgyLwetCY02ehm0ycZ/8A1+tILQFdjHPsadFf20gLq3HrTlvYmUN2J/yaWnYLsiltMnAJC/ShbOInOSc+tSSXcQwoOSa818HfFbwf418XeIvBuhzs994Vuo7O/RlICSyxLMoBIGfkcGnzIXIejtY/KApJx2pwtVwTJzmn/bIQ2M15l8Sfi/4Q+F8GlXHiid4hrOpW+lW21S2bi5JEanGcZK8k8UuZPUGvI9JW0VVKqxxSGy77s4pTfQRjDnGO3+FTpOspwlNsLtFcWYOeecYFONkp656Y4/lV4elLSuS9TNWxSPhOuOnSg2fOWNaVFMaZmJZLvBJ9/wAaBYokm4k98fX1rTooBmWliofOfpxThYAYH58VpUUXC5mf2ev3TjH0o+wxAnOcZzitOii4+YzRYAHIPfJz3olsmJ3Ke+cVpUUiLGb9jPLL3P8AntR9kkOW3YPQd+K0qKNOxVzNSwIUqzHGMU42argAnitCimJ6ma9tliyMR+NM+wK20KSAvvWrRR8gsZ8liX4DEY9eaYtiIyMk4HvWnRS07CsZ/wBjXaBk5H+fwoFqxAIJ6etaFFFl2K5mZ62S7AGY9c/jUZtWVgFYn27ZrUqKWaOFPMkOAKfMKxUW2IUCQk0fZMZJb9P880HULcYO6pBdRDOTxQmNwsV/sIYk7vwpy2m0kgnHvzTzfWzEKG+9yMVYjnWTOOgo07ArlJ7NG+RiTznBpRY5z2z6VxvxQ8eaJ8MPBGp/ELxKzJp+kW73VwyDcwjjGWwB1OK39E1uz1TTLXVrdj5N3Ek0ZbglXAYZ/OmrbWBxutUaD2LFQAenTipDYIzZI5Ax0qcXcRJ7DtmkF7A4LKeB37fnQ0wuV5bIHhG2/Skaw3jqemK888XfEzw34P8AEug+HtalaO48RXLWlmApIaVYzIdxHT5VNel/boFwCetJ2Gk1sVTp48tM/wAIx07elLFYbSTnOOAOBgelRaprVpp2nXGoyt8lvG0jY5OFGTgdzgVxPwu+Jnh34reB9O+I3haRn03VoRPA7gqSrex5Bov5Ds+p332FRjaADSR2AC8/hip1u4ZHG0//AF6u0NmbglrYzjaHOMkZ/wA5piafjG7BA7YrUoov5D0M37CrgBm3DOad9iTYVTqetaFNUg9KLhYzf7POMBvqMdaZ/Z6kFG5ya16YHGTmi4cq7GebAFy2c8Yo+wnkBjz1PrWnRRdgvIzTYjAwcH2pr2K7twJGa1KKLjuZhtE3bgTzTltX6OSfTvitGii4Gb/Z47HGf50jacjH5sHjA4HFadFO4XMw6eMYU47dKPsCMoUgAj0FadFLmEZn2BCN0nWo5dOYpgt3zWvRT5gSMr7CojCL1FOawUjj8eP/AK1adFTdgitFAkKYPOKnHr2p1FA7hRRRQI//1v7+KKKKACiiigAooooAKKKKACiiigAooooAKKKKACiiigAooooAKKKKACiiigAooooAKKKKACiiigBp+8K+Df2uJGX4x/BRY8B/+EmuSM9MjTrgjNfeXJb2FfLX7Q/wJ1v4xeI/B2qaRfiwXw9fXVzK4z5my4s5rbMZHRlMgYH2qouxpTlaSbPy18aePPBlpaeJvEXjL4067ffEK0lnkhtPDAa4sLKRNzQ2sVqkL+dtACyb23E5+7XY/CTxN8av2y/Gfge98S+L7/wz4avfAlnrGp6bpYW3ubnUJ5pEV/OYM0SKFyyAZJwOAK9G+GvwK/bg+HXw4/4Zs8G6f4V8O6RaxS2q+KoHZ5p4nBX7SbJURjdPnc5kfG7nca90/ZP/AGS/GPwFm0OXxRqdvqb6V4Vs9AkkjBBkntZZJGmwRgBw447GnKTSXKRF6WZ8P/Cj4f8Ax1+J/gb4r+JfFvxS1wXXw31bVNH8OPamOFVj0sb0lvV2EXMkh+V/ujaOBk8J8PtB+K/7Un7W1nrMniS68OeHL74eaHqGtDSysV1dXks1wY4kmIYxRAEs2AWPABFfo18Nf2btf8C+DviT4anu4JH8bavqupwMgIEQ1BNqiT1Knk4r5Mh/ZI/a0+CHxB0v4z/A3VtL1qfTfCOm+Gbvw/fSPbW961k8jm5W4Ct5bqXwu5SCuQcVFGcnB8+40ecfFn4ofG39lnxVqv7NXhjxFca3L4vbTF8KanqrLPdae2o3RtroSlVQSrbqpkiJAJJCnOMnk/28/wBnn4mfBz4HaBr/AIP8c6xr0Z8T+HIdfg1yZJ47mJtTg3SwBUTyZQ+MAZUrkdq+l9U/Yr+MXx60bWviT8edQsdI+IF2bGTQU08tcWuhnTpfPgAkYIZWklJ84gAFTgZxk8P8Xv2ff2+v2rPCmmfD/wCKD6D4L0/Q9d0vVJ5dOupLttXGn3KTFCpRfJifZuw2W3YGKVWTatboSzM+KHjT4fXPxb8S6b8a/i1qdlfwME0nQPC8xVrO2CgI04WKV5LmRgTtOAOAAa+lP+Cbvx28XfHT4BTa14ymurm70XXNS0QXV7B9mubmGxnaKKaeDgxyMgG4YHPOBXkXg34DftkfALxXr/hX4LaT4Y1LTPE2pXOpv4o1Gd4r9JLmQuRdQpGXuGhB2x4fG0AcV6d+yz4Nsf2L/Bmq+BPj34602+1vXtf1HXTdSMtsZhfTGT/Vs2RgnGMnp+Ss0kKx9E/thJu/Zd+IMbYVT4f1Dk9v3DV86W/xg+EP7MXwd8PaqLB9Q8W+L7Gza30nTEM19qlyltHGoSMc7VVQC5wqgZJFe0/FLx38K/2gvh/4h+CngPxVptxq2vaZdWcSJMrspmiKhtq8kLnJx2r5a8N/swftQfDf413fxV8LL4Y8QEaJpui6bLqs9zHcWMFpCFnSIJBIqieXLuVILfKG6CrbubJe5bzPo79jj4a+PvCGj+JviB8V7WHTPEfjnVn1u8063cPHZB40ihgLLw0ixovmMMguTyetfZwGTurxv4SN8apLO4f4zWulWt2HAhGlTy3CGMDncZYoiDn2NezqMDFIhyFooooJCiiigAooooAKKKKACiiigAooooAKKKKACiiigAooooAKKKKAEJxUTZYcins2MUhw/GaBn5jfte6z8c9X/aV+EXwV+Fvid/DWjeKF1iTXJ4UV7hre1iiKLAXBCPubhiDjnivkH4y/tGfClvjv4h/Zs+KnxC8R6D4f8AW9laPHpgkOo6jeXMQnM891FC2EVWVQqBcnOcDAr9UfiH8Cde8XftGfD/4yWdzEtp4Qt9ThnhcnfIb5I1Xbxj5dhzk14n8Tvgv+0L8MvjJrHxy/ZosdJ1xPFMMCa1ompzm033Fuojju4JwjqCY8K6MBnaCDmpdwbPhHwH+1Z8RvG9v/AMMy/CbxVqF+mr6/aaZpni3UrQw3UOnT28tzOrCVUSW6hWExo2MHcrEEgivf/jf4K+M/7MWvfDrWvhX8QNV1PTNc8X6fpeu2mvyRXLS29wH3G3dY4yjFgMrgjHTGKu/Hz4bfF+0/Z0uviT+0Hq7W/iPT9at9asbjw9CbiPw75X7tXjBCPcRojN9oyBuVmxwBXy/4x13xn+0t8V/hH4ev/iHp3jK60nxBaeIPsnhiCSK1itLSN/NvNQkkY4+8FSPgbj1OK0iu5asf0IwqoXrk96/NT9orUta079tPwQ3h+WCK+j8HeJJLc3TbIBMr2u1pWxwinlj6V9VSftUfs62tw9pL4y0lZYmMbKbmMEMOCDz1Br5N/aG+AM37YXiWHxv8L/FNpFpieG9X0I3du5kcT38kDryh+5+6KyAHO00mjM+Bfif8evC/ww+GOp/FPwX8YvEnizx/oVr9vuItPhF5o80kbBpIDBHBtjgPKh/Myq/MScV9U+EvDXxe/au+M3jm51rx9q3h3w1pNro76Zp2jNFDJFd3NjHcTSSysjl0DMAI+nXJOah8e/s8/t1fFr4Fav8As3aVYeEvhpo9xpcmmG/0x2ummQIERYrdYo1ijccMWJKgnjNfZ37O3wC8WfCLWfEepa9dQXC6zHpyRrDn5RZ2cds+cj+JkJGO2Kbe6LXqfmPo1l8frb9kO7/bV8d/EjVb7xf4aFzPDaWhjg0qS2s7ow+TLbbSXaZEy8m/IY8YFdZ8H/hb8TP2gP2tPjddar4rv/Dng4XejyR22jOsF5NezaXbtI8k7K+I0XaFVRknJJxX2df/ALJniWb9jTX/ANme1vrdb3VIryKG4IPlILm4aZQR14DYPvXh+l/s3/thfAL44eOfjL8H7rSvFOl+M/7O3+Hb+drTyJbKzjtTcRXG1xl9nzIQMgAg54rBwfMhNHl/iD4oftB/D3xfcfsTaf4kuL7VtT12xtNJ8TXCxG7t9IvLeS5maQYCPPCIHRGxzuDEZFJ+0n8APiH8F/EXwpn8IeM9V8Q+Hbvxzpi6xba9MlxIrYlaKe3kVEKkycMhyMHivZb39iP4weLtG1D4weKNZs7T4tXWs2uu2E0W99PsTZRGCGwzw7wtE8iyNgZZyQOKzPiD+z/+2v8AtM+IvBOofFS40jwbpngrxBbavLZ6XdPdNqXkpIjb3KII0UuHRTk7hzjFaRVriszyn4l+L/A2seOdYuPin8Xdeg8WWd1cLY6R4RYy2+noufJR4o4ZDNJtAaQOcZyABX3Z+wH8aPEXx6/Zg8MfEnxgXbVLpJoLiSSLyXka2meHe8R5jZgmWXsSRXzx8J/gP+2H8C/CUvwZ+H1l4WhtftFxIPFcskjXcguHZ2nnthGHluDu5JkwT3xX1T+xZ8BfGP7OfwF0v4XePdWi13VLK4vJptQiTyxcG5uJJg5T+EkPyOxpyvZA2z64oopAwPSgQtFFFABRRRQAUUUUAFFFFABRRRQAUUUUAFFFFABRRRQAUUUUAFFFFACE4rxL9pDXtd8KfAPxh4m8MSi31DT9Iu7i1lIzsmjiZkbHfDAV7aRmvNPjD4IvfiT8LPEHgCxlSCbWbCezSVwSqGZCm4gc4GapWA/Ijxd41+Jv7O/7OHhj4i/Ejx1fXnjH4lzabpt1fmPfY6abiMySyWdoiZDKgYKWLFmwTxxXPWvxx8H/AAC8Q6N4m+D3jfxT40W9uI7TWdM1aKW58xJM5u4W8lPJaM4LKPk256V+ifxX/Zq1/wAc/BHQPA/hfU103xL4SezvdJ1HbuiW9s02jzF6mKQbkcDnaeOa5rwxpH7a/jvxFpS/FyLSPC+gaWC+oQ6Zctey6q+xlEfzxqIoCTuOfmPAotpYrmPn34L/AAm+J37Snwrg/aa8U/ELXdK8Ra/HJfaVbadNHFp+nQFma2he2KETEJgSl2yTnGK+nv2A/GnxI+If7M3h7xT8XL6LUfEMrXkN5cQgCOR4bmSMFQOAMKMCvy5g+LKfAyHxF8GbD4sweBdHsry8jXw3q9i82tWyOzMIdLkDqs0TgkwNtbbuA5Ir71/YRvvBv7Nn7Kfg74cfE7U49D1CK1multtVuFW7ENxO8qGbeQTJtYbzjrSasOMtGe//ALbTRR/sqePS+cf2Ncg/ilfn78b/ABH4FvPEOj+FvjR8XtQ8Jacuk2f9m6L4alEN7I/lAvPcv5Ur4J4RQAvGST0r7l+KfjP4UftLfDjxD8G/h14u0y71TXNPmtolinWQruGNxVSSQO+BXzppfwG/al+BvxI17xH8HvD/AIb8SjxQYZG1bUrlrW9szFEkQgkYRSPLbrtLRqhGMkbec059C4tclvP9D4y8KfHX45/EjwxY/B74eeOdVsvI+IMXhyDXtUsfK1GfSWsvtTho3VVaQg4SbYAeGxXua/AX4tf8NQv+zDD8VvEi+BZ9BOuzKZY21f7Ubgw+XHe+Xhbc/eK+WWB4BxXrnw4/Yo+Nel+O/wDhPvib4rtdb1G48XR+J5mjhaJURbL7KbWFTkhUP3WY5I5ODX15H8GdYX9ppfjgbqP7GPD50fyefM3m484NnpjHHrWMlK7QttT8jPH8P7QvijUfAXwd0PxOX1Pw78Q73Ro9fu0WS6GmLZSOZGUBVa5WN9oYrtLYbHavpf4k6L40/YV8RaF8R9I8X614q8L6zJNY6xp+tzR3LpOLd5YLm2kCIY8um105UhgRjFbHxZ/Yp+OHiDXYfGPw18UWujatp3jKbxRas6u0Usb23kLazAAna/RyOgORkiugX4G/tOftH+LtJuf2qLLSNB8M+H2mli0rSrt7x7+6lhaETSyFI1jjjV2KryxYgnGKtR6MXNdnlnhb4GfHD4q/ASX9pbVPiHrVj4513S5NVstPikj/ALGtVkiZ4bRrUpmRApCyOX3E5Ix0rwb4deI44/2U/g/onxo+JLfD/RZvD0ct1baNKsepX97nkRsUkZIEySdq7iSBkCvqHS/gt+3b4H+Hc37MXgy60OTwzHaS6fp3iqe5lF/a2bKyxrJabDvniQhVYSbSQCSOlcT8Nv2Nf2k/2X5fDXib4bWehfEPVdM8PWmgTvrEzWs9s1sXLT2kxjk2pMWDSoNhJAPzU7i5WdP+wv8AGS71j46eMPgl4f8AEmteLfCuk2FnqOmahr1s0VypneRJYVmKRi4jGwFXC5GSCTiv10r8+/gF8A/2jtA/aE1z4/8Ax48Q6dfy69pFtp8elaaknkWBt5Xk2pLIA0oIflyq89Biv0DA5zQQLRRRQAUUUUAFJgZzS0UAFFFFABRRRQAUUUUAFFFFABRRRQAUUUUAFFFFABRRRQAUUUUAf//X/v4ooooAKKKKACiiigAooooAKKKKACiiigAooooAKKKKACiiigAooooAKKKKACiiigAooooAKQnAzSMM1heIdct/Dmk3Gr3cckkdshkZYlLuQP7qjJJ9hRcaV9jfor5xuf2l/A1tHLLcWWqL5UKzPixnPDdAMLy3sOasQ/tJeB5zhLPVOIROwNlOMKRkD7v3vbrWftY9zX6vPsfQmDS4Aya+ej+0l4HVkSSz1RS0BuP+PGfhR2Py/e9utU1/ab8BP5CCz1UefG0gzYz8BezfJwT2B5NHto9wVCfY+keOtLXzdB+0t4Kma3j+waspmjMg3WM42qO7fLwfY81Mn7SvgeSO3kFjquLhXZf9Bn4CcEt8nHtnrS9tDuDw8+x9Fc1EVw27se1fPFr+0r4MvFtjHp2rD7S7Bd1jOAAnVmJX5R6Z69qLf9pfwPdrCY7LVf8ASJGRM2FwPu9Sfl4HoTR7eIewl2Pok7sZHFcD4o+FXw08dXaX/jXw/p2rzxLtR721huGVT2DSKxA9q8yt/wBpXwbeOggsNVxJMYkJsZwCR1PK8L7nik/4aY8C+R54s9UKmcwD/QJ8lgcE42Z2/wC1096PrEQ9hPseg6B8HfhN4U1CPVfDHhjStNu4shJrWzhikUHggMiAjP1r0mJAvK8Cvnj/AIaX8CMiOlpqj75fKQCxnyW/756e/SrP/DRng3bO32HVB5Mywf8AHlN8zH+78vIHc9KPrEO4eyn2PoTAHSivnu7/AGkPBdoLl2stUYW0ixHbYznc7f3fk+YepHHvT5f2iPBVv9oEtpqeLfYHIspzy+MBfl56846Ue3h3F7GXY+gAQeRS18+Xv7RngrT0u3ntNTIswrSbLGdj85wNuE+b3xnFJN+0h4Gt5JI3tNTBhiWV/wDQZzw/QcJy3qByKPbxD2E+x9CUV863P7SXgO3kKPballIPPcCynO1TjA+597/Z61cf9ojwVGwjmtNTGLc3JP2KfAQDOCdv3v8AZ601Wg+oewn2PfqK+erX9pLwFeXMNtFa6nvnhacA2NwMKB3ynBPYHk0tv+0d4GnaJfsupq0qs4DWM4wq92ynHtmj2se4exl2PoSivnxf2kPAchtAtvqQN2zCMGxnGNvUtlflHuajj/aS8CyNbpFa6mTcuypmxnA+XqSdvA9M9aPaxBUZdj6Hor54h/aT8CTCIrb6kPOlMSg2M4yR1P3Og9elSxftI+BJoo5kttT2y3BtkJsZ8sw6nGz7vH3jxVKaE6Uj6Cor5zm/aY8CRW5umttTMYn+zjFjcEs/+yNmSvv0qeX9pHwKqTOLXVCsMwgJFjPy59Pk5HuOKn2se4OlI+g2OO2aF+6K+dpv2mvh9DHcSvDqWLd1jb/QbjJZjgbRs59yKD+0v4Bjjup2ttTKWrojH7Dccs/QKNnPuRwKPaR7j9lLsfRdFfPUv7SfgC3uri1kg1ENbBC5+xT4+boAdmCfYU6X9o/wJFJKHttTIgQM7CynI+boB8nJ9h0o9pETpS7H0HRXz5L+0j4Dgnmgmt9RDQQiZ/8AQ5yNp6AYXlvYc1JN+0b4FhkMZt9RO2FZnxZzHardM4Xr7daPax7h7KXY9/or57l/aU8BQOsctvqQJh84/wCgz8Lz1wnX261Nb/tG+BbpVMNvqJ3Q+eQbKcEJ15ynB9utHtYh7KXY9+pAoHSvAV/aM8CtLFG0GoDzYmmBNnPhVXruOzg+gPNVrb9pXwBezW8UFvqWbhWdC1lOBtXqTlOPYHrR7Vdx+xl2PoY5xxSHlunSvn3/AIaU8AILYtDqOLrdszZTjhepPycfjS2/7SfgK5jgeOHUP9JcxpmznBypwSQU4Huabmg9lI97ubSG7j8mYblORgjI+hB4IrlNG+H3gvw68zeH9LtLBrj/AFptreKHzP8Ae2KN3415lD+0f4FneBUt9RH2iUwoTZT4yvU/d4HuaE/aQ+H0tv56xagAZzbgGznBLjg4+Xp79KFXjtcXs2b0n7PvwLnuGup/BuhySOSzM2n2xLMeSSfLyST3ruvD3g7wz4Qsf7N8K6dbabahiwhtYkhj3HqdqADJ9a8nn/aN8BW8jRPDqAKzCD/jznOXPp8vT36UjftI/D5VmbZf/uZ1tzmzm5kbgAfLz9elDrR7gqcux76gxye9LtG3aK8HuP2ifAtvLPHNDf4t5FiYi0mI3nsMLz/Kq97+0h8PdNkuY7lL9TbBd+LOYjLnChSF5PPah1EHs5H0AVyOv40BMADNeBXX7RvgO1a4EkV+fsyK0m20mON3IAwvJ9h0p0/7RfgWCWeCWK/D20C3EmLSY4VsYxheT7Dml7SPcfsZHvx45pa8BH7RfgNmZPI1DcsInP8Aoc/3D0/h6+3WmD9o/wAAq6xtFfgtEZsfY5uExnn5eD7daXto9w9jPse8tz1HIqcYHtXz9b/tI/D+4SGSOLUNs0TTAmzmGEXrn5eD6DrUVp+0t8PLtrRFS/BvEeSMNZzL8idS2V4/Gn7WIOjI+hgOSaCcDNfPsP7SXgC5jtZLeO/YXbsqEWk3RerH5Rge5/Wox+0v8PGSFljv/wDSJTFH/oc3JXqfu8L7nin7RCdKR9DBgRmlrwK1/aL+H94kbW63rCadoEP2SXll6/w9B69KZH+0f8PZN2xL7as/2cZtJvmfGfl+Xke/Sh1Y9xODPoCivBJP2h/AaruijvnDTeSu20lJLd/4eg9aov8AtM/D6Jpt8OobYp1t8izmO536bfl5HqelL2se5Soy7H0TRXz4/wC0l8PgtzlL4/ZpBE2LSblj2X5effFTJ+0Z4CeS5hWO+BtSqsfssuCzdFX5eT646Ue1j3D2Mux77RXgn/DRXw/WS7iZb3dZ7RIPss3VxwB8vP4dKW+/aK8BadHLLdR3wWFA7EWkp+90HC8n2p+0j3F7KXY96orwqb9oXwFBZy3sovAsCCRx9mlyAegxt6+1VJP2jvAEGfOS9QJALhibWXARuQD8v3j6daPaIfsZ9j6Aor5+P7SPw7DxRyfbEMkBuDm1lG1B3b5eM9h1pbf9pH4fXFtHdol9seJpiTaTDai9zleM9hT50P2E+x7+D60ZFfPdr+0t8N70W7R/bALmJp1DWsoIjXqzArx7Zot/2k/hxdSWy2/2w/aVaRD9lmxsX+InbwPQnrS9pHuL2Eux9C0V4DF+0b8PZzbKn2zdc7mT/RpR8qdWPy8D3NRv+0l8O0jtpUF7Kt0zLGUtJiPl6k4XgfWhVEP2Eux9BUV85237T/wyuUiKNeZmmaCNTaTbmZepA2dPfpWgP2jfhw0fnRPdupm8gbbaUkv6Abeg7npQ6iF7KXY97z6c0ZHevAI/2k/htPbyXMT3XlxXAtixtpeZD2Hy8j36Ul5+0h8NbdLmUvdOtvKsLFLaU5kbgKvy8/hQqkerF7KXY+gaTIr54uf2nPhhaXV3aSyXatZFFkP2WXbufooO3BPsKbc/tQfCu2F2HmumNmFMoW1lYgv0UYXk+wo9ouovZs+h+gwvNMkQvGV9a8F/4aU+GKC6Ly3SiyjWSbNtL8u7ov3fve3WmN+0x8LlneBprkPHCJ3BtpflRumfl6+3Wn7Rbh7Nnpl/8O/BusaxbeIda0uzvb+z/wCPe4nt4pJYv+ucjKWX8CKyfFHwe+FvjjUE1Lxv4b0vWriNNiS39lBcuqZztDSoxAz2zXEr+0r8NPMaF3u1McPnvutpgFTtk7eCew61Tf8Aak+FcdzDZzTXaSSwtcYNrNwg7t8vGewPWj2iGqUjuvDXwP8Ag74L1Nda8GeE9G0i9VSi3FlYW1vKFPUb441bB+tenLGwGzPTpXzvY/tR/DC/MKQteq08ZlAa0mUhBnk5Xgcd6ltP2nPhbdyQRxTXW+dWdFa2mB2p1Y5Xgehp86H7CXY+iQMUtfPUX7S3wymS2YS3X+l7jGPs0uSqdWPy8L7ninxftLfC64jtXhuLhvtjMsX+jy5O3qT8vAHrS50L2Uj6A91oA7184wftQfC+48sQteMJZWiTFpN8xTqR8n3ffpV2H9pf4YTxLMk1zteVokzbSjcydcfL0Hr0p86G6Ml0PoHIpTgfjXzxF+018LrlUmglunWSUwoRbTHc44OPk6D1qWT9pf4YIHYy3J2zCAYtpcs57L8vPvilzIn2bPoOivnuf9pj4YQpK5kunWKVYCVtZmy7dhhecd8dKkuP2k/hhbNcCSe5/wBHdYmxbSnLt0Vfl5PrjpRzoPZs+gKMivAbn9pH4aWxnBmuGNttDhbeU/M3RRheT7Cq0n7S/wAL4PtHny3IFsqNJ/o0vG/oPu9fbrSVRD9lLoj6Hpu5RXgL/tJ/DSIzK8t0TBCJpALaU7Qw4B+X7x9OtQSftNfC+JpFkkul8qHz5M2s3yqegPy/e9utPnQezfU+hgQeB2oJwCa+frL9pP4a6hKsMD3as8BucNazKdnqcr19utJH+0r8NpRbHN6BdRvIubSYfKnXd8vHtnGan2se4vZs+gFLH71Pr52tP2mfhhffZhbtd5ugzLutZhhV7tlOB6Z61Zh/aR+HFx5AU3g892jXNpMMberH5eF9zxVc6H7KXY+gKK+eYf2mfhlOYBE92TcSGKP/AESbkjqfu/d9+lCftLfDhthH2397Obdf9Em5cdT9z7v+10p8yH7KR9CE8cc0m7nFfPb/ALTPwySRYHkuwzz/AGZR9lm+Z+hx8vIHr0qCX9p34YwsUZr0lZxbjbaTnL+3ycj36UcyD2Mux9GkkdBTQxJxXgrftHfDgfaCHuv9HkETf6NLyx7L8vP4VSf9pz4Xq12iteObJ0SQraTEFn6BSE5PrijmQexl2Poqm5PfivBbv9or4c2aztctdj7OFLH7NNj5+gHy8n2HNJP+0d8ObaS4jma7P2ZFkYrazEfN0AIXlvYc0cyD2M+x74SfSjPrXgTftHfDjfOha8Bt4hNIPss2QG6D7nX261E/7Snw1S5az3Xhkjg+0HFrMcIRnH3Pve3WjmQexl2PoInjikUk9RivBh+0b8Ol2eY12u+A3HzWswwg9crwfY80kf7R3w2lWLyZLpvNjMuPs02Qo5y3y8Z7Zo5kS6b6nvlFcr4T8Wab400C38R6Lv8As9yNy+ajRtj3VgCPxFdVTJaCiiigR//Q/v4ooooAKKKKACiiigAooooAKKKKACiiigAooooAKKKKACiiigAooooAKKKKACiiigAooooAKheFZCCe1TUh6cUDTKyW0SjbjNOEMaZIBqfPrxXmHjv4reF/h94h8PeGtfd1uPE121jZBVLbpljaUg4HA2ITk04+RWrdj0UWsfU5596d9nVm3HI9s1WW/wAkRkfMakF2OWI6UbC1JlhQPvXPT1pDAHBHIyc9aqm+AkKEcH35rgNO+K3hjUviRqPwtt3b+1dJtYLy4Ug7VhuS6xkHoSShyO1NN9Ba2PSBbx424Y9uTSi1iAwufzNQrehn+RflPQ15h8WfjT4O+C3hMeM/GzvFY/bLWx3Ipc+beTLBCMAZ5kcA+lS52V2wTPVWtIidwzke9J9lTGATyMcmohfx+Usv9/kCriOHUMO9NybBkItowAPQY644o+zx4284rlvH/jfRfhz4L1Xx14iZksNItZbu4ZQSRFCpdyAPYV41q/7V3wY0PxP4M8Fahq8Mes+PCBpFkWHnzL5JnLbPvBQikkkY7UKHUaTtdH0ebaIjHP5mk+zp/DlR6CpY5A6g+tSUJibZXFtGMYyMe9OEEY571NRQ3cRVazhYYOad9mj9x+J5qxRSWmw7lY2sR65/OkFpGOMnrnrVqii4rlf7PHzyefemG1Q5HJBHqat0U+ZjuVTaxHrn8zQLVAxYFvzNWqKTVwuyAW6A8Z/M00wLjGT+dWaKadguUxCgXZz+dKIlY9Dx3zVuihsdysLZAc8/nxSG1TIIJH4mrVFDYrlb7NF7/nTfssYbdyfxNW6KLhcpGBSwYg8VIluseTyc9ias0UXC5WNtGc5zTTZwlixHWrdIfTGafMwuyE28eMc/nURsoNuAKSS68snd07VGt9EvzycD1qR6lhbdQCB0PY037LHlcgnA/Kk+1I3y9c05LqKQ/u+cHBp8zEN+xxE5bJxUhtYiMNzmrFRSyrECT25p8zC7ITZw9hjFL9khZdrD3rg/iV8TfDnwr8C6p8Q/FTNHpukQG4uHQbmCDqQBzXUWGu2moWFvqcHMVzGsiE8cOARkfjQ77j1tc0/skQO4Zz1oW1iGTivOviF8VfDXw1tdMu/EpkVNW1CDTYNilszXLYjBx245NehR3scrqiHJPWjnYncf9ljOevPvSNaW+NpHtUsk8cTKjkZPvTlIIwTnNK4XZB9ihOOOPTtQbOLduxmrlFHMHMykbSBj93kUv2a3cbSnSrlFK4+YpCzhQAIoGKBaQDjZ06d8VdopuRJS+xx8YAGPQULZw4xtxirtFPmY7lP7JAGHyg59s0n2OHA3KDzngd6u0UrhcqCzgAOR19h1/KkNnARgjNXKKbkwuyk1jA4wy037DDyWzV+ipuF2UzaRnoMdqQ2kfcZNXaKdw5mUVso1yQPm9aUWaL069BnpV2ikHMyn9jiwc5yRjrR9lhX5QuD0zVyigOZmeNOgA6GpBa25B4xmrlFAXKYsYOd3P1pGs4cYweuetXaKdwuUPsMOS3Iz2zSiyg/hBFXqjZgik/jRcRVFpFuLKOvrTxaRgYCgZqMXkY+XIzSLqMDDAPPXHtTv2Ae1rGzFiOvpStaoclRyajW9ixhe/TvUsd2jvsFSO7ENtAOGB54/z0pPscWANue3NWX5U4qob5UfZIMfrmlbqNNitZwnkr2x605LODA4rzHwD8ZvBvxL1bxHonhWV5J/C2otpd/vQqFuFjSQhcgbhtdeRXos+qRW1u1xIDhFLHjsKB3drk5sYcZA+b170wWEGeR71w/w1+KXhb4reDLXx14Td5LG8LrGXUox8tyjfKeRyprvjeRjJ7CjlsEpPqNW0hXC7eB600WMQYbRgD061It3E5Gw5zxVunYnmZUNnb4xtxTPstsSBt/pV6igLlRrSBjyox9KhNjAzbtlaNFNsFKxSNhbntg+1MFjCuVQY9a0KKnlQXM77Dbg7nRScY6dqVrG3JyR97+VaFFNaaIRl/YLTpsBJ47dPTpUosLULjywav0UFORQFjbgAJGBt4GR60wWFsQF29PatKigOZmYmn2yESBFyvTgdaBp9qz+YR+GBj+VadFAuZmf/Z9qo27Aec9B1pRYW23aVA78AD+VX6KLD5mZo0602jIyB7DrThptqBgLjv8AjWhRSsCkygdPt27YJ6+ppxsLU87Bk+1XaKLA5tmedOt2/wBYu7PUMM5p4sLTJGwZ9cDNXaKdhczIY4VhXanT3qaiigQUUUUAf//R/v4ooooAKKKKACiiigAooooAKKKKACiiigAooooAKKKKACiiigAooooAKKKKACiiigAooooAKKKKACvgz9raRk+MfwVVGAf/AISW5Iz7afcfpX3ixwK+TP2k/gVqvxm17wfqGnXosk0G8uppnBIk2XNpLbZjx/EpkDD6VrRavqaUXaV3/Wh+Vnjzxd4Ugl1nxZ47+N2vXHxFs3upLbT/AAqTc6fZyR7jFbLaJC5nCgAOXYEknGK734YeJfjR+3F4l8I2ev8AjDUfDHhfUfAVjq+p2elbba7m1C4nkTeJmVjEoCksoGc4HY1618PPgp+2t8OvhZH+zj4OsfC2habZW7WKeJ45ZJLiaJlKm4NmIwTcNnLF3wWycmvW/wBkb9lXxn+z7daHe+LdWh1WTTPCln4fkkiBBkltppZGmx0AcSDA9c04u0LPcFax8T/DD4c/Hv4neBPiN4y8YfFHXFv/AIYatquk+HfsZjhjkj0td0UuooFP2mSTpJyox0APNSeE/CvxU/au/axj1e88R3nhjwzqnw80K91n+yXEN3c3U0k5WKOYhvKiA3FiBuPABFfo18N/2e9Y8BeC/iN4d+1wvJ421XVdRhIBxF/aCbVD+6k818j6P+yn+1L8F/i1pHxn+EOq6Xqq2PhPTPDN9oV5I8EN2bNpHNwkwU7HUvhcjDLkEis6PO6b5tBU5aHmfxI+J/xr/ZC1q+/ZU8I+I7vXZfFn9lxeE9U1ci5utO+33LW1yJnAXzhAFMkRYAnIU5xmuS/bV/Zi+I/wP+C2i+JfBnj7W/EKXPizw4NftvEE63EdxG2pQbpbcKieQ4fBCjK7cjrzX1HrH7GXxS+NUPiH4nfGzUbLT/HF81i/h9NPLzWmj/2XKbi2BdlRpTJKxMxAAKnaOlcV8ePgH+3L+1Z4R0X4f/EB9C8IafoWuaVqt1LYXL3bat/Z1zHOY8GNfIjbZuwcsWwOBzWVdcysiJbHJfHDxD8P9c+Lmq2vx4+MOr6TfWF0q6LoHhGcobWEL8j3SpFI8sznlkbCgYGD1r66/wCCcHx48Y/Hz4ASa941luLi70bWtS0X7TdwG2nuYrG4aGKaaE8pI6KCw9fSvMvAfwV/a1+BV94g8H/CbT/DWp2et6pc6lH4gvp3ivFF3JvIuoUjLTPFkqhDYKgDiug/Zc0fQP2GPA+p/Dn9oTx7pl7res67qWum7mkW2aVL6dpQfLY8bSSvHpUq/u3KZ9N/tiytH+y/4/dcYXQL/IP/AFxavhXxd8GPhZbfEH9nf42roNm/i57u3sv7W2f6SLc6ZNmMNnhT6AV9bfEn4pfCD9or4a+Ivg18OfFmlX2r+IdMurOBI7hZOZY2UkqhJIAOTgU/XvgVrWr2nwpsre4hU+AryG4uM5/eqlnJbER+vzPnnsK60/dRrBrlsfYMfyqFHNSBgT1pYwQoBPNMCNmsTHcmooooEFFFFABRRRQAUUUUAFFFFABRRRQAUUUUAFFFFABRRRQAUUUUAB54ppwq06onYKN3UUAfl9+2LqXx2179pn4T/BD4W+KZPC+h+KbbWn1y4gjV7lobWOIxi3LghJNz8MQcDPBr5Y8afGD4bX3xv1n9mP4g/EbxHovh/wCGNtaWbRWTSf2hqd5cQrOZ7q8jib5UVgAqAbjknjiv1L8ffBfVfGH7RHgT4y215HHa+E7fUoZoHB3yG+WMKVI4+XZzmvEfH/wm+P3wy+POrfGj9nO10zWbLxbHCuuaPqE5tGFzbJ5cV1BNtZSWQBHVgOgIpJ+8x2PhLw/+1B8VNYC/sw/C/wAT3upRaz4gtNL0zxffWxS5g064tpbm4XDqiy3UIiMaNjHzBiOCK9p+Kvwx+Mf7KWu/DrUvhJ8QdZ1PR9d8V6fpuvWuvyreSSwTCTL28gVTGzMAGXBXHTGK3Pj14E+Klt+zzcfEX9oHVXh8Q2Gu22s2c2gRG4i8PLGfLR1VgrXMSIW+08DcrNgAAV8iXfivxr+098ZfhXoGqfE/SvHV9oHiWDWzZ+FLeSKytrO1jkMlzqMkjEgkEIkfA3N1OKZakj+i6Niwx6d6/PL9t/WvLOjaF4y+Ip+HnhKdZmvprKRY9TvZAVEcFuzBii/eLsqs3QDHWvqNv2i/gdEzQy+KtMRkJUg3Mecjg/xV8d/Evwd458ZfHvTP2nPgHBofjq2t9Lk0V7G9uVjNs4kMv2i1mIdFZidsgwGwBg9qCEj85dd+LdrDpXxS/Z88BeKde8W+DZ/BjavaXOvxOZYLhLlYZYobpkj8+NgQ2MEqe/NfXPhDwb8aP2kfjr8QPhn4p8Y6loPgHwtDo8dhDo7rb3sk89hHLLvuCrFY1YghQMknrjioPFn7HH7W/wAZfF3iP4jfF3xNo8M+t+FLjw/aaNYo5t9PMlwk6uZ3AMzELhyFA6YrJ+HfhL9pzwL+118V/Gnwf+weINNlfRtPvtFvpjakSwadEFubecgqc5w6HGRyDmuifwWNb+7Y8d+Os3x00LQ5/wBkmy8Yy3WteHPF3hm40HxBqUay3C2OoO3/AB8qoCyyQlJFB43fKSBX1R4h+DvxG/ZO8ceCPiN4a+ImveJYdc1mDSNfstbmSeC4S7DATwIqL5EkcmCApK7eK2NG/Y2+KnjG5HxO+L+r2T+MNT8TaZrV5FbBmtLWx0wMsNlAxAZyoYlnIAZyT0r7C/aA+EGp/F/SNA07TrtLM6Tq9rqLOc5KQ53BMfxc8Z7isJR94yPy0+I3iTwLrXjXxRd/Fn4y69F4wgml+xaX4UkL22mxox8iPyY4pPPlIwZA55OQMV+gf7Anxk8ZfHf9lzwn8TPHO4anewyRXJkiMLu8EjReY8Z5RmC7mXsTivmb4YfB79t34N+ER8C/h/p3haHT1nlC+K3nk+0vFK5YzTWgQPJc4PJL7S3OcV9efsZfA3xX+zn8AdE+EXjfWF1/U9Le5M2oBNhuDNM8vmFRwpO7kDpSNI7H1tRSDA4HaloMgooooAKKKKACiiigAooooAKKKKACiiigAooooAKKKKACiiigAooooAKKKKAGsSBkV4b+0x4k1vwj+z74z8T+Gp/suo2Gj3c9tLjISVImZGPsGwa9yZgCBXmPxn8E3vxH+FPiLwFp8iRTaxp9xaI8mditMhQFsZOBnJxTQz8gPGfxA+IX7NH7MvhXx78UPH+oXfiz4kz2Fheam0fmWmm+fF5szWdrGhIZUVgpYtlsE4Fee6L+1P8ACP4M+M9B1/4K/ELxP41Go3qWeraRq0Mt15qS5zdQt5MfktGwywGU254GK/UD4vfs0a/8QPgb4f8ABvhnVItM8TeE2s73Sb4qXiS8s12gOB8xjlG5HxztavPvh7ZftuePPGFmfjPY6J4S8P6Uz+fFpd39un1VtpUD5kUQwnJLAnf0GOtOTBHjPwY+EHxP/aK+FsP7SPiv4ia3pniPxAk1/ptrps8aabYQkk28Jtyh87ChfMLsCSTjFfTH/BPzxd8SPHf7L/h3xP8AF6/XU/EUhu4ry5TGyR4rmRAUxxtwox7V+Zll8Rpvgjoni74Z6H8VLbwZoOnXt2JPD2r6e0us2KTyMxh090kCyxy7v9HYqcZA5xX2z+xF4m+H37L37Kngn4bfFXWINAvlspLlLbVLhVuhFPK8qGUMQd+G+b0ORUOLujSTXQ+6Pi5qviHSPh7rV74YvbXTb6G0kaC6vTi3hfacSSH+6vU1+DPxW+PXgz4LeDIfib8J/jB4o8ceM9Mu7eS9iji+26VdrJMqTI8UMIWCLDHa4kyuBkmv1C+NPib4S/tc/DPWPgr8MvGOk3Wq6nGrQRrOJUkMDrIY5kQ7jE+3a4APyk181/E34Kft5/tG/Ci6+COpQ+GPhjpEawxyS6bO19JdpbujCOJFjjSCJwuCTlgONtD2JitdT5yn8cfGuHxf4h0f4H6qmjah4l+LEWn31xIgkCWkunRvK209WUDKZx82M19d+OPA/j/9k7xb4X8baD4x1vxRoWvalHo2uWGsTRzgG8DCK6t2WOMxlJMBk5G08dK8A+N/7K/xW8F6pZR+FtcisNZ8T/EiDXtNuURpI4fKsRGIrlcA+XI0ZV9vQNkcjFfS1r8Jv2u/2hPiD4fn/aKs9G8LeGfCF3/aK22l3jXs2qXsaskDsdiCKCMsX2tly2BgYqIQfUUNkmfNH7Kn7MHxY+IH7NMvjvW/ijrek6l5uoSaHBo5igsbGKOeUwiaJ43a4Y8eYWYA8gV2Ou/GW9+JXwu+HviH47/E9fAOjajpRkv49JlSDUNSv0bYREXWQxwAKWO1cknGRiv0X/Z++Dms/CT4EWnwr1K4juLu3S5Uyx52EzyO46gHjdXwb4e/Zc/aX/Z117R/HXwx0vQfHN8NIh0i4h1K4+xvZeTLI5ltZWjcbJA/7xQFYlR1rolazNW1qL+wl8cbjX/2h/GnwT8N+JNc8WeENP02y1XS77X7dop0aeSSKWKKcxxfaIgYwQ+3IJIOa/YEYbjOcV+eP7O/wB/aN8PftC67+0N8etf02+l1/RrbTYtI01X8jTvs8skmyOWQBpQwcFmIX5hwMV+hyptOazIdhQuDmn0UUGYUUUUAFFFFABRRRQAUUUUAFFFFABRRRQAUUUUAFFFFABRRRQAUUUUAFFFFABRRRQB//9L+/iiiigAooooAKKKKACiiigAooooAKKKKACiiigAooooAKKKKACiiigAooooAKKKKACiiigAoorD17WYtD0yfU543kjt0LssalnIHOFUck0DSublQPGkgKsOBXz/J+0V4Ut3kSax1NRFGsrYspjhX6AYXk+oHSlu/2jPBlnvMlpqTeXGJGAs5icN06J19qj2hrGhJ7Hv7QoxBxyKQ28R6r06V4GP2ivCGDustRQiHz2DWcwwp6A/L19utV4P2kfCNzjbY6nkxecFNlOGA9/l6nsOtP2hX1ad7WPoQ20R4xwetItrEoCgfKO1fP8P7R3hWaRIV07VVLxGb5rKYbVH947eCew61Mn7RXhJxBmy1NftCNIu6ymG1V67/AJfl9geTR7RA8LOO6PeTbRn5dvy+lOW3j7r05FfOVp+054QuVgkTStXQXO4rvsJ1wE6lsrx7Z61ei/aQ8ITPaxfYdTRrpmC7rKcABf4j8vC+hNJ1UCwtS2iPoHyIwdyjBrz/AMV/CH4VePbtNQ8ceG9M1m4iG1JL60huHVeuFMisQPYV5xB+0j4PuvL2afqgMsjRrmymGdnVuV+770qftIeD5EjaOw1QmWXylU2M4Oc4yfl4HueKfOiPYs7/AMPfBn4ReE79NV8KeFtI0y5jyFmtLG3hkAPXDxoGGe/NekBI1bdt5HevnaP9pHwg52iw1QHzvIH+gz8npkfL93/aPFSz/tH+DYbc3D2OqMomEA22U5JY9wNv3ffp70vaLYtYWp2PojK0tfOEv7Sfg6OOeYWGqOlvKsJZbGc7nY4wvy5IHcjj3qe7/aO8H2Uc8ktjqh+zsikJZTMWLngKAvze+OlHtEP6pU7H0RRXzk/7Sng6N7pWsNUP2QKW22M5yW/hX5eT6gdKS7/aX8FWKSvPY6riCNZH22M7H5sYAwpy3PIGcUe0Qvqs+x9HUZHWvnKL9pXwbI9xELLU2NtCJnIsZ+FPb7nLe3WpLb9ovwhdJt+x6kh8jz2D2U6lVxnDZUYb0Xr/ACoU09ifYSW6PomkyK+e4f2i/BkkscEdpqW+aBrgL9inBVF/vfLwT2B5NQ2v7R/hO7W3cafqgFxG0gDWM6lFXP3wU4zjgGj2keo1h5PY+id60oIPSvnqH9orwZM9sn2PUgbkMVBspwQF6lgU+UemaLX9o3wfdC3kjsNVAuWcDdYzjATqT8vA9CetPnQfV5dj6Gor57tP2jvBl4ITFaan/pEjxpmynHKdScpwPQng0yH9pDwbOIWWz1P/AEiUxIDYzg5Xq2NnC+54pe0j3I9lLsfQ9ICD0r5+1D9orwXp0CXUtrqTrJOLdNllOxLeuAhO336e9Vk/aW8ETbhFZaq4EywgrYzkMx7r8gyo7npQqiexSoyeyPouivny5/aP8FWnmma11LEUywcWU53O2Pu4TkDuRwKS5/aN8GWr3SPaamTaOsbYspyGZum3CfN7kU+dCdGfY+gycUtfO9/+0j4J06OeW4tNScWxQNssZ2yZOgXCHJHfHSmXX7S3ga2knRrPVG+zRrIxWxuDnf0UfJy3qByKTqRW7D2M+x9F03etfO037SngeETl7XUh5EYlYmyn6Hov3OW9hzTh+0f4IZZG+y6kBFCJ2P2KfAU9B9z73+z1pe1j3KVCXVH0PvWnV87R/tG+BBIY5INSGITcMXspwFX0J2dfbrVyH9obwXLIiC31Ab7c3PNnMMIPX5fvH+71o9rHuS6TPfTzxTACPlrwZf2iPBIdFkg1Bd8BuCTaTYVB6/LwfQVTX9pbwGxt1+z6jm4RpFX7HPkKo6sNnHtmj2se5X1ap2PoFoQ34dKalvEpORmvn+2/aT8CT/ZtltqS/agxXdZzDaF6lsqNo+tNP7THw/xZssWoH7YzLHizmP3c5JwvA46niqVVdBvDVP5T3+e0tZkKXEYZWyCCMgg9QR3BrkfDfw0+Hvg43P8AwiuhafpgvWLXH2S2ig80nOTJ5aru69815ev7THgMtEGttS/fymJP9Cn6jqfucD3PFEH7S3w/uow8cOofNMYFzZzjLDrjKdPfpR7RdxfVp9joJf2c/gJPI0k3grQ2ZiWJawtzknrn5K73wt4F8G+B9P8A7J8HaVaaTa7i/k2cKQR7j1O1ABk9zivKP+GkPAmwy+TfsFm+z/LZzHLn0+Tke/Sm3/7SHw/sBJJPFfkRyLD8tnMcu3YYXJ98cCiVWPVgsNPse/8AkRZJx97rVC20bS7Oaa5t7eOOSdg0jqoDOQMAsQMkgcDNeHv+0l4EjE37jUD5DpGSLOc5Z+gXCc++OlTX/wC0b4D05rk3EN+BalA5FpMQS/QKQvzH2HTvR7S+w1haj2ie8eUgUqBTfIjc/N2rwiX9o/wHDNdRNDfk2iB3Is5iPmxgA7OTz0FEf7SHgBppIfKvw0cSzN/ok2AG6D7v3vbrSdeC3Ynhqn8p715EYOQOfWnLEituUV8/z/tKeArad4JodQUx2/2hibOfAXsM7PvH061PB+0b4DnCnyr5d0BuObSYYUeuU4J7DrTdVbtgsPU7Hv1R7gPu14Sv7Q/gllgfyL8LcRtKpNnONqr13ZT5fYHrWfH+0x8OZLq1swl8HuomlTNpOAFTrklOPxpKrF7MX1efY+h94p2RXzzaftIeAL6O1khiv8Xe7YTZzjATqWynA+uKsw/tE+A5/s7LFfYuCwQm0nAAXgk/JwPc0e1h3D6vPsz30EHpS18/p+0b4DIjKRXzeZKYRi0m6j+L7v3f9rpSJ+0b4FkO1INQJ8824/0Oblh3+793/a6VH1iHcbw1TsfQNFeAD9o3wIyF0hvyBP5AxZz5Leo+T7v+10qGP9pPwDITiK/H77yB/oc4y/t8nI9+lNV4fzEuhPsfQtIWA4rwRv2jPAYa5CxXzC2mWBsWcx3O3QL8vze5HAqrJ+0l4BVbmTyNQK2sohc/YpyCzHHy/J82O+OlHt4dxqhPsfQpYDignAzXz9cftG+AIbm6tmjvS1pt3kWkxBLdACE5PPQU+4/aN8C2rXKzQX+bREd8Wc5zv6Bfk5PqByKbqxW7B0J9j37OaMjOK8Gl/aH8ERKzyRXy7I/NObSboe33Ovt1qG//AGjvAGnTtFcx32UgE5ItJiNp6DOz73+z1pe3h3BYefY9/wBwoLAV8+x/tIeAJJVhaK+Dtb/aQDazZCe/ycH2PNIP2kvh+xjAivj5kZlH+hzH5VGefk4PoKvnQ/q1T+Vn0JnjNN3ivBYP2iPAl0kDql6omieYbrWZdqp13ZXg+gPJqG2/aO+HtyttJEl6Bco0i5tZhhV6k5Tj8an20O4fVp/ys+gqK8Ci/aO+H8xgVReZuEZ1zazYATqT8vH41FB+0l8PLtIJIFvSLh2VD9lmH3epOU4HuaX1iHcX1efY+gdwxmgEHpXz3D+0n8ObmON0W9/eSmJQbSYEkdTjb9336VYi/aL+H8yI0P2s75jCo+zTcsOpHy9B69Kftodx/V59j3wEE0m9a8Dt/wBoz4eXPmvCboiKbyD/AKNLy3t8vI9xxTZ/2j/hxBFNPIboiCQRMBbSklj6Dacj3FL20NriWHn2PfsAHNKcY5r57uP2l/hpbLLJK13iFlQ4tZjlm7DC8++OlPm/aU+GsUlzGsly5tQPMxbS9+w+Xk+wq+ePcf1ap2PfxtI2CoGt4h29vwrwOf8AaX+G1tFdTObsLaqjOfss38XQD5eT7CrNz+0b8N7ZZZJWuQIohM3+jy9G6Dhevt19qlV4dw+rz7HqV/4G8G6neRanqul2l1cwHMc00MckiY6bWZSwx2waxPE3wk+GPjW6S/8AGXh7TdWnRdqyXlrFO4XOdoZ1JA9q4hv2i/h1Gzxv9rBSETtm1m4QjPJ2dfbrTG/aO+G6LCztdDz4jOM20owgGefl4+h5pqrF6pi+rT7HaaB8HPhL4T1Aaz4X8MaVpl2g2rPaWcMMgHfDIgP616GYIiBxwOc968Dj/aT+HM/lnN2PNjMozazDCr3OU4/GrVp+0b8ObxYGjkuV+0o8iBreUHanUkFePbPWj2ke5SwtToj2i406wuzG9xEkjxHchZQSreoJ6H3FW/KjQ7jyTXz2v7TXwxdbba90PtZYITbTfwdSfk4H161at/2kfhneC3eGS5b7S5RP9GlHK9Sfl4HueKSrw7g8NPsz34lQdtMeGOUYccV4DD+0r8NLiSFIXuWM0rRLi2m5K5yfu8L7nilt/wBpP4a3QRopbnMkhiXNvKMkdSMr09+lL28OrE6E+iZ7ykMSjHofSrW4GvneT9pr4XJAtws1y4aUwjbbSsSwODjC9PfpViL9pL4byxmRHuCPN8kYtpvvf98/r0qlVi9mN4efZnv5dRS7hjNfPsv7SXw1iV3LXTBZlg+W2lOXPYYXnHc9BTp/2lPhlbmdTLc/6PIsT4tpT8zdAPl598U1NC+rT7M9/LijeteB3H7SHw1haePzLl2ttu8LbSk5boBheT7Coz+0l8Ml+0OZblVtVDuTby4w3YHbyfUDmpdWPcaw0/5WfQJOBmjcOtfP8v7SXwyRJZGmuGEEYlYLbyk7W6YG3k+w5pH/AGk/hwrOsjXK+XALhybeX5UPTPy9fah1ordh9Wqfys+gN60Ag8Cvnw/tKfDLzFh8y53vEZgv2eXIQc5Py8ZoH7Svw38+K3c3aNLEZhm2l4Uf3jt4z2HU0RrQezD6tPpFn0LRXz/F+0l8NppbaOOS6zdKXTNtKPlXqTlRj8aSD9pL4czrAYzdD7QWCbraUZ29T93gfWj20O4vq1TsfQAIPSjIr57i/aW+G00UM0LXR+0SNGg+zS5JXqcbeB7mkg/aV+G9xLDGn2stPIY0H2aXOV6n7nT3PFN1Yrdj+rVP5T6FyKTeteB/8NIfDf7NHc77kiWYwJi3lyWHX+Hp79Krn9pf4aLH5ytcspm8gEW0py/t8vI96SqxezJ+rVOx9DU3etfPp/aX+GixvJ5lztSYQZ+zTYLt0A+Xn6jinz/tIfDm2SV5ftW2KVYSRbSkFm6AYXn+VHtY9xrDz7M+gabvWvBJv2jfhzC9xHK1yDbsqt/o8uCW6AHbyfpmmS/tIfDeFZ2LXTC3Kh9ttKeW6AfLz+FNVI9xrDT6pn0BkUV893H7Svw1tluGuHuVW2VWkP2eXjdjA+7156CnS/tK/DeEzh3ugYIllcG2l4DdP4eT7CiVSK3Yvq1T+U+gqM8ZrwU/tF/Dv58vcgRwids28vCH1+Xr7daD+0Z8Nidnmzk+R55HkS5Ce/y8fTrUqvDuJ4efY95+lIoIXBrmPCPizS/Gmixa/oxc202SnmIyHA/2WAIrp15+b1rVMyatoOooooEf/9P+/iiiigAooooAKKKKACiiigAooooAKKKKACiiigAooooAKKKKACiiigAooooAKKKKACiiigAqMxqW3EVJSEgcmgERGFTz75pJIlKjA5FT0x22ige+hH5SnG4U1rZG9qlEiE8MKDKgYKTQK19CIxDvkd+tO8mP7uODUdxceVGSMZrzf4U/Fjwz8X/D9x4k8Ks5gtb25sJPMUqRNaStFIACOm5Tg0WBLselGFM8A8+9N8pVG3FWN2eB1pH5XIo0GhDDGWzimtCjce1KkiYAyMn3rzCz+Lvg+/8Ainf/AAftboNr2m2UOoT2205W2uHdI33dDlkYYz2oC7R6UYFz0zTmhUnpUiuOmQT6Ux5NozmgGtRqR4HTpQIBnv6VIsi7cimTXAjUsuDj3ppishPLXowpwhUH69hXn/w4+Itp8SNHn1q1sbvT1gu57Qx3sTQyE28hjLqrAEo+Mo3RgQRxXogcMTjp9aTQkrEawLnLD3o8lQ3Az3p4lTcQTjFO3E9MU7jTGCFB2xTTFk8cZqZnVevek8xCcZ5ouNu+5CI8fKBxSi3jwffmnpIrLnOaFk7MaLCYwQow+Yfjml8hd27JpxkXj5gKGkUDgjHrRdha4wRKi88mo/I7LwD6dq8z+IXxZ8N/Da40eDxIXUa7qMWl2xRS3+kTBiobGcDCnnpXqULZGOfxpDuM+zgMHzyOKTyue9WqKBFZIsZ6880hhOfXvVqincCqYFJ3belO8hSMfd5zViijmYaFf7OoOeuaHt4z2zViii7HcqfZl5wAM0n2VBxjg1bLAUA5FLVA2UxaRj+HNOFtGvRRmrBbg84xRvUjgg07j5mV/s0bYLDtilNrGTnHbHSpRIpOMiorqdYIWlY8KCT+ApA7sQWkJ6gflThboDkAcV578KPih4c+L3gq28d+FWZrG6aRI96lWzFI0bZB5HzKa9ILjtSSBpp2ZW+yoTkqOuaBbx/dKg85/OrRbbyailmVBwRnGQKsOZkBt4yPujAp4tY1XCqPyFee6V8VvCGr/EHVPhfp10sus6Nb291eWw+9FFdbvKJ/3tjY+lekrKh4yM+lQnfVA53GCCMg7lGD7VGbaM5+Xg/pUzOoOCwGKdvGafmLmZXNuBlcZFILaPH3B+QqZpAFODkgVwPw1+I2m/E7w0vifSra6s4mmmgEd7C8EuYZGjJ2OAwBK5U4wRgjg07hc7pbaMDGMYGKQWkWfujkYz7VY3rjINJvUfKSM0BcgFnAoHHQY5oa2jLbgoHarWRjNN3jdg8VPImNTZWW2TOMDHTpTjaxMQCOlTeYgHJFAZSPlI5707CuRC1iUBQBx7Un2ZeNvAHarIYEZFRmaNRlzt+tAiAWkZbJUZ+gqXyI924DB+lP3K2QDXkPjn41eDvh/wCNfC3gHXpXGoeMLie104IpZWkt4jM4ZgCB8g4zSbS1GesPboTyASfaozZxHnaM9elSiVGJViAevvVgHNU1YEyr9ljAxtBpRbRY5UD6VaopBdlRrWEsWKA0fZ1bqOD1B6VbpqknrTuDZXFsvOe/enfZ48HgZPtViikIqm3Qjlc57Ugt1yMjn1q3RTuO+lisbdMYxSiLaMbRViikFyn9lAGB0Jz6Ui2sW7eFGR7VdowBSsguyt9njznA4o+zRg5A96eZU3FcinM6IdzEAUxXZF9nj27GG4VGbOJj90D8KsGReT0ryL/hdXg5PjPF8DC0n9uTaY2rBQh8v7OsoiJ39M7j0obXUaZ6qtpCqlMcGk+xxMcsi/kKu5BpaPMOZlb7LAOij8qT7OndRUplRfvHH1rg/H3xK8LfDe20+88UXK26apew6fblv457htsaD3Y0Bdnai0i6lQOMfhTxbRZyVHTpSRTI6Bm4zU6suODRyoLsgNpF/CMcYoNqm7cBg1OsiN91s9qQyoCAT1pcqDmZWFnFkYGPpQLaNPurjGa4KP4k2knxLl+GosLsSw2SXpuzC32UhnKeWJvumQYyVznBBr0QuhPLDjnHekqcewXY1beMDgD6ioWsYeyjjpxU5lRW5IweMU9X3HqKod2QR2kSjoOfQU1rSNmJKj1q7kDrUZcZ4NJJIOZlc2UJHTnOaDaRjIUdaVbhS+0HJ/z71MHB4brQ4J9BalVLRF+6OKc1ohYt1yMVPJKEGB60RzRyLuU/5FUtNhubZAbSLqR2wacLSLkEdazfEWuWfh3RLvXb4/ubKGSeTHJCxqWOB9BXIfDH4p+HPit8PtJ+JXhot/ZutWyXVuZBtYxyDK5B6GpshXZ6EbWPOcCj7Ouc46duKfHMJGIBqem4WC5S+xQk5I5HSlFqi4XrVyincfMyl9jjAAxwKDZwnqv5GrtFIOdlM2sZOSuaVbdVIbaCRVuigftGVPsy5B29ORz3pptV9Ku0UrITkyBYgq7fSpgABgUtFCVhN3CiiimI/9T+/iiiigAooooAKKKKACiiigAooooAKKKKACiiigAooooAKKKKACiiigAooooAKKKKACiiigApCMjBpaKAEBB4Havzb/b1+Og8D6/4K+DC63eeGo/Gct095qlhE0t1DZ2KB5EgAVwskhdVDlTtGT1xX6SYGc18hftUfA7xl8UP+Ee8e/CXU4NI8a+Dbp7zSri6VmtpVlQxz2twE+by5lxyASpAbtQB8I/Cz4u6R8PPjNp3hX4I+KfEHijRfEltdpcW+vpPImn3VvA0kVz9qeNdkMhXa6t0OCPSvnnx/wCPdN0/4W+IPjP4W+MPivxB8R9As7nUgmkxmbRnmtgztbx2whKPb/LsZ/M3Yy2a/QCw+C/7Xvx20LWrb9pDWtO8K2d/pF3pUGmeHJpLlTJdrtN1NNKiElAPkjUdzk15jqn7PP7dHxB+D+qfswapqXhfwZ4VfTZNIj1fSPOlu5rd4jHmO1aNI4C2Ruyxxk4oQGH8Grv43ftY/HLVNU8U+Mr3Q/BmnaN4c1SDSdMKxTSX15ai4mWWcqzeR0ygAJJPIFZf7P8A4/8AFHwmfQfF73xj8Haz4v8AEGhanEwGyK7ub+VrO4LdRmRTEe2WFfbP7Nf7Oep/AfVtSurzUo9QW80zSLAbUKsDplqLcuSf+emNwHavnD46fCbQfhD+xV46+Gvje++13XiTUNQn0o2ynzl1HULpp7BYQRnzIpSrA9Mr6UPVWGlqz6X+EHxF8TfFf9oXxff6PfN/wiXhRU0SGNRmO61EfvLqXd6RZWPg/eDV9iTlkt2bOOK+K/gJovg39jL9mTw5oPxT1yK3awto/wC09UvWCfaNQn/eXEsjH+OSQsTXYx/tpfst6nstLPx1pErzkKgW4TJLHAA56kmqbuFj84PG19d/2t4o1n9oTxv4q8AeKV1O4i0a5jYposVujE2bxbY3jmiZdpmLsDksMrivO7nWvEvwi/ai+If7SmoazPrfiDT/AIZaPP5Frcg6VcXc008SOibM+WZMMOeAWr66b4fft8+F7a4+GXhG88M+M/CWpy3Hk6trcssd5bWtwSVjmtkjdLkoGwpBAYAZxVTw1/wT2bQNT1DQJtXS78M654Lh8K36sGS5Sa2eWSO4tzyoXdKcKT8u0YrOqrxt5g0Yni74DfGv4XfBu4/aJsviTrt9450i0Os3sdzNG2k3QjQSzWgtAo8uIoCsbB9w4JJrkvgxN8Yf2x/jv8S18ZeMdQ0j4f6NLpLaRY6RILW7Z7zTobiXzZ9rN5atJ8qgZJzk44r0q5+Bv7c/jPweP2dfiHr/AIfXwcIIbS88Q2jTnVL2zQgPF9lZBHFJLGNjv5hAySAa8O+HXwx/aW8CftUfGrxj+zQ+nXFr9t0nTn0HW3ltrRxb6dAI7i3uI0chwpKuCNpwOc030CxnfF34iftOfCjw/q/7N/gLxVLd61o/ijw7b6Vr2ohJJ30rV5GEiXQUKHkgCuAwA34U+tfQXxQ+H3jT9lKXQvjx4a8c69rNvFqVnY+INO1WdLi2u7e+mWBpokCIYZY5JFZQhIK5XHevCv2jv2UPilP8LYtU8b+IQvj/AMceN9Cu7rUdKjdoNOSzc/ZoYFfDPFFtwxYDfuY4Ga+mpPgl+1n8bfEGh6B+0hqGg2fhPw1qEOosmiNPJcavNaHfb+assaLBEJMO6ZYsVA6VpUjaN+9xWPjjwl4z/aZ+N1r4B+H/AIf8fXXh9Nb8Y+L7bV7xI0kuX0yxuJFhggLDakijaqOQdo7E17b8Uda8b/sGeMpb/wAOeJ9W8UaHrPhrV73+z9dnW5eK/wBLhR4pYpwiFUlDYkVhgEZBFe7fBH9jbWvhnrfhnVtR1iG6Og6z4i1TYiMokTW52lRBnoYw2CT1xxXrfx5+Akfxa8X6L4q1KKO/0/RdM1a0udOfIN4uoQiPywegBCkHnvWeHT0v2NYWTTZ8aa/8B/jVo/7Luq/HSy+Kust8Rv7BudYFxJLGdIW4NuZfJW0CYEC/dU7938WTX6Gfsu+JPEPi/wDZ68FeLPFNx9t1LUNFsp7mfGPMmkhVnbHbLE1+DXjPxfPqH7Pup/s6v8UNQu7e6t7jQrTwaNOMXiU3EyGOKwlugxAhjJAMwjGYxnPev1x+F3x4+A37NPwz8M/A74leMNL0vXPD2k2dlc21xcKsiPHCq85Oe341WtiOhP8A8FBtf+Mfh/4I2rfArV10PxHqGvaPYQ3kiiRIo7m7SOYlCQG/dk8euK+evGfgL4m2HxF8IfsceFPHmuxR61Z3viDxF4gmljfUXhgeOJba0byxHAJZHznY2xFwMk5r6P8AG/iz4T/tg6VZ+DvhL4v06/uNF1bTtWuPs8glKpZziQqQvTfjAJ4rb/aK+A3jfxX4v8NfGn4Nalb6Z4w8LrPBEl6rtZ3tpdbTLbTmMF0BZFZHCnaw6YPFt6WEkfAn7TuufFr9iDw14m0bwh401bWtI8ReG9Vu9LbVXS5vNN1PTo1l3RzKib4pEbO1lJVl6kHj7D/aW+KvjTwL+wJ4g+K3hvUGtdftPDEd9Hd4BZZyiHfg8ZOelcBJ+yr8Wv2h9S1bxJ+1/c6ZALvQ7rQ9N0nQ3kmis1vlAuLlp5UjZ5n2qFAQKqjGTnjxL4vfssf8FBPjX+zxqf7J2peKfDGh6O9pFYf8JDbpcTXt9bwldsbWrIEgZ1QLIwdu+0HrWE4Nyco9hzjodj4Z8I/HX9pb47+J9J8WfELUNJ8C6HYaQ1vpmjbba8lvLmzWSZ5rplciLJBVFXO7OTjivLtV+Jv7QvhS9v8A9i/RvFdzc6pdeMbfQNO8S3CpJfW2kTWA1KZ5OFje5iUtCj7cH5WIzkV+j3wV+Cur/DDxn4k8UXd3Hcx69Fp0SRoCDH9htlgYtkfxEZHt+vz38Wf2JPE/jrxX4q+I3hHxHFpXia517T/EegXDRs8drdWNmtm0dwowXinQMH28gNntU0lO3vGsWkfOX7RXwG+IvwS+JnwYuvDfjHVvEHh3UPGlhBq9rrk6XMqusEximtpFSMqWfiRMEEcjpX7dwcrntX5LeKv2b/2yf2h/iP8AD3xh8c9W0Hw5p3w91+LV10vRpJ7ldSZIpIi00skcewAPuRADznJr9Z4EC898dPStTOT0LNFFFBAUUUUAFFFFABRRRQA0oD9aY+UjJqWo2JweKdwPyz/bP+PSWPxm8Kfs6zeJNR8KWWradc61qd3pcDS3sltBIsUcEDhHEZeRiXfaTgYHXNebfDr4r+IPht4t1fwR8LfFOqeIPDuoaDeX9te+J0cLo97bAYM1yY491vKG3AMCylSMkV9pftGfA34heJfFPh740/A3ULWx8X+G1mgEV/n7Jf2Vxgy2szICyfMqujgHaR05rxDxP+z7+05+0L4E8U6H8ddb03QV1rT0s9P0jS991awSpIsvm3Urqhl8xlCMiqBsyMkmkNK58L/Ef4m2/wAMvg1J8d/hX8U/FnjLxjp0kN3cPBEbrSbr94vnRPAkISG32sQHD/KMEk19Z/Cyw+OHx+/aE+IGreMvFt5p3g7whqFkNL0nTykRmlaxinlFzMQxaEO/CLjPOTVX4t/s8fty/tA/B67+Buvax4a8C6ZPaC2luNG864muRGRtjVHjjSCJ8YY/MwUkAV9k/A/4Kat8MNT8Y6hql3FN/wAJPcwXCpHn9z5VpFbEEnrkx5z70FqPunwJ+yh8QvF/wv0/4Z3WrXzHwf4uGpaLJGwwtvq0d3NLbPuHadA6EHjcB619w/A3x94r+Kvxd8Z+KYLt/wDhEtJuE0TTYgBsnntsm8nDdSPNPljt8hr4/wD2iPhXB8Hf2BH+BGs6rnxTqF39m8O3NmmZhrNxdGW0khU94mYMxPAUHPFfaHww0v4f/sh/AXw54O8aa3BZWumW0VvNe3bqn2i7YbpZGJwC8khZj7mgKmsmz6i1BpFQeWfbBOK/CrWpPEOpwa74x+NHxD8TfDz4jWV7PBYtdEw6AhEh+zLHG0fl3EDqF3vv3YY8g1+n9z+1h+zjrm3T7HxppjSXH7pdlym7e/A28nnnivmG6+H37dkXhC6+CsreF/FmiXyT20Wv6rLJ562kvCm4s/KZZZFU/wALbWwORmnbqZnxe2teLvgt+0h8af2gF1WfVfE6eDPDXlWiXAfS3v73zYY2jUqD5IlIZctwufWvqD4h/Bb4zfAj4P3f7SNj8Stc1nxboNoNY1O2u5Yzpd5HCBJcW62yxgxIU3CMq24EDOa3LP8A4J8C3u9f8LS6qs/hjxP4PsPDt4x3LeQXOmhxBcQtyuMtuwTkFQKn1j4G/tt/Ef4ewfs+fErWfD8Xhlwlrqmt2bTNqF/YRsMxLbsipFJMi7ZGLkDJ2g1jTi1cDzz4baZ8X/2wvjD8RH8XeM9T0TwBpsunHR7LSJRa3bSXNjDcSmSbYxEaM/yqOSc5OOK8x+J/xT/ah+HGmzfs4+DfFr3Ov6V450PSrPXL9EaSXR9WheU+eq4DywgMMgLuIU+tej/Dz4U/tCeCf2m/it4y/Z7urC70+W/sLKfQ9ZaW3tkFvp8KxT2s0auQcfK6lSCAOc15t+0T+yT8UbT4eaRrHiTxKifEbxp8RNG1O61Oxid7Wye0SX7LDDG+GaCJUCsTgtlj3rWL90D6D+JXgfxj+x1qegfG3w/441zX7LUNYs9K8Q2GrzLcQzpqDiBJ7ZVRTBJHKyHauVKkgjIzXz58NPG37Snx8g+GHg7RfHNzoUGvX3io63dpGj3UtrZXflwxwFhtSRchQxBwueCa+v7n4IftN/GnxV4Zt/2hrzRLDw14YvYtTkttHeaaXU7y33eR5vmxoIoUYiTb8xLADtW38B/2P9b+EuseDb++1eK4bw1JrsjqikCUavcCdME8jyxwc1nOL5rmkD50+Jfib4n/ALDfi/WLDw34o1LxZo+qeFtQ1OytNdkWea11O0khiRlnVEJhkM4LqwO3bwcVU+NfwK+Nfwg/Zd8U/tE+D/ihrlz8RLLQpdQklu5420qWVYt7olptCxqMkRkNkcZzX2j+0j8AE+J3iRPG15CNUs7Hw7q+lTaUPlkvFvljIVJOin93gE9yK/En4h/EK9+IXwJ1L9mCb4p3/iKbVbT+x7Lwemltb+IfPc+WkF7PuIEMJI82UIu5FzkZren8VxuJ/R/8INYv/EPws8O67qz+bdXmnWs0zn+J3iVmP4k18qft6av8aLbwn4M8P/A/Xl8Oajrvimx066vWjEu20mWQzBVPG7aPl7bsZ4rvvCXx4+CPwi8G6V8OfGXizTLHU9FtILO4hkuFVkkijVSCCeDxVDxTqXw+/afuNAX4d+JbG8PhbWrbV5/s7iXcsSuoT5ehbd1NRdi5D5W8ReAfGfij4y2P7GGj+NtftNC03R31/wAQaqLhBql295M0MNtHPsCxR5V3JRcjCqD3rzX4t678V/2MrfW/hR4c8XalrWi3+kwanod1qki3F9ZSW99bwXUDTYXzY3jmDIXGRyMmvsn48/Av4r618VNI/aE+AGpWln4n0uzk0u7sNS3iy1OykcSCOR4wzxyRPlo3CkckEc15Jqn7IHxU+OWm+L/Ev7SetWdr4g17Sv7I0m30bfJa6TCkonWQPKqtNK8yoznaBhQtF29WNNHvv7WXxF8UfD/9m6fxr4TunttQW40pRMuCQJ7yCN+vHzKzA18V+A/g78Zf2rvjP8WR8VPiTrmn+EtA8QJY6HpWhSrZSRBLWCR3muNjM/zk7VGB1znPG/8AEn9nX9u/9oLwXo/wn+IviLw74c0PSr2wur+900TXFxqy2FxHMIvLdEW3SQR/PyxB4HrX3r8C/hBe/C7XPGmrzXqXSeKdZbVY1VCvlBoY4thJ6kbM596c3oktxysfmDovxT+O/jK/0v8AYrXxfcw6oPEmsaVe+JIkRb59J0lI5QFyCguZBNGjSbccMwGcCsL4sfAz4gfAL9qz4F6N4E8T6j4h0O4vNdaO11+4N1dQ366exjZLjap8p8/MrA4PQ46fU/jb9i7x5a6zqHxW+Fut2lp41tfFF74h0mS6RvszwX0SxT2VztBYJIqg71ztZQcGuS8TfsnftM/tA/F/wT8Z/jj4lsPDK+DV1KKDR9CaSZSb+1a3NybiREJlQkFRtwB3zXJVjNrX+tTnnHQ+d/DseqPp8XxH8WfEPxP4I+Lkd2kdxbeIHaDRZbjeN1qlu0flNbuvCSRuW5B3V+7WgXF1PpcU14QzlVLMpyCSOSPbPSvzA8Q/Bj9uDxv8M3+APxGl8LatpFwPsc/iGVpXunsunmfYmiKi5K99+0N82a/S3wRotv4b8N2WgWjtJHYwR26s5yzCNQoLH1IHNdjZo12OuByM0tNB7d6dUiaCiiigQUUUUAFFFFABRRRQAV87/tXfGOb4Bfs9eKvi1ap5k+jWLywjaXHmn5UJUckBiCQOa+iK8z+Lfw30H4s/DfWfht4m3fYtZtZLWRl4ZA4wGX3U4I9xQB+HV149sfBvhaL4zeD/AB/421j4hW6Le3FrPZ3L6bfswDSWiWfkBY0YfLGytuU4JJr274za94a+Lfi+e7+MnxL1zw9p8FlaT2XhzwxK0F9AZow7yXxjikl3bjhUwoAHOa9X0f4Zf8FC3020+D+reJdBs/Dti8Ub+KbVpjqs9pERiMWbx+VHMyjaz7yvUgVHbfAz9r34N/ErxRe/AJvDOqaV4zv21KbUNaeeK+spXjVCrCKN/tEalcoAy46cdab1A+H/AAz+0N+0r8QNE0X4OfDHxZqdgtv8RW8ODWtZsxHqE+j/AGE3JLRsqDzQDtjkKAEgMRXrvjf4ZeO/hr+09J4B+EviHUrzX7H4dXV5Z3+pSi4uprhdSWUpI2xQVkIKYCjCnjpXufwt/YO+J3hLxjb+N/iB41i8QaifF/8Awld1MYDCHLWQtWt4kGdqKwymSfl6nNfT2sfBW/g/arj/AGlru+iWxtvDUmiva7TvDG4E5lLdNoUYxXLUpu7foVy9jxzWf2ldc+K3hH4ZeG/hXctaax44niuLx48O9nZ2WGvi6nod48nn+JvWv0fiDLEAcngc96/JH9g/4Q+GR8Vfih+09oF3cTeH9Z1Wa18PxXGRDbWcZ33r2wIBEdxdb3z0IAxxX2If23f2WILiS1ufHekI0JKuDcKCpBwQfcGuq1nYk+eP20rzXW+JPhvQ/HOo+IdI+HM8T/abrw2HEzahu+RLuWNHkig2cggDLcEjv8NfGj4UN8Qvh94b8K2fxT1XX/DekfEDRjpNza3aLqkHmN+8tr2Tyvm2NzGxUHB+bNff/izUvjF4/wDGEf7Qn7GniXSPFelzW39n32i6hcvHZu8TkrNbzxI/lygEh1ZcMMcjFeXp+xx8bvG39rfFjxtdaJo3jbU9U0nUorGxMrabEulOWRJZQivLLIGYNIE4+UcgUMqG+pQ8LfDLxp+2f4o8V+KPFfjrxF4Z0HwtrNxoej2GhXKWrbrDEct1cyGN2lZ5MlU4UKBkHNeR6p8T/wBqvU/Ffg/9mrRfF3lalZeLb7Qdb1x4U8640yKzNzFKifcW4KMoJA27gTjHFfUN18FP2q/gt458QeJf2ZZdB1PR/GV5/aN5pesyz2w0+9kULPPbyRRSebHIRvMbBTuzjrXy/wDE79lH4s+E/EHwuttC8TiXx9d+J9S8RX2r+U32Oe8e0f8A0eSP7y2xTEQ/iCgHGeKk1i9D23xR4N8dfsdfETRNT8KeMtb1/wAO+MmudPvbTXLhbp4LxbeSeC5t5NiFATGVePBHIIxjnzP9nv4J/tB/tFfsz+Hfjv8AE/4ma1pnjy4sjeWI0qWOLToCCxhWe3KsJ94A8wsR324r2u6+DX7TXxU162+Jn7UcujabZeEbW9l03RtCmmuVlvJIGi+0zzSxxfdjLBI1U4LEk8CvmL9kv4Tft3+F/wBlfwv8KPhjq+h3Xh7UtNJi1jV2nj1LS47gsWjFukZS4Me4iMl06DdjrTihSOP1H9rH47+NbHxV4h8Nax/Z2uQfDeC8hhAD2sGrJfzWsk4TGSCyevK19CeN/gh8Z/gd8KbT9pSH4o69rHjSy+x3WpxXckf9j3kUrxrPAlkqZhUqx8tg5YEAknmunk/4J2XmlPqNh4Z1+NLO58GWnheI3EbNL59vdPcvcyFeCJC5yBzmvtb4yfCzUfib8F7v4UW92ltNdwQwi4dSVBiZGyQOcHbUUlaUl3ZCS6nxp4A8GeMv2wPGHi/4geOPGOs6JpOhaxPpGjaXolyLURfZAoe5uG2sZHd8kI2FC44Oa9T/AGDPFXxb1Z/iT4V+L/iAeIbrw14qudNs7kKqH7GkMTQhwvHmYJL++a+IfiD4mtP2eP2g/GGi6L49PwpTW1W+nt9U09r6w1F/KRXvrCYOgSY42vESfmGcc8+n/sG+K/hv+zb8MPE/jX4qa3Lo1h8QPFF7q2l3OvuIbm+idUU3JRgCgmKl1TA2qRXRFWKvG9z9efFd7NZ+Gb+8tiVkjt5XVh1BVSQR+Vfi14K8Q/tCfDf9lC2/ak8aeMbvxD468TQ2+l6bauVj0q0N/dCC3cwKu55EVgzuW+YjAAFfoin7Wv7NHj1h4C8O+NtJuNS1ZWtbaKOdXZ3kUgAKOTXO3H7KNv4p/ZKt/wBm/wAQak0c1paxxQajaggxXNs4lhnRT/dkVTg9QMd6za91Etdj5S+JnwQ+JH7JngSb9pbw78S/Emu6vophvNbstUmjnsNQty6i4jigWNfs7bWJiKNxgBs9a+kP2Gfi/wCKvi54U8ca54qvHuBZeLdTsrPfgGO1hZfKQYH8IOK8ov8A4G/tnfGzS7T4O/H+/wDDtt4OglhbUr3SZJ3vdWigYMITDLGqQLIyjzDubjIHXIkl+Af7VvwE8deI7f8AZbm8PXXhXxdfSajLDrLzQS6VeTIFmkiESSC4jdgGCfKQcjOKhqXQg+cL74nftLfFa80b4feEfGb6HLq3xH13R7u8ESSSJpVokpEUIIwJQANjHODyQa9Q8fWvjD9hHxxpPibw74t1vxL4d1rT9T+3aZrk63T/AGmwtHuo54JtimPd5ZV0Py8gjpXUfs4fsN/Ev4UWnhi7+InjC38R6ro/ivV/El9dpA0In/tNXAjRP4ShcdSeB1r6x+OvwIh+NXibwxcapOg03SWvlvLdwS08V5ayW21SOB9/JzXQopagfBjfs8/G/wAefs26h+0PcfEjWIfH2s6LLqyW/modFh8+3Z1s/sm3mIKQpctuyN2e1eCeAL/VL34Q/Cq0+OeqeItH8ASeEbFbe48NeZHE2puD532uWFHkQKNpiBwp5znpX1HL+zn+3bY/Cm+/ZR0PxFoEfhCWwm0208TMZxqtvZspjSI2oTy2mRCFEgkxxnGa0fAv7N37Yv7MPhfQ9K+Bmt6T4rt7LQ7DSbzSdammtYhPZp5ZurWZI5NvmLy6MvJGQea5+xXKfTf7Fo1a08D6hozeM08c6TZ3rppmoSOJLxbbAIhvGAAM0bZXOASMZGc19oV8f/su/A/xf8NLzxN4++JEth/wkvi+7S8vrbSVKWMHlRiNFj3BS74HzyEAse1fXykkZIxVt3JHUUUUgCiiigAooooAKKKKACiiigAooooA/9X+/iiiigAooooAKKKKACiiigAooooAKKKKACiiigAooooAKKKKACiiigAooooAKKKKACiiigAoornPEuu/8I5pU+qtFJcCBC5jhUvI2OyqOSaBpXN9nx0prKshHHSvna4/aG0+3a43aFrJ+zKpcrYysCW7LgfMR3x0qSb9oXS7eeaD+xNYc28KyuUsJyMt0UEL8zeoHSs3Wit3/X3GvsZdj6EWMbskDinlEP8ACMivnOf9oaxtjKJtD1keTD5xxYTHP+yMKct7Cmr+0TYeSJBoOsr/AKP9oObKXgdlPy/ePp1odWC3YOjNvY+jESFPuqBVW50vT7wL9qgjk8tg6b1DbWHQjPQ+9fOq/tG2MjoG8O64oeEzsTYS4VR2PB+Y9l61dg/aCsZvs7f2FrK/aI2lw1jKCiKP4uOCfTrR9Yguv5h9Xn2/I9v1jw54e8RWZ0zxDY2+oW+d3lXMaSpkdDtcEceuK5IfBr4RKwmHhbRw6nIb7Db5BHOQdlebwftD2ss9rCPD2tA3e5gTYygIq93OMLnsDzQn7RVlK1uE0HWR9oYgZsJRtVerNxwPTJyan6xDv+Y/q8+35H0bEkccYjjUKoAAAGAPYUeXGylQB61862/7QdndeR5Xh/WR9okdBusZV2hDjc2RwD2zjNQxftH6XIYETQda3XEhjXNhMANvUsdvyj0J61Xt4X3/ADB4aoun5H0h5a55A9qrRWdtFI80caq0hBYgAFj0yT1J+teAx/tD6dcxRSQaDrOJ5TEubGZTx1YgqML6E4BqRP2g7B1Vl0LWMvP5Cg2MoyRwWPHC+5qPbw7h9Xn2/I9+ms7acYeNW2kEZAPPryKm8pPSvnz/AIaCsSr7NC1lis/2df8AQZRuYfxDI+7/ALXA96guf2ibC2W8b+wNacWsqw/LYyne5/ucfMB3YcCqdeG1xfVp9vyPosxx91FR7FdSGAx2r5xm/aKsUluEHh7XGFqVUkWExDM/QKdvzAdyOB60T/tFWlv9oSXw9rYFqis5GnzMMt/CuFO4+uM4p/WILqP6tPt+R72dE0k3x1UW0RuiMeb5a+YB6bsbv1rD1L4d+AdYu2v9a0Wwu5nHzSTWsUjNjplmUk8V5Kn7RFkqzsfD+tfuYRMw+wy556KBjlvYdPanf8NEafHJIs+hayBFAJ3/ANAm4BGQv3eW9hzS+sw7/mP6tPt+KPZNF8FeDfDbtN4e0mzsHlG1mtoI4mIHQEooJFdOVDKUbFfPjftBaXA0avomskvbm5bbYTNtUdFJAPzn+71qvF+0Np8gg36BraGaFpzu0+b5FXnDccMey9aXt4d/zF7Cfb8j6LEag5IFJiPOcc188W37RGmyx2hl0LWka7R5AGsJwVVf73y/KT2B5qva/tGaddPbK3h/W4/tAdvnsJl2qmfmbK8ZxwOpp/WId/zD2E+q/I+kBszgAc0eVGDnAya+dbP9onR72OGSLRNZUzMwUPYTrhV7t8vAPbPWoB+0hpkzWiReH9cP22Vo0P2CYBQnV3yvyr6E4z2o9vDuL2E+35H0gsYGQec0q7BwvWvnSL9ozRX240XWfnnMCk6fPyQOWPy8L/tHinv+0NpYthdxaJrDB5/IVfsMwJOfvfd4X3PFDrw7/mCw8+x9FjPem7+eOa+d5P2idGi8z/iTaw2yUQgCxn+ZjxkfLyo7t0pj/tGaTG1yBoOtMIHWMEWE2Hduy/LyB3bpQq8O/wCY1h59vyPo0ZxzTN4/z/8Aqr52uP2itIgtrm4Oi6wxt5FiKiwmLM7Y+6NpyB/e6Uy6/aK0u1e8B0DWm+xhMlLCZt7P/CmF+YjvjgetDrw7/n/kH1efb8j6OO7PFN3Y69a+cr39o7SbGSeOfQ9Z/wBHiSVyLGY5L/wLhTlx3Apr/tIaQjyodD1nMMSytixm/i6KPl5b1A6Ue3h3/MX1efb8j6O3mnKxPWvnCX9ozSLd5I59F1lTFD5rn7BMQM9F4XlvYZxVgftCaV5eTo+r5EHnN/oMxwD0H3eW9hzVKtC24exl2PoqkJA6187D9ofRlkVZtJ1Zf3Jnb/QpTtGOhwD8x9Bz7VDb/tHaLdNCItF1j97EZiWsZhtUeuV+8ew61Lrw7/n/AJAsPU7fkfRpUN2BFRKkZJBAFfPlr+0RpFzHbPLo2rwfald1EljMCqp3bjjPYHk1Ut/2kNGu7i0gi0TWB9sLhWaxmAUJ3clflB7Z601Vi9mNYapfY+j9sYYkjrQYIn5Ir55m/aK0RGgU6Lq58+QouLKY8D+Inbwv1p8f7RPh97eO5TSNWxNI0SKbKYElepPy8L7ml7ePcr6rO2x7xdaRpl68Ul3bxyPC2+NmUMUbplSQcHHGRVHW/C/h3xFbLaa9YW19CjbglxEkqhh3AcEA+9eL2n7QujXezGlaqhkmMKBrKUZI6tyvC+54qaf9oHQY1ONM1RiZxAoFnLyx6n7v3R69PeqVWPczdKS3R3a/C74aRYe38O6YhUhhizgHI6EfJxXexxRCMfIAPTsPpXz7qH7ROi2Al/4lGryeXKIQEsZWLMf7vy8gdz0ptz+0ZodvJdIdJ1ZhakKSLGbDM3RV+X5vcjj3odaPc1WEqNaRPojahGCBgUGKJzkqPyr5xuP2lNAtoruV9G1jbZqhYrYzNuZ+ioAPmI746VLe/tIeHrDzzNpWq4t4VlbFlMclgMIoCnc3PIHTvSVWPciWHmt0e/pZ2UEjSQxKhlOXKgAsQMfMe/HHNLPp1ndMjXESyCNg6hgGCsOhGRwfcV8+N+0doiRyyzaNqwWGDz3/ANClOAeij5eW9hU1v+0Z4fnhDnSdVUCD7Q+bKUFV7Ajb94+g5qlUXcf1WfY+hdkYXlRThHHjOBXz1B+0X4fuYbe4XSdWCzwNOc2UvyKvZhtyGPYdaSH9o3QHjt3k0nVYxOhk5spfkVf73y8H0HWj2qF9Wn2PoUxKwwR1rHXw34ej1Q66tlbreuNrXAiQSsvoXxuI9s14fB+0d4eufsgj0rVf9NDMubKYbVXu/wAvy57ZqOD9o7Qp4LaVtH1ZRcuyqDZTcBP4m+XgemaXtI9xrCVH0PUr74WfDPVr59T1Tw9pl1PI255JrOB3Y+pZkJJ9ya1tD8E+EPC3mN4a0qz04y43/ZYI4d2OmdijP4143H+0d4elW2kh0nVSLqUxqPsUwKhf4mG3hfc061/aN8O3kazRaTqyq1wYBvsplJx1fBH3fekqsQ+rz2sfQ5ijII2jmkMMRUAjpXzmP2kvDrxrNFpWrMJLg26gWM2cjq33eF9+lLL+0joKOyjR9XP78QLixmO8nuPl+6O7dKpVF3F9Wn2PopUiTIA605I1jGEAGTzivm9v2lvDY8/bpWrkwTLCALGY7mP935eQO56VoXP7Quh2scznStVcROsYK2UpLs3ZRjt3Pal7SPcbw1Tse/SQROQWA4psiQueQDXzxcftI+F7dLppNN1VhaukR22Mx3O/ZML82O5HFKP2jfDgkuY/7J1Y/Zdgb/QpsMzjOF+XnHfHSj2kSVRex9FERnGe1EcaJygxmvne5/aM8OW32gtpWqk2yqzYspjy3G0fLyfp0qS7/aL8PWJlNzpmqqkUImLfYpiOeicKct7dah4iC3ZbwtTovyPojHOaYSy185zftJeGbeaRJ9M1ZRFbrO3+gz/xdFHy8t7DmnSftIeGo3jQ6ZquXhM5/wBCm+Ueh+X73t1q1Vj3MvZS6o+ig/r/AJ/SnBh0r550/wDaI8PXzJGumaohMTTtuspgFUdiSv3jjgdadF+0PoEklrGdK1VPtULTAtZTAIq/3/l4PscVPtoXtf8AMHSfY+hSwHWlr5ui/aU8Ls9tE2m6sDdKzKTYzgKE6lvl+XPbPWrFl+0V4dvraC4h03VALlmC7rKZSAufmYFeAccZ61fOivYT7fkfQ7EikBOMmvm+L9pbwxOLcJperA3cpjQGxnGAvVmyvC+hNSL+0n4Xkjjkj03VT5s7QKBYz5+U4LY28L79KTqR7h9Xn2Po+kJA6188L+0T4Z3R/wDEu1QB7j7Oo+xTfMf733fu+/SlP7RvhUo08On6pIomEAC2U5LN7Db90dz0o9pEXsZbWPoemMiuMMK+dJ/2lPCkImk/s/VCsMgi4sp/mc9QvynOO5FE/wC0h4WgF3INP1QrZlQQtjOS5bsnyfNjvij2iD2M+x9E+TEDnaKb5UYwFA4r56uP2kfClsboyadqpFsEJxYzncX/AIVwnJHcDpU8n7Q/hSF5ozY6kzQRrIwWymP3uig7eW9QKaqruNYee1j34xxD7wqKaGKVSjqCG4IIzXgN3+0b4WshKbnTtUBihEzAWU7YBGQvCct7dapWX7THhG8kaBNP1VXjtzcsHsJ1wvpyn3v9nrQ5x6s0+qVV9k+hYtMsLa3FnFCiwgFRGqgKFPbaBjFcDJ8FPg5I7SzeE9GZmJJJsLckk8/88688h/aW8MSqgfS9XjeSBp8NYXA2qv8Ae+TgnsDzU9v+0n4QmSFmstTj8+NpQGsZxsVeu/5flJ7A8ml7WPch4eot0e26B4Y8N+F7H+zfDWn22n24JbyrWJIUyep2ooGTWyYozyQCK+erX9pHwndeUq6fqkfmqzgtYzgBV7klOM9s9arj9pnwa4tz9j1NTcbiA1jcAhV6lvk4HpnrT513JVCdrpH0bsjIDEDiq01hZXUiSyxIzwnKMVBKk9cEjI49K+foP2lvB9zFazR6fqpW7laNf9AuONozub5PlU9mPFPX9pTwaBErWWqBp5DGg+wXH8PVvufd9+lHOg9lLsfQbW8citFKoIbjB5yPpUVvYWdnGsNtGsSIMKqgAAewHAr58b9pfwirQr9h1RvOlMSFbC4IyOrH5OF9+lP/AOGlPBxjDmy1P5p/IX/Qbjk+o+T7v+10oU13H7Ke7R9CGGMtgfWnC3QHkZzXzwf2k/CJR5YNP1WQJMIP3djcMS3qAE5Ud26Ckb9pbwiouGksNUUQSiLmwuMux/ufJ8wHcjgVLqRW7H7Kb2R73faJpWpBVvreKYLyPMQNg+24GsvWPBfhLxNHHH4i0u0v1h4jW6gjlC/7odWx+FeOyftJeE4TOGsNTb7Oyq22xnOdwz8vyfNjvjpU8v7Rvg+Hzme01HEAXcBZTkkv0Vfk5PqB0oVePRg8NU7Hodh8K/hlpl5HqGk+HNLtZ4juSWGzhR1PsyoCPwrv1jRAFUYA7V87337R/hSzeUGy1NvJjDsFsZz17cJy3t19qT/hpHwnHM8EthqgMUAnYmxuAMHtnZjd/s9f6P2se4/q1TsfQ/lIeSBmnMisMEV4BH+0T4Tfj7HqWRB9oObKcYH937v3vbrUEX7R/hSVov8AiW6solhM5LWFwAij+8dnyk9geaPax3uS8PPse/rbQoNu1af5EJ7V8/Wv7RvhO6+zKLLUt1zG0qg2U+Qq/wB75BtPoDyf5tg/aO8LzwW066bqqi63EA2FwCoTqWBT5fbPWolioXtcToz7H0J5CBtwoMUTHJGa+f7f9o3whc/ZfLstSBu2ZVBsZxjb1LfL8o9zTIP2j/Cc6xumnaqPNkaNd1hcD7vVvufd9+hq/aR7j9hPsfQu1FO7ABqSvnS0/aR8H3WzFjqn7ycwDdYXA5Hc5Thf9rpTx+0f4TLFP7P1XPm+SP8AQLjk9z9z7vv0qHiIdyVRn2PoiivnF/2lfB6oWWw1Rj5wgXFjcHcx7jCdPU9KWf8AaP8ADEJm26dqr+TKsR22FwQzN/d+TkDuRwKtVY9x+xltY+jaTIxmvm9/2mPCSLcH+ztVb7PIkR22FwdzP02/J8wHcjgVavf2jvCWnC4Ethqjm3KqxjsbhgS3ZSE5x3xR7SPcPYy7H0PRXzpfftJ+D7ATGay1Q+SqsdthcNnd0AwvJ9QOlSXH7Rvha3LBtP1RgkSykrYznG7ov3Pve3Wq5o9wdCfY+hiQOtMDk8Cvnxv2kPB0U08M1lqam3gE7/6FPjB6LnZ97/Z6+1Kf2i/CUZG+x1IZg+0cWU5wvYHCfe/2evtS513D2Uux9DUVzXhbxNaeLNDg12xjlhjuFDBZ42icA+qOAw/EV0tUZtWCiiigR//W/v4ooooAKKKKACiiigAooooAKKKKACiiigAooooAKKKKACiiigAooooAKKKKACiiigAooooAKYUBye9PooAjVAmQOM0hTJPPBqWoWkUHaSOelCADGMcc+1K0YYcjNQpc27cJIODggc8+lWN6gZJFFuwEZj74P50uwnBPNNkuYYgWlYKBzyelI13bpjcwG7gDPWndhZE2wfpTAMHHYc04SKeF6mvJPiz8XvD/AMH7HTdW8Ub/ACtU1K10uERruPn3b7Ez6DPWizHFa2PWQu4DuKFjA4zkVCLyBdod1G73A59qlaeJV3MwxRuFxfKwQSelLhs5piXMDqCjgg9Kf5sZwwYYoC4eXnnvSFD0/Go2ubdceY4BPQE0954VTeWAH1xRcACY49aVVbBx36Ukc0LjEbBvoamBB5FDC4wqMnjr15o8sdqkopCIRHyc/wCf1pfLwcjripaKAISh4pyqf4qkooGR+Wv+f/11HsYDHYVYpoJOc8VSbEMSPAAOePWm+Xzk8Gp6KV2A3YMYNRlcj5enapqKLgiDy2zketO8vIz3+tS0UXYyHy8/M3WjYcHNTUUXYiAIxyD3qTYMYp9FICHyl6DofekMZHTmp6bkgZampMLIj8vp6+9L5fGPzpDMgyGPIGetKs0UnMbBh7UagCxkLtbnFNMWeD26U7zAD83Apjzwp99gKa0GSBCDn8aPLHNMNxCvDMAfSpVIYZqbdQuNCU0xBuD0ryv4o/Fzw78KZNAi8Rb1PiHVItJtdilszzK7rux0GEOTXpwuIjtLMM8ZANFgJwhDUwxblIPB7UpmjQHzHAx609JY3GUYEeuaGIaUO4YApWjBP14pfMUAZOaY9xDGwR2HPvRZAHl7FA6+tBiyAB070SXECLukYBfUnFPSWN8bCDkcYoSQ7jBH83PTFOKZGKkIJ6HFLQ0hEPlA9aTyhgADjP8AnvU9FA+ZkHlAN8o6UghwM96sUUWQXIPKBGR1pBCD94VYopWRKSRCIlz0Hr+NIYVI569eamJxQM4560WRV2QmLj60hhV/vDg1Yop2ERGMH/P/ANemtAjHceuKnopWQXIGj4AAyKVoUY5PapqKrmYXIfLJxnpTBAobp0qzRSsFkVxDhcDipBHgjHapKKAIhEAcntSGJdu1RjvU1FJpBcr+SPu9u1L5KjsPap64D4o/EDSfhT8PNb+JevrI1hoVlNfXAiG5zHAhd9q9SdoOB3ppIDtxCAc/jTmijzxwTzXi3wB+PXgP9pH4S6P8ZfhvcNcaRrcCzQGRSki7hykiHlWU8FTyK1Ph58W9D+JkerP4eWTGjahNplwJVK/voCA23PUc9am8QTtsep+QpbdQIh/D0r57+Evxqvvih4w8Y2NpbImjeG78aZb3QY5nnjjVrjjGAsbtsBBOSDWX8Bv2rvhd+0P4r8XeEfh9cyS3Pg6/bT73zYmjDuv/AC0hLY8yIkFQ68EqR2ppIVkfS4hHNILdBwQPf3q1RTsuw0R+WMYbkVEbZNoXGcVZpMjGaAIvKUHAA5o8pT1HNSKSeadQ0h8zK5t0KhcYA9KVYUXG3jHSp6KLIXW5AIQPugCk8hPQVYopWXYH5lY2sbfeApTbxE7mHNWKKOVD5mVjCmTgcn+dO8lQMdanop2QiLyUOQVGD1pPJTBBGe1TUUuVDuyt9nXqVBNP8lQMAVNRScF2HzMg8lN27HNIYE/hUc1YoqrBzPuVhAvGAKcIEzkip6KnkXYOZ9yFYI1GAP0pRDH0C4FS0U1FC5mQCBAfl70LCAMYH0qeiiyG5vuVxAo7CgW6fxDrViimHO+5W+zx7dpUfTFKYF6ADFWKKLIOdjNi9uKfRRQSFFFFAH//1/7+KKKKACiiigAooooAKKKKACiiigAooooAKKKKACiiigAooooAKKKKACiiigAooooAKKKKACiiigBpOCAK/PL9uuL4r6/r/wAMPhx8LPE83hIeJPET2up3luivM1ilnNLJHFuBCyMyrtYg7Tziv0NIOc188fF74Saj8Q/iD4E8YW10sEXhHUpr6SNgSZRJbPAFHuC+aqKuwPgnX/hVq37G3xO0Ffhp4r1zUtK8ZW2rQahZ61eNfFbu3s2uYbqB3AMTAoVZR8pBGAMc/T3wm8d+JdZ/YY0/4g3989xrMvhVr1rp8bjP9mZ9/GBndg16B8Y/gjd/FXxp4P8AES3SwWnhya+kuImGWmW7tmtsKe2AxNfClx+y/wDt16V8Bb/9kjwX4l0Cz8OywXOm2PieUTPqNvp0qsscZtAmwzopCeZv28bsZ4rXkSK6WPO/A3gz4g/tcfFLQ/CnxB8c61Z+Fl+H2kaldWGmT/Y5brUbmWYGdriMb1AVfurjJxnjryfg/wCBfxI8e/CD4j/EHxz8TfEdxqvww1HWLHwzLZ3P2ZIIdIDGE3aKCLuV9uJWfAYHgA81+jX7O37MmsfBXxHp+u3+opeiy8K6X4dKqhUs9gZC83PQOXziuj8K/s73+gfDH4i+AmvYy3je91a6ikVDiIakjKAw7ld2T61jNiSPS/2cfGmrfEf4J+E/H+uALd61pNreTBenmSxKzEDtkmvnD/goCEPgLwc0nAHjXQeQeR/pI6V1/wAOfi98Dv2c/Ami/A/xv4z0yDU/DVhbWM4llEbExRhc7G5GcZrE+KV58OP2vtH0vwx8KvFWn30ug67puszCGQSny7ObeVwvQt0GaeF0kpMunpK5+afhr4sfCv8AaTj1n4t/FDXvHMGo3GoXVvo8eiQX0NrpkNrO0URjEMZjnkJTdI0m5TnAArvPEXxi1D4l/BbwnY/tJ+MtW8DaR51/Z3dtZxyWWua6bWXy4Jo0CNLHE8Y8x9i7iWABAr6a0f4Fftb/AAGvNe8F/s46hoV34R1m5nvtMTWHuIp9Jnu3LzooiR1ngDsXRcqwJ29OaqXf7LX7Rvw9+Jfh340/D7WbDxp4ks9E/sTVP+EhZ4A4MrTm4tJI0k8lmdyrpjlAoJ4qINohnwz8NviB8QNO+LHiz4Cfsyar4um0OHwlH4q0aXxOkrStfWd3+8trea5RJZIJ0+RgwO0ng1+h/wAQ/wBoW6+Kngj4beGfhNeta6j8Rpo52mhIMlrYWqia9focEECHkfeaj4Ofsy/tAWn7T4/ai+Ofiiz1K8uvDz6IdHsInW0s0NwJ18mR8PITyHZgMnoMVN+zl+xTcfA79oTxr8WNQ1o6jpOpOYvDWlhCq6Ra3Dm4u4weh824Ytx0UKO1Ule4kj4L8FfGH4W/tTWuv/En4t6741Rn1G+0/RrfQoL+3t9Ogsp2gjkVoI9s07GPe7OWXnaBiusn+IHxm+JXwu8Iz/GWz8VzeCNK1HULDWrzSIJ7LU7tbaVRp95PCgFwttLHkyeUM7/QV9W2nwM/a/8AgV4n8RaZ+zPqHh+98IeILqbULSx1ozwy6Td3TF5/LaJXE8LOS6p8pUnGa6O++CP7V3gKLw34y+G/i6DxJr1lBJb63aa2zwWV/wCc5kMkDRIxheNvlTIIKcHBFVNajSKX7Ftx4PXWvEq/CLx1L4l8JuYZLfStSkkl1HSrg586N3m/e+U2AUWQFlORkiv0ggbdGG9a+IvgZ8EvimPjJr37Qfxvj0qy1rVLOLS7ay0YyPHHaRMzhriZ1jM0xZjg7cKuACa+348Bdo7VNxWJKKKKQBRSMQBTd4oHYfRRRQIKKKKACiiigAooppODzQFh1FFFABRRRQAUUUUANLfMBSPnbxTiAaaS2zjk0Aflx+2JYfGLx9+038Kfgt4B8Y3fhHQdft9Xl11rEKbm5ht0i2RxOwYRtuY/PgkDOOa8D+Odn48/Yy13xH4T+GHirWL3SPEHgfXNXiTVro3kthqOmovly28rruCv5nzIxIBAIr9KPHHwU1HxX+0H4L+MUN3HBD4VtNQt3gYEvIb0IAVPTC7Oc1xPx/8A2XF+OvxA0/xDrF75Wkr4e1fQbyFR+9ZNUVF3oeQCgUnnviptPv1QHKfG74g+OPDf/BPjXviXod68XiG18HPfxXS4DC5W1DhxnjO7mvmDwT8N/iP+078dvENl8QfHOs2PhjSPD+hPa6ZpU32Rjf3dqZJbqSdBvPUYQfLnk5rF+I37L/8AwUZ+J/wAvv2RbrxL4Z0rw6+ntpf/AAkkKzy311aKAiRtaFQkTunyyNvI6kCvvX4H/APW/hR478Q+K9Rvku4dZsdItEiRSCjadb+Q7HPZzyK56aqJxu+g7a3Pyz+GvgL4y+Of2T/Ff7Sfjj4i67P4s8HXmrLpMkM4gtEg0K6ljhSa2UFZjOkOJ2Y8knbiv3X+HGuXPinwBo3iO9AWW+soLhwvTdIgY/qa+SfCP7LepeEv2ZvFnwCXUY5JPEsutOlyFOyL+1ZpZRuHU7PNwcdSK7jR/wBoX4EfB3RNP+GPjHxjpdtqejWsVpPHJOqMHiQKflJyM4zXVS/h2e4kjzr9u/UE0v8A4VdfTLvSPxrZMecHC29yx+vAr8wfBfx++Fvx68H3vxi+KvjDxvp3iPWbiaTTo9Ft7yO00uGKVhbpHEkTRz4CgyM+4PkgcV+p3xEuPh5+14/hiL4VeJ7DUD4R1621e6EL+YCkccsZj+XOCwk4z6GvDtG+C37bvwFa8+E37PN54fvvBF5PLJplzq8s8d5o6XDl2iESIy3CRFj5fzKcYB6VsoKxSlbY8If47xfFv4Y/DzWf2hvGWo+DNPvY7qO60q0jls9X1i5tpzHHMECGWK2ZF8whQCSwGQK4bwt8S/iPP8TfG/w1/Z31XxOdEsvD9v4o0ca/FKHe8tbki4treWdVklgmjXBBHyk8Gvrzxh+zf+018OviHo3xh+Cd/pXjDxCmiQ6Hqi+JHe3LLFI0n2m2miR9hZnIkjx8wC88V1/wZ/Zu/aCsP2jrj9pX48eKLLVLm90L+xxpNhC62lmBcGZfJd/mkyDh2YDJxgYrJqwtyL4n/tCXvxL8P/DXwb8KL2WC++Ik0d9LPAR5lpplkqzXjnOcEnbDz/E3tX52eF/2jvhP8erjXfiL8ZvFPjiy1Ge+urXSLfQ7e8htNOt7aVooWTy4mS4kbZudnLKScAYr9H/2af2ML74BfG3xp8SL7XDq2mao3k+HNOZMf2PYyuZ7iBGP3vMnYtx0UAdq4WL4Q/tl/AjWtX8Lfsz3Ogar4Q1u9uLy1i1qWeCfRpbpi8qp5aOJ4BISyL8pHTpzSHynzS/xT+Jvxd+FngvXvjDbeKJ/AdvLqVhrN5okE9nezy20wSzuriJFFwlvLECzbAPn6nFfb/7D934ZmuvEcPwy8dS+LfCgliNnaahK02oabKVPnQSs4DmM4DIHG4c81m618Hv2vfh9D4f8Y/CvxZb+KdasbFrTWdP1tmtrS/Z5DKJoHjVvJdCSoyCCmAeea7T9mn4N/FbTvibrvx/+OSaZYeJNftYLA6foxd7eGC3LMrSzMqedMWc5fbwuBmquKzPugDAxS00sF4p1SIKKKKACiiigAooooAKKKKACiiigAooooAKKKKACiiigAooooAKKKKAEOe1fOX7XxP8Awy38Qe3/ABIL/kf9cHr6MUMCcmvLfjd4Guvid8IvEnw6sphbTa5p1xYpKwysbTxlAxA5IGc0MD87fgult+y/o/gzx0hMPgvx1p+mxainRLHVHhRY7jA4VLjhXPQOAe9dx8LviDYfCn4S/F3x2P3v9neI9WkiTPLzMVESL6l3IAr6lsfgjomqfACz+BnjpF1C1XSYtLuWUEB/LjWPzE7ggjcp6g4Nfnd8M/2Xfil8MrLw3+zT4v1h/FNjqPim+8S6hqRjYE2Fs4ktIJ2PBlL+WG5+baTWEaXvJjseneO/E1t+xl+wm13qV4lprupRiMTzsF3apq8nzOxP9x5Cx9lNeLeFviV+zt+z58SfhbffDfxXpl6t/bx+E9WWGZGkmebMtvcNg5LC43gk/wDPSv0E+KPwGk+K/wAYPCnirxYbe78M+F0nuI9NmTf5t/IPLjlZWBQrFHuwCM5b2rf+L37Nvw1+Ivw11bwfbaRYadcX0BW3u7e0iWW3nHzRSoVUEMjgMMeldEdIhY+grGYTJvXn3rQrg/h3pmvaL4M0vSfE1wt3f29vHHcTqMCWVVAZwO24813YORmkOSFowB0pMjOKWgkKKKKACiiigAooooAKKKKACiiigAoopAQelAC0UUUAFFFFABRRRQAUUUmR3oAWik3CgEHpQFhaKKbvWgLDqKaGzTqACiiigAooooA//9D+/iiiigAooooAKKKKACiiigAooooAKKKKACiiigAooooAKKKKACiiigAooooAKKKKACjvRRQAUgYHilrD1fUv7Hs5r4xyTeShfZGu5mx2UDqaTZUVc2clTycilxuO7tXz1dfH7TYEnlfRdYC26qxIspTuLfwr8vzH1x0pL34+6VZ+bF/Y+sO0UYkOyylPDdFHHLewqPbw7myw9R9D6F3L0pScfSvm4/tCaajESaJrQ/diRv8AQJuM9F6fe9qkH7QOnNIUfRtZRlh84j7FKAAeinj73tTVWHRi+ry7H0cQDxTWU4wpxxxXzr/wv2w89YX0XWQRbG5Y/YpcAD+E8ff9F61Gn7QdjN5Sx6HrSmaA3HzWMvygdm+Xhv8AZ60e1j0YLC1Ox6pffD3wTrV42oaxothdTv8Afea2ikdj7syEn86s6X4J8K6BM0/h3TLSwZ8BzbwRxFgOxKKCa8atv2h9PuvIkbQtbi86NpMNYTAqF/vDbwT2Bq3B+0Bpk/2cjRdaQXKsy7rGb5QvduOM9s9abqxta4/qtTsfRKqMhqVhhDivmy1/aDsZmt5f7D1tPtW/aHsJhtVP4m44B7Z61ctf2g9Nu4LaYaJrSG4kZFVrCYEBerMCvC+5pe0j3D6rU7H0Qq5X60hjHbivm+D9oOxkniVdD1sieZoRmwm42kjc3y8J6MeKuD4/acI43Gi60++byQBYy9e7fd+6PWp9tDuJ4ea1sfQZIPyqOtKQFXBwa+dP+GhdNEcjJomtOUn+zjFhN8x/vD5eV9+lNP7QdgguX/sLW8W86W6n7BMfML/xJ8vKjuegpurFAsPJ7I+jtu4DPFPr5wv/AI/WOnwXcy6LrUq2six/u7CZi5b+4AuWA7kUt1+0Lptk9wr6HrciwIrFksJiCWx8q/L8zc8gdKFVi9mU8JU7H0UH9akr5xk+P2lwLctJo+tH7LEsrYsJySXxhFwvLc9ByKguv2idNs2lWTQtdIitxcsy6dORz/BkJzJ/s9aftI9xfVaj6H0nvFNVlHSvm7/horSnkMQ0PXN0dsLhh/Z8/GR90/J9/wD2etWofj1pc0kUZ0bXI2ltzcEvp84CAfwuduAx7L1odWC3YPDVF0PorNG4flXzhF+0Fpc9xbxDRdbVriJpQDp8/wAir/fOzCk9gaki+PdjJHbyf2Fri+eXJDafOCgXu+V+UHtnrTjUg+pP1ep2PovcPypA2c1852n7QGmXr2uzRNbU3bMq79PnUKFz8z5T5VPYnGaUftB6ev2PdoetBr2R41BsJ8rszlnG07V7gnr2puS7jWGn1R9G0V84v+0HpSxxMNG1tjJMYQFsJycj+Ijbwvv0quv7R2jsgb+xNd5m8hB/Z1xliOrY2fd/2ulL2ke4/q0+x9K5Gcd6Y5Br5pm/aP0SCybUDo+tsBcC2CjTrguzN/Eo2ZKDu3QetWm/aF0uKOdhomtuYp1gG3Tp/nZu6fL8yjuRwKXtEJ0JLofR6ncM0Ag9K+brv9onRrITwy6PrcjQTLDmPT52Ds39zC8gdz0FSXH7Qml2n2hf7G1mX7MQDs0+dtxPZfl+Yjvio+sQ2uSqLex9HUV83z/tE6Na/aWfR9ZcWsau2zT7gli/8KfJ8zDuBnFOvP2h9FsUuHbSdYbyIklbbYTt9/8AhGE5f1Ucin7aO5X1aZ9Ggg9KWvnW5/aA0ey8wSaTrB8qJZjiwnb73ReF5f1XrTX/AGhfD6SPG+k6xuig+0MPsE+Qv937v3z/AHetUqsXsxSoyR9GUV81/wDDRmh740bSdaHmQ+fg6fcAqPRvk4J7A81atv2hdAuTEqaXrAMkbSYawnBUL2Py8E9hQ6kVuxrDTeyPoggDJHGaaCoJ4618/wBp+0Bo0zWyNpOrr58bSZexnXYF7NleCewPWm2n7QWhXUlui6bqym4DEbrGcYC92yvHt60vax7idGS3R9BE4zjp60z7w2186w/tGeHpVhLaZrC+dI0Yzp84+7/E3y8L6E9atH9oTw8beG4TTtVP2iTyl/0GfP8AvH5OF9+lJ1YocaUnsj6C8tf4u3PNed6n8I/hlrOoyavrHhzS7y6lbc0s1nA7k+pZkJJ98151D+0Posudmk6wcS+Tj7BPyR/H93lP9rpRH+0X4dIlZdO1ZvKnEBBsJwSx7r8vKjuelP28O4nQn1PXdF8DeEvDO9vC+lWemNKB5n2WCOHdj+9sUZ/Gut2ngEcDvXz2/wC0JoUcUznS9WYwzLDhbGf5i3935eV9T0pt3+0N4ftYbqV9M1dxaukZK2E7bmb+7hTux3I6U3Wj3D2Ej6ICqDkU3YuAD61873H7RGhQPdD+ydZYWe3cVsJzuLYOE+X5iO+OlE/7RvhqA3LHTdWItkDsBYTndnsvyct6gZo9pHuHsJdj6I2DBx3qJlMeCnTvXz8/7RPh1J54W0rWAIYlmJ+wT4w3RQdnLeoHSk/4aJ8Nl3R9O1b93B55xYznj+79z73+z1pqa7h7OSPobaAu7rShdwGOK+eZP2hvDqeWv9n6qN0PnEmwnwB2U/Lw3t1qb/hoDQfNgibTtVRrmIyjNjPhVH975OCfQ80c6G6U+x9BEjr6UoIPSvn2P4/aA5t0XTtVLXaM6k2M4ChOu/5cLnsDyahtP2iPDl7JBCmmauhuA2N9hOu3b3bKcZ7Z60vaIXsX2Pomivm+1/aM8P3j26x6Zq2bhmCA2E6gBepYleB7nrV1f2gvDzrAU07Vv38rRKfsM+AV6sx2HC+hNPnQewkfQdFfOY/aG8PvGkqabq+XmaEA2E+cqcZxs+76HpioE/aO8OMiynTdXAadoB/xL7jkr1P3eF/2jx70vaR7kulI+k6K+dH/AGhfD8UQlTT9WkBnEHFhOSWboR8v3R3bpUj/ALQXh9fOdtN1ZfJlWHBsJ8szcZX5eQO5HFJ1ordgqUj6Hor50uv2hvDttJcBtP1VjbSLGdthOwJb0IX5sdyOBVif9oDQIGnV9O1VvIZVbbYTnJfpt+XnHfHSpWIh3H7GR9B0V843H7RXh60a6WXTtW/0VVc/8S+4Od38K4X5m9h0/lJP+0NoEAnLadq22CNZCf7PuP4hwo+Xk+wyRV+0iDpSPoqivng/tDeHIppY5LDVSIYBMzCwnxz0X7n3uenWmH9oPw/CrO+n6qVWATkiwn4z/D9373sBml7WPcXs2fRVFfNiftG+GmBJsNVUCEzndYXHyqO33PvHsOtJY/tKeE9RVJILHVlEkJl+bT7hdoHZgU4J7A81Pt4dx+ykfSlFfOkP7RHh2VYJDYaqFnjMgzYTjao/vfLwT6Gmx/tE+GnW3kFjqpF0rOo+wT5VV7t8vy+2cZrRTVr3H7CR9FBMHNPr5vX9o3wwY7Y/2fqw+1MwXNhPnju3y/KD2zjNT237RHhq5jhlSy1MefI0ShrGcHK8lj8vC46E9an2se4LDyPomivnYftFeFykUjWWpossvlKTYz5J9fucL7nimD9ovws2CllqjhrgW4AsbjJb1A2fdHdunvT9pHqwdCR9E7TkUMQwIr56k/aJ8KRiZmtNT2xS+ST9in5fOPl+TkepHHvTbj9onwnbC6JtNTLWrrGwWxnbLPgDbhPmxnkjgd6n28O5PspH0NsyCCeDUWxF5Ar55l/aS8HxRXZNrqhNkUVyLC4+Yv0C4T5j64zU15+0R4SsFlaa11MrFt3bbKckl+gGEOT646d6v2iGqTPoV4942scincY2ivne9/aK8K6ety9xZ6ni0iWV9tjOc7uij5OW9hzUL/tKeDI3Mb22pgpCJ2zYz/KpGQp+T73+z1pe1j3BUpM+kKK+cz+0j4NwGe21JMweeQbGfKr7/JwT6dajtv2lfBF3LDCINSQywmf5rKdQqD+98nGe2efap9tDuN0Jdj6Qor5sX9pTwSxgjMGphpo2lBNhcYCr3Y7OPbPJqZP2kvBZFu6waiRcKzr/AKDccBepb5Pl/Gj20O4vYy7H0bRXzvbftGeDbprdIrfUv9J3FT9hnwAp5JO3gfXFVY/2mPBUkcEotdTxO7Iv+gzj7h5Y/JwvHU01Vi+oewl2PpKkJwM181xftN+CLhYpobTVSs0hiTFhcc7ercx8L7nip4/2kvBkxhRLbUv38hjTNjPzjvyn3fc4FV7SPcSpS7H0aGB4pMjO2vnH/hpDwaqCRLbUpAZjAALGflh6fJ09+nvUh/aS8FqrubbUvkm8gf6DP8zf7Pycgdz0pe0j3K9jLsfRe4ZxS185SftIeDY45ZEg1GTyZhCdtjcHcx/ujZyB3I4ouf2jvCNuk8rW+pMLdgrbbGc8t0AATJPrik60Vuw+ry6I+jaK+a5v2l/BEIuWaDUj9l27gtjcHlugHycn2HSpB+0h4Q33Ae21JfsyLI+bGcAB+g+7y3sP0oVaD2YnRkuh9H7hjNNCDJJr5+vP2iPCNo/lS22o7hALhgLKc4UjgcJ19uvtVNP2k/CBAElpqcZ8g3DbrGcAL2B+Xgn06+1P2ke4KlLoj6Qor5zT9o3wgTCrW+ogzRNKoNlOMKv975eCew61NB+0J4WupreIWupAXMZkBNnMAFHUsSvH0NJ1I9x+xkfQ1FfONt+0b4Qu5LWC3g1DddhzGDZT/dTqT8vyg9s4zTof2i/CszWqLbaiRdMyqfsU4+51JO35R7mk68F1H9Xk9j6Mor5wg/aR8H3HlgW2oqZZjEu6ynHK9z8vC+/Sp4P2h/Ctx5bR2mokTSmIf6HMOV6nO37vvij28O4vYT7H0ORyDTSgJzXz0v7RPhFljk+zajiWf7Oo+xzZLeuNv3ffpUEn7SXhKOJpo7PUpEE3kAiymJZ/b5eQO5oVaL6idGS3R9H0V85p+0d4OkLlLfUSqzCDizmwX9vl6D16U2X9o7wnAbpTZ6mwtXWNmWymILN2UBecd8cCn7WPcaw8+iPo6ivnC6/aP8H2q3LyW2on7KVV9tnMTl+gHy859qZL+0n4SheWMWWqO1ugeTbZTN97oowvLc9KftI9weHn2PpKivm8ftJeEw0nmWWpKYohK4NjOMZ6D7v3vapR+0Z4UNw0C2eplkt/tD/6HNhVPQfd+9/s9aHVit2NYeb2R9F0VyHg3xZa+MtBg8QWMcsMVwMqs8bROPqjAEfjXXDOOetVGSaujKUWnZi0UUUyT//R/v4ooooAKKKKACiiigAooooAKKKKACiiigAooooAKKKKACiiigAooooAKKKKACiiigAooooAKYVzmn0UAV3iJOck5/SmGJyno31zVuq73MMeBIwXPrVXBRGCFmk3kmlaLAyMkjioW1GywR5g4968+8VeO28OeKdB0BLG8ul1qWSL7RbxF4Lfy0L7p3HCK33VJ6txRzDce56QkOACeSPem+S4OF6fWmC+t94Tf8x7VcVtw96VybEQi68+1J5RIwegp7yKgLscKOtVF1Gyk5ikDY44NFwaLAgxxk4znGTSNCf4TgdqPtMPl793FQyXkAO0sM9aLjUehYERD5PIHPXvTRBtOQT+ZqE31uv3pBzyKteZkZUZo5huAwwsTncRSeT1AyN3XmvL/ih8VNC+GX9h/wBueb/xPtSh0u38tS376cMV3Y6DCnJr0uO8gK7WbBXg80/MSRKIm6ZI/WjyOMqcE9e9RSajZxSLHJIFZ87QT1pXvraH5ZHA9yaLgTpFjljk0oQJyufzqI3cAGdw4964jx343i8J+Er7xVaWtzqosYjL9msUM1xLtx8saLyzHPAFK4HeJGIx8neozEDwgx2rM0rV473TYr24DQ+YivtkG1gGAOGHYjPIq+17CBuzwKB7kiQBcgnvS+QmfYdKhW+gJC7gSemKuD1JpA7kRiBBzQYRnd6V55L4/K/EZvh8unXvy2S3pvjC32TBcp5Qm+6ZRjJTrtOa7dNStC+wygsvBFHS4WLixDoehpTGpBB5p4YYHv3rx34hfGTw18OvGXhbwTrRk+2eMLuWysQill82GJp23Hoo2KaJSGrnr3ljfuA7etP2ADgdeTzVZb2A4DMN2Omac15ax/fkAx70JiuyXyh1PemeTgnb3ryj41/Gbwl8Dfh3ffEjxa0jWtm0UQjgXzJZZbiRYoo41HJZ3cACu+8O6lNrWkwahLE8JlRXMco2um4Zww7Ed6fNrYTNkQYXapp8cZQc9amopMCFoyR8vBpwjG3aenSpKKAIDCvG3tSGIhdq1YqIll5NA7sNmB0z+NIY8cg9P1prXMMfMjAfjULX1qy5DjnpzTDUmKArzn29qPK4OeSa8t1H4jjS/iPp3gBtPvZTqVpNdi7jiZrSLySoKSygYV33ZUHqAfSvSoLu38vlxzz1oCz3JUtyBz/OpdhA5Gacjq/3TmmvPHHncQMdc0XCzIxCFXv9M1KsagDHpWNqOs21lZT3hcFIUZ2wc4Cgk4x3rjPhh8TtA+KngTTPiH4akZtP1WEXEJcbW2n1HanYNT03y1JpixYxn/Ir5r+LX7SPhv4Syavc+KLK/XT9E0pdWnvIoGeBkaXy/KVxwZc8leuOa94tdcsr3SoNUhkAWaNZFDcHDgEfjipv0GtTb2gqe9Cx4xgcV5N4N+Lfh3xx438SeB9F3m68LXEFteblwu+eFZl2nuNrDNetFsKS3AFO/QHpsK69Wxzml8odaiF3bk43jj3pftESj5mx9aLkpknlqE2gcUxk6BeKiN/ag7Q4zjOMjNedeFPiCviXxZrvhxrG7tP7CnSFpriMpFOZIxJugY8OoBwSOjZFC8wZ6YY1Ucdc0Fc8Dr1qq93EYzKkgKnOPrXm3wr+K3h34peF08WaKXS3e4ntlEo2tut5Gifj03KaEytT1IRENknNNaIlyQePSvOtW+KHhfR/iHpXwz1C52aprMFxc2sWD88dqUEhz7eYv516ZuCgUXJIxEtKIhx7VLntRSHdkHk8jsPbigQrnJ5/Gp6KGkJEKx4Hp+tCQqpyTmpqBnvTC/UiEYHakEfOT+VTUUXHcrSwFyCvHakNsCd1WqKLiK6QBCemD2xSiBec85qeii4IgWEBiRSiFAB7VNRSHdkHlHkA8UohBX5+TjGamoouIiMQJyaBGu7cRzinndnApksqRLvkbAFHKA4oppgQKwA6CoBe25+64PfGfWuS8eeLX8I+ENQ8U2lncam9jA8wtLNfMnmKDPlxr/E7dAPWmgudpsC8AdaZ5GBgH/61Yvh3WDqeh2uq3aPbNcxLJ5Uw2um4A7WHZhnBHrW8kkbnKNmiw7jRDhQoPemG3AX5fXJ96tVVe4iU/fHHXmpsgux3l7Aep5zQ0IJIHHvXlVl8V9B1D4qah8K7dnN/p1lBqEpK4TyrhmRMHucoc1c+JvxCPgHw0PENrp17rBM8EH2fT4jNKBNII9+0c7E3bnPZQTVaIabPSwm0AdfWl8pSMGvF/ht8YtA+JV1r1lovmo/h/UG024Ei7SZkVWO31GGHNWPiF8Y/C/gDxR4W8Iaq0jXXi28exszGu5fNjiaY7yPujah5oatowaaPYBEACuTg+9J5K8+/vSRM3lgyGjzY8ld2eKLiTE2Kz9O2OtPKDHTpURljTkN060fa7cnAcZ+tKwXY5Y1LZwak8tR+HvXmHibx/N4b8VaJ4ei028vk1m4eFri2jMkVrsjL77hv4EbG0Huxr0X7bbsdisD65NDYJ9idUz1FLsUc45FeUxfFLRW+KTfChmcailgNSPy/u/JaQxD5v724dKtfFL4qeE/hF4H1L4j+NbkW+k6TAbi5mALlY1wCcAZPJ7US03Lsz00L1Yd+aXZ27ZrN0bVbTWtNt9VsG3Q3UayxnplXXcDj6GtXPNFyGRiJRxR5Qzn+tS0UBcYVzTTHuznvUtFO4iPYBTfJUdPrU1FFwIPIjzk0/wAtc+w4qSikO5G0eTxTRCnUjn+VTUUCIhEvUjmlMant0qSihjuyIRjaBj8+ab5K5z/nmp6KBXIhDGOcdTmpaKKAuFFFFAH/0v7+KKKKACiiigAooooAKKKKACiiigAooooAKKKKACiiigAooooAKKKKACiiigAopoYE4p1AWCiiigAopBQxwM0Aha/PH9t23+IPiXx78J/hh4K8TXfhi08R6/PFq0tkFE09lDZyytAjsDsLOF+YDIGcV+h1fPvxX+EV78QfiR4G8b21ykKeEL64vJI2UlpRNbtCFU9sFsn6VcNxo/M3w9+zz4l179r3xT+zbd/EHxKPh/o+hWGt29il4wvBd30k0Tq19jzTCoiDKnXJOTivPrP4w/GDw9rnw8+HcniO8vF0fxP4x0Ga7kIMt5b6XZTG0a5OMO6FVJOOWGe9frNpHwcv9O/aH1j41i4Qxapo1npfkBcOGtZZZNxbpgiTAr5Ovf2FPFNx410zxQ2tQLHY+I/EmuNGEYsya5bvCkYPrEXy3Y4rCTa2KktT5d+Bv7PXxR+Jf7Elh+0T8Tfij4ku/H1zoT6vbXtpcfZ7S3eFGlhj+yKNkq8BZN+S/tX6xfsr/EHWfiv+zn4M+JXiRVXUNb0i0u7kKML5ssas+B2yTXFfCn9n6++Gv7KWm/s83V+tzc2Ghto7XiqQjM0Rj3hTzjnOK4/4W/E34Ffsj/C7w1+zv8SPGmmW+reGdLt7SUSyCNmEaBd+1uQDjIzWVGU9FLt+JFjov23G+LKfBOU/CRLyWUXtv/aiabg6gdM3f6V9iBBzPt5XgnGcAnFfl/deK/A/grwf4t8dfss/ELVrK6sPC2q3Op+HfEk1xLeCWK3Z4Lu2W6AkjljkGHHKEHoCK/Q34kfELSf2m9Ih0n9lT4g6fD4q8N3cWpogYzW86LuRoLpU+YRSbvvLyrAHHFeR6r+zV+0N+0/4nsrv9qjTtB0TR9Jtr22ih0aZ7q7uje2720m+d0Ty4Qjk7OSzAZxiul6lOJ6V8TviV4x0L/gnDqfxasL111+28FHUUu1wH+0fZA5kA6Z3c/WvmfwN8O/H/wC078a9Z0zx9471uy8N6X4X0GWHS9Km+yP9vu7ZpJrp51BY9sJwM8kHpWV4/wD2Tf8Agod8RP2fNW/Y2k8T+G9H8Ly6WdHg8TxLPNqM1pt2IjWexY43KAK7eYR1K5r9A/gr+z9qPwo8Val4kubxLv8AtDTNKsMKpBzp0Hks5z2bqKy966CJ+Q/wp8KfGHx3+xv4r/ap8afEbXbnxp4MvdXj0h45hBZRwaHdywxJNbKCsxnji/fs/JLHbtr99vh3rV14k8C6P4hvQBNfWcM746bpEDHH4mvjjwj+yPqvhX9lXxZ+zodSiNz4jl1qVLtEISP+1Z5ZhlevyeZg+uK9A0z9pr9mv4Q2Vp8KPFfjXS7XVNEt4rSeGWZUdWiQKcqeRWlNfu05blStY8V/4KTaH4y8U+AvAnhfwDq50HVdQ8ZaXDFqCoJHt1bzPMaNW+Uvs3Bc8A8+1eZ/EH4T6p+x94y8CfEjwX4w8Qapaanqi6PrtjrF4byK9jnt5pFmVWUeVMkkQI8vClSQRX0x4yuPhr+1w3hu4+FXiqxv18I69a6tc/Z3EuRCrgR8H5WbdwTXoPxw+Cl38Xz4VH2lYIvD+tQatKjgkTRwxyxmIYHVvM6n0NbqKdk+g5aJWPwj8MftH/BD48+GG+Nnxd8T+PoPFmqSzTaZ/YVrfrYaRHvZbeOKGKIxT4VV8xpNwc5xgHNezD4q+Pfjt4Q8CfEL9pSw8Vad8PLzSZYrqTQ4rqym/taG5ePz79IR9phhkiVHi6Lknd0FfW/h74B/tsfAqGf4N/s/an4fn8C3U87adeaq9wl9osM7F/JWFFZLlY2YiL514wDjFd74o+EP7Y/wt1Ky8ZfBXxDaeM5P7LgsNT0zxDM1qs88GcXlvLEjrG7hiJEYYIAwR3zexkfId5deOm+CEifCXxpqvxA+Gqa+jXb6RI03iSz0hoT51qz7RI7RT4JKr5vldsjNcbqHibwp4F+FPxF179lv4jan/Zll4XuZbrQdZuZ5tTsL1MGC5tmuR5yKQzLIr5GQMdxX0zp37J37WWn61c/tE6Brmj6J8Rr+6jurrQ7USjQbmBIPK+z3EiqJHmP3hcCPg4GCBmqnib9kv9pj9qC21TxP+0RB4d8Mat/Yt7oumwaVJLdsftuwPJdXJSItGoUbIgGwecg0m9Ckjh/jh4n+FWpeMLC0+P3xG1iOyg0Wzls/DPhyWZLpnaJS9zeNao0zMzH92oIXHJB7fJ+mfFr9obx74bg+Cnwx8YeIfDlvF8TLLRrHVddtRHqw0W6sDcyRukqrvYZIikdQSMEg4r9DLD9nr9rP4G+Pda1T9niLwzqtn4wliuL691mSe3u7KWG3SDavlRyGeEbAUTK7cke9YngP9gP4v6d8Qm+I/wASPGtv4g1K48Y2niy4kFs0Kr5NgbRrWBQThA3KFiTjrzUSvbQdtDQ1r4X63+yV8a/hnc+BfFWvazp3jDVJNE1qy1m8N5HKfs0k0d1GWUGKVXjwQnyMG6DFfq8FAUKe1fMfxx+F134113wb4wmv4dOtPBmrHWLozZ/eQpbyxlVI4Ujfkk8YBrM/4bk/ZJeRkT4g6LuXgg3KdfzpQbuQz89f27fi/wDF/wAF/GD4k6H8O/EE+ltZfDS2v7BeGhgv5dSeAXOzH3goAPPI44rX+J/7M/iz9n74NxftL+HPiD4j1Lx5pIsr7ULm9vC9hqCSSxrPbvY48qKIq5CeWAy4BLNzXrXxW/Zrh/ax8WeIfjH8NfFFhPpHirwlB4ct5UUzIslvfNctLuXhlIO3A5BFfXXxw+EmqfFX4F6l8JbC6SzuL23hgW4dSUBjkRySBzg7MD61kqktYmkXse9aLP8Aa9Jt7pxjzY0f8wDX5m/t++KY/A3xg+CnjG53NBpGr6zfSKv8S2+kXMhH6cV9Oz/tc/szeB3HhLxR440i1v7DFvNFJcIrK6AAggnIOe1eT+PPD/w4/bM8beB/G/wz8Tadq+leBtRvZNTghPnecl5ZSW3lBl4VsSZ56itZQ0JfY/IXwd+0p8H/AIoeAIvjb428fePbb4i6hE+oWc1jY30emWDyDfFapaCHypoVwFYvlnGSCMivqnxX8bfCXxi8L+BvFf7SfjXUvCOnav4fjvP+EW0jz7TVLm85E01wsaG4WEADy0Xbkk7j2r3zwz8EP2+fhFoA/Z/+FWt6BdeDoY5LfTPEGoPONT020JIjha1VGjuJIUO1H8xQcDdjvpan+zh+098Ifi/qPxe+BNxo3iu88SWGnafqLeJJpLe5hawjMXmwywxSApJne8YC/PkjOaqMbKxKPyU+NXiF/ix8J/iL8FF1Txa3hHQde8HapotxrZmstQWPUNRjjkiDuiyTQKUzG7DIJ6nbmv6h/COlponh+00u3kklSCJI1aZi7kKoALMep45Nfkr4g/4J+/tD+O9S8aeJvif41sNZ1bxnL4cm2R27w2th/Yl59qeCHq7xuowrN8xYkkAYr9ftKhMUWxz8yjFc9Jyc22BrGlpobLYp1dIBRRRQAU1+maUn2qNjj5TzQB+Xf7XGnfEj4jftb/Cf4I+HfFl94a8Nazp+t3euRacQk92lsLdYo1mIJiw0mSw5xkDrx4V4A/Zo8c/EP48/En4B+N/iR4kl8D+B1sX0C3trswXqS6hD57G5vFG+cQsMRKcDGd2a/Rjxv8E9W8TftI+DPjlDdJHa+GNP1OyltiDvlN+YSrKRwAvlHIPrV/wT8ItV8I/Gjxv8UbmdJofFYsPLiUHdF9jh8o7j0O48jFZ02/eLWx+U2h/Gz41ReFfDI1HxBNPfaf4L8YpcTjCm6udJlSC2uHTGPMAXce2SeK6yw/Zq+LEH7IsH7T3in4qeIbr4laf4eXXTeQziLTDJBbic25sQuxoX27WJ+c5yGFfQCfsMeK4oLe3GqwExaN4l0xmKtndrs6zRsPaPGG7+lfWF38G9Uuf2YJ/gV9pj+1T+Hn0U3JB8sO1uYN+Ou3Jzj0rW/umkrKKselfCXxBceL/h5ovi26ASXU7C3unVegaWMMce2TxXzX+2J4s8d2+meF/hL8N799H1Tx5rKaV/aSBTJaWyxPcXMsYYEeYY4yqZ6Mc1f8KftD/s8fAnw9pvwh8c+NtLtdV0Gzt7KeOadUffDGqklScjOM89q4/4uQ+AP2x/C1t/wz/4wsH8U+EdQh1fSr2F/tEdvcoGXbMiHJilRmjcDnByORSMm9TltL/ZJ8TfAXWbbX/hR4w1e/0ieO5XXtN1+8e+W5SSNj58DsN0Uyvj5R8hUngYFfI37Mf7GfjTxT+yFo3xI8S/EzxDB4pTTZbrSpNOuBb2GnqoZoI/sgUrOoAHmeYSW56cV9s6H8Pv2zviD4ssr342alpGgaLpEcuLXQZpZ31G4eMxoZ2ljj8uBd27YAWLYyQBz9AfCT4Rah8MfgBpnwhubhLm5sNONkZlBVGYqV3Y645rZPSwmz8O/jT8cfiP8UPhX4im8T6g32bUvhBp2qzW8eVh+2yX7JJMqdiwGOvSvr/4e/DXW/21PGfijXPH3iXWdI8LeDL6LQ9G0zR7s2O+a1gjee7nkQb3YyPtRCdoC5IOata//wAE5fGWq+Db7w1DrlsJbjwHa+EFco2BNBdtcGYjP3CGwB1zXp7fs/8A7S/wP8ea94w/Ztk0jVNN8XtbXOpaXrEststtqEcKQSXVvLGkm5JVRS8ZAORkE5rjgm53B+RzP/BPvwz4+8GfGz47+E/H2rHXriy8R2cdpeuqrLJaf2fAYRNt4Mirwx4yeeK/TfxLYT6n4cvdNsZmtpriB4klT7yO6kK491JyK/Ob9n/4dj9jLW/HvxL/AGlPG9lLqHxJ1tNVaV3MMMMiW0cLQQh8Hy02fL3xyea+pdP/AGtP2a/EF9BoWj+NNLnurp1jijS4Us7twABnkk111IpO6BH5dfHH45ftEeL/ANlbwd8NPhLrD6X8ULrVLi1vrpUDuqeHGeW+3KRj/SBEsfT/AJacV6D+0Z+2ZrWh+EtI+Kng28aPTvD/AINn8U6giKZFkmu9trYxSAAtgTF3KgZO2vp74ffsf3vhD9r/AMX/ALR1zqq3ej67ZxxabpJTC2VxKAb6cHpm4KR5Ht71xvwX/YGTwDonxQ8JeP8AVhrem+OrqWPT0VdrabpWCbe1UnOTFIzuCOMkelZJhY/OKX4t+ANF8IJ8W/h/4n+IWr/E+zjS8eWew1BrC/mwGe0azMPkxwycohUBkyCWOK9Ou/jn8bPHHxt8T/BrRPEF3oJ8beMdM0tLjGZdLshocd9dRwK4IjlkYFVyDgsTjjFfcGk/Db9vCTQbL4V634h0O20mzeKKfxBaGU6lPaRMMKtuyBI5pFAVmLkDJIFfPn7TH7MFx4D0jx/8YdTuL4jWfE+l69ZalpS+ZfaMbK0jtDdmIjEyqEPmxj70bH0rKspacomZPxy+EXjH9lT4ifB5vg/4810aN4k8a22na1p+r3hvRdxSW1xJlHkXehLoCyg7SPTFc1+zJ+xPrPxk+FuqeNfiJ8RPEMFyuvazLoMOjXRsrbTUW8m8rdGoP2hwTlvMJU9Md68Z0tPGf7Vv7QPwisbv4jw/Eu68Ha+niGWXR7F7HTtPs4raaLfeFmffcytIqxpkY+Ygd6/br4BfCO9+D/w3/wCEK1C6W5kF5eXQkRcAC6neYKQeu3dj8Pyb5urNI2PyY+FXhLUvjf8AtO/s/fGb4l6pqUviOz8O67DcG2unhtJ5bKaCHzXtx8pMnLMD1OPSv3ojRlHJ3etfnh4C/ZM+IHw/8Z/DfxJo2q2skXhFdWttRikV/wB9b6nIsoMLDo6Mig7uCM1+iaAjrWtzMdjkGlpitmn0rgFFFFABRRRQAUUUUAFFFFABRRRQAUUUUAFFFFACEZr59/ar1fxDoH7OHjnXfCV2bDVbPRL2WzulAYwzLCxRwDkHa2Dg+lfQVeW/GzwJd/FD4TeIfh1Y3C2kut2E9kszDcEMyFNxHfGaqD1Gj8WvG/7PPxk+HHw7+GHjnwn8V/EJ8V+NtR03SvEV/dzLNbz29/Huma2tCojt5FIxEy/d7g1a+NWk+Lf2SdX8d/CT4c+LNdv9P1jwBqWvQvqt413cWmoWcix+bBOwDKJBJkp0Ujj0H6b+O/gHe+MvBPgbwjDeLE3hHUdPvi7KT5osVKkADoW7ZrzX9pf9kLWfjv421HxPp+rR6et94R1Dw1tdGYq99IjrNxwQm3kdTmsaravymrSPlLwD8IviT+0/8b9Z0bx/491qz8F6HoWgvFpOlzmzmuLya28yWaW6TMmw5GUUjJ5Jr64/Y9t/FXgHx14/+AWrazea9pPhG7tTpN1qL+bdrbXcAlMMs2B5vlvkK55IwDnGa9G+C/wG1X4VeLNZ8TXl+l0mpWGm2aoiFSpsIfKZsns/UelY6t4D/Z4+J3i/4w/E7xNZ6bp3i17NIFuXEQje1h8sjcxwxbrx0qqV+V3MWfVXiXWofD3h+912fmOygknYDriNSx/lX5PfC79nbxb+1N8ObT9pjxN4/wDEWi+JfEkRv9Ij028EWn6bC5LW8f2bYVmwuDJ5mSxJHFfbsX7WX7Lvit08O2PjLSbuXUT9mSFbhCZDJ8oUDPJbpXyp4e+C/wC2v8FdBvfg78Er/wAP3nhKSaRtI1LU5J0vNLt5nLGEwJGy3Hk7sREOuRgNim90Ox4tL+z38VvjN+19J4Q+KHji70qDTPBumrrieH82kmp3H2iYIwucF4osAkomGycZx15z4gX/AMRP2b7bxr8FPD3ivU9Q0rS9T8MXelXN9P5t7bxanfCK4tmnK7pY/lO3dlsNgk4r9HfhL8AvEXw++I0vxA1vW5NZe50Kz0qR7hcTSTWryO0zkfKN5fhR0xXlnxy/Y88RfFrxb4g8T6bq0FsNabQmEciMfLOj3X2hs46+YDgY6GsoczbuXDzPhvTdb8aeLPixq37N3gzVLnw8njjx1q76rqlm6rdR2On2sEjx27MDteZnRC4BKjJAzXpXxI/Z98RfAn9rn4GQ+EPEuo6p4QvtYv8A7TYazcNezRXgsJPKlgmfDhSA29WJGcEY6V7P4o/Yn8c2+pXnxI8AataQeNbDxLc+INEnuEk+zKl3CsM1pcBcsVlRcFlBwcHHFYur/s/ftS/Ef47+Av2kf2gNf0fw7pnw6mvJxoemSS3EMy3Fs0LzzXEiR4ZScoNuAucnJ46Z73Lq2P1LI3W3HPHI71+e3jP406x8Cvix8R18XXklzpTeHF8RaXFJ0ja2VobiGP1y/ltjr81e0T/tvfsl2Q8i78e6PG2dpH2lOv515D+0v8BNG/bL03wL4z+GfiOGHTtM1OO4vbiEeat/pe4NNaKy8fvHRDnpwaLmNj48+EHx4/aB8IfsleJPh78WtXN38TPttvaWNwFCsF8QMstmQp726yMp/wCudeV6Z8afhj8avGnihPjZ4p8beR4c1CbQNMttAt76CCFrFVgmuZZ7aIiaaSZGcbjsUEDaea/Sj4jfsgXXjj9qzwl+0Da6qLbSNCtCl/pIQn7XcwhvsU27oPIDyDB65HpXIXnwU/at+CPxE8S+If2YZ9F1Xw54tvDfz6Trk01qdPvZVAmmt5Io5A8crDzGjIBDE4JzU31E2fA93+1h8VvDll4EvtQ1DVr6z8Na14gt1uLu2ls5tasrHSpLm3aaJ0XewOFYgYLqSPSvo/wT+zv408c/s2r+0Ze/EPXk+IGuaU2uQ3cd0y6baTSwmWOBLLiI28YIUhgWOM7ga9t1D9kr4o+LLv4feLvin4lj8Q6v4TvdTv8AVEaIpDc/2hbSQfZrcY+SKPfhS+SQOeTX5jt8TbTwR8Jtd/Z9f4m6loFrCt1p8XgefSzJ4iQNmNLG0ug+JIWJ2xSiInYRzxmsINuTTHFbnffA/wAD/Fb9qT4i/C2Lxt41vtOiuvhvbXviCXS3ENzqdwbnIRLgDMUW4MWKYZhgAisr9tP4Zax8P/hj8cP2arjxLq+r+FJvCNt4g01by8kkvLKdrh4poVueHeBtqsqsSQcjOK/Q/wDYt/ZV8R/B7TPAniTXpPs0uj+CbLw/LYvlpYpYn807n6HGdpx3FdR+0r+xzf8Ax61zxjeDVVsYvFHhQeHYztLNFKszTLK3bbkgEDmumulJyflobzte59M/ALwpB4O+EHhnw9ZTTTw2mm2yI9zIZpWAjXl5G5Y+5r2mvOfhbpHijw94D0jQPGEkEuo2VrFBcPa7vJZ40CkpuAbBxnkV6KBzk1nHZGDFooopiCiiigAooooAKKKKACiiigAooooAKKKa2e1ADqKKKACiiigD/9P+/iiiigAooqOQ/KaAQ8n86arZrx7xJ8UZNC186Kuh6leARNIZ7eBniAUZxvHBY9APWuctPjU86Wkr+G9ahW7R5PntXHlBez+hPYd6z9tC9jdYabV0j6FYgA5pm/aPavn63+OL3TWyjwzrSC5L5L2jjy1T+J8/dB7Z6022+NnnrblvDetI1w7qN1o42Kn8T/3Qe2etX7SAnQn2/r7z6D8z1/z+lPBGK+eYvjXI3kgeGtZPmzNGCbRwFUfxt6Kex71Wi+OTTQxyjwvrgEs7QgGzcEBf+WhHZfQnrSdSA1hpvofSGVoyK+bP+F4MwiNv4b1yRpZjEALN/wCEj5znGE56mpP+F6IxaVfDOujFx5AH2OT5vVx/sD+90o9pEr6pPt+R9H5WjK186f8AC9ImieaHw9rZxMIQv2KTLE/xDj7o7t0ptx8do7dJmHhvXHWKYQrtspDvJ7rx90evSjnj3I9hPt+R9GbxSgg9K+b7j47wRvdIfDeuMLYovFlIQ7N2U459yOKW5+Oa2i3Hm+Gdc/0aNHJSzkYOX6KmPvEd8dKXtYdyvqs+35f5n0fkUAg18/S/G5LaO4Z/D+skWsQkbFnISxPREwPmb1A6U2T44RQylJfD2tf8ewuGYWchUE9I8jOX/wBnrQ6ke5CoT7fl/mfQeRRgZz3r5vPx/sI3VLjw9ran7N9pJ+wy/KP7hwPv/wCz1pkfx/tSsMx8Pa5tlhabmylygHYjH3j2HWhVY9y/q0+35f5n0nkUhAIya+cbf4/6ZL9lH9g62n2qNpcvYyjYFzw/Hyk44B5pkX7QNjMLYnw9rY+0ZIzZSjao7tx8v0NJ1Y9xKhPt+X+Z9IbVHWn18zw/tA2Mwti2ga4v2l3UZsZgVCfxPxwD2z1q3H8etPnjtXTQtaJupGTmxlUoF/icEDAPYnrT9rHv+YnRn1X5f5n0ZlaMrXzV/wANDabMIyPD2uYkmMS5sZh06seOF9zxSn9oPTZohNa6Brb/AL7yVH2GYZ9W5UfKPXpTdWA1h59vy/zPpTK0uR0r5sm/aG0u281JNA1wlJREu2wmO5m7jA5Ud26VZvPj3pNtFPONF1mQwusZVLGYli393jkep6Uvax7g8PNdP6+8+iKYq4bcTmvm24/aE0qCSfzfD+uZtwu7bYTNuLdlwvzY74qzN+0BpkE01suh62/korHbYTEHd0AOME+uOlN1Yrdk+wn2/I+jqYRnj1r52H7QOlebPE+h60Ps8QlYixmIyf4Qcct7DNVW/aI0iFZXfQNcPlQ+acWE5OOgUfLy3sOaxeKp9/6+4aw83svy/wAz6PdRINj9q47VPhz4B16/bU9e0TT765bgy3FtDK+B0BZkJ/WvKx8e9ODAvoWtgC3+0HNjLwCPucKfn/2etMi+P+jSop/sHXFZ4fP2mxm4HYH5fvH061axUHpcFh59vy/zPYNI8FeD/Ddw914f0qzsppBtZ7eCOJiPQlFBI9q6tMAV83/8L8sVaB7jQdaXzomlbFlKQir2bj7x9OtPtP2gtLvDCo0DW082NpMNYzLtUf3jt4J7A8mq9rHuafVKnb8v8z6OUmnZB4FfOcPx80yZ7Nf7E1pDdqzgmylwqp13/L8pPYHk1Xsv2h9HvJLaNdD1xGuXbG7T5wAF7sSo2g9s9aXtY9WL6rPt+R9IOqscDg1wl/8AC74aarfSapqvh/TLq5mOXlltIHdj6szIST9TXl9v+0Dpl3HDcW+ga3ieVo13WMynC9WbI4X0z1qtB+0Fpk6w/wDFP68jTStEA2nzjoeWPHyr3BPBqlUiDws+x7fongvwn4a3jw1pdppwlwX+ywxw7sdM7FXP411GBjbXztF8e9MmjDwaFrh3T+QubGYEn+9yOF/2iMVHP8f9Mtt7NoOuPtnFuNthMdxP8Q+X7o7t096h1Y73J+rz6r+vvPozCk5PNLuUcV81XP7QekW4usaDrrm2mWH5NPnO9n7p8vzKM8sOB60T/tBaRbvcoug664tyoJXT5yHZiOEO3nHcjihVoPZ/mH1efb8v8z6VJOCaOMZr5svv2hNGsftKyaFrkn2cRk+Xp877jJ0VCFO7HfHTvUl38fdJs2nSTRNcJt4RM23T5m3Z/hXC/M3sKvnj3D6vPsfRxw3FNyFHvXzzF8fNFdJmbRdbDQwrMy/2fPnD9FA28t6qORUTfH/R1naGbQ9cVo7c3Df8S+cgL/dB24L/AOyOaPax2uH1efb+vvPoW6tobyFoZlVlYFWVgCCD1BB4Neff8Kf+FbnbJ4Z0hgTnmytz/wCyV53F+0LoU9ysC6Jrilrczndp842qP4T8vDH+719qZZ/H7Sb0W0g0HXFE8TTZawnUIF7PleGPYdfalKrFIbw0+x73pGhaN4es107Q7WGyto87IYI1ijXPXCoAB+ArQli8xFUHGOlfN9r+0Vo14bR49C1xVvA5Utp9wNip1L5X5c9getT2X7Qmi3SWmzQ9cX7SzhQ2nzjaFzy+V+UHtnGaXtY9xPDz7Ho178JfhhqVy93qXhrSbieU7nklsoHdmPckoSSfU10fh/wj4e8Mq0Whafa2KMdzLbQpECemSEAzxxzXiH/DRXhySS0YaLrqm6kaNQdNuPl29S/yfKPQnGe1Ph/aH0OYQsuh65+/maJS2nzjG3+JgV4X3OM03iI7E+xl1R9Jg59sUmOa+dLf4+aJdquzR9bTdMYlD2E4JIOM/d4X3PFLJ8e9I+zSTDRtbYJcCAAWE2S3qPl+5/tdKSrQ7/mJUZvZf1959DkDIZxT12gema+ZJf2jtBjjd/7E11185YFK6fcHLHv937o7t096kl/aJ0eBLjOia4wgkWPI0+c7mP8Ad+XJA7nGKftYGiwtTsfTNFfNkv7QeiQwzyf2NrbGDYpxp8/Jfpt+XnHfHSpbn9oTRLF7lX0bWpPsyruK2ExDFugUhfmPrjpQ6sF1E8NU7f1959HUV83XH7QGiW8c80mj60RCE3bbCcnL9AoC/MR3x0qOb9oXQoGlzo2tOIY1ZythOeWGQB8vLeoHTvUuvDuCw0+x9Kc0YGc182yftEaDDNLFLo+tAxQCdv8AQJyMf3QQvLew5qU/tD+HfK87+yNZ/wBV5p/0Cfgeh+X7x9BzU/Waf8wPDz7H0bgdaMA184237QmgXBjjOk61GJIWn+awnG1V9Tt4b0HU1HaftCaBOIT/AGVrI+0I7qGsJxtVP72V4J7A8mq9vDuL6vPsfSJXPWkZQ67G5Br53tPj9ody1usek6wonRpAXsZl2qvUtlRg+gPJ9KrR/tC+HpY7R/7N1cfa2YIpsZwwCfxMNvyj0zjNHt4dylhqnb+vvPWL74ZfD7VLp7/VtC067uJDlpZrWGRyfdmUk/jV3QfA/hXwxI8nh/TbSwaQ/MbWCOHcPQ7FXP414rH+0boDiBo9H1v/AEmYxIGsJx93qzfL8q+5p6/tG+HpVUrpWsgNcG3UnT5xlh1b7v3P9rpS+sU+4fVp9j6S2hchec1JXzS37RWgqAf7H1khpvJGLGbk46/d4UevSpU/aG8OyNMi6VrB8qYQA/YZsMx9Pl5HqelP28O4fVqnY+jtucduc06vmqX9ojQoVuc6PrLfZmCMVsZjuJ7L8vP1pX/aH0KNbh30rWAINgP+gzZJbsuFOffFCrw7h9Vqdj3XWPDOg+IQia7ZQXgQ7lE8SSgH2Dg4/CsIfDTwFHKk8GiabHJGwZGW1hDBh0IOzgj1ry/Ufj/oWmxTzyaVq7rCgZtllMxyeigAZJ9cdKgb9obw/HHPJJpesBoYllYCxmyN3RR8vJ9QKr28H1E8NU7H0VDCIE2HmrVfNa/tD+Hgqs+lawP9HNwc2U3A/un5fve3Wll/aD8PW93DZSaXrBLwfaCVsZiFX0Y7cBvbrSdaHcXsJ9j6QHsMVXuLZbhNrDn+lfPf/DQWg/a4bU6Vq5NxC02RZS7UVc8MccMccDrVS0/aN8PXElvGNK1iP7QrNhrGbCqndjt4z2FP20O/5/5D+r1Ox7rpvhXRNIDjSbWC1ErbpPIjSPefVtoGT710WAeCK+eLb4/eHrqOCWDTdVAuAzANZyghVOMnK8U23/aG8NXUVvJHpurKLl2CbrKYYC5+Y5XgemetJ14vqDw8+x9E8joKfXzhH+0L4dZLdotM1c/aZWjUfYZs/L1Y8fKvuaji/aG8PzxRyrpmrYlnaJB9imydvVvu8L7nrR7aPcj2Uu35f5n0nRXzS37RPhp7VbiPTdXbdMYVAsZwSQcE429PfpUK/tG+G3U+XpessTcC3UfYZssx6kfL90evSj20O/8AX3Fewl2/r7z6cor5tuv2iPDkCzeZpursYrhbbC2MxJkP93C8gdz0HrRL+0F4dVrmP+ztWzBIsRIspvmcjovy8j1Ip+1j3/r7g9hPsfSVFfNU/wC0V4bhluoG03Vt1oVViLKYhmbGAp2/N74pW/aI8OI13nTNXItFUsVspsEt/Cvy8n1xR7SPcFQntb8v8z6Uor5tP7Q3hlTMr6dqwMEas2bKb+Loo45PsKbN+0P4bhedX03V8W0QlZhZTEc9FHHLew5oVSPcv6pU7f1959KUV8z/APDRfhdGcT6dqy7YhK/+hTcAjIH3fve1Tn9obw0NzNp2rKsdv9ofNjNwvYfd+97daXto9/6+4zdCXb8v8z6Ror5ui/aI8Lu0amx1Zd8Pn/NZTDCf7Xy8H261HD+0X4WlkggjsNW/0iJp8mxmARF7t8vBPYd6ftI9w9jPt/X3n0rRXzBB+0l4WnS3ZNN1hftRbYGsZwQq9Wb5flHpnrUcP7S3hOee0t4NO1hmundVIsJ8KE6uxK8L6E9aHVit2P2E+39fefUdFfL9v+0l4TvFieKw1cLNM0K/6DOMlercrwvv0q4v7Q/heWzhu4LDVmSecwKospt2V6kjbnaPXpQqsH1E6E+35H0pTMBuvWvmVf2kfCEkLTpY6uR5/kA/YZ+X+m37vv0pt1+0n4Pt1uJ1s9VlaGVYMJYznc7f3ML8wHcjij2sV1D2E+35H04EUHOOfWnbQPwr5iuv2lPB9oty1xZ6qRbsittsZySz9AoCckd8dKkm/aP8IRLcstlqh+zbQwFlOSS3Zfl5b1A6Ue0j3K+rVO39fefSxT5cCuT13wP4T8VQiDxTplpqUSNuRLuGOdVb+8BIpAPuBXjE/wC0b4StZZ1ks9UBto1ZyLKcjLDIUfLy3qKWL9o/wb5s9vNaamht4lmk3WU4wG6AfJy3t1qvaxXUn2E+x6JF8Hfhnb3KXdp4c0mGSIho3SygDIw6MpCZBHYivTEiCAeo7180n9pPwgt0bWSx1UbIRM5+wzgIp6Anb1Pp1qWL9o/wZ5qwzWupqxgNwQbKcbV9G+XgnsDzSc0HsKnY+kTHg+1OVMHJr5tj/aO8ISGGF7PVEaWIz5axnwqf7Xy8EjoDzU0X7Rfgu48hTbaohmiaUbrKcYRepb5ePbPWpdeK6ofsJ9v6+8+jTgjeKqXllb3sD215GssTqVZHAZWB6gg5BB9DXz1D+0T4QMkEP2TUwZo2lU/Yp+EGeT8nHtmltv2jPBt1FbtHaamPP3Fd1lOMKvVjleB6Z61SqJ7MFRl2O/X4LfCUR+WvhjRwuc4+wW+Af+/ddzouh6ZoFmul6RbRWtqn3IoEWONR7KoCj8BXg8P7Q3hO4W3e3tNT23MjIh+xT5wvVj8vyr7mq4/aP8Hkw7bPVs3DmNAbCcZ29W+7wvv0p3E6Uux9LABT060jqh6jOa+ZR+0h4PYQmKy1Zlnm8lMWE/JHVvufdH97pUsX7SPgm4l2RWeqEifyEzYzjeQcEj5eVHqOKdxKjN9D6SkRpE2jjPBNYM3hvTJdSTV7i3hkuoxtWZkUyBfRXI3D8DXhcv7THghBII7XVJSk4txsspzufvtwnIHc9Klk/aM8IxC4ZrPVP3Eix5NlPhmPZPl+bHfHSp5kWqNTsfR4UqvPPpRg8HFfOlz+0R4PEV0yWeqObTaHC2U5+Zuy4T5j6gdKc/7Q3hGGKed7TU8WyB3H2KfPzdABt5PsOaHOPUj2c+x9GL1zjFBTJzXzbc/tHeDbeWeBrPVM20CzvixnPDdFB2csf7vWlP7RvhDzCn2LVk/cfaDvsJxtXHQ/J97260c8e440p9EfSlFfN0P7RXhKedLWOz1RZHtjdfPZTgKg7NlOGPZetR2/7RvhGc26NZ6ohuI2mO+ynXYq92+X5c9getPmQ/YT/lZ9K0V81237RPhG7W0kitdTEd0rMu6ynGFTu2V4z2z1qBP2jvCEj2lutlqites2xTZTjAUZJY7flHoTii6F7CfY+m6K+Y4P2kvBcklrGlpqgN47LGDZTjAXqzfJwvueKuN+0R4TDwqtnqjedKY1xZT9v4j8vC+/ShsPYz7H0dk+n+fzpc18zr+0d4RMUc5s9VxLcG3UCxnyWHU42fd/2ulOP7RPhMp5sdhqzhp/IRlsZzls9R8nKjuelLnj3GsPPoj6XyBRXzXJ+0L4YQXBez1T/R5Vi4spyXZv7vy8gdyOBSz/ALQ3hy1Em/T9VPlSCL5bGc7mPPy4XkDuRUurEf1afY+k6K+bpv2h/CVvJPBLZaqzWxRWIsp8Ev2U7fmx3x0ps37Q3heBZ2+xaqwt9u7bYznlv4RheSO4FCrRD6tU/lZ9J0mRXzq/7QHhiKW4iez1MG2iWR82U3RhkKPl5b260x/2hvCCTSQNZaqzQwC4bbZTkYP8OdvL/wCz1q1KL6i9hPsz6Oorl/C3iG38T6HBrtlHLFHcDcqzo0cgB/vKwBB+orpxyAaZk1YWiiigR//U/v4ooooAKayhutOooAqeQC4zng5oe1Vju/SrdFPmG5MpmzQ9TTGsk525Gfer9FCYXKCWvJw3XFPFoApXNWioPSlAAoHzMpLajjBI204WqdCauUUJiuUzZRbgw4xQtoFPXirlFHMxWKf2VMk+tCWiLxzj61coouFiibNSNp5yaBYpwGPAq9RT5h3KS2MY7kH2NKbRckqSPxq5RS5mIzpLFZBgnp0pws15znn3q/RQpMdyl9jUY28VG1nGWy2Seuc1oYGc0uBRzCKIs4/vKe2KjNmj8E84xV/YN2acAB0ouMqizjHr0xSC0TfuOT+NWiAetLjjHSkFyt9kj4zn86RLVFADZPXvVkrnikCYoQimLUglQfx+tP8AsgCbVJq5SYA5quZgUTacAKSKf9jQZ9zVyik5DuUjaqUK46mo/sqht3NaNFIakykLUHBHFH2PnO4irtFFxXZVNpEV2460w2iY2jNXaKBXKH2Mby5JNKlquODjNXqay5ppjuUktFXOep/Sn/ZfmyTVpQQMU6hyEtNjOjsVjzzjNP8AsYz1z9aulQetIoxSuBQks1Z8knPSnRWextxOavEA9aWmmNsoJaBSQD1Oab9hzk55PrWjRRzCKBshnPHA70fYuMbulX6KOYCobOE4Jzke9N+yICSxLL6VdooTC5nSWxPQ4Ht1qQWmAF3dP51doouNsoJaFep/+tT3tcrgGrlFPnYiilrjnPtSi0UD5ePX3q7RS5mFigLMqc7j1zT1t0429jk+9XKKLgUntFdg2enOKT7HgYzV6ii4uUozWvmqFJ5pr2SONpzng5z6VoUU+YEiibTJzml+xptwfvdc1dopNjRRW3VTubkHNNaxU42kjFaFFClYdyn9lPGDjjtTPsqMQVyCPyq/TSoOfejmArfZeMZzUAtMHO76VpUm1TRcRR+yLg7jgnuKRLQq+4ucfrV4qDx6Unlj/P8A+ui4WKJtQchSB9aVLNh/FV0IAafRzAZ5tMsW3HnriniDPCnAFXOBxS01NgUHtVc9RmlNq2MDHHTjmr1FLmAzvsTbw5bnGBT2tCQOenX/AAq9RRcLFMWo6EnHag2g27AauUUcwFRbZlx8xwPX1phtGPBPv+NXqKfMFiqtsUAwai+xsCSCOetX6KVwRmGzYrjPIGKd9iLLtY5FaNFFx3KDWWSMt0OT60v2M53Bzz71eopqTFYpfZMkFm6UrWxxtXHtxVyilzMDONtlty4BxjNSC3faV3An39KuEA9aTYM5oTsNlNrZmwQwzTfsjc/NzV/C0hXceaOYRni0w24sPwpBbMrZDDgYrR2LRsWi40ymbTI5PbHpSfY8/wAX5VdCgU6hMmxmLYkEfN0OeKkNmSdxbvnjpV+ijmCxnCyYSbi24dge1SC2I/i49qu0Uh2KAswOQc/X/PWm/Ym2kbzWjRTuKxRS1KqQxzn0pz2+8fL8tXKKTVyrlQWwx83J/wA+9IIHU4U4Hp/k1copcqC5V8gFeDk9iaq/YpV5DfStSihofMZptS3zA8nuaBaEDBI4rSpMLS5EJMo/ZMPnI29ce9D24Y5J/KrxGRg0gUDtVJIrnZQNpL3YflQ9o0n3mH0rRpgTB60NEuVyjHZYctIcg9R6002i7yTWnSYWp5EFzO+yZzk8frT1tAuMYwBgZ9Kv0mBnNHIh87KD2kYA9QMULaMhwnAq/gUtPlQ+coCzK42EDFJ9mwOSPwrQpMLVXJuUfJGAOOKeLdtm0Y9at4WlpWG5FIQ4XYx+pFIIMfdOAKvUYFJIVyoImzk4PrxQ0GMkHHOat0VSYnqQxxCMEepqVRgYpaKQBRRRQB//1f7+KKKKACiiigAooooAKKKKACiiigAooooAKKKKACmsODTqQ9DQA1KfTE6U+gAooooAKTFLRQAUUUUAFFFFABTAgNPpB1NAC0UUUAFFFFABRRRQAxRjp3p9NHb6U6gAooooAKKKKACiiigAooooAKKKKACiiigAooooAKKKKAK9SpUVSp0oAfRRRQAUUUUAFFFFABRRRQAUUUUAFFFFABRRRQBFgBsVLUR+/UtABSEZpaKAExS0UUAFFFFABTX+7Tqa/wB2gCJeCKnqAdRU9ADEp9MTpT6ACiiigAooooAKKKKACiiigAooooAKKKKACiiigBMCkUYHFOpB0oAWjFFFADQoByKdRRQAUUUUAFFFFABRRRQAUUUUAFFFFABRRRQAUUUUAFFFFABRRRQAU0DGadSDqaAFooooAKKKKACkxS0UAFFFFABRRRQAU0gYxTqQ9KAFooooAKKKKACiiigD/9k=)"
      ],
      "metadata": {
        "id": "0j2WB-jjLUJ7"
      }
    },
    {
      "cell_type": "markdown",
      "source": [
        "LightGBM 적용- 위스콘신 유방암 예측"
      ],
      "metadata": {
        "id": "YLV1SAIf6l2L"
      }
    },
    {
      "cell_type": "code",
      "source": [
        "# LightGBM의 파이썬 패키지인 lightgbm에서 LGBMClassifier 임포트\n",
        "from lightgbm import LGBMClassifier\n",
        "\n",
        "import pandas as pd\n",
        "import numpy as np\n",
        "from sklearn.datasets import load_breast_cancer\n",
        "from sklearn.model_selection import train_test_split\n",
        "\n",
        "dataset = load_breast_cancer()\n",
        "\n",
        "cancer_df = pd.DataFrame(data=dataset.data, columns=dataset.feature_names)\n",
        "\n",
        "cancer_df['target'] = dataset.target\n",
        "X_features = cancer_df.iloc[:, :-1]\n",
        "y_label = cancer_df.iloc[:, -1]\n",
        "\n",
        "# 전체 데이터 중 80%는 학습용 데이터, 20%는 테스트용 데이터 추출\n",
        "X_train, X_test, y_train, y_test = train_test_split(X_features, y_label, test_size=0.2, random_state=156)\n",
        "\n",
        "# 위에서 만든 X_train, y_train을 다시 쪼개서 90%는 학습과 10%는 검증용 데이터로 분리\n",
        "X_tr, X_val, y_tr, y_val = train_test_split(X_train, y_train, test_size=0.1, random_state=156)\n",
        "\n",
        "# 앞서 XGBoost와 동일하게 n_estimators는 400 설정.\n",
        "lgbm_wrapper = LGBMClassifier(n_estimators=400, learning_rate=0.05)\n",
        "\n",
        "# LightGBM도 XGBoost와 동일하게 조기중단 수행 가능.\n",
        "evals = [(X_tr, y_tr), (X_val, y_val)]\n",
        "lgbm_wrapper.fit(X_tr, y_tr, early_stopping_rounds=50, eval_metric='logloss', eval_set=evals, verbose=True)\n",
        "preds = lgbm_wrapper.predict(X_test)\n",
        "pred_proba = lgbm_wrapper.predict_proba(X_test)[:, 1]"
      ],
      "metadata": {
        "colab": {
          "base_uri": "https://localhost:8080/"
        },
        "collapsed": true,
        "id": "3hZbK0tD5v4t",
        "outputId": "9835112e-e2b2-43a8-86cd-d46cd0460a25"
      },
      "execution_count": 11,
      "outputs": [
        {
          "output_type": "stream",
          "name": "stderr",
          "text": [
            "/usr/local/lib/python3.10/dist-packages/lightgbm/sklearn.py:726: UserWarning: 'early_stopping_rounds' argument is deprecated and will be removed in a future release of LightGBM. Pass 'early_stopping()' callback via 'callbacks' argument instead.\n",
            "  _log_warning(\"'early_stopping_rounds' argument is deprecated and will be removed in a future release of LightGBM. \"\n",
            "/usr/local/lib/python3.10/dist-packages/lightgbm/sklearn.py:736: UserWarning: 'verbose' argument is deprecated and will be removed in a future release of LightGBM. Pass 'log_evaluation()' callback via 'callbacks' argument instead.\n",
            "  _log_warning(\"'verbose' argument is deprecated and will be removed in a future release of LightGBM. \"\n"
          ]
        },
        {
          "output_type": "stream",
          "name": "stdout",
          "text": [
            "[1]\ttraining's binary_logloss: 0.625671\tvalid_1's binary_logloss: 0.628248\n",
            "[2]\ttraining's binary_logloss: 0.588173\tvalid_1's binary_logloss: 0.601106\n",
            "[3]\ttraining's binary_logloss: 0.554518\tvalid_1's binary_logloss: 0.577587\n",
            "[4]\ttraining's binary_logloss: 0.523972\tvalid_1's binary_logloss: 0.556324\n",
            "[5]\ttraining's binary_logloss: 0.49615\tvalid_1's binary_logloss: 0.537407\n",
            "[6]\ttraining's binary_logloss: 0.470108\tvalid_1's binary_logloss: 0.519401\n",
            "[7]\ttraining's binary_logloss: 0.446647\tvalid_1's binary_logloss: 0.502637\n",
            "[8]\ttraining's binary_logloss: 0.425055\tvalid_1's binary_logloss: 0.488311\n",
            "[9]\ttraining's binary_logloss: 0.405125\tvalid_1's binary_logloss: 0.474664\n",
            "[10]\ttraining's binary_logloss: 0.386526\tvalid_1's binary_logloss: 0.461267\n",
            "[11]\ttraining's binary_logloss: 0.367027\tvalid_1's binary_logloss: 0.444274\n",
            "[12]\ttraining's binary_logloss: 0.350713\tvalid_1's binary_logloss: 0.432755\n",
            "[13]\ttraining's binary_logloss: 0.334601\tvalid_1's binary_logloss: 0.421371\n",
            "[14]\ttraining's binary_logloss: 0.319854\tvalid_1's binary_logloss: 0.411418\n",
            "[15]\ttraining's binary_logloss: 0.306374\tvalid_1's binary_logloss: 0.402989\n",
            "[16]\ttraining's binary_logloss: 0.293116\tvalid_1's binary_logloss: 0.393973\n",
            "[17]\ttraining's binary_logloss: 0.280812\tvalid_1's binary_logloss: 0.384801\n",
            "[18]\ttraining's binary_logloss: 0.268352\tvalid_1's binary_logloss: 0.376191\n",
            "[19]\ttraining's binary_logloss: 0.256942\tvalid_1's binary_logloss: 0.368378\n",
            "[20]\ttraining's binary_logloss: 0.246443\tvalid_1's binary_logloss: 0.362062\n",
            "[21]\ttraining's binary_logloss: 0.236874\tvalid_1's binary_logloss: 0.355162\n",
            "[22]\ttraining's binary_logloss: 0.227501\tvalid_1's binary_logloss: 0.348933\n",
            "[23]\ttraining's binary_logloss: 0.218988\tvalid_1's binary_logloss: 0.342819\n",
            "[24]\ttraining's binary_logloss: 0.210621\tvalid_1's binary_logloss: 0.337386\n",
            "[25]\ttraining's binary_logloss: 0.202076\tvalid_1's binary_logloss: 0.331523\n",
            "[26]\ttraining's binary_logloss: 0.194199\tvalid_1's binary_logloss: 0.326349\n",
            "[27]\ttraining's binary_logloss: 0.187107\tvalid_1's binary_logloss: 0.322785\n",
            "[28]\ttraining's binary_logloss: 0.180535\tvalid_1's binary_logloss: 0.317877\n",
            "[29]\ttraining's binary_logloss: 0.173834\tvalid_1's binary_logloss: 0.313928\n",
            "[30]\ttraining's binary_logloss: 0.167198\tvalid_1's binary_logloss: 0.310105\n",
            "[31]\ttraining's binary_logloss: 0.161229\tvalid_1's binary_logloss: 0.307107\n",
            "[32]\ttraining's binary_logloss: 0.155494\tvalid_1's binary_logloss: 0.303837\n",
            "[33]\ttraining's binary_logloss: 0.149125\tvalid_1's binary_logloss: 0.300315\n",
            "[34]\ttraining's binary_logloss: 0.144045\tvalid_1's binary_logloss: 0.297816\n",
            "[35]\ttraining's binary_logloss: 0.139341\tvalid_1's binary_logloss: 0.295387\n",
            "[36]\ttraining's binary_logloss: 0.134625\tvalid_1's binary_logloss: 0.293063\n",
            "[37]\ttraining's binary_logloss: 0.129167\tvalid_1's binary_logloss: 0.289127\n",
            "[38]\ttraining's binary_logloss: 0.12472\tvalid_1's binary_logloss: 0.288697\n",
            "[39]\ttraining's binary_logloss: 0.11974\tvalid_1's binary_logloss: 0.28576\n",
            "[40]\ttraining's binary_logloss: 0.115054\tvalid_1's binary_logloss: 0.282853\n",
            "[41]\ttraining's binary_logloss: 0.110662\tvalid_1's binary_logloss: 0.279441\n",
            "[42]\ttraining's binary_logloss: 0.106358\tvalid_1's binary_logloss: 0.28113\n",
            "[43]\ttraining's binary_logloss: 0.102324\tvalid_1's binary_logloss: 0.279139\n",
            "[44]\ttraining's binary_logloss: 0.0985699\tvalid_1's binary_logloss: 0.276465\n",
            "[45]\ttraining's binary_logloss: 0.094858\tvalid_1's binary_logloss: 0.275946\n",
            "[46]\ttraining's binary_logloss: 0.0912486\tvalid_1's binary_logloss: 0.272819\n",
            "[47]\ttraining's binary_logloss: 0.0883115\tvalid_1's binary_logloss: 0.272306\n",
            "[48]\ttraining's binary_logloss: 0.0849963\tvalid_1's binary_logloss: 0.270452\n",
            "[49]\ttraining's binary_logloss: 0.0821742\tvalid_1's binary_logloss: 0.268671\n",
            "[50]\ttraining's binary_logloss: 0.0789991\tvalid_1's binary_logloss: 0.267587\n",
            "[51]\ttraining's binary_logloss: 0.0761072\tvalid_1's binary_logloss: 0.26626\n",
            "[52]\ttraining's binary_logloss: 0.0732567\tvalid_1's binary_logloss: 0.265542\n",
            "[53]\ttraining's binary_logloss: 0.0706388\tvalid_1's binary_logloss: 0.264547\n",
            "[54]\ttraining's binary_logloss: 0.0683911\tvalid_1's binary_logloss: 0.26502\n",
            "[55]\ttraining's binary_logloss: 0.0659347\tvalid_1's binary_logloss: 0.264388\n",
            "[56]\ttraining's binary_logloss: 0.0636873\tvalid_1's binary_logloss: 0.263128\n",
            "[57]\ttraining's binary_logloss: 0.0613354\tvalid_1's binary_logloss: 0.26231\n",
            "[58]\ttraining's binary_logloss: 0.0591944\tvalid_1's binary_logloss: 0.262011\n",
            "[59]\ttraining's binary_logloss: 0.057033\tvalid_1's binary_logloss: 0.261454\n",
            "[60]\ttraining's binary_logloss: 0.0550801\tvalid_1's binary_logloss: 0.260746\n",
            "[61]\ttraining's binary_logloss: 0.0532381\tvalid_1's binary_logloss: 0.260236\n",
            "[62]\ttraining's binary_logloss: 0.0514074\tvalid_1's binary_logloss: 0.261586\n",
            "[63]\ttraining's binary_logloss: 0.0494837\tvalid_1's binary_logloss: 0.261797\n",
            "[64]\ttraining's binary_logloss: 0.0477826\tvalid_1's binary_logloss: 0.262533\n",
            "[65]\ttraining's binary_logloss: 0.0460364\tvalid_1's binary_logloss: 0.263305\n",
            "[66]\ttraining's binary_logloss: 0.0444552\tvalid_1's binary_logloss: 0.264072\n",
            "[67]\ttraining's binary_logloss: 0.0427638\tvalid_1's binary_logloss: 0.266223\n",
            "[68]\ttraining's binary_logloss: 0.0412449\tvalid_1's binary_logloss: 0.266817\n",
            "[69]\ttraining's binary_logloss: 0.0398589\tvalid_1's binary_logloss: 0.267819\n",
            "[70]\ttraining's binary_logloss: 0.0383095\tvalid_1's binary_logloss: 0.267484\n",
            "[71]\ttraining's binary_logloss: 0.0368803\tvalid_1's binary_logloss: 0.270233\n",
            "[72]\ttraining's binary_logloss: 0.0355637\tvalid_1's binary_logloss: 0.268442\n",
            "[73]\ttraining's binary_logloss: 0.0341747\tvalid_1's binary_logloss: 0.26895\n",
            "[74]\ttraining's binary_logloss: 0.0328302\tvalid_1's binary_logloss: 0.266958\n",
            "[75]\ttraining's binary_logloss: 0.0317853\tvalid_1's binary_logloss: 0.268091\n",
            "[76]\ttraining's binary_logloss: 0.0305626\tvalid_1's binary_logloss: 0.266419\n",
            "[77]\ttraining's binary_logloss: 0.0295001\tvalid_1's binary_logloss: 0.268588\n",
            "[78]\ttraining's binary_logloss: 0.0284699\tvalid_1's binary_logloss: 0.270964\n",
            "[79]\ttraining's binary_logloss: 0.0273953\tvalid_1's binary_logloss: 0.270293\n",
            "[80]\ttraining's binary_logloss: 0.0264668\tvalid_1's binary_logloss: 0.270523\n",
            "[81]\ttraining's binary_logloss: 0.0254636\tvalid_1's binary_logloss: 0.270683\n",
            "[82]\ttraining's binary_logloss: 0.0245911\tvalid_1's binary_logloss: 0.273187\n",
            "[83]\ttraining's binary_logloss: 0.0236486\tvalid_1's binary_logloss: 0.275994\n",
            "[84]\ttraining's binary_logloss: 0.0228047\tvalid_1's binary_logloss: 0.274053\n",
            "[85]\ttraining's binary_logloss: 0.0221693\tvalid_1's binary_logloss: 0.273211\n",
            "[86]\ttraining's binary_logloss: 0.0213043\tvalid_1's binary_logloss: 0.272626\n",
            "[87]\ttraining's binary_logloss: 0.0203934\tvalid_1's binary_logloss: 0.27534\n",
            "[88]\ttraining's binary_logloss: 0.0195552\tvalid_1's binary_logloss: 0.276228\n",
            "[89]\ttraining's binary_logloss: 0.0188623\tvalid_1's binary_logloss: 0.27525\n",
            "[90]\ttraining's binary_logloss: 0.0183664\tvalid_1's binary_logloss: 0.276485\n",
            "[91]\ttraining's binary_logloss: 0.0176788\tvalid_1's binary_logloss: 0.277052\n",
            "[92]\ttraining's binary_logloss: 0.0170059\tvalid_1's binary_logloss: 0.277686\n",
            "[93]\ttraining's binary_logloss: 0.0164317\tvalid_1's binary_logloss: 0.275332\n",
            "[94]\ttraining's binary_logloss: 0.015878\tvalid_1's binary_logloss: 0.276236\n",
            "[95]\ttraining's binary_logloss: 0.0152959\tvalid_1's binary_logloss: 0.274538\n",
            "[96]\ttraining's binary_logloss: 0.0147216\tvalid_1's binary_logloss: 0.275244\n",
            "[97]\ttraining's binary_logloss: 0.0141758\tvalid_1's binary_logloss: 0.275829\n",
            "[98]\ttraining's binary_logloss: 0.0136551\tvalid_1's binary_logloss: 0.276654\n",
            "[99]\ttraining's binary_logloss: 0.0131585\tvalid_1's binary_logloss: 0.277859\n",
            "[100]\ttraining's binary_logloss: 0.0126961\tvalid_1's binary_logloss: 0.279265\n",
            "[101]\ttraining's binary_logloss: 0.0122421\tvalid_1's binary_logloss: 0.276695\n",
            "[102]\ttraining's binary_logloss: 0.0118067\tvalid_1's binary_logloss: 0.278488\n",
            "[103]\ttraining's binary_logloss: 0.0113994\tvalid_1's binary_logloss: 0.278932\n",
            "[104]\ttraining's binary_logloss: 0.0109799\tvalid_1's binary_logloss: 0.280997\n",
            "[105]\ttraining's binary_logloss: 0.0105953\tvalid_1's binary_logloss: 0.281454\n",
            "[106]\ttraining's binary_logloss: 0.0102381\tvalid_1's binary_logloss: 0.282058\n",
            "[107]\ttraining's binary_logloss: 0.00986714\tvalid_1's binary_logloss: 0.279275\n",
            "[108]\ttraining's binary_logloss: 0.00950998\tvalid_1's binary_logloss: 0.281427\n",
            "[109]\ttraining's binary_logloss: 0.00915965\tvalid_1's binary_logloss: 0.280752\n",
            "[110]\ttraining's binary_logloss: 0.00882581\tvalid_1's binary_logloss: 0.282152\n",
            "[111]\ttraining's binary_logloss: 0.00850714\tvalid_1's binary_logloss: 0.280894\n"
          ]
        }
      ]
    },
    {
      "cell_type": "markdown",
      "source": [
        "조기 중단으로 인해 111번 반복까지 수행 후 종료"
      ],
      "metadata": {
        "id": "7lhnvOQT_xpc"
      }
    },
    {
      "cell_type": "code",
      "source": [
        "from sklearn.metrics import accuracy_score, precision_score, recall_score, confusion_matrix\n",
        "from sklearn.metrics import f1_score\n",
        "from sklearn.metrics import roc_auc_score\n",
        "\n",
        "def get_clf_eval(y_test, pred=None, pred_proba=None):\n",
        "  confusion = confusion_matrix(y_test, pred)\n",
        "  accuracy = accuracy_score(y_test, pred)\n",
        "  precision = precision_score(y_test, pred)\n",
        "  recall = recall_score(y_test, pred)\n",
        "  f1 = f1_score(y_test, pred)\n",
        "  # ROC AUC 추가\n",
        "  roc_auc = roc_auc_score(y_test, pred_proba)\n",
        "  print('오차 행렬')\n",
        "  print(confusion)\n",
        "  # ROC-AUC print 추가\n",
        "  print('정확도: {0:.4f}, 정밀도: {1:.4f}, 재현율: {2:.4f}, F1:{3:.4f}, AUC:{4:.4f}'.format(accuracy, precision, recall, f1, roc_auc))\n",
        "\n",
        "\n",
        "get_clf_eval(y_test, preds, pred_proba)"
      ],
      "metadata": {
        "colab": {
          "base_uri": "https://localhost:8080/"
        },
        "id": "wH02Ofja_sQ1",
        "outputId": "d1d27800-681b-4c54-cd20-a0ca24c1683d"
      },
      "execution_count": 13,
      "outputs": [
        {
          "output_type": "stream",
          "name": "stdout",
          "text": [
            "오차 행렬\n",
            "[[34  3]\n",
            " [ 2 75]]\n",
            "정확도: 0.9561, 정밀도: 0.9615, 재현율: 0.9740, F1:0.9677, AUC:0.9877\n"
          ]
        }
      ]
    },
    {
      "cell_type": "code",
      "source": [
        "# plot_importance( )를 이용하여 feature 중요도 시각화\n",
        "from lightgbm import plot_importance\n",
        "import matplotlib.pyplot as pit\n",
        "%matplotlib inline\n",
        "\n",
        "fig, ax = pit.subplots(figsize=(10, 12))\n",
        "plot_importance(lgbm_wrapper, ax=ax)"
      ],
      "metadata": {
        "colab": {
          "base_uri": "https://localhost:8080/",
          "height": 1000
        },
        "id": "qEpvKe7i_76c",
        "outputId": "6965a8a3-4b23-4d14-f890-5293a0d0de60"
      },
      "execution_count": 14,
      "outputs": [
        {
          "output_type": "execute_result",
          "data": {
            "text/plain": [
              "<Axes: title={'center': 'Feature importance'}, xlabel='Feature importance', ylabel='Features'>"
            ]
          },
          "metadata": {},
          "execution_count": 14
        },
        {
          "output_type": "display_data",
          "data": {
            "text/plain": [
              "<Figure size 1000x1200 with 1 Axes>"
            ],
            "image/png": "[encoded data removed]"
          },
          "metadata": {}
        }
      ]
    },
    {
      "cell_type": "markdown",
      "source": [
        "##08. 베이지안 최적화 기반의 HyperOpt를 이용한 하이퍼 파라미터 튜닝\n",
        "\n",
        "GridSearch 방식을 적용했다\n",
        "이것의 단점 : 튜닝해야할 하이퍼 파라미터 개수가 많을 경우 최적화 수행 시간이 오래 걸린다\n",
        "\n",
        "베이지안 최적화 개요\n",
        "\n",
        "베이지안 최적화 : 목적 함수 식을 제대로 알 수 없는 블랙 박스 형태의 함수에서 최대 또는 최소 함수 반환 값을 만드는 최적 입력값을 가능한 적은 시도를 통해 빠르게 찾아주는 방식\n",
        "\n",
        "베이지안 확률에 기반을 두고 있는 최적화 기법\n",
        "*step1 : 최초에는 랜덤하게 하이퍼 파라미터ㄹ들을 샘플링하고 성능 결과를 관측한다 아래 그림에서 검은색 원은 특정 하이퍼 파라미터가 입력되었을 때 관측된 성능 지표 결괏값을 뜻하며 주황색 사선은 찾아야할 주황색 사선은 찾아야할 목표 최적함수\n",
        "*step2 : 관측된 값을 기반으로 대체 모델은 최적함수를 추정합니다 아래 그림에서 파란색 실선은 대체 모델이 추정된 최적 함수 옅은 파란색으로 되어있는 영역은 예측된 함수의 신뢰 구간\n",
        "*step3 : 추정된 최적 함수를 기반으로 획득함수는 다음으로 관측할 하이퍼 파라미터 값을 계산한다\n",
        "*step4 : 획득 함수로부터 전달된 하이퍼 파라미터를 수행하여 관측된 값을 기반으로 대체 모델은 갱신되어 다시 최적함수를 예측 추정한다"
      ],
      "metadata": {
        "id": "Jn4X3PTXL_Qs"
      }
    },
    {
      "cell_type": "markdown",
      "source": [
        "**HyperOpt사용하기**"
      ],
      "metadata": {
        "id": "Ek4Gr8mwN3LB"
      }
    },
    {
      "cell_type": "code",
      "source": [
        "from hyperopt import hp"
      ],
      "metadata": {
        "id": "3vltsUkVAkMd"
      },
      "execution_count": 15,
      "outputs": []
    },
    {
      "cell_type": "code",
      "source": [
        "# -10 ~ 10까지 1 간격을 가지는 입력 변수 x와 -15 ~ 15까지 1간격으로 입력 변수 y 설정.\n",
        "search_space = {'x': hp.quniform('x', -10, 10, 1), 'y': hp.quniform('y', -15, 15, 1) }"
      ],
      "metadata": {
        "id": "7j3GAqteA1za"
      },
      "execution_count": 16,
      "outputs": []
    },
    {
      "cell_type": "code",
      "source": [
        "from hyperopt import STATUS_OK\n",
        "\n",
        "# 목적 함수를 생성. 변숫값과 변수 검색 공간을 가지는 딕셔너리를 인자로 받고, 특정 값을 반환\n",
        "def objective_func(search_space):\n",
        "    x = search_space['x']\n",
        "    y = search_space['y']\n",
        "    retval = x**2 - 20*y\n",
        "\n",
        "    return retval"
      ],
      "metadata": {
        "id": "cjf4xMn_A7Kb"
      },
      "execution_count": 17,
      "outputs": []
    },
    {
      "cell_type": "code",
      "source": [
        "from hyperopt import fmin, tpe, Trials\n",
        "# 입력 결괏값을 저장한 Trials 객체값 생성.\n",
        "trial_val = Trials()\n",
        "\n",
        "# 목적 함수의 최솟값을 반환하는 최적 입력 변숫값을 5번의 입력값 시도(max_evals=5)로 찾아냄.\n",
        "best_01 = fmin(fn=objective_func, space=search_space, algo=tpe.suggest, max_evals=5, trials=trial_val, rstate=np.random.default_rng(seed=0))\n",
        "print('best:',best_01)"
      ],
      "metadata": {
        "colab": {
          "base_uri": "https://localhost:8080/"
        },
        "id": "c4K6G-bIA_BL",
        "outputId": "1eb50a37-4a83-4b47-809a-1b35e0040faf"
      },
      "execution_count": 18,
      "outputs": [
        {
          "output_type": "stream",
          "name": "stdout",
          "text": [
            "100%|██████████| 5/5 [00:00<00:00, 347.08trial/s, best loss: -224.0]\n",
            "best: {'x': -4.0, 'y': 12.0}\n"
          ]
        }
      ]
    },
    {
      "cell_type": "code",
      "source": [
        "trial_val = Trials()\n",
        "# max_evals를 20회로 늘려서 재테스트\n",
        "best_02 = fmin(fn=objective_func, space=search_space, algo=tpe.suggest, max_evals=20, trials=trial_val, rstate=np.random.default_rng(seed=0))\n",
        "print('best:', best_02)"
      ],
      "metadata": {
        "colab": {
          "base_uri": "https://localhost:8080/"
        },
        "id": "5hp2Z8TWBB-Z",
        "outputId": "e665d7f4-7ba5-4c0d-a47c-c78457d218e4"
      },
      "execution_count": 19,
      "outputs": [
        {
          "output_type": "stream",
          "name": "stdout",
          "text": [
            "100%|██████████| 20/20 [00:00<00:00, 324.13trial/s, best loss: -296.0]\n",
            "best: {'x': 2.0, 'y': 15.0}\n"
          ]
        }
      ]
    },
    {
      "cell_type": "code",
      "source": [
        "\n",
        "# fmin( )에 인자로 들어가는 Trials 객체의 result 속성에 파이썬 리스트로 목적 함수 반환값들이 저장됨\n",
        "# 리스트 내부의 개별 원소는 {'loss'：함수 반환값, ‘status'：반환 상태값}와 같은 딕셔너리임.\n",
        "\n",
        "print(trial_val.results)"
      ],
      "metadata": {
        "colab": {
          "base_uri": "https://localhost:8080/"
        },
        "id": "fjADsG7nBE4u",
        "outputId": "a9c14a39-0d5f-43b7-ce3f-3811529f3102"
      },
      "execution_count": 20,
      "outputs": [
        {
          "output_type": "stream",
          "name": "stdout",
          "text": [
            "[{'loss': -64.0, 'status': 'ok'}, {'loss': -184.0, 'status': 'ok'}, {'loss': 56.0, 'status': 'ok'}, {'loss': -224.0, 'status': 'ok'}, {'loss': 61.0, 'status': 'ok'}, {'loss': -296.0, 'status': 'ok'}, {'loss': -40.0, 'status': 'ok'}, {'loss': 281.0, 'status': 'ok'}, {'loss': 64.0, 'status': 'ok'}, {'loss': 100.0, 'status': 'ok'}, {'loss': 60.0, 'status': 'ok'}, {'loss': -39.0, 'status': 'ok'}, {'loss': 1.0, 'status': 'ok'}, {'loss': -164.0, 'status': 'ok'}, {'loss': 21.0, 'status': 'ok'}, {'loss': -56.0, 'status': 'ok'}, {'loss': 284.0, 'status': 'ok'}, {'loss': 176.0, 'status': 'ok'}, {'loss': -171.0, 'status': 'ok'}, {'loss': 0.0, 'status': 'ok'}]\n"
          ]
        }
      ]
    },
    {
      "cell_type": "code",
      "source": [
        "\n",
        "# Trials 객체의 vals 속성에 {'입력변수명': 개별 수행 시마다 입력된 값 리스트} 형태로 저장됨.\n",
        "print(trial_val.vals)"
      ],
      "metadata": {
        "colab": {
          "base_uri": "https://localhost:8080/"
        },
        "id": "zizLxuc9BIDU",
        "outputId": "cca9f965-333d-4854-d092-eab182d34c75"
      },
      "execution_count": 21,
      "outputs": [
        {
          "output_type": "stream",
          "name": "stdout",
          "text": [
            "{'x': [-6.0, -4.0, 4.0, -4.0, 9.0, 2.0, 10.0, -9.0, -8.0, -0.0, -0.0, 1.0, 9.0, 6.0, 9.0, 2.0, -2.0, -4.0, 7.0, -0.0], 'y': [5.0, 10.0, -2.0, 12.0, 1.0, 15.0, 7.0, -10.0, 0.0, -5.0, -3.0, 2.0, 4.0, 10.0, 3.0, 3.0, -14.0, -8.0, 11.0, -0.0]}\n"
          ]
        }
      ]
    },
    {
      "cell_type": "code",
      "source": [
        "import pandas as pd\n",
        "# results에서 loss 키값에 해당하는 밸류들을 추출하여 list로 생성.\n",
        "losses = [loss_dict['loss'] for loss_dict in trial_val.results]\n",
        "# DataFrame으로 생성 .\n",
        "result_df = pd.DataFrame({'x': trial_val.vals['x'], 'y':trial_val.vals['y'], 'losses' : losses})\n",
        "result_df"
      ],
      "metadata": {
        "colab": {
          "base_uri": "https://localhost:8080/",
          "height": 676
        },
        "id": "mkxM2f2lBKmp",
        "outputId": "bffce24e-a970-4fa0-eaf4-151c1d505b78"
      },
      "execution_count": 22,
      "outputs": [
        {
          "output_type": "execute_result",
          "data": {
            "text/plain": [
              "       x     y  losses\n",
              "0   -6.0   5.0   -64.0\n",
              "1   -4.0  10.0  -184.0\n",
              "2    4.0  -2.0    56.0\n",
              "3   -4.0  12.0  -224.0\n",
              "4    9.0   1.0    61.0\n",
              "5    2.0  15.0  -296.0\n",
              "6   10.0   7.0   -40.0\n",
              "7   -9.0 -10.0   281.0\n",
              "8   -8.0   0.0    64.0\n",
              "9   -0.0  -5.0   100.0\n",
              "10  -0.0  -3.0    60.0\n",
              "11   1.0   2.0   -39.0\n",
              "12   9.0   4.0     1.0\n",
              "13   6.0  10.0  -164.0\n",
              "14   9.0   3.0    21.0\n",
              "15   2.0   3.0   -56.0\n",
              "16  -2.0 -14.0   284.0\n",
              "17  -4.0  -8.0   176.0\n",
              "18   7.0  11.0  -171.0\n",
              "19  -0.0  -0.0     0.0"
            ],
            "text/html": [
              "\n",
              "  <div id=\"df-d659d12b-c030-4fcd-a53a-e54e86073d97\" class=\"colab-df-container\">\n",
              "    <div>\n",
              "<style scoped>\n",
              "    .dataframe tbody tr th:only-of-type {\n",
              "        vertical-align: middle;\n",
              "    }\n",
              "\n",
              "    .dataframe tbody tr th {\n",
              "        vertical-align: top;\n",
              "    }\n",
              "\n",
              "    .dataframe thead th {\n",
              "        text-align: right;\n",
              "    }\n",
              "</style>\n",
              "<table border=\"1\" class=\"dataframe\">\n",
              "  <thead>\n",
              "    <tr style=\"text-align: right;\">\n",
              "      <th></th>\n",
              "      <th>x</th>\n",
              "      <th>y</th>\n",
              "      <th>losses</th>\n",
              "    </tr>\n",
              "  </thead>\n",
              "  <tbody>\n",
              "    <tr>\n",
              "      <th>0</th>\n",
              "      <td>-6.0</td>\n",
              "      <td>5.0</td>\n",
              "      <td>-64.0</td>\n",
              "    </tr>\n",
              "    <tr>\n",
              "      <th>1</th>\n",
              "      <td>-4.0</td>\n",
              "      <td>10.0</td>\n",
              "      <td>-184.0</td>\n",
              "    </tr>\n",
              "    <tr>\n",
              "      <th>2</th>\n",
              "      <td>4.0</td>\n",
              "      <td>-2.0</td>\n",
              "      <td>56.0</td>\n",
              "    </tr>\n",
              "    <tr>\n",
              "      <th>3</th>\n",
              "      <td>-4.0</td>\n",
              "      <td>12.0</td>\n",
              "      <td>-224.0</td>\n",
              "    </tr>\n",
              "    <tr>\n",
              "      <th>4</th>\n",
              "      <td>9.0</td>\n",
              "      <td>1.0</td>\n",
              "      <td>61.0</td>\n",
              "    </tr>\n",
              "    <tr>\n",
              "      <th>5</th>\n",
              "      <td>2.0</td>\n",
              "      <td>15.0</td>\n",
              "      <td>-296.0</td>\n",
              "    </tr>\n",
              "    <tr>\n",
              "      <th>6</th>\n",
              "      <td>10.0</td>\n",
              "      <td>7.0</td>\n",
              "      <td>-40.0</td>\n",
              "    </tr>\n",
              "    <tr>\n",
              "      <th>7</th>\n",
              "      <td>-9.0</td>\n",
              "      <td>-10.0</td>\n",
              "      <td>281.0</td>\n",
              "    </tr>\n",
              "    <tr>\n",
              "      <th>8</th>\n",
              "      <td>-8.0</td>\n",
              "      <td>0.0</td>\n",
              "      <td>64.0</td>\n",
              "    </tr>\n",
              "    <tr>\n",
              "      <th>9</th>\n",
              "      <td>-0.0</td>\n",
              "      <td>-5.0</td>\n",
              "      <td>100.0</td>\n",
              "    </tr>\n",
              "    <tr>\n",
              "      <th>10</th>\n",
              "      <td>-0.0</td>\n",
              "      <td>-3.0</td>\n",
              "      <td>60.0</td>\n",
              "    </tr>\n",
              "    <tr>\n",
              "      <th>11</th>\n",
              "      <td>1.0</td>\n",
              "      <td>2.0</td>\n",
              "      <td>-39.0</td>\n",
              "    </tr>\n",
              "    <tr>\n",
              "      <th>12</th>\n",
              "      <td>9.0</td>\n",
              "      <td>4.0</td>\n",
              "      <td>1.0</td>\n",
              "    </tr>\n",
              "    <tr>\n",
              "      <th>13</th>\n",
              "      <td>6.0</td>\n",
              "      <td>10.0</td>\n",
              "      <td>-164.0</td>\n",
              "    </tr>\n",
              "    <tr>\n",
              "      <th>14</th>\n",
              "      <td>9.0</td>\n",
              "      <td>3.0</td>\n",
              "      <td>21.0</td>\n",
              "    </tr>\n",
              "    <tr>\n",
              "      <th>15</th>\n",
              "      <td>2.0</td>\n",
              "      <td>3.0</td>\n",
              "      <td>-56.0</td>\n",
              "    </tr>\n",
              "    <tr>\n",
              "      <th>16</th>\n",
              "      <td>-2.0</td>\n",
              "      <td>-14.0</td>\n",
              "      <td>284.0</td>\n",
              "    </tr>\n",
              "    <tr>\n",
              "      <th>17</th>\n",
              "      <td>-4.0</td>\n",
              "      <td>-8.0</td>\n",
              "      <td>176.0</td>\n",
              "    </tr>\n",
              "    <tr>\n",
              "      <th>18</th>\n",
              "      <td>7.0</td>\n",
              "      <td>11.0</td>\n",
              "      <td>-171.0</td>\n",
              "    </tr>\n",
              "    <tr>\n",
              "      <th>19</th>\n",
              "      <td>-0.0</td>\n",
              "      <td>-0.0</td>\n",
              "      <td>0.0</td>\n",
              "    </tr>\n",
              "  </tbody>\n",
              "</table>\n",
              "</div>\n",
              "    <div class=\"colab-df-buttons\">\n",
              "\n",
              "  <div class=\"colab-df-container\">\n",
              "    <button class=\"colab-df-convert\" onclick=\"convertToInteractive('df-d659d12b-c030-4fcd-a53a-e54e86073d97')\"\n",
              "            title=\"Convert this dataframe to an interactive table.\"\n",
              "            style=\"display:none;\">\n",
              "\n",
              "  <svg xmlns=\"http://www.w3.org/2000/svg\" height=\"24px\" viewBox=\"0 -960 960 960\">\n",
              "    <path d=\"M120-120v-720h720v720H120Zm60-500h600v-160H180v160Zm220 220h160v-160H400v160Zm0 220h160v-160H400v160ZM180-400h160v-160H180v160Zm440 0h160v-160H620v160ZM180-180h160v-160H180v160Zm440 0h160v-160H620v160Z\"/>\n",
              "  </svg>\n",
              "    </button>\n",
              "\n",
              "  <style>\n",
              "    .colab-df-container {\n",
              "      display:flex;\n",
              "      gap: 12px;\n",
              "    }\n",
              "\n",
              "    .colab-df-convert {\n",
              "      background-color: #E8F0FE;\n",
              "      border: none;\n",
              "      border-radius: 50%;\n",
              "      cursor: pointer;\n",
              "      display: none;\n",
              "      fill: #1967D2;\n",
              "      height: 32px;\n",
              "      padding: 0 0 0 0;\n",
              "      width: 32px;\n",
              "    }\n",
              "\n",
              "    .colab-df-convert:hover {\n",
              "      background-color: #E2EBFA;\n",
              "      box-shadow: 0px 1px 2px rgba(60, 64, 67, 0.3), 0px 1px 3px 1px rgba(60, 64, 67, 0.15);\n",
              "      fill: #174EA6;\n",
              "    }\n",
              "\n",
              "    .colab-df-buttons div {\n",
              "      margin-bottom: 4px;\n",
              "    }\n",
              "\n",
              "    [theme=dark] .colab-df-convert {\n",
              "      background-color: #3B4455;\n",
              "      fill: #D2E3FC;\n",
              "    }\n",
              "\n",
              "    [theme=dark] .colab-df-convert:hover {\n",
              "      background-color: #434B5C;\n",
              "      box-shadow: 0px 1px 3px 1px rgba(0, 0, 0, 0.15);\n",
              "      filter: drop-shadow(0px 1px 2px rgba(0, 0, 0, 0.3));\n",
              "      fill: #FFFFFF;\n",
              "    }\n",
              "  </style>\n",
              "\n",
              "    <script>\n",
              "      const buttonEl =\n",
              "        document.querySelector('#df-d659d12b-c030-4fcd-a53a-e54e86073d97 button.colab-df-convert');\n",
              "      buttonEl.style.display =\n",
              "        google.colab.kernel.accessAllowed ? 'block' : 'none';\n",
              "\n",
              "      async function convertToInteractive(key) {\n",
              "        const element = document.querySelector('#df-d659d12b-c030-4fcd-a53a-e54e86073d97');\n",
              "        const dataTable =\n",
              "          await google.colab.kernel.invokeFunction('convertToInteractive',\n",
              "                                                    [key], {});\n",
              "        if (!dataTable) return;\n",
              "\n",
              "        const docLinkHtml = 'Like what you see? Visit the ' +\n",
              "          '<a target=\"_blank\" href=https://colab.research.google.com/notebooks/data_table.ipynb>data table notebook</a>'\n",
              "          + ' to learn more about interactive tables.';\n",
              "        element.innerHTML = '';\n",
              "        dataTable['output_type'] = 'display_data';\n",
              "        await google.colab.output.renderOutput(dataTable, element);\n",
              "        const docLink = document.createElement('div');\n",
              "        docLink.innerHTML = docLinkHtml;\n",
              "        element.appendChild(docLink);\n",
              "      }\n",
              "    </script>\n",
              "  </div>\n",
              "\n",
              "\n",
              "<div id=\"df-e82e2977-0cb5-4a95-b34c-901aa0e10fa7\">\n",
              "  <button class=\"colab-df-quickchart\" onclick=\"quickchart('df-e82e2977-0cb5-4a95-b34c-901aa0e10fa7')\"\n",
              "            title=\"Suggest charts\"\n",
              "            style=\"display:none;\">\n",
              "\n",
              "<svg xmlns=\"http://www.w3.org/2000/svg\" height=\"24px\"viewBox=\"0 0 24 24\"\n",
              "     width=\"24px\">\n",
              "    <g>\n",
              "        <path d=\"M19 3H5c-1.1 0-2 .9-2 2v14c0 1.1.9 2 2 2h14c1.1 0 2-.9 2-2V5c0-1.1-.9-2-2-2zM9 17H7v-7h2v7zm4 0h-2V7h2v10zm4 0h-2v-4h2v4z\"/>\n",
              "    </g>\n",
              "</svg>\n",
              "  </button>\n",
              "\n",
              "<style>\n",
              "  .colab-df-quickchart {\n",
              "      --bg-color: #E8F0FE;\n",
              "      --fill-color: #1967D2;\n",
              "      --hover-bg-color: #E2EBFA;\n",
              "      --hover-fill-color: #174EA6;\n",
              "      --disabled-fill-color: #AAA;\n",
              "      --disabled-bg-color: #DDD;\n",
              "  }\n",
              "\n",
              "  [theme=dark] .colab-df-quickchart {\n",
              "      --bg-color: #3B4455;\n",
              "      --fill-color: #D2E3FC;\n",
              "      --hover-bg-color: #434B5C;\n",
              "      --hover-fill-color: #FFFFFF;\n",
              "      --disabled-bg-color: #3B4455;\n",
              "      --disabled-fill-color: #666;\n",
              "  }\n",
              "\n",
              "  .colab-df-quickchart {\n",
              "    background-color: var(--bg-color);\n",
              "    border: none;\n",
              "    border-radius: 50%;\n",
              "    cursor: pointer;\n",
              "    display: none;\n",
              "    fill: var(--fill-color);\n",
              "    height: 32px;\n",
              "    padding: 0;\n",
              "    width: 32px;\n",
              "  }\n",
              "\n",
              "  .colab-df-quickchart:hover {\n",
              "    background-color: var(--hover-bg-color);\n",
              "    box-shadow: 0 1px 2px rgba(60, 64, 67, 0.3), 0 1px 3px 1px rgba(60, 64, 67, 0.15);\n",
              "    fill: var(--button-hover-fill-color);\n",
              "  }\n",
              "\n",
              "  .colab-df-quickchart-complete:disabled,\n",
              "  .colab-df-quickchart-complete:disabled:hover {\n",
              "    background-color: var(--disabled-bg-color);\n",
              "    fill: var(--disabled-fill-color);\n",
              "    box-shadow: none;\n",
              "  }\n",
              "\n",
              "  .colab-df-spinner {\n",
              "    border: 2px solid var(--fill-color);\n",
              "    border-color: transparent;\n",
              "    border-bottom-color: var(--fill-color);\n",
              "    animation:\n",
              "      spin 1s steps(1) infinite;\n",
              "  }\n",
              "\n",
              "  @keyframes spin {\n",
              "    0% {\n",
              "      border-color: transparent;\n",
              "      border-bottom-color: var(--fill-color);\n",
              "      border-left-color: var(--fill-color);\n",
              "    }\n",
              "    20% {\n",
              "      border-color: transparent;\n",
              "      border-left-color: var(--fill-color);\n",
              "      border-top-color: var(--fill-color);\n",
              "    }\n",
              "    30% {\n",
              "      border-color: transparent;\n",
              "      border-left-color: var(--fill-color);\n",
              "      border-top-color: var(--fill-color);\n",
              "      border-right-color: var(--fill-color);\n",
              "    }\n",
              "    40% {\n",
              "      border-color: transparent;\n",
              "      border-right-color: var(--fill-color);\n",
              "      border-top-color: var(--fill-color);\n",
              "    }\n",
              "    60% {\n",
              "      border-color: transparent;\n",
              "      border-right-color: var(--fill-color);\n",
              "    }\n",
              "    80% {\n",
              "      border-color: transparent;\n",
              "      border-right-color: var(--fill-color);\n",
              "      border-bottom-color: var(--fill-color);\n",
              "    }\n",
              "    90% {\n",
              "      border-color: transparent;\n",
              "      border-bottom-color: var(--fill-color);\n",
              "    }\n",
              "  }\n",
              "</style>\n",
              "\n",
              "  <script>\n",
              "    async function quickchart(key) {\n",
              "      const quickchartButtonEl =\n",
              "        document.querySelector('#' + key + ' button');\n",
              "      quickchartButtonEl.disabled = true;  // To prevent multiple clicks.\n",
              "      quickchartButtonEl.classList.add('colab-df-spinner');\n",
              "      try {\n",
              "        const charts = await google.colab.kernel.invokeFunction(\n",
              "            'suggestCharts', [key], {});\n",
              "      } catch (error) {\n",
              "        console.error('Error during call to suggestCharts:', error);\n",
              "      }\n",
              "      quickchartButtonEl.classList.remove('colab-df-spinner');\n",
              "      quickchartButtonEl.classList.add('colab-df-quickchart-complete');\n",
              "    }\n",
              "    (() => {\n",
              "      let quickchartButtonEl =\n",
              "        document.querySelector('#df-e82e2977-0cb5-4a95-b34c-901aa0e10fa7 button');\n",
              "      quickchartButtonEl.style.display =\n",
              "        google.colab.kernel.accessAllowed ? 'block' : 'none';\n",
              "    })();\n",
              "  </script>\n",
              "</div>\n",
              "\n",
              "  <div id=\"id_f138725a-1ce8-4603-abda-2eacd8acc8f3\">\n",
              "    <style>\n",
              "      .colab-df-generate {\n",
              "        background-color: #E8F0FE;\n",
              "        border: none;\n",
              "        border-radius: 50%;\n",
              "        cursor: pointer;\n",
              "        display: none;\n",
              "        fill: #1967D2;\n",
              "        height: 32px;\n",
              "        padding: 0 0 0 0;\n",
              "        width: 32px;\n",
              "      }\n",
              "\n",
              "      .colab-df-generate:hover {\n",
              "        background-color: #E2EBFA;\n",
              "        box-shadow: 0px 1px 2px rgba(60, 64, 67, 0.3), 0px 1px 3px 1px rgba(60, 64, 67, 0.15);\n",
              "        fill: #174EA6;\n",
              "      }\n",
              "\n",
              "      [theme=dark] .colab-df-generate {\n",
              "        background-color: #3B4455;\n",
              "        fill: #D2E3FC;\n",
              "      }\n",
              "\n",
              "      [theme=dark] .colab-df-generate:hover {\n",
              "        background-color: #434B5C;\n",
              "        box-shadow: 0px 1px 3px 1px rgba(0, 0, 0, 0.15);\n",
              "        filter: drop-shadow(0px 1px 2px rgba(0, 0, 0, 0.3));\n",
              "        fill: #FFFFFF;\n",
              "      }\n",
              "    </style>\n",
              "    <button class=\"colab-df-generate\" onclick=\"generateWithVariable('result_df')\"\n",
              "            title=\"Generate code using this dataframe.\"\n",
              "            style=\"display:none;\">\n",
              "\n",
              "  <svg xmlns=\"http://www.w3.org/2000/svg\" height=\"24px\"viewBox=\"0 0 24 24\"\n",
              "       width=\"24px\">\n",
              "    <path d=\"M7,19H8.4L18.45,9,17,7.55,7,17.6ZM5,21V16.75L18.45,3.32a2,2,0,0,1,2.83,0l1.4,1.43a1.91,1.91,0,0,1,.58,1.4,1.91,1.91,0,0,1-.58,1.4L9.25,21ZM18.45,9,17,7.55Zm-12,3A5.31,5.31,0,0,0,4.9,8.1,5.31,5.31,0,0,0,1,6.5,5.31,5.31,0,0,0,4.9,4.9,5.31,5.31,0,0,0,6.5,1,5.31,5.31,0,0,0,8.1,4.9,5.31,5.31,0,0,0,12,6.5,5.46,5.46,0,0,0,6.5,12Z\"/>\n",
              "  </svg>\n",
              "    </button>\n",
              "    <script>\n",
              "      (() => {\n",
              "      const buttonEl =\n",
              "        document.querySelector('#id_f138725a-1ce8-4603-abda-2eacd8acc8f3 button.colab-df-generate');\n",
              "      buttonEl.style.display =\n",
              "        google.colab.kernel.accessAllowed ? 'block' : 'none';\n",
              "\n",
              "      buttonEl.onclick = () => {\n",
              "        google.colab.notebook.generateWithVariable('result_df');\n",
              "      }\n",
              "      })();\n",
              "    </script>\n",
              "  </div>\n",
              "\n",
              "    </div>\n",
              "  </div>\n"
            ],
            "application/vnd.google.colaboratory.intrinsic+json": {
              "type": "dataframe",
              "variable_name": "result_df",
              "summary": "{\n  \"name\": \"result_df\",\n  \"rows\": 20,\n  \"fields\": [\n    {\n      \"column\": \"x\",\n      \"properties\": {\n        \"dtype\": \"number\",\n        \"std\": 5.90182844103151,\n        \"min\": -9.0,\n        \"max\": 10.0,\n        \"num_unique_values\": 13,\n        \"samples\": [\n          -2.0,\n          1.0,\n          -6.0\n        ],\n        \"semantic_type\": \"\",\n        \"description\": \"\"\n      }\n    },\n    {\n      \"column\": \"y\",\n      \"properties\": {\n        \"dtype\": \"number\",\n        \"std\": 7.667257795670051,\n        \"min\": -14.0,\n        \"max\": 15.0,\n        \"num_unique_values\": 17,\n        \"samples\": [\n          5.0,\n          10.0,\n          15.0\n        ],\n        \"semantic_type\": \"\",\n        \"description\": \"\"\n      }\n    },\n    {\n      \"column\": \"losses\",\n      \"properties\": {\n        \"dtype\": \"number\",\n        \"std\": 154.37960732523817,\n        \"min\": -296.0,\n        \"max\": 284.0,\n        \"num_unique_values\": 20,\n        \"samples\": [\n          -64.0,\n          176.0,\n          -56.0\n        ],\n        \"semantic_type\": \"\",\n        \"description\": \"\"\n      }\n    }\n  ]\n}"
            }
          },
          "metadata": {},
          "execution_count": 22
        }
      ]
    },
    {
      "cell_type": "markdown",
      "source": [
        "### HyperOpt를 이용한 XGBoost 하이퍼 파라미터 최적"
      ],
      "metadata": {
        "id": "oznJns5_BThk"
      }
    },
    {
      "cell_type": "code",
      "source": [
        "# 전체 데이터 중 80%는 학습용 데이터, 20%는 테스트용 데이터 추출\n",
        "X_train, X_test, y_train, y_test=train_test_split(X_features, y_label, test_size=0.2, random_state=156 )\n",
        "\n",
        "# 앞에서 추출한 학습 데이터를 다시 학습과 검증 데이터로 분리\n",
        "X_tr, X_val, y_tr, y_val= train_test_split(X_train, y_train, test_size=0.1, random_state=156 )"
      ],
      "metadata": {
        "id": "DwpvEE8_BMNS"
      },
      "execution_count": 23,
      "outputs": []
    },
    {
      "cell_type": "code",
      "source": [
        "from hyperopt import hp\n",
        "\n",
        "# max_depth는 5에서 20까지 1간격으로, min_child_weight는 1에서 2까지 1간격으로\n",
        "# colsample_bytree는 0.5에서 1 사이, learning_rate는 0.01 에서 0.2 사이 정규 분포된 값으로 검색.\n",
        "xgb_search_space = {'max_depth': hp.quniform('max_depth', 5, 20, 1),\n",
        "                    'min_child_weight': hp.quniform('min_child_weight', 1,2,1),\n",
        "                    'learning_rate': hp.uniform('learning_rate', 0.01, 0.2),\n",
        "                    'colsample_bytree': hp.uniform('colsample_bytree', 0.5, 1),\n",
        "                    }"
      ],
      "metadata": {
        "id": "4sfBSaHVBQjY"
      },
      "execution_count": 24,
      "outputs": []
    },
    {
      "cell_type": "code",
      "source": [
        "from sklearn.model_selection import cross_val_score\n",
        "from xgboost import XGBClassifier\n",
        "from hyperopt import STATUS_OK\n",
        "\n",
        "# fmin()에서 입력된 search_space 값으로 입력된 모든 값은 실수형임.\n",
        "# XGBClassifier의 정수형 하이퍼 파라미터는 정수형 변환을 해줘야 함.\n",
        "# 정확도는 높을수록 더 좋은 수치임. -1 * 정확도를 곱해서 큰 정확도 값일수록 최소가 되도록 변환\n",
        "def objective_func(search_space):\n",
        "    # 수행 시간 절약을 위해 n_estimators는 100으로 축소\n",
        "    xgb_clf = XGBClassifier(n_estimators=100,\n",
        "                            max_depth=int(search_space['max_depth']),\n",
        "                            min_child_weight=int(search_space['min_child_weight']),\n",
        "                            learning_rate=search_space['learning_rate'],\n",
        "                            colsample_bytree=search_space['colsample_bytree'],\n",
        "                            eval_metric='logloss')\n",
        "    accuracy = cross_val_score(xgb_clf, X_train, y_train, scoring='accuracy', cv=3)\n",
        "\n",
        "    # accuracy는 cv=3 개수만큼 roc-auc 결과를 리스트로 가짐. 이를 평균해서 반환하되 -1을 곱함.\n",
        "    return {'loss': -1 * np.mean(accuracy), 'status': STATUS_OK}"
      ],
      "metadata": {
        "id": "uFnhupMBBfP2"
      },
      "execution_count": 25,
      "outputs": []
    },
    {
      "cell_type": "code",
      "source": [
        "# fmin()을 이용해 최적 하이퍼 파라미터를 도출\n",
        "from hyperopt import fmin, tpe, Trials\n",
        "\n",
        "trial_val = Trials()\n",
        "best = fmin(fn=objective_func,\n",
        "            space=xgb_search_space,\n",
        "            algo=tpe.suggest,\n",
        "            max_evals=50, # 최대 반복 횟수를 지정합니다.\n",
        "            trials=trial_val, rstate=np.random.default_rng(seed=9))\n",
        "print('best:', best)\n"
      ],
      "metadata": {
        "colab": {
          "base_uri": "https://localhost:8080/"
        },
        "id": "aEyeQZPuBkPE",
        "outputId": "4cd109f6-49d1-4314-d1dc-200f61612be8"
      },
      "execution_count": 26,
      "outputs": [
        {
          "output_type": "stream",
          "name": "stdout",
          "text": [
            "100%|██████████| 50/50 [00:56<00:00,  1.13s/trial, best loss: -0.9670616939700244]\n",
            "best: {'colsample_bytree': 0.5026505409854508, 'learning_rate': 0.19828428817109603, 'max_depth': 15.0, 'min_child_weight': 1.0}\n"
          ]
        }
      ]
    },
    {
      "cell_type": "code",
      "source": [
        "# fmin()으로 추출된 최적 하이퍼 파라미터를 직접 XGBClassifier에 인자로 입력하기 전에\n",
        "# 정수형 하이퍼 파라미터는 정수형으로 형 변환을, 실수형 하이퍼 파라미터는 소수점 5자리까지만 변환\n",
        "\n",
        "print('cosample_bytree:{0}, learning_rate:{1}, max_depth:{2}, min_child_weight:{3}'.format(round(best['colsample_bytree'], 5),round(best['learning_rate'], 5),int(best['max_depth']),int(best['min_child_weight'])))"
      ],
      "metadata": {
        "colab": {
          "base_uri": "https://localhost:8080/"
        },
        "id": "wTu508DgBnDy",
        "outputId": "3374513f-9442-4caa-efa8-ef22085d03f7"
      },
      "execution_count": 27,
      "outputs": [
        {
          "output_type": "stream",
          "name": "stdout",
          "text": [
            "cosample_bytree:0.50265, learning_rate:0.19828, max_depth:15, min_child_weight:1\n"
          ]
        }
      ]
    },
    {
      "cell_type": "code",
      "source": [
        "# 도출된 최적 하이퍼 파라미터들을 이용해서 XGBClassifier를 재학습\n",
        "# XGBoost의 조기 중단을 검증 데이터 세트로 활용하며 n_estimators는 400으로 증가.\n",
        "\n",
        "xgb_wrapper = XGBClassifier(n_estimators=400,\n",
        "                            learning_rate=round(best['learning_rate'], 5),\n",
        "                            max_depth=int(best['max_depth']),\n",
        "                            min_child_weight=int(best['min_child_weight']),\n",
        "                            colsample_bytree=round(best['colsample_bytree'],5),\n",
        "                            eval_metric='logloss',\n",
        "                            early_stopping_rounds=50,\n",
        "                            verbose=True\n",
        ")\n",
        "\n",
        "evals = [(X_tr, y_tr), (X_val, y_val)]\n",
        "xgb_wrapper.fit(X_tr, y_tr, eval_set=evals)\n",
        "preds = xgb_wrapper.predict(X_test)\n",
        "pred_proba = xgb_wrapper.predict_proba(X_test)[:, 1]\n",
        "\n",
        "get_clf_eval(y_test, preds, pred_proba)"
      ],
      "metadata": {
        "colab": {
          "base_uri": "https://localhost:8080/"
        },
        "id": "f-6rc4gSBrh5",
        "outputId": "d454f9f0-1506-4b39-e0e7-47dcc3c7519d"
      },
      "execution_count": 28,
      "outputs": [
        {
          "output_type": "stream",
          "name": "stdout",
          "text": [
            "[0]\tvalidation_0-logloss:0.51230\tvalidation_1-logloss:0.55948\n",
            "[1]\tvalidation_0-logloss:0.40697\tvalidation_1-logloss:0.47575\n",
            "[2]\tvalidation_0-logloss:0.32809\tvalidation_1-logloss:0.41760\n",
            "[3]\tvalidation_0-logloss:0.27049\tvalidation_1-logloss:0.37988\n",
            "[4]\tvalidation_0-logloss:0.22671\tvalidation_1-logloss:0.34438\n",
            "[5]\tvalidation_0-logloss:0.19305\tvalidation_1-logloss:0.31788\n",
            "[6]\tvalidation_0-logloss:0.16589\tvalidation_1-logloss:0.30717\n",
            "[7]\tvalidation_0-logloss:0.14300\tvalidation_1-logloss:0.30056\n",
            "[8]\tvalidation_0-logloss:0.12355\tvalidation_1-logloss:0.29707\n",
            "[9]\tvalidation_0-logloss:0.10737\tvalidation_1-logloss:0.28298\n",
            "[10]\tvalidation_0-logloss:0.09355\tvalidation_1-logloss:0.26801\n",
            "[11]\tvalidation_0-logloss:0.08250\tvalidation_1-logloss:0.26738\n",
            "[12]\tvalidation_0-logloss:0.07357\tvalidation_1-logloss:0.26220\n",
            "[13]\tvalidation_0-logloss:0.06572\tvalidation_1-logloss:0.26240\n",
            "[14]\tvalidation_0-logloss:0.05892\tvalidation_1-logloss:0.25570\n",
            "[15]\tvalidation_0-logloss:0.05247\tvalidation_1-logloss:0.25186\n"
          ]
        },
        {
          "output_type": "stream",
          "name": "stderr",
          "text": [
            "/usr/local/lib/python3.10/dist-packages/xgboost/core.py:158: UserWarning: [03:16:51] WARNING: /workspace/src/learner.cc:740: \n",
            "Parameters: { \"verbose\" } are not used.\n",
            "\n",
            "  warnings.warn(smsg, UserWarning)\n"
          ]
        },
        {
          "output_type": "stream",
          "name": "stdout",
          "text": [
            "[16]\tvalidation_0-logloss:0.04804\tvalidation_1-logloss:0.24924\n",
            "[17]\tvalidation_0-logloss:0.04336\tvalidation_1-logloss:0.24016\n",
            "[18]\tvalidation_0-logloss:0.03953\tvalidation_1-logloss:0.23794\n",
            "[19]\tvalidation_0-logloss:0.03585\tvalidation_1-logloss:0.23625\n",
            "[20]\tvalidation_0-logloss:0.03349\tvalidation_1-logloss:0.24089\n",
            "[21]\tvalidation_0-logloss:0.03109\tvalidation_1-logloss:0.24096\n",
            "[22]\tvalidation_0-logloss:0.02906\tvalidation_1-logloss:0.23890\n",
            "[23]\tvalidation_0-logloss:0.02701\tvalidation_1-logloss:0.23431\n",
            "[24]\tvalidation_0-logloss:0.02513\tvalidation_1-logloss:0.23567\n",
            "[25]\tvalidation_0-logloss:0.02375\tvalidation_1-logloss:0.23843\n",
            "[26]\tvalidation_0-logloss:0.02229\tvalidation_1-logloss:0.23880\n",
            "[27]\tvalidation_0-logloss:0.02098\tvalidation_1-logloss:0.23900\n",
            "[28]\tvalidation_0-logloss:0.01996\tvalidation_1-logloss:0.24129\n",
            "[29]\tvalidation_0-logloss:0.01901\tvalidation_1-logloss:0.24613\n",
            "[30]\tvalidation_0-logloss:0.01827\tvalidation_1-logloss:0.24397\n",
            "[31]\tvalidation_0-logloss:0.01751\tvalidation_1-logloss:0.24354\n",
            "[32]\tvalidation_0-logloss:0.01677\tvalidation_1-logloss:0.24160\n",
            "[33]\tvalidation_0-logloss:0.01621\tvalidation_1-logloss:0.24284\n",
            "[34]\tvalidation_0-logloss:0.01556\tvalidation_1-logloss:0.23844\n",
            "[35]\tvalidation_0-logloss:0.01516\tvalidation_1-logloss:0.24074\n",
            "[36]\tvalidation_0-logloss:0.01461\tvalidation_1-logloss:0.23999\n",
            "[37]\tvalidation_0-logloss:0.01412\tvalidation_1-logloss:0.24243\n",
            "[38]\tvalidation_0-logloss:0.01354\tvalidation_1-logloss:0.23580\n",
            "[39]\tvalidation_0-logloss:0.01313\tvalidation_1-logloss:0.23495\n",
            "[40]\tvalidation_0-logloss:0.01287\tvalidation_1-logloss:0.23428\n",
            "[41]\tvalidation_0-logloss:0.01249\tvalidation_1-logloss:0.23484\n",
            "[42]\tvalidation_0-logloss:0.01216\tvalidation_1-logloss:0.23558\n",
            "[43]\tvalidation_0-logloss:0.01194\tvalidation_1-logloss:0.23581\n",
            "[44]\tvalidation_0-logloss:0.01172\tvalidation_1-logloss:0.23402\n",
            "[45]\tvalidation_0-logloss:0.01143\tvalidation_1-logloss:0.23277\n",
            "[46]\tvalidation_0-logloss:0.01123\tvalidation_1-logloss:0.23363\n",
            "[47]\tvalidation_0-logloss:0.01097\tvalidation_1-logloss:0.23119\n",
            "[48]\tvalidation_0-logloss:0.01080\tvalidation_1-logloss:0.23286\n",
            "[49]\tvalidation_0-logloss:0.01069\tvalidation_1-logloss:0.23160\n",
            "[50]\tvalidation_0-logloss:0.01052\tvalidation_1-logloss:0.23009\n",
            "[51]\tvalidation_0-logloss:0.01026\tvalidation_1-logloss:0.23160\n",
            "[52]\tvalidation_0-logloss:0.01005\tvalidation_1-logloss:0.23238\n",
            "[53]\tvalidation_0-logloss:0.00991\tvalidation_1-logloss:0.23352\n",
            "[54]\tvalidation_0-logloss:0.00981\tvalidation_1-logloss:0.23231\n",
            "[55]\tvalidation_0-logloss:0.00973\tvalidation_1-logloss:0.23180\n",
            "[56]\tvalidation_0-logloss:0.00954\tvalidation_1-logloss:0.22916\n",
            "[57]\tvalidation_0-logloss:0.00941\tvalidation_1-logloss:0.23144\n",
            "[58]\tvalidation_0-logloss:0.00933\tvalidation_1-logloss:0.23041\n",
            "[59]\tvalidation_0-logloss:0.00922\tvalidation_1-logloss:0.23154\n",
            "[60]\tvalidation_0-logloss:0.00914\tvalidation_1-logloss:0.23107\n",
            "[61]\tvalidation_0-logloss:0.00898\tvalidation_1-logloss:0.23182\n",
            "[62]\tvalidation_0-logloss:0.00888\tvalidation_1-logloss:0.23351\n",
            "[63]\tvalidation_0-logloss:0.00875\tvalidation_1-logloss:0.23468\n",
            "[64]\tvalidation_0-logloss:0.00858\tvalidation_1-logloss:0.23451\n",
            "[65]\tvalidation_0-logloss:0.00846\tvalidation_1-logloss:0.23316\n",
            "[66]\tvalidation_0-logloss:0.00841\tvalidation_1-logloss:0.23292\n",
            "[67]\tvalidation_0-logloss:0.00835\tvalidation_1-logloss:0.23503\n",
            "[68]\tvalidation_0-logloss:0.00830\tvalidation_1-logloss:0.23589\n",
            "[69]\tvalidation_0-logloss:0.00824\tvalidation_1-logloss:0.23490\n",
            "[70]\tvalidation_0-logloss:0.00818\tvalidation_1-logloss:0.23450\n",
            "[71]\tvalidation_0-logloss:0.00812\tvalidation_1-logloss:0.23649\n",
            "[72]\tvalidation_0-logloss:0.00807\tvalidation_1-logloss:0.23557\n",
            "[73]\tvalidation_0-logloss:0.00801\tvalidation_1-logloss:0.23616\n",
            "[74]\tvalidation_0-logloss:0.00796\tvalidation_1-logloss:0.23806\n",
            "[75]\tvalidation_0-logloss:0.00792\tvalidation_1-logloss:0.23766\n",
            "[76]\tvalidation_0-logloss:0.00787\tvalidation_1-logloss:0.23945\n",
            "[77]\tvalidation_0-logloss:0.00783\tvalidation_1-logloss:0.23856\n",
            "[78]\tvalidation_0-logloss:0.00778\tvalidation_1-logloss:0.23821\n",
            "[79]\tvalidation_0-logloss:0.00774\tvalidation_1-logloss:0.23795\n",
            "[80]\tvalidation_0-logloss:0.00770\tvalidation_1-logloss:0.23964\n",
            "[81]\tvalidation_0-logloss:0.00766\tvalidation_1-logloss:0.23885\n",
            "[82]\tvalidation_0-logloss:0.00762\tvalidation_1-logloss:0.23857\n",
            "[83]\tvalidation_0-logloss:0.00758\tvalidation_1-logloss:0.23822\n",
            "[84]\tvalidation_0-logloss:0.00753\tvalidation_1-logloss:0.24005\n",
            "[85]\tvalidation_0-logloss:0.00749\tvalidation_1-logloss:0.23889\n",
            "[86]\tvalidation_0-logloss:0.00746\tvalidation_1-logloss:0.23853\n",
            "[87]\tvalidation_0-logloss:0.00742\tvalidation_1-logloss:0.23649\n",
            "[88]\tvalidation_0-logloss:0.00739\tvalidation_1-logloss:0.23730\n",
            "[89]\tvalidation_0-logloss:0.00735\tvalidation_1-logloss:0.23703\n",
            "[90]\tvalidation_0-logloss:0.00732\tvalidation_1-logloss:0.23682\n",
            "[91]\tvalidation_0-logloss:0.00728\tvalidation_1-logloss:0.23717\n",
            "[92]\tvalidation_0-logloss:0.00724\tvalidation_1-logloss:0.23642\n",
            "[93]\tvalidation_0-logloss:0.00721\tvalidation_1-logloss:0.23675\n",
            "[94]\tvalidation_0-logloss:0.00718\tvalidation_1-logloss:0.23585\n",
            "[95]\tvalidation_0-logloss:0.00715\tvalidation_1-logloss:0.23742\n",
            "[96]\tvalidation_0-logloss:0.00712\tvalidation_1-logloss:0.23708\n",
            "[97]\tvalidation_0-logloss:0.00709\tvalidation_1-logloss:0.23641\n",
            "[98]\tvalidation_0-logloss:0.00706\tvalidation_1-logloss:0.23615\n",
            "[99]\tvalidation_0-logloss:0.00703\tvalidation_1-logloss:0.23691\n",
            "[100]\tvalidation_0-logloss:0.00701\tvalidation_1-logloss:0.23498\n",
            "[101]\tvalidation_0-logloss:0.00698\tvalidation_1-logloss:0.23439\n",
            "[102]\tvalidation_0-logloss:0.00695\tvalidation_1-logloss:0.23590\n",
            "[103]\tvalidation_0-logloss:0.00692\tvalidation_1-logloss:0.23560\n",
            "[104]\tvalidation_0-logloss:0.00690\tvalidation_1-logloss:0.23531\n",
            "[105]\tvalidation_0-logloss:0.00688\tvalidation_1-logloss:0.23506\n",
            "[106]\tvalidation_0-logloss:0.00685\tvalidation_1-logloss:0.23634\n",
            "오차 행렬\n",
            "[[34  3]\n",
            " [ 3 74]]\n",
            "정확도: 0.9474, 정밀도: 0.9610, 재현율: 0.9610, F1:0.9610, AUC:0.9923\n"
          ]
        }
      ]
    },
    {
      "cell_type": "code",
      "source": [
        "import numpy as np\n",
        "\n",
        "from sklearn.neighbors import KNeighborsClassifier\n",
        "from sklearn.ensemble import RandomForestClassifier\n",
        "from sklearn.ensemble import AdaBoostClassifier\n",
        "from sklearn.tree import DecisionTreeClassifier\n",
        "from sklearn.linear_model import LogisticRegression\n",
        "\n",
        "from sklearn.datasets import load_breast_cancer\n",
        "from sklearn.model_selection import train_test_split\n",
        "from sklearn.metrics import accuracy_score\n",
        "\n",
        "cancer_data = load_breast_cancer()\n",
        "\n",
        "X_data = cancer_data.data\n",
        "y_label = cancer_data.target\n",
        "\n",
        "X_train, X_test, y_train, y_test = train_test_split(X_data, y_label, test_size=0.2, random_state=0)"
      ],
      "metadata": {
        "id": "Eh2___NWBuK3"
      },
      "execution_count": 29,
      "outputs": []
    },
    {
      "cell_type": "code",
      "source": [
        "# 개별 ML 모델 생성\n",
        "knn_clf = KNeighborsClassifier(n_neighbors=4)\n",
        "rf_clf = RandomForestClassifier(n_estimators=100, random_state=0)\n",
        "dt_clf = DecisionTreeClassifier()\n",
        "ada_clf = AdaBoostClassifier(n_estimators=100)\n",
        "\n",
        "# 스태킹으로 만들어진 데이터 세트를 학습, 예측할 최종 모델\n",
        "lr_final = LogisticRegression() # 로지스틱 회귀 모델"
      ],
      "metadata": {
        "id": "9YqjuxR4Bx6m"
      },
      "execution_count": 30,
      "outputs": []
    },
    {
      "cell_type": "code",
      "source": [
        "# 개별 모델들을 학습.\n",
        "knn_clf.fit(X_train, y_train)\n",
        "rf_clf.fit(X_train, y_train)\n",
        "dt_clf.fit(X_train, y_train)\n",
        "ada_clf.fit(X_train, y_train)"
      ],
      "metadata": {
        "colab": {
          "base_uri": "https://localhost:8080/",
          "height": 136
        },
        "id": "_wo-EjqEBzw0",
        "outputId": "505236c2-40b5-415a-d128-a9fd2f611475"
      },
      "execution_count": 32,
      "outputs": [
        {
          "output_type": "stream",
          "name": "stderr",
          "text": [
            "/usr/local/lib/python3.10/dist-packages/sklearn/ensemble/_weight_boosting.py:527: FutureWarning: The SAMME.R algorithm (the default) is deprecated and will be removed in 1.6. Use the SAMME algorithm to circumvent this warning.\n",
            "  warnings.warn(\n"
          ]
        },
        {
          "output_type": "execute_result",
          "data": {
            "text/plain": [
              "AdaBoostClassifier(n_estimators=100)"
            ],
            "text/html": [
              "<style>#sk-container-id-2 {\n",
              "  /* Definition of color scheme common for light and dark mode */\n",
              "  --sklearn-color-text: black;\n",
              "  --sklearn-color-line: gray;\n",
              "  /* Definition of color scheme for unfitted estimators */\n",
              "  --sklearn-color-unfitted-level-0: #fff5e6;\n",
              "  --sklearn-color-unfitted-level-1: #f6e4d2;\n",
              "  --sklearn-color-unfitted-level-2: #ffe0b3;\n",
              "  --sklearn-color-unfitted-level-3: chocolate;\n",
              "  /* Definition of color scheme for fitted estimators */\n",
              "  --sklearn-color-fitted-level-0: #f0f8ff;\n",
              "  --sklearn-color-fitted-level-1: #d4ebff;\n",
              "  --sklearn-color-fitted-level-2: #b3dbfd;\n",
              "  --sklearn-color-fitted-level-3: cornflowerblue;\n",
              "\n",
              "  /* Specific color for light theme */\n",
              "  --sklearn-color-text-on-default-background: var(--sg-text-color, var(--theme-code-foreground, var(--jp-content-font-color1, black)));\n",
              "  --sklearn-color-background: var(--sg-background-color, var(--theme-background, var(--jp-layout-color0, white)));\n",
              "  --sklearn-color-border-box: var(--sg-text-color, var(--theme-code-foreground, var(--jp-content-font-color1, black)));\n",
              "  --sklearn-color-icon: #696969;\n",
              "\n",
              "  @media (prefers-color-scheme: dark) {\n",
              "    /* Redefinition of color scheme for dark theme */\n",
              "    --sklearn-color-text-on-default-background: var(--sg-text-color, var(--theme-code-foreground, var(--jp-content-font-color1, white)));\n",
              "    --sklearn-color-background: var(--sg-background-color, var(--theme-background, var(--jp-layout-color0, #111)));\n",
              "    --sklearn-color-border-box: var(--sg-text-color, var(--theme-code-foreground, var(--jp-content-font-color1, white)));\n",
              "    --sklearn-color-icon: #878787;\n",
              "  }\n",
              "}\n",
              "\n",
              "#sk-container-id-2 {\n",
              "  color: var(--sklearn-color-text);\n",
              "}\n",
              "\n",
              "#sk-container-id-2 pre {\n",
              "  padding: 0;\n",
              "}\n",
              "\n",
              "#sk-container-id-2 input.sk-hidden--visually {\n",
              "  border: 0;\n",
              "  clip: rect(1px 1px 1px 1px);\n",
              "  clip: rect(1px, 1px, 1px, 1px);\n",
              "  height: 1px;\n",
              "  margin: -1px;\n",
              "  overflow: hidden;\n",
              "  padding: 0;\n",
              "  position: absolute;\n",
              "  width: 1px;\n",
              "}\n",
              "\n",
              "#sk-container-id-2 div.sk-dashed-wrapped {\n",
              "  border: 1px dashed var(--sklearn-color-line);\n",
              "  margin: 0 0.4em 0.5em 0.4em;\n",
              "  box-sizing: border-box;\n",
              "  padding-bottom: 0.4em;\n",
              "  background-color: var(--sklearn-color-background);\n",
              "}\n",
              "\n",
              "#sk-container-id-2 div.sk-container {\n",
              "  /* jupyter's `normalize.less` sets `[hidden] { display: none; }`\n",
              "     but bootstrap.min.css set `[hidden] { display: none !important; }`\n",
              "     so we also need the `!important` here to be able to override the\n",
              "     default hidden behavior on the sphinx rendered scikit-learn.org.\n",
              "     See: https://github.com/scikit-learn/scikit-learn/issues/21755 */\n",
              "  display: inline-block !important;\n",
              "  position: relative;\n",
              "}\n",
              "\n",
              "#sk-container-id-2 div.sk-text-repr-fallback {\n",
              "  display: none;\n",
              "}\n",
              "\n",
              "div.sk-parallel-item,\n",
              "div.sk-serial,\n",
              "div.sk-item {\n",
              "  /* draw centered vertical line to link estimators */\n",
              "  background-image: linear-gradient(var(--sklearn-color-text-on-default-background), var(--sklearn-color-text-on-default-background));\n",
              "  background-size: 2px 100%;\n",
              "  background-repeat: no-repeat;\n",
              "  background-position: center center;\n",
              "}\n",
              "\n",
              "/* Parallel-specific style estimator block */\n",
              "\n",
              "#sk-container-id-2 div.sk-parallel-item::after {\n",
              "  content: \"\";\n",
              "  width: 100%;\n",
              "  border-bottom: 2px solid var(--sklearn-color-text-on-default-background);\n",
              "  flex-grow: 1;\n",
              "}\n",
              "\n",
              "#sk-container-id-2 div.sk-parallel {\n",
              "  display: flex;\n",
              "  align-items: stretch;\n",
              "  justify-content: center;\n",
              "  background-color: var(--sklearn-color-background);\n",
              "  position: relative;\n",
              "}\n",
              "\n",
              "#sk-container-id-2 div.sk-parallel-item {\n",
              "  display: flex;\n",
              "  flex-direction: column;\n",
              "}\n",
              "\n",
              "#sk-container-id-2 div.sk-parallel-item:first-child::after {\n",
              "  align-self: flex-end;\n",
              "  width: 50%;\n",
              "}\n",
              "\n",
              "#sk-container-id-2 div.sk-parallel-item:last-child::after {\n",
              "  align-self: flex-start;\n",
              "  width: 50%;\n",
              "}\n",
              "\n",
              "#sk-container-id-2 div.sk-parallel-item:only-child::after {\n",
              "  width: 0;\n",
              "}\n",
              "\n",
              "/* Serial-specific style estimator block */\n",
              "\n",
              "#sk-container-id-2 div.sk-serial {\n",
              "  display: flex;\n",
              "  flex-direction: column;\n",
              "  align-items: center;\n",
              "  background-color: var(--sklearn-color-background);\n",
              "  padding-right: 1em;\n",
              "  padding-left: 1em;\n",
              "}\n",
              "\n",
              "\n",
              "/* Toggleable style: style used for estimator/Pipeline/ColumnTransformer box that is\n",
              "clickable and can be expanded/collapsed.\n",
              "- Pipeline and ColumnTransformer use this feature and define the default style\n",
              "- Estimators will overwrite some part of the style using the `sk-estimator` class\n",
              "*/\n",
              "\n",
              "/* Pipeline and ColumnTransformer style (default) */\n",
              "\n",
              "#sk-container-id-2 div.sk-toggleable {\n",
              "  /* Default theme specific background. It is overwritten whether we have a\n",
              "  specific estimator or a Pipeline/ColumnTransformer */\n",
              "  background-color: var(--sklearn-color-background);\n",
              "}\n",
              "\n",
              "/* Toggleable label */\n",
              "#sk-container-id-2 label.sk-toggleable__label {\n",
              "  cursor: pointer;\n",
              "  display: block;\n",
              "  width: 100%;\n",
              "  margin-bottom: 0;\n",
              "  padding: 0.5em;\n",
              "  box-sizing: border-box;\n",
              "  text-align: center;\n",
              "}\n",
              "\n",
              "#sk-container-id-2 label.sk-toggleable__label-arrow:before {\n",
              "  /* Arrow on the left of the label */\n",
              "  content: \"▸\";\n",
              "  float: left;\n",
              "  margin-right: 0.25em;\n",
              "  color: var(--sklearn-color-icon);\n",
              "}\n",
              "\n",
              "#sk-container-id-2 label.sk-toggleable__label-arrow:hover:before {\n",
              "  color: var(--sklearn-color-text);\n",
              "}\n",
              "\n",
              "/* Toggleable content - dropdown */\n",
              "\n",
              "#sk-container-id-2 div.sk-toggleable__content {\n",
              "  max-height: 0;\n",
              "  max-width: 0;\n",
              "  overflow: hidden;\n",
              "  text-align: left;\n",
              "  /* unfitted */\n",
              "  background-color: var(--sklearn-color-unfitted-level-0);\n",
              "}\n",
              "\n",
              "#sk-container-id-2 div.sk-toggleable__content.fitted {\n",
              "  /* fitted */\n",
              "  background-color: var(--sklearn-color-fitted-level-0);\n",
              "}\n",
              "\n",
              "#sk-container-id-2 div.sk-toggleable__content pre {\n",
              "  margin: 0.2em;\n",
              "  border-radius: 0.25em;\n",
              "  color: var(--sklearn-color-text);\n",
              "  /* unfitted */\n",
              "  background-color: var(--sklearn-color-unfitted-level-0);\n",
              "}\n",
              "\n",
              "#sk-container-id-2 div.sk-toggleable__content.fitted pre {\n",
              "  /* unfitted */\n",
              "  background-color: var(--sklearn-color-fitted-level-0);\n",
              "}\n",
              "\n",
              "#sk-container-id-2 input.sk-toggleable__control:checked~div.sk-toggleable__content {\n",
              "  /* Expand drop-down */\n",
              "  max-height: 200px;\n",
              "  max-width: 100%;\n",
              "  overflow: auto;\n",
              "}\n",
              "\n",
              "#sk-container-id-2 input.sk-toggleable__control:checked~label.sk-toggleable__label-arrow:before {\n",
              "  content: \"▾\";\n",
              "}\n",
              "\n",
              "/* Pipeline/ColumnTransformer-specific style */\n",
              "\n",
              "#sk-container-id-2 div.sk-label input.sk-toggleable__control:checked~label.sk-toggleable__label {\n",
              "  color: var(--sklearn-color-text);\n",
              "  background-color: var(--sklearn-color-unfitted-level-2);\n",
              "}\n",
              "\n",
              "#sk-container-id-2 div.sk-label.fitted input.sk-toggleable__control:checked~label.sk-toggleable__label {\n",
              "  background-color: var(--sklearn-color-fitted-level-2);\n",
              "}\n",
              "\n",
              "/* Estimator-specific style */\n",
              "\n",
              "/* Colorize estimator box */\n",
              "#sk-container-id-2 div.sk-estimator input.sk-toggleable__control:checked~label.sk-toggleable__label {\n",
              "  /* unfitted */\n",
              "  background-color: var(--sklearn-color-unfitted-level-2);\n",
              "}\n",
              "\n",
              "#sk-container-id-2 div.sk-estimator.fitted input.sk-toggleable__control:checked~label.sk-toggleable__label {\n",
              "  /* fitted */\n",
              "  background-color: var(--sklearn-color-fitted-level-2);\n",
              "}\n",
              "\n",
              "#sk-container-id-2 div.sk-label label.sk-toggleable__label,\n",
              "#sk-container-id-2 div.sk-label label {\n",
              "  /* The background is the default theme color */\n",
              "  color: var(--sklearn-color-text-on-default-background);\n",
              "}\n",
              "\n",
              "/* On hover, darken the color of the background */\n",
              "#sk-container-id-2 div.sk-label:hover label.sk-toggleable__label {\n",
              "  color: var(--sklearn-color-text);\n",
              "  background-color: var(--sklearn-color-unfitted-level-2);\n",
              "}\n",
              "\n",
              "/* Label box, darken color on hover, fitted */\n",
              "#sk-container-id-2 div.sk-label.fitted:hover label.sk-toggleable__label.fitted {\n",
              "  color: var(--sklearn-color-text);\n",
              "  background-color: var(--sklearn-color-fitted-level-2);\n",
              "}\n",
              "\n",
              "/* Estimator label */\n",
              "\n",
              "#sk-container-id-2 div.sk-label label {\n",
              "  font-family: monospace;\n",
              "  font-weight: bold;\n",
              "  display: inline-block;\n",
              "  line-height: 1.2em;\n",
              "}\n",
              "\n",
              "#sk-container-id-2 div.sk-label-container {\n",
              "  text-align: center;\n",
              "}\n",
              "\n",
              "/* Estimator-specific */\n",
              "#sk-container-id-2 div.sk-estimator {\n",
              "  font-family: monospace;\n",
              "  border: 1px dotted var(--sklearn-color-border-box);\n",
              "  border-radius: 0.25em;\n",
              "  box-sizing: border-box;\n",
              "  margin-bottom: 0.5em;\n",
              "  /* unfitted */\n",
              "  background-color: var(--sklearn-color-unfitted-level-0);\n",
              "}\n",
              "\n",
              "#sk-container-id-2 div.sk-estimator.fitted {\n",
              "  /* fitted */\n",
              "  background-color: var(--sklearn-color-fitted-level-0);\n",
              "}\n",
              "\n",
              "/* on hover */\n",
              "#sk-container-id-2 div.sk-estimator:hover {\n",
              "  /* unfitted */\n",
              "  background-color: var(--sklearn-color-unfitted-level-2);\n",
              "}\n",
              "\n",
              "#sk-container-id-2 div.sk-estimator.fitted:hover {\n",
              "  /* fitted */\n",
              "  background-color: var(--sklearn-color-fitted-level-2);\n",
              "}\n",
              "\n",
              "/* Specification for estimator info (e.g. \"i\" and \"?\") */\n",
              "\n",
              "/* Common style for \"i\" and \"?\" */\n",
              "\n",
              ".sk-estimator-doc-link,\n",
              "a:link.sk-estimator-doc-link,\n",
              "a:visited.sk-estimator-doc-link {\n",
              "  float: right;\n",
              "  font-size: smaller;\n",
              "  line-height: 1em;\n",
              "  font-family: monospace;\n",
              "  background-color: var(--sklearn-color-background);\n",
              "  border-radius: 1em;\n",
              "  height: 1em;\n",
              "  width: 1em;\n",
              "  text-decoration: none !important;\n",
              "  margin-left: 1ex;\n",
              "  /* unfitted */\n",
              "  border: var(--sklearn-color-unfitted-level-1) 1pt solid;\n",
              "  color: var(--sklearn-color-unfitted-level-1);\n",
              "}\n",
              "\n",
              ".sk-estimator-doc-link.fitted,\n",
              "a:link.sk-estimator-doc-link.fitted,\n",
              "a:visited.sk-estimator-doc-link.fitted {\n",
              "  /* fitted */\n",
              "  border: var(--sklearn-color-fitted-level-1) 1pt solid;\n",
              "  color: var(--sklearn-color-fitted-level-1);\n",
              "}\n",
              "\n",
              "/* On hover */\n",
              "div.sk-estimator:hover .sk-estimator-doc-link:hover,\n",
              ".sk-estimator-doc-link:hover,\n",
              "div.sk-label-container:hover .sk-estimator-doc-link:hover,\n",
              ".sk-estimator-doc-link:hover {\n",
              "  /* unfitted */\n",
              "  background-color: var(--sklearn-color-unfitted-level-3);\n",
              "  color: var(--sklearn-color-background);\n",
              "  text-decoration: none;\n",
              "}\n",
              "\n",
              "div.sk-estimator.fitted:hover .sk-estimator-doc-link.fitted:hover,\n",
              ".sk-estimator-doc-link.fitted:hover,\n",
              "div.sk-label-container:hover .sk-estimator-doc-link.fitted:hover,\n",
              ".sk-estimator-doc-link.fitted:hover {\n",
              "  /* fitted */\n",
              "  background-color: var(--sklearn-color-fitted-level-3);\n",
              "  color: var(--sklearn-color-background);\n",
              "  text-decoration: none;\n",
              "}\n",
              "\n",
              "/* Span, style for the box shown on hovering the info icon */\n",
              ".sk-estimator-doc-link span {\n",
              "  display: none;\n",
              "  z-index: 9999;\n",
              "  position: relative;\n",
              "  font-weight: normal;\n",
              "  right: .2ex;\n",
              "  padding: .5ex;\n",
              "  margin: .5ex;\n",
              "  width: min-content;\n",
              "  min-width: 20ex;\n",
              "  max-width: 50ex;\n",
              "  color: var(--sklearn-color-text);\n",
              "  box-shadow: 2pt 2pt 4pt #999;\n",
              "  /* unfitted */\n",
              "  background: var(--sklearn-color-unfitted-level-0);\n",
              "  border: .5pt solid var(--sklearn-color-unfitted-level-3);\n",
              "}\n",
              "\n",
              ".sk-estimator-doc-link.fitted span {\n",
              "  /* fitted */\n",
              "  background: var(--sklearn-color-fitted-level-0);\n",
              "  border: var(--sklearn-color-fitted-level-3);\n",
              "}\n",
              "\n",
              ".sk-estimator-doc-link:hover span {\n",
              "  display: block;\n",
              "}\n",
              "\n",
              "/* \"?\"-specific style due to the `<a>` HTML tag */\n",
              "\n",
              "#sk-container-id-2 a.estimator_doc_link {\n",
              "  float: right;\n",
              "  font-size: 1rem;\n",
              "  line-height: 1em;\n",
              "  font-family: monospace;\n",
              "  background-color: var(--sklearn-color-background);\n",
              "  border-radius: 1rem;\n",
              "  height: 1rem;\n",
              "  width: 1rem;\n",
              "  text-decoration: none;\n",
              "  /* unfitted */\n",
              "  color: var(--sklearn-color-unfitted-level-1);\n",
              "  border: var(--sklearn-color-unfitted-level-1) 1pt solid;\n",
              "}\n",
              "\n",
              "#sk-container-id-2 a.estimator_doc_link.fitted {\n",
              "  /* fitted */\n",
              "  border: var(--sklearn-color-fitted-level-1) 1pt solid;\n",
              "  color: var(--sklearn-color-fitted-level-1);\n",
              "}\n",
              "\n",
              "/* On hover */\n",
              "#sk-container-id-2 a.estimator_doc_link:hover {\n",
              "  /* unfitted */\n",
              "  background-color: var(--sklearn-color-unfitted-level-3);\n",
              "  color: var(--sklearn-color-background);\n",
              "  text-decoration: none;\n",
              "}\n",
              "\n",
              "#sk-container-id-2 a.estimator_doc_link.fitted:hover {\n",
              "  /* fitted */\n",
              "  background-color: var(--sklearn-color-fitted-level-3);\n",
              "}\n",
              "</style><div id=\"sk-container-id-2\" class=\"sk-top-container\"><div class=\"sk-text-repr-fallback\"><pre>AdaBoostClassifier(n_estimators=100)</pre><b>In a Jupyter environment, please rerun this cell to show the HTML representation or trust the notebook. <br />On GitHub, the HTML representation is unable to render, please try loading this page with nbviewer.org.</b></div><div class=\"sk-container\" hidden><div class=\"sk-item\"><div class=\"sk-estimator fitted sk-toggleable\"><input class=\"sk-toggleable__control sk-hidden--visually\" id=\"sk-estimator-id-2\" type=\"checkbox\" checked><label for=\"sk-estimator-id-2\" class=\"sk-toggleable__label fitted sk-toggleable__label-arrow fitted\">&nbsp;&nbsp;AdaBoostClassifier<a class=\"sk-estimator-doc-link fitted\" rel=\"noreferrer\" target=\"_blank\" href=\"https://scikit-learn.org/1.5/modules/generated/sklearn.ensemble.AdaBoostClassifier.html\">?<span>Documentation for AdaBoostClassifier</span></a><span class=\"sk-estimator-doc-link fitted\">i<span>Fitted</span></span></label><div class=\"sk-toggleable__content fitted\"><pre>AdaBoostClassifier(n_estimators=100)</pre></div> </div></div></div></div>"
            ]
          },
          "metadata": {},
          "execution_count": 32
        }
      ]
    },
    {
      "cell_type": "markdown",
      "source": [
        "In a Jupyter environment, please rerun this cell to show the HTML representation or trust the notebook.\n",
        "On GitHub, the HTML representation is unable to render, please try loading this page with nbviewer.org."
      ],
      "metadata": {
        "id": "cYWhXmPaB2Lj"
      }
    },
    {
      "cell_type": "code",
      "source": [
        "# 학습된 개별 모델들이 각자 반환하는 예측 데이터 세트를 생성하고 개별 모델의 정확도 측정.\n",
        "knn_pred = knn_clf.predict(X_test)\n",
        "rf_pred = rf_clf.predict(X_test)\n",
        "dt_pred = dt_clf.predict(X_test)\n",
        "ada_pred = ada_clf.predict(X_test)\n",
        "print('KNN 정확도: {0:.4f}'.format(accuracy_score(y_test, knn_pred)))\n",
        "print('랜덤 포레스트 정확도: {0:.4f}'.format(accuracy_score(y_test, rf_pred)))\n",
        "print('결정 트리 정확도: {0:.4f}'.format(accuracy_score(y_test, dt_pred)))\n",
        "print('에이다부스트 정확도: {0:.4f}'.format(accuracy_score(y_test, ada_pred)))"
      ],
      "metadata": {
        "colab": {
          "base_uri": "https://localhost:8080/"
        },
        "id": "ESXYaKZYB9iY",
        "outputId": "a91c9d87-7173-44e4-d51d-fe78f398d721"
      },
      "execution_count": 33,
      "outputs": [
        {
          "output_type": "stream",
          "name": "stdout",
          "text": [
            "KNN 정확도: 0.9211\n",
            "랜덤 포레스트 정확도: 0.9649\n",
            "결정 트리 정확도: 0.9123\n",
            "에이다부스트 정확도: 0.9561\n"
          ]
        }
      ]
    },
    {
      "cell_type": "code",
      "source": [
        "pred = np.array([knn_pred, rf_pred, dt_pred, ada_pred])\n",
        "print(pred.shape)\n",
        "\n",
        "# transpose를 이용해 행과 열의 위치 교환. 칼럼 레벨로 각 알고리즘의 예측 결과를 피처로 만듦.\n",
        "pred = np.transpose(pred)\n",
        "print(pred.shape)"
      ],
      "metadata": {
        "colab": {
          "base_uri": "https://localhost:8080/"
        },
        "id": "t8chq7PcB-_c",
        "outputId": "7f787063-7e33-4139-99cb-28403d0e5a59"
      },
      "execution_count": 34,
      "outputs": [
        {
          "output_type": "stream",
          "name": "stdout",
          "text": [
            "(4, 114)\n",
            "(114, 4)\n"
          ]
        }
      ]
    },
    {
      "cell_type": "code",
      "source": [
        "# 최종 메타 모델인 로지스틱 회귀를 학습, 예측 정확도 측정\n",
        "\n",
        "lr_final.fit(pred, y_test)\n",
        "final = lr_final.predict(pred)\n",
        "print('최종 메타 모델의 예측 정확도: {0:.4f}'.format(accuracy_score(y_test, final)))"
      ],
      "metadata": {
        "colab": {
          "base_uri": "https://localhost:8080/"
        },
        "id": "1hmCQTCuCA0r",
        "outputId": "0a5e220a-01c1-43b6-d211-8c40f3783fe7"
      },
      "execution_count": 35,
      "outputs": [
        {
          "output_type": "stream",
          "name": "stdout",
          "text": [
            "최종 메타 모델의 예측 정확도: 0.9649\n"
          ]
        }
      ]
    },
    {
      "cell_type": "code",
      "source": [
        "from sklearn.model_selection import KFold\n",
        "from sklearn.metrics import mean_absolute_error\n",
        "\n",
        "# 개별 기반 모델에서 최종 메타 모델이 사용할 학습 및 테스트용 데이터를 생성하기 위한 함수.\n",
        "def get_stacking_base_datasets(model, X_train_n, y_train_n, X_test_n, n_folds ):\n",
        "    # 지정된 n_folds값으로 KFold 생성\n",
        "    kf = KFold(n_splits=n_folds, shuffle=False)\n",
        "    # 추후에 메타 모델이 사용할 학습 데이터 반환을 위한 넘파이 배열 초기화\n",
        "    train_fold_pred = np.zeros((X_train_n.shape[0] ,1 ))\n",
        "    test_pred = np.zeros((X_test_n.shape[0],n_folds))\n",
        "    print(model.__class__.__name__,'model 시작')\n",
        "\n",
        "    for folder_counter, (train_index, valid_index) in enumerate(kf.split(X_train_n)):\n",
        "        # 입력된 학습 데이터에서 기반 모델이 학습/예측할 폴드 데이터 셋 추출\n",
        "        print('\\t 폴드 세트: ', folder_counter, '시작')\n",
        "        X_tr = X_train_n[train_index]\n",
        "        y_tr = y_train_n[train_index]\n",
        "        X_te = X_train_n[valid_index]\n",
        "\n",
        "        # 폴드 세트 내부에서 다시 만들어진 학습 데이터로 기반 모델의 학습 수행\n",
        "        model.fit(X_tr, y_tr)\n",
        "        # 폴드 세트 내부에서 다시 만들어진 검증 데이터로 기반 모델 예측 후 데이터 저장\n",
        "        train_fold_pred[valid_index, :] = model.predict(X_te).reshape(-1,1)\n",
        "        # 입력된 원본 테스트 데이터를 폴드 세트내 학습된 기반 모델에서 예측 후 데이터 저장\n",
        "        test_pred[:, folder_counter] = model.predict(X_test_n)\n",
        "\n",
        "    # 폴드 세트 내에서 원본 테스트 데이터를 예측한 데이터를 평균하여 테스트 데이터로 생성\n",
        "    test_pred_mean = np.mean(test_pred, axis=1).reshape(-1,1)\n",
        "\n",
        "    # train_fold_pred는 최종 메타 모델이 사용하는 학습 데이터, test_pred_mean은 테스트 데이터\n",
        "    return train_fold_pred, test_pred_mean\n"
      ],
      "metadata": {
        "id": "IBvcBylvCCiW"
      },
      "execution_count": 36,
      "outputs": []
    },
    {
      "cell_type": "code",
      "source": [
        "#여러 개의 분류 모델별로 stack_base_model() 함수를 수행\n",
        "knn_train, knn_test = get_stacking_base_datasets(knn_clf, X_train, y_train, X_test, 7)\n",
        "rf_train, rf_test = get_stacking_base_datasets(rf_clf, X_train, y_train, X_test, 7)\n",
        "dt_train, dt_test = get_stacking_base_datasets(dt_clf, X_train, y_train, X_test, 7)\n",
        "ada_train, ada_test = get_stacking_base_datasets(ada_clf, X_train, y_train, X_test, 7)"
      ],
      "metadata": {
        "colab": {
          "base_uri": "https://localhost:8080/"
        },
        "id": "Stzl0aEiCGuT",
        "outputId": "4e8eaec6-c1d1-4adc-fb16-7bd302c0c32b"
      },
      "execution_count": 37,
      "outputs": [
        {
          "output_type": "stream",
          "name": "stdout",
          "text": [
            "KNeighborsClassifier model 시작\n",
            "\t 폴드 세트:  0 시작\n",
            "\t 폴드 세트:  1 시작\n",
            "\t 폴드 세트:  2 시작\n",
            "\t 폴드 세트:  3 시작\n",
            "\t 폴드 세트:  4 시작\n",
            "\t 폴드 세트:  5 시작\n",
            "\t 폴드 세트:  6 시작\n",
            "RandomForestClassifier model 시작\n",
            "\t 폴드 세트:  0 시작\n",
            "\t 폴드 세트:  1 시작\n",
            "\t 폴드 세트:  2 시작\n",
            "\t 폴드 세트:  3 시작\n",
            "\t 폴드 세트:  4 시작\n",
            "\t 폴드 세트:  5 시작\n",
            "\t 폴드 세트:  6 시작\n",
            "DecisionTreeClassifier model 시작\n",
            "\t 폴드 세트:  0 시작\n",
            "\t 폴드 세트:  1 시작\n",
            "\t 폴드 세트:  2 시작\n",
            "\t 폴드 세트:  3 시작\n",
            "\t 폴드 세트:  4 시작\n",
            "\t 폴드 세트:  5 시작\n",
            "\t 폴드 세트:  6 시작\n",
            "AdaBoostClassifier model 시작\n",
            "\t 폴드 세트:  0 시작\n"
          ]
        },
        {
          "output_type": "stream",
          "name": "stderr",
          "text": [
            "/usr/local/lib/python3.10/dist-packages/sklearn/ensemble/_weight_boosting.py:527: FutureWarning: The SAMME.R algorithm (the default) is deprecated and will be removed in 1.6. Use the SAMME algorithm to circumvent this warning.\n",
            "  warnings.warn(\n"
          ]
        },
        {
          "output_type": "stream",
          "name": "stdout",
          "text": [
            "\t 폴드 세트:  1 시작\n"
          ]
        },
        {
          "output_type": "stream",
          "name": "stderr",
          "text": [
            "/usr/local/lib/python3.10/dist-packages/sklearn/ensemble/_weight_boosting.py:527: FutureWarning: The SAMME.R algorithm (the default) is deprecated and will be removed in 1.6. Use the SAMME algorithm to circumvent this warning.\n",
            "  warnings.warn(\n"
          ]
        },
        {
          "output_type": "stream",
          "name": "stdout",
          "text": [
            "\t 폴드 세트:  2 시작\n"
          ]
        },
        {
          "output_type": "stream",
          "name": "stderr",
          "text": [
            "/usr/local/lib/python3.10/dist-packages/sklearn/ensemble/_weight_boosting.py:527: FutureWarning: The SAMME.R algorithm (the default) is deprecated and will be removed in 1.6. Use the SAMME algorithm to circumvent this warning.\n",
            "  warnings.warn(\n"
          ]
        },
        {
          "output_type": "stream",
          "name": "stdout",
          "text": [
            "\t 폴드 세트:  3 시작\n"
          ]
        },
        {
          "output_type": "stream",
          "name": "stderr",
          "text": [
            "/usr/local/lib/python3.10/dist-packages/sklearn/ensemble/_weight_boosting.py:527: FutureWarning: The SAMME.R algorithm (the default) is deprecated and will be removed in 1.6. Use the SAMME algorithm to circumvent this warning.\n",
            "  warnings.warn(\n"
          ]
        },
        {
          "output_type": "stream",
          "name": "stdout",
          "text": [
            "\t 폴드 세트:  4 시작\n"
          ]
        },
        {
          "output_type": "stream",
          "name": "stderr",
          "text": [
            "/usr/local/lib/python3.10/dist-packages/sklearn/ensemble/_weight_boosting.py:527: FutureWarning: The SAMME.R algorithm (the default) is deprecated and will be removed in 1.6. Use the SAMME algorithm to circumvent this warning.\n",
            "  warnings.warn(\n"
          ]
        },
        {
          "output_type": "stream",
          "name": "stdout",
          "text": [
            "\t 폴드 세트:  5 시작\n"
          ]
        },
        {
          "output_type": "stream",
          "name": "stderr",
          "text": [
            "/usr/local/lib/python3.10/dist-packages/sklearn/ensemble/_weight_boosting.py:527: FutureWarning: The SAMME.R algorithm (the default) is deprecated and will be removed in 1.6. Use the SAMME algorithm to circumvent this warning.\n",
            "  warnings.warn(\n"
          ]
        },
        {
          "output_type": "stream",
          "name": "stdout",
          "text": [
            "\t 폴드 세트:  6 시작\n"
          ]
        },
        {
          "output_type": "stream",
          "name": "stderr",
          "text": [
            "/usr/local/lib/python3.10/dist-packages/sklearn/ensemble/_weight_boosting.py:527: FutureWarning: The SAMME.R algorithm (the default) is deprecated and will be removed in 1.6. Use the SAMME algorithm to circumvent this warning.\n",
            "  warnings.warn(\n"
          ]
        }
      ]
    },
    {
      "cell_type": "code",
      "source": [
        "Stack_final_X_train =np.concatenate((knn_train, rf_train, dt_train, ada_train), axis=1)\n",
        "Stack_final_X_test = np.concatenate((knn_test, rf_test, dt_test, ada_test), axis=1)\n",
        "print('원본 학습 피터 데이터 Shape:', X_train.shape, '원본 테스트 피처 Shape:', X_test.shape)\n",
        "print('스태킹 학습 피처 데이터 Shape:', Stack_final_X_train.shape, '스태킹 테스트 피처 데이터 Shape:', Stack_final_X_test.shape)"
      ],
      "metadata": {
        "colab": {
          "base_uri": "https://localhost:8080/"
        },
        "id": "-xcTH0egCI8c",
        "outputId": "1569bd9c-ae41-4b06-d5e7-158e0c86c2cb"
      },
      "execution_count": 39,
      "outputs": [
        {
          "output_type": "stream",
          "name": "stdout",
          "text": [
            "원본 학습 피터 데이터 Shape: (455, 30) 원본 테스트 피처 Shape: (114, 30)\n",
            "스태킹 학습 피처 데이터 Shape: (455, 4) 스태킹 테스트 피처 데이터 Shape: (114, 4)\n"
          ]
        }
      ]
    },
    {
      "cell_type": "code",
      "source": [
        "lr_final.fit(Stack_final_X_train, y_train) #스태킹된 학습용 피처 데이터 세트와 원본 학습 레이블 데이터로 학습\n",
        "stack_final = lr_final.predict(Stack_final_X_test) #스태킹된 테스트 데이터 세트로 예측\n",
        "print('최종 메타 모델의 예측 정확도: {0:.4f}'.format(accuracy_score(y_test, stack_final)))\n",
        "#예측 결과를 원본 테스트 레이블 데이터와 비교해 정확도 측정"
      ],
      "metadata": {
        "colab": {
          "base_uri": "https://localhost:8080/"
        },
        "id": "V4F5UTZzCN-A",
        "outputId": "6912ed1f-0cbe-4807-c4af-511988af0ea2"
      },
      "execution_count": 41,
      "outputs": [
        {
          "output_type": "stream",
          "name": "stdout",
          "text": [
            "최종 메타 모델의 예측 정확도: 0.9737\n"
          ]
        }
      ]
    },
    {
      "cell_type": "markdown",
      "source": [
        "##12.정리\n",
        "이번 장에는 분류를 위해서 가장 많이 사용되는 앙상블에 대해서 집중적으로 배웠다\n",
        "대부분의 앙상블 기법은 결정 트리 기반의 다수의 약한 학습기 (Weak Learne)를 결합해 변동성을 줄여 예측 오류를 줄이고 성능을 개선하고 있다\n",
        "결정 트리 알고리즘은 정보의 군일도에 기반한 규칙 트리를 만들어서 예측을 수행\n",
        "\n",
        "결정트리는 다른 알고리즘에 비해서 비교적 직관적\n",
        "단점은 균일한 최종 예측 결과를 도출하기 위해서 깊어지고 복잡해지면서 과적합이 쉽게 발생한다는 것\n",
        "\n",
        "앙상블 기법은 대표적으로 배깅과 부스팅으로 구분\n",
        "배깅은 학습 데이터를 중복을 허용하면서 다수의 세트로 샘플링하여 이를 다수의 약한 학습기가 학습한 뒤 최종 결과를 결합해 예측하는 방식\n",
        "\n",
        "배기으이 대표적인 예시는 랜덤 포레스트\n",
        "수행시간이 빠르고 비교적 안정적인 예측 성능을 제공하는 훌륭한 머신러닝 알고리즘\n",
        "\n",
        "배깅보다는 부스팅이 더 주류\n",
        "부스팅은 학습기들이 순차적으로 학습을 진행하면서 예측이 틀린 데이터에서는 가중치를 부여해 다음번 학습기가 학습할 때 보다 높은 정확도로 예측할 수 있도록\n",
        "GBM은 뛰어난 예측 성능을 가졌지만 수행시간이 너무 오래 걸린다\n",
        "\n",
        "스태킹은 여러개의 개별 모델들이 생성한 예측 데이터를 기반으로 최종 메타 모델이 학습할 별도의 학습 데이터세트와 예측할 데스트  데이터를 재 생성하는 기법"
      ],
      "metadata": {
        "id": "c_5eKLd_Ppbv"
      }
    }
  ]
}