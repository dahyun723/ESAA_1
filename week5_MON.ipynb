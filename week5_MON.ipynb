{
  "nbformat": 4,
  "nbformat_minor": 0,
  "metadata": {
    "colab": {
      "provenance": [],
      "authorship_tag": "ABX9TyMzHfFKzEWtQbZsLat5lxN2",
      "include_colab_link": true
    },
    "kernelspec": {
      "name": "python3",
      "display_name": "Python 3"
    },
    "language_info": {
      "name": "python"
    }
  },
  "cells": [
    {
      "cell_type": "markdown",
      "metadata": {
        "id": "view-in-github",
        "colab_type": "text"
      },
      "source": [
        "<a href=\"https://colab.research.google.com/github/dahyun723/ESAA_1/blob/main/week5_MON.ipynb\" target=\"_parent\"><img src=\"https://colab.research.google.com/assets/colab-badge.svg\" alt=\"Open In Colab\"/></a>"
      ]
    },
    {
      "cell_type": "markdown",
      "source": [
        "파이썬 머신러닝 완벽 가이드 ch3. 1-7 (145p-180p)"
      ],
      "metadata": {
        "id": "WwyXK1iK2Hsw"
      }
    },
    {
      "cell_type": "markdown",
      "source": [
        "평가\n",
        "\n",
        "#분류의 성능 평가 지표\n",
        "\n",
        "특히 0과 1로 결정값이 한정되는 이진 분류의 성능 평가 짚표에 대해서 집중\n",
        "\n",
        "이진 분류에서는 정확도 보다는 다른 성능 평가 지표가 더 중요시 됨\n",
        "\n",
        "분류의 성능 평가 지표\n",
        "\n",
        "정확도/ 오차행렬/ 정밀도/ 재현율/ F1스코어/ ROC AUC\n",
        "\n",
        "\n",
        "이진 >> 멀티 평가지표가 더 중요함\n"
      ],
      "metadata": {
        "id": "shxySMvm2v4s"
      }
    },
    {
      "cell_type": "markdown",
      "source": [
        "##1. 정확도\n",
        "\n",
        "정확도 = 예측 결과가 동일한 데이터 건수/ 전체 예측 데이터 건수\n",
        "\n",
        "직관적으로 모델 예측 성능을 나타내는 평가 지표\n",
        "\n",
        "하지만 이진 분류의 경우 데이터의 구성에 따라 ML 모델의 성능을 왜곡할 수 있기 때문에 정확도 수치 하나만 가지고 성능을 평가하지 않음"
      ],
      "metadata": {
        "id": "D9nGMTp_4eHU"
      }
    },
    {
      "cell_type": "code",
      "execution_count": 3,
      "metadata": {
        "id": "0C8_nntv12Ha"
      },
      "outputs": [],
      "source": [
        "from sklearn.base import BaseEstimator\n",
        "\n",
        "class MyDummyClassifier(BaseEstimator):\n",
        "  def fit(self,X, y=None):\n",
        "    pass\n",
        "\n",
        "def predict(self,X):\n",
        "  pred = np.zeros((X.shape[0],1))\n",
        "  for i in range(X.shape[0]):\n",
        "    if X['Sex'].iloc[i] == 1:\n",
        "      pred[i] = 0\n",
        "    else:\n",
        "      pred[i] = 1\n",
        "  return pred"
      ]
    },
    {
      "cell_type": "code",
      "source": [
        "#생성된 MyDymmyclassifier을 이용해 앞 장의 타이타닉 생존자 예측 수행\n",
        "import pandas as pd\n",
        "from sklearn.model_selection import train_test_split\n",
        "from sklearn.metrics import accuracy_score\n",
        "\n",
        "from google.colab import files\n",
        "uploaded = files.upload()"
      ],
      "metadata": {
        "colab": {
          "base_uri": "https://localhost:8080/",
          "height": 76
        },
        "id": "JwxgTICC5k1X",
        "outputId": "45000ac4-39db-415c-9992-d9e8ac250621"
      },
      "execution_count": 29,
      "outputs": [
        {
          "output_type": "display_data",
          "data": {
            "text/plain": [
              "<IPython.core.display.HTML object>"
            ],
            "text/html": [
              "\n",
              "     <input type=\"file\" id=\"files-a579f432-fdfb-4f0b-8d25-1dd7d6fd4340\" name=\"files[]\" multiple disabled\n",
              "        style=\"border:none\" />\n",
              "     <output id=\"result-a579f432-fdfb-4f0b-8d25-1dd7d6fd4340\">\n",
              "      Upload widget is only available when the cell has been executed in the\n",
              "      current browser session. Please rerun this cell to enable.\n",
              "      </output>\n",
              "      <script>// Copyright 2017 Google LLC\n",
              "//\n",
              "// Licensed under the Apache License, Version 2.0 (the \"License\");\n",
              "// you may not use this file except in compliance with the License.\n",
              "// You may obtain a copy of the License at\n",
              "//\n",
              "//      http://www.apache.org/licenses/LICENSE-2.0\n",
              "//\n",
              "// Unless required by applicable law or agreed to in writing, software\n",
              "// distributed under the License is distributed on an \"AS IS\" BASIS,\n",
              "// WITHOUT WARRANTIES OR CONDITIONS OF ANY KIND, either express or implied.\n",
              "// See the License for the specific language governing permissions and\n",
              "// limitations under the License.\n",
              "\n",
              "/**\n",
              " * @fileoverview Helpers for google.colab Python module.\n",
              " */\n",
              "(function(scope) {\n",
              "function span(text, styleAttributes = {}) {\n",
              "  const element = document.createElement('span');\n",
              "  element.textContent = text;\n",
              "  for (const key of Object.keys(styleAttributes)) {\n",
              "    element.style[key] = styleAttributes[key];\n",
              "  }\n",
              "  return element;\n",
              "}\n",
              "\n",
              "// Max number of bytes which will be uploaded at a time.\n",
              "const MAX_PAYLOAD_SIZE = 100 * 1024;\n",
              "\n",
              "function _uploadFiles(inputId, outputId) {\n",
              "  const steps = uploadFilesStep(inputId, outputId);\n",
              "  const outputElement = document.getElementById(outputId);\n",
              "  // Cache steps on the outputElement to make it available for the next call\n",
              "  // to uploadFilesContinue from Python.\n",
              "  outputElement.steps = steps;\n",
              "\n",
              "  return _uploadFilesContinue(outputId);\n",
              "}\n",
              "\n",
              "// This is roughly an async generator (not supported in the browser yet),\n",
              "// where there are multiple asynchronous steps and the Python side is going\n",
              "// to poll for completion of each step.\n",
              "// This uses a Promise to block the python side on completion of each step,\n",
              "// then passes the result of the previous step as the input to the next step.\n",
              "function _uploadFilesContinue(outputId) {\n",
              "  const outputElement = document.getElementById(outputId);\n",
              "  const steps = outputElement.steps;\n",
              "\n",
              "  const next = steps.next(outputElement.lastPromiseValue);\n",
              "  return Promise.resolve(next.value.promise).then((value) => {\n",
              "    // Cache the last promise value to make it available to the next\n",
              "    // step of the generator.\n",
              "    outputElement.lastPromiseValue = value;\n",
              "    return next.value.response;\n",
              "  });\n",
              "}\n",
              "\n",
              "/**\n",
              " * Generator function which is called between each async step of the upload\n",
              " * process.\n",
              " * @param {string} inputId Element ID of the input file picker element.\n",
              " * @param {string} outputId Element ID of the output display.\n",
              " * @return {!Iterable<!Object>} Iterable of next steps.\n",
              " */\n",
              "function* uploadFilesStep(inputId, outputId) {\n",
              "  const inputElement = document.getElementById(inputId);\n",
              "  inputElement.disabled = false;\n",
              "\n",
              "  const outputElement = document.getElementById(outputId);\n",
              "  outputElement.innerHTML = '';\n",
              "\n",
              "  const pickedPromise = new Promise((resolve) => {\n",
              "    inputElement.addEventListener('change', (e) => {\n",
              "      resolve(e.target.files);\n",
              "    });\n",
              "  });\n",
              "\n",
              "  const cancel = document.createElement('button');\n",
              "  inputElement.parentElement.appendChild(cancel);\n",
              "  cancel.textContent = 'Cancel upload';\n",
              "  const cancelPromise = new Promise((resolve) => {\n",
              "    cancel.onclick = () => {\n",
              "      resolve(null);\n",
              "    };\n",
              "  });\n",
              "\n",
              "  // Wait for the user to pick the files.\n",
              "  const files = yield {\n",
              "    promise: Promise.race([pickedPromise, cancelPromise]),\n",
              "    response: {\n",
              "      action: 'starting',\n",
              "    }\n",
              "  };\n",
              "\n",
              "  cancel.remove();\n",
              "\n",
              "  // Disable the input element since further picks are not allowed.\n",
              "  inputElement.disabled = true;\n",
              "\n",
              "  if (!files) {\n",
              "    return {\n",
              "      response: {\n",
              "        action: 'complete',\n",
              "      }\n",
              "    };\n",
              "  }\n",
              "\n",
              "  for (const file of files) {\n",
              "    const li = document.createElement('li');\n",
              "    li.append(span(file.name, {fontWeight: 'bold'}));\n",
              "    li.append(span(\n",
              "        `(${file.type || 'n/a'}) - ${file.size} bytes, ` +\n",
              "        `last modified: ${\n",
              "            file.lastModifiedDate ? file.lastModifiedDate.toLocaleDateString() :\n",
              "                                    'n/a'} - `));\n",
              "    const percent = span('0% done');\n",
              "    li.appendChild(percent);\n",
              "\n",
              "    outputElement.appendChild(li);\n",
              "\n",
              "    const fileDataPromise = new Promise((resolve) => {\n",
              "      const reader = new FileReader();\n",
              "      reader.onload = (e) => {\n",
              "        resolve(e.target.result);\n",
              "      };\n",
              "      reader.readAsArrayBuffer(file);\n",
              "    });\n",
              "    // Wait for the data to be ready.\n",
              "    let fileData = yield {\n",
              "      promise: fileDataPromise,\n",
              "      response: {\n",
              "        action: 'continue',\n",
              "      }\n",
              "    };\n",
              "\n",
              "    // Use a chunked sending to avoid message size limits. See b/62115660.\n",
              "    let position = 0;\n",
              "    do {\n",
              "      const length = Math.min(fileData.byteLength - position, MAX_PAYLOAD_SIZE);\n",
              "      const chunk = new Uint8Array(fileData, position, length);\n",
              "      position += length;\n",
              "\n",
              "      const base64 = btoa(String.fromCharCode.apply(null, chunk));\n",
              "      yield {\n",
              "        response: {\n",
              "          action: 'append',\n",
              "          file: file.name,\n",
              "          data: base64,\n",
              "        },\n",
              "      };\n",
              "\n",
              "      let percentDone = fileData.byteLength === 0 ?\n",
              "          100 :\n",
              "          Math.round((position / fileData.byteLength) * 100);\n",
              "      percent.textContent = `${percentDone}% done`;\n",
              "\n",
              "    } while (position < fileData.byteLength);\n",
              "  }\n",
              "\n",
              "  // All done.\n",
              "  yield {\n",
              "    response: {\n",
              "      action: 'complete',\n",
              "    }\n",
              "  };\n",
              "}\n",
              "\n",
              "scope.google = scope.google || {};\n",
              "scope.google.colab = scope.google.colab || {};\n",
              "scope.google.colab._files = {\n",
              "  _uploadFiles,\n",
              "  _uploadFilesContinue,\n",
              "};\n",
              "})(self);\n",
              "</script> "
            ]
          },
          "metadata": {}
        },
        {
          "output_type": "stream",
          "name": "stdout",
          "text": [
            "Saving titanic_train.csv to titanic_train.csv\n"
          ]
        }
      ]
    },
    {
      "cell_type": "code",
      "source": [
        "titanic_df = pd.read_csv('titanic_train.csv')\n",
        "titanic_df.head(3)"
      ],
      "metadata": {
        "colab": {
          "base_uri": "https://localhost:8080/",
          "height": 319
        },
        "id": "cWzH87aM60cG",
        "outputId": "39ab963f-536f-4c71-cd05-be5b3b9e2a7b"
      },
      "execution_count": 30,
      "outputs": [
        {
          "output_type": "execute_result",
          "data": {
            "text/plain": [
              "   PassengerId  Survived  Pclass  \\\n",
              "0            1         0       3   \n",
              "1            2         1       1   \n",
              "2            3         1       3   \n",
              "\n",
              "                                                Name     Sex   Age  SibSp  \\\n",
              "0                            Braund, Mr. Owen Harris    male  22.0      1   \n",
              "1  Cumings, Mrs. John Bradley (Florence Briggs Th...  female  38.0      1   \n",
              "2                             Heikkinen, Miss. Laina  female  26.0      0   \n",
              "\n",
              "   Parch            Ticket     Fare Cabin Embarked  \n",
              "0      0         A/5 21171   7.2500   NaN        S  \n",
              "1      0          PC 17599  71.2833   C85        C  \n",
              "2      0  STON/O2. 3101282   7.9250   NaN        S  "
            ],
            "text/html": [
              "\n",
              "  <div id=\"df-f60e460e-0aa6-43ce-9e50-3579c0d2186f\" class=\"colab-df-container\">\n",
              "    <div>\n",
              "<style scoped>\n",
              "    .dataframe tbody tr th:only-of-type {\n",
              "        vertical-align: middle;\n",
              "    }\n",
              "\n",
              "    .dataframe tbody tr th {\n",
              "        vertical-align: top;\n",
              "    }\n",
              "\n",
              "    .dataframe thead th {\n",
              "        text-align: right;\n",
              "    }\n",
              "</style>\n",
              "<table border=\"1\" class=\"dataframe\">\n",
              "  <thead>\n",
              "    <tr style=\"text-align: right;\">\n",
              "      <th></th>\n",
              "      <th>PassengerId</th>\n",
              "      <th>Survived</th>\n",
              "      <th>Pclass</th>\n",
              "      <th>Name</th>\n",
              "      <th>Sex</th>\n",
              "      <th>Age</th>\n",
              "      <th>SibSp</th>\n",
              "      <th>Parch</th>\n",
              "      <th>Ticket</th>\n",
              "      <th>Fare</th>\n",
              "      <th>Cabin</th>\n",
              "      <th>Embarked</th>\n",
              "    </tr>\n",
              "  </thead>\n",
              "  <tbody>\n",
              "    <tr>\n",
              "      <th>0</th>\n",
              "      <td>1</td>\n",
              "      <td>0</td>\n",
              "      <td>3</td>\n",
              "      <td>Braund, Mr. Owen Harris</td>\n",
              "      <td>male</td>\n",
              "      <td>22.0</td>\n",
              "      <td>1</td>\n",
              "      <td>0</td>\n",
              "      <td>A/5 21171</td>\n",
              "      <td>7.2500</td>\n",
              "      <td>NaN</td>\n",
              "      <td>S</td>\n",
              "    </tr>\n",
              "    <tr>\n",
              "      <th>1</th>\n",
              "      <td>2</td>\n",
              "      <td>1</td>\n",
              "      <td>1</td>\n",
              "      <td>Cumings, Mrs. John Bradley (Florence Briggs Th...</td>\n",
              "      <td>female</td>\n",
              "      <td>38.0</td>\n",
              "      <td>1</td>\n",
              "      <td>0</td>\n",
              "      <td>PC 17599</td>\n",
              "      <td>71.2833</td>\n",
              "      <td>C85</td>\n",
              "      <td>C</td>\n",
              "    </tr>\n",
              "    <tr>\n",
              "      <th>2</th>\n",
              "      <td>3</td>\n",
              "      <td>1</td>\n",
              "      <td>3</td>\n",
              "      <td>Heikkinen, Miss. Laina</td>\n",
              "      <td>female</td>\n",
              "      <td>26.0</td>\n",
              "      <td>0</td>\n",
              "      <td>0</td>\n",
              "      <td>STON/O2. 3101282</td>\n",
              "      <td>7.9250</td>\n",
              "      <td>NaN</td>\n",
              "      <td>S</td>\n",
              "    </tr>\n",
              "  </tbody>\n",
              "</table>\n",
              "</div>\n",
              "    <div class=\"colab-df-buttons\">\n",
              "\n",
              "  <div class=\"colab-df-container\">\n",
              "    <button class=\"colab-df-convert\" onclick=\"convertToInteractive('df-f60e460e-0aa6-43ce-9e50-3579c0d2186f')\"\n",
              "            title=\"Convert this dataframe to an interactive table.\"\n",
              "            style=\"display:none;\">\n",
              "\n",
              "  <svg xmlns=\"http://www.w3.org/2000/svg\" height=\"24px\" viewBox=\"0 -960 960 960\">\n",
              "    <path d=\"M120-120v-720h720v720H120Zm60-500h600v-160H180v160Zm220 220h160v-160H400v160Zm0 220h160v-160H400v160ZM180-400h160v-160H180v160Zm440 0h160v-160H620v160ZM180-180h160v-160H180v160Zm440 0h160v-160H620v160Z\"/>\n",
              "  </svg>\n",
              "    </button>\n",
              "\n",
              "  <style>\n",
              "    .colab-df-container {\n",
              "      display:flex;\n",
              "      gap: 12px;\n",
              "    }\n",
              "\n",
              "    .colab-df-convert {\n",
              "      background-color: #E8F0FE;\n",
              "      border: none;\n",
              "      border-radius: 50%;\n",
              "      cursor: pointer;\n",
              "      display: none;\n",
              "      fill: #1967D2;\n",
              "      height: 32px;\n",
              "      padding: 0 0 0 0;\n",
              "      width: 32px;\n",
              "    }\n",
              "\n",
              "    .colab-df-convert:hover {\n",
              "      background-color: #E2EBFA;\n",
              "      box-shadow: 0px 1px 2px rgba(60, 64, 67, 0.3), 0px 1px 3px 1px rgba(60, 64, 67, 0.15);\n",
              "      fill: #174EA6;\n",
              "    }\n",
              "\n",
              "    .colab-df-buttons div {\n",
              "      margin-bottom: 4px;\n",
              "    }\n",
              "\n",
              "    [theme=dark] .colab-df-convert {\n",
              "      background-color: #3B4455;\n",
              "      fill: #D2E3FC;\n",
              "    }\n",
              "\n",
              "    [theme=dark] .colab-df-convert:hover {\n",
              "      background-color: #434B5C;\n",
              "      box-shadow: 0px 1px 3px 1px rgba(0, 0, 0, 0.15);\n",
              "      filter: drop-shadow(0px 1px 2px rgba(0, 0, 0, 0.3));\n",
              "      fill: #FFFFFF;\n",
              "    }\n",
              "  </style>\n",
              "\n",
              "    <script>\n",
              "      const buttonEl =\n",
              "        document.querySelector('#df-f60e460e-0aa6-43ce-9e50-3579c0d2186f button.colab-df-convert');\n",
              "      buttonEl.style.display =\n",
              "        google.colab.kernel.accessAllowed ? 'block' : 'none';\n",
              "\n",
              "      async function convertToInteractive(key) {\n",
              "        const element = document.querySelector('#df-f60e460e-0aa6-43ce-9e50-3579c0d2186f');\n",
              "        const dataTable =\n",
              "          await google.colab.kernel.invokeFunction('convertToInteractive',\n",
              "                                                    [key], {});\n",
              "        if (!dataTable) return;\n",
              "\n",
              "        const docLinkHtml = 'Like what you see? Visit the ' +\n",
              "          '<a target=\"_blank\" href=https://colab.research.google.com/notebooks/data_table.ipynb>data table notebook</a>'\n",
              "          + ' to learn more about interactive tables.';\n",
              "        element.innerHTML = '';\n",
              "        dataTable['output_type'] = 'display_data';\n",
              "        await google.colab.output.renderOutput(dataTable, element);\n",
              "        const docLink = document.createElement('div');\n",
              "        docLink.innerHTML = docLinkHtml;\n",
              "        element.appendChild(docLink);\n",
              "      }\n",
              "    </script>\n",
              "  </div>\n",
              "\n",
              "\n",
              "<div id=\"df-bb661586-5a5d-4570-96bc-9d7b1facc7d1\">\n",
              "  <button class=\"colab-df-quickchart\" onclick=\"quickchart('df-bb661586-5a5d-4570-96bc-9d7b1facc7d1')\"\n",
              "            title=\"Suggest charts\"\n",
              "            style=\"display:none;\">\n",
              "\n",
              "<svg xmlns=\"http://www.w3.org/2000/svg\" height=\"24px\"viewBox=\"0 0 24 24\"\n",
              "     width=\"24px\">\n",
              "    <g>\n",
              "        <path d=\"M19 3H5c-1.1 0-2 .9-2 2v14c0 1.1.9 2 2 2h14c1.1 0 2-.9 2-2V5c0-1.1-.9-2-2-2zM9 17H7v-7h2v7zm4 0h-2V7h2v10zm4 0h-2v-4h2v4z\"/>\n",
              "    </g>\n",
              "</svg>\n",
              "  </button>\n",
              "\n",
              "<style>\n",
              "  .colab-df-quickchart {\n",
              "      --bg-color: #E8F0FE;\n",
              "      --fill-color: #1967D2;\n",
              "      --hover-bg-color: #E2EBFA;\n",
              "      --hover-fill-color: #174EA6;\n",
              "      --disabled-fill-color: #AAA;\n",
              "      --disabled-bg-color: #DDD;\n",
              "  }\n",
              "\n",
              "  [theme=dark] .colab-df-quickchart {\n",
              "      --bg-color: #3B4455;\n",
              "      --fill-color: #D2E3FC;\n",
              "      --hover-bg-color: #434B5C;\n",
              "      --hover-fill-color: #FFFFFF;\n",
              "      --disabled-bg-color: #3B4455;\n",
              "      --disabled-fill-color: #666;\n",
              "  }\n",
              "\n",
              "  .colab-df-quickchart {\n",
              "    background-color: var(--bg-color);\n",
              "    border: none;\n",
              "    border-radius: 50%;\n",
              "    cursor: pointer;\n",
              "    display: none;\n",
              "    fill: var(--fill-color);\n",
              "    height: 32px;\n",
              "    padding: 0;\n",
              "    width: 32px;\n",
              "  }\n",
              "\n",
              "  .colab-df-quickchart:hover {\n",
              "    background-color: var(--hover-bg-color);\n",
              "    box-shadow: 0 1px 2px rgba(60, 64, 67, 0.3), 0 1px 3px 1px rgba(60, 64, 67, 0.15);\n",
              "    fill: var(--button-hover-fill-color);\n",
              "  }\n",
              "\n",
              "  .colab-df-quickchart-complete:disabled,\n",
              "  .colab-df-quickchart-complete:disabled:hover {\n",
              "    background-color: var(--disabled-bg-color);\n",
              "    fill: var(--disabled-fill-color);\n",
              "    box-shadow: none;\n",
              "  }\n",
              "\n",
              "  .colab-df-spinner {\n",
              "    border: 2px solid var(--fill-color);\n",
              "    border-color: transparent;\n",
              "    border-bottom-color: var(--fill-color);\n",
              "    animation:\n",
              "      spin 1s steps(1) infinite;\n",
              "  }\n",
              "\n",
              "  @keyframes spin {\n",
              "    0% {\n",
              "      border-color: transparent;\n",
              "      border-bottom-color: var(--fill-color);\n",
              "      border-left-color: var(--fill-color);\n",
              "    }\n",
              "    20% {\n",
              "      border-color: transparent;\n",
              "      border-left-color: var(--fill-color);\n",
              "      border-top-color: var(--fill-color);\n",
              "    }\n",
              "    30% {\n",
              "      border-color: transparent;\n",
              "      border-left-color: var(--fill-color);\n",
              "      border-top-color: var(--fill-color);\n",
              "      border-right-color: var(--fill-color);\n",
              "    }\n",
              "    40% {\n",
              "      border-color: transparent;\n",
              "      border-right-color: var(--fill-color);\n",
              "      border-top-color: var(--fill-color);\n",
              "    }\n",
              "    60% {\n",
              "      border-color: transparent;\n",
              "      border-right-color: var(--fill-color);\n",
              "    }\n",
              "    80% {\n",
              "      border-color: transparent;\n",
              "      border-right-color: var(--fill-color);\n",
              "      border-bottom-color: var(--fill-color);\n",
              "    }\n",
              "    90% {\n",
              "      border-color: transparent;\n",
              "      border-bottom-color: var(--fill-color);\n",
              "    }\n",
              "  }\n",
              "</style>\n",
              "\n",
              "  <script>\n",
              "    async function quickchart(key) {\n",
              "      const quickchartButtonEl =\n",
              "        document.querySelector('#' + key + ' button');\n",
              "      quickchartButtonEl.disabled = true;  // To prevent multiple clicks.\n",
              "      quickchartButtonEl.classList.add('colab-df-spinner');\n",
              "      try {\n",
              "        const charts = await google.colab.kernel.invokeFunction(\n",
              "            'suggestCharts', [key], {});\n",
              "      } catch (error) {\n",
              "        console.error('Error during call to suggestCharts:', error);\n",
              "      }\n",
              "      quickchartButtonEl.classList.remove('colab-df-spinner');\n",
              "      quickchartButtonEl.classList.add('colab-df-quickchart-complete');\n",
              "    }\n",
              "    (() => {\n",
              "      let quickchartButtonEl =\n",
              "        document.querySelector('#df-bb661586-5a5d-4570-96bc-9d7b1facc7d1 button');\n",
              "      quickchartButtonEl.style.display =\n",
              "        google.colab.kernel.accessAllowed ? 'block' : 'none';\n",
              "    })();\n",
              "  </script>\n",
              "</div>\n",
              "\n",
              "    </div>\n",
              "  </div>\n"
            ],
            "application/vnd.google.colaboratory.intrinsic+json": {
              "type": "dataframe",
              "variable_name": "titanic_df",
              "summary": "{\n  \"name\": \"titanic_df\",\n  \"rows\": 891,\n  \"fields\": [\n    {\n      \"column\": \"PassengerId\",\n      \"properties\": {\n        \"dtype\": \"number\",\n        \"std\": 257,\n        \"min\": 1,\n        \"max\": 891,\n        \"num_unique_values\": 891,\n        \"samples\": [\n          710,\n          440,\n          841\n        ],\n        \"semantic_type\": \"\",\n        \"description\": \"\"\n      }\n    },\n    {\n      \"column\": \"Survived\",\n      \"properties\": {\n        \"dtype\": \"number\",\n        \"std\": 0,\n        \"min\": 0,\n        \"max\": 1,\n        \"num_unique_values\": 2,\n        \"samples\": [\n          1,\n          0\n        ],\n        \"semantic_type\": \"\",\n        \"description\": \"\"\n      }\n    },\n    {\n      \"column\": \"Pclass\",\n      \"properties\": {\n        \"dtype\": \"number\",\n        \"std\": 0,\n        \"min\": 1,\n        \"max\": 3,\n        \"num_unique_values\": 3,\n        \"samples\": [\n          3,\n          1\n        ],\n        \"semantic_type\": \"\",\n        \"description\": \"\"\n      }\n    },\n    {\n      \"column\": \"Name\",\n      \"properties\": {\n        \"dtype\": \"string\",\n        \"num_unique_values\": 891,\n        \"samples\": [\n          \"Moubarek, Master. Halim Gonios (\\\"William George\\\")\",\n          \"Kvillner, Mr. Johan Henrik Johannesson\"\n        ],\n        \"semantic_type\": \"\",\n        \"description\": \"\"\n      }\n    },\n    {\n      \"column\": \"Sex\",\n      \"properties\": {\n        \"dtype\": \"category\",\n        \"num_unique_values\": 2,\n        \"samples\": [\n          \"female\",\n          \"male\"\n        ],\n        \"semantic_type\": \"\",\n        \"description\": \"\"\n      }\n    },\n    {\n      \"column\": \"Age\",\n      \"properties\": {\n        \"dtype\": \"number\",\n        \"std\": 14.526497332334044,\n        \"min\": 0.42,\n        \"max\": 80.0,\n        \"num_unique_values\": 88,\n        \"samples\": [\n          0.75,\n          22.0\n        ],\n        \"semantic_type\": \"\",\n        \"description\": \"\"\n      }\n    },\n    {\n      \"column\": \"SibSp\",\n      \"properties\": {\n        \"dtype\": \"number\",\n        \"std\": 1,\n        \"min\": 0,\n        \"max\": 8,\n        \"num_unique_values\": 7,\n        \"samples\": [\n          1,\n          0\n        ],\n        \"semantic_type\": \"\",\n        \"description\": \"\"\n      }\n    },\n    {\n      \"column\": \"Parch\",\n      \"properties\": {\n        \"dtype\": \"number\",\n        \"std\": 0,\n        \"min\": 0,\n        \"max\": 6,\n        \"num_unique_values\": 7,\n        \"samples\": [\n          0,\n          1\n        ],\n        \"semantic_type\": \"\",\n        \"description\": \"\"\n      }\n    },\n    {\n      \"column\": \"Ticket\",\n      \"properties\": {\n        \"dtype\": \"string\",\n        \"num_unique_values\": 681,\n        \"samples\": [\n          \"11774\",\n          \"248740\"\n        ],\n        \"semantic_type\": \"\",\n        \"description\": \"\"\n      }\n    },\n    {\n      \"column\": \"Fare\",\n      \"properties\": {\n        \"dtype\": \"number\",\n        \"std\": 49.693428597180905,\n        \"min\": 0.0,\n        \"max\": 512.3292,\n        \"num_unique_values\": 248,\n        \"samples\": [\n          11.2417,\n          51.8625\n        ],\n        \"semantic_type\": \"\",\n        \"description\": \"\"\n      }\n    },\n    {\n      \"column\": \"Cabin\",\n      \"properties\": {\n        \"dtype\": \"category\",\n        \"num_unique_values\": 147,\n        \"samples\": [\n          \"D45\",\n          \"B49\"\n        ],\n        \"semantic_type\": \"\",\n        \"description\": \"\"\n      }\n    },\n    {\n      \"column\": \"Embarked\",\n      \"properties\": {\n        \"dtype\": \"category\",\n        \"num_unique_values\": 3,\n        \"samples\": [\n          \"S\",\n          \"C\"\n        ],\n        \"semantic_type\": \"\",\n        \"description\": \"\"\n      }\n    }\n  ]\n}"
            }
          },
          "metadata": {},
          "execution_count": 30
        }
      ]
    },
    {
      "cell_type": "code",
      "source": [
        "from sklearn.preprocessing import LabelEncoder\n",
        "\n",
        "def fillna(df):\n",
        "  df['Age'].fillna(df['Age'].mean(), inplace = True)\n",
        "  df['Cabin'].fillna('N', inplace = True)\n",
        "  df['Embarked'].fillna('N', inplace = True)\n",
        "  df['Fare'].fillna(0, inplace = True)\n",
        "  return df\n",
        "\n",
        "def drop_features(df):\n",
        "  df.drop(['PassengerId', 'Name', 'Ticket'], axis = 1, inplace = True)\n",
        "  return df\n",
        "\n",
        "def format_features(df):\n",
        "  df['Cabin'] = df['Cabin'].str[:1]\n",
        "  features = ['Cabin', 'Sex', 'Embarked']\n",
        "  for feature in features:\n",
        "    le = LabelEncoder()\n",
        "    le = le.fit(df[feature])\n",
        "    df[feature] = le.transform(df[feature])\n",
        "  return df\n",
        "\n",
        "def transform_features(df):\n",
        "  df = fillna(df)\n",
        "  df = drop_features(df)\n",
        "  df = format_features(df)\n",
        "  return df\n",
        ""
      ],
      "metadata": {
        "id": "2XZUQxle93hu"
      },
      "execution_count": 31,
      "outputs": []
    },
    {
      "cell_type": "code",
      "source": [
        "\n",
        "import pandas as pd\n",
        "from sklearn.model_selection import train_test_split\n",
        "from sklearn.metrics import accuracy_score\n",
        "\n",
        "titanic_df = pd.read_csv('titanic_train.csv')\n",
        "y_titanic_df = titanic_df['Survived']\n",
        "X_titanic_df = titanic_df.drop('Survived', axis = 1)\n",
        "X_titanic_df = transform_features(X_titanic_df)\n",
        "X_train, X_test, y_train, y_test = train_test_split(X_titanic_df, y_titanic_df, test_size = 0.2, random_state = 0)\n",
        "\n",
        "myclf = MyDummyClassifier()\n",
        "myclf.fit(X_train, y_train)\n",
        "\n",
        "mypredictions = myclf.predict(X_test)\n",
        "print('Dummy Classifier의 정확도: {0:.4f}'.format(accuracy_score(y_test, mypredictions)))"
      ],
      "metadata": {
        "colab": {
          "base_uri": "https://localhost:8080/"
        },
        "id": "Lc5RQzIwAipS",
        "outputId": "c0520df0-9aa9-4292-e1fa-ce7ba5df17d9"
      },
      "execution_count": 34,
      "outputs": [
        {
          "output_type": "stream",
          "name": "stdout",
          "text": [
            "Dummy Classifier의 정확도: 0.6145\n"
          ]
        }
      ]
    },
    {
      "cell_type": "code",
      "source": [
        "from sklearn.datasets import load_digits\n",
        "\n",
        "class MyFakeClassifier(BaseEstimator):\n",
        "  def fit(self, X, y):\n",
        "    pass\n",
        "\n",
        "  def predict(self, X):\n",
        "    return np.zeros((len(X), 1), dtype = bool)\n",
        "\n",
        "digits = load_digits()\n",
        "\n",
        "y = (digits.target == 7).astype(int)\n",
        "X_train, X_test, y_train, y_test = train_test_split(digits.data, y, random_state = 11)"
      ],
      "metadata": {
        "id": "swjCeaSkAkTt"
      },
      "execution_count": 35,
      "outputs": []
    },
    {
      "cell_type": "code",
      "source": [
        "print('레이블 테스트 세트 크기:', y_test.shape)\n",
        "print('테스트 세트 레이블 0과 1의 분포도')\n",
        "print(pd.Series(y_test).value_counts())\n",
        "import numpy as np\n",
        "fakeclf = MyFakeClassifier()\n",
        "fakeclf.fit(X_train, y_train)\n",
        "fakepred = fakeclf.predict(X_test)\n",
        "print('모든 예측을 0으로 하여도 정확도는:{:.3f}'.format(accuracy_score(y_test, fakepred)))"
      ],
      "metadata": {
        "colab": {
          "base_uri": "https://localhost:8080/"
        },
        "id": "Nwzvu984Dat8",
        "outputId": "e2d57b00-8237-4015-feb9-1f70c5c90567"
      },
      "execution_count": 38,
      "outputs": [
        {
          "output_type": "stream",
          "name": "stdout",
          "text": [
            "레이블 테스트 세트 크기: (450,)\n",
            "테스트 세트 레이블 0과 1의 분포도\n",
            "0    405\n",
            "1     45\n",
            "Name: count, dtype: int64\n",
            "모든 예측을 0으로 하여도 정확도는:0.900\n"
          ]
        }
      ]
    },
    {
      "cell_type": "markdown",
      "source": [
        "##오차행렬(confusion matrix)\n",
        "학습된 분류모델이 예측을 수행하면서 얼마나 헷갈리고 있는지도 함께 보여주는 지표\n",
        "즉 이진 분류의 예측오류가 얼마인지와 더불어 어떠한 유형의 예측 오류가 발생하고 있는지를 함께 나타내는 지표\n",
        "\n",
        "![예측 클래스.jpg](data:image/jpeg;base64,/9j/4AAQSkZJRgABAQAASABIAAD/4QCMRXhpZgAATU0AKgAAAAgABQESAAMAAAABAAEAAAEaAAUAAAABAAAASgEbAAUAAAABAAAAUgEoAAMAAAABAAIAAIdpAAQAAAABAAAAWgAAAAAAAABIAAAAAQAAAEgAAAABAAOgAQADAAAAAQABAACgAgAEAAAAAQAAA+ugAwAEAAAAAQAAAhcAAAAA/+0AOFBob3Rvc2hvcCAzLjAAOEJJTQQEAAAAAAAAOEJJTQQlAAAAAAAQ1B2M2Y8AsgTpgAmY7PhCfv/AABEIAhcD6wMBIgACEQEDEQH/xAAfAAABBQEBAQEBAQAAAAAAAAAAAQIDBAUGBwgJCgv/xAC1EAACAQMDAgQDBQUEBAAAAX0BAgMABBEFEiExQQYTUWEHInEUMoGRoQgjQrHBFVLR8CQzYnKCCQoWFxgZGiUmJygpKjQ1Njc4OTpDREVGR0hJSlNUVVZXWFlaY2RlZmdoaWpzdHV2d3h5eoOEhYaHiImKkpOUlZaXmJmaoqOkpaanqKmqsrO0tba3uLm6wsPExcbHyMnK0tPU1dbX2Nna4eLj5OXm5+jp6vHy8/T19vf4+fr/xAAfAQADAQEBAQEBAQEBAAAAAAAAAQIDBAUGBwgJCgv/xAC1EQACAQIEBAMEBwUEBAABAncAAQIDEQQFITEGEkFRB2FxEyIygQgUQpGhscEJIzNS8BVictEKFiQ04SXxFxgZGiYnKCkqNTY3ODk6Q0RFRkdISUpTVFVWV1hZWmNkZWZnaGlqc3R1dnd4eXqCg4SFhoeIiYqSk5SVlpeYmZqio6Slpqeoqaqys7S1tre4ubrCw8TFxsfIycrS09TV1tfY2dri4+Tl5ufo6ery8/T19vf4+fr/2wBDAAEBAQEBAQIBAQIDAgICAwQDAwMDBAUEBAQEBAUGBQUFBQUFBgYGBgYGBgYHBwcHBwcICAgICAkJCQkJCQkJCQn/2wBDAQEBAQICAgQCAgQJBgUGCQkJCQkJCQkJCQkJCQkJCQkJCQkJCQkJCQkJCQkJCQkJCQkJCQkJCQkJCQkJCQkJCQn/3QAEAD//2gAMAwEAAhEDEQA/AP7+KKKKACiiigAooooAKKKKACiiigAooooAKKKKACiiigAooooAKKKKACiiigAooooAKKKKACiiigAooooAKKKKACiiigAooooAKKKKACiiigAooooAKKKKACiiigAooooAKKKKACiiigAooooAKKKKACiiigAooooAKKKKACiiigAoqNXJOKkoAKKKaTgigB1FFFABRRRQAUUUUAFFFFABRRRQAUUUUAFFFFABRRRQAUUUUAFFFFABRRRQAUUUUAFFFFABRRRQAUUUUAFFFFABRRRQAUUUUAFFFFABRRRQAUUUUAFFFFABRRRQAUUUUAFFFFABRRRQAUUUUAFFFFABRRRQB//Q/v4ooooAKKKKACiiigAooooAKKKKACiiigAooooAKKKKACiiigAooooAKKKKACiiigAooooAKKKKACiiigAooooAKKKKACiiigAooooAKKKKACiiigAooooAKKKKACiiigAooooAKKKKACiiigAooooAKKKKACiiigAooooAKKKKAE2jOaWiigAooooAKKKKACiiigAooooAKKKKACiiigAooooAKKKKACiiigAooooAKKKKACiiigAooooAKKKKACiiigAooooAKKKKACiiigAooooAKKKKACiiigAooooAKKKKACiiigAooooAKKKKACiiigAooooAKKKKACiiigD/0f7+KKKKACiiigAooooAKKKKACiiigAooooAKKKKACiiigAooooAKKKKACiiigAooooAKKKKACiiigAooooAKKKKACiiigAooooAKKKKACiiigAooooAKKKKACiiigAooooAKKKKACiiigAooooAKKKKACiiigAooooAKKKKACiiigAooooAKKKKACiiigAooooAKKKKACiiigAooooAKKKKACiiigAooooAKKKKACiiigAooooAKKKKACiiigAooooAKKKKACiiigAooooAKKKKACiiigAooooAKKKKACiiigAooooAKKKKACiiigAooooAKKKKACiiigAooooA/9L+/iiiigAooooAKKKKACiiigAooooAKKKKACiiigAooooAKKKKACiiigAooooAKKKKACiiigAooooAKKKKACiiigAooooAKKKKACiiigAooooAKKKKACiiigAooooAKKKKACiiigAooooAKKKKACiiigAooooAKKKKACiimlgODQA6ikJA5NMGQ2KAFZitOByM00NwS1IHB6YzQBJRUTOQ4UUBgXwOaAJaKKKACms22lyM4oLAUACnIzQDkmmGQZA9aHYhcqM5oGx+TnFLUTSYX3pwcEU2IfRTTg8DrSYI5JpAOAxS0meM03eM4oAfRRRQAUUUUAFFFFABRRRQAUUUUAFFFFABRRRQAUUUUAFFFFABRRRQAUUUUAFFFFABRRRQAUUUUAFFFFABRRRQAUUUUAFFFFABRRRQAUUUUAFFFFABRRRQAUUUUAf/0/7+KKKKACiiigAooooAKKKKACiiigAooooAKKKKACiiigAooooAKKKKACiiigAooooAKKKKACiiigAooooAKKKKACiiigAooooAKKKKACiiigAooooAKKKKACiiigAooooAKKKKACiiigAooooAKKKKACiiigAooooAKQgHrS1EzMq5xQkB5N8cfjX8Pf2evhnq3xe+KuqQ6P4f0OB7m8u7hsJHGgyfqewA5Jr8pP2Mv+C+/wDwTv8A27fi63wO+CfieePxI242ttqVubY3YU8iAsxDNjkLwSK/Pf8A4O3fG3inS/2B/DHw40K5kgtfF3iqxsL7ZkCSHO7YxHYkCvwv/wCC7f7D3wv/AGF/hN+yv8R/2ULIeB/F8v2TT5tT0stFcSXE1ukv2h3B3M4kJIPocVooFQ3P6BvjX/wcH614C/ag+Nf7LWj+AohffCfQLzWIdRmuGaO6e2iEojaIAFVOeTmv0a/4JFf8FBfFn7f/AOwfpX7WvxO0u00O9up7yO4trEs0SJakcjec5INf5+vw7+HfxP8Ag9+2/wDtH+Avj14pk8aeIR8ONSnvNXuMiW6aeySZS2STkBtv4V/V5/wbe+Px8Pv+CHlr4xWxXVG0y71eX7G7rEJym0iIO3ygt0GfWhozpO8pLskfT3xN/wCDmr/glX4J0jXodM8fG61/R1uIo7B7OZfMuoCy+Vuxjl1xnNfDv7DX/B2z+yL8WvDeuX37Ywj+G2o2l0E0+C3SW6W5gYHLlhnawOOK/Jb4zeOP2gv+Cnmk3nwZ/ZF/Y88NfDRtZmnivvFGsR26yxLLJiSWN324bOSWAJ9K8y0T/gj7+2b/AMEjvHdr8U/CHgzwh+0j4YvrFF1zSp1glltpRy6okj7ht/hdevcVm0Uf30/sVft4fs5ft+fDq8+Kv7NOuHXdFsro2cszRNDtlA3Yw/XivsqZ1VC+cY5r8A/+CI/7X+lftI/DvxL4Z0P4HRfBCPQL1I5bGExpFdTyA5McagE7APmbkdvr+3vjzxrpHw58Cat4517zJLPSbWW6mESlnKQqWYKo5JwOBTSA/CL9vP8A4LkfEr9jD9obUfgZ4V/Z48YfEO3sYIZv7X0qNzau0oJKKREwJXHPNfFNx/wc6fHeBWuLn9jz4gxxICzvslGAOck+RjFfhF+3P+33+yv+1D+0p4g+NHhb41/GTwPpmplETRtN0tjbwmIbGKFn6MRnFfFWp/Hb9mCSwmhH7R/x1uWZGARtOCoxweD854Penygf3ff8Ehf+C3Hhz/grD4h8aeGdI8C3vgq68HrGZkvJ1mZy7bSpAVdpU9Qa9Q/aA/4Lxf8ABNf9lr4van8B/jb44bSvEWisqXcJt3dUZhkfMvsa/jJ/4NjP27fg5+yB+0f4r+F/xM0zxFeax8UtRttP0a6FqxQqZWxLclsYLcFiM45r9Wf+Cqn7f/8AwRf8C/tQ+Pvgf8cfgTc+LfinbwG3l1S305J2kmkhzE+4EuduRzjinGJUnoj9Yv2nP+Dgj9l7wD+xdrf7aX7MmPiRo/h/VLXSruBC1rtlumwvzOOw54ryrQf+C6Pj/wAXftpfs9/s86F4PtYdC+Neiw6tJcTSsZ7RpiR5a4+VtuOpr+Mn4e6Vqul/8EB/jpLf6Zc6bBP4/wBJltoriJ4iIzIxUAOAflGBXv3/AAT6/a98HftP/wDBU39jrR/CunXemt4C0q20K7e6XBnmVmYvHjqmDgGlIXkf6iwkUqHBxn19q/Jj42/8Fhf2efgX+3h4T/4J/wDi+w1NvFfjARfY7mFEa1UzNtUOc7hk16B+3T/wVL/Y1/YA8I3WvfHjxZbWmqWsJeHR4WEt/cEj5QkI5AY8bjxX+fv8adP/AOCk/wC3P8bvEP8AwXa+GvhG6tPC3gjVLaXRrN9y3T2Nm+7MMYXLqFyZGXjnjOKkGj/U0imEhxuGe4qfYM1+J/8AwTH/AOC1P7In/BQv4d6RJ4f1200Dxv5SR6h4dvpViukuOjeSHx5iFvu457Yr9p7e6im4TNAi3RRRQAUUUUAFFFFABRRRQAUUUUAFFFFABRRRQAUUUUAFFFFABRRRQAUUUUAFFFFABRRRQAUUUUAFFFFABRRRQAUUUUAFFFFABRRRQAUUUUAFFFFABRRRQAUUUUAf/9T+/iiiigAooooAKKKKACiiigAooooAKKKKACiiigAooooAKKKKACiiigAooooAKKKKACiiigAooooAKKKKACiiigAooooAKKKKACiiigAooooAKKKKACiiigAooooAKKKKACiiigAooooAKKKKACiiigAopGOBmmDaeSaAJKKKKACmswUZNOpCAwwRQB/Pt/wcb/sXfEz9sz/gn3f6b8HbeS+8T+EdQg1/T7OLl7g2py8aAdWKZKj1r+Tbx1rn7en/AAcE+Kfg5+xva+ANQ+HVn8MLZYdb8Q6jbziOK6giEJncuEwQi/LGDksetf6Yc9lHckLLyByBWRB4W0GyEv8AZ1nDA0jF3aNFQs3qxXGT7mt+ZAj/ACmfAH7NXjH9mL9u79pP9n/4n+Kn8Y6x4a+HmtRTaxLuBuCLMMuQ5ZuAdoBPFf0cf8EQP2UdO/bX/wCDfGb9n7xFrt94bs9W1fUGN/pbbbqMRNG5CdAc4xivrb9on/ggR4s+IH7T3xw/a98C+MYpta+KXhu/0W00m6hCQwS3VuIFd5V52jGa+/v+CHn7BPxW/wCCdn7Cmn/s3/Gq7sr3WrLUru6aSxYvDsn27QCwBzwc0NmdG6v3dj+BHxt4P/Yo+GvjbVPBTa58f7iXRry4sTPBAUjkMEhjZ48JyrFcg9xXG6tffsJaBp9xrev3v7QFraqu+a4n/dxgeruyYA+pr/V7f4aeBLtvMutIsJXySS1tETk++2vhf/gpB+xpdftR/sUfEL4BfCu002w13xPpj2lnLNCixpIehJVcj6ismjQ/EP8A4Nxv2Kf2ZNW8PL/wUC/Z38a+NtQtb37Xo/8AZXiW4WRA643SFU4J54Nf1oXlnFdWMlncxLJHIpDqwyrA9QQc8Gvxm/4IT/sB/GP/AIJx/sPW37PPxsvbS81qLVrq9JsyWiWKYKFAJ6njJr9pHhDAkMRxVQYH8Bv/AAWW+M9/8If29PEPgHwR+0jovwn0+G1tZF8Pf2CbhoC6ks++NMHeeePSvyhvP2tvHdvYzvaftr6LPLtJ8mTwzIu4joAShwa/oe/4KW/8G+n7aH7Vn/BRXWP24fgF4+8P+H/Ot7aG0h1K1e4dWhRkbcpJQ5zxkV5Baf8ABBP/AILLxQCWX4qeAJJSwz5mhRMceu7Z/StAPOf+DXf9qL44ftY/tU/EPwr+0DrFv4107w1pa3GmXlxZQoY5BOqiWFvLVl3L2zXz3+0t4w+NH7Hn/Bwr49/a6m+COv8AxL8NpH5EUVpYSSxSNNbBBIkhjdCVNf0H/wDBK7/gmd/wUg/Y3/aIm8bftH/Erw54i8JXljNBNpuk6ctpI0pH7ptyqOFbnFf0byaVppBkkgRmPVsDP8qBt6WP88f/AIKz/wDBR74lftq/8E6fiB4T1b9n7V/hHoemXelXEd5qEBgS4mN0oKY2ICcHI4zXlXwB8O6J4W/4KffsEXen2lvZ/b/ClhJO0MaoZHM0g3SYA3MRxk1/bT/wU8/4J4aN/wAFJf2WNR/Zi1TW5PDVvfXNvdG8hjWRlNvIJANp4OcYr8iNc/4IcfHPw3+39+zb8cfAGq2F34J+Cmk2mmXTXJMd3cCByzOqD5RnOcVlMEfR37cX7Nf/AARG+Ov7WFh8Yf2zPFfh4eNPCsK2kunX2opCp2neguYM/MV/hB7GvuHR/wDgoT/wS08K+Dovh/oXxN8FafolvD5EVnDeQCBYcY2eWOMY68V4/wDtDf8ABBD/AIJq/tX/ABi1f46/G3wO+p+JNbdXvLgXUsYdlG0HapwOK8eX/g2Q/wCCPQ/cr8Msn/avJifz3VANnhXw9+B3/BvZov7ZukftY/DLxh4V0/xzDdb7a307UlW1muZTtVzbA7C+Tx71/Tbpk8FxGZLQ/K2CPfPf8a/AzQ/+DaL/AIJKeFvENh4q8N/D57XUNOnjuIJEvJjskjYMpwTg4Ir99dJsYtPtIraIfLGiov8AuqMD9KAsXVdy/Iq1SYGc0tAhDnHFRF2PFTUxlzQA4HIzS1EJV3bD1FSE4GaABjgZqIyMO3+fyqUHIyKaUBoAFYmn1GBs+p/z71JQDCiiigAooooAKKKKACiiigAooooAKKKKACiiigAooooAKKKKACiiigAooooAKKKKACiiigAooooAKKKKACiiigAooooAKKKKAP/V/v4ooooAKKKKACiiigAooooAKKKKACiiigAooooAKKKKACiiigAooooAKKKKACiiigAooooAKKKKACiiigAooooAKKKKACiiigAooooAKKKKACiiigAooooAKKKKACiiigAooooAKKKKACiiigAopCcDJoByM0AZuqSmC0a4zgJlieAAB1yfpX5B/sTf8FTNF/bW/a4+Lf7PHw/0CVtA+GE6W3/CQK+6C4uCcSRDtkHIGPQ19O/8FOPjvP8As0/sI/E34z2bql1o2h3T25Lbf3zRlU59cnivxp/4NcfgqfAv/BMSb4z6tAU1z4j6rfateTucvMASqtnr1LH60DS0P6a18QaQCRJdwDbwQJF/xq9FqFnOm+GVWHqpBH6V/l3/ALIn7LH7QH/BUL/gqZ8aP2f/APhc/iPwXp+hanqd9Gba4mkG2O4KrGq7wqgA8V9c6F45/bx/4IN/8FR/h5+zd45+J178Sfh74/ngXyb2V5C8FxKIWYxuWKSISCCDg0CP9GGKVZBx2qQEE4Havx0+Pv8AwW1/YV/ZQ/ab/wCGUfjhr1xomvmwGom4nhxaLEVLKGkz94gHAx1rB/YY/wCC5n7I/wC3trfxBX4Vx6hpeg/Dy3F5ea3qiCGzlg5BdG/hxjOCckUAftKN5y1KvTI5Nfy8eKv+DtH/AIJk+G/i3/wryx/tzU9HjlME+v21pmzRw23hSdzKezD8q/oA8MftR/Bnxl8DLX9pHw/r1pL4LurE6kuqGQLALYLuLsx+7tHUHkHimB7Nr2u6Z4Z0y61zWp0tbKziaeaVzhY40BLMT6ADJr5n+BP7b37KX7T1jreo/AHx3pXieDw8M6k9lLuFsMHmTIGBwea/nr/aD/4Ojf8AgmP4u0zxl8DdJ1HWJDcWF7YRautmTYvK8bouGDbtjHo2K/MH/g0R/wCEc1P4dftIt4hi8zS7iGNrllJDNbkSlgMf7PIp68ty7I/tV+AP7a37LP7UWo6xpP7PvjXTfFd34dl8rUYrGXe8D5K/Mp5xkYyMivqeOR5Gz5fBGc1/Jd/wbt+Hv+CV9j8aPi1d/sBT+IrzXEbGr/28oRIoWmb93BgnKh+7c4r9Af27f+Dhz/gn7+wR8QJPhD451S78R+KLbC3OnaLGJ2tye0j52hvVRk1IraXP3NkmjRgsnys33aaLkhehz6Yr+d7Vf+Djj9grxf8AsXa/+1R4fvNWs7fTXOlC1ltGE6ahOjeQnHy8nuDx3Ffz9f8ABDP/AIOJ7Hwf8QPGPgf9ujxV4j8SX/jLWreLw2JF+0paJLKy+WSSNi/Mo6dqYkj/AELTGrJhx15IqygUEqg6dK/Jz/goZ/wWN/Y1/wCCbPhuyv8A49ay8ur6pD51ho2nr5t7MmPvFOAi84y1eUf8E5v+C9X7E3/BSrxLJ8PfhLd3eg+KoojL/Y+rosU8qDqYWBxIQOSBg0OTEft0wQj5xzXy78cP2zP2Xf2atb0zw58cvGuleF9Q1pttjBqE3lPOc4wgwc8nFfI//BRX/gsP+x7/AMEzdFtpP2htWkk1nUEL2ej2CCW8mUfxbc4Rc8bmr+Eb/guf/wAFS/2ZP+CnPxj+Bfjj9n5r6GfRr2NNRsdQg8qa3Z5U2jOSGHuKLlW0P9QbTLy01Kwj1CxIeOZQ6MOjKwyCPYg0r3yLlXXocYrg/hBMv/CsfDxbIP8AZlmef+uCV/Mf/wAHIX/BVv4vfsoeH/Df7If7Kk5tPiH8SX8kXcX+utLV2EeY/R5GOAe3NIk/qK/4Tfwlc3/9jQahave5wYFnjMgx/sbt36V5L8dP2qf2f/2Y9P0/Vvjz4osPC9vqdwtrazX8nlrLMwyEU+tfxX+CP+DZT9v2L4f6b8fNO/aL1Sy+Kt0Ir2W3llm8iN5MOyNLu3FlB5PTPau7/wCDonwV48+Hn/BPH4B+Efitrr+JvEema7aw6jqbKFNxOsRDvgep6U7Af3BaHq+k+ItMttd0iVJ7S9iWaGaM7kkRxuVlPcEciuhXCjaK/JmT9u/9nL9hL9gT4dfGP9pPW10DRh4e01ITtaSSeQ2yERRqucucdyK/Pv8AZq/4OpP+Cb37SfxntPgpYyax4budUnFtZX2qW6payys2EUsrEpv7E0WA/poDHPHNOwd2a+Dv20v+Ch37N37APwi/4XP+0fri6ZpkhCWsUa+ZPdyMMhIUB+Ykc+mK/NT9if8A4OVP+Cf/AO238V7X4J+E5dV8PeI9UnFvpttqdvhbtj02OhIGewIp8o2f0OFwDiuY8Z+Ij4V8L3/iNYHu/sNvJP5MX35Niltq+5xgV+P/AO39/wAF2P2Hv+CdPiZfh78Y9VuNS8VSR+Z/ZGlxefOinoZCDhM9ga9c/YC/4Ky/shf8FMdH1B/2ddWmm1HTEU32mX0JhuIUbuQcgjPGc1IJXIP+CZv/AAVK+EH/AAUr0DxXf+BtNufD2seDNVl0zUtJvmUzx7GZVkIAHDFT9DX6oqd3I6V/Ep+y7/ZX7BX/AAc2+NvgfoUy2Phz4waYb5bVc7PtUwMg46bvMU/nX9sVsxaL5fWiw27q6LlFFFBIx+lPHPNFFABRRRQAUUUUAFFFFABRRRQAUUUUAFFFFABRRRQAUUUUAFFFFABRRRQAUUUUAFFFFABRRRQAUUUUAFFFFABRRRQAUUUUAFFFFAH/1v7+KKKKACiiigAooooAKKKKACiiigAooooAKKKKACiiigAooooAKKKKACiiigAooooAKKKKACiiigAooooAKKKKACiiigAooooAKKKKACiiigAooooAKKKKACiiigAooooAKKKKACiiigAooooAQjIxTWOBgCn0gGBigD8Uf+DhXwT4n8ff8ElPi3o3hdc3EWmfaWAP/LOFg7/+OivNP+Dd7xHpuuf8EbPhq2lzJL9jsryCbYc7HWRyVPoeRX7GftHfCjRfjn8DvFPwh8RIHsvEem3FhKGGRiaMr09ia/lq/wCDaLxT4s+B+nfGv/gmL8T4pLTXPhzrlxc2COhUPZ3BKBwehyNjfjQNOybP5cv2OZ/+Cmd1/wAFUvjbcf8ABMQwDxc2p6n9vW4Mar9k+0kH/WgjO7HTmv6K/wBi/wD4IU/t5/tBftpaB+37/wAFc/FdvqupeHmjuLLRLZ/MYSQtuiRyoCJGjfNhetfUH/BIn/gjH+1P+xJ/wUq+K37VfxZudKm8L+MTfGwFnMzz/wCk3HnJvQgBcDg8nmv6tJbUY3en5UBHZH+dR/wWT+A/gn9pH/g5G+GfwV+JlsX0LxFDpMF5HGcGWEuxYHHY9PpX64/8HKXw/wDCP7Gf/BJbUfCH7LPhyz8I6drGoWGk6i2lwiFnsw2AkjoAWBxgljzmvZP2uP8Agjx+0z8cv+C1vw//AOChPhC90mHwd4VFj9phlkYXbfZ2YvtUcE88V+3H7cP7GXw4/bq/Zu8Sfs4/FiEnTdft9nnJy8Ey8xyp7o2DWgj/AD7P2R/Df/BQLx//AMEyIvgB8EP2QPD/AIr8I+KrKVR4qYxm+uZXJH2hXaQFXQ4wOAMV7p8avh5+27+wr/wbVeIfgr+0Bp954T1S68VxWYs53DyjTbp13IrIxwhI6Zr7I+CX/BHH/g4S/YdS6/Z//ZG+M+kp8PLuaXyJLlyfs0bHhlidWMbkHnYcZr+hjxX/AME0PHH7Sn/BMf8A4Yg/bU8Wf8Jh4murAxXPiFE2yC7Db4pRu5JjOBnuP1hgfjR/wRt/YL/Y61//AIIaP488Q+CdJ8Qaz4o0vU7vUbq9hSafzoQ4jAcjKBMAgcV8Lf8ABpXHZ2nwo/ac02D5Nts6qmOAqpMFwenat79n7/ggr/wXK+Dnh/xF+xX4W+MNl4Z+DOrSSvLd2s7SSSo4I2pDtDxlxgOA2Otfrn/wRA/4IwfH3/gmf8Mvi74J+KmuaZrVz43RotOmsi20AI6hpd3IJLDIql8PKVzH4E/8GvXi7xB4G8R/taeKfDEbS6lp+iXVxbqv3vOjnkK4/GtL/g1f/Z7+Bv7Yv7Vnxe+P37UdnbeKvGumO08FrqiibY11MwmnKPkMV+504r9sP+CC/wDwRX/aO/4J1/F/4ueL/wBoW60u903xzC1vax2UpkJV52kO8EDHynGK+JPj9/wbs/t7fsuftl6n+1L/AMEjfHtr4ct9cnlnmsLuZoGtzOS0iZwVkjLEkAjipaBH9KX7YH7IP7L3hX9iX4keG/D3gXRLPTv7LvtS+zRWcQjN2sDbZguP9YOx7V/Iz/wZ3/BX4Q/FHT/i/q/xF8M6drt5pV5YvZzXtukzwHcx/ds4O05A6V/Rz/wTP/Yh/wCChHgn4LfELwv/AMFH/iHD42vvHgkQW0JLiyEiGN9khxwyn7oGBX4T/ss/8EI/+Cyn/BOj9qDW739jH4g6Lp3gHXdTWa5M0p3XFksu5Y5Yip/eKhK5B/GhLUUdLn5CfH34rfHr4if8HCXjjXdO+FsPxg1/w9qU9ppHhXUXItzDbRgRMqsyghR8wXoa+47b9mb/AIKlfHb/AIKYfCX9rKD9mH/hTdt4bvrePUn0MxRwSW/mAvLMvmZ4XI4HINfsL/wVV/4IC/HD48ftI6V+33+wf4xt/BPxZtkt3vkkZooLmeFQPOSRclWOMEEYYda9t/YH/Zi/4L9n9ofw78Uf25PixoknhHRldLrQrKIM16rDb+82Kqhu4Y5wauxKR/PD8QfA2g/tj/8AB0g/ww/alVLrQNOv44rTTrwl4poreLzIosHgCRucd66H/g6k+AvwW+DX7XPwK1X4UeGtO8Oy6lLtuhYQrB5ohniCFggAIUcCv1q/4LMf8EC/jr+0H+07pv7eH7AfiO38O/Ea0Mcl5BPI0PnTQf6qaGQfdYDgg8GvgD49f8G7/wDwWF/bN8UeDvjl+1T8WNH8Q+K9OuITJYTlxFZW8bKxEbINpdsfNgdal+RaeiP7s/hAqt8KPDTH5idKsz/5ASv4PP8Ag4SnsPhH/wAFzf2fvjF8R4TJ4XxZ7mkH7oeVdLvGTxxnJ9K/vU+HOgXnhXwDo/hvVXDTafY29s7L93dFEqNj8RX5U/8ABX//AIJI/C7/AIKm/A9PB3iC5Gj+KtGdrjQ9ZQZa3mI+647o3cUkJ7n6v6XrPh++0SHX7SaJ7K4iWeOXcPL8t1DBt2cbSDwa/j3/AODwu9in/Za+FwtAskX/AAlULb1OQcocYPPBr5G0L/gj5/wcX614Zt/2RPEXxmgsvhbastuL2O+YyfZUPCqoHmYx0UtX6yf8FQP+CLnxq/ac/wCCaHgb9k34V+Ln1/xn8O5be5ttQ1mTb9ueIbSrvyVwD8pOe1aREbn/AAUE/ap/Yk/Zc/4JdfCvUf2xPCcHj2S/0jSv7D8OyoHa6vktkKdc7VXqT/Ov42P+CvniD9qX4hfDr4a/tFePP2f/AA/8DvCV3fqdBm0lFhv58gMnngYbBXDLmv6b/wBsL/gid+3Z+27/AME0PhP8OPiXrunW/wAavhbJ+4Jl3WlxDGNkSNKq8MqAYbHavh79p/8A4IS/8FyP23vgr4b0z9pX4k6BrN94QkhtdL0BZCltHBEoTznnVAGkCjHTPvQwPr3/AIK6/wDBNn9qD/go7/wTq+Afxm+A07a94j8GaHY31xo1y4AvhJbJudc8NKCOh6gkV8+f8Exv+Cp/wG0H9pvwT+zH/wAFBf2e9L+GHxT0lotO0XX4dOW1Jmx5QaUMo278D51JBNfrD+2J+wZ/wVhuf2ePgvpv7DfxLs/C3iH4a6PbW2o6Mx2299cwwhGJmxh1GOFYYNfnH8A/+CLH/BUX9uX9sTwh+1p/wVn1rSbG28DTJJbWWniP7RdeRJvRWEQChSwBJJJxRIDwr/grz/wTO/ba/Zr/AOCkE3/BT39nXwdD8XPDt3NFf3uk3kYujD9nCtJE0ByWjZUwCvIz0r9kP+CFf/BRf9h79sHxF4s0P4W/DSz+FHxWRFl8QaTFAsRn8r5WdCAD8p4KkZFeF/tu/sn/APBwl4G/aP8AE3xn/Yj+J2n+IvDPiPbHBod2qRCxhAwEWOUFDgfxjk103/BG7/gkB8cv2Hviv49/4KD/ALcmuWN14/8AEltNPPb6fjyLZWG+aRtoALnHQDArI0jI+Lv2tdK1DxP/AMHW/wAJ08NRNcyWGm2s115fzbI18wktjpgdc1/cPasNpKcA1/F7/wAERvDXij9ur/grX8cv+Cm/iq3kXw/pM83h/wAPyyoVD7SYspn0QEn61/aNBHsRR6VRPKlFJEqsw4apaTAzmlqSQooooAKKKKACiiigAooooAKKKKACiiigAooooAKKKKACiiigAooooAKKKKACiiigAooooAKKKKACiiigAooooAKKKKACiiigAooooA//1/7+KKKKACiiigAooooAKKKKACiiigAooooAKKKKACiiigAooooAKKKKACiiigAooooAKKKKACiiigAooooAKKKKACiiigAooooAKKKKACiiigAooooAKKKKACiikLAUALRRRQAUUUUAFFFFABRRRQAhGRijhRS0UAVZ4xNHg8157o/wo8CaD4ovfGui6PZ2mr6nj7ZeRQos8wUYXfIBubA9a9GEZ/z/APrpyZ6HtQN2GQQrFGFFS/7NOooEV2gBbcDzT2T5NoqWmsCelPmBEBjO3PVqa1uZF+YkE1YLY4p9IZRkgx8wJzTDA4Qc1oEZGKRQQMGq5hFaO3EZ3sefSgQksT696t01jjgUrgVxbpngniozaqclyQTV0HIzS0JgU2tVkUAnI96ctsqqVU4+lWqjJLNgUcwFR7KM5Y80RWqn5xkVfoouBVMBJyTn2pVhKAjqPSrNFFwKJ0+38zzcc02XT4JmLv8ApWhRRzAZbaZAI9q5pRYIW2YwvetOimpsCkbGE4IGMelKLWJJBIg9jVsnAzSKSRmk2BWW1jDZbn0qG70yyvLZ7O5iWSGUFXVgCpB6gg9QfStAsB1pRzzSA868CfCv4d/DGwm0r4daJZ6LaTzNcSQ2cSwo0r/ecqoxuPc16ETtIpxOBmlphcQHIzS0UUgCiiigAooooAKKKKACiiigAooooAKKKKACiiigAooooAKKKKACiiigAooooAKKKKACiiigAooooAKKKKACiiigAooooAKKKKACiiigD//Q/v4ooooAKKKKACiiigAooooAKKKKACiiigAooooAKKKKACiiigAooooAKKKKACiiigAooooAKKKKACiiigAooooAKKKKACiiigAooooAKKKKACiiigBCcDNLUW1yfm6VLgDpQNoYWAbFI6k8ihgPvU7PrQDEVSOtPoooEFFFJnnigBaKKbuyOKAFJA60Ag8ioiGJwakT7tBTWg6imHdu4p9OxIhIHWlqJmHBPSlU+hyKQiSimFtwIHNNZzkY6UFWJaKbu+YY706gQhUGloooAKKKKACkIB60tFABRRRQAUUUUAFFFFABRRRQAUUUUAFFFJkd6AFpoZegpC4FCgAbqAHEA8GlqMSZ/wA//WqSgApCcDNLSHHQ0AAIPSlpAMcUjEgZFADqKQEHmkG7PPSgB1FFNYkDIoACcED1p1Q+dH5mzvU1ABRUbyLHy3SlV967lH50APopAeKWgAooooAKKKKACiiigAooooAKKKKACiiigAooooAKKKKACiiigAooooAKKKKACiiigAooooAKKKKAP//R/v4ooooAKKKKACiiigAooooAKKKKACiiigAooooAKKKKACiiigAooooAKKKKACiiigAooooAKKKKACiiigAooooAKKKKACiiigAooooAKKKKACiiigBCQOtfPPx5/af+B/7NNtpuo/G/xLaeHLbVrlbS1ku22LJM/AUH1r6EfpzX8oX/AAdP/D26+Jnwf+Engi3nFq2q+LILNJz0jeUYVj3wDiubGV3TpuaR7GRYCGKxUKE3ZPr8j+oTVfHnhnQ/B83jnV76K30mC3N3LdFh5SwBd3mZ/u7ec+lc58H/AI0fDj47+ELb4hfCfWLfXdCuS6xXlswaN2Q4YA+xr+aH9ij9qDxzrH7Bnxk/YO/aSmI+I/wk0G9sz5hJa90toGNtcLnlgFIBP0rqv+CRH7Ufw7/Y3/4IY6f8ffie7rpnh+bUZPLTHmTOZcRxJ/tO2AK5aWZRlKKasmm/uO/FcMzhSnJO8lKMUu6aevzsf1GNIMcHFJ56884r+UnT/wDgq3/wVX8JfDK1/bm+KHwi0aH4HXUizGyt52OtwadI2EunHK4wQxFfa/7c3/BWHxF8M9I+FvgL9kHw5D4y+IHxkhjn0G3vJDHbW8MqBvOnI5wuentWsMxpNavzOafDWL54wik731TutFd37WP3d+0I3y55NSBgp5NfyYeH/wDgpL/wWU8Efty+Gf2G/jF4G8HXet69EuoC8s5ZEgeyU/vmjbu6DPBFfb37Wf7T/wDwWCHxa1vwH+yJ8KdGg0DQYYpv7e125AjvSy7nSBO2CMc/nWkcbF3t0KqcOVoyhFyj7yuve0t62R+9Nzd28MLXErhEQEljwAB61xegfEPwh4y0uXV/BmqW2qW0MjRSSWsiyojp95SVzyO4r+er4D/8FSf2m/2zf2Jfig3gHwbptr8Zvh68unatpE85FmwVWEk0bjnG0HHPWvzs/wCDbf4p/t93Gh33h/Q/CWm33wvu/Et5Lreq3Fywu7e5fJdIUOdyqeKw/tGPPFQ1TOj/AFWrwo1qtWydNrS+9/607n9N/wCzX/wUO/Z3/ak+LnjT4I/CjULq51/wDP8AZ9VjuLd4lDZwTGzcMAeK+8hIFUMTjjpX80nwE/by8c+L/iv+1HpPwe+Hug2PiX4ZtI9tPBEUk1R4VLD7Sy4JJA7V9sfsef8ABTXRv2h/+Cdtx+2p4utodKvdEtLw6xZRsfLgu7IHfGC3OCQMZrWhiotWv/SOTMMkrQfNCOl4r5ytb8z9hFmBOAc0ksu0E5xX83/hz/gth4k8If8ABNu2/bc+OfhmEa54p1SbT/Cmg2BYNfFn2W+5m5G7gsfSvMNO/wCCp3/BTj9mnxH4L+IP/BQn4Z6Hovw18eX8FilxpNyz3WltdECAXCnjnIzT+vUrKSdy/wDVrFXlGyum1vu1vY/Uz/gpd+3R4l/ZC+Hfhyz+GdjDq/jnxprVto2iWE5PlySTOBI7gc7UTJNfVvxH/aP+HX7O3wwi+JX7SPiHT/C1nFFH9suLmQRxLMVG5Uz8zfNnAAzivxW/as1DT/jb/wAFvv2f/h1eYudK8MaJfeIY0JyjTyKFhkx3xXgH/BQTQ9M/bE/4LcfB79kH4qRnUfA/hvS5dfutLLHybq45KecnRlXb3rGeLac59E0kjsoZPGcaNKateLlJreyv/kf0M/s/ftgfs7ftX+HpvE37OfjHTvFNpAdkrWcu4xt23ofmXPbIr5q/Y5/bR8Y/F39pP4r/ALMPxisrfSvEngO9jlsUgY7bvS7gZinAPJbPytjoa/Hzxp8OfBP/AAT8/wCC5XwvX9n+wh8MeF/i3pFxZazpVmPLtpJ4v9XIIh8oIJHIHavoH483SfBH/gvd8KPEumgInxH8MXuj3yqcb3tzuicjviolXlpHs9SIZXT+zqpxco33Vt0f0gxhgMtUlUbOR2jJfnmrvoa9Vs+VS0FooopDCiiigAooooAKKKKACiiigAooooAKKKKACiiigAqvM6xKZJBxUzYINZGqylbUqoPOaqKu7AeA63+15+zFoHiK48Kaz8QPD9lqdo3lz2s+oQRyxv8A3WRmyD9RXrnhnxz4a8X2a6r4T1K21SzfpNaypMn/AH0hI/Wv4bP2Gv2Df2Pv24f+CoP7WVt+1xp6arHomtD7A0l41qYvMIDbSHXJ/lX0f/wT/sfCv7D/APwWq8T/ALKH7JXiy51z4Of8I1Lqet2M141/BpN1ECf9azEKeB371SWjZSif2XQCRn54FXN5zgV/LT4l/wCC+H7Rfxa8deK5P2CfgLf/ABH8C+ALmWDWddafy1m+z5MotFGNzBVbA5zX6J/s6f8ABZD9nf8AaF/Yk8S/tpaZBcaVa+DYpzrmkXWPtdnNbg7omAA5JGAahisfr40vlAyueK+VvF37bH7Nfgn9ofQ/2WfE3ie1tPHXiKBriw0yQ/PIi989AT2Hevxi/Zq/4LIftvftGroXxS0X9mjU7n4YeK7zydP1W0vI2uUty2wXEsTcBe/Fen/tC/tD/s7+FP8Agrr8KfgT4k+E9hq/jrxHpE15Y+Kpiv2mxEXPlKMZPPGc8VcYrcXWx+8i6/pzXQsDKnnHohYBiPXbnOK+W/j/APt1/svfszePfCfwx+Nnim30HW/G1z9k0e3mVibiXgYyAQoyQMmv5Cv2g/27f+Cg+k/8FztHvPB/wavtQ1HRNEvLPTvC41MJHqVoGb/TwdwQccgNyK/Vr9vr9rz4e+BvF37MuuftS/A6x1Txf4y1qKGCHUJBJLoF3IQCySAYcg44+lNxQk7n9KVtMk0YlQggjPB4NWgQRzX5BfCj/gpZda9/wUi8U/8ABPXxv4UXQbjS9LTVdH1Izlv7QiJwwWMjgrz0NaPjD/gpfc2H/BSXRf2AfBfh+LVEfSJdY1vV/OK/2bEgJQMnT5sdTUtDP1tPSsjV9VtdHsJdQv32Qwo0jt2CqMk/lX86PxU/4LZftA+N/jH4v8A/8E9vgzP8W9B+Hm6PX9c+0/Z7czx/fgtG6SuozkeorvfiJ/wVQ8G/tHf8EifiN+1f4Mtrjw5qmn6de6XfabOc3Gn6gB5TRvjB4J4NCiJvRs+/P2Gv21Lf9tSDxr438NaM9j4X8P65No2mahI2DqH2b5ZpFQ/dVX+X3619ir8WPht/wmUfw6Ou2H9vTIZE08XEZuWRerCIHfgeuK/Nv/glR8DdP8I/8Ewvh78Po5po31rQTdXlzEdkzT3+XllDdd/zZBr+f74J/sh+F/2If+DivwN8PPBev6zr9trXhzUL159au3up/MdWyoZicKM8CplpG5rCN58p/Sn+3D+29bfsZax4E1nxVo32rwt4p1uHRtQ1PzCo083B2xSMuMFWbAOSMV+htncx3dpHc27BkkUMpHQhhkEexFflb/wWL+E9l8WP+CeHxI0q7Tdc6dpj6jZuPvRXNp+9jdT6qRXs3/BMj4zan8ff2D/hd8VNV3G61TQbXzmcks0kS+WzEnuxXNOWyZKd9D72CnduNPpAQelLUkhRRRQAUUUUAFFFFABRRRQAUUUUAFFFFABRRRQAUUUUAFFFFABRRRQAUUUUAFFFFABRRRQAUUUUAf/S/v4ooooAKKKKACiiigAooooAKKKKACiiigAooooAKKKKACiiigAooooAKKKKACiiigAooooAKKKKACiiigAooooAKKKKACiiigAooooAKKKKACiiigBrDIxX8wv/AAcmxzL4a+Bdwql1Tx1YDA9S4Ff0+V5p8QfhH8N/irFaW3xF0S01lLCZbi2F1EsgilU5V13Zww7EVy43De2pOn3PVyXMVhcTGu1e3+Vj+Wz/AILr/s3fEf4N6DpP/BR/9ma2I1fS9GOieLbaMHF5pVzDs3uq/e8snv0HPavij4bfs+/Er9p3/g2bbw38MLWW+1Sw1S41aO0hOXlignErxoB1O3OB3r+4DxH4G8K+LPD9z4S8TWMN/pt3EYJraZQ8TxkYKspGCMcYrD+Hfwd+Gnwn8HxeA/hxotpomjQEmOztIxHCu7rhBxz39a5auVRnU529LWPcwvF06eFhR5fehNST8k9E/TU/hG/Z0+H3/BLP4v8A7KmkR/HX9prxp4c1FraPTtX8KXeoyI0VyCFaFbQqS0YPAGOBX13/AMFhNC+HP7M11+ypZ/A/xC3g/U9AZIdH8caopksraxWMEC7AGXMgIOOPpX9P+p/8E9v2JdY+Ip+K2p/DDw9ceIXkErXz2UZl3jo3TGffFfiX/wAFj/gH8Z9W/al+F/xl1X4WXHxo+DfheCWO98K2AUPDdtwk5iOBIAOAvQVliMDai4rfRfI9fK+IFUx0WpNRvKTTatdp6LTrtqeff8E89L+DfxP/AG34f2rv2jf2mPDHxY+KMOnvp2h6bomLO1gibrsjfBZ29Afzr4d8fftR+Hv2n/8AgoJ8Uvh1/wAFG/jDq/wq8HeApzBoXhjT55bFdSjHG5nQF5S49OvatDxX+xtrH7dPxs8A6d+yf+y7d/s96d4f1aHUtY8UX6pZ3HkxNuMMUcRyxb17V/Wr4i/Yj/Za+JPiWx+IHxK8C6Rr3iCwhiiTUb21SSdvKUAMzEHJyM81NOhKpeK01uY4zH0MNJTndtxt0vCz6WutT+WD/g3wsvC2reP/ANqXT/hX9ql0K4M0OlJebvtDwMrCIyb/AJ9zD15r1j/g3U/a4+BPwb8E+MP2O/inr8GhfECfxnqH2bR7wNHcTh3bGwEYPPrX9VHgj4H/AAm+GmqX+s+APD1ho93qhU3ctnAkLTbRgeYVHOPevOpf2MP2WpfitH8cv+EF0geLYn8xdTW2QT+Z/f3AA7vfrWlPLqkIxs9U3+J5+Y8UUsXKv7SD5ZqNrPW8T+e3/gjxaadqH/BSv9sDTZissMuqRo6dfvjDDH0r8iP2h774hfsgfGX40f8ABJrwdayPafGrxBZ6h4d2Z2RWt9KPtI46D73Sv70fBvwO+E/w88Sar4u8EeHrLTNU11xJqF1bxKktyw/ikYDLH61R8Rfs8fBPxX4/sfih4m8Made+IdNAW11GWBGuIh22yEbhinXy1ypKClZp/mKjxVFYt4iUbpxirecbWf4H8rf/AAXp/Ye1zwL+wB8HLT4Z6feSeH/hLc2g1SLTMmeG38sLLcRqOrISWzjivA/h78A/+CPf7Q+keBLfxf8AtOeL/Fd3rVxaSWXh6/1OWaQXaMCsctuqnYVYY56etf21av4e0XXtNm0vXLeO8tp1KSwyqHR1IwQykYII7V8j+Af+CeP7E3wt8dN8UPh/8MfD+k+IHcyfbYLONZQzHJZTjg/SqllkVJOPkn8hYfiuSw6o1r3TbTVuvfQ/Hv8AbH0i0/Zv/wCCvX7N3xjnPlaFq+n3HhNp26K+weSrseBmvH/+ClGvWf7Dn/BXz4Qft6fECN4PAmr2Enh/VtSClorSRjhGkIBwpznNft1+3x+xDoP7bnwjs/A15qMmh6vpGo2+qaXqsSB5bW6tnDKyjjIIGCMjNfRHiT4J+Cfin8Orf4a/G7SrPxXZG3iiuUvoFkjmeNArOUYEAsRn8a0q4Nz51fdpmNDPIQVGVm7RlCXo7/5n80DfFr4e/wDBSv8A4Lg/Dvxd+zzcjxJ4I+Eej3FxqGtWys1obmbmONHIALZ619QfFeGH4/8A/BezwDoWmQM8Pwr8MXWo30yHKxy3XyxK3oTX7bfBz9mf4F/s8aLN4f8Agb4U03wvaTtvkj0+BYQzAdTt6496+cv2U/2HbX9nz41/Ez9oLxHrUniPxJ8Q75ZnuZowhtbOEYitk6/KvXPes54Odk76t3ZdTO6d1GmrRpwcY331d2foFZBihVhg+lXwMCqtrMskecYq3XrS3PkgoooqQCiiigAoopCQMZ70ABOBmlqCWZIlyxpyyBj8pzTaAkByKWiikAUUUUAFFFFABRRRQA3AXJrL1R/9HwPQ1pYc8HpVW6geSEovcf59aqLswP4I/wBjv/gmt8Df+CiH/BUr9qyz+Ml/rdlbeHtbUwHRr17Mu0rAMJDGQW/Gv6U/Cv8AwSm/Z1/ZB/ZV8f8Aw3/ZJ8Oiw8Q+ItGvLaXVbiVptQupJI22iW4cljzX3L8I/wBj34BfAf4j+Kfi98LPDVvpHiDxvKsutXcJO+6dehfORn6V9OPCjQmFhkH86pStoDu0fyX/APBAn9r/APZV/Z6/YR8Q/s5fGLXtO8I+Nfh3qOpL4is9TkjtZpW3MfMXeQZgQCO5/OvGP+COug/B3x78Of2sfjp8b4YtK+B3xA1+5jjmnzFBJbgsskq8YA5zkcciv6Cvjp/wR6/4J7/tH/EKX4o/Fz4aaXqmuXBDT3W0xtMQc/vQhAb3yK+vdF/Zo+C+hfCD/hQ+meGNOh8ICA2x0hYFFqYjwQUxg59TzWZV9W/kfxqfEbxR4x/4IxWngn4i/sB/H+2+I/ws8T6xb2lv4EvriO+mMNzIBts2Ql0VA3cA19pftV30+uf8HBX7MOv3cP2S4vfDFxcNBL9+MuquycdwWxzX7MfDT/gjr/wTu+FHj20+Jvgn4W6Ta6xp832i1mZWlEMmc7o0clV59BX1R4t/ZK+B3jn416F+0V4p8OWd34y8MRtDpmqMv763jf7yoe2atSEtHc/nB/an+IPgj4J/8HG/wv8AHPxa1a28OaNd+Ebq3hvb5xFC0jZAQyMAoOfU1jf8F9/E3h3xL+0V+yJ4m8LXsGo6fdeN4TDc27rNDKMj7rqSD+Ga/oe/an/YC/ZS/bSs7Gz/AGlfBVh4pXTiTay3Sfvod3UJIuGANVL3/gnl+yXqXhvwZ4P1LwdZz6d8PJluPD8Um5vsUq9HjJOc/Wm5b+YopJJdj8Tf+C4Gir+yh+0X8GP+CpPhtGiXwbqa6V4iaKM4bTLrgtIV5wp9eOa5r/gkV4Lvf2vb79oz/gonGWubz4j3l5ofhy6ZCpTT7eMqhjySQrEjOMc1/R98dP2d/hT+0p8Ob34Q/GvRrfxB4d1NQLmxuBmKQKcjOPQ1d+CvwD+Fv7Ofw4svhD8FNFt/D/h/Tgwt7K1XbEm45OB70pPVWF1ufwx/8EpPhl41sNF+I37OWr/tOap8C/E/hLXbuTU/D0y20EcscjsRcpJPgyhh1OTX61aB/wAE/Pg74T/4JV/Hfw58BfiK/wAV4fGqX2p3GqApJv1GIFpNvljBJYZ6V+w/7Sf/AASq/YV/ay8Vp45+O/w/07WNYRDGbxVMMzoe0jRlS/8AwKvpj4Rfs0fBv4C/CuH4KfCHQbTQvDMETRLY2ybY9rghs+rMOpNO6uDV4uPc+Mf+CVfxm8MeI/8Agmj8MfHer38dnbab4fjtr2e4YKsL2eY5fMJwF2lec9K/C34zftd/svy/8HDfwv8AidH480Gfw7b+F7y2m1NLyJ7aCZx8qvKDtUseME1+6H7JX/BPWy/Z68DfEn9n/wAUXUOufDrxfqlze6dpkm7dbW96M3FuzZ+6WOQB0riof+CCn/BJ+3+eH4M6ExH95GOfrlqU2tjZStLmOv8A+Cofxz8FaD/wTb+I/wAR/D+p219p+qaFNBYXMLiSKd7lfLTy2XIbcTxivRP+CVXwq1j4M/8ABPn4TfDzWixurLw/bNLuUoQ0y+Zgg9CA2K8y/a2/4J2xfG/4efDv9nf4fzWfh74Z+FdTtrrUtJRGzPa2jB47aIg4C7hznPFfqXo2nW2j6bb6XYrtggjWKNR0VEAVQPYAVPSxnHR3L6xsrE5qeiikIKKKKACiiigAooooAKKKKACiiigAooooAKKKKACiiigAooooAKKKKACiiigAooooAKKKKACiiigD/9P+/iiiigAooooAKKKKACiiigAooooAKKKKACiiigAooooAKKKKACiiigAooooAKKKKACiiigAooooAKKKKACiiigAooooAKKKKACiiigAooooAKKKKAGbu/an0hGRiloAYV6+9AXIGafSEZ4oATaAcimMhIyOtS0hGeKAuVwmSN4yRUkabeaexwOKUZxzQU9hOOhpQAOBS470UEjV3c5p1FMKAnNAIU/rTAjH7xpVTBz/n+dSU7hYi8sg5Bp5UHNIyk0/HGKQeYwoOtJIu5CpNPAA6UEZGKAIoY0RcLU1NVdtOpsAooopANwd2e1OoooAKYxwQSKfTSobrQB8j/tyarruifsm/EDXPDN1LZ31rol5LBPC2145FiJVlPYg8189f8EavG/iz4jf8E2/hb4y8c6pNrOrXullrm9uGLyTOJXBYseT0xXv/AO3c6xfsg/EWVnVFXQL7JYccwtXyn/wQ0Hl/8Esfg+mQxGkEZXof3z81tKP7tP1/QtLSXlY/WpSec06o48nJNSVkyAooopAFFFFABRRRQAUwMS2O1PooAjMYJ/z/AI1EYjvBqzRQNMYFOcmn0UUCG4IyRS9RilooAYy5XFOxxilooATAzmjAzmlooAY6bu+KUg4wKdRQBAY1LdBUgUg04gHrQBgYoARlDUIu0Yp1FA79BMDOaWiigQUUUUAFFFFABRRRQAUUUUAFFFFABRRRQAUUUUAFFFFABRRRQAUUUUAFFFFABRRRQAUUUUAFFFFAH//U/v4ooooAKKKKACiiigAooooAKKKKACiiigAooooAKKKKACiiigAooooAKKKKACiiigAooooAKKKKACiiigAooooAKKKKACiiigAooooAKKKKACiiigAooooAKKKKACkYZGKWigEFFFFABRRRQAUUUUAFFFFABRRRQAUUUUAFFFFABRRRQAUUUUAFFFFAHx1+32dn7G/xK4BJ8P3wAP8A1xavkz/ghazn/glh8IA4KFNKdSp6jEz19W/8FCHWL9iz4mylth/4R2+G49B+6avl3/gh5bT2f/BLv4R29w/mOulH5h0I8166Ob93bzNKXwVL94/+3H61L0NKvIpqtkGnKMCsJPUzHUUUUgCiiigAooooAKKKKACiiigAooooAKKKKACiiigAooooAKKKKACkAA6UtFABRRRQAUUUUAFFFFABRRRQAUUUUAFFFFABRRRQAUUUUAFFFFABRRRQAUUUUAFFFFABRRRQAUUUUAFFFFABRRRQB//V/v4ooooAKKKKACiiigAooooAKKKKACiiigAooooAKKKKACiiigAooooAKKKKACikyO9LkHpQAUUU0k5xQA6iikyM4oAWiiigAoopCQOtAC0UUhzjigBaKaD2PWnUAFFFFABRRRQAUUUUAFFFFABRRRQAUUUgIPSgAzziloozQAxmIYCn0xgB8xo3HHBzigY+iocluM1ICPu0CHUUUUAFFFFABRRRQAUUUUAFFFFABRRRQAU1uRinUUAfGf8AwUHg8/8AYo+KELHGfDl+B/35avmH/ghzvP8AwS5+ESsmzbpOMewkb1r6s/b5Cn9jH4muen/CO3+f+/LV8xf8ETriCf8A4JkfCeS2YNH/AGVgEf8AXRqtS0sVTelRf4f/AG4/Vhepp9NAxmhSSM1LJHUUUUgCiiigAooooAKKKKACiiigAooooAKKTPPNNOAenWgB9FJnnFNZiDTSuA+ikBBpaQBRRRQAUUUUAFFFFABRRRQAUUUUAFFFFABRRRQAUUUUAFFFFABRRRQAUUUUAFFFFABRRRQAUUUUAFFFFABRRRQAUUUUAFFFFAH/1v7+KKKKACiiigAooooAKKKKACiiigAooooAKKKKACiiigApjNginHPaue8Ua5D4Y8M3/iO8UvHY28tw6jjKxqWI/HFAG8HBNO3YJz0r8lP+CZH/AAVw+BH/AAU40nxbJ8MrO40fVfBuoSWV5p146tOyIxVZ0C4yjFSPavXNG/b98K6v+3/ffsDR6Ncrq9noY106jvUwGMnHl7cZDe9NIbVj9EAc80tZhvlVcY+ZeoFKmoRtIVkBUjsaLCLxQk5NP6DAqgLzk/KT+FMF/k7cEGhoDSzgZNIXULuPSs1L0OScE4/KvlfwX+2V8GviN+0f4s/ZP8M3E8njDwZZ29/qdu0REaQXJxGyyfxEnqMCkNo+tEuY3GRU4GCTXwDpX7Q37RNz+2/d/Ae7+Gk9v8OoNKF3H4uaVTHJdE/6gR9civvWKTdGHYEnFAmWqKoi8zyylR2JqJr45YxgtjpwRQBae5jiOH70LcK7hcfnX45f8Fav2jfiL8PPBvgb9nv4Hai+meO/i34itdD026ibbJaQlg9zcL7rEDj3Ndn+2r/wUU8Df8E9PCng74f6npGr/EPx54mCWGiaDpYVtQ1CWFAJJWZshFzyzHuaAP1bnuY4CA3U1C1/EriMjBzivyg/Yj/4Kh+C/wBs/wAW+IfgP4w8J6t8MviZ4cg86+8Na2FFx9nkGBPBIvyyqO5XpXC/8E7fjb8TtF/aL+Mf7EHxu1qTXdY8FakmtaJeXLZnn0XUiWjU+vkv8n0oA/aXaM7qdTRn8KFXHNADqKKKACiiigAooooAKKKKACiiigAphIQelPprKCKAPFfjf+0T8GP2bvBh+Ifxz8Q2fhjRBKkBvL5/LiEjnCgtjuelfHX/AA+M/wCCY4+98avC/wD4GD/Cvff2v/2LfgB+3H8J3+C37R+kHW/D0k8dy1t5jR5kiO5CSvPBr/OX/wCC2H/BL79j79k//gp/8H/2e/gpoM2keFPGZthqNmkzOW8y4WNtjNyuVNUkNb2P9EP4Jf8ABRH9jH9pfxjJ8PfgH8Q9H8V6zFA1y9rYTeY4iT7zEYHArk/ht/wU6/Y1+Kv7Qmo/steDvF0E3jfS5Xhn051aN/Mj+8qlgAxHtXgn7Df/AARR/YK/4J5+Mbj4r/s2eHLrT9eurN7V7q5upJ28qQZZcMSBmv4M/jpH8bPAn/BSn4w/tGfBppf7V+HHiCXWZjGPmW3jl+Y8dVxwa8XN8yeGjGVt3Y+y4R4ap5lOrTnLl5Y3Xqf6TX7UX7Z/7P37G3g218e/tC62uhaXe3ItIJWUtulbouBX0D4C8beHPiL4N03x54TuBdaZq9ul1bTAYDxSDKtj3FfxQ/8ABdL9rHwb+2p/wSc+EHx98IOt3BquuWv22NSCYLsJiaNh2w3TPY1/Wj+wOB/wxn8M/LG1R4fssD0HljirwuY+1xEoJaWTRxZjkaw+BhXk/f5nGS7WPr0NkZFLTVG2nV6p8yFFFFABRRRQAUUUUAFFFFABRRRQAUhGRilpCMjFAHyP+3lE8/7G3xLhjKAt4evwDJ93mFutfJv/AAQ9UP8A8EvfhK7FcnSyfl4A/eMOK+rf29YRP+xt8S4C2A3h6+GfQeS2a+Tf+CGqWqf8Et/hMtnu2f2WeW5JPmNzRfoKDtKXov1P1uU5yadTE6U+gYUUUUAFFFFABRRRQAUUUUAFFFFABTWBIwKdSHgE0AY+ua1pfh7SbnW9YmW3tbSNpZZXOFRFGWYn0AGTX58Rf8Fbv+Cb7LJu+MnhvMbMrA3YBVlOCOR2Ir6X/akd1/Zz8cK3/QFvSMf9cWr/ADTf+CBX7DX/AATl/bA8WfFif9vfU7SyOj3i/wBlpeamNPVhJM/mEZdd/p7UFdeU/wBHL4Jft2fso/tL6tfaL8AvH2k+KrvS4vPu4rGbe0Uf988DC+9Yt1/wUg/YXs7+fRb74s+Fra8tZGhmhl1KBGjdDhlILdQeCPWvhL9hL/gm3/wTO/ZLtfFfxU/YO+y3dxf6bNYX13Z6kdQj2bS2wkMwU8Z9a/Br/ghP/wAE3f2Mv2x9O+OWv/tK+A9N8U3+m+Nr+3t7i4U+bFG0spIDKcg56VrFe62K19uh/a58N/jD8Nvi9pH/AAkfwv1/TvEWn9DPp1xHcRg+7ITg/WvVEbzFB9a/ia+EHw98Nf8ABNv/AILweGf2ZP2HNSmXwN4w04P4h8Ni5a5hs3Of3m0k7G7+oHtX9r9kCIORgZOPpUOwNaJlrIzilpm35s0+pEFFFFABRRRQAUUUUAFFFFABRRRQAUUUUAFFFFABRRRQAUUUUAFFFFABRRRQAUUUUAFFFFABRRRQAUUUUAFFFFABRRRQB//X/v4ooooAKKKKACiiigAooooAKKKKACiiigAooooAKKKKAGBcHNeefFxfN+F/iKLqDpt0D/35avQ3OFrh/iRp93qvgPWtLslMk1zZTxoo6szRsAB9SaaYpK6P8/n9gL4Y/FH9kL9nnwT/AMFVP2crOS6i0Txdq+jfETT4Mt9q8Pi+DT3RUdWtog7Z7Cv2w+CvxA8I+Pf+Dge7+JHgy8jvtG1v4Wx39rdwsGjlidt27I9Bx9a+rv8Agi7+yL8RvhZ/wTu1z9n39pbw5LpNxrWteIFuLG52s0llqMjKGIBIw8bHj3r86/8AglR/wSv/AGp/2Jv+Cqnja68c2U+o/CrT9CudN8L6vLKGVbS4k8yO1Cklh5eSvPHFaxehq3eWp88zftZeFv8AgpF+058ULr9of9o+8+DHgXwDrUuh+HNC0W7e0ubma3JEl5cOqncpYcDNfQX7P3/BUH9oLwJ+w5+0lpmieID8Wte+CjrH4b8SRxOTfWVyh8qaY7R5jW/8ZA5xVey+Bnxz/wCCTP7VPxM1a1+A7/HD4RfEjVW1zT7jSra3m1LTr2bmSF0lU/uiSeenNfe/xO+MXxC1X/gmX8YPin4l+Gll8ALybTLlNLgvzBvnieLEbTpCuFkYnaq88npSmZI/En9or4SfGb4T/wDBOfw1/wAFEvCP7VPii6+I3isWFxfQw6mGtb9ryQb7OytgfkljDbVwOCOa/bT9oX4TeOPDP7Jvw7i8e/tM638KfCtvbpe+IdU1OaP+2r83MSyC2+0kZVlJxhATiv54v2N4fgR+zh4O8D/F74k/sXfE3WL/AMN2UGoTX01217pMcuPMbULeykJUFlO8fLkV+if7aHjbxB+2P8XPgD/wU2/Z6+Hmo/HP4M6PFd2994UiAWeC9ZgqTtayHY0kDAjkHH0rMZm/sG/tPL8Ef+CoGn/sVfBH4v698Vvhd8TNFu7yG51wTvcafqEKFt9vcTohkVuvy5ANfPf7Lf7BHxf8a/8ABbT45/D3Tvjv4w0i68P6fYajc6nDIgur+KWYMtrMSCDFGDhQO1fa/hLwL+21+0B/wV6+Bf7Uvi74JP8ADf4c+HtN1O0txvie6hSaLhr5IgEiLHARQDXVePdF/ai/YE/4LDePf2rfCvwl1n4m+DPixolnp0VxojoXsrqBxuEyuflU8c+maRTfvJnq9z8YfjjJ/wAF3pv2UX8Y6ivhOb4ayTRWXmERG8CMn2raOkoI3Z9a9E/4JN/tdfE7w94H+Nv7Ov7V2vS6n4u+CWtXry316+ZrjR5g01rKxPUBRtzVLwz+zv8AHfWP+C89l+1fqXhe4tvBc/w8WzOoSY2Q3cnLQHHV1zg8V8V/8Fmf2Jv21v8AhrQ/E39hDw/LqNh8adB/4RHxtJAQBbQiVSl02SMEIWGRzQSeaj/gqP8AtG/s5/8ABMPx5+3N488QTnW/i54zuLDwRHqeWt9M095TBDcRpjJRVBkx3xXyd4j/AGydI/ZM+HekftRfAT9sjUPih8QYbyzfxD4Z1QvJYajFPIv2mO1g8seXsDHZj0r9+P8Agoz/AMEoJPj9/wAEzvDP7LfwZhtY/EXw1g0688PLOB5Mt3pyqWjkHTbMQwJ/2q+U/gF+1H8RdaXQ/g74z/Ydu4vH9m1vaaxd/YrKHSIypCyXUVyyfMuBuAHNAHqP7Qvj2P4s/wDBYv8AZG1C4kDaPqHhnVNdtoXXjz5bdCpAPIZVc+9VvEtraeMf+Dknw1a+LIxd2/h74c3V3piScrBNJJteSMHoxHU16T/wVo0G5+Cnxi/Z4/br0+0jtdL+HXiSLT9cZEwbfS9TX7O+SOBGjFc9uK5T/gpB8Evj98M/2w/hh/wVS/ZP8NS+Pv8AhF7CfTPEOiWEgFxfaTdDcsltnh2XOQvfNAGR+2PaW/w6/wCC8/7NHi/wqi21x4r0nV9K1Jl4M9uiBlDY64PTNdxqest4Y/4OItD0nRwEi8TfDO6+17R982s4aMse+O1cD+yT4H/aI/b4/wCCien/APBRT9oDwBffDXwZ8PdGm0vwpo2tEfbpbu6P7+6kQcIFXhfWvWf2P7Kf9o//AIK4/Gb9qzTCJ/C/gTSrbwPpdyAGSS83Ce9MTj+5wrY70Afv8COBSkkYpFUDmnUAFFFFABRSE4GabuweelAD6KQkDrSD5RlqAHUUgO4ZFGRnFAC0UUUAFIwyKRc4+anc0AVbg4A61/AR/wAHHq+R/wAFqP2a7zqpks/0vI+1f39MxZcdq/H39tj/AIIxfs1/tz/tJeDP2o/ijqOrWviPwO0TWK2c2yBhFKsoDrg55UU76WLsfrj5v/EvDf3kH8q/h6/4JyeCvDvxS/4LZ/tI/CzxdbxXel67ZanazxOAylH4OR681/cStuy2qwNxgYB9q/PH4J/8Exf2ZPgB+1N4m/a++HdldR+MPFiyLfySzF4mEv3tidFJry8xwUq0qdtk7n0mRZzHDUsRCX242Xre9z/PJ/4KJfDn4tf8E+de8Vf8E6vE7S3Hg2912PxL4ekOdhh3kDZnuAdrAegr/SR/YBmFx+xf8NJkOVbw/Zn/AMh14t+3P/wSq/ZN/wCChd1oWp/tCaVPNeeH2ZrS4s5TBKFbBKM68spIzivur4VfDbw38H/h3o3wu8HI8el6Hax2dssh3MIoxgZPc1z4LKnRxMqvRo9DiHienjsHSpctpp3k++lj0QdOKUnFNI2rxTEbHWvbPieXS5KxwM01WJODSs2Dil4AoELRUS5J3dKcG3HFAWH0UhYDrSjnmgBrEgZp1J3xiloAKKKKACmg5p1JjigD5O/bnhW6/ZB+I8JBO7w/fjC9TmFq+Of+CFUkkn/BLL4TeYuzGmMoGc4AlYdeK+0/22EZ/wBkv4iRIT83h+/HA/6YNXxR/wAEJMP/AMErfhFIhO06Y+M9T+/kHP5VFtRQXvSfkvzZ+vSjAp1MQ5zT6sYUUUUAFFFRlwG5OKaAkopAcjIo+tIBaKKKACikxznNLQAU1uFNOo5oA8J/aQQSfAbxiHXcv9j3mR6/uWr/ADMf+CEf/BHj4Bf8FWfHvxaX41azq+jL4Uvc240qVY93nTuG35ByBjiv9RDx/wCFbfxr4K1XwjdO0cWqWsts7L94LKpUke4Br8lf+CV//BHb4Nf8EstX8a6x8LfEGpa3L43lWW7+3hAIyjlwE2gd271SIS/eOXkdR+wV/wAEuvgp/wAEufgL4r+FXwQ1TUtUs9dZ7yeXVJRI4dYiuFIwAMHmv5fP+CPP/BO3xf8Atf8Ain41+JvDPxg8U/DmHSvGN7byW/h2ZYobhjNIdzg8k44BzX96Wr6PHrOn3Gky8JcRvGW9Awwa/Pj9gT/gnF8LP+CfTeNLX4XapqGpJ411eTV7oXxUiKWRmYrHtAwuWNa87UbGsH7zfdWPMf2Gf+CNn7MX7DfxC1P42+GrjVfFPj/WUKXniHXrlru6YHltm7hM9OO1frtAhSMKTnFPUc5pRkEkmsW7iT0sOooopCEJxiloooAKKKKACiimZ2nBNAD6KKKACiiigAooooAKKKKACiiigAooooAKKKKACiiigAooooAKKKKACiiigAooooAKKKKACiiigD//0P7+KKKKACiiigAooooAKKKKACiiigAooooAKKKKACiiigAqORQwGe1SVGck4xQA0Lj51HLdaa8W44xxU4GBiloAoC2VuCMYr4v/AG+/2N/CP7df7M+v/s4+ML+fSotXVHgvrf8A1lvcQsHikAPDbXAODwa+3sZIprxq/wB6nzAfztW/7EH/AAWS8TfD9v2cvG3x58O23gw2Y01tXsNIK61JZhRHt3M3lpIUGC4Ffr3+x9+yR8Mv2MPgFoP7PXwqSRdI0KLaJJDmWeVzulmlPd5HJY19TeRHncRk1Kq460gKX2GEsSBjtxUX9nIzckj3rUooAqfZVT7nQDj2pi2isNz9aug5paAK5iEkRicYHTj0qv8AY4kUDn6960KKAPL/AImfCTwD8YvBl98OPiPpkGr6LqSeXd2tygeOVPQg11Xh7wppPhbQrTw5oMS21nYwpbwRoPlSKMBVUD0AGBXTUgGBigDHvNItrq2NtIOGBB75BrzT4RfAj4WfArw9ceGPhXo8Gi2N3dzX88Vuu0SXNw2+WVvVnPJJr2Inbz606gBAMDFLRRQAUUUUAR4bcSelfCvxe/bY0b4dftTeAf2TtA0qTXPEXjQXF1cLC4VdN061XMl3PnPyliFUdyfavuViVT5zX8+v/BPyK0/aG/4Kg/tPftI61KL7/hFp7LwLpechreCOPzrgJ2G9zyR6UFRV9D91Ln4j+B7ZmW71iwQxHDhrqJSpHUNluKkt/iJ4LvZEgttXsZXkOFVLmIlifQBsn8K/lx/4K7/8EcP2S/hR+xb8Xv2kfhrH4hsvFtpY3WrRTJrF20f2gsZGbyi+3GT0xwOK7j/glR/wR4/ZU8X/ALJ3wa/al8USeIbjxddaXaazNK+r3Rja5yWyYt+3acDI6UCWp/UZFgIBTwykbq/Fb4sf8Fzv2EvhhJ4k0FdYv9a8UeGdVfRZ9A060kn1Ca6QZbyolyTGB1c4FfS+mf8ABRn4A3PxZ+G/wK1dtQ0vxX8U9MOqaNZXVuyN5SqHZZuf3bgfwkUBY/REODxSlgoya+Mv2q/21Pgn+xlYeGdV+OF5PaQ+LNXg0SwMMRk3XVwcIGAPA9TXR/tV/tjfAP8AY2+ENz8Zvj9rSaRo0BWNMDzJ55ZPuRQRD5pHbsBQCXU+qiwAzTfMBIAr8aP2b/8Agtp+x3+0d8WtP+CFvH4g8Ia/ri50pPE2my6bHfN1CW8knysxHIXINfsZA2bUsDnj+VVYRHPqlhDcrYvNGJ5BlYtwDsPULnJFSS3UForSTyBUAySxAAHuSa/ir/4Lj+Pv2svh1/wVs+F3xE/ZfvLqS/8AB3hW61+bSUlkEV/bWUge5hMSnDM0WRgiv6HNZ/af8H/tY/8ABNPWf2jvhRe/6Jr3hO7uk8pv3ltOLdhLExByrxvkYPIquVDUtD9N7a8tdRgW4tpFkjcZVkIYEeoI4NWB5YGAef1r8W/+CHHxEuX/AOCRvwp8d/EPVWlePSpnur29lLELHPJlpJHOcADqe1eW63/wcPfsQ6X4xns9P03xTq3hWxuZLW78W2OlTS6NDLG2xiZwMMgPVhxS2Kkuh+/ORtBFOLgECvlTxv8Athfs9+AP2eG/au8ReJrRPAa2S6guqq+6KSFhldmOWZjwFHOeK/H2/wD+DlH9irwxaw+IPiP4U8b+GdG1KUR6PqN7o0og1NW6G3OR17A8mpWpmf0XFgOTUJKjvmvy+8a/8Fdv2Qvh5+zNon7Unj251jR9G8SyvBpWn3Omzrqd5Mn/ACzitAC5ZhyucZFeSfst/wDBcL9j39p741WPwCtrLxH4O8TayGbSoPEumSaet+BziB5OGbH8PWkUmfs6Z0KlhyfzrlfF/j3wX8PtL/t3x3q9no9kXWPz72ZII97nCrucqMk8AdTX8pf/AAU6/wCC1ug/s2f8FLPhN8JtBm8URaD4X1O5Hi6zsdOlZNQSSIGKO3H/AC87SQTs6V9wftpftT/8E6/2x/8Agnja/G39qGz8Q2Xw5m16zt44Z7aaw1AXyTKsWYvlcLuI56EUBJWP36s7uC+to7u0dZIpFDI6kFWU8ggjIIIqwAN26vgPwx+2h+zV8N/jR4D/AGK7a5ubHW/EuhJf+H450Ihns4I1wiyseZAmDtPNev8A7Uf7XPwZ/Y9+HsXxL+NV89lptxe22nQiJDLJJcXbiOJEQcklj26UAkfTxAzk1Ru5pYIHnjG9sHC+pA6V+fv7Zf8AwU1/Zl/Yg8OaPefFe7u73WvEQX+yNB0uBrrU7wkbsRwJluO5PArB/Yj/AOCpv7Nf7dWp3/gzwGupeHvF+kxCa98Oa9bNZalDETgS+U4G5D6igR3/AOxl+2hpP7V2oeN/DEmlzeHfEfw+1yfRdX0q5bfJHj5oJw2BmOdPmU/hX3gBiv5/31Fv2df+C9en6bZMlno3xw8FzieIMcTalpDhkfb03+Wdue4r9/M7sgflQgJaKYSwFOHIBptALSHoaWikB8u/tnK3/DKPxDIP/MAvz0/6YPXwx/wQUjMf/BKH4Pk4+fTJGAHQAzycV96ftiKH/Zb+ICMdoOgagP8AyA9fA/8AwQR4/wCCUfwijOf3WnSp9cXEnP61o7WCP2vkfsWvf606o0OAacpJGTWYDqKKKACvjP8AbM/ay8Lfsg/Du18da/ZT6tdahqNrpmn6dbECe7uruQRxxx59zknsK+yGJH0Nfgl+2NKnxz/4K6/AL9nPVLhJNI8L2Wo+Mbq0OfmuLVdlsxx12s2R7iqiwP3HtvEVjFpttc608djNNGrtFLIoKMyglSSRnaTjIqeLxZ4euZRBb3tu7scBVlQk/QA1/LR/wW3+E8P7Qv8AwUW/Zg/Z58Ta9rGj+G/FlzqEGoDSLuS0lkAUEfNERz719m/CD/ggV+yN8EfiXofxb8K+JPGs+p6DdJdwLea5dTQF4zkCSNn2up7g0PsB+9SOrruU1la1rVhoOl3Gs6rIIra1RpJHPRUUElj7ADJr8YPj9/wXn/Yb/Z2+I2ofCjUm8Q+KdT0SZoNUk8P6TcX1tZyrglJpkG0FQecZxX3DoP7Snwh/a2/ZD1T40/A/Vo9X8O6vpF40FwnDKyxMGjkQ8o6ngqelJID6E+EPxn+Gfx48FQ/EX4R6zba/olzI8cV5aMXiZ422uoOByrDBr093CDOM1/PR/wAEBfiF4X+F3/BJmw8aeN72LTtJ0nVdcuLq6mYLHHDHcsWYn2Ar0bwX/wAHCn7Avjf4g23hHTj4jt9Hv51tbLxHPpFyukXErNsVY7jaQQW4B6Uoq6uVJWdj91KZk5wea+aP2hP2tvgh+yz8JLr42fHDXbfRdAtojKJZD883yF1SGP7zyOBhVAySQK+If2Zf+C0/7Gv7UPxLtfg94autU8OeItSBfTrXxDYy6eb5P4Wt2kAVyw5AznFOxJ+usjKq5fpWTNqenwSBZ3VD2yQP5mrofzYMtznrX8gP/BYD4T6x+1D/AMFmvgF+y5q/ivXfD3hTxHol/JfR6NfS2byeU6kEGNh83bPNIqKP674NasbsMbaRXA67WB/PBrUjC54HUda/kD/bn/4Jmal/wSs/Z21f9tf9jL4ueMrTX/BJh1G6sNb1SS+stRt43HmQSRyk/eB4x3r93p/+CkPwL+FP7GHhD9rj9pDV4fCuneIdJs7wxOC0slxcRBjDBEuXd2bO0CgJLsfpLTSM9a/Fb9mz/gvJ+wd+0z8SrT4R6NqmqeFdd1NtunweJ9Pl0sXhzwIHl+VyewzzX2X+2H+35+zv+wv4Ct/iB8f9Vayi1CYWthZ20TXF3eXB6R28KZZyaCT7anl8lDJjOPSuL0P4heDPE+q6h4f0DVLW7v8AS2AvLeGVHlgLDIEiqSVJHrX54fsbf8FZf2X/ANuXxTcfDP4dLrOheJ4YGuW0nXdPmsbloF6yqHXaV/GvAv2dYf8Agnx8Hf2s/wBoD4mfCC71VvHOkrHd+NoWaeaKIFQwMEWSGJA6KM0DR+3Ed7G4BAIB9a5d/iH4NTxZF4Fl1O1TV5ozNHZmZBcNGOrrHncVHriv5IP2Cf8Ag4E+Dmu/tcfGzw58cvFmtXPh681y1i8HWX9mTymG3KhGUoi7otznkPX64eJNJ/YP1f8A4Ko+FfHOs6hqI+NMPheW602yDyi1fTiNzOyZ2b8E8EUA1sftAsgY4FPBzzXyd+y/+2X8DP2t4PEc3wX1F71vCeqS6PqcM0ZhlguovvKyMc444PerWr/td/BfSf2mLH9kmXUmk8cajp0mrRWaRsyraRHDPI44XnpnrQFj6o968A/aZ+N0n7PPwV174wjRLrxCug2zXclhYkefJFHy+zIwSFycd8V8AftKf8FsP2Hf2YPidd/BzxjrOpa34h0xPM1C20DT5tS+xKf+flofljOOcE59q+0Pgv8AtBfAz9tn4JD4jfBjWoPEXhjWIZLdpIxgqxXDxSRt8yOucMrUCPSfgd8cPBn7QXwm8PfGf4eTfadG8SWUV7bP3CyD7rejKcqw7EV7IjFhk1+Bv/BDzXNQ8E6L8Yv2Rb2SR4fhd43vYNPEnVbC/JuIlA/uqSQK/fME55FAC0VGAQ+fWpKACiiigAooooAKKKKACiiigAooooAKKKKACiiigAooooAKKKKACiiigAooooAKKKKAP//R/v4ooooAKKKKACiiigAooooAKKKKACiiigAooooAKKKKACiiigBhXJpwGBilooAKQjIwaWigBAMDFLRRQAUUUUAFFFFABRRRQAUUUUANKg4zTqKKACiiigApOBk0tNB3UAVJ8yxsEGa/ns/4Iz6bceD/ANqH9rvwTqOPty/EBL3yicP5NxBuV9p5x2B6V/Q26DbgcZr8G9U8FeIv2Rf+Cxtt8VtC064l8G/HvSf7L1aeGJpEt9YsBvtnkKghFkTK5OBkCgpPqe9/8FxJZLb/AIJYfGeVWdW/4R64GU4PIr0T/gkrAlt/wTN+DEEe5gPC1ngt15Uk16j/AMFB/wBmrXf2v/2PfHP7OHhrUItKv/FmmyWMV1OpeOIuPvMo5Irq/wBjP4G6p+zh+yp4G+AWsXiX934T0i302W5iUokrwjBZQeQD702xQVnJn87f/BDr4L+ANe/4KEfthfFjV9Jt7vW7LxgtlbXc8au0UUm53WPcDtLEDOK9G/bejCf8HB37LUWQippWplQBgHCEYHav0c/4J6fsBeNv2N/jL8cfiP4l1e31W2+KXiT+27SOBSr28e0jZIT1PPavNf8Agp9/wTw+Nv7SfxE+Hv7Uv7JfiS18NfFP4YTyy6Y2oR+ZZ3UU4xJDNgZAx0xSHfY+Rv8Ag5At5L7wN8BUBA8v4laTnccbvm7Gvmr/AIK/+I/jZ4h/4K7fs2/Czwh4RtfiJp9jp15rFn4d1G5FrZXF9EFxK7sCpaJeVBB+le0fHj/gkJ/wUH/bS1fwH8Zv2tvijYXfibwjrthqUPh3S4mg0S3ggkDTHHLSTso4Y8Cv0s/4KN/8E3Ln9tWw8LePvhl4lm8C/FD4fXP2/wANeIIF3CGULhopl6vFJ0YZoF0a8z8vf26/hZ/wVL/bc8JeE/C+nfAHQPB2reGPEOnazZa7Frkcs1mLWZWkEQEanDICpHSv6lPDq36+HbMaoMXIgQT45/ebRvwf97Nfit8EPhl/wW51Dx34fsf2i/H3gnTfC+lSo1/LoljJJe6ikZ5RjIdsW8feIFftzBva13Ac88UAj+cT9oOKDxD/AMHCfwp0O+tvMhHgPVFcEZVkkOGB+o4r4x1S5uv+CUv7Qfxd/Yd1+Vk+FXxu0fVvEHgyeU7YLHVWgc3VgCeAHPKj6V+3vjP9h/4j+Kv+Cpfg79uGPVbWLw74d8N3ejS2JB+0NNO2VYHptA60f8Fdf+Cb3h7/AIKTfsuXfwfWZNI8S2cn2vQ9Wwd1pdL0JYfNsYcMB1Bpp6iWq1P58NQ+IXjv4e/8Gomk6l4AaZLq50s2UzwNtdYZr5kly3BAKkgn3r3H9nn4i/8ABU7w3+x94e+Bfwz/AGRfDFx4Im0CCCISaugF1DcQjMzLtwWkzvbPOTX7D/st/wDBNvT/AAR/wTB0b/gnt8epoNdt49Hn0vUp7YFUczMzbo93IK7sg+or4m+Ff7GH/BZv9kTwyn7Pn7PPxR8MeJfANoTb6Te+JLWWTU9Mtf4EJRgJtg4XPpVQ7Dbuz8y/jv8AskftWfBv/ggx/wAIR+0daWui3HgjxemvDQFuRJE2jpeCZbESfxkZIRe/AxXqf7bH7bXwR/4Knfss+Cf2Ov2OfBms6n481S90l1jn0qW0j8Ox2rRvJNJNIgRVVQQNp+YV9gf8Fs9H8Z2X/BOHwp+zl8XfEp1/4p+LNc0vTtL1C3iFrBcar56uskkQ+UQLj5lPUVn6h4M/4L7/ALPHw7k8V6Xf/CnVY9D04SXUpsTaT3EdvHlt8gAAOFxknHetLJC5bn2r+3J+2J8Kf2MPDHwz+Eet+D/+FofFDWVhs/C+g2sUbTT3kMSpJP5jqRDGD95+wr8Dv+CpWvf8FF/FnxL/AGdfix+0f4K8K/DmCy8fWcWlR6NcyXOqRmRgNss2Am0rncFr7Ot/h5+0n/wV9+EXwa/4KhfsvXtn8PPjD8Pri+s47HU1M+l3YVhHcKCBnynYfKw7V3nxe/4JU/8ABS79szxV8PPi/wDtgfFXRIdR8Da/a6pb+G9EtGTS0jifLuXPzyTMvCk8CoaHF2aZrf8ABT/w1Yar/wAFhP2NFmhiLS3+omUsineRGrfNkc9O9dz/AMHLun2Vh/wTohgtIljQ+K9E2qihQD9rTsOK+iP+Cpv/AATz+OH7VevfDP4+/st+I7Pw38S/hZqBvtLm1JGe0njkULJDKF5+bGc153+1h+wb+3b+3b+wBF8Cv2hvEnhuL4hjX7PUzc6bBJHYLb2k6SiMA/NvIB5rMco+6eH/APBY7wNrfwz+BfwK/wCCh3gW3Daz8FL7SL672r88mmXMUcV0hYdFAO4/Sqv7X3iiw/4KI/8ABR39nr9mjwq/2vwf4btIviXrpUkxPGEDWULdvmZsj6V+43xd/Zz0341/sr6r+zf44Hm22saENHnYc4PkCLeufRhkV+XP/BHD/glD8Uv+Cfp8Y+Lvj94rTxn4q1pbfS9Pvo9x+zaRZZ+zwZfnPTOOOKBJ6H48+NPjL+2Fcf8ABdf4weJvgn8HLP4sa94J0ixs9Jg1S9Fsul2kqgvLbq3BMhOCR0r6u+Hfwz/4KkftEf8ABTr4S/tWfF34G6Z8KbDwpHeWetajY6ikzX1lOmBFMi8vtP3c9K+/v2yf+Ca/x08RftSaZ+3f+wx4ttvBfxNtrL+zNUh1CIy6drFmDkR3KjkMvZhX0V+zJ4J/4KVw/FCXxv8AtdeKvDKeGILNo00Pw/ZuN8/XznuJSW49BgUCPi/9rbR5PGX/AAXT/Zm03Q5Eebw7oevaleIT86QNGqAkehNf0KIDgk9TX4UfsK6Rc/tOf8FFvi3+3Fren3FvpXh6GPwP4Ya6jaMyR27F724jVgDtaTCg98V+7Q4HzUAB6GkXhadRTvpYAooqMjfyDSA+cP2v5EX9mHx6ZQdo0K/zgZP+oevgD/ggst2n/BK74VR3hyws5iv+5574z71+gP7XKB/2ZvHiN30O/wAf9+Hr89/+CB6Tx/8ABK34WR3LF3W2uASef+Xh8CnLp8/0HHaT9P1P2VQZBp6jAxTU6U+kIKKKKAK9w5RAa/nt8c6Xe6R/wcP+CfEGoRMtpqvw71CC1lJwrSRuC6r6kA9K/oYYKR83SvxA/wCCsXgXxJ8NPiF8JP26/h5YSX2ofDfXEh1OKBDJJJpOoEQ3G1RyduQ3TtQB+ef/AAXT+CWvftBf8FGP2U/hf4T8Vah4K1DUr3UEi1nSiBdWxCA7oy3GfrX6b/so/wDBO346fsvfFKP4l/ED9onxf8QtJggkSXStbaJrdsg/vGKqDletbH7Uf7FPxD/aS/bf+AH7V3g6+tLfw98O5rm9vYp9wmlju4h5fljpnnnPSv1P8R+Hxr+h3GjXGRHcwvE4Xg4kBB/SquB/PnJ+3d8Qvj74u8deBv8Agmd8CNN8VaZpV5cWOseKdYePT9Nn1BMpKEVULzlf4jkZxXzp/wAEIoviFpv7HP7RXg/4hRQWtzpnivW1e0smJtIJpYnaZIM9EDdPavafgb/wT4/4Kq/scR+Lf2fv2XfGfhFPht4j1m51Sy1PVbeWTVtMW9YtKiRg+XKVz8pavrn/AIJtf8E4Pit+xj8Evij8JPiP4qj8UXHjnWr3UotR27ZnF5Ftd5VHAfeScDgCrjvqHRn54f8ABLH9m/8A4a6/4IS69+zfFfvpsvia98QWEd0p5hka4baSfTPX2rnvgn+2R8b/APgl98O/Cv7Lf/BTn4Mwf8ILoPkaTYeOtDijutNKqwWGW6h25jbpuY45r7V/Ye/4J+/t2/sufsTeMf2UtL8Z6T4d1mLWbu+8L6/Ywm4bybqUykXUUnGc4U49TXj/AMc/2N/+Cyf7bvwym/Zb/ae1zwJovgjUJoItW1fSIpn1C9to2Bfy45MpE7gckdO1TBWTHI+DP+CvPxW+Jfxa/wCCrvwF+G/w18FRfFXwzp+jr4q0rw612tra3tysqPFMzP8AI4UBSFOeuMV6X+21oX/BT/8Abd0nwZoOl/sx2vgHW/DXiDTtTtvEEWp27zWsVtKrSKmwA7WTIxnGK/Tf9tv/AII92nxy8A/DPWf2cfEk3gf4jfBmK3HhnWSPMEgtFUpDdDq8Ujou8emah+CHh3/gul4j+I+mab8fNR8B+HfCum3MbXt1pEUk95qEKcMqo/yxGTqT27VTSsI/a/w4t6PD9oupH/SVhTzf+um0b/8Ax7NfyD/8FiPD37UOvf8ABbj9niD9kG+0zTvG66Fqb2U2rKWtAFZS4kA55Ga/sUgh2W+wjHFfj58f/wBgj4tfE7/gqX8If21tBvrGPw54E0u/sr+CUt9od7oDYYwOCPWsgPizxH/wTL/4KTftzy6b4V/4KT/FrTP+EAt54ri98MeE7UwR37QuHVJ7hju2Ej5lHWvCf2j/AAB4V+JP/Beb4F/sp+Olh/4V74C8Mvqmi6NMubWS7hUpH8jfKxjVRjriv6y4IpEj2SAZ/nX5A/8ABSr/AIJueMv2p/E3hP8AaP8A2cPEqeCfjB8O52uNB1SRPMt5UfHmW10o5aJxx7UDbPmb/g4g+DHwnn/4J1698W3sbPTvEPgia01PRdQihWOeC4ilUosToARv+7jpXln7SH7LH7Tf7aX7Pn7OH7d3wUSxuvib8PdMtNZGga0M2WomaFRKjZ+7KcZVj3NdB45/4J7/APBTz/goHqfh74e/8FEvF/hXTPhvoV5b6hf6V4Uhl87V5rdtypO8nCRkjJUcV+gf7WfwP/4KA2mr+FfEf7Bni/Q9E0zw7B9kufDGtWxexu4VUKhEqfNGyKMDFAXPnH9ib/gpt4N+L/7QMX7Nf7UHwxm+D3xq+ynyra8ijaLUIk5b7FdqBvXvtzXzd/wS48rUf+Cw37ZMV2FkRn01SrDcCNq8EHrXv/wh/YL/AGx/jl+2p4V/bN/b21Hw/an4f28i+H9C8Nq5jW4lGGmnnk+duOi5xXuf7Hf/AAT/APiJ+zz+3f8AHP8Aan8RalZ3Gj/FA2hsbWDd50JgADebnjnHGKBo/Oz/AII5+APAt3/wUa/bGn1PR7CRrTxRaCDfbxkxjyQfkyPlGfTvXT+PbC3f/g5U8DvuC7Ph5ebVx/tEYHb+VdXf/sEf8FB/2V/2/vHf7R37EOpeGtR8J/Fee2uNd03X/ND2k8QCvNEYz83yjgV9eXn7Cnxc1b/gqj4V/brudWsV0bSPCc2iXtkgPnPczYJePsE3Z684oB/FFeR8F/BeNv2CP+C4Pj34b6i/2Twf8etGPiCwydsS6nYD9+oHA3MozgVwf7IOt+JPjd45/at/4Kk2aSyzRwX3hXwnnkpa6TGxkkiPbdKM8V99/wDBZH/gm38Wf26/AfhTXv2bfEMXhL4jeDdQFxp2rTMVVIJh5dwmV5+ZCcDpmvtf9ir9jjwv+yr+x74f/ZimCX62dk8eqTHlbu5uctcyHPJ8xmPWge1kz+Y//gir8TP2qvCf7GsfxE+Hf7Mq+P8AUPGuoXt/q/iW51i1SfUpnlYMWSaN3UJ90KTj29P1G/4JD/Az9qf4S/Hn43+M/jB8Po/hl4J8a39tqmkaFFdJcrDd7dtwymMBVD9TgAZrzrwl+wT/AMFOP+CfPjrX9B/4JzeIfDPiH4YeIr+XUYvDviwyxvpU0xLSJbTR5zGzHIXtX6I+GviP+05+zV+yp4t+Mn7c2r6Vqmt6dbzXkdv4ftXSG3AQhLdM5eUliAG70EHyL/wS2SPXv2+v2r/G2i82B8Q2NlwPlaeKHMntkcV+/Q6V+Sv/AASA+AHib4Nfssr468eRPD4m+Jmp3XivVUlH7yNr9y0MTZ5ykWBg9K/WoDAxQAtFFFABRRRQAUUUUAFFFFABRRRQAUUUUAFFFFABRRRQAUUUUAFFFFABRRRQAUUUUAFFFFAH/9L+/iiiigAooooAKKKKACiiigAooooAKKKKACiiigAopCQOtLQAUUUUAFFITgZoyMZoAWikBB6UtACZGcUbhnFBIHJpAVJyKAHUgOeRSb1p3QUAFFIDnkUgBzyaAHUUUzeO1AD6KKKACiiigAooooAKKKKAEIyMGs6TT7W6kD3EasUOV3AHBHcZHFaVNPygmgBGHH0pBGudx605SSOadQA1lVhg0ioF47U+igBiqOTjFKV5ytOooAbjI5puxCNtOXOOadQA3YtOoooAbsUnNJsXdu/pTdz9O9S007AfD/7cv7CHwa/b0+GcPw2+LguYRY3SX2n39lKYbuyuo+UmhkHIZT+FfnPdf8EW/ib42t38D/HD9pDx/wCLvA8uyN9DkuEgE0K4zFPNGod1IGDzyK/fYjJyKUEZx3p8zA8k+Dnwc8C/ATwDpXwr+FunRaToGi2621nZwDCRxqP1J6k9Sa9X2g8sKkAwKB05pNgM2/LhOKAvr0qSikO43HIx0o2gDAp1FAhjj5flGaryqZU8txkGrdFAGFpej2elsVsYI4ELFisahQWPUkAAZrcIyMUtFABRRRQAU0Db+NOpDQB84/tcyyQ/s0eOpo8bl0S+xuGR/qW7V+eP/BAi5muv+CWXw3nuMZ2XYwBjpcyV+h/7WqQyfs0+OUnYoP7FveV6j9y1fnT/AMEBzct/wS7+HgugNwN6OPQXD4raUbQi/N/ki4LSXy/U/aFGDDIp9RqMKdtPGcc1iSLRRRQIQgEYNY2paRDqsf2e8RJIj95HUMpHpg5FbVFAFeGFII1gjACoAB7D0qbaMYp1FAEeNvyqOKXblfen0U7gFMOSRkU+ikA3GOaTHGB0pxyRxSKSc5oAXHGDzSYOcdqdRQAmRnFMKAHcBk1JRQBGow33cUMgYHipKKAKyQImBt6d6sY/KlooArm3j3eYVy1KkMa/dXBqemkHPBoAjeIOMMM0qphcVLRQO5Wa2hznbkk1m6poGk6zbvaarClxC/3o5FDofqDkVt0UCKkFpb28KW9ugVIxhQOAAOgxVuiigAooooAKKKKACiiigAooooAKKKKACiiigAooooAKKKKACiiigAooooAKKKKACiiigAooooA//9P+/iiiigAooooAKKKKACiiigAooooAKKKKACiiigBCAetU7q4SyhM0jKqLyxYgAD8asuwUc1+SP/BZj9qvwn+zf+xF4r0+W4ll8W+MLSTRPDem2RLXl5qF0PLiWFF+Y4JyWHT2oA/Wa2vIruAXNsyujDIZSCCPYjisDS/F3h/W9RutM0i/t7qeybZcRwyK7xMeiuqklT7GvxR/4IV/tYD4n/sc6F+z58WWn0n4r/DiL+yfEOi6mxW/RkO6OYq53OroR8wyK8p/4JQ6lqt5/wAFCP2wLS7ndo4vENl5Ss5ZUJhHKg9PwoA/oqLqDtJHvWJqHiDTtLuI7bUZ4oTMdse91Xe391c9T7Cv5Cv+CpnxK/4LD/sQeLvCni/wz8f9Nu9D+JHjW08Oabpp0iNWsItRuFjjZnOfMEQYZ6E4rof2zfHfxp+Gms/s4/Cn46fGDTPiH48/4Wlafan0bbaSrZlceVLbxuTgHru65podj+sTw74y8N+J57m28OX9tfvZyeVcLBKshikHOyQKTtb2ODXR3c7QoCMV/Pb/AMEPJ7uX44/tY+fcPPHH8R5lXcxIX930Cnp+Ffvr4mlaLTpZGBKhScAgE8dAexPaqihGiNQt5E8xpE+m4f405L0Y3KynPoRiv4tvHfwO0nx18T9e1O1+CPx+nlu9SumL2vicWtrIfMPzRKZBsjbGVHYGvjL9uDwb8Wv2ZPhz4X8TfDnwT8Xvh3qGoeJtMs49R8QeLBf2pWS4QNF9nRyWLjgelNID/QigdnXeRzSyXUceRIQMda+Mv2hfB3xq+InwCsfDnwa8fD4d+IpIrV21l4EuSuEUuhSQhcueCTX4s+HfjH+3x+zp/wAFKPhL+yx8V/jNa/E7wv4/07VLi8VbCC1khayi3Lh4snkn9KHYD+jvVPiD4R0SyOravqlpaWSyCIzyTIqCQnAQsTgMTxjrXdQzrNGs6EFWAII9D0Nfwb+NPiTrOpf8EuPjJZ32pubuD44PbxlrgtJGn9ox4VctuC+gHFf3KeDLuMeC9KSRsk2ducnv+7Woe4HbGUA7V705dr/Wv5XP+CwP/BUbVv2a/wBvP4KfDn4ca7fpoehX41Dx8umZlhttNmYQp9t2ZCLubPzEYr+nLwf4t8P+LtAtPFfh28ivdP1CJZ7e4hcPHLG4yrKwyCCDSK6Ha8CioY2EoznPpU1BIUU1jgUqnIzQAtFFFABRRRQAUhGaWigAooooAKKKKACiiigAooooAKKKKACkGcc0tFACAYpAoBJp1My3pTSAfRSA5GaWkAUxyR0p9N57CgBVzjmloooAKKKKACiiigAooooAKKQ9uKWgD5o/bCief9l/x6Iztxol6c/9sWr8+/8AggfftqX/AATC+HtwkYRf9MXj2uHH61+hn7XcaP8Asx+PEcgBtDvQSeg/ctX54/8ABAiJ4P8Agl98P45CpIa85ToR9oetW/3dvM2pr3JfI/ZpM85p9IDmlrIxCiiigAooooAKKKKACiiigAooooAKQDFLRQAUUUUAFFFFABRRRQAUUUUAIcjpS0UUAFFFFABRRTC2DigB9FFFABRRRQAUUUUAFFFFABRRRQAUUUUAFFFFABRRRQAUUUUAFFFFABRRRQAUUUUAFFFFABRRRQB//9T+/iiiigAooooAKKKKACiiigAooooAKKKKACims22kBLcigCOYZXrg1+KP7U37Ivg34MfHab/goB4d8Dat8YfHiyxQaXol3qaJaaYrfLJPZx3BEUTY5J6+lfthIPlxjOK/Eb/guz+zF+0n+1Z+yRpvw9/Zf02TVtctvEFhfz2iXjWPnWsEgaWMyqQQGXg0AfCXj/xd418c/tIaF+11q/7JXiHTfHegABdQ0/xFY2/2pOQsd2kbATIvbcDXpv8AwRR+J3g/4l/tS/tKeMJvDuqeFPFd1qlpLr2n6hcQ3EUMnl4UQvDwQAMkk1+eo/Y3/aN3razfsPK/lqB5qeM7naSBz/GDya/Xr/gkd8C/iD8HdY8YWniv9nay+C9rrkcbz3FvqralJqEiZAWTcSRgHqTQO5+Z3/BU7RPHv/BXT9pBvhh+yDqYl0b9m6CXxPe6jGvmW974ltQZbLTI36MxdAHI+7mvnX43an+x9+0b4h/Zg/az+Cfha20P4kax8TLDT/GG9Xiu7bUkQ/aoJ1bpl1LLgciv7OPhf+z98IvgnYahpPws0Cz0C31W7kvrtbOMR+dcynLyvjqx9TX5ufty/wDBOyT46+PvhV4l+DcOl6DB4Q8cW/irWgsQie88pSrH5AN0p45NBS3S8z5h/wCCFslyfjZ+1oJ1AUfEqbGOuTH/AIV+zX7VXwE8N/tN/BfW/gz4wvdR0/TtXh2SzaVctaXSBTuHlzIQynI6ivzn/wCCUX7Lvxm/Z2+Kf7QviL4s6YNPtPHPjaXV9IYOHM1qyYDkDpz2r9g/EkEt3pU9tASJpInCH/aKkD9auKItsfwn69+y5d6F4r1Dw3ZfCH436lb6feTW0V1F47hVJo4nKrKitMCA4GQCM815n+0H8Hf2a/AfhbSfGP7VPwf+Ndp4at9RtYUvdS8YQ3UVveTyLHC6okjNkMRyORX0L8KP+CTP7WHhnXfGVz+0D8Bbj4j3+qeI9R1Cw1WPxpPp4+xXE7PBGYFyq7VPb1xXt9z/AMExvE3lW/8AbP7HkuoQ208dykNz48muIxLGwZX8t1KnaRkU5ajW59E/8Fk/hL4Q/Zl/4I+af4I8KeJdbi0Ua3o80+oX1/NNfC2uriMyhrjPmYCN68Cmfsw/Dz/ggv8AAb4q+Fvjn8JfiLbal46tLb7Lp7Taxc6hJ513GEZVjcsAzE49jX9EUXwo8EfG34P6b4O+Nnhazu7KW2tnuNHvUW6hgljRf3ZLDD+WRgNjnGa5/RP2M/2XPAke/wAFfD3w9prr8yPBp8CsrjoQduQQfSnoD6n8B/xJ/Y9+Fmq/smfFn9sae61GPxFbfG02cFvHdSCy8ttQjX95bZ8tn+Y/NjNf2/8A7Unwu/a9+LHwW8M+E/2Q/HFl4BvJo7ZdS1G5tPtUoszCoYW4JwsvoTxX4vfHH/glX+01oH/BP74hfAjwlb2/iPX/ABX8T4/FtrBbNsCWT3sczB2Y/eVAScV+wn7Rv7DfxA/aK/4RvVdD+Lfiv4cHSdOitZrTQJkjimcKoLPvU5YEEDFZsdjnP2Xf+CUP7N37Pnwk8UeAfE9vL461jx7Gy+Kdd1s/aLzVDIDu3s2dqDPyouAK8h/Za/4J1ftRfsO/GWz0D4B/FY3/AMCmld5fCWuQG6uLBG58uxuidypnoGBwK0h/wSo+Ni2ywj9qL4kbQP8An5g5/wDHOtaOif8ABLb4x6JrVlrY/aX+I1wtpMkpt57qFo5FU5KONnRuhpDufsZZlivzgA47VdrI0qN7e1itmYysiBS7dWwMZPueprWJAoIAnApNw3baxPEGsQaDo9xrV0D5drE8zhRk7UBY4Hc4FfhjrP8AwcS/8E9NA1OfR7658USXFtK8TCLQbthvQ7WAbGDyKaVwP3qJwRRn1r8CH/4OM/8Agnq0TyH/AIS1Ni7ufD9509vl60+3/wCDin/gn9PtaP8A4S1mcgAHQLscnpn5apxVgP31yKQsB1r8Em/4OJv2BNs8jR+LFFsMnOg3Qz9Pl5qOb/g4q/4J62y28t9L4piF2u9A2hXWcflUpXA/fEHIzTN/P+f8K/AuL/g40/4J9yGQWqeLZEi+8w0G6IH/AI7T7X/g41/4Jy3QUteeJ1LZ66HdcAeuFNUqbA/fHzB/n/8AVTg4Nfg4n/BxB/wTruJZYrfUtfZoV3Mp0e5B/VevtWbb/wDBxZ/wTymtoL5rvxCi3MnloG0e55OcEkY6e9a+yA/fYsAM00Pmvweu/wDg4j/4Jv6feyafqWta3HLECSv9j3eCAOx24qpH/wAHF3/BN+9lEFtqniLBGVYaHdlT+O2s3SYH72FwOO9J5n+f8ivwPk/4OMP+CbttktqfiR2ztIXQbwke+NvSrc//AAcUf8E6rdliN74mfKhwyaBeEEH/AIDQqUuwH7zBwaViMda/Ba2/4OLv+Ccd1bXN0b7xKq2mM79BvAW5xhRt5qeT/g4r/wCCakECXTaz4gPm9ANDvCR7H5etDpSA/ePIxmm+YvavwbtP+Din/gnReRtIl54m+XnB0K7HHTIBXmp3/wCDiH/gnGkscLal4gjaUkLu0W6GSO33aaoSfQD93wcjNGVr8I2/4OHf+CeCQSXlvf8AiKdYzhgui3Wc/wDfPNZP/ERj/wAE5pLr7G174kSYjIT+xLo8d/4abw8+wH73iRT/AEpwdT0NfgQP+Djn/gnAYGvItR8QTbGCGNdEvN4z/s7akg/4OLv+CcU8vkx6h4kU8k50K8GMdc/LR7CXUD98AyKeuKd5ietfz+yf8HIP/BNcMwa/8T/IcZ/sG859x8tPb/g4+/4Jux/Il14plyM/JoF4f/Zal0pID9//ADE9aPMTrmv5+Lf/AIOP/wDgm/cEqLjxWmeD5mgXYx7/AHTxWnD/AMHGP/BOaS/i023ufEzyS9xoV3jHrytJUpvoB++25aQuBX4MS/8ABxZ/wTktXaCW+8QZXqTo9yMDPX7tXf8AiIk/4JuuluzazrUYuSQm/Sbnt2+7Wiw8+wH7s71AyeKUMD3r8KP+Ihv/AIJvMJhNrWtwiA4O/SLnk47fLzVe3/4OK/8AgmHLaLeyeKNWjjchcvpN0OT0/hqXSkt0B+8AIPSgsB1r8H4f+DjP/gl/NfjTLfxPq0jn+JdIu9oPudtNb/g41/4JevAZ/wDhJtYCq2z/AJA92SW6YA2ihUpdgP3g8xaXcpr8G3/4OK/+CY6SGP8A4SLWiVUPj+xbzp/3zUyf8HFX/BM6fCLr+tcnA/4k14DyM/3afsJdUB+7m8Z4pS6ivwn0/wD4OIf+CamotNFB4h1lfIG5i2j3Q49vlqvP/wAHFX/BNUXMdmusa7IZRlXXRrrZwM9dopOjLoNI/VL9rtY5/wBmDx9G4DD+w73g9D+5avz5/wCCCEEMH/BMD4dpANi7bpsA/wDTw9fH37TH/BwV/wAE4PFnwK8X+BdF13WH1LU9KuraCM6VcJmSSMqoJYADk9TXyV/wSM/4LgfsAfs4fsL+Efgp8Udf1C08R6LHO11bRafPLtDyM4O5AQeDmn7CfYuk9JL0/U/sKDL2p2Vr8Ho/+Djr/gldLJFE3jHUENwcJu0u65/DbR/xEdf8Eo5EIHjm82hxGSNMuuG9/k4pOjJbkNWP3hz6UhbFfg/B/wAHHn/BKxzIkfjO/IiJBI0u6Ix6/c6UH/g43/4JYoqn/hM9QdWOAV0m7Of/AB2o5GI/d8OKfX4Pf8RGH/BMIM/leKNTkVPvEaTd4/D5Oagb/g5C/wCCXQX/AJGTWT7DRrvP/oFHIB+8hK7sjk0/IzivwaP/AAcbf8Ewxb/aV8SauR/dGj3W/wDLbU0X/Bxn/wAEyG0l9bHiLWfJjIDZ0i5DDPsVH6UgP3d3bsjpinEkV+HGnf8ABxH/AMEvtRtfta+ML6JcZxLptwh49iM5qjH/AMHGP/BLJ/OZvGl+qw43FtMuOPwA5p+ykB+6oOaNyivwvuP+DjL/AIJRW0cct18Q5YllXcm7TroZH4pTLv8A4OKv+CV1uxK+PZ3RQGLJp10w57cJyaXKwP3UpgcE1+GEH/BxZ/wSwuLdblPHdxhjgD+zrrd+I2Uh/wCDiv8A4JZNuMfje7Yr1H9mXXH/AI5VKPcD90SwFJ5gr8KR/wAHF/8AwS6DbR4u1BjwQE0q6Of/AByrc3/Bw7/wS9SOORvGV8olbAzpd1+vy1DA/c0HIyKWvwwi/wCDhz/gmWWnVPFepMtuMu40q6KgfULyadp3/BxL/wAEvtTTdb+M7sZP8em3K8dzytAH7m0V+HT/APBxD/wS2ETSxeOLqUL2XTbnPH1Smw/8HD//AAS/mYj/AITS7QhdxDadcZA+m05oA/cJjk4NSAYGK/EO1/4OGv8AglpeNEi+PZUMuSubG4/ohx+NSz/8HCX/AAS8tpnil8dyhU6ubG42A+mdgoA/bZW3UpOK/EOH/g4c/wCCVc1ulyvxFJDkhQLC5ySOvGyoV/4OIv8AglczyRxePLhjGpZsabdYwPT5BmgD9wAQKfX4Zf8AERL/AMEsZLZLxPHdwFkOADpt0G/EbBSW3/BxJ/wSzu4biaPx3c/6LncDpt0M47L8nJ/Gm0+wH7mblpcA81+GcH/BxH/wS4uoY5k8bXZ8xtigaXdbicZ6bK1dP/4ODP8Agl/fQyTJ49eFY/vGawuUx+a0AftxTQeSK/EqD/g4N/4JiXlybO28b3DHGQ39n3O049G2YqK3/wCDhT/glvcjK+PpFUv5e5rK4xuHY/JT5QP28or8Q7n/AIOEv+CXNtMsLfEMMzZyFs7g7cevyipo/wDg4V/4JTtZfbD8S41QNtJNnc4z6fcocbAftqTgZoByM1+Isv8AwcO/8En0fym+J0YbGcfYron8MR1lN/wca/8ABJlDtHxKzgheNPu8ZP8A2zqQP3OIzxSk4Ga/JH4Af8Ftf+CeP7T3xVsPgv8ABzxwdS8Q6pJ5dtbGzuIt7dcB3ULn8a/WwEHigBwORmloooAKKKKACiiigAooooAKKKKACiiigAooooAKKKKACiiigAooooA//9X+/iiiigAooooAKKKKACiiigAooooAKQgkcUEgUzeQeaAI5nKISvJr47uv2wPBU37Xdn+x9olrc3+vf2PJrWoXEABt7GBWCxCY9mlbIUexr641OVLazknc4VVJJ9ABmvwr/wCCRENz8X/jH+0R+15ryrLceI/GEmhWE4bcVsNIXyhGv90byTgetAX1sfupNe20MaPLKsZfgbmAyT2GSKfCY5RtPJ5r+Sj/AILn+Ivjl+1d+0Zon7Hn7L3iG+0HVvhx4fvfH2rzWEjRsz2qn7JbsVIP7xgeD+Vfu9/wTb/aftv2of2HfAP7QOo3SNdX2jxrqRZsbby2Hl3IcnoQ6Emmh26n6BIqiPaRjFVgIoFKIQDyRX4JfE3/AIOAf2e/D/xJ1XwN8HfAHjL4oaf4fna21bWvDOntc2FtMhw6CTGJGTvtr4I/4LZf8FePF3w28K/BuD4F6F4y0lvEmtaXrUl3BbNbrcWJf59PfPPnyAY8s02g8j+uJGkPz7gRjp6UsaIRufaT64r8dNX/AOCyPwl8C/sn/wDDWXxd8D+J/COlpqttpD6dqlr5N6ZbghUkVCcGPJ5NfZP7Tf7avwx/ZU/Zjuf2qPiBBcS+HrS2trt0t1DTeXdFdmFOOfmGakbeh9lDyxzjGP5UybczBUAxXwX+0T/wUM+EP7OXwE8PfHzxLpOs6vZ+Ko7Y6VYaRZveXc73SCSNNiAhSQeS3Ar5O/Zd/wCC0vww+PXx8sv2Zfin4B8TfCjxhrUckui2viSARJqMSdfJkX5d+Odh5rSImfqE3x2+EcnxaPwEg16zPjFLT+0G0nf/AKSLUnb5u3H3c+9erSbwoLEcdM+lfzcaJZrc/wDBzFeXU3DL8MlYfXzmFf0f63fWmkaTNqV9/qreNpGOeioCT+lTzMaRWvdY0rQrOS/1W7htLdeXkmdYkH1ZsAfnSwa7pN/ZDUrS6iuLdl3CWJ1ZCo7hlJBr+TP9nX9n7xb/AMF3fjr8RP2gv2kfFOuad8EvCmuT+HvC/hfS7uSzhvWtGKz3Vw8RUuC3Tn+VfsT+yT/wTG8L/sG+L/FOufB/xn4hu/BusacYo/DOq3b3lrazqCfNhklJdcjjbnFHMQ2foR8MvjR8KvjHFqE/ws16y12LSLlrO8azlEohuE+9FIR0YdxXqjh93y4Nfy+/8G5mpWvhT4Y/tHeKdVYi3h+I+qSyKoLFEiLkkKASeOw617j4z/4OIPgR4J1z+1NQ+GHjpfAcd0LWfxdLpjxadEd/lmRt4D7AepI6Utwi7q5/QyqEoMmpQADivz3/AGoP+Ck/7N/7K/7O2mftKeLtQfVdE19YBosOmr51xqctyB5Mdsg+8WyB7V5N+xl/wVY8OftZeMrv4beIvhp4u+G+v29q1+kHiKyaKGW2UZMizqNgOP4TzSKufrCFZVOOtfGnxk/a/wDAHwN/aB8A/Ajx/b3dvN8RJZ7bTdSCg2gu4V3LbyNxteRc7PWvzv8AFv8AwXq+A+nfEjV/C/w28AeMfHXhrw3etp2s+KNDsDcabZ3EZ2yLkfNLsP3ioqD/AILT2tv8V/8AgnN/w0n8NjINQ8IXGneL9GumVopY/s8qSZKsA6nYSGBx70CP3bPk3CMjAMCMHPI9xXHN8Nvh+zE/2Hp+c5z9lizk987awPgl4vPxD+Evhnx+HWRta0u0vWKfd3TQq7Y/EmvWV+7kCqTsgOFb4beA3GJdE0857/Zov/iab/wrbwJ20axI/wCvaL/4mu8AJHzU6hyA8/b4beBZOJdEsDu4x9lixj/vmq1x8JvhvdMv2jw/pr7eha1iP5fLXpNICT1FSB51D8Lvh9bBlh0HT0Vhg4tYhn6/LVM/Cb4cK2Y9A01QeuLWH/4mvUqKfO7geV/8Kc+GLSNKfDum5Pf7JD/8TTv+FP8AwxLgHw5pmF6f6JDx9Bsr1Kir9owPLJPg58L5ZN7+HdM+ptIT/wCy09Pg78LkP7rw5pgA9LWL/wCJr1CilzsDzI/CP4aA/wDIv6aCe4tIc/8AoNPPwn+HUfFpoWnLu4JFrF0/75r0kqDzSYwcAUuZ9wPNYvhJ8OQCJdB01gTnBtYSM/8AfNJL8H/hdJEI/wDhG9LwDnBtIcf+g16bRQ5sDzQ/CT4csoDeH9NO3oDaxYH0+WqU3wU+FdyQ1z4a0pmXkE2kPH/jterk4GaAQaOZ9wPMIfg98MYFEcXhzSwncC0hH/stIPg/8LVkMy+HNM3ev2SHP/oNenYP3QOKXYtPnfcDy1Pg98L4wWTw3pYb2tIh/wCy1YX4T/Dkt/yL+m/X7LFn/wBBr0rYtNLbTgf5/Sj2jG2edS/CX4ayFR/wj2mgLz/x6Q4/9Bp0Xwm+G1uD5eg6cM9cWsX/AMTXo9FCqPuI81f4S/DlycaFp+D1BtYj/wCy1EPg78L0lE0fh3TN4GN32WLOP++a9PpAAOlDqN9QPJ5Pgh8I2YsfDOlMW65s4c/+g1R/4UJ8IS25/C2kYHIH2OHg+o+XrXswAHSggHg1Lb7gePr8CvhIchvDWlYPX/Q4T/7JTR8Bvg8FCf8ACL6RheR/oUHH/jlexbRjFJtXpiiMmuoHkkXwS+EaOWh8MaSp/wBmygBP/jlWP+FK/CkIFHhrSgByALKADP8A3xXqaoq9KdV+0YHlZ+C/wnZvMbw3pWRwB9jh/wDiaG+Cnwmk5fw1peSOcWkP/wATXqQUDmnZA60nN9wPIB8Bvg75ZhXwxpXlt/CLOH/4inL8CPg8WDN4X0r5en+hw8fT5a9ZL4OB/n9KUPnjvSU2M+EP2ufgF8GLT9m/x7q9l4S0gXS6JeMsi2cIfcIm5B2ZzXwV/wAELfgl8HvEv/BNjwH4i1fw1pl3eXCXKyXE1pE8rgTMMO7KWPTHJr9Wf2tzcr+zJ49Fpt83+w77aWGRnyWxmvgP/ghVFPbf8EzPhwl4AsrRTs4QfLuMzZ/OjmfcmD96XovzZ+j/APwzt8DXZZB4R0bKcKfsNvlfodlEf7OvwNjDAeEdG+Y5P+gW/J9/kr2oY7U0MTzild9ynrqeQL+z98ER93wjoy/Sxgx/6BQfgB8FFHyeEtGB/wCvG3/+Ir2EEnqKMrTUmI8mj+BXwfiTbH4Y0kf9uUH/AMRTv+FHfBoNvXwrpBb1+xQf/E16xRgdKOZgeQn4CfBd5TcHwppHmH+L7FBn/wBBpsvwD+CtxF5EnhPSMA5GbKD8/uV7BRSTsB4jJ+zh8BJVCy+DdFfBzk2MHX/vinL+zv8AAxQR/wAIdomTx/x4W/8A8RXtYAHSjAzmp17geGz/ALNP7PtztW68FaHKF/vWFucfT5Kki/Zt+AMCbYfBehgHsLC3/wDiK9sKjk4zSpnHPFXcDxeP9nP4CRHMfgzRAf8Arwg/+IqUfs9fApSWHg/Rcnr/AKDB/wDE17LSbRnNCkB4237PnwPDmQeEdIDHuLKD/wCIqGX9nP4ESgCXwfo7KvO02MGM+v3a9qyc4xS0mwPGk/Z++B6L+78JaQg9rKEZ+vy1TX9mz4AjBTwZonH/AE4Qf/EV7a4J7UqDAxjFIDxBf2af2f1O7/hDNFHGP+PGDH/oNNH7NP7PnmeY3gvRN3QH7DBnH/fFe6UmFoA8Kj/Zj/Z3hz5PgjQ1z6WEH/xFTt+zV+z86mN/BWhlW5INhB/8RXtwUDpS0AeHR/s0fs9xYaLwPoSkdMafb/8AxFWV/Z3+BG3YPBmiBfT7BB/8RXtFFAHjrfs/fAoIE/4Q3RMD/pwt/wD4iqy/s7fASNg0fgzRQ2c8WEH/AMR/Sva6btA5Aqr9wPGJP2dfgPLILiTwbopdeh+wwZ/9BrHuv2U/2a79WF94E0KUPyQ1hB/8TX0DRU3A8Hh/Zi/Z6gjEEHgrREjUYCixgwP/AB2qA/ZO/ZoUnZ4D0EZO4/6BB19fu9a+hgAOlAAHSquB89H9lD9mcSeefAeg7/X7BBn/ANAqdf2Vv2bBGYh4D0DaTnH9n2/X1+5Xv2BnNLS5gPAf+GWv2b0O5PAegEj/AKh9v/8AEVdh/Zq/Z9hXZH4I0IDrj+z7f/4ivcaQ5zxSA8p0b4F/Bvw7qUes+HvCukWN3EdyTW9lDHIp9VZUBB/GvVfu8npSkkdBQRkYNAADkZpaQDAxS0AFFFFABRRRQAUUUUAFFFFABRRRQAUUUUAFFFFABRRRQAUUUUAf/9b+/iiiigAooooAKKKKACiiigAooooAQgHrQQD1paKAOf8AEFrJfaVcWUBx50bpn03KRX4G/wDBErXrT4TfDX47fB3xNm3uvAPj7WLi8aXgGG7/ANIR+eilR1r+ga6BZPLXoa/FTxB+wH8T7T9tT4j+KfCkptvhp8bvDZsvE7W83lXVnqMCmOK4txjkyRkqaBre/kfhB+xBp3/BV39pr9ov45f8FA/2Q7HwbqXh74gavP4fs5vFTSiQWOnP5aiDYMeUw59DXX/8E8fGP7S3wG+Dn7WP/BNf4qi0sPiToFnqHifSIdLZmtjFqMbPItnnB2KxyABxX9XP7Iv7KPwz/Ys/Z+0H9nb4RRSpomgRssTzNvmleQlnkkbuzMcmvJNe/wCCfXwb1f8AbSsv2643vLfxdb6PJodxDG4Fpd2smeJ4/wCIrnihB0R8E/8ABu1qHwiuf+CVfgaLwWbdb21+1Jr65VZhqQlbzjcZ53dOWr52/wCDim70ybwF8AtWsmjltYviNpQ86IgxgeYAPmU49q+hviF/wb1fsleK/iVrPj/wB4m8X+AbXxHctd6no3h3U5LSwuJXOZGMSkBd/OdvrX2r8dP+CYH7NPx//ZN0v9jbxhaXsXhfQVhbTZ4blxe201u26OZZzljIG5yTVX0HLdM/OX/g5bjuI/8Agmab3TbX7SsGtaXLI6jIiRZFJkJHZepNZH/BbTxv4RT/AIIgTDVNWtIZtX0TRls0klXfcylYW2RDOWPsK/Rzwb/wTE+Eeifsv+JP2T/iHrev+PvDXimOSK6bxDeNc3EaSRGHbFKeU2qcrjocGviLRP8Ag3H/AGKk8ETeBviJq/ijxpZLD9m01dZ1KWZdMjDBlNomdqMuMBuuKkT6opftGft5eOf2YP2ff2cPgb8C/DNh4h+I3xR0/TdO0P8AtVtljalLWMvPMeCdg5AHJr8yP21/AH7Yfw9/4KUfsj+KP2rfiNpXivXb7xQ8cOl6TZR2UdkGA3FSD5jqR8uXr+hr9qv/AIJX/AD9rf4P+D/hH47a+0+TwCsH9gazp8xg1Cxe2QIjRzLzkgDdnrXgHhf/AIIS/sn6L8V/B/x68T6t4n8U+OfBt7Hf2us6vqc1zM7x9I2DHaE/2RVJ6Az50sQYP+Dld5YiNsnwxcN/wGc1/Q3490m41/wRqmi2jBZLu0liQnoC6FQf1r4L+LX/AATW+FfxU/bX8G/t1JquqaF4v8JW5s2GnzbIL+2JLeTcqc5QE9B1r9ILiFpLcxx8cVI4s/mX/wCDdX4qaX4G+HfxN/Yg8dTRad44+HnjPVHnsZDsmntbyYyRTojYLKexX1r+hDxD8SPBcmo3nw9Or2Z11rSScaeJ0+0+WFPzGLO8L74xX5xftj/8Eb/2Z/2vfiBD8aJLnVvA3j+CIQjxF4ZumsbtkB4WXZ8suO24Gul/Yu/4JLfs/fsXeMbz4p6Hd6x4y8b6pbm1u/EXiK8e8u2hPWNdxwikcELQRKNz8gP+CLPxq8O/s5fsi/tSfG3xbA02n+GvHOt388Scu6wlztA/2unNcL8fPE//AAUQ/bx/4Jj+Mf2lvFHiXwr8Lfhjruh3eoWOg2tol1dXNkAxRZ7iQhUeTHRRkHpX7h/BX/glV8BfgXr/AMWZPDMt/e+H/i9LJNq+g3cu6wjlmBErQpjKl8818aaL/wAG6X7LFr4KvfhT4l8YeM9Z8ESib7H4cuNVkFhZmYk4ijUjITPyhsgU7CjGyR82/Bv9gfSf+Cgv/BGf9nnQbXxU3hPxh4YsLXVvDmqgq5ivbd2KbomI8xTjlRzXt/7Mn7a37ZHwl/a70n/gnX/wUh0fSdW1nxbpdxJ4e8X6IPLS+igQiYXMTcxtt6kcZr7N8Zf8EhfgV4t/Zx8A/s5WOt+INCtvhooGharpd89te25XPzMyEB8gkYYGoP2cv+CRHwg+CXxUvfjv8QfE3iH4meNriyk06DV/Et2biW0tZQVeO3UYWPcOCw5NDZR+U+qfsw/t6/8ABHTSvG/xi/Yi1PRPib8FL7ULnxFqvhLVcJeWiyMXujaXKkq+BnAb0719Z/t7/to+Av2jP+CHWuftJfD6ykh07xxokdta2coCyJNdSLAYsDAJV8gY61ueK/8AggV8M9dvp/Dmi/Frx/pPgDU5pZ9R8Ixaq72Nx5rb3j3OTIkZOcqDjBr0b9qb9gDxL8TNW+B37Kvwj0a10X4JeCNSi1TW1VwNy6cA1raiLGWEknLsTSA/Sj9kXwnL4G/Zo+H/AITuNySWPh7T4XVxhgwgXIPuCa+khkE8dazrO0FpGIo1CpGAFUdAOmB7elaOS4P+f8KAH0UijAxS0AFFFFABRRRQAUUUUAFFFFABRRRQAUmVpaiEZBzn/P50ASEZGKAAOBUbPjnt3qqLxWyCCvPWgaRd3HdjFKSB1qhJepCwU8gjj8Kgj1CKXkEE+xpuLQR1NMMTzinbFrJkvRE23071et5jJGGYg59KGiYu5aooppBJ4pDHUUUUAFFFFABRRRQAUUUUAFIQD1paKAGeWP8AP/66UDFOprdQQM0AfN/7XwH/AAzD4+BBbOhX3fH/ACxbvXwV/wAEJp4bv/gmL8N5bf8A1awTgd+kzdzX3r+2CWX9lv4gMgyw0G/I/wC/DV+ef/BAg3B/4JY/DAXQIdra4b2OZ39KtbDjDST9P1P2bTpT6YnTNPqWIQjIxTBH6/5/WpKKFKwBRRRSAKKKKACiiigAooooAKKKRhkUALRURlUdahklBUsDQBZY4+lKDkZqgtzGyFdwBFSQzoVAzyadh2LlNBJPNQ+dEDtZ+alR1f7pzSEPopCQOtAORmgBaKKKACiiigAooooAKKKKACiiigAooooAKKKKACiiigAooooAKKKKACiiigAooooAKKKKACiiigAooooAKKKKACiiigD/1/7+KKKKACiiigAooooAKKKKACiiigAooooAaQvU9qjfDcg4qUjIxQAAKAAAAYoxS0hz2FADduTz2pDhjipKKAGMpJGDxRtbPWn0UAJjIwaBjoKRt2eKcOOKAGsGPSlHSlooAYVzmlwcDmnUUANOAcmlIHU9qMc5paAG4GPl4zTejAVJSYGc0ABHPtUIgUOX9e1T0UAIVBBHrQBgYpaKACim/Nu9qdQAUUUUAFFFFABRRRQAUUUUAFFFFABSUtFAHnXxXvL6x+G2vXumOyTw2FxJE0f3g6xsVI9wRX+b9+wZ44/4Lu/8FRPin8RNG/Z++PN7o9p4M1CaK4GoXJQIjTyJGiKF5wBg5r/R4+Ljtb/DHxC9sfn/ALOuSPqImr/LH/4JIaP/AMFeNa+OPxeb/gl3exWTrqdw2uG4aNYyDdSeV/rAcnOelapW1RdPqf2of8Eof2Of+Csn7N3xL8V+K/8AgoH8XU8eaJdaaYdOtEmaby592TL8wG3gEV/Nl8Lf+Cqv7Rn7K/8AwVb8Ra7498S6pq/gCDxNdadfWFzO8lvFayTFA6qThTH1Ff12/wDBKHR/+CmGnfBPxMP+CnV3bXfiZrz/AIlv2YoQtt5Z3A7AB97Ffyrfsmfsl+F/24f20f2sPgHrUaNcXCX01hLjLQ3UMxMbKe3zYzXzHEVWcalJU97n6JwAqChiKmJjeCir/fa/lufrz/wcbftQfEP4f/s7fDD4ifAfxVe6Tb67qsci3WmTGM3EEih0GVPIK9q/pF/ZX1fUfEX7OPgfXNXme5urvRLKaaWXl3d4VJZj3JPWv82P9oL9pzxVr37FXhj9iv42lo/Gfwh8WfZtlySZHsw5QYz1CHkexr/SV/ZOYSfs0eA5kxtbQrFhjpgwrXPlGYe3xtT0RXFmTrB5ZQpta80te60sz6Ioqth2fParNfVH5smFFRvmnqMDFAC0UUUAFFFFABRRRQAUUUUAFFFMbqBQB89/tYxq37M/j1ZFLA6Ff8DuPIavzu/4IGmAf8EsfhetkrLGLa6C7+uPtL/y6V+i/wC1PI6/s3eOmUAsNDvsZ6Z8h/Svza/4N/7ue/8A+CVfwwupyCTb3YOOnF1IOKck9H/XQ0g9z9pFIOcU6mJ0p9IzCiiigAooooAKKacjkflTVYv0GKAJKKKKACiiigAooooA/OH/AIKdfB/9r/43fsx6p4I/Yj8VJ4N8cz3Fu9tqUjlFSJXBkG4AkZWv4Kf+Cinxz/4L1/8ABM/4n+D/AIWfGf48zalf+NBusn0+XdGpEix4kLLxyw6V/p4leS1f59n/AAdx2T3H7a/7PMY+UTO6D0z9pi/xoGtz9h/+CZ37JH/BcPwJ8b9B+M37Zvxns/FvgW50/wA6fSI3LsxmiDxcEAZUkZr4I+EHxa/4LHft/ft6fHL4MfAj46HwFonw/wBWkjtoZ7RJEEAYKsagDI65zmv7Ifh2Gi+F+gW6n/V6XaIceogUV/CD+yR+0v8Ato/s6f8ABTT9pvUv2Q/hGfincXutyx31qk/ki3AcFXOWXOT1waZX20vJn6W/D/8AbS/4Kmf8E7/27fBH7Kv/AAUG13S/iN4O+I032bStdtYhBOkvAO7HdT1U9QeK/rg0tSsWS2R2r+S34U/sd/8ABSr/AIKQ/tw+CP2tP+CgPhix+GnhL4bSfadI0C2lE8kkxOSWOWwScAtnp0Ff1qWA8uHCrge1DJ6XNPHOaWiikIKKKKACiiigAooooAKKKKACiiigAooooAKKKKACiiigAooooAKKKKACiiigAooooAKKKKACiiigAooooAKKKKACiiigD//Q/v4ooooAKKKKACiiigAooooAKKKKACiiigAooooAKKKKACiikGcnNAC0UVC0mM84FAE1FNUkgGlAwSaAAnAzS0hGRig8CgBaKaGJPHSkJBPHUU7APopgJzzQx44oaAfRSKcjJpjfIuVpAPOeMUtN3AcGlDBulAC0U3eucUiuGGRQA+ikGcc0tABRSFgKMjrQAnRsdqdWbfXJiCshwCa5Lw58QPC/jJbibwpqVtqMdlM1tO1rKsqxzIcNGxUna69weRQB3p3Z4oYE9KbuJAK/jTgyscA0AOopDnHFRbwh2+vSmkBNRTQwPQ5pRnHNIBajUtnmpKKAOE+I+mX+s/D/AFrS9JTzLq5sriKFTxl3jYKPxJr+WH/g2/8A+CdH7Xf7DvxV+N+u/tN+Gv7BtfFd8smmOJklE6faJJC3yk4wGHWv61X2HhvxqIRxMfl+X6VTkXHuyhdRO1rJHtDZUgfiK/mt/wCCZv8AwTP/AGmv2XP+Cj3xe/ah+KcFjF4W8atef2ettKXlImnDoXXtwK/pi+VF61EYoW528GubEYWFScZS6O56WXZrXw9GrRp2tUVn6bn8hn/BZz/ghd8WP2pf2jNM/aP/AGSrHTIb/UlRNcguZGiEjxH5JcbiuSODgDpzmv6kf2c/COufDv4D+EPAvicodR0fSbS0ufKOU82KNUcKfTI4r1/7JAEyF57VYhi2qN3ascPltKlWlWh9o1x2e4jEYenha2saez6k6nIzS0UV2nihRScAUhcAZJoAdRVU3lvuMasCw7VYRt67hQApOBmgEHpTXzjimq6gHNOwEtISBya5DXPGnhjw3eWdjr+oW9lLqEogtUnlWMzSnkJGGI3NjsOa6eGeKccHJoAsA5GaWkyF4paQBSEZwaWigDw39pWTZ8APGjFdwXRr0keo8huK/MX/AIN9poZ/+CVnw2kgQxK328hTyR/pktfpx+0wtw3wA8Zi3bY50W9wT0B8lucV+Zn/AAQAL/8ADrj4cmWQTNm/+cLtDZu5OcdquXwp/wBdCoLc/aRBT6YnSn1BKYUUUzk+1AD6KKaTjk9KAHUVy9t4z8K3fiCfwtbX8EmpW0ayy2yyKZURjhWZAdwBPQkYNdCsgJxuoAnopBkdaWgAooyKKACiikJ5AoARiQOBX8dv/Bxb/wAE3/2vv20v2rPgh4+/Z58KyeINK8KTM2qTLIiCEGeJ/wCIjPCk8elf2JHOcCosxqRk80AcB4d0yaw8GadYOhSS3s4YmX0ZY1Uj8DX4C/8ABKP9if8AaE+AH/BQb9pD42/FTw6+kaD421IS6NcvIJBcxbgdwUE7fxr+jsIpJ7+1LtHQDGKBvWXMQLaW4G4RgGpEjKqAO1T55xRQIKKKQHNAC0UmeaMjO3vQAtFFFABRUUsgiXe3SuZg8X6Bda3J4ahvIH1CCMTSWyyKZURjgMUzkD3oA6oEHpS1BE4K7gOD3qegAooooAKKKKACiiigAooooAKKKKACiiigAooooAKKKKACiiigAooooAKKKKACiiigAooooA//0f7+KKKKACiiigAooooAKKKKACiiigAooooAKKKKACiiigAoopjsVGRQB4r8cvj/APCf9nHwFc/E342a5beHdBtDiW9u22xqT0BOO9fIHw2/4K3f8E6Pi34msvBngL4t6Bf6rqEgit7cT7Gkc9gXAH618S/8HJljZX3/AATV1uPVERrc6lY+ZvPy7fMAYH8M18s/8FAvgT/wSC8If8E27rWtV03wpo+u2/h6CfSJ9Flgj1X+0zbq0PkeQ3mGQy4yO5oA/qhhuEljV42BBGc5yCD6VN5gyORjvX8tXgT/AIKZ/H39kT/gnb+z38M9f8NXPjf4/wDxL02Ky0bRrpjGz7SQlxeN1VUi2liea9n8C/8ABTz9tz9mT48eDfg1/wAFRvAWieG9K+It2thoniDw3cPPbQ3rY2292JMbS2cBhxTsB/Ra0yKCSa+cP2ov2mPhx+yV8CvEH7QfxZnkttA8OQG5u3hQyPsBxwvrmvyC/ay/4KRftja/+29dfsFf8E+PCvh3U/E2h6Sms6xqPii4eC3EchwkVuifNI3qQDXe/tEftT/tEfDT/gl345+On7Z/wt0UeJ/DdtJ9r8Omf7Xpt+kbBd+SPuSZyAeRVxsgP1X+E/x8+G/xV+Duh/Hbw/qiReGvEVnFfWd1dMIR5coyu7fjB7Y9ayf2k/2mvhd+yl8FtX+Pnxavja+G9FiE1xPEpkO08DaF65zX8wn/AAXN+M/7St5/wSV8AeMPgV4Z0nSPBmvwaHd35t53glsZJpIngtraJMAxFjtfJ4FffHiT9pX9rT4Yf8ExPGPxw/bb+GHhe4Ph7w9bXdjpNvcvd22oQrCpP2pXHyH7pwM96XMNLRn7d/Bb4teDfjp8MtE+LPgC6+16J4gtI72zlIILxyDIyDyCOleqbkVsOcema/A22/4Ke6p8Eda/Zh0PU/BVjpHgL426dBCLy2YomlXs0QkhtkThSjE4GfSvqX9ub9vXxV+zr8dvg5+zx8LdDg8ReJPihrP2SSGZiv2bT4l3XFyMf3B68VIux+qW9AM5FZ1/cRR25lkbAAyPwr8Hfij/AMFJP2tPi7+1F4o/Zl/4J1fDzS/F6/D8rF4k8Qa5cyW9hDdOu5bSHy+Xl9fSum+DX/BTXX/jX+yv8Zbj4veGG8FfE34S2V5Fr+ipIZVjkWBmingc4LRSdVNIdj6N/Yg/a/8AiP8AtY/Fr4vTGzs7fwF4I1v/AIR/R7mMsZ7q6t1zdyMxO3ywxCjHevreD9qT9nyf4pW3wQg8Z6RP4uvUd4dJhuo5LphHy/7tCTwOuea/Pj/gh18P9I07/gmL4A1R5DNN4vgu9bvpcYeSbUJ3dyx6k4OM5r8kfGf7G3wA/ZE/4ODvgTcfAzRP7IbxXp2tXmps00kxnn253nzC2PvHgUN2TKjpJH7gft7/ALX/AMRv2O/FXwx8afYre48A694gg0LxDKwb7Rai9+SCdG+6EWQjdmv0xspIpoFkt23qeQR0welfmF/wWS8A2Xj/AP4JwfE+1uIRNNp2kvqVrn+C4tMSxMO+VZQa+j/2C/iNrPxZ/Y3+GfxJ8RYF9rPhzT7i4xyPMMKg/wAqqSJTvdH14MgfNQpJGaCecUKCBipEIy7qTaoGTUlQlCGB7UDR8O/8FF/2gP8AhmP9jnx98Zrdtl5pGlTGzGcFrmRSkQHvvIx61+f3wfl8T/8ABND/AIIx3Hxj0a1TVfFel+HJvFuorfZxeaner9pl84g7urBeD0Arc/4OAVXUP2GY/Dc6BrbVPFGhWlxlsfu3vY8/WvZv+Cs2mQ6Z/wAEnPivpNmoWCDwfNFGo7KkAUfoKBN6H45/BD/gph/wcF/tCfC7Qfi78O/2f/Ckmg+JIFuLKeS7lG6JhkOR5mQDX9E37D3jX9qXx38CrHxJ+2L4esfC/jeWaVbiw052eBI1P7sgtkkke9fzY/8ABNX/AILWX3wh/Yd+F/wpm/Z7+JHiCXRdGhtBqGnaf5lpcbc4kikx8ynPWv3H/aj8CfGH9s39nvwjr/gv4jat8BdL1BFvtd+WOK/W2dCTbvLIdsDg9WzQW3qz9RGvLVwSDn6H+tfhj/wUN/aN+NXwk/4KF/stfCzwJrs+m+HfHGv3dprVmhGy6iSLcqv9D0r8avGnxg0P/gm1+2T8Jb79lz9pTUPi3oXi/wARQ6B4l8KalqK6kyrcnabmNxkIwbtn6V+jX/BWubd/wVB/YtdMj/iq7rOfeHpVog/pCtZo1DCTICnA/wAirLXcDMFycnpX8qH/AAVh+MPjrxb/AMFEfh9+yT8avihqnwU+Der6VLfR67pbm1bUNVDbVtZLz7sYAwQCR1r9Rf2Mf2c9W/Ye+HXinx5q/wAbNZ+KfgcWbX1gNZmjuzaLEheRkuUyXDAevFKSA/Wr7bEeRnj0BNSrKs3zocqOvrX8Y3wU1++/4KzHXP2r/wBo79py4+E3h59Uubfwd4Y0LWrbT3trW3cotzdq7hmeQjOCOlfq9/wRw/bD8a/EfWfil+yH8UvGMHxE1n4S6lDDaeJbeRJf7R0y6XdA8skZKNKn3WIqQP2M+MvjO/8Ah/8ACvxH460qJZrnSNPuLyOOT7rNDGzgNjnBIxX5Nf8ABFr/AIK1+Hv+CofwX1vxJr1pbaF408N3z22qaVAzMqRbiIZk3ncUfBBPY1+mn7UUmP2c/HUiKZF/sO+yq9T+4fpX8Rf7EXhPxV+w3+yv8DP+Cr/wntZP7Igku/D/AMRrOFSBc6TNeMsd2yD7zW5IJY9qBt6H9S3xq/by8Z/DX/gpx8K/2H7HSba40X4g6PqOpTXzFvPhksgCoQZ27Wzzmv1UW4DR4YbeOlfzK/tA+NPDfjv/AILs/spePPCF2l9pOteENbubS6jIKyRTRI6kEexFc9/wUC/au8cftL/8FCrT/gm74H+K8fwg8I+HNLXWfF2uLcxWl7cmRsQ2drLIQFJHLEcjNOxTfkf1G/a4khV8nB4HvSf2jAmFw2c+hPWv5NvA3xZf/gmt+2p8MPht8OvjhP8AFv4V/FrUH0ObTdR1GLUr3S9QK74p4pEYt5bHhgeK3dIsPi5/wVh/4KN/GT4UeN/iT4g8C+Avgs1vpthovh25awub24uF3NdTuDuKKfu9ulFmQf1XtexYy+Rj2NPN7GpwQfw5r+P/AP4Jh/s9/Hjwt/wVU+K/wV8e/HLxj4r0v4ULa3ml2t3e+da3NveKf3N6h6vGSMdzX0H+13+xdayeJNe+Jf7bf7YeteD7y4nmfQrDTdRh0i1srYn9wptwS8rA/ebHNIaP6bNR1u2sNPuL+YER26M7HHQKMmvlD9kD9sr4Y/tsfDLUvij8KYLuLT9O1e80aQXSbWM9jJ5cjLg/dJ6GvwE/4Jm/tF/Fv/goh+wd8Yf2dPE/xQv7jWfhlqs+lWnjXRSEub+wRHeCQs45Lqu1zjkV84f8G2n7GfxM8TfBWb45f8Lg8TWmmaR401JJPDkEqiwu3t5SGe4BGWMh5fFAJH78fs7eLP8AgoVf/trfE3w7+0Loun2vwgtY4m8IXtqR9olYldwkwM/3s59q/U+1k2W5JOQOn0r+bD9mX4w/H34x/wDBS39rP9nG48WX8el6RpNsNBjD/Jp88seBJCOx3HNe7/8ABE79rf4jfE39mrxZ8J/2ktWlvviF8INcv9F165vGzLNFG7PBcMT/AHk79KBJ3SZ+6q3wJwVbp17VVFzFn5vrj1//AFV/Kz8Ef+CiXxi8MfAb9qL/AIKafELWbjUPCFhqtxpHgjSJGP2ZV0/MQljHpLLjce/NeLfDj4SeNfjR8BF/a3+Kv7Ylxo3xk1qwOtWOn2GsW0Ok6aXXzY7E2m/Drjar7hnrWjemg0j9tf8AgsD8HtZ+Jn7Gmt+N/A6Y8WeApE8TaFcKxWSK5sG835Sv95AVI6EHFfa/7IPxs079o/8AZz8E/HPSjmLxPo9tetxjbKyATLj/AGZAwr4E/wCCdX7W2sft9/8ABNxvid8Rlt31xbPUtF1k25BhluLNXieVCONsow3HrXF/8G9Ot6xq/wDwTe0Kz1W4a4XS9b1qytixyFghvGEaD2A6VEtkwjuz9yyuWzTsc5oJwMmgHIyKBC0hGTS0UgPE/wBo2CW5+BPi+CJghbR7wZPIGYWr8uP+DfI25/4Je+BY7Z2dIrnU0BYYPF5Jnj+VfqH+0d5ifAjxi0RIJ0e9wQM4Pkt2r8r/APg3mvp7/wD4Jf8Ag2S5ADi+1VSFGBxdv2rWa/dr1Kjsz9wBjtRTVGBinVkSFFFFACMMjFc94j1q08O6Nda1fNiK0heZz6Kilj+grfCndk18l/t1eJdT8H/sj/EXxLoQP26z0C+kix/eELYoA/Gj9hH4k/HDxx8KPjh/wUF+EfhdPG/i3xl4kurPw7p9zceQJdO0o+TDEHPCKz7m4r54+MH/AAW3/wCCqnwE+Jngr4N/FD9mHT7TxD8QLo2Wiwpq5kW4mHVNwyFwPWv13/4ItWGnr/wTE+EN9BbpFJfaP9quAoADSyzOzscdyetfnp/wVvggb/gqf+xvDMxKDxHcttHGCIzg0AfqL+w1+0L+2/8AGVtZh/a/+EEPwxNoqGyeDUFvRck/eGByuP8APt+hov8Ad0Bwe/Nfkn/wW8+Nvxb/AGcf+CefjP4vfAzU30bxLpRtns7mPqGM6jaf9ls4PtXzT+zL+y5+1PoXwov/ANvn9oz4ta3rfjrW/Ck92miWkgi0SxWe1MkSwwDq6cNvJ+9QHS5/QUJlKnaDketTJISoY9cdK/G//gh/8Y/i38ev+CcHhj4m/F/XbnX/ABFqFxqAmvbtt0jCOd1QE+igYFfMX/BLj9rv4p6z4p/ay1747eIrrVtM+HviyZLEXD5S0tIoWkMUefurx0py0VyuX3rH9FT3O3ae1RxSmaUkdB2r+Ov9mLxj48/4KuWfiP8Aal+OX7TFz8LdDu7+6tPCvhfQdVt7Bra2gYpHcXau25nY4baeDX6gf8Eef2zvHXxR8XfE39jb4teL7Xx7r3wovoorTxFbMj/2jpsy/upJGjJUyoflfHU05ExZ+zvxR8cyfDrwFrXjYwfaP7IsprzygcF/KQttz74r+Zv4Af8ABcH/AIKPftTeDH+K/wABv2U5PEHhJb24tFvY9WRGc2zlZMK3Ofav6If2oI3f9nzxq75AGiXpyOvELV/I5/wQl/4K5fsL/sofsEw/CX43eMzpfiO117VJ2shaTzuyyy5TaY0YFmx0zUj+1byP6Dv2Cv8AgqZ4E/bP8UeI/hL4g8Nan8PviN4S2tqnhnWVAuI4m4E0bqNskZPGRX6oQXqSxiRsg+mK/kw/ZF8U+Ifj7/wUV+KX/BXj/hG9U8JfCrw94SbSrCXVIzZzas0AZ3m8lhu8vHKlvasz9lj4B/tdf8FpvBt9+2l8WvjR4k+G/hHUL+4i8G6F4TnW3WG1t5GQTXTEHe7ECgbWp/XWJMnOMcUeb8uepHUV/Or/AME5/wBq39qP4cftKfEj/gm1+1jq7eMfE/gXTv7Z8Ma7IAlxqmmsCFW4xwZFIwTX5m/sjHx3/wAFOPjZ8QtT/aR/aM8SfCv4teFvEV3Y6L4R068Sxhs7OFyIJBbyYFxuwCeuaCT+pH9uH4l/tO/DD4Car4t/ZK8L23i/xpbvELTTrqQxo6M4EhJHcLkiud+OX7Z9r+yR+yPbftL/ALSelSWs1paWbatY6efM8i5uCquiE9QrtjntX5/f8FU/HX7R37If/BKPUNa0jx3eah460E2NvJ4jjRYLi4D3CqzlUG1SynBx1r86v+Dhn4afEbx//wAExPCfxuXx9rGlwJZaQt9pMDD7Jfy3KxEyTjqWVjkH1oG9Fc/qF8b/ABI8a3fwKu/iZ8GNNXWtWudI/tHSbKdvLWeSSISwxse27IBrzX9iH4pftLfFT4A6R40/a08JQeCfGd08ou9LtZDKkSq2EJJPVh2r85/2Pv2avjX+yh+xBr3xM8S/F/xD4/n1TwfFe6fHqxQJpm2zDqtvtAwF4Az2Ar8wY/2g/wBtDxd/wQg8C/treDPGepz+MvBWqtq+qyiQltQsba7ZZoZ8D518rt7UA1Y/seEi54PHWlMqjOeMV+QP7Xf7f1h8PP8Aglle/tk+BLyNb7XfDsFxo5Vh81/fRqkUaerCVsAeor8wvj5+2H+1v+z1+yV+z7+x9a+NFsfjX8ZEi/tDxNrDxxjS7eYCW4mPmEJujVtqZPWgR/VnLPEynOc9h61+D37ed1J+x7+3n8If22NMnki0bxXcjwP4lh8wiEw3p/0WdgeN0cuB9DX50ftDWnxK/wCCWHhXS/2s/hH+1HffFAaZfWsfibw5r2p2l6mo288oWU2kcbFonG4lQo6CvvX/AILq+INK8b/8ErZPjBpajfHcaJrmns/3o3eeKVMe4zimNbXP3/05swBc7h2Pt2rRry74K63d+I/hJ4X13UTme90myuJf9+SBGb9TXqNITQUUUUAFFFFABRRRQAUUUUAFFFFABRRRQAUUUUAFFFFABRRRQAUUUUAFFFFABRRRQAUUUUAf/9L+/iiiigAooooAKKKKACiiigAooooAKKKKACiiigAooooAKjkzt470rbu1OxkYNAH8/H/BydbWF/8A8Eztf0zVF3R3WoWcRGcfKz4P6V6h+yP/AMEVf+Cbnw58L+GPifofw7tb7WGsLG8WbUpJLsRzGJH3ospZVO456V+vXxC+GPgP4raA3hX4i6Ta6zprsHa2vI1ljJXodrZGRXW2On2mlWUdjpsaxRQosaIowqqowoA9AOBQB/L7/wAFVpbP9lL/AIKf/s6/twfEW0c/DPRVu9A1O9SIvDpct0AIp3Cg7F7Z6CvMf+CxX7S/wR/b51X4Ofsa/sma7Z+O/Fer+LtN1WW40ZvtKaZZWkgkknmkQFY8gYwSDX9U/jj4d+B/iT4dufCfj7SbXWNMvRtmtbuJZYnHurAivB/gF+xD+yh+y1d3d/8AAHwHo/hW41Bi9xJYWyJI5bk5fGR9BgVpfQD8Wf28/g9/wS6/aO+NdzoPjb4rD4UfHPwFYRBPEFleHTLyOMJlAzPtS5j4yV5xX5z6h+1P8ff2mP8AgiB+0toHxo1ceM7LwPLPo+i+MkiMS67aRkYmAwAxTABYcE1/V78b/wBiD9kr9pLUYNU+Onw+0TxTdwZEc9/aJJIAe2/AYj6mu7j/AGafgVH8Jz8CYvCmmJ4NMP2c6MsCrZmL+6YgACPrUMaP5sv+Cn2lX+of8G7/AIHutMge5i07SvDF5clAWKQQtC8khAycKBknsK+kv+CgH7RfwL/aB/4IlfEKf4KeKtO8RJY+CoDcCxnWZod0KDEgByhyCMHmv3qn+Ffw6k+Hw+FtxotpL4cFqLEaa0Stb/ZlXaIthGNoHGK8O8CfsNfslfDTwhrPw/8AAvw+0XSdE8RKE1KztrZFhulHRZVAwwHpSKXWx+IH7Sv7Ml1+0L/wQc+HOveFVJ8TeAPDGjeJ9HlT76XGnxrKQpHPzKpGK8o/4JRfGOH/AIKsft1ah+3vcwTDQ/ht4Rs/DWmCdcEavdRg38i54yCCM9a/qh0nwN4S0PwjB4B0nToLfRre3FpHZogEKQAbRGE6bccYrk/hV8D/AIQ/A3SLjw78IvDen+HLG7mM8sGnwLAjyt1dgoGWPrTTJbP4mv2avgd8Ovhn+3/+0F+z/wDtS/GzxT8Hta1jxA+v6S1rqA02w1SymBPmebIArSJ0xnpX7Lfso/sG/sc2fwx+O2ufs5fEnUvinq/j3SpdI13ULu/+3nzkhbykWUfKWxxwTX62ftKfsN/sq/tcQWtp+0V4H0vxSLJg0D3kCtIhHYSDDY9s4r0/4P8AwE+EvwC8IQ+Avgx4csPDOjwji2sYliQnGMsF6nHc5NNjifl5/wAEPfivpDf8EzfCmh+IDFpk/wAP2vdA1SOZwv2ZtPncMZSfu/JhjntX5T/ti/tpfsm6v/wXc/Zz+I2ifETQbrQdF0rVYtQ1CK+ia2tnkTCrJIG2qSexr99PgZ+wtovwP+L3xU8T6VqTXnhP4ozpe3Hh6SJfs9vdshjuJFPfz1xvXpxXKr/wR5/4JovDIsnwT8LlpGLSE2SZJY5J/Ope1im9Tzj/AIKw/tDeBF/4JhePfHXgrVIdWsfE+m/2ZpV1YOsyTzX7eRH5TAkP8x7V9qfsM/C7UPgt+yJ8OPhRqsvm3Og+H7C2mYjB3rCpYEdiCcfhXzn8d/8Agnb4E+MI+F3w/wBHdNB+HXw41SPVf+Ecs4glvdSW3NtG2OkaP82O5FfphYReTDt27fYdBVNkJ63LpIHJoU5GaRgWPFU1Ey3DD+HtUiL9IeQRQDkUm0ZzQB+Tn/Ban4J+Ifjd/wAE/PG2ieDUeTWNIii1qzWMfM0unyCcBffCnFeJftU/FTTP2kf+CFnif4qeGZGvF174fvLx87+ctuElUgZ+YOrAj1r9sPEWk22taXPpN7Es8E6NHIjDKsrDBUj0IOK+TP2U/wBjzwf+yx8L9U+DXhe7n1Pw3fald6hBZXyo8dql45kkto1xgxBidqnpmgp7Hkv/AASKso4v+CaHwYjuEMTjwxZhlIKkHaex5r8ef+C9nju58N/tI/Anwt+0fd6jYfs46jqMreLJbHzgjTpjyUvHi5WA9x3r+pTRNF03RbKHS9Lto7W2gXZHFEoREUdAqjgD6VgePfhx4I+JWjP4a8daTaa1p03EtreRLNE491cEUBJn8Rf/AAUI+OX/AAT4+IGt/AP4bf8ABPnwlHPpmleP9KnuvEGj6Y0WnxgSACFrtkDPIx5xkj1Nfo7/AMFt/FWnfDD9vr9jz4veNZzp/hrR/Fckd7esrNFC0iYG8qDjPTmv6LdF+A3wf8NaDb+EtC8LaVZ6dZyrcW9tDaRLEkq8q6qFwGB6HrW34v8Ahf4N+IlvDYeP9HstYghkE0cd5CkypIvRlDg4YdiKrmJPyK/bX/bR/wCCZWq/Edv2Tf26dPiSyvLWO7s9Q1vT3OlzeeOBb3YUhZAvJwRjivys/wCCcvg3QfE37Zfxh/Z2/YP1/VNd/Zs1LwxPDO94002n2eszqUWPT5ZuWXB+ZQcAV/V74x+DHw0+Iunw6X4+8Pabq9tbY8qK8to5kXAwNodTjA9K1vB/w68H/D7TBofgDSLPRbIHd5NnCkEZPrtQAH8qVwP4i/8Agn78I/8Aglf+yvBrv7HH/BU3wHpHhf4jeEtQvHtdY1q3kFprGnSOWgnimUFCwXgiv6WP+CYmg/8ABOC58NeJfHH/AATx8PWmm6PdXn2W/vLS0lto7qSPnKNKAZEB6EcV+gPjX4JfCv4iyLdfELw5pmuSINqNe2sU7AegLqSBXXeFPCWg+DtJXRfDdhb6daRf6uC1iWGMfRUAFIDx39q6RrL9mnx2bQMW/sK+I25LZ8h+n/6q/Jj/AIIsfCjQPiv/AMEZfCXwm+Jmn/a9N1u01G0u7a4jwTFNNIpBVhnIz+dfvLfWNvqNpJZ3SK6SqVdGGVZT1BB4INZWgeHNP8OWa6ZolrDZW8f3IoEEaL9FUADn2oKezXc/hJ/ZD+Ff7Qv7N/8AwXR+E37HfxatLq88PfDSLWh4V1Z1d1l0a/QvDE8mMDySNoB6V9Vf8FBv2e/gD+yt/wAFapv2uf21vAK+Mfg58TtJh0651RraS4TQ9QtzxLKkfISRerdua/sKu/Bnhy71uPxNJYW7ajEuxblo1Mqr6ByNw/A1D4l8G6B4x0mXQPFdjb6naTjEkF1Gssbj0ZXBBoE2fz2/sn6t/wAEF/il8ffD+gfsi+H9F1rxhbyNdWN1pmnzslpJEM73mddsR9Ca/IH9rD4o/C34f/8ABZz4q+IfjJ8XdS/ZtvLPRrKDTrzQoRL/AG7BIPnluTtdd6nIXIzx1r+03wX8C/hF8IY5W+GfhjSvDxlB3mwtIoSzH1KKCa/mJ8Lx6r+xL+2L8X9a/bl+B+rfEvTviHrSX+g+K9N09NYWKySPCWjxMC8Ow8gDAzVq4j6u/wCCVnj3/gnB4U8JeMtK/Yq+KEfxG+J/iKOfUNW1HV5W/tfU7tI2MbMsoUlFOMKgwK/Jn/gn7+0N/wAE4bBfHXxQ/wCCn3na5+0MniC8ivdM8QWM99cRxpKRawabb7WQoV4XaOTX3Z8Nf2dfFH7df/BQv4Z/tTfCL4PTfBT4ffC+WW5m1LUbWPT9R1xnBVYBbRYIhHUl+a/pNvvgZ8K9S8RjxhqHhrSp9VQhlvXs4Wn3DofMK7sjsc05MD+YH/g3/Nn4y8Q/tfal4Z8NXPhOx1vxLusNKurY2skMctvJ5amLgISCDtHTNZ//AAQN/bD+Av7L3w98WfsPfHLWG8OfEqDx7qcUWlXcMge4+1TExPEduGUjvmv6wdG8EeH/AA9Jc3mjWVvazXziS5eGNUaVx0ZyBljjjJzXFzfAP4S3vitPH914Y0qTXY23JfvaxG4B9RLt3Z9+tZsdz8CP+CeunXQ/4LZftV6nNaSQxPZaWqyspCscDoehr89f+Co/jn4n/wDBM39uX4g+JPhFpN9eWH7Tnhk6XbLZKWEGvKRCkrAA4yjcmv7OdN8GaHpOqXOuWNnbxXd3jzp0jVZZdvTewGWx2yaz9f8AAfhXxVfW1z4k0y1v3tH3wNcQpK0beqlgSD9KCYqyS7H4V/Gz/gmJf6v/AMEOn/Ya8A2w/t+Dw5Hcqh4NxqmBcS7sd3kJU1+V/wCyZ8Sv+CANh8AdH8O/tb+BtE8C/Evw/bLp2vaJrFncC8e9tl8uRoVwfNEpG5SvUmv7WJrdBbmMDAHAxXgXij9lf9n7xz4pt/HHjPwVoep6xbnMV7c2MMk6kHOd7LnOaLlI/Pu5+Jn7LH7Nf/BL/wAQ/Gj9lzQ4vC/gl9Fvb/TrL7K1nvlmRkXdA2GVnbGM9eK9J/4I6/A/UvgH/wAE9/h34O8QW5tNU1CxbWb6Ln5bjUZDcMOccgMK9c/bC/Yo0T9rvwf4f+GXiLWJtL8M6ZqttqF/p1qirHqENswdbWUDpEWAyBX2fo+jW+j20VhZKsVvbxrHFGvAREG1VA9ABim3okF9bm2OaWiikIKKKKAPFv2i4ln+A/jCMg4OkXnTr/qWr8pP+De6RZP+CZvhUQkADUdUGPT/AEp+D71+r/7QpKfAzxc6HaRpF5z/ANsWr8kv+DeAq/8AwTW8P44P9raqrc5+YXL5x+dba8hrBe7L5H7nR96kpAMDFLWJkwooooAK8f8Ajl4Nh+IPwr8QeBJ4xKusafc2pQ8A+bGyjJ/GvYKrXESSL8wzQB+MH/BDnxvdXf7FUPwY1+FbXWPhhrGoeGr23XOYzBMzxZz/AHkYEV8uf8FX7c3f/BT/APY/uFRmWHxDdEsASAPL7kDiv1++EX7H/hf4JftBeOfjb4L1GW3tvHwgm1DSQq/Zxew8G5U9Q7rw3rX05qvgXwnrWqWmt61p9tdXlg2+1mliV5IWPUxsRlSfbFAH42f8HCMc13/wS4+IcNupkZRanCgknFwnYZr7z8D6DfeMf2C9G8PaOga41DwXbwRKePnksVVR+Zr6n8QeD/D/AIs019G8S2kOoWkmN8NwiyRsB2KsCD+NbFrp9tY2Men2SLHDEoREUBVVQMAADgADpQHSx/Ib/wAEh/8AgqD+y3+xp+xVqH7Kf7Reoz+H/iN4C1nUrSTw75E0l/fM87NGbWMKd+/OB+dXv+CMugaj+1b4Y/bL0rWNDvvDT+O/EcoWy1BTHcQrc2zqgkB6NggnHTOK/p8v/wBmz4Ear47j+Jeo+EdIn8Rxj5NTezha5X6SFd2ffrXpPh/wL4V8MPc3GgWEFnNev5ly8MaxtM/95yoBY47nNNu6sU3rc/hT/wCCe3w2/wCCT37JHhjWP2SP+CpngfT/AAh8SPCN/cqura1HN9m1ezkcmCaCZflbC4yK/p6/4Ji+H/8Agm7qGheIPiN/wT00Cx0/Tri4Fnf31nbSQLdPH8w2tIAZEHYivuz4kfs1/Aj4yeVJ8WvCWleJTAf3J1G1inZPoXUmu/8AB3gTwZ8PdIh8N+B9LtdJsIFxHbWkSwxKB6KgApydyVpseZftSNIv7PXjVYwSf7EvhwM8+S3YV+CP/BuD8CfhH4g/4JsaLr/ivwpp15qkmuamz3N5ZxPMSJjg7nXd9K/pkvdPtb+B7W6USRyqUdGGVZT1BHcEVznhLwJ4U8CaUug+DtOt9MsUZnW3to1jjDMcsQqgDJPJqRr4r+R4j+0j8F9P+LH7Oniz4KQILeDxBpNzYRiIBAhljKrwoGBkiv5w/wDgj7/wUK+AH/BP79ne8/4J9/twamPhz4z+Ft5exqNTSRINRsmkLxTW0u0rJuB6Dmv60ri3E42k4AGK8c8afs9/BD4m3sWq/EPwnpOt3UWBHLfWcM7rjp8zqTx9aAcup/Oj+wP4l1X9sX/gpb8UP+Cpel6LqFj8MtJ8O/8ACO+Hp54Gjl1UQsXlnhiI3FP7vrxXC/te/Gr/AIIU/tw+BfEPxG+JupR+DfiHoKzxRTmCbSvEcN3EDsCKih5SWAx1zX9V2i+EPDvhzTY9F8P2kVlaQDbHDCixxqPRUUAAfhXk/ib9ln9nXxl4ji8YeK/BOi6jq0Lb0u57KFpQ3ruK5J+tAj+Sr4q+If2i/Hn/AAba3uo/tDf2heayt6iWM+ooy3k+mx3iC0kmUjduKc5I6V95f8FnPAnjHx1/wRM0v/hFbGS9k0XTdB1K6gjQu5gt0heTCjJOFHSv6Lta8A+EfEejf8I3runW17puFU2s0SvDheg2EYwO3FaE3hnQrvSm0O7tY5bIoIjbugaIx4wE2HjbjtRcc9Ufj18Dv25P2Xv2s/2CdT8MfAnxTaa5qWkeCNmoWMO5ZbRhZ7CkqsowQwIxmvDP+CHPw70r4l/8EXPD/wAMfF9sJbPU4tXsZopk4ZJZ5F5U9Rzmv2r8Cfs3/Av4Wrqa/DrwlpOinWSTe/Y7WOL7Rnr5m1RuB9DXpPhnwd4Y8F6NH4e8J2MGm2EGfLt7ZFjjQk5O1VGBk0DlK5/B5+zGnxE+P3xv8Bf8EUviBZX32H4OeOLzWdUumjYQy6NZt9osY9xGCCxAx0r9Mf8Agv3+y3pb/Fb4L/treLPBs/jvwD8O71rTxPo1sjyMunT4zOscfzN5RAyB2r+nnT/hb8PtK8V3XjvStGs7fWr5QlxfxwotxKg6K0gG4j6murvtHsNRs20/UIkmhkBVkdQysD2IIIIqokn8rWgx/wDBtR4uh8P6l4a03w5quo+JriKOx0uCG5nvBcFgAsluMtGyN97cAB619W/8FuN2r/s8/Db9j/4fW0Yu/H/ijSdItrFFLAWVvIsknyjkKsadccV+x2h/sufs6+Ete/4Szwz4I0Ow1RWZ1uoLCBJgzdWDhMgk9814P4k/Yx8O+OP2x9A/a48X6rc383hPTZrHSNIcD7NbTTkB7le5kK8A9qdg6WPtDwlo8Ph7w7p+gWyhIrG2it0C9AIkCAD24rqKqWcTQw7WOfrVps44qCpMWikGcc0tBIUUUUAFFFFABRRRQAUUUUAFFFFABRRRQAUUUUAFFFFABRRRQAUUUUAFFFFABRRRQB//0/7+KKKKACiiigAooooAKKKKACiiigAooooAKKKKACiiigAooooAKKKQDAxQAh5OKXAzmlooAKQdPSlooAKaEUcinUUBcKQjkGlAxRQAhwOTQABzS0UANAHWlPHQUtFADNo64p+OMUUUAIBgYpaKKAGqCBinUUUAFJgYxS0UAFRkYbcKkooAQc8mjAJzS0UAMOC2MZp2B+VGBnNLQA0KBSYy2TTgMDFLQBA3LA+lSg55pAvzZp9AxMDOaQqDkmnUUCKskKTrgiqzadbHJkXPoPStOjAPWncCgljEHEgxx0q6eMkUp6UijAobuA0ANyRT8DGKWikAYFJgZzS0UAFIQD1paKAG7V3b+9LgZzS0UAFFFFABRRTWPagDxj9oZDJ8DfFyIA27SLzr0/1TV+Vf/BvpbxWv/BNzw2kSLGG1TVW2r0/4+Gr9Wfj4qH4NeKdzbQNKu8nP/TJq/Lj/AIIFxSR/8E6/DztgI2qao0eDn5Dctj8+a0vZGtJ2Ul6fqftXRSAg8ilrMyCkAA6UtFABTM7jtp9NAO/PagBghjUkgcmnlfm3UpGaWgBqqF6UpUGlpm9d2KAHAY6UtFFADWOMcZppTLB6kooAKQ9PWlooAKMCiigAooooAKYF2njvT6KAEwM5paKKACiiigBCAaiZF+6BU1FO4AOlFFFIAooooAKKKKACiiigAooooAKKKKACiiigAooooAKKKKACiiigAooooAKKKKACiiigAooooA//1P7+KKKKACiiigAooooAKKKKACiiigAooooAKKKKACiiigAooooAKKKKACiiigAooooAKKQ/WloAKKKKACiiigAooooAKKKKACiiigBDk9KWiigAooooAKQEHpQehqJfvDFAE1FFFABRRRQAUUUUAFFFFABRRRQAUUUUAFFFFABRRRQAUUx1JHFImc0ASUUUUAFFFFABRRRQAUhFLSZBoA8P/aHEK/A3xjJcZ2nSLwkD08lq/LH/AIN9BBH/AMEyvBxgcuj3upEFuwNy5Ar9Tv2j3kj+A3jFo/vDR73H/fl6/Lf/AIN/55rj/gmN4FknIZnuL8khduf9Jft7U1LoQ5ay9F+Z+2ydKfTE6U+kywooooAKKKKACiiigBD0NVQjbv8AP+NW6KAGqCOpzTqa+ccUxOtAEtFFIAR1OaAFooooAKKKKACiiigAooooAKKKKACiiigAooooAKKKKACiiigAooooAKKKKACiiigAooooAKKKKACiiigAooooAKKKKACiiigAooooAKKKKACiiigD/9X+/iiiigAooooAKKKKACiiigAooooAKKKKACiiigAooooAKKKKACiiigAooooAKKKKACiiigAooooAKKKKACiiigAooooAKKKKACiiigAooooAKaFweKdRQAUUUUAFFFFABRRRQAUUUUAFFFFABRRRQAUUUUAFFFFABRRRQAUUUUAFFFFABRRRQAjfdOKYmcHFSUxBgUAeIftFjPwI8YAttzo96B/35evy7/4N/ct/wTI8Bq45El/0PH/H1J+XvX6m/tBqG+CHi3dwRpF5z6fuWr8t/wDggG8b/wDBNPwN5JG3zdR6cgn7XJkn3NS3aSBK9R+h+1ygin0UVTYBRRRQAUUUUAFFFFABRRRQAhGRigADpS0UAFFFFABRRRQAUUUUAFFFFABRRRQAUUUUAFFFFABRRRQAUUUUAFFFFABRRRQAUUUUAFFFFABRRRQAUUUUAFFFFABRRRQAUUUUAFFFFABRRRQAUUUUAFFFFAH/1v7+KKKKACiiigAooooAKKKKACiiigAooooAKKKKACiiigAooooAKKKKACiiigAooooAKKKKACiiigAooooAKKKKACiiigAooooAKKKKACiiigAooooAKKKKACiiigAooooAKKKKACiiigAooooAKKKKACiiigAooooAKKKKACiiigAooooAKbyBzTqawyRQB498fkab4J+LEHBOkXg/8gvX5R/8G+MPkf8ABMnwVHGcr9r1Pn/t7kr9bvjJpWoa98LvEehabF5095p1zFEg4Lu8TKFH1Jr87P8Agi/8D/iX+zp+wd4Y+FHxb0d9A1uyu9Qkls5GDsqS3LuhJHHzKc1M43aZcEtWfrAM7qkooq2QFFFFIAooooAKKKKACiiigApCcDJpaimXemwdTQBIDkZpajVuAtSUAFFFFABRRRQAUUUUAFFFFABRRRQAUUUUAFFFFABRRRQAUUUUAFFFFABRRRQAUUUUAFFFFABRRRQAUUUUAFFFFABRRRQAUUUUAFFFFABRRRQAUUUUAf/X/v4ooooAKKKKACiiigAooooAKKKKACiiigAooooAKKKKACiiigAooooAKKKKACiiigAooooAKKKKACiiigAooooAKKKKACiiigAooooAKKKKACiiigAooooAKKKKACiiigAooooAKKKKACiiigAooooAKKKKACiiigAooooAKKKKACiiigApoyOtOoPSgCsWRzh6ZHbxxy5XrUvlZOamA7nrTY0wwc5paKKQgooooAKKKKACiiigAooooAKKKKAGKu2n0UUAFFFFABRRRQAUUUUAFFFFABRRRQAUUUUAFFFFABRRRQAUUUUAFFFFABRRRQAUUUUAFFFFABRRRQAUUUUAFFFFABRRRQAUUUUAFFFFABRRRQAUUUUAf//Q/v4ooooAKKKKACiiigAooooAKKKKACiiigAooooAKKKKACiiigAooooAKKKKACiiigAooooAKKKKACiiigAooooAKKKKACiiigAooooAKKKKACiiigAooooAKKKKACiiigAooooAKKKKACmBwTin1AOooAnooooAKKKKACiiigAooooAKKKKACiiigAooooAKKKKACiiigAooooAKKKKACiiigAooooAKKKKACiiigAooooAKKKKACiiigAooooAKKKKACiiigAooooAKKKKACiiigAooooAKKKKACiiigAooooAKKKKACiiigAooooAKKKKACiiigAooooAKKKKACiiigD/2Q==)"
      ],
      "metadata": {
        "id": "1jMVWJdSEk8_"
      }
    },
    {
      "cell_type": "markdown",
      "source": [
        "사이킷런은 오차 행렬을 구하기 위해 confusion_matric() 제공"
      ],
      "metadata": {
        "id": "B9nzVWc6GTIW"
      }
    },
    {
      "cell_type": "code",
      "source": [
        "from sklearn.metrics import confusion_matrix\n",
        "\n",
        "confusion_matrix(y_test, fakepred)"
      ],
      "metadata": {
        "colab": {
          "base_uri": "https://localhost:8080/"
        },
        "id": "cOyYwinqDdVa",
        "outputId": "3ee790e7-0a7c-4ed9-9ede-61800cb36dd5"
      },
      "execution_count": 41,
      "outputs": [
        {
          "output_type": "execute_result",
          "data": {
            "text/plain": [
              "array([[405,   0],\n",
              "       [ 45,   0]])"
            ]
          },
          "metadata": {},
          "execution_count": 41
        }
      ]
    },
    {
      "cell_type": "markdown",
      "source": [
        "##정밀도와 재현율\n",
        "정밀도와 재현율은 Positive 데이터 세트의 예측 성능에 좀 더 초점을 맞춘 평가지표이다\n",
        "\n",
        "정밀도 = TP / (FP + TP)\n",
        "\n",
        "\n",
        "재현율 = TP / (FN + TP)\n",
        "\n",
        "정밀도와 재현율 지표 중에 이진 분류 모델의 업무 특성에 따라 특정 지표가 더 중요한 지표가 된다\n",
        "\n",
        "사이킷런은 정밀도 계산을 위해서 precision_score()\n",
        "재현율 계산을 위해 recall_score()을 API로 제공한다\n",
        "평가를 간편하게 적용하기 위해서 confusion / matrix / accuracy / precision / recall 등의 평가를 한번에 호출하는 get_clf_eval() 함수를 만들도록한다"
      ],
      "metadata": {
        "id": "u9Cw2cRBHUst"
      }
    },
    {
      "cell_type": "code",
      "source": [
        "from sklearn.metrics import accuracy_score, precision_score, recall_score, pair_confusion_matrix\n",
        "\n",
        "def get_clf_eval(y_test, pred):\n",
        "  confusion = confusion_matrix(y_test, pred)\n",
        "  accuracy = accuracy_score(y_test, pred)\n",
        "  precision = precision_score(y_test, pred)\n",
        "  recall = recall_score(y_test, pred)\n",
        "  print('오차행렬')\n",
        "  print(confusion)\n",
        "  print('정확도: {0:.4f}, 정밀도: {1:.4f}, 재현율: {2:.4f}'.format(accuracy, precision, recall))\n",
        ""
      ],
      "metadata": {
        "id": "JtflMNyTGxLQ"
      },
      "execution_count": 42,
      "outputs": []
    },
    {
      "cell_type": "code",
      "source": [
        "import pandas as pd\n",
        "from sklearn.model_selection import train_test_split\n",
        "from sklearn.linear_model import LogisticRegression\n",
        "\n",
        "y_titanic_df = titanic_df['Survived']\n",
        "X_titanic_df = titanic_df.drop('Survived', axis=1)\n",
        "X_titanic_df = transform_features(X_titanic_df)\n",
        "\n",
        "X_train, X_test, y_train, y_test = train_test_split(X_titanic_df, y_titanic_df, test_size=0.2, random_state=11)\n",
        "\n",
        "lr_clf = LogisticRegression(solver = 'liblinear')\n",
        "\n"
      ],
      "metadata": {
        "id": "sJNPySzYMKID"
      },
      "execution_count": 51,
      "outputs": []
    },
    {
      "cell_type": "code",
      "source": [
        "import numpy as np\n",
        "import pandas as pd\n",
        "from sklearn.linear_model import LogisticRegression\n",
        "from sklearn.model_selection import train_test_split\n",
        "from sklearn.metrics import accuracy_score\n",
        "\n",
        "# 데이터 전처리 함수\n",
        "def transform_features(df):\n",
        "    df.drop(['Name', 'Ticket', 'Cabin'], axis=1, inplace=True)  # 불필요한 열 제거\n",
        "    df['Age'] = df['Age'].fillna(df['Age'].mean())  # 나이 결측값 처리\n",
        "    df['Embarked'] = df['Embarked'].fillna('S')  # 승선항 결측값 처리\n",
        "    df['Fare'] = df['Fare'].fillna(0)  # 요금 결측값 처리\n",
        "    df['Sex'] = df['Sex'].map({'male': 0, 'female': 1})  # 성별 변환\n",
        "    df = pd.get_dummies(df, columns=['Embarked'])  # 승선항 One-Hot 인코딩\n",
        "    return df\n",
        "\n",
        "# 타이타닉 데이터 불러오기\n",
        "titanic_df = pd.read_csv('titanic_train.csv')\n",
        "\n",
        "# Survived 데이터를 레이블로 사용\n",
        "y_titanic_df = titanic_df['Survived']\n",
        "X_titanic_df = titanic_df.drop('Survived', axis=1)\n",
        "X_titanic_df = transform_features(X_titanic_df)\n",
        "\n",
        "# 데이터 분리\n",
        "X_train, X_test, y_train, y_test = train_test_split(X_titanic_df, y_titanic_df, test_size=0.2, random_state=0)\n",
        "\n",
        "# Logistic Regression 모델 학습\n",
        "lr_clf = LogisticRegression(solver='liblinear')\n",
        "lr_clf.fit(X_train, y_train)\n",
        "\n",
        "# 예측 및 정확도 출력\n",
        "pred = lr_clf.predict(X_test)\n",
        "print('Logistic Regression의 정확도: {0:.4f}'.format(accuracy_score(y_test, pred)))\n",
        "\n",
        "# 예측 확률과 결과 출력\n",
        "pred_proba = lr_clf.predict_proba(X_test)\n",
        "pred_proba_result = np.concatenate([pred_proba, pred.reshape(-1,1)], axis=1)\n",
        "print('두개의 class 중에서 더 큰 확률을 클래스 값으로 예측 \\n', pred_proba_result[:3])\n"
      ],
      "metadata": {
        "colab": {
          "base_uri": "https://localhost:8080/"
        },
        "id": "TrkmxznGMNEn",
        "outputId": "e4fba06a-731d-42bf-8d68-c5c06580bc0c"
      },
      "execution_count": 69,
      "outputs": [
        {
          "output_type": "stream",
          "name": "stdout",
          "text": [
            "Logistic Regression의 정확도: 0.7989\n",
            "두개의 class 중에서 더 큰 확률을 클래스 값으로 예측 \n",
            " [[0.85869768 0.14130232 0.        ]\n",
            " [0.88936709 0.11063291 0.        ]\n",
            " [0.90576092 0.09423908 0.        ]]\n"
          ]
        }
      ]
    },
    {
      "cell_type": "code",
      "source": [
        "\n",
        "pred_proba = lr_clf.predict_proba(X_test)\n",
        "pred = lr_clf.predict(X_test)\n",
        "print('pred_proba() 결과 shape : {0}'. format(pred_proba.shape))\n",
        "print('pred_proba array에서 앞 3개만 샘플로 추출 \\n:', pred_proba[:3])\n",
        "\n",
        "# 예측 확률 array와 예측 결괏값 array를 병합(concatenate)해 예측 확률과 결괏값을 한눈에 확인\n",
        "pred_proba_result = np.concatenate([pred_proba, pred.reshape(-1,1)], axis = 1)\n",
        "print('두 개의 class 중에서 더 큰 확률을 클래스 값으로 예측 \\n', pred_proba_result[:3])"
      ],
      "metadata": {
        "colab": {
          "base_uri": "https://localhost:8080/"
        },
        "id": "_3IpyjbPNKmV",
        "outputId": "e8c4b3d8-164a-4e6e-e5cb-c02711097739"
      },
      "execution_count": 70,
      "outputs": [
        {
          "output_type": "stream",
          "name": "stdout",
          "text": [
            "pred_proba() 결과 shape : (179, 2)\n",
            "pred_proba array에서 앞 3개만 샘플로 추출 \n",
            ": [[0.85869768 0.14130232]\n",
            " [0.88936709 0.11063291]\n",
            " [0.90576092 0.09423908]]\n",
            "두 개의 class 중에서 더 큰 확률을 클래스 값으로 예측 \n",
            " [[0.85869768 0.14130232 0.        ]\n",
            " [0.88936709 0.11063291 0.        ]\n",
            " [0.90576092 0.09423908 0.        ]]\n"
          ]
        }
      ]
    },
    {
      "cell_type": "markdown",
      "source": [
        "정밀도 / 재현율 트레이드오프\n",
        "\n",
        "분류하려는 업무의 특성상 정밀도나 재현율이 특별히 강조돼야할 경우 분류의 결정 임곗값을 조정해 높일 수 있다\n",
        "\n",
        "하지만 상호 보완적인 평가 지표이기 때문에 어느 한쪽을 강제로 높이면 다른 하나의 수치는 떨어지기 쉽다\n",
        "\n",
        "이를 정밀도/ 재현율의 트레이드 오프라고 부른다"
      ],
      "metadata": {
        "id": "eDFiOZNCPjow"
      }
    },
    {
      "cell_type": "markdown",
      "source": [
        "사이킷런은 개별 데이터별로 예측 확률을 반환하는 메서드인 predict_proba()\n",
        "를 제공한다"
      ],
      "metadata": {
        "id": "pEcKs9voQKls"
      }
    },
    {
      "cell_type": "code",
      "source": [
        "pred_proba = lr_clf.predict_proba(X_test)\n",
        "pred = lr_clf.predict(X_test)\n",
        "print('pred_proba()결과 Shape : {0}'.format(pred_proba.shape))\n",
        "print('pred_proba array에서 앞 3개만 샘플로 추출 \\n:', pred_proba[:3])\n",
        "\n",
        "pred_proba_result = np.concatenate([pred_proba, pred.reshape(-1,1)], axis=1)\n",
        "print('두개의 class 중에서 더 큰 확률을 클래스 값으로 예측 \\n', pred_proba_result[:3])"
      ],
      "metadata": {
        "colab": {
          "base_uri": "https://localhost:8080/"
        },
        "id": "oBxuJ65KQJ3o",
        "outputId": "f444d5f7-1091-4702-9679-4e74f5f6e207"
      },
      "execution_count": 71,
      "outputs": [
        {
          "output_type": "stream",
          "name": "stdout",
          "text": [
            "pred_proba()결과 Shape : (179, 2)\n",
            "pred_proba array에서 앞 3개만 샘플로 추출 \n",
            ": [[0.85869768 0.14130232]\n",
            " [0.88936709 0.11063291]\n",
            " [0.90576092 0.09423908]]\n",
            "두개의 class 중에서 더 큰 확률을 클래스 값으로 예측 \n",
            " [[0.85869768 0.14130232 0.        ]\n",
            " [0.88936709 0.11063291 0.        ]\n",
            " [0.90576092 0.09423908 0.        ]]\n"
          ]
        }
      ]
    },
    {
      "cell_type": "code",
      "source": [
        "from sklearn.preprocessing import Binarizer\n",
        "\n",
        "X = [[1,-1,2],\n",
        "     [2,0,0],\n",
        "     [0,1.1,1.2]]\n",
        "\n",
        "# X의 개별 원소들이 threshold 값보다 같거나 작으면 0을, 크면 1을 반환\n",
        "binarizer = Binarizer(threshold = 1.1)\n",
        "print(binarizer.fit_transform(X))"
      ],
      "metadata": {
        "colab": {
          "base_uri": "https://localhost:8080/"
        },
        "id": "IjVChiZMPeWL",
        "outputId": "0eaaa9ba-e4ad-413a-d734-3440624b33c9"
      },
      "execution_count": 72,
      "outputs": [
        {
          "output_type": "stream",
          "name": "stdout",
          "text": [
            "[[0. 0. 1.]\n",
            " [1. 0. 0.]\n",
            " [0. 0. 1.]]\n"
          ]
        }
      ]
    },
    {
      "cell_type": "code",
      "source": [
        "\n",
        "# Binarizer의 threshold 설정값, 분류 결정 임곗값임\n",
        "custom_threshold = 0.5\n",
        "\n",
        "# predict_proba() 반환값의 두 번째 칼럼, 즉 Positive 클래스 칼럼 하나만 추출해 Binarizer를 적용\n",
        "pred_proba_1 = pred_proba[:,1]. reshape(-1,1)\n",
        "\n",
        "binarizer = Binarizer(threshold = custom_threshold).fit(pred_proba_1)\n",
        "custom_predict = binarizer.transform(pred_proba_1)\n"
      ],
      "metadata": {
        "id": "0Ran5SQWUIYR"
      },
      "execution_count": 73,
      "outputs": []
    },
    {
      "cell_type": "code",
      "source": [
        "custom_threshold = 0.4\n",
        "pred_proba_1 = pred_proba[:,1].reshape(-1,1)\n",
        "binarizer = Binarizer(threshold = custom_threshold).fit(pred_proba_1)\n",
        "custom_predict = binarizer.transform(pred_proba_1)\n",
        "\n",
        "get_clf_eval(y_test, custom_predict)"
      ],
      "metadata": {
        "colab": {
          "base_uri": "https://localhost:8080/"
        },
        "id": "I9FdiCZIULfA",
        "outputId": "7d4c40fe-021b-4d4c-cb46-5806c1746ae2"
      },
      "execution_count": 74,
      "outputs": [
        {
          "output_type": "stream",
          "name": "stdout",
          "text": [
            "오차행렬\n",
            "[[85 25]\n",
            " [14 55]]\n",
            "정확도: 0.7821, 정밀도: 0.6875, 재현율: 0.7971\n"
          ]
        }
      ]
    },
    {
      "cell_type": "code",
      "source": [
        "thresholds = [0.4, 0.45, 0.50, 0.55, 0.60]\n",
        "\n",
        "def get_eval_by_threshold(y_test, pred_proba_c1, thresholds) :\n",
        "    # thresholds list 객체 내의 값을 차례로 interaction 하면서 Evaluation 수행\n",
        "    for custom_threshold in thresholds :\n",
        "        binarizer = Binarizer(threshold = custom_threshold). fit(pred_proba_c1)\n",
        "        custom_predict = binarizer.transform(pred_proba_c1)\n",
        "        print('임곗값:', custom_threshold)\n",
        "        get_clf_eval(y_test, custom_predict)\n",
        "\n",
        "get_eval_by_threshold(y_test, pred_proba[:, 1].reshape(-1,1), thresholds)"
      ],
      "metadata": {
        "colab": {
          "base_uri": "https://localhost:8080/"
        },
        "id": "rAUdCyUlUP0P",
        "outputId": "04c82cb4-2868-4db4-a86e-73ddffa3b626"
      },
      "execution_count": 75,
      "outputs": [
        {
          "output_type": "stream",
          "name": "stdout",
          "text": [
            "임곗값: 0.4\n",
            "오차행렬\n",
            "[[85 25]\n",
            " [14 55]]\n",
            "정확도: 0.7821, 정밀도: 0.6875, 재현율: 0.7971\n",
            "임곗값: 0.45\n",
            "오차행렬\n",
            "[[91 19]\n",
            " [16 53]]\n",
            "정확도: 0.8045, 정밀도: 0.7361, 재현율: 0.7681\n",
            "임곗값: 0.5\n",
            "오차행렬\n",
            "[[93 17]\n",
            " [19 50]]\n",
            "정확도: 0.7989, 정밀도: 0.7463, 재현율: 0.7246\n",
            "임곗값: 0.55\n",
            "오차행렬\n",
            "[[97 13]\n",
            " [21 48]]\n",
            "정확도: 0.8101, 정밀도: 0.7869, 재현율: 0.6957\n",
            "임곗값: 0.6\n",
            "오차행렬\n",
            "[[100  10]\n",
            " [ 25  44]]\n",
            "정확도: 0.8045, 정밀도: 0.8148, 재현율: 0.6377\n"
          ]
        }
      ]
    },
    {
      "cell_type": "code",
      "source": [
        "# precision_recall_curve() 를 이용해 타이타닉 에측 모델의 임곗값별 정밀도와 재현율 구하기\n",
        "\n",
        "from sklearn.metrics import precision_recall_curve\n",
        "\n",
        "# 레이브 값이 1일 때의 예측 확률을 추출\n",
        "pred_proba_class1 = lr_clf.predict_proba(X_test)[:,1]\n",
        "\n",
        "# 실제 값 데이터 세트와 레이블 값이 1일 때의 예측 확률을 precision_recall_curve 인자로 입력\n",
        "precisions, recalls, thresholds = precision_recall_curve(y_test, pred_proba_class1)\n",
        "print('반환된 분류 결정 임곗값 배열의 Shape :', thresholds.shape)\n",
        "\n",
        "# 반환된 임계값 배열 로우가 147건이므로 샘플로 10건만 추출하되, 임곗값을 15 step으로 추출\n",
        "thr_index = np.arange(0, thresholds.shape[0], 15)\n",
        "print('샘플 추출을 위한 임계값 배열의 index 10개:', thr_index)\n",
        "print('샘플용 10개의 임곗값:', np.round(thresholds[thr_index], 2))\n",
        "\n",
        "# 15 step 단위로 추출된 임계값에 따른 정밀도와 재현율 값\n",
        "print('샘플 임계값별 정밀도:', np.round(precisions[thr_index], 3))\n",
        "print('샘플 임계값별 재현율:', np.round(recalls[thr_index], 3))"
      ],
      "metadata": {
        "colab": {
          "base_uri": "https://localhost:8080/"
        },
        "id": "vgJivPC9UTEo",
        "outputId": "8ffb30a7-a6d7-4011-c418-e3a3dbfcf0d0"
      },
      "execution_count": 76,
      "outputs": [
        {
          "output_type": "stream",
          "name": "stdout",
          "text": [
            "반환된 분류 결정 임곗값 배열의 Shape : (179,)\n",
            "샘플 추출을 위한 임계값 배열의 index 10개: [  0  15  30  45  60  75  90 105 120 135 150 165]\n",
            "샘플용 10개의 임곗값: [0.04 0.09 0.11 0.13 0.15 0.21 0.29 0.44 0.58 0.66 0.81 0.91]\n",
            "샘플 임계값별 정밀도: [0.385 0.402 0.443 0.478 0.538 0.596 0.674 0.73  0.797 0.841 1.    1.   ]\n",
            "샘플 임계값별 재현율: [1.    0.957 0.957 0.928 0.928 0.899 0.87  0.783 0.681 0.536 0.42  0.203]\n"
          ]
        }
      ]
    },
    {
      "cell_type": "code",
      "source": [
        "# precision_recall_curve() 를 이용해 정밀도의 재현율 곡선을 시각화\n",
        "import matplotlib.pyplot as plt\n",
        "import matplotlib.ticker as ticker\n",
        "%matplotlib inline\n",
        "\n",
        "def precision_recall_curve_plot(y_test, pred_proba_c1) :\n",
        "    # threshold ndarry 와 이 threshold에 따른 정밀도, 재현율 ndarray 추출\n",
        "    precisions, recalls, thresholds = precision_recall_curve(y_test, pred_proba_c1)\n",
        "\n",
        "    # X축을 threshold 값으로, Y축은 정밀도, 재현율 값으로 각각 Plot 수행. 정밀도는 점선으로 표시\n",
        "    plt.figure(figsize = (8,6))\n",
        "    threshold_boundary = thresholds.shape[0]\n",
        "    plt.plot(thresholds, precisions[0:threshold_boundary], linestyle = '--', label = 'precision')\n",
        "    plt.plot(thresholds, recalls[0:threshold_boundary], label = 'recall')\n",
        "\n",
        "    # threshold 값 X 축의 Scale을 0.1 단위로 변경\n",
        "    start, end = plt.xlim()\n",
        "    plt.xticks (np.round(np.arange(start, end, 0.1), 2))\n",
        "\n",
        "    # x축, y축 label과 legend, 그리고 grid 설정\n",
        "    plt.xlabel('Threshold value'); plt.ylabel('Precision and Recall value')\n",
        "    plt.legend();plt.grid()\n",
        "    plt.show()\n",
        "\n",
        "precision_recall_curve_plot(y_test, lr_clf.predict_proba(X_test)[:,1])"
      ],
      "metadata": {
        "colab": {
          "base_uri": "https://localhost:8080/",
          "height": 505
        },
        "id": "DmnP5L6uUWYe",
        "outputId": "db10b2d0-f34c-4531-bf92-236830306487"
      },
      "execution_count": 77,
      "outputs": [
        {
          "output_type": "display_data",
          "data": {
            "text/plain": [
              "<Figure size 800x600 with 1 Axes>"
            ],
            "image/png": "[encoded data removed]"
          },
          "metadata": {}
        }
      ]
    },
    {
      "cell_type": "markdown",
      "source": [
        "##4. F1 스코어\n",
        "\n",
        "정밀도와 재현율을 결합한 지표\n",
        "\n",
        "어느 한쪽으로 치우치지 않는 수치를 나타낼 때 상대적으로 높은 값을 가짐\n",
        "![스크린샷 2024-10-04 020013.png](data:image/png;base64,iVBORw0KGgoAAAANSUhEUgAAAuYAAACbCAYAAAAuul5lAAAAAXNSR0IArs4c6QAAAARnQU1BAACxjwv8YQUAAAAJcEhZcwAADsMAAA7DAcdvqGQAAMYLSURBVHhe7Z0HgFzFkf6fAogsggCRg0BI5JyDyDkZk4xtDE747MPYvjunC76/z77gcA5nY2MbG5ODTTA2OWckEBkhkIQkJAQoIQkQEkL/+lVPzavpfW/C7uxqJfWIYXdn3uvXXV3d/VX1V9V9FssrS68kgSSBJIEkgSSBJIEkgSSBJIEkgSUqgb5L9Onp4UkCSQJJAkkCSQJJAkkCSQJJAkkCKoEEzJMiJAkkCSQJJAkkCSQJJAkkCSQJ9AIJJGDeCzohVSFJIEkgSSBJIEkgSSBJIEkgSSAB86QDSQJJAkkCSQJJAkkCSQJJAkkCvUACCZj3gk5IVUgSSBJIEkgSSBJIEkgSSBJIEkjAPOlAkkCSQJJAkkCSQJJAkkCSQJJAL5BAAua9oBNSFZIE6kmAjKb2TpJKEkgSSBJIEkgSSBJYdiWQgPmy27epZcuABNIxA8tAJ6YmJAkkCSQJJAkkCTQpgQTMmxRUuixJIEkgSSBJIEkgSSBJIEkgSaA7JZCAeXdKN5WdJJAkkCSQJJAkkCSQJJAkkCTQpAQSMG9SUOmyJIElIYE+ffosicemZyYJJAkkCSQJJAkkCSwBCfQRDuviJfDc9MgkgSSBJIEkgSSBJIEkgSSBJIEkASeB5DFP6pAkkCSQJJAkkCSQJJAkkCSQJNALJJCAeS/ohFSFJIEkgSSBJIEkgSSBJIEkgSSBBMyTDiQJJAkkCSQJJAkkCSQJJAkkCfQCCSRg3gs6IVUhSSBJIEkgSSBJIEkgSSBJIEkgAfOkA0kCSQJJAkkCSQJJAm2RQDqpuC1iTIUsxxJIwHw57vzU9CSBJIEkgSSBJIHukkC7k74l0N9dPZXK7U0SSMC8N/VGqkuSQJJAkkCSQJJAkkCSQJLAciuBBMyX265PDU8SSBJIEkgSSBJIEkgSSBLoTRJIwLw39UaqS5JAkkCSQJJAkkCSQKEEluaTkBdn+b9Mfk+v7peAUZ+6/0ntfUI6+bO98kylJQkkCSQJJAkkCSQJJAnUSABYbq8++kv4f3q1LgEfu1BkrMWxDUubQZc85q3rRLojSaDbJOCDm9odONVtlU4FJwkkCfR6CSyt3sNeL9hOVbDzoDz1YxB4WB/F3JGfy5pMkse8U4Mq3ZQk0D0SWNot/e6RSio1SWDpk0CZV6/I4O6M16+R19BLrNlnxlJu5Rm9sYfaPZ+2Sx6KKeXVpwafe3pLR+De7rbU669W29nVurV6vwfi8dgJfwdZ5nLuU/3dy73V5/aUjiePeU9JOj0nSSBJIEkgSSBJIEkgSSBJoC0SWFZ3lRMwb4t6pEKSBJIEkgSSBJIEll8JLClKwdJPYwiUjPy9/OpQo5bHOla40/Qh1JbYW+7pLr2f+pKoLI00IX2fJLAEJGCegKUtaGUJiCo9Mkmg10ggpgCUjeNWqQJFDWxljugslaWeYOt5K+N5q7PtbYZq0IocekJR8vrY0+rzyfM2Lq5QW7i+/J6eam8rz2mmn5qRfb1n2nf8/PDDD7U4WCtB15y8AOUVKkvfvvl3RXXsretrAubNaEu6JkmgzRLoykLZ2UWuzU1IxSUJJAlEEmgXQFkaBFvG8zWwE8uCv/muWTDUiKZAOa2Ax56SaZEOFNWzY/uMY14MzGv56K20pj53vZWS4mt7ci0yfQOUB10yUK4QvVq1wCsPXvF+/fpV9c1/bnrYrC52RUaduTcB885ILd2TJNBFCTQDzMsWneVp8e+imNPtSQI9KoHlaWwaUNI2V3CRwG6V9wcffKCAqG/fvvrTg/JmwVARsPfPBHQpJCtBrM0+p90KUgbMTQb2PMQGyFy06AP9qF//vlk/kdfixQGYW7NUvM4h3Hq7li5gXhQYazIN8lqk8uJ3A+km2/79+ysY52900PcFv9v3ppfWF63LtN1aU1teAubdK99UepJAoQS6Csz9JN/bJpXU5UkCy6sEljdg7gFSH2gDggHffffd7LXXXsvWXXfdbPXVV89WWGEFVQfAUD0gHeuMydL/BGy988472fz587M11lgjW2mllSrlem9zAOtLal4s0oEPFwUQid1iBgXtnTdvXvbKK+NEbIuyzTbdLFt77XUiMMlVoW2tyi+X57IBzPV4pkpqxHffeTebOnVqNmnSJNW3hQs/yAYOHJhtscXm+l4k8n592rTs1Qmvqq70799Pr9t6662zjTfeOFt11VVr9GNJ6UrZPNnvO/JaXifR1O4kgSUhgbIt2mY8PzYx+QWuM6nWlkS70zOTBJZNCYRgs+DlrH3nJzx2Lm91TBUoA/7mZQzzQnulrHxdS++Xu8YdRWBx1TP+0ksvZX/605+yX/ziF9kbb7yRrbfeegrQzUPZWQBkjohHHnkk++Mf/6jPAPxvscUW2SqrrFJtsPGNa2kOxfIwHrJ5+ZuRWjNzd6wDNTsL8hA8vraLACj/6U9/mj377DPZhhttmG204YbafwDLEMCYy96AeZFxE+tJbVuMGtNmxVBdy/W9GfnF1xTvCteeilrVGd2YCc978803sscfH5ndeONN2c0335zdf/994iFfkG2wwYbZ5ptvobsQTz/9THbPPfdmt956S/aXv/wlGzlyZDZ8+HC5ZoManSmSZ2fa0s57UlaWdkozlZUk0AUJ+Ak83oKLJ3d7jE3wZQtGF6qTbk0SSBLokgQ6d+y6N7678viyOaMrZRbda+CM57366qvZHXfckd11113ZLbfckk2cOLFKPejKc+0ZY8aMqZYN2HrrrbeqQDc3jMKTyubTmnoY+O1QufoH1zTTR9XMIE4NLGiRnx98sCibPfvtbPTo0dmYMS9lb8vvixcbf7oj4K19ZuODder1f9l3zehMfE1n1q3O6EJu1C3OVl55ZTXKttlmG5UhIPz999+XHZQBVe45AHz77bfLVpFrX3jh+Wz8+HHZgAEryg5O/+o1S3JnpZ4MEjDvjIake5IEuiKBAseFTTqeN2ePCKA7TMQekPvFJ/7dX9dZL1VXmpjuTRJYniQQPLR5iwNYqY7CWixY2Y5vRj6xR7J8V80yVFRnjWaKDwDW/Su6ybyU+mwXl1jkPICmgQd7nXXWUZqJdxw0ArPx99ZW32YA2dprr50NGjRI6QieK9yq97ZVT7l57eM+KJ9fKykQYfhIn8+aNVu9tmPGvJi9/TYgfLGCxLXWXEsoP2tkK664ooi/j9Bb3slefOHF7Pnnn8tmzpypvRM/wwcyermV1cWnD7TrzUiInTr2d5Gzp961nXEOxcA4XuO8DtgY+/DDRdlaa62V7b777tnRRx+TbSoUIHRhyyFDsg1lxwF5oYfDhw/LDj300GyHHXfMVlttNaW4bLLJJqqXfoep6YHSgxcmKksPCjs9KkmgngTChJkHtDBxLljwvvIQ4VXCkYMvB8/SB1XFYN1PzgmUJ51LEuhuCQS0WgRMAlivTeVWO149gC+up4Hb2Nj2n/txXlyPYhpDs2CqrPz4/gEDBigo5/Mjjjgi23PPPRVEqxQqlov9LHt22fzF5wAsuOUAsGOPPTbbeeed1XtqZTU739UCviLZ1H5moLyoD5rRrgULForX9oXsf//3x9lzzz+fDVxjYLb++usrN3r8uPHZaquvlu2yyy7ZmgLSn3322eyi3/wme/KJJ+Wa9bKNNtpIgxZrQazl6g7WX5nnN663GmKRYVhu7DVHfTGA7/u4nkwa6WpRnUPZWvtKX/dRus+rr07KbrrpL/q4j5x8Urb9DtuJgbOCXBuCjqdNeyO79977RKZPZ4ccckh21FFHK4hvtq7N9G13XJOAeXdINZWZJNAJCTAh2STHRDxr1qxs1KhR2dVXX5X9+c9/zu688w7h1T2eTZkyVRcnFsB4sYsn6GYXqk5UN92SJJAk0EACHYC5u77ZsdmMh7ZRWY2+b9SRzYA35i+A81ZbbZUdfvjh6tFcc801OwDHRnUp+p7P4GZT3nbbbZftt99+2bBhw9T7yasZDrsH743qEMvD5mZ+1uN6l8mReX369DezBx54ILtTqD6jRj2hwHL99dbPpkgQ46B11lYu/kMPPZj94Ac/EDB5b7aBGB977LGHeHk3rma48eUXea+LdiWCARdArf6/4i6O1w7/nQHXRgaPB+Xx/WXgN5Z97CW3NnbU+/ANHnM84nPnzstGjXwi++Oll2U77LB9duKJx2ebb7FZtlgOGFr0wYd6zQvPv5g9+MCDEu8wLTtZgPtOO+0swH1AVScb6f2S+j4B8yUl+fTc5VYCZVuoNqkyIbHlec8996iXBS8KfDq8RDNnzsqefPLJ7L77CHb5oGZLN56oW118ltsOSQ1PEugmCdR6B8OhKEXAox5YKgOqRVWOU82VeVJbbW4Ad+at7Eit8HUEEEHL8Dmk+T5OURfXoayu/nN+p1wyvVBePZBs99VzXhSl5sv7J3hp2cX0fRaXVwOGle1jnmZuFrnJzZQDxWfo0K2zIUK5WLhwofLx8Z7zc/r0t7KXXhojGVpeEafLwOy0U0/PThIgue2224qHd5WGGUTy3N7h2dQxTiXo1wfvBLL2FNFIfL/7dvr7436066y8Mo+6f56vq7+/yPhAlvT7m2+8mT362KMSc3BHts8+e2cHHnhgtp7sMIRX0I1777lPjKH7sw8kGPTssz+pGVnI0NKucdHqOGr2+gTMm5VUui5JoI0S8IuGX9Q++GChBKmMz26//XalruAVYruWn4BzvOTvvfde9sgjDwtXcYx6zsl8wE+bkO1nAuZt7LBUVJJAUxIwr2S4mAA/QJh5fMOnATwRrPaBePY4ndCAFGDCQArXAEy4zo9t89riQQ65mgGORqUR0OzqaXOAj13hGSHIMGT+CM+p/RnqFOoIfY77jU5hz7PHWN2pCy8D5FUg58BqbIDEXuwYiPl2L1iwoEMWkHgeLZrzAiVwgdato3GAtHI6iO/i2kw3QaqxxzyXQfW3Wj54tTP6ZCsKzWeDDTeQrCGba/YQ6jphwoTsiSeekNR/U5RvvsMOOwhF5zjlRg8dOlTTTZKGMjZO4pNBTW6xoWJ9EFMfDXBbrb3cg36EPODoWBFt0mRh/eN3LLzhYrph19UzMnlmvf7Mvf5BHhgx7D48IzSVU089Ldt1192EIsQ6SH/2VZrQX4TmMvqpp2Q3YlD28Y+fJSkV15D2JGDu9Tz9niSQJFBHAkxMc+fO1fRP0yQHK5zDI488MttsM/Lbrq2gnEmd3ydNmqhZD1j0+X7TTTfVhdMvZAmYJ3VLEug+CRQFkBnAISZk8uTJ2csvv6K5lN99713xfK4sYGdhNmPmDP1snHCLycNMDAkg2LjSBswJEAR8PP3000Jfm6INgcPN68033xQP60tSxiuaz/k9KZ8AQri1AUGy5b9YjPt3FPzxpj7MKzNmzFCPcz+ZL/qqZzVQ6MLBNovV8H9Tsp1Q93Hjxumb1Ie0CU94mGcC4uQ+5izq+QrXSfkhx/jq1WusB7iWOWn27Nna7gkTxivFgLLJrsJzKXuFFQiCDGAZcMj1Wr68qTsyRg5leb35nnkRKiBtpu0vv/xy9vrrr6uhQduVzlAJquc5CxcukDq8qc8gkwyZPvr16yt9skrIiS33Ug7f0RcAVpNFTlfKvdVhHjZedG40qX6weyD9NG/eu1rmM8+EjCIbb7yRzPk7ZzvuuJPuhA4YEIJnNYKBn5W312hv2JjO0V+kkkQGyBJDCR1D5tSftvA3+mY55q1M5E1/WL9TDnLkWvqm6GAe7kFX8fxTPvqIntFv3IOc4l0Gex7OJ56HHLhv+vTpKgt0hefyN2WYUWj3EeD51Oinsr/97W/y7NnZpz/z6WxroVCttBK6w6tvNv2tmdm1110rspgsMt0hO+mkEys7LV1L8ejl312/pwOGukuyqdwkgRIJlFFOmJDwln/729/WbbkDDjhA867aYhwm+z66ON15553ZF77wBZ1ovvzlL8s23dm6Tee9DvHWZOqQJIEkgfZJIHgjQ3kBeITg7UUCKp4WL92DDz4kVLQx2Zy352TrD143O/fcszPBwAqon33muWzOnLnZzBkzNcBvn3330WBJ40zPmTNHAdutt96q1wN+jznmWPGkHqIGOhzkRx99VIDnJAVLpIU777y/092zfn3769b9vHlzJbPH85peENDDi/IBnEcfc4x4GHfN1pEDbQIwD0ecA47HTxgndLknsscefUwB6KJFIXvIeuutmx188CHCHd9NaBnhgJZ35KAXqHV3331XNllAHNdvttkm2RfOO0+uX18BFWUb9eG99+ZrnMyjjz6igInsGmZMkDEDTvVOO+1U9boDzEgnSApGgBpt3WOPPUUWR2tQpEKwysFF5h0mYH7q1NeVBvjsc89mU16bogCP+pJeb8SIEdnee+8tz8Aw6auyev31Kdn9D9yrAZdTp74hHu2N1Gt9xBGHqRF09913q4FEHebMeTvbf/8DJJDwKD2wxnYIyugRISPKhwI4F8jc/ZYGd95++53Z8889n82RfkWGq6+xaraCnPzJXL/ZZpuLQ+YYAZM7ZoMlQHSApABkB8NTg0yLbScEEE659PXYsWN1jaCNhx9+hDhtNsmee+657BGROQYhAJ614vTTT9dnUC7lsP5gdNDWF18MmWNYX6jT8ccfr/2CfhnIRu4YYdzDs9FH5Ew/UCZ6etBBBwnNZB+l8Rj1yNYojAN2fbmP53EP+snOMH0LyCeTzfHHH1ddBzFTPhRZsgNy+eWXazDtKqusnP3u4ou1L1YUQwR9gmc+atTo7B/+8WvaX+d86lPZBV+5QNrJrg7AvJYG1b5ZoT0lJSpLe+SYSkkS6LQEbKLDe8Ck+vvf/16oKo/oIQosXHAS/Yvr8VKwGL4hPDu451yD19xAQuwtT97zTndPujFJoFwCNcAcD+9CAXmvZT/76c+yNVYfKB7QXRWc/vznP8vGvjwme0oA+0IBFQC7kz9yisaP3HnnXRpTstpqqyr4ASQR7E2MCbtj559/fnbbbbcJeHlBPYt4dQGqZCWZP/89BcZPPjlavdQAz9UlwweghsNXvvWtb2m5Bx88QnffMPTJVHGHUOXWF5C1+WZbZP0FELG9Dyi/9tqrs98LyHn6qaez/cUxcPLJp2THHXeclotxcM01VyvFAmoAmUYAfICjnXfeRYEgIPiG629Qjy9ACY+zvfA8X3nlFdkVV1yhFJ8TTzxRAfZee5G5ZV0FdxgcgEZAHUARSt9NN92k8xtAGRD3lNSN76F9eEpGAMaZBFA+lP3mNxdpbuvtt9s+O+WUUxSME5j68MMPS5l3SHlbq6FB3uvx41+RZ9yobefa/v1XyEY+Pko8sqOzLbfcUsr6jRo2eLMJaMVguvnmv4oM1pFA1yFarneIFCkL8zX9993vfjf7v//7uRglU6Q9h2VnnvGx7AMB1VtvPUT04WQx4NbP7hJ9uOSSS0S2Lwj1ZbB60s1bHeZ3/X/1MQBa6DB/+9tftZ4f+chHRJbPZY8J/5odCXYjfv/7i7PthK8OQMZYQ0bo2V577aVZSgDJyJbzJtFRdmtPPfVU/R7P9/XXX6/3Apjxnts6c//996t8brzxRj2454QTTsj23XdfpV5SPrnmuYegXUA3crD1i3795S9/qXXBEYWhwxqGt/7SSy/NrhBdef31qTpW6Id+oqM0G1A9ffoMXf8eFkrnvvvvm5104snZappthViGfmpsPSSG8b0yhtZdb5DqMPpohzsZfay3Tm0pj3lv7ZlUr+VSApxYxvYz240sLCxWcWAMEzGLAV4rvBB4D4xDWcTRXC4FmRqdJNAWCVRyUZeVpcGBkgVCj1wnV/Ws7Arx5AEc99p7r2xnAXPrrDNI40UmT5qs2SNOPvlkBTyD5PMDDthfvd2zZ89SChsA6emnn1IDHe/kxz/+cc29DLABlAPW8TJ++fwvZyPEG8k11DDQFkgT10eAzQTJ5HRtdtlllymQ/OxnP6dp4shmApglOwUACcAGxQakx/2cqHndddcpr/nv//5L2SliOACwBg8erMAZYAUoBcC9+eZb6uXEQNh666HiGT0wG7LlEPGuriCAer46FQL/PYBIyie48dprrtVUgceJUQGAo+zBgzdQo4A2UzZGCEYAzgmA/5ZDtlTvLg4IPKbICLBozgab8/gM+fzv//5EDJb3Jcf10fqG6reJeI0PP+Lw7OARB2cfilcf58cbYqCQM/xZecbYl8fqruPee+2rJ0fC635cjKVvfevb4mGeJ0bNEWJEHKMGAnRCPkN+eJ+DB9Yz+2uVha/wmH8gnGcyimDwYGzBed5s803UwHlLPM1rr7W2AMyTsq985SuS2u9QMezgS5P2D5jmgzkNnIfnzBRqFAYH15x55sfUGCSTCx5vdlzwgGNwUP+NNtpY1xPWi9A/gT7JDuyvfvUrpfB8/vOf1+u33357NcgA27QPqgoUFdYcAC79hBxZq+ifv/u7v1O9tvsYA3jT//rXv6qhSBnci8zQzT/84Q/alx/72Mey0047Te9jx2RvGTfkHH9f+nAzyVGO7hOwGU5qDcYXtBzKXkUMv13FiEA3+8pOke6eKI3rw2ycHCjEuGP8bbKJOa1CGkVetsPid77aMmW0oZAEzNsgxFREkkArEjDPTs5BDG43FlYWQBZPPE5MSBbUqcub4xjGEfdlQTVl26ut1DddmySQJFAkgQDI7BwheN4TJfbjydFPKsggbSA5lefMnaMgYDv5bPfd91CwM3DgQPWC4hFfW3bFoDkAdPEWPioUEr4DFOM9BtTyBkBhlJOpY0/xMq8rHt/dBHgDos444wwNfgOYkHLvwQcf0GPJ8XrihSdnNsY85XJoDeVRFm/q/fjjj4lh8Bf9e9999xNwtE/16HLoHtBOqBd8YGgSbwm9I/CxJ4k3/mAFPnjvAXbIBO9qAJRBOgBvPPuvCCee0xcJgqTtcL2Z92gbNAiAGqCROuLZXSRAdh+pC8YJQHiWGDDw4qEv2IvnUT4Gy6WSOo/raDMefGhCcJyhY6y37nrZEPFwswtJpo7XBNhhDGAwAYJHjDhEUxbyWiDe+ncFQAJEAZtG48BbDAhk/iW4EIPM5uYisBdoLNBt+mWDNxgsXvGPZJ/85CeVtjREvMAriHeets8Wgw4dAThD//j0p88VsHuaGALiKZY+iV+Bqh5SSKI3GCV41nfcaccQMCrfsePA9xhvAH0O4sE4o7/YbYEqSVug/ADMMfygSpGKEuPD9IUy6BcLBIW+Qt9feeWVSvPBu0578GqzXnEfVCzKpUx0mr+pE0AZ7z4GIICeccK9GF147hkXrIHsJNFudmcI2Mw56kESU4Q29abo4sqrrJRtKdQXz5VHZ6CJcUhTXykDjz0yCP20dMxkywUw95bR0tEtqZbLgwRs0g4/4XGuUOH+naFeNbw9THo+4p3fWVRZuObK5MOLCc0OTVge5JbamCTQJQlUxltzu0saepefjVlNGehqoNkkMgVYU6e8pqAU7i7G9WzhyI4fP0HH8EEHHpQN22aYgIlV88wrlVx6UGAY04BLgiI322xTBVF4NfEMAjYB1XwGJQUAA/DFI/4p4c+ed97nlTMOUIJnTNAe2ZwAYRgHlA1AgjKDF3VDASuWOg76w9VXXy0BkmO1DIDhWuK9NeP/w4pXddasmQqgADrzxSs+T9oLyCVVHZQQAizxZAJe8SwDhs0xQDvwsgO6AcTE0hjvG0lSDgYHXnTmPGT5ngD9zYVvTZ0AwQB7gPLANQeqR9i/CPKk3VAnAHuATmRoa79ZT4DW1YXyg/cXub4g4I06EXC52aZbqEd72rTXNUB3jYGra9s4mAbPvvGw6Qv6E1Abdil8oGexZgIyycSCR5wc75ttvlnWX+7l2QQvAljRAfj/7CAcddSR2QknnhAoHMKFV1BZ+WdPCJlT2IkYq/IbPmy40DlW010bQC8BrQDbww47tGIkrqjGHsbapz/9aW0XawmpdwHLGG94vtFb447Dqwe0A7YtCQH9hrccTzzUE/SR53hnEf2HLiIfZMf6BLBH16C9sBuCLkExyu8lADlkIUIe3Av9JAQS5y89lEnG1FszZJdBjLtNpA4EMtsLXZshsRtjx74kBtfqWm+cXLXjvRah9zbAvlwAc9+pzU3GXZr2081JAgUSCFvi9q8o3RWLGAvux2Q78l/+5V9kC/qz2Q7b79CBv8hWIB4LvFcsDkxw5hHwk3bqhiSBJIGOEjAPd1dkU83IUgH50FiUTiLeWbb+8XwCqN56a3r2igBWABNBbZzwqOkGK/SGRRKMBoCy1HQAaLzDgEtADwAJbjKABg4vJ2myowbI4QUthO3+LZVGMkC95c9JwCMeZYAudIYJEvD32GOPKW/98ssvU/B/8skfUTBK4CF8ZDjEg6X8PfbYXWkfVj7rJRz0HXfYUQyAcxTQASzXFe/z5tIeQB/gCEoI3O8pYpjgud11110EoEMvIMiuj85TGBUASLzz11xzjfLJ8aTSdgIEoXAQ+A7vnHt5JtSG1VdbI3tbPPG0AcAHzWHo0G2qQAsZESD617/+TcvCA4vHN3iV+9YETdIuqCMA8LffnqUnK3MtAaW8CDYkGw1zK4YLNAuAJUZRAHwzlF5IbnG88fD3vYPFDJGyHUz1fqMzBNyKtx2Pe38JrAW4Bq9vTrMALCI/wDr3eQcNdbWAWj7fTrj0W4tM2DkgWJidAD6nH+Boh1cfzdxDnAG7AHi3MaagwaAn6BzrCMAbChE0pauuukoNOfjfGDsAXAw8+o/67rbbbroD5LPD0HZ0mHsA+tBUkDFed7zoZFKhHzAqLfg03B+y15AdB087MqGvvdOJ79+WYOqXxIhE57bcYstsk403UR3VFsqzMVbg1k+Xvlpv/XVlLG6ouzQhDiBQWYIx1Xuzsyx3wLwrk3G6N0mguyTgKSd9ZSKGn4d3pygSH48NkyleKyZZtlkB55ZHOBmf3dVLqdwkASeBCsIPWUEWq8eRrCXHHXe8BmBCEYFrPU1Awhbi+Vx3XcmwoWn6gveT+wB6eJIBnGHHbJPsrLM+ocGUgFk8hyNHjtKfeI4BVBZ8ZzUJIE+8p+JJJHAPTyVe05EjH9dTJL/3ve8rfxw6CmCIzw6sgKzJk1/TDCkAGbKtbCFAh8wWHsSQBYMgRHjW5wu3HQ8kFAs86wQw8npOMoyMFgoPbdpXMswA7uEFG/cecAWf/qijjlDnAyD661//RvaLX/xS+ccEXFLusGHbaAYYPLtHCCcccI4jAh44/HZAMvQdQDGeVeqJFx1g/uqrE7R93GsBmQbWDCiTFYYsHbyoK4bFSSedVA2wJygTrz99gbzDbsDKCuioB4ARig2GwfDh2yrlwubdemMjgOwABMOcLjogf28uwPMrki3kPMlis802w6vAPKY7qkfX3gaz5e8VBXCSBpCdBtYMjBTqrwae9AExDRqHgM5VctMboKfeIbPPZKXC4DUnOPXHP/5x9rvf/U7oUA+qIfXNb35TuOtnav8A2tEx+gKqEEaieaONQ071eCYGEoYW1Bjqxi4OnnL6GyMTw5HdF+5D3rypP9fh8WfHgww1BBBb2dSdw5igskBpwiDlQKZ8/eyjRgaBr/PmzVFjGCOhVg96P5+lR4F5Zykl1e2otCokCSxDEijif/NZ2BIM3h5mcH6309M4+ZNFkEh2DlMgjRWejjjP6zIkptSUZVwCS+38XgFKAB68mgALwDTAFk4x4HiSpDOcNWuG0koIQsOLjqeUF8AVOgVnEuDpxLjG+wioBLzhVQRgQT/h7+HDhykg5mU5wdUDKM8PFIxp6i1dYYV+kuVif0nP+GkJMPyEBvN99atfleC8L0omlJMUqJAjmzSIACC8mPTBpkIPgTYQvNwCHp33NgB1OSRHaDGW9o76B/C9SD31r7/+htR/mKbo69dPwD0VrWwtUB4e2nPOOUc872eLp3R7NSDI6PFP//hPGjA7SfjqXMfuA88ArCsnXig0t95yq/KGNc+3gEHPuzYPMZ/xfJ7DfexMIBd+Amzh8bPzMAlOuVyz1lprqudb6SiVlIukE8RrjqcWQyLwtWnJh3ov1A4AOs4QjAQfSFgfmOfe2dybvlg97rtJbAA7A1BIci61BZTm+ztVD2+V0hKMO4wedhgsXzkefQw5QDPgt5rvPaDTGnoRoBzd41rA99FHH6U0SnSGHQwCYmkres3z2UlgxwX9g64U0l0GoOt3CUL/9Vdal53SihEKhYkXDiX0Hf6/B83BW/6qetfpS4vFMNmiaxhHjAvAP3WzA4MsMNSymzEmoTxZ3IDvq+qOVy+dW7sNmNdGvNpRvrkUglfPlM5+z/+uB+KLyq6Z3KPi/JZF0RZTL+2bVK1lSgJhFY95gn5SMq9A2G7LA1UUlAPOZUEnP/LdwqXEK3DKRz+qKcSY4OKJcZkSXWrMMiUBv/VvDTMvXpjHO9fcarnx7X6pCdjEediae1Z15FaBTc4rrllfKtvxjHVAL15qBu8w4f8CoMzYtvGK9xCACoABrLDtbkeGm/eQ4D68lXBxAfcGko0mwvMBLAAf0qcOGrROtotQGEJO8B3VE77TTjsrXxdPM8YBMlgkHlOMB7z6K68iwZGy7Q8Fpur5LHQsVuYxlUM4pXTG9JlCT8F46KsGCCCPfNEEjVJH5i2ypACYttxyi+yjMm996Ut/rzQRqBWPiNeWDB1/keBTjAvLq42M5otXHCB9990hdSRebPjZSrER4EddkR+7iOwkbLPNUP0ZsGJoAHnl+R3azJQpUzVAFXkia4IH2RGgjh8s/DB74cUxCgrx1NKOQCHpp6Ae2gfeYuq8g3jy8QJ7T26MSwq55xVdNH2ir6E3YSgYSO2gvtF4yNU5RJaa/rE7MXPGLOXNr7nmGnqoDu3MJSFSqJRFv9mBRNR7qMiNzDp77imZhKQPoZigj9Cp0FsD93ZoE39bwKbVtx62wjvPvQB7C+qkPynHy43dI67hc/Q99GWuiNT7lVde1hz93E9Aq20lcBnPIZUiYyYcyMfhfGtVsGbBtkNV2NEk0dy00G1XdRswp8axJyTeYg8TaZiI459FLY4V319j36m3UQ96CGze9EoSWJokYN4o71WxhZiF/v4HHlCOI17y0047vTp52UJf5IVfmtqf6rr0SqCZHVFzyNT+zNscQHll/ta1ofbdlHQin081siPgmJoymyqvwUUVf2GHqwCZvKFCkKEFnquNb8AEgX94qwEs0GAAnXjLjQcLkGVbH/oA97Ptj+fS5gPvqQRcQtMAzK8lgAXQBNgD8PMeoKcvhrbzomyAGZlHuGfllQcoAMNLHTyP9g4GCHmh35E0roDb8PwAumlDOIF0nHomAXMAJoD5FD0B8g3lbN933/2aNm+yGCqbCd8YHv65556r2WSGDt1a0xXec8/dmlIxBDuGeuIl54RUPsew4E2WDmh8HK4EBcMyuSAbuMy5FzZ0iTo2pA30xWSheaAEu+22q3Lq2QEQwrdSbjiJc+zYV/R6DuWBK8/vtBOqEaesYkjRF3iL8aa/++57GkdAH1r6QVMEMxSL1EflW6G2BH0PV8Xzd9g5DZ/n5TloXrkRHSSTzJtSFzzKZIDZQtI+QjPJHaDht7ADG2Ii7BCh9eUwKPSLPkRv8HJ7YxnaEJ515GAZVtBVf101WFhkhqHIPZQfeP0LVEZ4uukfy+Cio10qZPfSR2aoImfKt9SeyJ46YCBR5iDJpU+sA41Cl7mP+wH27ARgeBFIi15jWJETnQBmOOhmtFUk0o5poK1ltB2YezBuE4edTuVrXrutkIPzuq2raKadVKYThG3rVJTNAiqwkmPDoK2SS4UlCbRdAt4bFZZ7PTVPdJmF6E7xlHOgwwqymJCbGP4jk6Of0L33ru3VSwUuVRJoBij3aIMq4KMcbOeeMVusfaaHUNdyZ0twrAX0HZwzlXDrAoDvHUEGDmLHUfi8ysYoFxXAqfJtwEnBk4whDagmQBPwGbKUBJoIFAuABJQ0wA4e9f33378CnEMb+RxgTr0CbWDtivcweEmtvgG8CZ1GTo4ERNpR8Vp/jhpVqVTWygo4f3nsuGzq69Oy9wUwwX0ObQ1OLe8o13LFEz5XAPkrArAB4YAsC0QEFD8gzoKZM6crzQbABQ4mB/Vdks3jATnk5U8SdEow+wUXXJDd8rdbNNUiFAgCWb/+9a/LycUXKNglUwrcZZ3PAK3yni6e8JeEOjHvnTlquBBUi7TfEAB2ww03qPcUsEY9kS/c5TyIMm8J4I6AxrEvv5StM2htPXCGPPJ9+8D3Dge20V8TpQ5QBMmdvqbUcdEiQFwISCQTCM/af//9KjSMAboj8ogcckOwJXKp9RoXeGGd09a87SFtZZ5f2/pL+0Jd3MU6r59WDCh+zpW+wFghABe6EqAVQ0v1RAcH71AWf7LjgLEIDYasOtXsL5UdGNJt2jgE7KOL9Ld5z3P9IzsMqSMXVX8ClKFpwcdHLoB0AD06jaGIAYVhY3OBgXcMPChDGBQYYfRliJcI2YTeEn75CxIMzWmoePM56Ip7AevsvIwe/ZS2f66kKEUX8ZbTLgwCDvJiN4G6OSe8G9dhTPUG3Nh2YB7PXn6yM56sv6YzNBPzttQ8qyJpryxmhcZ1Sn8nCSwtEmASxFv1yCOPZr/97W/VY3bOOefqwuKPgl5a2pPquZxLwAFdTn8k9ZkFz9nWP+tECBoMnrewbpQDlBqJRhiGVH9+sbXyAuAPXO92vsJ61ldBCCBvjngMNxaeK3xkALk9f+7ceZL14k7dcgeUk8ECb7Nxx6kTwB2gCtA2T3QAyiE1nBkX/M5csPba6yigeVu8yNBaqoDOdgnkEzyHlMnJiuMks1NItbp6Nmum5BEXbyvec/8Kebr7qNebA5AmTny1epgZdQVoPSZZVugicpnD+yXTyXgBcgRkkj6SQL0XZWfAKCfQWqxvAaT777e/7vwBrPHi8tJdA/kHRQVAvNKAVYUvvZ22kQwtAL577r1H0+TZce92n9U/YAHhxQvnf5oYIXfeeYdSWcjTfrCkkVxFaCzIiGdxqNuzzz6TvT5tiga6kukGKo7JGIoFMsWbTNAj3HBkhSw51Kh7X4Wcooqc8jz6UJIwnHhtI/Jk56L4BYc/HFK3nnjKQ/rdWTV9H4yGkOmEdrP2jBo1SvUMLjxyATADuOMX1+Cx5tRWDE+ugZICtQSPPGDbqDvmtKU8jB4D/+wghXSe/XVXiV1igD7GG0G+AHK+p6yF4gG/5ZZbsjEyljCUCH5lbmHMDBy4puorvHXSNDIui3Bo9/Zf66V3GzD322zxlgjbaHRCOLGQLZJ31RLjrdtrts0mP1F+OlavFQXibQNOLUAzBHWAhYhnPACF4L11+aQ7kgS6TwKGNSpgJSwCAZAwseAtZ2xg5f/iF79QLwOHU3CCG4u1ec0M4IQDLwKQqRqo1QSNidrVfR2ZSi7yNhdJJWylc1LmIs2qQJozjtpG1wF5cIr53uZwrssBaDlAqT6rckmVskLGEnadKmMtprLU844Fx0640TznRc4eLUOvy3e84Hq/+upEBZZAJ76hTaxPnBpJBhPGNB7ej8oBQQcfPKIS0BgC+hYIgOZetua5BmDv+bY55S20HIACfWXPPfcQ7/I72QsCXAHCeJ11mRRZQ/t48snR2aWXXZptM2xoNmz4NpJmb1sFmrSBk4bfEgDqX3bcO6kKAXCkNQQI86Jv6DPAEsfb4zEHDFLvK6+8Sj2Wu0v6xS3F20+GEALVobBAEwkGTKjXPAHFgHWA21ZbbV19vKUnxNtJWZQPIH5xzIuaQYRj3AevP1jTMJJ9g7qQ6xxswcs80syHpIoEsJEh5BOf+Lhm8gB4Wr++I9gDkP2eUFPIjBPidqhgiPfBi0s9AKUE6GJEkPYRowHPLnXgM3uZkVnsmW1ivqjaobabEXQo/OX+jzO8UpwaMeJxxvtNFiAoPyaH/F579uJKQPFw9aoDpHnbi36nvwn0vOSSS3SHg10bgi150/dkWAEs82I94h6ANOAaEI/MRowYod+hnxhtyBWcB92EfrJDrsB55NInSwy6SH8S+An45znUBT2dKobVO5ImcUPJCU/fo+sE5PIs6gWnHjmgo5SB4cluBn1FICz95D31teO6fDeuiR5r6yX9viOvtpZYKSwOBKAj2SpiO4LteKxpAimYKBD8448/roONgcVP3lzD53QWEwPbGVjKRFLTaaRV8s+xqOuHZPtsZeXWrVwNEIknVD9gbFGpF7wQmmUd18QCwdXuoY3L7o5eSGUuPRIwABCO9+aFMcrEeP2fr1cuI2m9yBSANyFMuH11ghsvRw+TSYDFsZTKUlFZy7Sw9MilczVNY69WbkXzT/fKKN82rwKJCo0CoEx9CD4E1DHXk9qP9YA3CyncVBZXO8VQ9brCfY41ogNYVsBXmbErhi7PefCBBxW8AR4BELyMkmFlls/T+ZxfH2wFwPnIw+Fo+VeFF7uyAKXVZNsegMg2O2vaXXfdrUCZOJHDDj9MqQeBIhC43QDyB+5/QL2xBCEy9gE2HetXAWnyg/UQ8A84mzr1dQW7ACrajHFPWkTWTygcpDrkmXgu11hjNU2XCF0BALRYnr9Qcn0DROkb1l5epGoMAZGBA47cKZvUreRDJ/CSOQtQxnH3ZGchs4aBPNLXEYyHgQHofnv2HOWPE/QJ5YdgVdIXrraaUBwq1JuJYtwAmDmyfl8xCiZMGKcYATmQlhKDBc9v4OMHjyrBrzyTunHeAwfh0A7SKLLTSO5tdh6Dt5zA2Q8VYHNqKN7ho44+Ug0QcEbQkX6aTQSvLY5DZMdzwCVQQQ46aIQCwkAJ8nrSEQ53bjYLd2nfV4s32gUZZ/pqfAH6Db5aUw5gIn84VA/LiBKsINWuihEZyqMvANKAcuS1zjprVz3X9CO6Sl8BsDFIMJ4oE6PPuN4GvJENdCHwHLpNHBR9aqCdNvAMyuXZjG/Kpo+QJfpnOgiAx+Ah5zljgb4jFSb9Q351vOWsg3DGOQCJg6g4rZY5jTkEPWdXhFzn9BsHDrErhXHnM8H4/siNKcuI05Xe6tq9bQfmBgxqGxw4XHQmnQaPyDr9qadG68lVfE+nMSGz3UAnE3nLBAM4YWAxAdBxWD10DJ3AdWzDQOxn8iH35q2yrUFHYt1iPRa96ITYy1M2KRd5gxoB7WbL7lr39e67kwwa9I/N21UQETjl/MkWPOnDmLDGSODTEXKoxyGHHCyT0eDKJB0mVk7rY/ywILIdbBN4B/BQmZRr+YrNGZi9W8tar12jsdt6ib3/jmba3Mw1cUtjcF80/+doosJ3FrCME+X5yhY164FtpeOB48Q+gBB0D4AC4AGgFQfz5/WtjVEKn4fFlR0ogr3IBX7FFVfqMfV4iXHcUJsYmFcBkAKhMMZiYzYeW+Fv6mDPzbLbbr09e1i4x6TZ23bbQFEBPHGEPSBwvngLRxw8QoDisXpAivGire54/caJwQ3AIfMS3kI7aMX3U3h2GMf0BUCc52CoE5TIugqwwXiHjkEZ5B7H+8naCECFh0vedbKfzJE1GI8m6zDrNX3DMwBZAPMAaEN7+QIO+3w5oZP+I5ASoMSzycO+pxzaQ55v+o80jNOmTdW60aY3pGyeN16AOUGV5C8H/MHFV4qRFA/NBYcEZRNIOkh0IXh1F2uWGWRC3Sg/BMV+qF5xvgdL4AgcO/ZlxQ8APYAZoBxAaCCXvsVpSJAqjr8NNtxA51rqk58h0Ud37jEeMFYwFgHm7FQiF3YpgqFXO592ZjwVzSQdx1Tu2bXUku+KYQTlY6Kk3iSrymGHHaZjJ+h3LX89LBJB9wHatjMBhgq59afrbg9vxg6xAHYgEbsCenqqvJEvckZfMIwYu4BsdAdvNbsT6KO96CPux7vNvaxZYD30E30POilZcioUNtoNqMYgoN/AfLww3C0oFF2ijKPklGzynmuWIAHvBIqC/9BhGBdbbTVEd6XYHaiOazeQbdzFfVjUHz3xWduBeVGlbbsQYbItB4BA4IBtBMfWFieKYeGYErBNhTLAv8MiZlBYPlcGGOUw0cCpwjp6ULzk1113XfanP/0pe1mU42i5hqhqm0hyayj3psR19QOpkRe91UHX6vU90fk9/Ywkg/oSxwPFxLKCTPJ4iPAE4C1iwTr+hONkQeFY40BXMQ4uu0osFngBmdh0zgVM6NvARfCUdHwlYN7TY2BJPK/Zea2r4zMGjPliV4FyFTzByYuvvDJO6A5XCrd5plAqhiv4ZCHfSAAUizRezltvvUXA3gDV65Bq0HL8hzzXpuv8BJQxJmwMKVVGLoH7DAB4+OFHJFf2Feoh3v+A/STAT475rnCvPa/b2lAji2iYdDB6o06lDtffcKOucaSsu+CCryhIoF1s328u3lWOW8d7u4ak3vNtMZDP8/GQsx7a4TGWu7tIzqxXACzmCNZXDgriOuYHdtUAYMiXUzvxpHpjCa8vNICtBRSvIHxsAi6Dx32+AmUOigHssZYiVwO1yA9wDzgFlHNwz0qSH51TNI899lgFYcgW+gneeQI8qQtr9oviRIPvzfWUj3edVIrIzoATdUQ+eEb7SVrBOXPh62+UHXTgQYIN9lTgHvjCQVZwinnO1KlTFJgB/pAtoO6UUz5aPZY+6E3Fe1yhEeJFxZu/3377quMPPeFl6fwwMJAhf+MV5nnoLF5cO/Apn3e77nH1ZdWbM4LxSZDvh+q9h/Kz//77KjAOwcYh5qGqM2ZsVtYIDAquDR7/vgqaeaNLAGL6BvlprveK4mPY4PhEZ9BJrseAw/NOX7GjgNEEKEcvQx1DektkCKWEccB9gGr67JBDDlFqEuUy1kPqzzdUvugsdeRZcNSRPffjlCUgmrzrlEl7wYrsoqCrGApkRGIM0Q4D/dTHxpzJtqtzX7vn9T4isG4j1hgg56cR7q2T/t//+39yPPDlKqCvfe2rsvVyRnUwmJDsftse4wQqlOw///P7CsyJBmerA04Y1BZADB5GXpdIXlSUY40Kz6rMYPCfly1gyWPeObVLHvPm5WZjBC8MY+Lii3+vu0os6GxLMlGSycFSculhJrKoXXHlFToWAO+AAJsIgy77oW3oouiz5uu5tFxZb1rrbZNwd8m0yLngP2vH+GxEh6ldXQLfe7J4Sv/3Jz+pHOJygJ5OGDKVhINgMDTJuPGjH/1IHTL8ZHHG62nriHm6bT0JcRmMEY7sflvKmKHp0lZddTX1zl999TXZT37yUwFop8jhKZ9RAAHXG28sLxb74LUu9qL7dnQE5jmHnUN7Fiz4QHJ0nyk7XS/KgS1HZv/6r/+i9bBj7qm78XFr+yAY07buWaxILXCPvbIKM/Ue5gfvPYeWgrcQigVtC97CcEop7QHYVtdmsn+Ix9/HqFg9Y1nXjp8wn1h8C98F3nCgCtXOQaTo+0DeCyrzVDigSA8D0kvznNwBnFO/wGU3hwQAnZgE6wOb70wGoS4L1ajgfjt4x8CYd1pwbcjwFuJ6ag0ewFvYAcnjHILxAyAEPBqnnDr0ZCB+VWdw5BDfUCFK2+/UG10IcQjE3BV4zN2kE8ZNkEEelBv6paxd+XoVHEX8zU8MHIt/sJ/2KC9n+sc45gB9nhWM6ZCC0zLt8J0ZpCZnylHKVUXulrLRAnnpR8pgLUXHKRs9M6Pd67PVrbetCd3uMfcLgQ0KrCEiZLE8sYDOOusstYjMKrPrbLDQ2XQEVjDf7SdR3FiG5Khky4w0U6RSIgL+Rdm2olNOPfXUbCPxmOdJ+8OE5ifVIgu3aLGy6xp1YqN77fuiBdONk2X2196m/L1F0Lbo85NtQUDJxRdfrDtKE2RLn9zlNwsPkzzAvDFGecPNxBjFUwSXj+3ioOPmsQkLS+32XNFnPSOJzgDBzo6VeGyXeaA6W37PSKwCbSoK0ur48fNWI9kbwPXtip+Xy0q1LNK1cGd8T3XXRu+QAEQJ5npKgrXI2MAOKV45gtTMq8f95plli5tdUhZStrHxaAagkHvLvROH3/Ha3nHH7dn//u//yth4WsD8Rsq5xfs29qWXs7323kupLJy2edVVV2W//vWv1dMHdzpPPVqnHbF9K38DiAKjRLjZAjynvDY1u/j3F2taUzywB4qHNwDQAI4BrQCGisSCZCo7XF7+RcBYecKV8R3a7gxwPIHyz0BoSIc3QN88NwCScL8HawA5MpAgWzsanUwmK2hdRd6VfNsxcLV6cH/evgDmqJcdQZ9fF4A4azJ1CmkdqZeAR2sTYFLrZzIJdQ316q+7iSG1YEgNacDTg0E7gRVvvoHLeIfFNhCtO4NMMCg8kM3rYDKrnu5aDb7PPfwxTuiuOUKfEwjjNePQZKZUIKgqIqeqXCvAx4y+ovmAthtfvJ5HuWrMydNNZ8zQNPmZfhUZBdTf5IgeGPC2Z/KTz5kHLBbE4ktMB32/Wt+YvHP9z/uzuga6ubRoTWjkaOiuPo3L7XJWFt/R9nu9yR2wzbYHIJvfSWpPtgnlEFasv1hpKI+OZNsCrwlBnVhSeER0C06CBNgOIe8oE4ry0/RUsNaaV/Tc2rbUAvtWO8krdKN7Y7k2uj5931ECjXSz+2RmIfXeO50Hd+b1UidR9UUGFvhzRKfDF2Tr+/Vpr4sB+6ymKyPlE9xGwDqBN6RaY3Jhe5Ct1+CRyA+raKV9XdG3ZuRcNLZqPqvQCmrngFw4XmattKvs2niuajT2i+a2VuvRjJziMn29uloHm3+856ozYCI46HJPY/Ds5h63uF+VMiIN4z1H8gtDZSCTwp+Fdnj/ffcpbUIhRgUlWUo2o2YR7Ie+h/zDef7uIlmxTkDrYjwQb3ThhReqMTtDTgMklSCeOtIUsiNF+j84sqwpwaOGx7b5Xg250i3vd/B2w7d+6umn5Bj5GbKTNVhpIwY8QsnFG9QVp2dFDjkVwuYHBST16lYB3LEdnoP3KmxB0tV2dgQnobPyGay2vsX6EugUtWtlMBqq/xoI1hsLcZ3t1vzzANa959O3w8oqBZc1cgyy9gAylkn4Pr/Ge5H95779RWM9jAt751c3mnsLx30FlCObjgYQRpYEAhdxy3Wc1VJt4vaHsVgr43hUFMks9pQXGXK+z7xH3T/Pl8Nz9W+MDJfrPe7jYHAGg83qX9TOPk5vdDTWwZyN1oTmZ4rWr2wNubZeftWDYo1kEmeSxYMBNwtPCF5zPxg0Ylu830zEtv1nVhZHsOLZsNRTtv1YTRHHVqD8896BUHZ9UO3rF/iK5NgNW4F44MPWS3gT6GApHe0krLB9OlPfpPjhbwITePM3XCrKsQWtbJHt6uLbiS5apm6pN9AaDcQyQTTqq2YGsF943ZSsE7V5seDIom8ACHilRx55pLyP0PSIJ554omzDf0S34k/+yEeEV3dS9W84njnPMSz+xSCwc6y1pJNL9xDxcxvzpG0VW9paS0nLfMfcGx8W4tNvxpIIumEGoTekKoteBETRb+gpHIRyw403ZHcJl5yAPg++mK9xvEAvwYNHHBIBaSHHdi0w92OPeuJl4zjxM8/8mO6kzpjxVvbwQw9r8Cdrzkg5Oh7+Ol7yIRIQdtrpp2mgHNzsUFa8w5Qv3jXAy7XLEhuQYeS5Z5/LbheP/Zy3Z2vgHOsBCQtIA2lb/kYlyUF3R/3qCKhzmFtwdQ0ALje2ckBe2y35NoDOUw6WN6P5vg9yMJYDUDNggh4pbKq8bU3O9Ua/6bBW11okrRhPvv5VjBEZDDkQzAGrB5Ux0IuNgI7GTTNS6/o1tm4oSFWME8ArTsmw0xF2T7y8inSjyJApAtkmE99e7xmPveVFMiyjkfhyYqOrCKjHQL6Zv70xEdet673R3hK6zDGPQYlvcC3YDfwxJub/+Z//0QMOABNQTr71rW/VWL+AWCKpCR7AmwGfCyI/W/wcYkDgh6WMMzcCi83vf//77Je//KV6Gq+99tpsl112qaY8qic2q6eB5uD5mK/8Q+rCyx+369vFYmb8RnhRfGe5OVEo/uZePDjhNK51q9d4K70I3PV25WmvKhaX1qpcyq6PwWW7ZVtWXlyf4kUstD0cWzxbdZ3f8eKxpUdAVvi5QuBbij6x2LENDBAxvqP3nNhiUrsw2aLYUdbNGBfN9Hcsh3rlFs0V8ULazLgtusbKLpN3vXmrmXZ21zWt6nuz8rF5iPmK+RGHAfOWn6vqLYixR5Hn2lyH/qGHfuGroVg43gCH2rAj9L3vfU+rTl7rz372sxpIZ2XykzpCdznvvPNU5//xH/8h+8IXvqBZifg7z5hhwBkucjip0DzUc+bMzu699z7xyj8g3vOHxSE0TndbDzhwPwkGO1yC1A7UgEO8i1BQeHkZmGytT4r0lc/mCn0G2tk4ybYyedJrkoDgejlV8zX1mEOxBPgfLVkjyGTh6Zo5Hah258y86l2Zo4rqHORbbZX+HoNc7ovHTr161BtfOd0iN248qGvXnBP3k/0d6m0NLt5uaEXGXqaN6k65nZlj4n6rt54VzfGN56UgD7/DUTYPx20omlM7V4f6tSyTm63h3kAoK6neOuvnmUbyakU/GpXVyvc9Asw9KMKT/MUvflEzTuy0045yiuE5EihzltbZPDOkyoJjS+5Wom2Z0AJQnikAJQCREGSQW94sONwDMMcjAzAnktxykdYTiu/ED8X7wxYQVBuMB7K82GloTKpmFdokbj9ZLPDw22JnEzxlA9jhAdNWFqIiy83q4OsSb8W10rHLyrWtApVGwLxo0Nvg8wHKXn7NDM7OAPN8bzpP94b3MUyI+aKZl+0XmjC55sdpV4KApOLmSamdNM1zUrxA1Vto6k1y8Xf1gHm9a1vtZz+5FtWvWWBuQKSZPu6JMeXnymYWoGbnNZMXmSp+85vfKI2DObM400dHqoB64vRAlvwgN+Y8Yn3OPPNMzagA7zMH8AWgSD4iDghqyg9/+EMF2CeeeJLMiccrpTGsAWEHibR3zL1f+9rXdL7/xje+kX3uc59T2hbjtD/BhbmjVw1VC1ykDtSFALjnX3g+u/22O7Ibrr9JvOZPaD7xs846Qw67OVbiMnbXkwF53gcfhMBTDxxNto2A+XQ5Jhy6DAf0vPuuHIg3X3ZGJU3i+++/l/UXXjRUS7KOrS1UzBCAGVMnlhQwDyCtkYFcBvKLwGesj34cUo7nesdrXtHc4Z/dqJ5Fz643r1lfNzuufV1srShr77IEzOM5sjMGR7MyLgLNnTEIlntg3szCYEGceMvZ1vvUpz6lPEOAN14QsqdYhwCIyXVOEvl//ud/1gnb88+DV9C2aHJgjlfaPOZsWQaPuQBz2aLs8IqwSQ0w1/RLWTZbtiI5Tpa6kCOUhcmCYQx0Q6mxAAXbIjaPiLfuWABZUPDgY2jE2zl+ENsgiCfMVhR7Wbq2K4Ct1Ym8M3JrBOjqLQz1Fn7VicoFRVC6ltPZHEWlXl2bqWcz8qkHzMsWsaLJuBn9b7ToxuXW04dG/dhM29txTWf0PdajMoBC2Tg37hNeN6n8bKeP680p4rMzcL3/3P62a5hzyQgE1YrgYw/My0Ab4JkAZ/J5U866knVoHXmTbs8bIiQG4Bjwn/3sZxpH9NWvfjX76Ec/qjtH1EM95hVkDii3bBLWRlLo3nf/verJXk2OnCdbytQpclDJ8GHiKOGkyXdlN3ZwNkICUEeMOFjSJw6sHkbnAZs3lMocJZbHOzhm8rEYsqSQUnClbL31JetLJfDTjOlaffS91hEwt6pbZWC6qitGJC8ouBbU6Ehs9fF1ry8DWkU3eWdJZ8aoX0+Lym+lzFaBeb1xGXYqOso17rey+aBR/5Z3QEePuZ9rY0Bb7297RisybEWRvOFW9IyuPLfIuOjK3NtKu5q5tsse83oPsUnNgDkTMidJsXXJVupJJ50ok+2puuVHRDSebtIdEvhGLkooLgTymOIUd0RQbibBSy75ox5zDGcRYE7+zdXE28Irhi5+C893SKhzOBJ9uvAap8shDQDromCTEO0evEShDmFrWJ/nkBO/cx2ef7w/PujBy88WPjzseOnjSckWUmgOflD4xSMuz77zA9kWnqLgGT9I4+v8d0W/mxxYfI36459rv9tiH8vIFvx429zKLaqv98D4BdXril/wDTB4cGFxDNamokFr/RvLukyWXmfL6uKfV+a9Cem8SBcWcpfH3nDLK+x10Ms37nd7ZpHciugKRfWKx6HJNNQxpM7yi6/pdc6xrZ01wjO0ZtX7POfQ6hD/9DoY61LHMZjPAgbiGEdxW4rAl39uUb/G+lVUT1+fuDz/nT3fyyzuT79g2Xc4BHwKt6J2cB9thiYCRc+e4eeIot+Lnm/jBy64xQnF85rpRW1vB++wPSfIzu/2hHRpd955R/bf//3f6hz5u7/7OzlG/RMK/r38/fgJp+UuVtD/4IMPZH/84x+zVzi4RrK+HHDAgZrC8IH7H5JTNg+XeXhV8dqPykY/9aQmCzhedjFPE0rlOnIiJi/fByYj5jNL4Rb3b9jlioMRLS1hWE8WydoQB+NRjsk2tCU4nFhvjJZjsuP5fs6Px2VtnfKyiuZEo7zFwND3vfVdbT+FGthnfrz7MR8/048PG+PeOCkf1/muSz5vm67kqRVj/bK//RiK5Vc8HmvnoLJ5J57Pi+ZIGx9+HrR60fZQt9wA43r63dIAxvNM0RxUNIcXyb5W/lXp6DjEWUpdbL4twhImeyvH93tZPRt9HvdZkQ7E2MX6zNIq+jLiPuE7wyE2xuqtI1Zfz4golluZtrX38y4Bc78YxgtcPIDpePNkf/e731UAy/Yn24kaQSzKysmdHP9LuRdc8GXhn5/mUli5SOIKyvZgm8kP6sn//d8vNHMFwHz33QWYi1c71KVWcEXcOj9YraPCT5uQasuIJ6O4a2KAZxMF13mQaQpowJtdBQJkCc6y60xhuJbB5F+xAttzbHKwgRQD/SKAECu4LbYetJls+MxkYOmL7G+fD9fay88iQOwnUBt0foIpm4Diz8vAXPx5UT14nm+jNxKsnV6OfgLzuzjWL0ULp5+sPIixa/2kEMoJgNX0IgDzPNcxZRgwt/zELEAWxGf1rdXloMy+rc2AYK+vcT1NZwBUPljbJnQLpLZ4jHhc5HIJbY7lVLZw2+dFuunbHI9Lk2fIdZynRDPdLVpMiyZ+39f+dy/PIt3z8jNZmFHPOOJZZsT4Mey912ZcWLAm8TgcjGJZQIqAuZdD0Xwdy6ne30VzW1ym9X9ejoFwPgmBlug3p0cuEuOTMlkLJsmu6eVXXK5OFpwZAHQOx7H4HBuP1sfcZ2ODdInQJDm8aM21BmYfOfkjSmkcPfpp8cBfnH1EAqePPPLwbNLkiZpydJQEhcIDZ+cWZ5DvR5uXzJjBaWRtpA6e5+71KKTwy3k2IVNS8PKHdSiAShu/ZlQYMF+wIASK+vYx55uDq0ZnK57v/LMwhvx4LZqL4u+pm+mczU1BrrmhHa9ZyMXq5a/zzyvSs/j7eBwX1d3Pz8gLw4XrqkfOS6v9+qZSrtSfelriBZNp6BOCUQMwCG3Od+P9HBTqF77383aZjE3veabpSNAlZBlSDNq49uPf6mlGRK1OBcOvaJ4xGXecD/M0nF5+dh3PZk7235mOeYcPz/VODDNSYxDv62vy8zLyc6Gfn329Tb7xnO8xjjlKTc6+Pb7fLHGHOQn92I3nZdoNVsTJQOruuH6tzI3tuLZHgLl1Nse1fv/738/+/Oc/K0WFU50Qgi3Yj498PBvz4hhNn3jhhb8U2sd2xUeolgDzyy69rArMr7n2mgDM5WAHWwaqSh3mrppX0UKTd3K41G9Thr8NKJVv9Vm5pkT+b1MOD6SRBcbJ/fffr6dfGY0HTj3eKX76yc4mIw/ubULyi7eBNT8hxPfEfxcpsl1jg9naY/lP+duO0LbJkZ96iITuRoRtZ6uPb7vVzXdMUR19uX5ysDr5LXU/0GMwHE8C/j6zti04juf4jBVW1yD/nCPuPWD2e6xbtqizgJvRx++ap1cPOQlHifvcsLag2+Rc62kLHhirs3lewiEL4fAIe/n+i+vlJ/2iyd5kEfIPhwNEvD4bmDC5GoCiDrbo+LrY/aEMS/OY0ye8ZzWkaw5epnhMme7ZGPMBjUULkj3X6usXT++N8WPF96UHyL4NXp5+YQkHXIS31Y3v47FouZ1tweRao8Z5fbN+Nn1EtlBKyOKDV9kCMX3/1M52xX8Vgaiy++rpTr1nmR7HY9wMeepw+223Z7/73e+ykaNGSvzRx8RJc4G2z+tn/HxAD7qBTAiehhK55ZAtsw03CIcS/em6Pwkt5v+ykySb0ac/fY5mfJky5TU5NfoF3WmALmNOHF83ysNBQhrT//u//6vRPRuLHmhSrwCwA3fbj9daIBeAnu2I5cADNRfvegX4G4gzz6Yfx7YGERdlW8Jl/eLnSbvGxinPYM5Gjwzs2rrjDQTTXcuEZgf5IF/u9cA4b48fz/n8X1Qfk1ftPG1yDIHwdnpjODiJA4RWrq4t9nyTuc3ZsYc3zJVkEkJnwtwYg8pYh2OgaPf466x/zVjA8Le4NJ5FgDHPs111P6atfHNiBD2qxRUxhojHUFxnP0/yHfXzhwbxmc9bbmsx15hxYH1tcXYmU3aPfP1jHOLrEsuuzJCw60zPbP4zZ4Xpu4+NMTnRtnhN9GtOjBPiOlEmc8wBBxyg1Dwv/1bmxWbm2Wau6RFgbgpC7trzzz9fTzSEL3juuedW+eVU9gHZgrz0j5dmb4vXA34hXqBwylfu1dJGNQDmTMrXXgeVZdcqx9w7zIvoXfmEVsvBCs8Oooy97nzGBGHWpQ06K8uUASU3MOOtQ2/pecW29GVWjhkAKKgN9FCfjtxi/+yygRvXz0+iRb/bs+Ln+Wu98oZT5oLnz15FgzOuq13jB5hNFh4Y2Wf2/HhA+mcWycgvejZR+XvKZBt/HtfD18fLzE8KtYMy9yDGFBWbGDw4516TaVxm0cQT93+9fo6NCC+3uGwPMPzkb3L1QMXAuckjBjGq95UdawAG3lMv17xvKws8es81bhLwBlY8ocZ1oR62QKGnfjHnXhvLsc4Xya7MCPPyst+9bLxOe2BghqGVa+OoHADWLtyAlphe5+cQfvfxOl5W1qfNLBr1xkejRawImFt7qRuB/z/+8Y/Vm42n+6c//al6sg0g2BjoqJ94UQOgtfrxO574uXPmCrXlUs0Gdtppp2uGl/WF8w1YMhBNvbweWRkG6pjncZTYy4/12MBCP02vTa7eCPRg3UBIeF7w4JKFqTaQtmOApj3T6ml6xN+xEWnGuZ9vvT4bwKWOseEYdESlrnMPf7OWeWPW65F/vpeLyS2e260e9J2138aHpe20HQYCZ00PbJxWD6CprDUmbyuXOjMu7L6iudjLgsOibKH381BRf8fAlGt4PvKxgw39Tre/3o8zww0YGf400SJZxv1sOxW+b73cgzMx7A54qqDNgxilZP8Kz8qpNX5ej3XMjDc/D8RjwM+f9p3fRY9lF++wW/0MnJsBYe2Nd6vM2PHGizdCrC99vXz/omvhrJy1OjgBGs1pzc6ZrVzXNmDuH+rBg4FKOOX33nuvAvM333oz+8bXv6G8wa222konEjp79OjR2U033Sg8wXey//iP/6h6i2wytmdY0E+NcoviMfn+UrY/JwnH/JprrikH5rG3vLIdGAYfdemXkb3ggQfu1wwCjNXYOLA2EvBjnG+b2G2isnvIdT5s2DBNm8ViE3/vJwtTWPMeeOU3ZTXls+88+Iivr6cMZRa4n2j9gI+fa/0SD+JGiuy/jyf1ovrGi7Bvd/y73e8n5qJ6xkaD6alf2H0/+XLjZxTV2Y+Boj6JZeTbGI8luzaWm2+Xvz/Wh7guZW3xzy2rT3UMxlww+aKonkXPsvpVF0S29t0WVpgwzWNU4egKaAj3BR6uAvOKXRq3N+6PWNbxWC5rdyMZFOllUXuLZObHlf/ej7Gifoy/j59n80asKwaI4GDfc889GuvD72ZAe5nYPOYNMA9aPYgnbS3B+8xvfrH0Op/XpWPgmQENfgJ+oTnCK4eSQxYW8vn7esTj1ubsIM8wsefzUcBYtJOTpn/7299JNpbjs7PPPlv45GvrdX68+zmXcmKw4Y2ouuNbnomR6fvP5pdGc6ONafvpn1N2b5GexrpZpG+2S0W5arBVDN7cSVC8E+zrxD2I3Rxo/G7jtzZ2IID6ormobBfFr4teHvZ5kTFZNEd6wzYf67X5vavPYo5xOhTP3bEci+Tq6+V1IG5PPE95YyeeM8ruLfo8r5PWvmh5qn4Wj9myi+utL14Gfs1spIPxfbGsrS9NnuYVL1pn4rERdDDsTvgxHs/1Ni6t3ub8LJNDM+O3rsCb/LJLwDwWpFcmE7qBbjwhTI7f/va3dcvwv/7rvzQrCxaKCZBMLQBh/mYL009Svj1V4TidI7jmkksuEWD+SwXVV119lXAHJY+5ZWUpZ5tUF3mb5OlIAkhJgUUe3CLeLHXEwrWt5riuXkHZCuXo6aOOOirbc889O2yTlC3wZQpVtBjb8xuBiViO9a4vnkRrqQT2XOTBQUqkOWNLiH71tJtG9eqqwpctlH4Qx3VoVKci/Su7p6j+HkQ1M+HVXmPK3XE7My7LT84xmCsak12RdTxBNznPdNjdMdlYeeaVy+eUPnIIzGRNQQrPmABxwDjLZhgXFhiWc9KbrUsz17XSz82U18o1sYybqUu9a2yRog5kZWFe41RM5qUYOBiA9/1TBEb4jHmRsxngbQOgY5Bfb3zFZVIvUjjCDYfeSFpZYpCg78XysHmxaB6sHQs6gpU2N2HCeI1hIr0jc7Fld1GOe8XxUjSHF+l72VhX3Y22c+vNAfW+y8dFbT7sZsautSlvT0eDqJX5qAj0aFurQF5iIiRZApnMeDFe8VI3ml/jcr084vbj0WQuQMfsGPei+/P5I2+hLyu/Jw8sjWVRtO41I/dWxnhRPcs+8+XGoLTefOzb3ahucV+V6WaZLpTJsNFzW/m+qK3MQcxj7GZRNzsMkp0A6NLoCwY/xjn6w09wChgU459sea2uad2hCx3kJ5Wqb1I1KbmyYgyYw5u+/PLL9Yhkgm3wiDPx2hYTjeWENzIGYOWQ9zsPEKoFJ1Zj77Sjg/7wh0s0YOitN9/KrpAJftddyWNekC6xpE12rDRfk2+dlFtjx75c9ZzYRGeLEmWHraDAt7WXXxz4DBkAVNkdYCGzcoqUv1GnN1KiVgZjk12rl/mF1G9NwTXjPW3atOyZZ57RNGws1ASi0eai+hZNAq3Upd61vp7xJBa3w0/AXu6UUQ/QFz2/rN/i/ojbrrriPMY5baoD+arQIx3KM352qFkZOG9UF7s3bl9XQEKRrLwM7HeCucxrOmfOPA0Uv/eee6Uxi5U3DfcvbF/nGSes7EZjpl26VVZOozHZ7uc3sxh72XC9eXtZnF588UUNkPeZKuyaIi+xgXW//WxzIKfU0j+AXfNO1e+PPB7DrmOhHDlyZPbzn/9cF0u82pzaydxqc2loczga3baty8Zhkb6GcnJ+b4jjMMCab+HH84Cf0/13pePdeSgrJmPNutCqzjaaP5vT/Y5GfjPLftlaUjN+pb1km4Gmyi4Mrx122EEOAdyrZt0ommuL5GllewMRncVpRwpNQD9rC7nhvTHv57yiNcDPbc0C72bGdZEcm+kT307j9nvvrtW3bK1spg1l/ddoTo6f3Ux7mpnjWqlPM+VxDdjDUmwzj/BmXgNjcqgXzlNiTsAlxDjicAWroEM4htnpi3fCyuaAVsdus20onMdEWN0KzHkoDb/pppv0YIu77rpLDng4K/vKVy5Q4YSthJDdw0AGgulbyVNb60mrTpMd2kI5F1/8B6WyzJgxU4D55ZrHnKOWiyfw2k9zgBMWsbB9kkdBd0XI3GsLn00gsbLHA62RZdoICMb17erg8mrCYMBCBTyRdg2DikmZo67ZrWCBxeiCG9rM5FZPtl29v6v9VnZ/2YTZ7PXl9eoY4+CvLe7HWmDuFyF/bzNDvaj8dk+o+Vi3zAkfZK9JIB66NFdAORPn/fc/mN38l79kQ7cZmn3mM5+RmJRTqvzv2GPaaCx0Vfcb6VBP62jZ8+p9bjIvM9oatbGeXtdb2Gp1N6c5UB/6EW8Xucavv/56BV+cXbH99tsrKLd5GBok9eZwuZVWGlCTUajRPFem863Mr152DceW9yG5lbWRjpbJt1E94/o0Gqv5al+87PO8orktdobZzoDKRjzn8PdxvPE3ux3f+c53ahxWuqZXsnjV0zVrr8/yQpayX//6IsUQ6647KPvkJz8pNNiPux3ZPGNbXP8ikFUm01bniWZ1q6i9plPMeQBGTgZnvcTw6A5gGKO8AiaiVjOeQ5pZ55q5Ji67bBw1iwXsOjzgOFDRDXYBmUOYO0ixyrqBPEm/zbk4ZFXiDAeoxSeffHL29a9/XY1Im2eK6lTUx63qSWfm1vYhzzpPZ/LFasFawSocMmSIbCWsXrkj34rO0xUJKK5TXjU+IzgL9W0BNxpAJqeuBYu7MyIhCIiA0zyIKPYUWak2uMoGaPx9GSjvXC2X3F2Acniq0JFIUQkgf+qpp4R68JpOKj6F1ZKrZXpyb5aAjQXGyBwJziNT049+9KPsot9cpLEoz8gpirNmzdT5YsCAFbUpOiHWmxh6c4N7Qd1sQWE+s8wusZHk5zrzWvp5zOY6czTQLOOfN9fEnAdOfVhUb7311mzq1Km6i0p2FLxceL0MzEFvfOaZp8UZEHZTfZ2be2a6qtskIOMXqgC7pRjUOGsARzhvDIzRX62CGa43/jNeUEAXGAKQRYYc4tBsnW617G6TRYsFMwbHjRun6UBvuOEGHQNL66vZMdmMc6gVGTBXAK6/+c1vZscee6ymOwSM4zGH8oRuDB06NPv4xz+u8Y1kY4LiAl3OHIfN1r2VenX12m4F5tYJWDUoHQMXy5BtKITnV1nLEdpPTtjMOaTFmVAsqEQXh8o27UIOYMALI4AahWf7i+3x/GVb/sEzX6wgtXlMDQzEwVBWZitA2xaZokmknRNLO8sqUi7kRt9xiiknuH7pS1/KvvzlL2uKIcsDXBT80t316upAaHR/DE5833e2bcVl1EGepV/lWYuszEbt8d830uPOlFnv+SavkIUhxGoccvAh2Sc/8cns8xLwx/HlUBlWl7nC5oUwFjWvQCtN65FrG8mvRyrR4CG+joxPn33D+sPmqKLgz7iNfj6z74qC8Xy1cJT4NKSALLzl0GFYNKEvwimHGugzfwBeZs9+W1PnLqlXs2Mc7bR32fzZ00Cg2IFUr5a1Nc+DM52nq+IQw4FFX0EbOOigg/RNkgPGdJH3PvbIxnOLr6t5zQFTJ554QrbPPnurp5PdWLyiH3ywUOePZl7+uY0cas2U19VrrD7QWMBGUGfNGC0qu7fPMc2Oj67KLb6fOcfSzNqhjIPkJGE7MZ7rmU8s1TQyRp+gFDPvGMZrd726Wl7LwDwGKPZ30eJtnWXecqxoeMcIBUHZ5J5HDtefLAK/1IF1/VuWauEdanopAfXmyQnpd2pd5mEwlG/hxUCp9b9D/exVtJh1tcOaAUlF9e7Kc2MjhkkRi5OAL6xVeFoou3HtY6pBV57d2yekZtvWTJ/kk1ttelDT+66C0jJ9brYN7b7Odr7YYdlavBp7SGA0ng521NZbb/3qVrUHjja+mtGLZsZKu9vUE+U103Zfj7LrixbTZvTUFjN/f7O6xXXMJ9DfoK+QFIAALE54hgYH9503QeT8JLUuXnUWXQsELXKqlPV1WR3jfqoHLOK21e/jsIZ1ZrO2SIZluxVFoDfUq/L8ivOp466x22auaUh+Hx8Hp1dI3xje4bPqbnXlmpDFrE82YsQIPaTpvPPOyw6X01WLAoGN8mSPbRYgox/QY77yla8oPYHzT/rLmQ/eBLL+q9WNoGtW76C31afrL2WA3Z+XUNQHfgw00o+ydvI5OMVSLveU8RAwVEcHZdFn8dxRNPY83inq29gYa7X/i8ZbjjsDBsQRy/xBoPeGG26oh5H5FIrImDkFJzFedd4+vrFs/Dc7H7Z73m8ZmJdVwATF91gl8HgQBCdYPvDAA7r9ZBYhnEGsxEDUX1gzwPJOrnjICshQCIsctPPfm6/b3WyfjR37kkzkEzQynEn8pZfGZGPk/erEV7Pp09+qHj0bBB23ohywhyub8bbnk2KzC2c94BAPgCUBMnyfmsQA3Sg0Uc0sppZ5xfL9Us9GnrN2K3FPlNdo8m1XHYongua9W+2qR1vLKRlepitMoBh7A8VDvvLKq9Q82gOB8EX3eMyLHA5dkUG7y+tKXbrz3lbnJcAZVDgyw/xFYgjwmPO+6qqrJEbo4uz3v79Ygvj/IBm2/qA/iUuCImeH4BSBgEbta7aO9ebtZkFkdc4EyGpQdh5gGs/p8fxapjNFnxd/VhkhlSHSEVRHQeJecBWnlQJy6SMF0VUwXptj3ILN82sXq4cSb/nBBx+shnU9WcbU0KJ1xoM3MrxARzjqqKM1NSc7s7brEwPyvOwQ7BsOcPIGRkdnXaB2BXqX3u8OH/rQPqvIpLys5jBCDihzSldssHRAJ01wcnPDKQfctbII8vC54q0u3gjxcs+/D/pQRG2Lr+dvf53/veja/LPgcI2fudj1XSwXiz/kHvAkVGn0Aqchu/reQWiHhAHgcQwD3hXZVWhWzc4Rjeaadn3fNmDuK4RVQkAD3EFSJEK8BzxDY0H54YvBIwWsv/NOOHZel9yyiISotVjogG888Y8++phwnO+RNFtXiQHwoGx5zlLFuO2227I//+nPugAQ8f+mZGrpDZ3QLGhvVwe3q5xWjIh2eszbVf9UTu+SgOlTNZNHlIM63twKuwbBqC6dJ8qcgb2r6d1Wm1bmlu66tuPimQfm8R0LIxkSANxwkQnIAoATPPjjH/9I4wx+9KMfyt8/yH74wx/qQXN4X3EC4BCwOdxA7pJaUHMw2ZEWWQXgFQzoAXkjEBoD7lrsnIPMRkpkBq0HY+EeH5Gal+KDOT0IqwFTCmQC2I1BfzggKE9yYHSoIk825dvhQY3a29EAUaSgedPDOpMD4lrAn4PJ/JCdSl9JpidfLzt9VdtQAfJWFmmYFbC73QMDm7V9U0a7zbNkxfOWr0NstHm9zu9rPMF5eZnBYZ+FPvLA3U5S7mi4mNHlgXKjvioD77X3BeqRL9/+NoPP6xdU5aLnBvmEMy14Lg5gqNIAcjJE+TTW3A8mHTNmjF4PMGeHv95YbDS+uvv7LgHzssmdLQWOlCdKG1DO4kv6JHho/AS0P/zww/qTLYZYCYMi1vcS4m1/fOTjcszyT7Nf/epCNQLeeWee8teHDt1aDYG77rpTThL9Y3bdddepR51tjuJXI49k+L5Zw8E/o5UFUKccVbjOPavdytJsXbguDgDrjKzaXf9UXi+RQMnw8vploLtio4dFtwrGu8dLHo/Ten/3Ekl2uRpFc0uz49zPT61WxJ6BZ4sdVLzggG3OPGDbmd/XWmttcd4M1Exalquan8zp8Eb9QSM9PUc2kpGBNZsLvRPIy42dXmKf7PuQqSSAOj+PemDr242RYicadsxOlFM1QiIFdq8DVYLn+TJtfo5/+pR93Mv31XiEaqcHgEh5gbLCLmr/rF9/aQupFyrH3Mc6UrRGWIBnvF5Y2db2ALQUwuk7r3dt9jROsTT5hFMjOS1b6kaWN2hUARaG/1dkwvfs/BJkDkUGaqz1RZXuoKk6+1WDj1vVf7u+TI/K1stmd5/Np4keAcBznQtPRnQB/Neu1RbPh/EBPiIfvT+3JdbDokOQPHg3uZnOxLpqgDzssH9QNdCsT0xvqXNoewDfRXEvJlPKAnST4QbaEx5z/6JdYFKcAMwzm2++uf7kVS/1amf7uB33tXzAkLfsvDLZ5/wkkGH69Omak9wmWH/0OQMXgUC+5210iEZgznZ0sNrhqwPOmeixvmPrh2fYxGXJ5umMnHdk6tqaGL2nprU7l92rkclll12mR2ljteIBgwfIICl6lenQsiuh1LLGEsg9j2Rp+cMfLhej+8eaOg/e6tFHH8nSUlliSoC636XuBJZvp17GHjBbKBvLobUr2lnn1p7c+tXUFRoj6e9YKBUoFXjEvOeTRRcaw2abbaaLqQHaMnm2Oj/H/VS0phU9y6931JG1hl1cDA4AAPMgOdl33HFHPb+C9r7wwvPijBqnVB6CI+Flo9/8bq93331HHEp3K6+e7XfK4FwIYrMom90G8nkDtjffPMT5bL75ZtV1jXrMnYt38EXJlPW0cvkBQGuuuZZmvCGGY401Vq/EX4UBY23G6zhy5CjdyX57ztsaaE3Z++23n3ohQ8DlBwp8SUlMtpwnnhilGVIAQ/vvv5/83FzqIvFe0S44baHevDlMij5m3R84cKBSYKDC2HH01Mdy29Ne2oqzjaDPddYZVGmrH+ChHQsXLlD9ekpyqo8TOfM7YJp6Hyyy3lzqtsoqyBpgHwyil19+RTPKkAu7rzx3n333UX0jnoE+Iw3wq69OVBkiA6g00CBiw6tovFOn+HOvn8gSXbngggvUacmhittuu22NjvtRVkso6DjBBdC7WPsIoErf0C4M3hNPPFEPaSPYlKBr2jVlylRdo+k3nhvODSBYsp+CdBgJ9Be6iI7TP9tuu53IYK+aseixFzK3nOH8zgtZonvEooH3Fi4k41JoGT/pI14vvjhG3i8oJYUy8WyTZIK6ALrBbowXqE2mX+gRzyEBBfEoHOJIGkROJLYX+nbLLbdogDm45N/+7d+0H71h2wh7tj7bde2OfpJv9DutFOEtvjJlxMqEtoIC4xFBSGwd4BnB88FPFIIOM4sw9oDUX3AW6+SAIlE2z+ENoZ8Bztt+t0AAri2zjlrpFKtnvQm9FXkuC9ciCwYjkwxbRkTO0wc+Mr9eO1uR/7Igr9SGMgmEBfb9+QuyJ0c/nT322KPCJ11fD7CBtxq22+vsJjXeaKsr+kZe0Vb6zZfVXd7d7gD/3VGmlxvzNiATwAnYxnsFqLOf/M7pnLwBtPQ7czzzd9lakZdfyx/uzLxSdk/8efw3jiJAzJ133qmgk8BVwA8gF+DA7wB32sH6iEOJMz1WXXUVlQef49CC+gkQogx2fdlZ5nqACfMru8yUAx0Ubj5rKGsrZVAnjJ6bb/6L7lgDbtdff7CstWtLWW/qd7PlsyFbDamITE7sFO/qjBnTlfJ5yy23qkFB/BAgjrWaWDEAKi/WcvoPOhLlPy3A//3572vShXvvvUc901wD+KL+5uEGaHE9KVEBhqz/1Jl2UTYGAaCPNtDHrCGkD4TqBCCkDrSJ+qy33roiq9VyRxw7DVK3mbNnZqPFUOAZk4lJELDHzgvPA3xjqKwsoHzQoHUqjsC+2YtyEuxtt99ePWzrwYceyiZPmizGwhrqVOTU70nyN/WiLs8++4w6BAGH9Y6y9+A7ngcCGM3nMNoP7RZjgEQKyKYVvQ2gOB8ByA5D43Zp13zpG2LwqDe6hNwef3ykpjaG8jtp0kTpl/vUAKQ/Nt54E+0zdI0UyIBZ2s06jp6SGQnjEL1ifBpdhPrSR3YeAYdN8Tc6jX4CjF97bYoaTvRhyLgUPOG8pk+foePm6quv1hN6Ad5rr72OPu+pp0brd4888rCOD9YC7reXecNxBqKbHETH28rmJzJ+SPoW+jQpFcn4hZx5NTL0W5nz23lty8C8mYf77Qz7PVY2s7KKFDd+Ri5ky8oStrLi7Q3bPrGf4fuw/VSPx97KQChrfzvKaEa2vfEaJmEGowHzU045RSdo7wmqV+/lWXa9sT+XTJ1se1mA+fsCzJ94Srx3j2p2lj322F1AGmBCxr2ubArPl0w1e/lTu2MsNVtmI+893zMPs6Dbm0U20AgGdPjJZ8whmnGrxTgkA0CNuquZ9adRWZQBgOF0awD5oYcequAGMDp69GgFPoA7gNfOO++shgheYMAEP/kbRxZlAE7wzO622256H+Bo8uRJGiOFJxQvIkYMwIk5FwcI1wOsANXXXHONnDFxr8psn332VY96OEU7Uy8qp77iFeawJupNgoZ75UyKyy67XGWMhx8POWNu+PBtBSTP1Xl9jnjQt9xyC/WUYmQ88sgj0l8D1POI4XTNNVcpMN9qq63F6NqkemgLYIr6/OlPf1JQC2iiTnhoAfDBkLhZ12icadSb8gFjONXw8KM3nOoNmBo6dBv9GXZV8Lb2yWbMnKEGzC233pJNmjhJDi7cXu/bbrtt1cAgzSa01vnvv6dy4o1sr5MYNIwGQCZG4iOPPqL9FTJ8TNVd/5133iXbU7JF4Xl+9JFHs+lixBxyyMGql7lOgktyoIms6SsALPKmjTwHUIsX2v/Eew21C240+m47Snl2oomqU9yH/DCavIMxUKgC2CeRBvW8/vob9Nrdd99Nr39q9FPZgw89qDsb1APDY8sth2iyDAw87t9666EqL4A9sicwG+MRLzc7FcOGbaPOVOqOHmFIoAv0F8B71KiREud3pX7P2o+e4yWHhka7MFrRT8rYZJONtd94LgbDfffdr8He06a9rnrB8xgrzAuMqTvvvEPKnay6f/jhR1Qz/iBn+pH6EDzOOOJeDCfPmMA4pk38/MQnPqFlI5feDMy7zDG3ic9bgWWTnZ/gi/hufhL1ZdjnRWDee1E6TsLG1w6DhneZl7/RBF5kLBTVsZly/PZtM9f35DXx1nLZs8u2oL1MinYVYt1odtHvSRm08qze3JettGPJXWvBW6EGpg/mCbJgM/2uOhHIL43joJZck3royd0xljpbZtmWfTynF60XRXOy3x63BbSxWGvz+Te+vv4V9eZ3X2c82GyjA3qIoQLYAvTw/PEda9QZZ5yhlA12AACCbNED1u20QjzhgBAMluOOO0633AGQi4STDnDBCwrQgdYCeAbEsuuw7rrr6XMAgXhe/ygxVYAljhvnmcOHD1NAA1AimwnUFsAXzkq8pgB8DATA1emnnZadeuqpCug23HAj9U4DAgHvzz77nHrrAULEc8E/h9Kwz757K6gECOElfe+9d6tCRX7QQHgGYBu6xpFHHqmgjrbhFQUEY5BAiyF1JsCOmDAAHFQf2gywQ4bUF3kGfdD/C9ier3K79tprxYP/VHb88cfJKcEfVYOB5+BhPfvss7NNpT9IAsG1GE140EdKjBrGB17UbeTadaQ+yMd2Lbj3tNNOFbA4XL3JnEaO9xVZGQ+75gTUiuuaduOpB1BjaP3qV7/S90UXXaRvAp958zsefrzzyAdg+8tf/jL7hZxebu9f/vLC7MILf6kZizi1kr6rToMig2CgLFJZAOpfeP4F1RWMBwyzTTcVPVx5JZXxDZKedHUBpJrdRvSUfkOPMF4AqoB5DIULL7xQvelQXDhTYp999hEwu6PqLzJ9++05agBgfNAfGIhXXHGF7pqQw/6cc87RXXOMS67HCKCe1AGAHgyLkOIQAw+dxSDiLBQOAjpYzrTA2DzwwANUF1cW/caIw0hA1/P+76P6yI4LBiDjAUPVryM8980339C+gDYFeMeTb3NK7vTtXY6eLgFzE0AR4Pb8nbLprxE4b2ZiNc95NbtDBYCHz8O7lpuVl+qNiWaela4plkAsx2b6PskySSCXAKssJ/aGf7xCAFM47rvZQ0SSRHu3BGyu9oDX1gBfc7vO5pF2OVPaKZ3A54Wu0UeBAW+AzhFHHKGPAfzhDQdM4KUDaLBGWUo+rgEoAMrw+AEYAUWnn366eiIBLQBdwA+vk08+SUEmYB4P9T/8wz/osfennvpRBVc8/yc/+Yley2E8Bx10YM26B3cXcMKhXfC0Ae9kNIMyMlFA2L//+7+rJx2ABug2jy+eauoG8IcWMWbMCwqg8WwC9gO4elR57QMHrpmtIW3KEzcEag3Anpd5e+FBwzOmfYBIwB3gO6S0e1nLB6ThbQWoQ5EAdA4evGE4sl6zsnCwUX8xFsaLt/WPyk1G9shvtdUDF55nBE5832wjMTSmvzVdk0CMG/eyAmLktvPOO2brDlpXAO+7yv3neuguIw4eobnTDYDjjbbYuKoeVYLTfQpXr9v0NwCdduJ9B9SbxxwjjjceY/QEGUDL4J7VVltVqSN2KM4KK6yoHvpADfVpBfPDldBH5AZIxiMMFxwASpumTn1def+7yC7CMcceI99vr17t88//cvadf/tO9rWvfU1BOEYJOy5PCkjeV4xL2o++2fij7ujQggXvqw6a0XbTTTdpXMSxxx6nXHbAcZD/Qu1TDAuu4aAwwH/Ifd9X++Jvf/ur7I4+kR0hnvCzzvq40tfshSxJobuCeM4JCh8sdeYVdgjC2yheyI82QZXxLz6HxsU443v6HDl21qnazjmkXlldBuY9VdGy59R4Vkxrq+407cbKe0nXdNl/fkwtWvZbnFrYNQlE0ZrVoVr5pZYyXPOo5DDvmuR7691FO3G9ra6eQ0zdAFws+tttt50CR8AcFAZAGZ5zQDkvcx5xvwE2AAyACIABoAHsAhwAQAB2wA2c2P33P6Aa0AZgA3wdcsghSmvh/rvvvkdBsHqKhZYAeOXz0UJj+PWvL1LaBnXDe0zwJ2DljjtuV4oAgB/vJs+F+wvoJRASjvZxxx2r92AYbL/9DuqxBcThiQfsTZo0RSgkt2o2EwI0N9L80PnAxdMJTQdgf+mll6oxAMgmwHD99dfLPv/5z2ff+ta39Bm0hfbioQVA8cJLD3hfZ9Da4j3fUUFzJukOecL89xYobQOKAp5ZvLWaSlGDT0MWFgPNCwVY410HJM8W7yry36cSyPmuePmnCnXFssSx67HH7nsq3Ydy3pPzUuBB01eDBZAC/jQbTeVfvLsDgGfnA5DJydj/8R//oelAf/CDkALUv7/61a+qAcJuAgGM//Iv/5J94xvflCPmv6Vy+fa3v61vvsPwQJZiEqpsvFMSuWEkrSKA3q5D5uNEfq+JAbDhhhvoTgweY+rbT+oPVehgyTuPftI2uOdQp4aLMbnzTjtLOzFY5ql3HGoL3nyMLOqKvNFzvPjsdqC7AHkDvTZmkRPUJXaR0GP0jD6hbujsqFFPZIPWHZQdfczRop+rVfrMnDOLpO+f1TpssOFgkVMA7ThbeVFndi9efnmsGrPoDIaEf0HHoV8ZX1BcLL95bzT2fb17HJh3xVKpubezOw+VsbokKRRdkUF3L1LxVnbZ8+I2eC9XHKS1LO9M9Oa+7G5daV/5FgxVGdR4heBOhtWnurh6z1T7np1KaocEunM+7Y3zh9UJEAaghHYBr5m5D68gIJnfASyAdvOucx+/48kDJAJuADPwwMkoAcDgGryp0AlWEnB45FFHKsC3rCWAPgAGdA8+wyP6qPCj8U5qIJ3wqS8XagFeYdIVA/K3FpB4xBGHKwjnfqgDgB6eDeWBANEqmK3sOsPxBewCmg877PBqggU49GRfAewQQPnsM08rRWeYtGEtqT85v0NO6sVV2g40GmgLF130a6nXn5TWQD0AwVBPAGybbEIWmx0U4AF+8TJDfcBrjsECgAS88ULGLwvguveeuxXMDxcPPqcHaxpH4XuH3fLw00AcsgbSD5Idg+OPP1FoEntka0vGEtqBgYL3Gn48hgHA09YxjBhkiMFCP5Hhpiz40wAfgJQdAuSCwQYohILk39B0aBPGCzoCQKd8PmOnxb8B+XipV1yRtJG1lK2w9vZT0I0espuxstBX4HS/CuVEMsrAk6fvLVMahhHXDBK+Pro0c+YspSsBvDE4xo8br7xsYgPwooeYghUVXGMQ4o3nWj4HZKP79JEFZvr5AGPx3HPPyc4880xtU0hv+JLSv/Do07Y99pSgTtFli2TlYCeycz0vmYzoQwyL9SoBmzZfMX6Iv8BwgMYCMEfmHnRjnNKv9Bf9UC/urVkabzvmy0ZltB2Ye+uxWZDXqJJF36u16hRUr7H9jTo50M3K7cwz0z25BLwSx/3gt6DLONjLAje7yLvX2y3xJanDzU58SmxhcZeFvTqkw1LvfHFeF8ta5f3qycfe3X0fzwNl3u96xmz977q7Ba2Xb+CTRR9ggBcPQISnDsAFYDAwYHMDoBKwAKABnOK5xAMO75xrAJoADrbf+Q6wBXiKX1wLDYJARbyCgFne70iQH+WTlWOttdZU0IvnG8C5pvyNtxhOM9dsuMGGyuMOIDQ8QcecgCG854A9vsf4wFNPG4cM2UrrA7XhiSefUE/tfuIV3Uo+HyABoeFAn/ACcMJNhuaAHIzTDp8aUMcLDjye4DXXHKhBiARccq1lQmHUH3rIoVoWtA7aDSiDMz5u/CvCVx+k962+2urVDCUBrIYAQzzeesq4AFTqB7+dOg2WtgMkZ0rwKDSL98WjjqFAXxiFA1m8JDsXGFrQgHYUWYR0fQgrtDM2HFtx1phDq1nN0+tdoKkBYAJv0TUAMhQpgCj9M3XqFJUtYHrjjTfSgF0CVfMdhZCZ5I03pqm8KW8DAcHvC10FPcZo4UVcBJ54DDWMRNsVQu/YWUHH0Pc4SBv5EexJ0O9ee+2phif3EpA6Yfyrahxsu+0wpRph+KA69NkCyeDyxrQ3VO7UHwM3cMPzPPnwyolhmDVrdjUA2g4hs7GG8QA4p270q+Wlj9fponV7Sa7lbQfmzSpYz13nPW4999Tl6Uk2udiEVKbQ8Zbf0ioj344isLmstLOn+8fHgujpb0zDdegsPV2/9LyelUBHx05nt0nbW2/vDQQAWdYYPgcoQ0EBDAAkAbR87ucJqBzQL0I6w/UVUOHJtGwbgKHx4ydoFg28nzsIhQTPeOzM4HpLZ0hAHsDj42edlX3ik5/QwE88lGef/SkJGD25mqcaTyRAmjrOFwMBTzbPZ7D5duHACsxQO2008IKhiQSDgDSE5D0fma0vmZPIhkHAqM79alCTijHkdwfY4zElIBB5vPTSGA04/elPf6pp7PDWcq2tI4AnyodbTqpDAOXh4u1fTY2T4JCj3Xhc2SXA076xADcAp39ZHdhFwOP9ocStAPJCACHxK3ICqTyXfN7UyTzCGAqUFbjwC8WIeUy8929pPfBoh36o1akiL7a1pyyOwvSCZ/jTRGNgn6+vzvfoDILQb+EgqHDgEzE6i3THhWw+pMzcd9/9NF1iXrYZFOFajDSuB8BCVWFXhDe7GZ/5zGc0oBNjxk7M5B6APDpMlhyy8cQv6kF9dBejsoOB7DAMn332efWWUx5edPRb5aFZZiSoV3aUJkjWGIxTxgjBt1CLvGuGccTOEi/GCQYJLxsn1JFxRtvQc/rOA/PevE63HZjH1mN7p8RUWm+RQJFXIJ5o6tW1Fa9Cb2mz1SMG4yzGNrn2trr2pvo0Alrm5aLO/fpZ0HZ+8FDY7er48oA+Wi57U/OXq7rUgLx4Z3MZlgSAgjzk/AQoGFjwwCt4+l5VKQBa2crnOmQGOMTTiacP7zCeSPuO671c+RvggneegDo87lsLzxsqBJ5uO93QH5XO7++8A+VlejZgpQEKetasAJpwNL28Fy2WbDABIAUwHrJo2ImSeNIBfHCS4dLvf8D+msZwlVUEOEk9jOMNaKZ+zI0Ap//8z//MfvSjH4mhcIqWCc3mn/7pn4Su8mw18NF2yJABgYzkvt5n732yXYQmsZKCt5CaUIGbeFMBedBwoJeEjXIuMAAbDCXA24QJryrohFpifcJJpe+++54aQQRObrrpRtkOO26vdByK4hRMDlK6T9JeUixBk6SMzF9dMxQ9gPT64YdHGZ7KP691PBpIx/jCcMKAgZs9ZMiWerJp0KHaAcguDyAXgxAjDQBOViD0EkCrvHbRBTvIEZ2gvlCM4H8TrKrcf3lxXYc6W7/I95Tx9uy5skMxXg6xmpOtJ3EGQ7eBgmSAWn/ReqNf6NBGG20s3P7BWnFdIyo50DF+LQc+FCH6l+/tMMuQ9jLk4Kff/YGH/gRT70jsuEYtmcmq7cB8yTSj7Kkp8LO7+iP23nivQOwxjyedom2kIs9zd9W9HeVSXzsdjcCeeyQXMBOFn8CW5FZYO9rYnWXk/W0pv4JnzrbBAQFFemS6FL5L47s7+yiVnUsgnu/KwBNAAk8uCzxb/lBR7MUcCZDB0wiVhK150gfaEeJ2lD30AILaoKH4wFEPym1sWL2MEsNPn0LP0y3wqmMQkF0FwKse1soR9AGIh9R7vMmGhMfRsnoAlAyQAYwJuBs/fpyAslU0gDBwezMFuLffflv2jBxq893vfleDH0kVyOd4quE6E9RIkCMUHSgkHLQEyPMvMtRgcCA/6CV9++J5zfRkUnKW4wUnOwheYIAb4BxvK3UPx73zO6dCztK5mXzsO++ys6b969dvheqj8PgC3N95Z55QaHZSALiiyBDP7DtyCisc9ylTXtO+HDZseDVdH5lq4Olj4DTzqrcW2Lkrcf/W07miZyJ/3WmUfgzGyATlpOMpRvbBrcGORu3dZrjxqR0axO+2W0K/G+BmzUNm6IXPGmQlemBrtJb589/LpgndCsoQdZwvB8hBs+L3lVcKhxfxMscM+sU4YhzwPHj/gwdLnIb0K0btnXfcJf3yvIJyDi6ibzAw8bpjXOAlJyB13LhXVO+oB/x9jF5AO+Vi9CEj2q6xByVbszEu6ak1fYkB8968jdDMQFuer4mVMx6MlnfWJprYy7OsyM5y97IdywRgOWZ7avAuK3I0kF3ZBdfFw1IkxvOE7cr4z+vPJeZR8j+XFcn17nYsy7unsWeNv9UbWPGG45W1UzA9aGGeANABbOD9GjfXgAllAEoBPfDFlWZSAS01z1SqyWLlepun8G05KdGDDD//4vkdPfpJpY7YwU14m5mz+GmeVqsrwJTPOPwGmgdASXnoFZCGR/8tST8IjWFHodDACadN1J32YVgAoMnTTlYVPODcjzECVYQsHYcffrg+jvvwgBt1hs8wXpAlgIvDxagLQB16Cx5ughfxANOWVeRET0CXzgNGUpYy4PJzLadg0hdkYcFzmsslZNShXMqhL1ZffQ31yFMWHldOtKYvqDNvAD/AFLkgA6PgdGUkFiVLqPZDDWDsOIfZDoMF2xqY5sRS+sB2CRRcVwJyi9ZvACtv/52VZWki+RtQSyYWZEMeegA/31taT3+POVEIKiUWASCsOlyhtawoO0LELfAOhkAI+Ecf0S3oVtQffjnxB1C7OG0WPUafCMoFiAO6iQnAqMDAQ+8A7Rgm6BBGI7ERPJsdFGIb0FF+N9nbGOtKP7bz3iUGzNvZiPKylh1+eWy59Yz88qfEz2cgMjjDcbuvaaAIkzzKzuITBs4b+j0DzS9OYRDmFIW4Ld0J5DtrAZd5L5AD27VMEFj3NsBjj5afaBNwz7fkTa5wSlmcg07Nyt6QQyHQG7ZYCW7D28Lf5FjOsz7U16N6Y6TReEqOg56eYXr38zwojsey6QpAEKAHAAEMABYs8JP7mSMAdIACwAaHqRBU5/nj6DteWgAf3mKoBEW6qAaqgFCewTWUgReQZ3C9T13LHPyEePEpd8GChbqlD02BMqaIx5H5O5z3ETKZAL7xRpMbnDIZkwp8lSscaCRkwuBzvJVbCVUCry+gHMoIdVlNPNmsB4AuwLudtIjsKAOaDfdSLr8HjnEYz4zzV155WQEfYBjuOr/jBZ0hJ28CBmk3Ow3cM1eydyD7uI8myimgDz7woAK0ww47VDzve2vbg9GPYRNOPuXESeqw2267O5CYafug6tA2uPHIGZDObge7o3ijqYvlOq+nwbGRamuAUYXiNa8rRq3xv9khwbBBx3KdDQ5zTwoEkNN+DEF0BR20Ndu83qxzgF0MI/SbfoUbTj+EXYew45HrashVP00CONF5pZRU9GvVVVfWemFQQUvpL3EL1XVTdFoNMNHXV6XfCBxlHKAf7FxAf6I/wBk8l9YQW4HBx98YdBgP4STdsaqDtMsCVhkD4BN02AKqTfa9aV1eYsC8K4rXu6fwZbt2KC8AlC08OGAcO/3Xv/5VD6HgMxSenKd4KdhCZFvXKB5lgDv2PvW0BMtAt1+Aw++11AkWBSaJauBKxbuRdLv5HkT2eKGY7FkE0SmOAId3yuLAhI5u3S+TOws/h6Ew2Vqf2ZHUzT8xLB7NvroE0Cvq0lljsNk6put6XgLe8DYKSgjaHF/JiDJfAQ7eYD7nd4AlIAXAd/zxx+shOgAK8yyi7wBegCRAFjABeCjUV5l7MFABSJtttrkAxy3kYJgnld9u8zDP4fmPPz4ye/iRhyXrRT89ERIQdtCIg9SLSIDdvffep3P0u0LdAODOmRM48H/5y836fOPnaspH+cccjyeS+Y/TQWkD6QaffHK0er05uRHQDHCDusIbcMi6AcCz3NjQWABoIWd2fjAMoGu2ZNrAqOFz5tOJE19VULix0FbgmxM0SMApciJtIvQFsq8QzImRj1PoEWkzgZu77rqLHDx0RjVA0ehy1GeCeNRnyLplwYGWkpKpfqEYMbST9lmWFsApa1tIazhMn98MMI811PqUNtLPtNOe7eeLZp1UYc0JaxR9iKeffsKoqZ6GWY3QIdI3rxGeZvoLgIu+sGZjrNEPlm+fdpM+EdBMvABgGblisLwl8QYPCA7AOYdMkQdUFf7GOz1ZvPebbLxpNkR0gPiENddcQ4ygXVUP54jxgOebHRn4/jhk8K4z35Nfnlzq4aCkmbo2sAaw2wLwJosO8uN0U+o5WvQPUE655E6nrsiCa3mzlnA6Lt+T2hGDsR6NxYyFJYFP+snpYd/p+WktPbGrEmh2wHb1OfH9PJeJFfDESXPkyiUFluZ5FZBqW5qALDwLeCSYdJjcLetAkfep3fXsbHnlcq0Fc1wHoGQi41QzJmpy364rC4Z6JCqBKjFIT6C9tmdYhJiUOXyE46sx8u6//wGdVOEfEoD1qoCHhx56MHheJGczPFAWG+XCirDDwS1dC8RqNJ4afd+qvrW7vFafn67vugQ8OKc/MS7hSzM3AggAxgA75kvmwt/+9rfqLeZ0xHPPPbcG1PE513Mvjg245WTFAARZdhM/dxh4w9sJR5e0czYPh0wYmQJ8xtOtt96mhwMdffRROg8DjgFUzF0c+INzZSUJBAV4s/uHIUw7qDvZOKCS6BhTiseHSnkAqDG3s4NFjm6OmIdLTE50gBNgCqAJwMMLi2cZcMRYh9rCusF4PvXUUzVbCyCJF3LgWugI6smuZKv5zW9/o3U4VDzfw+VUS66hLRye84QYPDxjsBwtj1wmSgq9a6+9VsvfTNr5ve99T4GnUTUCfaGvAMrpcpT8lcqX31PyaJ9+xmnhdFbx2iLr9wQYsq5hUOG5x7i699571TNLbndoRlwHrabZ8Wx9aLxu5ASFhiBgO7ioSDObKZ9rzLi7+OKLdU5Eh8g9bq+itReZYYBh5AHoAdOAdfNC8/cf//hHLYJ4AmIDeLH7gJ4DljH8eDYyQV8xusinf8edd4hcz9DdCE7vZM1ExqTtfFHugwfO4U/ECLDbcsvf/pY9Jbs0GAUAe+oEVQVHzZ133iXG2EHapnAg0tPadwR+Is8/yyFaGI4nnnSiGm54z9E1jCcMQKNVkXUGYG4ytUDQ3rQ295FOad591PW5LJXQCQmYR8YPzrKBat3ZzEBupSp+EcIqZlLHO8TWnm2dmoIzadriAFDHG8HEa3Vqd9060w5/D/WP61Y8LMImoC2KyIEJiHRSLLbHHnusLlL+MJG4rXm55uGo9eB2TjbF6bs6ysWGetdAbCvyrnetycJSe7Hw4e3ibxZ8Th/EK2heDUDBWnIgiKWXQ84xP7OZuhX1bXk/hRJb7ZdG06ovL76W7+rdH3/fat2akVG6pr4EfP8YcIa/zemOnJ749a9/XcEjOh3404sVZAPC8B7DnbV5xIL/ADlstQOwoZqQk5prASEePPjdouAgCEGaeJQBUYBUrgdY8RyCJ8maQuaMnEcMjWOiGgx4SAFBAGe+txR23Mfv0E1MxwxQckDM3XfflY0UbzzZXQBPAHLyucOvp44YJFBhQgDlFAW0jFcDSoBlDp8xfrAHjaRhvPHGGxXYrysnQ9KOI488SuVCu8K1fRXYwXlmpwAP6mqSyxxQB2ikLmSqAVR7YGr0EQJIb5ZdAXJ977jTDrKDcZTMNwRHUnY/NSKY3y+77DINDqXelAUwpR4h7WLHPOZFmlM0nvnMgg/tVFgLtIzLKJqffJkmO3QNgwlHB2CUXQU84TEu8HOI9Sn9RV9xqBAGGnVBJ/AwUwbypP2AZdNBdA0O+WOPPSq7Fi9LtRer7LmHdZ+AWw634h5yp4d0l4FHjhGKro8dO0b7jfpibG07XA4Ckuvvv/8+BdMYDRuI0cUODAddoQuMiYcffkROfv2z7KZM0gOIdtt1t2z3PXbXNRidxVC+6qqr1HBAvqwb9B1toV2Gq3y6094ylyZg3otXIA+Gi8BjM1U3RYsHcTP3Fl1jEwmg1LatuM4DpPhUNAssKQI4PTUQyoCOn7DKwFIMhOweJgcm7s9+9rPVrekAzC1lVJi0i59diZBnKqtDgWmm35oBmqEv2wfMy+RZ1N6iPvb387vpkk34qisYQZUDJWzxQJfwxJnhZxzIIl0trksoudGrCCzbPfW+K7umM88zA6/Rvb3B4G1Ux2XxewNWtA2gASD//ve/r7s9eCwBtdBYAEvoqWVpAVjavRZYZwAbLzW0EoBDzFE38GVjJDYOeBZecu5nPAEcAUkAYMpjXrZ7QuaSRQqWqS/b/DaHA3ygKkB18fM67TTaDSkXoa9AvZk3d162paTjo308xwNsDBNAP297BnUCtCEfo7AYJ97GLA6flwXoQW1grHMd7cDRY+sL9yB3QD8gzIA/ZeAIAkTyDK6vdZbgMQ+BgNyLp58MOIMHr1+RD/NDSAk4n7z0svsLAMUzHoJRt6oaK/HcVrae1TO0dWauOIdanT/92sHv9CkAG6cZgBY5x4dTxZjAyqC9ZhzSXxgm6BCyZIeFfosPy2LpmjuXk1Nf08N+oFGxg2N9jE5wT4gfqI0tQjegKIWdlw/U6UKQLu9wou1UDQAN34XDuqCtWF9iWOExN+oXu0zspKKDvIwXj47SFnQacI88LMOQYRcfBNob5qoEzHtDLxTUIQblCicCiawl7127gbkNfurhqSk2uVhT/ARTD1z2BmAexBqCn8pBV76xZMCbgc+k8JnPfFZP1jv66GPEWt+uOsmadyAGoUUysn4t8oz464vU1U/OPaXO7Qbmtpg3U38DJvF4KOq7jp+Fvu7Kq53A3BbkenUvGsNxn3dmbuiKDJa3e4v03eZCgCNgGCoWeboBkL/+9a+rAZZmPPo53eTnASPfG3j24NvmWS/zeE7xwM5ANzqhJyEWpMhj7ooDD+2ZNhfZToCBFm+IWF34DCPAsqKYF9I8v3Yvn1vWKryndkKjBcybx9jm4Hj943sfXO/nSXuWGffmCOIaM+j5XcE/hxBV5vvQztCS0PZAjQuvkDjC5qVFcmooL3MImLzjcVBvPasHzn15za6JcXlmNHnDKK6nLzu+319rjjeur3eMvdcDno9BZXFX6ITJtrZNIV++fWbOvjhVI9/73Ok6DjTbY+gk61/qyu/m+Y7bTBnosufw+37rjXNnAua9dIXxkySKawPFBl9RtcsWDz94YiUsUko/iOJJopESW71tgvZ1KrrXL0Blk1wzda5Op00YLzagmagZzHYamJVhMqZuWNrWFvveJgty/2Ltf/n8L2eHHX5YdphyQofrhG7tsoWGiQHvA9Z6bNBYuVxji4/vM1sQYzBWNtGXfV7Wr2Xytcmv0eJjzyvTzSJAUqS/RfWrp5/1FpmyYe31rZ5HupnFsV59Y30sq0+98eT73cvQqA+e3mB91Uy9e+mU16ur5efjGDQyh8DN5TRLKARnyemb//iP/6jeVV7WT/G4tLkh1pV4ToSywbTmry8CVZ4GEQBmoEoU7SoV6a5vI3f7++zZfl6L1xUvF7vXA/V4PvH6bR5zP8faZ1wXAiz9oWO1jipf96J5gc/USDCjvOLBLToLIcjOsn4H+qLPB180xgzg1zP6i+blsjms1XEcr7t+XjHHU5H86w26emu3/w66oYJh+Rcbc+VzdKBfxjLxOtfM871e+jkwvrdo7PXmCScB817aO16RLD0V3lm8DkVp+WiGASMPkGzy89a0LezmMfE/qxOYjGZ/nYmp6DPvUQG0sh3GNiGD1DwW/DQQbMDULGXuMavWL1JF9bS6+u+os00A/vN4QTKZ2hYongAWT4ta9wsNdWf7Eq4jW8S29cVzyLEawPmHGv1/+eWXS5DRZhLAs6NGnpOGC44026yk1AplzdKT4zhQhO3VsPDBuQteG8qz1JO+HnxO//O26H9rK+moiHLXJbi6eOUHQ9iiaH1q/eT72xY/81h5z5W/3uoUbznbs62e/PSGjPV/4I0Hr5N/+YnbL84ryMEnOe+S4E7xdlVOIbTfrX6m+1YXXSScTtjzzMClX3gjUy8br3tWdtkiXyTTeBxxDanA+LlIA1XzXRffBrsvXoyRF4Yh9TRjkJ9weNmmZ7vY2lnU3l46tS2V1YqBufWleVAJZgSYw6nmYJ3jjjtOubBhfOfzky+nCDD7sR+DC9MPD4DzcVmbGthULQeMtalFi/SlCAj5zmoG3Ng1vq5+3m3U+YV1cFFwIRd3BQiqwZLL1svO5F57mk6+I2o0uerz+lS8sBUvOTxzf/x7Xl6jFpR/30h+jeTf6MkxOA9zWHVWq+piLCdrW5FxY5/5udbm2bg+/n6+i++pfW4wGgOfP5d1vTHRlT7oqmwbyb7d3ydg3m6Jtqk8r0hE6xNYRGCPT4oPcLHjZ1FoA2ceDHtg5IGyAfZ4MNvffsE3sMvWlG03GdDCC2z3mMeX6zxYN6DkgQti8sAcoGT1iycwKz8e+NYGvBQAVO9JtOcjHwO0fGbyAuDAWdtjjz00QCierPie1EsEcxFYRBnm+YIjynHZLBBwQp9//jkNSCJAhUMXwqmVeZ0+kKhzghqJaP/MZz6tfL3wygNAaT98OniqGF/2POprXgGbmAJgZWs35Ie3NGQGiE2u1kdFC7mfXOM+9xOq9Z1NtPQtW4LUV71xbA3Li2dxiiBv8isHoyQEjSkwrQBzv5Ni9TIdzfs5LLzB6ZcHtno9sP6yPkUveVv/2ramH46mX8iPutHHJlv1j8l/fsfC9CucJhhOEvRvL1cvp2qmYMmKwOeAc8aJ7cyYkRwDeSvPgw1bqLiH+jL+4f5ybDbBhAr+KzoS60mbpqJUjKphfu6C6QXzMlk7yFByww03VFMhnnDCCRpzwrwCx1dPXawgpGYBQjwHelDiv6tu6xugrPRWrkvWffVoeuGaRnWL6xQbkr6MVtsbP9+3159Uae0tGivWUv9dI2DulVsPVQoPVsBYe29+ZVG7Gw2Sev0Z17um7Y0Kdt/7+aisjn6O8EXb57XzWO3Di5wUjapXT0ea0ae4/O6SfaN29PT3CZj3tMSbeF48wFiQCZzBO2vb77Z4x569GMQ287dNimUAznsHPVCgLsYVzEFM8IzHAaA22Vi9/ULnwU48Qfs6eQDnJxK8Q6SGsrr5ycc83bGHknKhleAxJ7ilZrGrRMsTTIQxhNxtiy7ct4Yc2yzATniHHH7zm99cJFkJttLsB1tvPVQP8egnYMwMFI4SxmOKIUCAyuqrr8bsX0NpoY8JnCFoJ+aIeln6fvc7JH5HxPe53z3xso31wowX30/87r3fBgKpj3lwq/0pYFyBeeX0ONsh8ROp1SUGtKFevCuAHPlzCEgFlNv18U6QfW4At2i3pIPnTp5DPekbG0u+72PDwfS6pm567HX+Lho/9lzaAehXw6F/4PvGMi0DJZTBfTE4JzsEgUwEB3pvewLmTUyunbzE9zdyxoAjcBBPOcCcccuOF9cRqEjmBwPn7HB0x6sM2Pi5NU8j2jiuojNAqdl2NVN20TW1IDs8rfg6/aZanXze8UnnymUQe8cDMM9fitUr2xDdBQ67Ur7V1MumrJ5lz4nlamXWa2/ZPbaOxPUqAve+PsVAPpTid3+K2hs/s+yasuua1eWeuC4B856QcovP8BNrK5ZvmTXc4uMLJz9fhh+M5qn3C1cRDaDZOlBOmZXtwWc8wD3Ys4EXT1J2j783/t2Xw/M8jcAWhRVXHCCHdfRVcPqqRJWff/6XJH/v3rp9veuuu+uJZ/36Bu8xKf/sKORA4QkeYJ7rueZ+98Bk6g2ieJLsADh14uq4rVskd+Ofej2L5Vc20cfP9X97T7vVxX9fXJfQ31ancE0IDqqtg3E981J8/a3PAxDp6B30emVGmq+Pl52XRfwMu8cAd9CJUOeiRTEA+sBY5SjqeIzGAD+Wkff8x9danb0etWNxb3asLk/XxbJn7BPwSbo3DGrbfUEmgHaMJlIBkkbQn3rZGVBXJudmgDk6p2OjiYDnZsBzXJdmgKDNm/F4q1eWjedm9bl2/mgtQYLNOXl9QOGVv1xwqH3f2T5sJKtm21pv3NU+I/R8mZybBdzNtree/tQzBsqAeTP62JlrTLd68/yVgHkv7J1Y2RoNaD9h+GuLgUKRVyEXQvzsosm0CPAWgYb43nrt8GCoCDjHXGV438ZnxjtNiiZyoTKjcpw0p4gBqgEtlA2fPFBQcg9kvckiDN7iic0mOyL1OczivC98Tg5x2Dc79rjjJZfqHhWPqAVsVab9ihc+gKlQbsyni3cEiibE2LjwHl5KjcvssCDXZCHomL/dgGOjCa+ejhZNfLFe1mubGS+mP+HeYNBAHQqp4OTYb+lv314DqqaLtffnhkv8vaexsEtCOeymQEEw+Yb61uaer9+G2okl1rUig6Xe2KM0X29vSMQy6IVT2lJfJT+/+Z0bH9gZ9481OjZYu0cYYV53YQwdHtMIYPnsLY2ujcdW0Zj3FWg0n5TJpBWw2sw62dV6NGpn9/Rt86UWzSHN9mVZfzV7fzPyj1tSrz+a6av4mUX3NFNO8xLumSsTMO8ZObf9KY1BZUBgrUxsba9kGws0gAQw4xAETsfjEAQCTeFxHnHEEXL4wGFKpSAAi8MvXnjhxeqR1hwLDccbCkCjyaFRteGPh4BNjnR+VYD5Z4Xze4B4zI8Xj3kA5jnHPpRWtA3X6DmNFiv7vmzi9It0O5/f2Xo3d5/3lOdUGvQY0Ax1AArB8OHDpM+P1AC7nMKkki59TNULL5ewk+HHB9ztcePGy4EUVwrNZUB2+OGH6wEveOD511diGIrkXAamO4D/gt2MGJyXlRV72eNxXWTINifrdFWrEjDj2e6z4M+4HLuOvikLgmv12fWv7zowb299emdpSyNIa1WSy0Mbu7o2tirTnr4+RG6lV6+UgC3u3pPaKyvaQ5VCHnChyVRB4BXH7d599z0KxA2cIKsQoLiSALnZ2TXXXKOBWS/KIRGeR921KgcPri66ADaNfs+zIgQqilwhNOkl8Qp87SXx5PyZ3sMYg1QDlo08xFYabSGYdNSokXKE9uXZRRddpKfTkaLO87UbtdiMkyLo/trk17IbRU84evrCCy/Uo8w5QEVBf2N6buGjDZQ1C8zMCx7/pPD4s67QxRrJKX1fLgG/UxHrMfpslLT2zTWpN5IEepcE/Nzeu2q27NQmAfOlpC9jb533thUNlCIwlAOdWj5smQh6wwCMAR6UFLJRnHnmx/QUrwEDVlRaA0fymueUk8PIWnHM0UdrFgsOtCBFoR3D6wFhkXehTNY1cgrYXF+aZ1iypPDTFmtjwShc18Ch/O0BZ2MQbQ8q94jV375uxltf+4xYH+rpUjuure2PsMuDdzs8N69/fwmeJLAWwywE2Fq6SePW5/njy+pcRk+Ci4v+UDa7MCG4NeeqVsuLDB6jJlFueFc4vSV8fw+wi/q+SPeKALuB9Ri0LyXT2VJdTW9wxQ2xvvKGUzxXd0/jjWqVH4pTZOB1z7PzUuP5urue19nnLAmZdJcMysrtyTY261zpKRn0ZNu7s00JmHendLtQtld4v9h3ocgOt9YD9J0ZcN0J5E0GpOoDeO+4404SYLWOgm3+Bpib03rgmpLneeNNhOLCZxyFvbkeFw3HvN6rWS5dFViDzavBqjk1IvfiatRf4SvIN34327vFhTYG+WV1KTIaarOOFN1ZD7DHnkUzWJrRq1pDIyBhKANktTn00EOyE088MTvwwAM1baDRPOJy63vsfdvC72TO2HnnncWYOzY7QVLd7bzTTqpbZhxYV1kgrz3Pvvc/ixcH48nXPjvOJBGPoWbk1azWpOu6LoF6C39slDW7U9L1WqUSkgSSBJYlCSRgvpT0ZgwaW12wy0BzLcAo5j/4Z3cVfNcDTPVASfBSGbd7kaaPhGuMFxXQvdZaayrQDR7qPtms2bOzZ4Tq8O677wig20TBu3lYfZf7hbaZz6vXVLCxeknJAiIe3g8riFKDw3zyXa1T/i4GuWWKaBQZ88QqxI0uxh3vP3Lu/Dr63awnvAxkW9Fxv3l9KTR2qjsNuYERG6Ie5PAdfbfVVltln/vc57N//dd/zT75yU9qPnjLYGPA3xsA3BenaLTvAz0sB8lk0TjwoAOzb37zm9m3v/3t7HDhr5OTvlovTdTQMUVi7fMCd6mjN89OuQsSKxsD9T4v1Y6lJ3hgKZlpG1ezbAejpfmj8WOavqLZcdx0gV24sFXnRmcfVTQndbasdF9rElhWvNKttbpnr07AvGfl3fTTmlH+RhOyX+iLuLgelHuQ1XQlO3lhq0ZFXrfwG9lQCAB97bVJ4tVcPdtSTtvU7CtZAEYA5Xnz5soBQS/rwTCbbrpZ9bTNdiwcVa5yhbpAphcyw9hhO+bF7aR4On1bznLvdBG96sbYIAQac+IlKeh87nm/SMdjwoNzjBc1oPQNMOdk2gC2+Zt+3GbY0GzoNkPV0LPc+BxeFfo0B9UG+PU4amcVxYZuKJs3z+Kgovw03LwuZkCEOlnO9DgHfRHw61UdlipTEwsQi2N5AZNlzo7uUI/lRabdIbtUZu+VQALmvbdvampWBMINUPhTFS1Q1OfFtsNgAqjNgYH3JloZ/DRwkQcyfVA9udEOv/Hl+3t4BvfbdfY86uBP9gynhC5QLq997usQAIoBqHDiYpBBCATklMw5c+Zm6w9eP9t8i83lqXJke4XXO3/++wLapwh4f14PEMKjbsdjd6a7Y0PC2s7nHIv+5S9/WXOYQ7XgFU7m7GTEYJ0Kxhkh7FIAnsq7wFNf5IU1uRY9qhgMIve8D+oBRt//Xm7+mR0O86hUJPa8mzFph+hw2qkvx4B7DfjGMKtkwsjvq5xOKvJBRt5bDtWJcu1QLAw58tDHhmzI6NLxYCGMMd5mjPlAbfqE1J3oOOYixlvQjXBKLwdUoedmAFhdciMgZKVpZIB3RqfTPcuGBDrv5CinqnXc8em8rJLudl526c7WJdBO3W396e27o9935NW+4lJJPSUBD9JY6MntPGPGjGzu3LlV758BFILZOASDN8DAjvD24MM8D4Beypk6daqCPfMGF4E5K9+ezQmZs4VCQsAlmVF4lgdxNmjsPsAKwXbkJOcnn9tJoqQi/OCDRRGHOERRzpAT9i699NLsdanjnnvukR1x+GECvAdWvFV9Jdf1XMng8UR2881/URrLCSccr17WDjm+O0kDoB0mL+qL95Y3HPb8lM48X3kzOlHPkx8vvvPmzVPDZPTo0Spr8m3zBjzPmDEzGzv2JUn9N05OLH1TH73aasKtr3h7DTiT1WbMmJeyCRMmiPzf1jzv9BkimTZtmmSxGaO7EvRLOE6+v4JLe1FfACfpK3nWE088oTpD+5GDydovzCYznj1p0iQ9MXHy5Ml6UAvXe53hOVzP86EscS0nK66yyqqVetbSYKxs9I3yqM9TTz2VTZw4UfPZc8hLfwHGQc6A7HDAE/J68cUXsrEvjdVMP+RG798/gGejKYVc8OEePuMZ6DnHsSM/5PXee/NVhpY+L/SZHZ70ocjmde2ziRMnVeS5gl7L2IGW9eSTT6osqB91xUtv/R57Bdux69OMTqZrli4JdFYvGt3X6PtmpNSOMpp5TromScBLYGnVu5THfCnR4yKvrXrdBBzNnj1LUsdB7XhNQS7eYY6H32KLLRQAvfTSS7roAzwAD+T0hq/LISoGMskRzbHSAA3AFqAcQIYXeOjQoZr/m89ykLBYwYiVTU5xQCLfE6BJ+dwHYOVlXkJ+UmdAFukOASUYA9wDoKPOAB0MDLzde+21pwKxAIqCATJ27MvZueeco+Wce+6nsk9/5lwX2NlXgOKE7PLLr8h+/vOfZqeddmr2hS+cl22//fYhy4aBS5dBI5Zto8FcPc1RPfRVqFqoSR5cdUbVDOAFQJ1pPyJz0j/S33h7OXV0m2220X4DLCJbfn///QUql6MlO80WwsdeSfqePnrjjWnZ448/rnKeNu0NNYZ23XUXzd0NyH7++ecU0AJaMQIItNx333012NIAM/0GcOd5gGfbIYGrTdYcAinRH3vRDgxE+tx0jL608tZee23tI/SGOtMH6CQAe+zYsXov6S/Rh913311jBoJMAmGd51Mn5EL51Bv9QHcYD+xs7CjHpA+W+9A1vnv99WnZI488kpEqcZaMITzX++9/gBp73KOxA+Eplef00bFGfTAU5s17R3PZ0w7AOvn0kRNjJRiY4qEXD/wTo0Zlr0iOdPrr7bdnZxtttLEai2QLeuWVV1SO9BcGCLs7++23n8hvFwXnRbSARvrZGT1L9yy9EujqHLP0tjzVPElg2ZRA8pgvZf3qvWf8jufuySefyO688y4F4aMEBJDXG0ACSHr44YcVhAFY+Hn77bcrOAcAkEIQQAEAGjlyZHbbbbcpUOFvPgekAQR5AZjtKHO+e/vtOVrmTTfelI2U/NKACoA/oJB7+BtgBoAKwDqAc0AMntUHHnhAclJfIYcAvSD3zNJ2AFK47+abb84efuRhBUN7771X1UPK/Xg/uY57N95ko+yQQw7OdpIMGubJRCZ8f9999wqAHZN9/ONnKeDDE0p5ygOvBGyWZUxpBHwsLV6tw70+daVRmfXUMBhPfVW+Dz30kPYVQBVgSL7tGdPf0iBX+isExPbPPhA6xngBqBwZToAsgZIDB66huyEPPvig9jXUCg7VQX/w5G699VaaF55yoAnRT1deeaU+lx0HdMD05d5779VDnvBKAzDh+QP68eID+LkWcGsec4AnfU2/cQ96gGcYw2L+/ADYuX/QoEFqzAG08SLfddddCv7RoTvuuF3rhIFAewyYI1sMQ9p13XXXqQy4BoCMDrJThBxWXDHsbpBtZe7ceVL23aLvjyqdBB2kTQBn9Akgz8sHiM4VmTzz7DMqO7zfeNbJl48xTE71++67T+9D53kGbUQWf5JDkTACMGCef/6F7J577tZUn9Tr0Ucf1ViIwULJol+RHzLeeeeddJxqKs7guq++mzlefSmb1lJ1uyCBeEelC0WlW5MEkgR6gQQSMO8FndBKFQzgmbccQHDJJZdkQ4ZslZ199tkKhgDnLPJ49XjjYdx77731M8A03kI8k4ADPNPXX3999pOf/ETB8Uc+8pHsS1/6UnbkkUfK6YrDFXBw33bbb5etvc7a2QoCbgAi999/f/bDH/5Qyz/mmGOyc8SDfcopp+jpm3hLATmAEsDRRhttVAXmGA8c+vO9731PweXnPve57LzzztOTOzEWaMtjjz2WDZDc5HgOD9h/vwqdJeTnnT37bfWi/vnP16n3dMSIg9Wrr7xv4QEDvJ9+6mkFdLMFDH7qU2dLwODG6iUF2QAEjZJQJPfmALTPlFI/5NKysXT2lJqw6AZwBogDmAP6vvKVr6pskTNGDsbQLrvsollLDpYTTg8acZCmkHzyidHZTTfdKOklxVssHl2MlUsu+YPIdn/NbLKO9Omrr06Qcu5RuQLCTzrppOyAAw4QEPl8FShSNp5wDCP6j77HK3zGGWdkX/ziF/XZ++yzjxp17LwASncQDzVyB5DSHz/4wQ8U0H7qU5/SZ6NjePt5FuCbk1p5UVcMCA76AZyeeeaZei26SB3RE4wtDBAzFm+55RY5tfMqBbv//d//rd5/qzM7LxxIhEGATADtr4jxceEvLswOPezw7PTTTxPAPkgPMHr55bG6Q4BskTugPVCyFmd3iFF7+WWXK/D/+7//e0nbeJJce4C2G0Pkb3/7m+40bLTxRtlWYuTQBihXb745XWIQjtF+wXDFSMDwGT36CdnFGJB99jOfkV2NY/UZjDWu2X33PdRwzk81DSeQJlDeymyZrk0SSBJIElj6JJCCP5eCPisK8AGoTRBA9ZzQDqABHC+5l8nbzdY52/gAZkA4QPmoo46qZrMwesiQIUOUi4vH9ec//7l6+QBMlAPFBUAAMCC/M57MWeJR/FDKfke8tHhKf/e736kX83vf+74COcAOfwPI8FwCgqgDz+BFeXDQAUhXX321Pu/f//3fFVjj2QeAAeABUxgX64rndFPJwAE4qmYClF9mC/B7+ulnKtlWNpU6rqsUD0tVSOAewOl1NQo2EJC0YbbyKngeu7+jux7oFB8mlJ8kCGAGgONlBszyYtcCoIyRdfLJJwvY/YTowlrV4Ns11hiYbS10IrzAAN/HHntUwTZ6ctxxx6t3mv6cNXO2AnIMJYyrPfbYXWlEHNI0YsQI2XX4uPYLRtw999yT/fSnP9W+Ouuss5QmA0DnFQJ6Fyo1yeIXAOXsgHCiJkD13/7t31Qn0Vk7xRVAe+2118ruzkNizL2uz+EzyoWSRfvwiKNPyBiwb0GUjAMoIuwMoV+AZHSLzykfQxAdx/vOTsp0qQNUlNtvuz0bIuXuuuvOonuriCd+moJ6nhnAcJ5yEjB85x13ZFeLQULA5t+f//fZttttq9cSaIzRBZA/9phj1UB6avRT2YTxE9TgYSfg4INHiCGxg4yj+Qq6kfMDD9yv8j/+uBPEqN66GvuB4YjhTL/6cd/ZIL/u1/r0hCSBJIEkgSSBdkogAfN2SrMHyjLwB1h+QbbFJ746sQpGyACBlxowDGgAWJnnjTRzAKxvfetbAr4+qt5Tgv8AyoAyABj8WAATYBh+Mt5ZPIDrr7e+glw8lIE2c4eCGEDZLrvsrADewBnADCoN9QCcGY0FsMFWP55T6s69PA9PpXmpjarC3wB9vJCAHuPBS3EC7mZlY8TgIE3iFltuodQBsnxQ5/7i2XxDONOvvDJO2jRPeNdDFfxAYVD6ikPn1fN9eIJ6pe30yOY6sXkQ3nwSQzsgyNLyWeAsMoVXDmDFW7zNNsMUvCm/W/oOI2u33XYXWa6ncjBLBo4y8ufal19+RQymhxTE7i+7EOuvv54AaIyYqUoPAewecsgh4q3eUQ0j3uxYfOMb38hOPfVUBZ54wv8stAy84uxwsAuDUYUsoKrgtWa3BiMLII++YKDdeuutqpPcQ5/TZ5ZT3rjn6ARGIOXRTsoBkEOhAWADyqHYoMcYBaZv9Bb3Yoyic1xHG5EZfWpxC9tuO1wNmsFicFAXeOj777+/tguD4WWJW2DHiGfSdmg+3E85GLhXXHlFNl2Mg1133U3euyp9x3PAoczgKQdQYyCwMwEop3z0MLRrnvLgSfe5pegusth+h+1kF4rAWjE65fmAduS28srw83vAmmxO3dNVSQJJAkkCSQI9JIEEzHtI0F15TBG9As8wLzybUFUABgCCiRNf1cWdwEs85Ztttqku9ICePfbYI/voRz+qHFo8fYBsABBUEMAdYAmvIp7LG2+8Mbvzrju1XLb21xNwDmCCyw744Xo8nxaoZ+0DMAFuDj30UAU+gCiAIQD/zjvv1HsBl1ATMAI0/3glvSLlA5j4bGM5uRNQYygTTI33lTSIEwSQ8gzqTcaRxYLYdZNfQCne8smS3xzQtN1222WrrBwyhCg87mac0yq4b04nwn4BQYZQQ4YNG64gD6802UTel5/wrZEHLwIOw6uPgsQ333xDKRIAVwDz0KHbKIinn956KwBUAh8p4ygxltAny5BC32HcoUsAVIIU8drT54BrKE14ouFcY+BheAWP/j56jxljwUs/WHdjuM8Cgel3dJPAVTz1p59+ehXQQ7Pabbfd9D6ANHqKt5k+pd9NbyiDHR7bseG6Sy+9TCk4GAvIivHxmc9+Vukzw4cPU/rOTjvtqAB7VcnyQkYWuOPUa99995bvB1UpJOjkXXfflT3+2OPZumKA4sFnLNHXHdIxkrJS3sga/j/1OkgOLaINyA8jaLwYF7T5oINGaPvWWlMMG6HLwLOfMGG8plfEwFpTPjd97R69ak770lVJAkkCSQJJAj0rgQTMe1benX6a9+ryO8AT8KJHk2+0iS72FnQJcAIUwwk24AyQwXsKqACUTZo0UcEL3k/AEoAWbjfAC682XnGew2mIh8gx6JSP1/Whhx5WoAdAIeAvgIeQFo4XnkSoLeeff76CLUAUAJHAU0AcYA1wBcg0r6l5Jo2uALjbWLyP1awxlTR1ZMR4VQyPGTOmq2d38PqDNbAxbPOH5+MtxZtPO+HI4/lUr3vkfdSruwDUuwqWzOPuPe+x5z7INPQ1hyQdLLQfZE5zQ7pDAhD7q/GDB5zDbipbA3qQDsB0/PhxypMmneR+++0rBtERCmIBldA8Jk2epL9jtNEn9J+KJpINXnUANnqy5sA1VdfgQ5u+sLtCvx177LFqEKJ39Ce8eIAqukr5sZFJ/dFTYg0+8YlPqNFI35122mnKI0dn8dRb+drvAnTtxa4CBh7ee7z0GAvQrOB2UzfqwK4JXPgjjjhcjUKMhpNPPkkNv/ffXyhe/aezV0S3NxUjFi/2GgNX1+LRVbzwBEzPFxoKbcCDH+QTdljoG7K5cC2edwA44BxK0T777Cvl7aftIbgUo3fSpMmqt/vuu496/ymDnaA3pZ542VdccYA+I+xchU5INJZOT5vpxiSBJIEkgaVOAgmYL3VdFioMgAJ4EmjZv8LxZZscryIg7eCDRyhQisGeHQYEwAIoAGzwtBMASgYOtt/xmuJZ/4d/+IfsuGOPU68jHnZyg/MMMltsvfVQBfg+ONG8iNwPqAKUA6zw7mIEsFWP5x3vLmBF0xdWAM5CueZNqcdkAYqAmpDNZUAlD3oAqARzwkFevHiReOy3EPC3mn5u3vLFi/tkEwVs8hzAGACnX788pWF4XgV0dgGU95TKKDCruPrXkz4FSAJ4AX+0EWCtfHyhA0FFIQaANsJTXiA7KrNnz6lSigDvW2yxpfTt4CoNBCMGw2zQoHXUkBsonHR/xL1vJ/3OrgfGFMCY52MAoYfsjmCIffWrX1VKFH1rh0DhkWfXBRCKoUWbYqCJTvId+oq+4NlHh/jb0mpCjwo7BsM0+NUfvEOZeOnR2R122FFTGv72t7/J/uu//kupN+g3QcGLFgXK0+qrr6E8+xWFQvLaa5PV4Jgvnuo998TY3ErrAD2KHRrqj0GJB5tdIvTKKEcmH+OzI0sAOjQU6s8uBAAb42O6ZM7hWR+K7u62+24yBrbWvqQdCxYs1OdMEmOHvtxO+Ourr07GGjq/GmHRU2qXnpMkkCSQJJAksAQlkID5EhR+5x7tAwQrizbBj4syAdrj1TsJgAgZMcKBMeZ1M88yHmw8oIArvIwE5P3sZz/TrBmAcQAOQGdtAeR4WwGClqZw3rx3dasfznnRy2gp5jkEdEEHAPDzvC3klE5AO6/8xEPJWS3ZVsjFzqFCG220YeCOV07+tMwUU6dOycYJfxwQCiUD8KLGgIBFcRFn84TDO1UMDsARZZCCLtRHTnvk7U6v7Jzse/YuPSEToF3pROrPr++9FwDjlCmv6c7ChhtupODXDCNiF8lVjgcWjy9gErkHQEuZ5JJfJH3ytHp58aDjMQ8HT5EBhmkht1yQIR5ygDlG2Wc/91nJDf8FzcRDFh9APXQUyw9uQaAEWQJuMSgA5jUZRiptMkPR7yD40zOhPkGhwSDgWZSTG4ThkCDjkpP15Ac/+J/sm9/8pgZbci+ZXf75n/9ZUzViLPCyU2WR7WOyk0MQ9SYix4PFqMDYM54+YwnjBf3dXDzt6BMe8vjkU0sfykmzC4Tvzo4C4B+KlaJ4eWHYUBaxEUceebjIMU/HSH72W2+5LXtbxgByhG4T6hlOuk2vJIEkgSSBJIHlRwIJmC9VfW2rdJ4xAgC1SMAzXsFx415RsItHet1B61aAkHcNSzrByrY7PHQABZ49gDzePQAa3lC8fKsJ6OW0R8AUGU+gCJDzGoDO6YtGeQhBlbkQPVWB322LH4AICANw88yqJ7/i8eb0yRckyI5rNpHTOteVbCu8ANXU9d1331Nj4s233lAO7uabb6Z14HqC/96Va6aJDMYLT5dgT7zl1FPTSi4MxsUiAaP+VaWReHH2Fn1QZ7kYHRaU6gAaQNEO3YGaEQJoa8E0sQaAUeSzxx54aIcI6FwlgMosnBDKjknQlyG6u2Gv6q5C5QPkxDMBquyebDNsG6XPANLpT7zdFuRr3nA7HZP+x6uPTvEyXrZ5zq0P6GOAswX6hr5fpAGf9Dv6STAq3nh0EJoOHnvoPFBXCDzFCMDoI1vMt7/9baVSUS+475dffrkaKzwf+hPPp4wnnhil/G7oVaRpJDf5fKkL7UVnCbBFd3iu6Tz14mWgGVoRRgtBohvK4UFDBVyTWlS7jDEguxcEab/15ltCpdlcd7nwlvPdwkoAbuDnryqgfBvdLSKmgDERDop6v5oPXvtPAXtC7L1lqKZ6JAkkCSQJtFMCCZi3U5rdWFYAMPkDcm7yYgUOL0lWCfXICYDYeujWkukhnJZZ+wo0AvMi850dI27eaYIH8SiqV1G+h0owUcAJXr35ctIndQC8hKPHKQtPdCjTvOUAmgkTuCccVASgA7zgUQXYAeTwBgK6FThLlgo4uHCJOQSHvONrrbWmAhLS2D0mgXd4iAGbs2bNzLYUGgvgnvIwSJ595jnxqr4ggXXj9W/KsGBWcpvjyeRgFzz2Mce5G7usbtFxzEB8cTVjdSWpSwDL4dM5kiaRLC0YIGT3WGutAHotg82777ynbeYNLejYY49RT7NRnsgKQio/6EzQWKBEYcTYYToV/ky1Sjmfup96q1deaeWq9zsAVPoynAprcQLQbCxloulWwKl59hv7Hd0gRzn14R4N1pXr6C8MEH5SR4wHdgYom3zm0KNIhQif/Nprr9NdGYA4fU9ufdJ/ks+csghQxWtNXSwv+WShlowZ86IC7u2E5w7Nh2dj0DwtuwkYBBgWvDBUQy788NK8+dJmynvjjTeVbw/wJ0vR8OES21ExCnn2HIKaZQxh3A4ZsmUIVNXdrD46NtgFwkjCoIbiAoWHzx9++BH9HCOhJiahRLP8NUtKr9NzkwSSBJIEkgS6JoEEzLsmvyV0dx4UhvcMAAuwATxvKN62reSwoQpOU66sfwEoCIgE1AFQDFyEg1rCEeS2Vf+2cJQBO6NHP6mUCoAL9BjAigEW7v9Qs1F8oGAeLjpA+rnnnlWaRAiQ41AfATcCOPCeYgxUaSVSMLm0p0i2FYAZlAu8sVAKAGQAHt4ANLySeFUDB3cNLZM0dwQGkiIRrvA7AmgA7YB7gCYeRw5DGi25pfGo+lcVJFbA7xLqzPLH1thVAdAid3JxQ9NAnsjKgmSt0zn+feTjASjuueeeEvR4pBpExsWH0/yCyIrc9FBhhoohB/A3qlMRh9pSKIYTR+dVQbfRTng2ABsuOAGfGEh41AHKGHd4tw3QGmBH59AfgDBAm3usT/iO/sZjTr3whKM3tJ9+RicwRAnwxGtOkCv3q6En1wCiycZCCkiMEnSRXZfw7D6qRy9JNhZiFojJIN87xibZVMiJ/qLUiVc1Sw2509UYDf1gIJgy8ZSTl5xrCcYOaT7DOOJa9HqStIWxCPimv/pJHADd+7Z4xTnsCNnhtScbETQjjAiCsPmJ4W1jMsiH0peCIIleN6BShZIEkgSSBHq/BBIw7/19VFjD6la2rNLvz1+o4IQFHG8cQMTydvuTAg14AZYAahxTzwmERiHQm6Ag4xXvt4IAoGcF9D6oad62FE8f2TMIbJs7d46+A0gJVBfzgM+bN1eOTr9DQRCeSJ4FjYGte7ydACa8rhgU9iIjxdiXXxIAN0M5thsM3ki8shz6MlXAyZ2aSQNACMgmu8j2AmAwLtTbOGFcNkOA33AJCsSImCcAB4AE71rBl+RqBxitJM/12TyWjm4PIJDARfOYz1Xes6SMlB2EVUSmgDwoR6YPBLveJRl1OFWSw5fggW+yyWaV7DSB179w4QL1pr/z3jsKngmE9BQSk4336pteAbChdxi9wgAjfQpg5iRS5A2QBhhTP9IdsovCK9+ZCf1PH3K4EJ+jkz4/ObsCgG3oMoBWDDw88njM0SuoLZSPnhErQfpDXoB6wDllch3XkHHF8pOzy2P5yQHEpBRl5wFKCykoNXd/JQ2pcePJF0+AsvH4eQ47RwBnDEN48KeffkY2QnjqyDQYAKGNY6Udr4sBsPbaa1baAZUm7Arw/GBQfKhcfPSbcfCC1EO57ULhsXgLT1/x9LGi/lo69DvVMkkgSSBJIEkglkAC5r1MJ1rdjgZgAJZefOF5BQp43AAG/uTC2oU70wA2qAEcugKg4KROvJoAH7yGgBqODb/uuusUTB99NOnvVpGj0+VAlg02FG/ri3IC5L16kiEAfgXh7PLCOPjDH/6gHkiAFFxwXgALjl0HKAN6oLgEOkw/BXPwf6+//gYFVGsJ9QIw9azklb7vvnu1Thx7zovguIESWLfddtvr5/CKp742NdtBQOB665FX+20FdgA82gGwo2wyeZBOD29/4AcHUnnsGe5lqlCtjtcJPL8AU7zhkyZOUu80hhNGEnIlh/f1N9wgHuBtsi9+8UvZfhKY2VfAel/p834ib9r/1lszslHCrdZ88WLEsRNiOxs51SfstehbBIW+AIQJIOUUT2Rrh/iws0Ee8yuuuEL50SeccILqIIYcHmtAPKfFcgIoz6dvLFMP/WPpPQGhHnyiB5bmE3DNc6666irVT/qTZ0FZoW4EuK40QAJg5R/l84YGgmcd8HuO0FrYXeBlBmoIdu0TdnAESHOi7EUX/UaNw2233U4NSktJymFcT0taRU5RNaoN+n755ZepLD71qXOyc849V+oRQHkwaggUXayxEyFt43pKVWH8AcSr/SrXw3vHUCawd+TIx7P777tf007SRuppz+ytOprqlSSQJJAkkCTQHgn0+4682lNUKqXdEijiQ5unjAWf76FncBLmDQLGNpOASFLXDRdAxMKfe8trt70NjEBnwZMJlQBwDzUASgwewJdfHiveOk4n3E8DKQEOA9dcQ7bg+0rawtl6GArp37jnpbEv6QmPABXKPvTQwzTfNoCHvwEWgC+uxZuKhxBvIPdAffhQ0tiROxrPKk57gBdlvvvOu0rDgLqCxxzqAZlZ8NoDhqBzQBsgKwjZLsjJTb2gyeCJhc6BNxV6AbxjA2LBW0lvBbkUeR/b3ZedKy/fVQhgr2/2vHDp75dAweeff04P/xmw0oqaMQW+NXnokQt5uo+VNJec8AlgDRkXg4f2PdEXgng57Gno1lvpaZwAaDvpMqdK5IIBTGOgEQAJQKaf6UPkzy4F4Jd+BSCTBxy6BgYSbzuMB8OP66krOka/E1PACx54CNZdpYaDzv08B920w6cA2XjHCaCEyoMBQN0wWF4UvjjBv9yDwQIlhfFBhiFALgcLkUrS2ki/jx8/QXRlrtafnQAMD4wJjAR2d6jTBmKMkjt/iuzgQK1BxrSZ3Pwc9AVdiPztW4ouriBjKtDCgs8D4/WOO27XepD7H3kPGBCCT8W3r3EW8+a+o3Un4HOcUHLelCBR+PSHHHJo9RAu89TbnFA0N3ROx9JdSQJJAkkCSQK9SQIJmPem3ojq4hffKh86wKyKxy1TryWghRMDObSE7fxBlVSDgVNcS6C2cgDNeATZ3sfTCnDgJ3QRQCCAd7/99lcPn6Xi0/zMcvohwZU8FwoKQG+mZPjAK4pnnOfvuONOAmgIEKxQMQSk8B3PDKdRvqnPA/Dh3d55553UC26eSwAZHHLoEAceeJB60KmDBRnibeVe6rj77nsoDQHgCVAD1GsKPZESoApqAR5QvuPlDzUK9JDepQDeYxyMhty7TxtHPj4qu1e8qQDRCy74sgI4+gJKEm3bZpthapxxsiVANLwCL5kdAjLUzJe+on/2228fuW5n7RsPVvPgz2AYoA/sbqwhec41iLTiaea5yJu+wRgAAEM70jzglVSXlA2FSDnu0K7k2fQfdbV89wBt0zGv8/SZ0Z8s1zkHEJEKVA0OKY9r+J0XOmVpOhkT6BM7Nxgw4VClfCxwL7oP+KYufId3ml0hZKhZU+QVcrBvrM+hTUrjqtC/aBP6Tru33HJIBZAHT3lV3gK2iaHAWNlzrz01+FP3IfCoy78VVlhRPeUYybypD3qNgeNl7WlFCZT3rjGbapMkkCSQJNBOCfSRxSbl3WqnRHuoLA26rGSGAOzOFpoHdBMARUhdR2rEkJOahbyom+l5gBKBc3gCyRoBAAFE4GGmHA8CjIfM8/Aw4jnldz6HH8t96wlwt+vsuZaxIwTcvaT0FUAUAIt7ADgAPLb79Wh0qTOc4C3EYw+4wqtIe/C6wq3Ga46nFABlJyRaQCHtoG684A7j9ff1MU9mD3VTy4+xfoJIktsMcPgDQP7VhRdlv//DJdJv72U33XSDgNt1NfUhfUdmFdLxQZUIQb2BtqTQXHSAXZY8RzjZT9jNAJQSnOueVp0RDJija+zQBM87/YgXGyOOcgHfBo6tHwzQB9Ab7uF6S5sJKOYePNSmHwY+qzKQBnAf/Y4hQl9zj8YoVKYt7uUZXIcMoLugWwBqdJHnaMpPkZ3VzfSSz9mJwVAE0FN2MCDyVIg8Jxy6lOkhQegWBizlImuMVJ7vdSzIMsgavWaMUQbjCXkbhQWPOeAcrzu7ULNmzdB4ATLpYARxLztVZTQW3RHrZYZlywqfbkgSSBJIEkgSqJFAAuZLqULkACuAJ7yYFohnoAUQBTAr8rCZRzP3xNcKAlAQMrj0qwIPD2yKAK55tO3QF0r0wX7+c3ta+D6AyJCCMX/FfHvbzu/YZYYkjZoSftr9ZW3sjV3vgTlCMYBOG2bOnJP9x398X2lLu+66c/briy4MwFDpGXm4iAe69ek6AWwHjFsrOy8by9utMpV/4XkeyIdMKF4nDPxaezy9IwemtX0dA/MifattW7jf9N4/wz/fA31tqfK/8/r73618a4uNM9M9f60ZOkgF+dsOkT3b7jW9z8ecz4AjRrMYPf36h/utPWQ5ok/MsCnS1QTMe+MITnVKEkgSSBLomgRS8GfX5LfE7vZb21TCgDS/G0Cxhb5eJT2YNyCRA6L80BqeF0B+Ldg2r7158ItAsIEaf23w6BIAF9LXUVc+01M6Kxlb7D6e60FLR+9/udtw6d/2D7QHvKt4a6dJFhDaBIefYMfgzQ255+1lYE77ogq5O6+quT6Joafe9Y4vC1C0a/O+C4Zd3A+x/nqvsH3nnxu3zf4OehmClouMRauHL8ueVaSrHtzbWKJso0dVrBh9PIc/5WA8AH7/st0qCzYOOw5mAIXdLNu14HPLI88lpGYsa1PnezLdmSSQJJAkkCTQ2yWQgHlv76E69fPgpgiANAKl3gvovZgeVBnYMVBhZcbXezBFlXMAknuvYyBkJKrwuffs22FKgRsdf5974fVJFQnVUjEoOwZ/vb2rawyOyoFN5LQmkBW6xUOSPWfc+FcEGy6STDj9JdvIPD0C/oMPgjHjPcwBlFdI9AoGw99VL6t+FPLW86rHaPN6VGZ4FX1uelDvO68rcf+UPcuXG/9eC4yDZzx+19ar9ql1DYigjPkN8iu0q9hTHy4IuhvGT34PQLzWeJHrqrEYoXgF7G48lI7jRGPp7UM61S9JIEkgSaBlCSQqS8si6x03BFCbn7hZC2ICKKj3ioFYOe3DygoQLqQYLA5LKAJSno5Sz1DgO19uvWtDmR54+/pQTgUaLWXAxbefzDLsILwh+a9HjXpCUiROlmwsD2RPPf2Ufr77brtnRxx5uKQN3Eu5zsQWeEOrQ9/XiCj/Q5MiVv+spXj4MnJ6VH2hxrrRyDi0Z5SVX1ReZ59RNh7iZ5fpYat6lQ+TIOB4TC5ebN7zULO8HgHYp1eSQJJAkkCSwPIngeQxX8r73IOxAIKaW9DLvO0dPYYmoIrXVbfvg5fQnlcPEHpPul3naQW+HvHncdd4L7ynEORZRHKg08gw6Y3dHnum4R7PlNM5SSv5yCOPKL+b7DUEzS4S6sqoUaM0mLKaiabS6JibH1Che7vG52SX+npT5vUu6qPO7FQ0Kt9/X+QBr9efhfJoQgGKxkIremUO9vIdg45gvYlqpUuSBJIEkgSSBJZhCSSP+TLcua00rVlvtS+z2XuavS6ub+19AV12tqxWZLEkr83bt1g946T943RJuPeWFx56C8GBGDKc7klucfjInhpUNafqIkmjDOUtbtbDvSRl1OqzW9WZZncHWq1Huj5JIEkgSSBJIEmgkQQSMG8koeXk+1bBC2Jp9p5mr0vA3Ms00JQA5HjE1Syp8KU97QhwHoJy882v2PNersIJmBfJJgHz5WTSS81MEkgSSBLohRJIwLwXdkpPVqmIL95bvabt5hb3pJybfVbcxsClD4Dd94td50FkUeBivedanEK4ppbv3Gx9l/brPG+8swZksQxq4x6Wdjml+icJJAkkCSQJ9IwEEse8Z+S81Dylt4JyL8BGfOSlRtgFFa3XtgAcawNvrb9iUNlcPy7Zs8U6y/1uf/+G3YnOvTr2SefKSXclCSQJJAkkCSQJiJtMFqTOrkhJfkkCbZHA8uAJb1ZQXha5N9zsZ3K+h5dRV7jG0iSSa5tXR26+3tGhCrVy7z6PeVn/ttdDXdu8ZukoZdNfR8Om9hAre1r+nGrPNNvV6bokgSSBJIEkgSSBDhJIHvOkFEkCvVQClsUmr17gkns+eTicKWTJ6cqr+Xw+XXlKujdJIEkgSSBJIEkgSaCeBLq2mifZJgkkCSQJJAkkCSQJJAkkCSQJJAm0RQKJytIWMaZCuiKBRGXJpdcuekczVA5PYmslP3dX+ro33lsbBBtq2BxHvze2JtUpSSBJIEkgSWBplkAC5ktz7y0jdU/AfBnpyNSMJIEkgSSBJIEkgSSBLkkgUVm6JL50czslsCxnW2mHnHpPFpN2tCaVkSSQJJAkkCSQJJAkEEsgecyTTiQJ9HIJ1EuclCgXvbzzUvWSBJIEkgSSBJIEWpBA8pi3IKx0aZJAkkCSQJJAkkCSQJJAkkCSQHdJIAHz7pJsKjdJIEkgSSBJIEkgSSBJIEkgSaAFCSRg3oKw0qVJAr1FAomP31t6ItUjSSBJIEkgSSBJoH0SSBzz9skylZQkkCSQJJAkkCSQJJAkkCSQJNBpCSSPeadFl25MEkgSSBJIEkgSSBJIEkgSSBJonwQSMG+fLFNJSQJJAkkCSQJJAkkCSQJJAkkCnZZAAuadFl26MUkgSSBJIEkgSSBJIEkgSSBJoH0SWOo55inHc/uUIZWUJJAkkCSQJJAkkCSQJJAksOQksFR7zOuB8iUn0vTkJIEkgSSBJIEkgSSBJIEkgSSB1iWwVAPz1pub7kgSSBJIEkgSSBJIEkgSSBJIEuidEljqqSy9U6ypVkkCSQJJAkkCSQJJAkkCSQJJAq1JIHnMW5NXujpJIEkgSSBJIEkgSSBJIEkgSaBbJJCAebeINRWaJJAkkCSQJJAkkCSQJJAkkCTQmgQSMG9NXunqJIEkgSSBJIEkgSSBJIEkgSSBbpHA/wcB3Yj88qY4EAAAAABJRU5ErkJggg==)"
      ],
      "metadata": {
        "id": "D93SnHQnUjsX"
      }
    },
    {
      "cell_type": "code",
      "source": [
        "from sklearn.metrics import f1_score\n",
        "f1 = f1_score(y_test, pred)\n",
        "print('F1 스코어 : {0:.4f}'. format(f1))\n"
      ],
      "metadata": {
        "colab": {
          "base_uri": "https://localhost:8080/"
        },
        "id": "xE5ZeeVHUawC",
        "outputId": "7e47b0e5-f7ed-4972-d9cb-847365049d95"
      },
      "execution_count": 78,
      "outputs": [
        {
          "output_type": "stream",
          "name": "stdout",
          "text": [
            "F1 스코어 : 0.7353\n"
          ]
        }
      ]
    },
    {
      "cell_type": "code",
      "source": [
        "def get_clf_eval(y_test, pred) :\n",
        "    confusion = confusion_matrix(y_test, pred)\n",
        "    accuracy = accuracy_score(y_test, pred)\n",
        "    precision = precision_score(y_test, pred)\n",
        "    recall = recall_score(y_test, pred)\n",
        "    # F1 스커오 추가\n",
        "    f1 = f1_score(y_test, pred)\n",
        "    print('오차 행렬')\n",
        "    print(confusion)\n",
        "    # f1 score print 추가\n",
        "    print('정확도: {0:.4f}, 정밀도: {1:.4f}, 재현율:{2:.4f}, F1:{3:.4f}'. format(accuracy, precision, recall, f1))\n",
        "\n",
        "thresholds = [0.4, 0.45, 0.50, 0.55, 0.60]\n",
        "pred_proba = lr_clf.predict_proba(X_test)\n",
        "get_eval_by_threshold(y_test, pred_proba[:,1].reshape(-1,1), thresholds)"
      ],
      "metadata": {
        "colab": {
          "base_uri": "https://localhost:8080/"
        },
        "id": "dsUvhqpcUir6",
        "outputId": "20ccc66a-2ad7-498e-b3eb-c2cc3161cba0"
      },
      "execution_count": 79,
      "outputs": [
        {
          "output_type": "stream",
          "name": "stdout",
          "text": [
            "임곗값: 0.4\n",
            "오차 행렬\n",
            "[[85 25]\n",
            " [14 55]]\n",
            "정확도: 0.7821, 정밀도: 0.6875, 재현율:0.7971, F1:0.7383\n",
            "임곗값: 0.45\n",
            "오차 행렬\n",
            "[[91 19]\n",
            " [16 53]]\n",
            "정확도: 0.8045, 정밀도: 0.7361, 재현율:0.7681, F1:0.7518\n",
            "임곗값: 0.5\n",
            "오차 행렬\n",
            "[[93 17]\n",
            " [19 50]]\n",
            "정확도: 0.7989, 정밀도: 0.7463, 재현율:0.7246, F1:0.7353\n",
            "임곗값: 0.55\n",
            "오차 행렬\n",
            "[[97 13]\n",
            " [21 48]]\n",
            "정확도: 0.8101, 정밀도: 0.7869, 재현율:0.6957, F1:0.7385\n",
            "임곗값: 0.6\n",
            "오차 행렬\n",
            "[[100  10]\n",
            " [ 25  44]]\n",
            "정확도: 0.8045, 정밀도: 0.8148, 재현율:0.6377, F1:0.7154\n"
          ]
        }
      ]
    },
    {
      "cell_type": "markdown",
      "source": [
        "##5. ROC곡선과 AUC\n",
        "\n",
        "ROC곡선과 이에 기반한 AUC스코어는 이진 분류의 예측 성능 측정에서 중요하게 사용되는 지표\n",
        "\n"
      ],
      "metadata": {
        "id": "_VtrVteKVEQr"
      }
    },
    {
      "cell_type": "code",
      "source": [
        "from sklearn.metrics import roc_curve\n",
        "\n",
        "# 레이블 값이 1일 때의 예측 확률을 추출\n",
        "pred_proba_class1 = lr_clf.predict_proba(X_test)[:, 1]\n",
        "\n",
        "fprs, tprs, thresholds  = roc_curve(y_test, pred_proba_class1)\n",
        "\n",
        "# 반환된 임곗값 배열에서 샘플로 데이터를 추출하되, 임곗값을 5 step으로 추출\n",
        "# thresholds[0] 은 max(예측확률)+1로 임의 설정됨. 이를 제외하기 위해 np.arange는 1부터 시작\n",
        "thr_index = np.arange(1, thresholds.shape[0], 5)\n",
        "print('샘플 추출을 위한 임곗값 배열의 index:', thr_index)\n",
        "print('샘플 index로 추출한 임곗값:', np.round(thresholds[thr_index],2))\n",
        "\n",
        "# 5 step 단위로 추출된 임곗값에 따른 FPR, TPR 값\n",
        "print('샘플 임곗값별 FPR:', np.round(fprs[thr_index], 3))\n",
        "print('샘플 임곗값별 TPR:', np.round(tprs[thr_index], 3))"
      ],
      "metadata": {
        "colab": {
          "base_uri": "https://localhost:8080/"
        },
        "id": "bc29oD7FVBVt",
        "outputId": "897731b6-a46a-4fa3-80c7-43b19050cc45"
      },
      "execution_count": 80,
      "outputs": [
        {
          "output_type": "stream",
          "name": "stdout",
          "text": [
            "샘플 추출을 위한 임곗값 배열의 index: [ 1  6 11 16 21 26 31 36 41 46]\n",
            "샘플 index로 추출한 임곗값: [0.96 0.75 0.66 0.6  0.58 0.47 0.41 0.24 0.16 0.12]\n",
            "샘플 임곗값별 FPR: [0.    0.027 0.064 0.082 0.109 0.155 0.227 0.336 0.5   0.691]\n",
            "샘플 임곗값별 TPR: [0.014 0.493 0.536 0.638 0.667 0.754 0.797 0.884 0.913 0.957]\n"
          ]
        }
      ]
    },
    {
      "cell_type": "code",
      "source": [
        "def roc_curve_plot(y_test, pred_proba_c1) :\n",
        "    # 임곗값에 따른 FPR, TPR 값을 반환 받음\n",
        "    fprs, tprs, thresholds = roc_curve(y_test, pred_proba_c1)\n",
        "    # Rco 곡선을 그래프 곡선으로 그림\n",
        "    plt.plot(fprs, tprs, label = 'ROC')\n",
        "    # 가운데 대각선 직선을 그림\n",
        "    plt.plot([0,1], [0,1], 'k--', label = 'Random')\n",
        "\n",
        "    # FPR X축의 Scale을 0.1 단위로 변경, X,Y축 명 설정 등\n",
        "    start, end = plt.xlim()\n",
        "    plt.xlim(0,1) ; plt.ylim(0,1)\n",
        "    plt.xlabel('FPR(1-Specificity)'); plt.ylabel('TPR(Recall)')\n",
        "    plt.legend()\n",
        "\n",
        "roc_curve_plot(y_test, pred_proba[:,1])"
      ],
      "metadata": {
        "colab": {
          "base_uri": "https://localhost:8080/",
          "height": 455
        },
        "id": "d_GY6_4OVcAp",
        "outputId": "1ad7d9e9-31b6-46ec-db89-d12180c714d3"
      },
      "execution_count": 81,
      "outputs": [
        {
          "output_type": "display_data",
          "data": {
            "text/plain": [
              "<Figure size 640x480 with 1 Axes>"
            ],
            "image/png": "[encoded data removed]"
          },
          "metadata": {}
        }
      ]
    },
    {
      "cell_type": "code",
      "source": [
        "from sklearn.metrics import roc_auc_score\n",
        "\n",
        "pred_proba = lr_clf.predict_proba(X_test)[:,1]\n",
        "roc_score = roc_auc_score(y_test, pred_proba)\n",
        "print('ROC AUC 값: {0:.4f}'. format(roc_score))"
      ],
      "metadata": {
        "colab": {
          "base_uri": "https://localhost:8080/"
        },
        "id": "bd3L2cI1Vfu5",
        "outputId": "239aae1d-bedb-498d-d89c-f96828f5b379"
      },
      "execution_count": 82,
      "outputs": [
        {
          "output_type": "stream",
          "name": "stdout",
          "text": [
            "ROC AUC 값: 0.8692\n"
          ]
        }
      ]
    },
    {
      "cell_type": "code",
      "source": [
        "def get_clf_eval(y_test, pred = None, pred_proba = None) :\n",
        "    confusion = confusion_matrix(y_test, pred)\n",
        "    accuracy = accuracy_score(y_test, pred)\n",
        "    precision = precision_score (y_test, pred)\n",
        "    recall = recall_score(y_test, pred)\n",
        "    f1 = f1_score(y_test, pred)\n",
        "    # ROC-AUC 추가\n",
        "    roc_auc = roc_auc_score(y_test, pred_proba)\n",
        "    print('오차 행렬')\n",
        "    print(confusion)\n",
        "    # ROC-AUC print 추가\n",
        "    print('정확도: {0: .4f}, 정밀도: {1:.4f}, 재현율: {2:.4f},\\ F1: {3:.4f}, AUC:{4:.4f}'. format(accuracy, precision, recall, f1, roc_auc))\n",
        ""
      ],
      "metadata": {
        "id": "drE8R38KVjBX"
      },
      "execution_count": 83,
      "outputs": []
    },
    {
      "cell_type": "markdown",
      "source": [
        "##6. 피마 인디언 당뇨병 예측\n"
      ],
      "metadata": {
        "id": "lv-nZffVVoUt"
      }
    },
    {
      "cell_type": "code",
      "source": [
        "import numpy as np\n",
        "import pandas as pd\n",
        "import matplotlib.pyplot as plt\n",
        "%matplotlib inline\n",
        "\n",
        "from sklearn.model_selection import train_test_split\n",
        "from sklearn.metrics import accuracy_score, precision_score, recall_score, roc_auc_score\n",
        "from sklearn.metrics import f1_score, confusion_matrix, precision_recall_curve, roc_curve\n",
        "from sklearn.preprocessing import StandardScaler\n",
        "\n",
        "\n",
        ""
      ],
      "metadata": {
        "id": "jKqbbQ58Vl4s"
      },
      "execution_count": 85,
      "outputs": []
    },
    {
      "cell_type": "code",
      "source": [
        "from google.colab import files\n",
        "uploaded = files.upload()\n",
        "diabetes_df = pd.read_csv('diabetes.csv')\n",
        "\n",
        "print(diabetes_df['Outcome'].value_counts())\n",
        "diabetes_df.head()"
      ],
      "metadata": {
        "colab": {
          "base_uri": "https://localhost:8080/",
          "height": 358
        },
        "id": "LbL_PwFJWy_2",
        "outputId": "cf40a6f7-ab76-4669-fc72-af8965d4c1e4"
      },
      "execution_count": 91,
      "outputs": [
        {
          "output_type": "display_data",
          "data": {
            "text/plain": [
              "<IPython.core.display.HTML object>"
            ],
            "text/html": [
              "\n",
              "     <input type=\"file\" id=\"files-2e9531eb-8f0f-4100-bfd9-1afa920da94f\" name=\"files[]\" multiple disabled\n",
              "        style=\"border:none\" />\n",
              "     <output id=\"result-2e9531eb-8f0f-4100-bfd9-1afa920da94f\">\n",
              "      Upload widget is only available when the cell has been executed in the\n",
              "      current browser session. Please rerun this cell to enable.\n",
              "      </output>\n",
              "      <script>// Copyright 2017 Google LLC\n",
              "//\n",
              "// Licensed under the Apache License, Version 2.0 (the \"License\");\n",
              "// you may not use this file except in compliance with the License.\n",
              "// You may obtain a copy of the License at\n",
              "//\n",
              "//      http://www.apache.org/licenses/LICENSE-2.0\n",
              "//\n",
              "// Unless required by applicable law or agreed to in writing, software\n",
              "// distributed under the License is distributed on an \"AS IS\" BASIS,\n",
              "// WITHOUT WARRANTIES OR CONDITIONS OF ANY KIND, either express or implied.\n",
              "// See the License for the specific language governing permissions and\n",
              "// limitations under the License.\n",
              "\n",
              "/**\n",
              " * @fileoverview Helpers for google.colab Python module.\n",
              " */\n",
              "(function(scope) {\n",
              "function span(text, styleAttributes = {}) {\n",
              "  const element = document.createElement('span');\n",
              "  element.textContent = text;\n",
              "  for (const key of Object.keys(styleAttributes)) {\n",
              "    element.style[key] = styleAttributes[key];\n",
              "  }\n",
              "  return element;\n",
              "}\n",
              "\n",
              "// Max number of bytes which will be uploaded at a time.\n",
              "const MAX_PAYLOAD_SIZE = 100 * 1024;\n",
              "\n",
              "function _uploadFiles(inputId, outputId) {\n",
              "  const steps = uploadFilesStep(inputId, outputId);\n",
              "  const outputElement = document.getElementById(outputId);\n",
              "  // Cache steps on the outputElement to make it available for the next call\n",
              "  // to uploadFilesContinue from Python.\n",
              "  outputElement.steps = steps;\n",
              "\n",
              "  return _uploadFilesContinue(outputId);\n",
              "}\n",
              "\n",
              "// This is roughly an async generator (not supported in the browser yet),\n",
              "// where there are multiple asynchronous steps and the Python side is going\n",
              "// to poll for completion of each step.\n",
              "// This uses a Promise to block the python side on completion of each step,\n",
              "// then passes the result of the previous step as the input to the next step.\n",
              "function _uploadFilesContinue(outputId) {\n",
              "  const outputElement = document.getElementById(outputId);\n",
              "  const steps = outputElement.steps;\n",
              "\n",
              "  const next = steps.next(outputElement.lastPromiseValue);\n",
              "  return Promise.resolve(next.value.promise).then((value) => {\n",
              "    // Cache the last promise value to make it available to the next\n",
              "    // step of the generator.\n",
              "    outputElement.lastPromiseValue = value;\n",
              "    return next.value.response;\n",
              "  });\n",
              "}\n",
              "\n",
              "/**\n",
              " * Generator function which is called between each async step of the upload\n",
              " * process.\n",
              " * @param {string} inputId Element ID of the input file picker element.\n",
              " * @param {string} outputId Element ID of the output display.\n",
              " * @return {!Iterable<!Object>} Iterable of next steps.\n",
              " */\n",
              "function* uploadFilesStep(inputId, outputId) {\n",
              "  const inputElement = document.getElementById(inputId);\n",
              "  inputElement.disabled = false;\n",
              "\n",
              "  const outputElement = document.getElementById(outputId);\n",
              "  outputElement.innerHTML = '';\n",
              "\n",
              "  const pickedPromise = new Promise((resolve) => {\n",
              "    inputElement.addEventListener('change', (e) => {\n",
              "      resolve(e.target.files);\n",
              "    });\n",
              "  });\n",
              "\n",
              "  const cancel = document.createElement('button');\n",
              "  inputElement.parentElement.appendChild(cancel);\n",
              "  cancel.textContent = 'Cancel upload';\n",
              "  const cancelPromise = new Promise((resolve) => {\n",
              "    cancel.onclick = () => {\n",
              "      resolve(null);\n",
              "    };\n",
              "  });\n",
              "\n",
              "  // Wait for the user to pick the files.\n",
              "  const files = yield {\n",
              "    promise: Promise.race([pickedPromise, cancelPromise]),\n",
              "    response: {\n",
              "      action: 'starting',\n",
              "    }\n",
              "  };\n",
              "\n",
              "  cancel.remove();\n",
              "\n",
              "  // Disable the input element since further picks are not allowed.\n",
              "  inputElement.disabled = true;\n",
              "\n",
              "  if (!files) {\n",
              "    return {\n",
              "      response: {\n",
              "        action: 'complete',\n",
              "      }\n",
              "    };\n",
              "  }\n",
              "\n",
              "  for (const file of files) {\n",
              "    const li = document.createElement('li');\n",
              "    li.append(span(file.name, {fontWeight: 'bold'}));\n",
              "    li.append(span(\n",
              "        `(${file.type || 'n/a'}) - ${file.size} bytes, ` +\n",
              "        `last modified: ${\n",
              "            file.lastModifiedDate ? file.lastModifiedDate.toLocaleDateString() :\n",
              "                                    'n/a'} - `));\n",
              "    const percent = span('0% done');\n",
              "    li.appendChild(percent);\n",
              "\n",
              "    outputElement.appendChild(li);\n",
              "\n",
              "    const fileDataPromise = new Promise((resolve) => {\n",
              "      const reader = new FileReader();\n",
              "      reader.onload = (e) => {\n",
              "        resolve(e.target.result);\n",
              "      };\n",
              "      reader.readAsArrayBuffer(file);\n",
              "    });\n",
              "    // Wait for the data to be ready.\n",
              "    let fileData = yield {\n",
              "      promise: fileDataPromise,\n",
              "      response: {\n",
              "        action: 'continue',\n",
              "      }\n",
              "    };\n",
              "\n",
              "    // Use a chunked sending to avoid message size limits. See b/62115660.\n",
              "    let position = 0;\n",
              "    do {\n",
              "      const length = Math.min(fileData.byteLength - position, MAX_PAYLOAD_SIZE);\n",
              "      const chunk = new Uint8Array(fileData, position, length);\n",
              "      position += length;\n",
              "\n",
              "      const base64 = btoa(String.fromCharCode.apply(null, chunk));\n",
              "      yield {\n",
              "        response: {\n",
              "          action: 'append',\n",
              "          file: file.name,\n",
              "          data: base64,\n",
              "        },\n",
              "      };\n",
              "\n",
              "      let percentDone = fileData.byteLength === 0 ?\n",
              "          100 :\n",
              "          Math.round((position / fileData.byteLength) * 100);\n",
              "      percent.textContent = `${percentDone}% done`;\n",
              "\n",
              "    } while (position < fileData.byteLength);\n",
              "  }\n",
              "\n",
              "  // All done.\n",
              "  yield {\n",
              "    response: {\n",
              "      action: 'complete',\n",
              "    }\n",
              "  };\n",
              "}\n",
              "\n",
              "scope.google = scope.google || {};\n",
              "scope.google.colab = scope.google.colab || {};\n",
              "scope.google.colab._files = {\n",
              "  _uploadFiles,\n",
              "  _uploadFilesContinue,\n",
              "};\n",
              "})(self);\n",
              "</script> "
            ]
          },
          "metadata": {}
        },
        {
          "output_type": "stream",
          "name": "stdout",
          "text": [
            "Saving diabetes.csv to diabetes (1).csv\n",
            "Outcome\n",
            "0    500\n",
            "1    268\n",
            "Name: count, dtype: int64\n"
          ]
        },
        {
          "output_type": "execute_result",
          "data": {
            "text/plain": [
              "   Pregnancies  Glucose  BloodPressure  SkinThickness  Insulin   BMI  \\\n",
              "0            6      148             72             35        0  33.6   \n",
              "1            1       85             66             29        0  26.6   \n",
              "2            8      183             64              0        0  23.3   \n",
              "3            1       89             66             23       94  28.1   \n",
              "4            0      137             40             35      168  43.1   \n",
              "\n",
              "   DiabetesPedigreeFunction  Age  Outcome  \n",
              "0                     0.627   50        1  \n",
              "1                     0.351   31        0  \n",
              "2                     0.672   32        1  \n",
              "3                     0.167   21        0  \n",
              "4                     2.288   33        1  "
            ],
            "text/html": [
              "\n",
              "  <div id=\"df-f2a0fcf7-81e2-41a3-aed9-0bf4fc23224e\" class=\"colab-df-container\">\n",
              "    <div>\n",
              "<style scoped>\n",
              "    .dataframe tbody tr th:only-of-type {\n",
              "        vertical-align: middle;\n",
              "    }\n",
              "\n",
              "    .dataframe tbody tr th {\n",
              "        vertical-align: top;\n",
              "    }\n",
              "\n",
              "    .dataframe thead th {\n",
              "        text-align: right;\n",
              "    }\n",
              "</style>\n",
              "<table border=\"1\" class=\"dataframe\">\n",
              "  <thead>\n",
              "    <tr style=\"text-align: right;\">\n",
              "      <th></th>\n",
              "      <th>Pregnancies</th>\n",
              "      <th>Glucose</th>\n",
              "      <th>BloodPressure</th>\n",
              "      <th>SkinThickness</th>\n",
              "      <th>Insulin</th>\n",
              "      <th>BMI</th>\n",
              "      <th>DiabetesPedigreeFunction</th>\n",
              "      <th>Age</th>\n",
              "      <th>Outcome</th>\n",
              "    </tr>\n",
              "  </thead>\n",
              "  <tbody>\n",
              "    <tr>\n",
              "      <th>0</th>\n",
              "      <td>6</td>\n",
              "      <td>148</td>\n",
              "      <td>72</td>\n",
              "      <td>35</td>\n",
              "      <td>0</td>\n",
              "      <td>33.6</td>\n",
              "      <td>0.627</td>\n",
              "      <td>50</td>\n",
              "      <td>1</td>\n",
              "    </tr>\n",
              "    <tr>\n",
              "      <th>1</th>\n",
              "      <td>1</td>\n",
              "      <td>85</td>\n",
              "      <td>66</td>\n",
              "      <td>29</td>\n",
              "      <td>0</td>\n",
              "      <td>26.6</td>\n",
              "      <td>0.351</td>\n",
              "      <td>31</td>\n",
              "      <td>0</td>\n",
              "    </tr>\n",
              "    <tr>\n",
              "      <th>2</th>\n",
              "      <td>8</td>\n",
              "      <td>183</td>\n",
              "      <td>64</td>\n",
              "      <td>0</td>\n",
              "      <td>0</td>\n",
              "      <td>23.3</td>\n",
              "      <td>0.672</td>\n",
              "      <td>32</td>\n",
              "      <td>1</td>\n",
              "    </tr>\n",
              "    <tr>\n",
              "      <th>3</th>\n",
              "      <td>1</td>\n",
              "      <td>89</td>\n",
              "      <td>66</td>\n",
              "      <td>23</td>\n",
              "      <td>94</td>\n",
              "      <td>28.1</td>\n",
              "      <td>0.167</td>\n",
              "      <td>21</td>\n",
              "      <td>0</td>\n",
              "    </tr>\n",
              "    <tr>\n",
              "      <th>4</th>\n",
              "      <td>0</td>\n",
              "      <td>137</td>\n",
              "      <td>40</td>\n",
              "      <td>35</td>\n",
              "      <td>168</td>\n",
              "      <td>43.1</td>\n",
              "      <td>2.288</td>\n",
              "      <td>33</td>\n",
              "      <td>1</td>\n",
              "    </tr>\n",
              "  </tbody>\n",
              "</table>\n",
              "</div>\n",
              "    <div class=\"colab-df-buttons\">\n",
              "\n",
              "  <div class=\"colab-df-container\">\n",
              "    <button class=\"colab-df-convert\" onclick=\"convertToInteractive('df-f2a0fcf7-81e2-41a3-aed9-0bf4fc23224e')\"\n",
              "            title=\"Convert this dataframe to an interactive table.\"\n",
              "            style=\"display:none;\">\n",
              "\n",
              "  <svg xmlns=\"http://www.w3.org/2000/svg\" height=\"24px\" viewBox=\"0 -960 960 960\">\n",
              "    <path d=\"M120-120v-720h720v720H120Zm60-500h600v-160H180v160Zm220 220h160v-160H400v160Zm0 220h160v-160H400v160ZM180-400h160v-160H180v160Zm440 0h160v-160H620v160ZM180-180h160v-160H180v160Zm440 0h160v-160H620v160Z\"/>\n",
              "  </svg>\n",
              "    </button>\n",
              "\n",
              "  <style>\n",
              "    .colab-df-container {\n",
              "      display:flex;\n",
              "      gap: 12px;\n",
              "    }\n",
              "\n",
              "    .colab-df-convert {\n",
              "      background-color: #E8F0FE;\n",
              "      border: none;\n",
              "      border-radius: 50%;\n",
              "      cursor: pointer;\n",
              "      display: none;\n",
              "      fill: #1967D2;\n",
              "      height: 32px;\n",
              "      padding: 0 0 0 0;\n",
              "      width: 32px;\n",
              "    }\n",
              "\n",
              "    .colab-df-convert:hover {\n",
              "      background-color: #E2EBFA;\n",
              "      box-shadow: 0px 1px 2px rgba(60, 64, 67, 0.3), 0px 1px 3px 1px rgba(60, 64, 67, 0.15);\n",
              "      fill: #174EA6;\n",
              "    }\n",
              "\n",
              "    .colab-df-buttons div {\n",
              "      margin-bottom: 4px;\n",
              "    }\n",
              "\n",
              "    [theme=dark] .colab-df-convert {\n",
              "      background-color: #3B4455;\n",
              "      fill: #D2E3FC;\n",
              "    }\n",
              "\n",
              "    [theme=dark] .colab-df-convert:hover {\n",
              "      background-color: #434B5C;\n",
              "      box-shadow: 0px 1px 3px 1px rgba(0, 0, 0, 0.15);\n",
              "      filter: drop-shadow(0px 1px 2px rgba(0, 0, 0, 0.3));\n",
              "      fill: #FFFFFF;\n",
              "    }\n",
              "  </style>\n",
              "\n",
              "    <script>\n",
              "      const buttonEl =\n",
              "        document.querySelector('#df-f2a0fcf7-81e2-41a3-aed9-0bf4fc23224e button.colab-df-convert');\n",
              "      buttonEl.style.display =\n",
              "        google.colab.kernel.accessAllowed ? 'block' : 'none';\n",
              "\n",
              "      async function convertToInteractive(key) {\n",
              "        const element = document.querySelector('#df-f2a0fcf7-81e2-41a3-aed9-0bf4fc23224e');\n",
              "        const dataTable =\n",
              "          await google.colab.kernel.invokeFunction('convertToInteractive',\n",
              "                                                    [key], {});\n",
              "        if (!dataTable) return;\n",
              "\n",
              "        const docLinkHtml = 'Like what you see? Visit the ' +\n",
              "          '<a target=\"_blank\" href=https://colab.research.google.com/notebooks/data_table.ipynb>data table notebook</a>'\n",
              "          + ' to learn more about interactive tables.';\n",
              "        element.innerHTML = '';\n",
              "        dataTable['output_type'] = 'display_data';\n",
              "        await google.colab.output.renderOutput(dataTable, element);\n",
              "        const docLink = document.createElement('div');\n",
              "        docLink.innerHTML = docLinkHtml;\n",
              "        element.appendChild(docLink);\n",
              "      }\n",
              "    </script>\n",
              "  </div>\n",
              "\n",
              "\n",
              "<div id=\"df-7115aff6-64d3-4aa8-8699-e87d81326028\">\n",
              "  <button class=\"colab-df-quickchart\" onclick=\"quickchart('df-7115aff6-64d3-4aa8-8699-e87d81326028')\"\n",
              "            title=\"Suggest charts\"\n",
              "            style=\"display:none;\">\n",
              "\n",
              "<svg xmlns=\"http://www.w3.org/2000/svg\" height=\"24px\"viewBox=\"0 0 24 24\"\n",
              "     width=\"24px\">\n",
              "    <g>\n",
              "        <path d=\"M19 3H5c-1.1 0-2 .9-2 2v14c0 1.1.9 2 2 2h14c1.1 0 2-.9 2-2V5c0-1.1-.9-2-2-2zM9 17H7v-7h2v7zm4 0h-2V7h2v10zm4 0h-2v-4h2v4z\"/>\n",
              "    </g>\n",
              "</svg>\n",
              "  </button>\n",
              "\n",
              "<style>\n",
              "  .colab-df-quickchart {\n",
              "      --bg-color: #E8F0FE;\n",
              "      --fill-color: #1967D2;\n",
              "      --hover-bg-color: #E2EBFA;\n",
              "      --hover-fill-color: #174EA6;\n",
              "      --disabled-fill-color: #AAA;\n",
              "      --disabled-bg-color: #DDD;\n",
              "  }\n",
              "\n",
              "  [theme=dark] .colab-df-quickchart {\n",
              "      --bg-color: #3B4455;\n",
              "      --fill-color: #D2E3FC;\n",
              "      --hover-bg-color: #434B5C;\n",
              "      --hover-fill-color: #FFFFFF;\n",
              "      --disabled-bg-color: #3B4455;\n",
              "      --disabled-fill-color: #666;\n",
              "  }\n",
              "\n",
              "  .colab-df-quickchart {\n",
              "    background-color: var(--bg-color);\n",
              "    border: none;\n",
              "    border-radius: 50%;\n",
              "    cursor: pointer;\n",
              "    display: none;\n",
              "    fill: var(--fill-color);\n",
              "    height: 32px;\n",
              "    padding: 0;\n",
              "    width: 32px;\n",
              "  }\n",
              "\n",
              "  .colab-df-quickchart:hover {\n",
              "    background-color: var(--hover-bg-color);\n",
              "    box-shadow: 0 1px 2px rgba(60, 64, 67, 0.3), 0 1px 3px 1px rgba(60, 64, 67, 0.15);\n",
              "    fill: var(--button-hover-fill-color);\n",
              "  }\n",
              "\n",
              "  .colab-df-quickchart-complete:disabled,\n",
              "  .colab-df-quickchart-complete:disabled:hover {\n",
              "    background-color: var(--disabled-bg-color);\n",
              "    fill: var(--disabled-fill-color);\n",
              "    box-shadow: none;\n",
              "  }\n",
              "\n",
              "  .colab-df-spinner {\n",
              "    border: 2px solid var(--fill-color);\n",
              "    border-color: transparent;\n",
              "    border-bottom-color: var(--fill-color);\n",
              "    animation:\n",
              "      spin 1s steps(1) infinite;\n",
              "  }\n",
              "\n",
              "  @keyframes spin {\n",
              "    0% {\n",
              "      border-color: transparent;\n",
              "      border-bottom-color: var(--fill-color);\n",
              "      border-left-color: var(--fill-color);\n",
              "    }\n",
              "    20% {\n",
              "      border-color: transparent;\n",
              "      border-left-color: var(--fill-color);\n",
              "      border-top-color: var(--fill-color);\n",
              "    }\n",
              "    30% {\n",
              "      border-color: transparent;\n",
              "      border-left-color: var(--fill-color);\n",
              "      border-top-color: var(--fill-color);\n",
              "      border-right-color: var(--fill-color);\n",
              "    }\n",
              "    40% {\n",
              "      border-color: transparent;\n",
              "      border-right-color: var(--fill-color);\n",
              "      border-top-color: var(--fill-color);\n",
              "    }\n",
              "    60% {\n",
              "      border-color: transparent;\n",
              "      border-right-color: var(--fill-color);\n",
              "    }\n",
              "    80% {\n",
              "      border-color: transparent;\n",
              "      border-right-color: var(--fill-color);\n",
              "      border-bottom-color: var(--fill-color);\n",
              "    }\n",
              "    90% {\n",
              "      border-color: transparent;\n",
              "      border-bottom-color: var(--fill-color);\n",
              "    }\n",
              "  }\n",
              "</style>\n",
              "\n",
              "  <script>\n",
              "    async function quickchart(key) {\n",
              "      const quickchartButtonEl =\n",
              "        document.querySelector('#' + key + ' button');\n",
              "      quickchartButtonEl.disabled = true;  // To prevent multiple clicks.\n",
              "      quickchartButtonEl.classList.add('colab-df-spinner');\n",
              "      try {\n",
              "        const charts = await google.colab.kernel.invokeFunction(\n",
              "            'suggestCharts', [key], {});\n",
              "      } catch (error) {\n",
              "        console.error('Error during call to suggestCharts:', error);\n",
              "      }\n",
              "      quickchartButtonEl.classList.remove('colab-df-spinner');\n",
              "      quickchartButtonEl.classList.add('colab-df-quickchart-complete');\n",
              "    }\n",
              "    (() => {\n",
              "      let quickchartButtonEl =\n",
              "        document.querySelector('#df-7115aff6-64d3-4aa8-8699-e87d81326028 button');\n",
              "      quickchartButtonEl.style.display =\n",
              "        google.colab.kernel.accessAllowed ? 'block' : 'none';\n",
              "    })();\n",
              "  </script>\n",
              "</div>\n",
              "\n",
              "    </div>\n",
              "  </div>\n"
            ],
            "application/vnd.google.colaboratory.intrinsic+json": {
              "type": "dataframe",
              "variable_name": "diabetes_df",
              "summary": "{\n  \"name\": \"diabetes_df\",\n  \"rows\": 768,\n  \"fields\": [\n    {\n      \"column\": \"Pregnancies\",\n      \"properties\": {\n        \"dtype\": \"number\",\n        \"std\": 3,\n        \"min\": 0,\n        \"max\": 17,\n        \"num_unique_values\": 17,\n        \"samples\": [\n          6,\n          1,\n          3\n        ],\n        \"semantic_type\": \"\",\n        \"description\": \"\"\n      }\n    },\n    {\n      \"column\": \"Glucose\",\n      \"properties\": {\n        \"dtype\": \"number\",\n        \"std\": 31,\n        \"min\": 0,\n        \"max\": 199,\n        \"num_unique_values\": 136,\n        \"samples\": [\n          151,\n          101,\n          112\n        ],\n        \"semantic_type\": \"\",\n        \"description\": \"\"\n      }\n    },\n    {\n      \"column\": \"BloodPressure\",\n      \"properties\": {\n        \"dtype\": \"number\",\n        \"std\": 19,\n        \"min\": 0,\n        \"max\": 122,\n        \"num_unique_values\": 47,\n        \"samples\": [\n          86,\n          46,\n          85\n        ],\n        \"semantic_type\": \"\",\n        \"description\": \"\"\n      }\n    },\n    {\n      \"column\": \"SkinThickness\",\n      \"properties\": {\n        \"dtype\": \"number\",\n        \"std\": 15,\n        \"min\": 0,\n        \"max\": 99,\n        \"num_unique_values\": 51,\n        \"samples\": [\n          7,\n          12,\n          48\n        ],\n        \"semantic_type\": \"\",\n        \"description\": \"\"\n      }\n    },\n    {\n      \"column\": \"Insulin\",\n      \"properties\": {\n        \"dtype\": \"number\",\n        \"std\": 115,\n        \"min\": 0,\n        \"max\": 846,\n        \"num_unique_values\": 186,\n        \"samples\": [\n          52,\n          41,\n          183\n        ],\n        \"semantic_type\": \"\",\n        \"description\": \"\"\n      }\n    },\n    {\n      \"column\": \"BMI\",\n      \"properties\": {\n        \"dtype\": \"number\",\n        \"std\": 7.8841603203754405,\n        \"min\": 0.0,\n        \"max\": 67.1,\n        \"num_unique_values\": 248,\n        \"samples\": [\n          19.9,\n          31.0,\n          38.1\n        ],\n        \"semantic_type\": \"\",\n        \"description\": \"\"\n      }\n    },\n    {\n      \"column\": \"DiabetesPedigreeFunction\",\n      \"properties\": {\n        \"dtype\": \"number\",\n        \"std\": 0.33132859501277484,\n        \"min\": 0.078,\n        \"max\": 2.42,\n        \"num_unique_values\": 517,\n        \"samples\": [\n          1.731,\n          0.426,\n          0.138\n        ],\n        \"semantic_type\": \"\",\n        \"description\": \"\"\n      }\n    },\n    {\n      \"column\": \"Age\",\n      \"properties\": {\n        \"dtype\": \"number\",\n        \"std\": 11,\n        \"min\": 21,\n        \"max\": 81,\n        \"num_unique_values\": 52,\n        \"samples\": [\n          60,\n          47,\n          72\n        ],\n        \"semantic_type\": \"\",\n        \"description\": \"\"\n      }\n    },\n    {\n      \"column\": \"Outcome\",\n      \"properties\": {\n        \"dtype\": \"number\",\n        \"std\": 0,\n        \"min\": 0,\n        \"max\": 1,\n        \"num_unique_values\": 2,\n        \"samples\": [\n          0,\n          1\n        ],\n        \"semantic_type\": \"\",\n        \"description\": \"\"\n      }\n    }\n  ]\n}"
            }
          },
          "metadata": {},
          "execution_count": 91
        }
      ]
    },
    {
      "cell_type": "code",
      "source": [
        "diabetes_df.info()"
      ],
      "metadata": {
        "colab": {
          "base_uri": "https://localhost:8080/"
        },
        "id": "KsAf-1eaW_iz",
        "outputId": "2b001be5-8a7f-49cc-b39d-07af896b5aec"
      },
      "execution_count": 92,
      "outputs": [
        {
          "output_type": "stream",
          "name": "stdout",
          "text": [
            "<class 'pandas.core.frame.DataFrame'>\n",
            "RangeIndex: 768 entries, 0 to 767\n",
            "Data columns (total 9 columns):\n",
            " #   Column                    Non-Null Count  Dtype  \n",
            "---  ------                    --------------  -----  \n",
            " 0   Pregnancies               768 non-null    int64  \n",
            " 1   Glucose                   768 non-null    int64  \n",
            " 2   BloodPressure             768 non-null    int64  \n",
            " 3   SkinThickness             768 non-null    int64  \n",
            " 4   Insulin                   768 non-null    int64  \n",
            " 5   BMI                       768 non-null    float64\n",
            " 6   DiabetesPedigreeFunction  768 non-null    float64\n",
            " 7   Age                       768 non-null    int64  \n",
            " 8   Outcome                   768 non-null    int64  \n",
            "dtypes: float64(2), int64(7)\n",
            "memory usage: 54.1 KB\n"
          ]
        }
      ]
    },
    {
      "cell_type": "code",
      "source": [
        "X = diabetes_df.iloc[:, :-1]\n",
        "y = diabetes_df.iloc[:, -1]\n",
        "\n",
        "X_train, X_test, y_train, y_test = train_test_split(X, y, test_size = 0.2, random_state = 156, stratify = y)\n",
        "\n",
        "lr_clf = LogisticRegression(solver = 'liblinear')\n",
        "lr_clf.fit(X_train, y_train)\n",
        "pred = lr_clf.predict(X_test)\n",
        "pred_proba = lr_clf.predict_proba(X_test)[:, 1]\n",
        "\n",
        "get_clf_eval(y_test, pred, pred_proba)"
      ],
      "metadata": {
        "colab": {
          "base_uri": "https://localhost:8080/"
        },
        "id": "FCCnC-wTXgGY",
        "outputId": "111ffff1-35ae-485e-9ae3-c0b3f3d5c559"
      },
      "execution_count": 93,
      "outputs": [
        {
          "output_type": "stream",
          "name": "stdout",
          "text": [
            "오차 행렬\n",
            "[[87 13]\n",
            " [22 32]]\n",
            "정확도:  0.7727, 정밀도: 0.7111, 재현율: 0.5926,\\ F1: 0.6465, AUC:0.8083\n"
          ]
        }
      ]
    },
    {
      "cell_type": "code",
      "source": [
        "pred_proba_c1 = lr_clf.predict_proba(X_test)[:, 1]\n",
        "precision_recall_curve_plot(y_test, pred_proba_c1)\n",
        ""
      ],
      "metadata": {
        "colab": {
          "base_uri": "https://localhost:8080/",
          "height": 507
        },
        "id": "GUgmxyNXYs-B",
        "outputId": "22c21a87-ba02-41fc-ac36-edccf5640a4a"
      },
      "execution_count": 94,
      "outputs": [
        {
          "output_type": "display_data",
          "data": {
            "text/plain": [
              "<Figure size 800x600 with 1 Axes>"
            ],
            "image/png": "[encoded data removed]"
          },
          "metadata": {}
        }
      ]
    },
    {
      "cell_type": "code",
      "source": [
        "diabetes_df.describe()"
      ],
      "metadata": {
        "colab": {
          "base_uri": "https://localhost:8080/",
          "height": 320
        },
        "id": "3CD5Ld2pYvNQ",
        "outputId": "d13c0e3d-cc3d-48a4-c635-d831d3a7e569"
      },
      "execution_count": 96,
      "outputs": [
        {
          "output_type": "execute_result",
          "data": {
            "text/plain": [
              "       Pregnancies     Glucose  BloodPressure  SkinThickness     Insulin  \\\n",
              "count   768.000000  768.000000     768.000000     768.000000  768.000000   \n",
              "mean      3.845052  120.894531      69.105469      20.536458   79.799479   \n",
              "std       3.369578   31.972618      19.355807      15.952218  115.244002   \n",
              "min       0.000000    0.000000       0.000000       0.000000    0.000000   \n",
              "25%       1.000000   99.000000      62.000000       0.000000    0.000000   \n",
              "50%       3.000000  117.000000      72.000000      23.000000   30.500000   \n",
              "75%       6.000000  140.250000      80.000000      32.000000  127.250000   \n",
              "max      17.000000  199.000000     122.000000      99.000000  846.000000   \n",
              "\n",
              "              BMI  DiabetesPedigreeFunction         Age     Outcome  \n",
              "count  768.000000                768.000000  768.000000  768.000000  \n",
              "mean    31.992578                  0.471876   33.240885    0.348958  \n",
              "std      7.884160                  0.331329   11.760232    0.476951  \n",
              "min      0.000000                  0.078000   21.000000    0.000000  \n",
              "25%     27.300000                  0.243750   24.000000    0.000000  \n",
              "50%     32.000000                  0.372500   29.000000    0.000000  \n",
              "75%     36.600000                  0.626250   41.000000    1.000000  \n",
              "max     67.100000                  2.420000   81.000000    1.000000  "
            ],
            "text/html": [
              "\n",
              "  <div id=\"df-f2a95167-d7b2-43b3-a2fe-eea90f38a901\" class=\"colab-df-container\">\n",
              "    <div>\n",
              "<style scoped>\n",
              "    .dataframe tbody tr th:only-of-type {\n",
              "        vertical-align: middle;\n",
              "    }\n",
              "\n",
              "    .dataframe tbody tr th {\n",
              "        vertical-align: top;\n",
              "    }\n",
              "\n",
              "    .dataframe thead th {\n",
              "        text-align: right;\n",
              "    }\n",
              "</style>\n",
              "<table border=\"1\" class=\"dataframe\">\n",
              "  <thead>\n",
              "    <tr style=\"text-align: right;\">\n",
              "      <th></th>\n",
              "      <th>Pregnancies</th>\n",
              "      <th>Glucose</th>\n",
              "      <th>BloodPressure</th>\n",
              "      <th>SkinThickness</th>\n",
              "      <th>Insulin</th>\n",
              "      <th>BMI</th>\n",
              "      <th>DiabetesPedigreeFunction</th>\n",
              "      <th>Age</th>\n",
              "      <th>Outcome</th>\n",
              "    </tr>\n",
              "  </thead>\n",
              "  <tbody>\n",
              "    <tr>\n",
              "      <th>count</th>\n",
              "      <td>768.000000</td>\n",
              "      <td>768.000000</td>\n",
              "      <td>768.000000</td>\n",
              "      <td>768.000000</td>\n",
              "      <td>768.000000</td>\n",
              "      <td>768.000000</td>\n",
              "      <td>768.000000</td>\n",
              "      <td>768.000000</td>\n",
              "      <td>768.000000</td>\n",
              "    </tr>\n",
              "    <tr>\n",
              "      <th>mean</th>\n",
              "      <td>3.845052</td>\n",
              "      <td>120.894531</td>\n",
              "      <td>69.105469</td>\n",
              "      <td>20.536458</td>\n",
              "      <td>79.799479</td>\n",
              "      <td>31.992578</td>\n",
              "      <td>0.471876</td>\n",
              "      <td>33.240885</td>\n",
              "      <td>0.348958</td>\n",
              "    </tr>\n",
              "    <tr>\n",
              "      <th>std</th>\n",
              "      <td>3.369578</td>\n",
              "      <td>31.972618</td>\n",
              "      <td>19.355807</td>\n",
              "      <td>15.952218</td>\n",
              "      <td>115.244002</td>\n",
              "      <td>7.884160</td>\n",
              "      <td>0.331329</td>\n",
              "      <td>11.760232</td>\n",
              "      <td>0.476951</td>\n",
              "    </tr>\n",
              "    <tr>\n",
              "      <th>min</th>\n",
              "      <td>0.000000</td>\n",
              "      <td>0.000000</td>\n",
              "      <td>0.000000</td>\n",
              "      <td>0.000000</td>\n",
              "      <td>0.000000</td>\n",
              "      <td>0.000000</td>\n",
              "      <td>0.078000</td>\n",
              "      <td>21.000000</td>\n",
              "      <td>0.000000</td>\n",
              "    </tr>\n",
              "    <tr>\n",
              "      <th>25%</th>\n",
              "      <td>1.000000</td>\n",
              "      <td>99.000000</td>\n",
              "      <td>62.000000</td>\n",
              "      <td>0.000000</td>\n",
              "      <td>0.000000</td>\n",
              "      <td>27.300000</td>\n",
              "      <td>0.243750</td>\n",
              "      <td>24.000000</td>\n",
              "      <td>0.000000</td>\n",
              "    </tr>\n",
              "    <tr>\n",
              "      <th>50%</th>\n",
              "      <td>3.000000</td>\n",
              "      <td>117.000000</td>\n",
              "      <td>72.000000</td>\n",
              "      <td>23.000000</td>\n",
              "      <td>30.500000</td>\n",
              "      <td>32.000000</td>\n",
              "      <td>0.372500</td>\n",
              "      <td>29.000000</td>\n",
              "      <td>0.000000</td>\n",
              "    </tr>\n",
              "    <tr>\n",
              "      <th>75%</th>\n",
              "      <td>6.000000</td>\n",
              "      <td>140.250000</td>\n",
              "      <td>80.000000</td>\n",
              "      <td>32.000000</td>\n",
              "      <td>127.250000</td>\n",
              "      <td>36.600000</td>\n",
              "      <td>0.626250</td>\n",
              "      <td>41.000000</td>\n",
              "      <td>1.000000</td>\n",
              "    </tr>\n",
              "    <tr>\n",
              "      <th>max</th>\n",
              "      <td>17.000000</td>\n",
              "      <td>199.000000</td>\n",
              "      <td>122.000000</td>\n",
              "      <td>99.000000</td>\n",
              "      <td>846.000000</td>\n",
              "      <td>67.100000</td>\n",
              "      <td>2.420000</td>\n",
              "      <td>81.000000</td>\n",
              "      <td>1.000000</td>\n",
              "    </tr>\n",
              "  </tbody>\n",
              "</table>\n",
              "</div>\n",
              "    <div class=\"colab-df-buttons\">\n",
              "\n",
              "  <div class=\"colab-df-container\">\n",
              "    <button class=\"colab-df-convert\" onclick=\"convertToInteractive('df-f2a95167-d7b2-43b3-a2fe-eea90f38a901')\"\n",
              "            title=\"Convert this dataframe to an interactive table.\"\n",
              "            style=\"display:none;\">\n",
              "\n",
              "  <svg xmlns=\"http://www.w3.org/2000/svg\" height=\"24px\" viewBox=\"0 -960 960 960\">\n",
              "    <path d=\"M120-120v-720h720v720H120Zm60-500h600v-160H180v160Zm220 220h160v-160H400v160Zm0 220h160v-160H400v160ZM180-400h160v-160H180v160Zm440 0h160v-160H620v160ZM180-180h160v-160H180v160Zm440 0h160v-160H620v160Z\"/>\n",
              "  </svg>\n",
              "    </button>\n",
              "\n",
              "  <style>\n",
              "    .colab-df-container {\n",
              "      display:flex;\n",
              "      gap: 12px;\n",
              "    }\n",
              "\n",
              "    .colab-df-convert {\n",
              "      background-color: #E8F0FE;\n",
              "      border: none;\n",
              "      border-radius: 50%;\n",
              "      cursor: pointer;\n",
              "      display: none;\n",
              "      fill: #1967D2;\n",
              "      height: 32px;\n",
              "      padding: 0 0 0 0;\n",
              "      width: 32px;\n",
              "    }\n",
              "\n",
              "    .colab-df-convert:hover {\n",
              "      background-color: #E2EBFA;\n",
              "      box-shadow: 0px 1px 2px rgba(60, 64, 67, 0.3), 0px 1px 3px 1px rgba(60, 64, 67, 0.15);\n",
              "      fill: #174EA6;\n",
              "    }\n",
              "\n",
              "    .colab-df-buttons div {\n",
              "      margin-bottom: 4px;\n",
              "    }\n",
              "\n",
              "    [theme=dark] .colab-df-convert {\n",
              "      background-color: #3B4455;\n",
              "      fill: #D2E3FC;\n",
              "    }\n",
              "\n",
              "    [theme=dark] .colab-df-convert:hover {\n",
              "      background-color: #434B5C;\n",
              "      box-shadow: 0px 1px 3px 1px rgba(0, 0, 0, 0.15);\n",
              "      filter: drop-shadow(0px 1px 2px rgba(0, 0, 0, 0.3));\n",
              "      fill: #FFFFFF;\n",
              "    }\n",
              "  </style>\n",
              "\n",
              "    <script>\n",
              "      const buttonEl =\n",
              "        document.querySelector('#df-f2a95167-d7b2-43b3-a2fe-eea90f38a901 button.colab-df-convert');\n",
              "      buttonEl.style.display =\n",
              "        google.colab.kernel.accessAllowed ? 'block' : 'none';\n",
              "\n",
              "      async function convertToInteractive(key) {\n",
              "        const element = document.querySelector('#df-f2a95167-d7b2-43b3-a2fe-eea90f38a901');\n",
              "        const dataTable =\n",
              "          await google.colab.kernel.invokeFunction('convertToInteractive',\n",
              "                                                    [key], {});\n",
              "        if (!dataTable) return;\n",
              "\n",
              "        const docLinkHtml = 'Like what you see? Visit the ' +\n",
              "          '<a target=\"_blank\" href=https://colab.research.google.com/notebooks/data_table.ipynb>data table notebook</a>'\n",
              "          + ' to learn more about interactive tables.';\n",
              "        element.innerHTML = '';\n",
              "        dataTable['output_type'] = 'display_data';\n",
              "        await google.colab.output.renderOutput(dataTable, element);\n",
              "        const docLink = document.createElement('div');\n",
              "        docLink.innerHTML = docLinkHtml;\n",
              "        element.appendChild(docLink);\n",
              "      }\n",
              "    </script>\n",
              "  </div>\n",
              "\n",
              "\n",
              "<div id=\"df-133cc81d-1331-4205-a7ef-7b83195ee167\">\n",
              "  <button class=\"colab-df-quickchart\" onclick=\"quickchart('df-133cc81d-1331-4205-a7ef-7b83195ee167')\"\n",
              "            title=\"Suggest charts\"\n",
              "            style=\"display:none;\">\n",
              "\n",
              "<svg xmlns=\"http://www.w3.org/2000/svg\" height=\"24px\"viewBox=\"0 0 24 24\"\n",
              "     width=\"24px\">\n",
              "    <g>\n",
              "        <path d=\"M19 3H5c-1.1 0-2 .9-2 2v14c0 1.1.9 2 2 2h14c1.1 0 2-.9 2-2V5c0-1.1-.9-2-2-2zM9 17H7v-7h2v7zm4 0h-2V7h2v10zm4 0h-2v-4h2v4z\"/>\n",
              "    </g>\n",
              "</svg>\n",
              "  </button>\n",
              "\n",
              "<style>\n",
              "  .colab-df-quickchart {\n",
              "      --bg-color: #E8F0FE;\n",
              "      --fill-color: #1967D2;\n",
              "      --hover-bg-color: #E2EBFA;\n",
              "      --hover-fill-color: #174EA6;\n",
              "      --disabled-fill-color: #AAA;\n",
              "      --disabled-bg-color: #DDD;\n",
              "  }\n",
              "\n",
              "  [theme=dark] .colab-df-quickchart {\n",
              "      --bg-color: #3B4455;\n",
              "      --fill-color: #D2E3FC;\n",
              "      --hover-bg-color: #434B5C;\n",
              "      --hover-fill-color: #FFFFFF;\n",
              "      --disabled-bg-color: #3B4455;\n",
              "      --disabled-fill-color: #666;\n",
              "  }\n",
              "\n",
              "  .colab-df-quickchart {\n",
              "    background-color: var(--bg-color);\n",
              "    border: none;\n",
              "    border-radius: 50%;\n",
              "    cursor: pointer;\n",
              "    display: none;\n",
              "    fill: var(--fill-color);\n",
              "    height: 32px;\n",
              "    padding: 0;\n",
              "    width: 32px;\n",
              "  }\n",
              "\n",
              "  .colab-df-quickchart:hover {\n",
              "    background-color: var(--hover-bg-color);\n",
              "    box-shadow: 0 1px 2px rgba(60, 64, 67, 0.3), 0 1px 3px 1px rgba(60, 64, 67, 0.15);\n",
              "    fill: var(--button-hover-fill-color);\n",
              "  }\n",
              "\n",
              "  .colab-df-quickchart-complete:disabled,\n",
              "  .colab-df-quickchart-complete:disabled:hover {\n",
              "    background-color: var(--disabled-bg-color);\n",
              "    fill: var(--disabled-fill-color);\n",
              "    box-shadow: none;\n",
              "  }\n",
              "\n",
              "  .colab-df-spinner {\n",
              "    border: 2px solid var(--fill-color);\n",
              "    border-color: transparent;\n",
              "    border-bottom-color: var(--fill-color);\n",
              "    animation:\n",
              "      spin 1s steps(1) infinite;\n",
              "  }\n",
              "\n",
              "  @keyframes spin {\n",
              "    0% {\n",
              "      border-color: transparent;\n",
              "      border-bottom-color: var(--fill-color);\n",
              "      border-left-color: var(--fill-color);\n",
              "    }\n",
              "    20% {\n",
              "      border-color: transparent;\n",
              "      border-left-color: var(--fill-color);\n",
              "      border-top-color: var(--fill-color);\n",
              "    }\n",
              "    30% {\n",
              "      border-color: transparent;\n",
              "      border-left-color: var(--fill-color);\n",
              "      border-top-color: var(--fill-color);\n",
              "      border-right-color: var(--fill-color);\n",
              "    }\n",
              "    40% {\n",
              "      border-color: transparent;\n",
              "      border-right-color: var(--fill-color);\n",
              "      border-top-color: var(--fill-color);\n",
              "    }\n",
              "    60% {\n",
              "      border-color: transparent;\n",
              "      border-right-color: var(--fill-color);\n",
              "    }\n",
              "    80% {\n",
              "      border-color: transparent;\n",
              "      border-right-color: var(--fill-color);\n",
              "      border-bottom-color: var(--fill-color);\n",
              "    }\n",
              "    90% {\n",
              "      border-color: transparent;\n",
              "      border-bottom-color: var(--fill-color);\n",
              "    }\n",
              "  }\n",
              "</style>\n",
              "\n",
              "  <script>\n",
              "    async function quickchart(key) {\n",
              "      const quickchartButtonEl =\n",
              "        document.querySelector('#' + key + ' button');\n",
              "      quickchartButtonEl.disabled = true;  // To prevent multiple clicks.\n",
              "      quickchartButtonEl.classList.add('colab-df-spinner');\n",
              "      try {\n",
              "        const charts = await google.colab.kernel.invokeFunction(\n",
              "            'suggestCharts', [key], {});\n",
              "      } catch (error) {\n",
              "        console.error('Error during call to suggestCharts:', error);\n",
              "      }\n",
              "      quickchartButtonEl.classList.remove('colab-df-spinner');\n",
              "      quickchartButtonEl.classList.add('colab-df-quickchart-complete');\n",
              "    }\n",
              "    (() => {\n",
              "      let quickchartButtonEl =\n",
              "        document.querySelector('#df-133cc81d-1331-4205-a7ef-7b83195ee167 button');\n",
              "      quickchartButtonEl.style.display =\n",
              "        google.colab.kernel.accessAllowed ? 'block' : 'none';\n",
              "    })();\n",
              "  </script>\n",
              "</div>\n",
              "\n",
              "    </div>\n",
              "  </div>\n"
            ],
            "application/vnd.google.colaboratory.intrinsic+json": {
              "type": "dataframe",
              "summary": "{\n  \"name\": \"diabetes_df\",\n  \"rows\": 8,\n  \"fields\": [\n    {\n      \"column\": \"Pregnancies\",\n      \"properties\": {\n        \"dtype\": \"number\",\n        \"std\": 269.85223453356366,\n        \"min\": 0.0,\n        \"max\": 768.0,\n        \"num_unique_values\": 8,\n        \"samples\": [\n          3.8450520833333335,\n          3.0,\n          768.0\n        ],\n        \"semantic_type\": \"\",\n        \"description\": \"\"\n      }\n    },\n    {\n      \"column\": \"Glucose\",\n      \"properties\": {\n        \"dtype\": \"number\",\n        \"std\": 243.73802348295857,\n        \"min\": 0.0,\n        \"max\": 768.0,\n        \"num_unique_values\": 8,\n        \"samples\": [\n          120.89453125,\n          117.0,\n          768.0\n        ],\n        \"semantic_type\": \"\",\n        \"description\": \"\"\n      }\n    },\n    {\n      \"column\": \"BloodPressure\",\n      \"properties\": {\n        \"dtype\": \"number\",\n        \"std\": 252.85250535810619,\n        \"min\": 0.0,\n        \"max\": 768.0,\n        \"num_unique_values\": 8,\n        \"samples\": [\n          69.10546875,\n          72.0,\n          768.0\n        ],\n        \"semantic_type\": \"\",\n        \"description\": \"\"\n      }\n    },\n    {\n      \"column\": \"SkinThickness\",\n      \"properties\": {\n        \"dtype\": \"number\",\n        \"std\": 263.7684730531098,\n        \"min\": 0.0,\n        \"max\": 768.0,\n        \"num_unique_values\": 7,\n        \"samples\": [\n          768.0,\n          20.536458333333332,\n          32.0\n        ],\n        \"semantic_type\": \"\",\n        \"description\": \"\"\n      }\n    },\n    {\n      \"column\": \"Insulin\",\n      \"properties\": {\n        \"dtype\": \"number\",\n        \"std\": 350.26059167945886,\n        \"min\": 0.0,\n        \"max\": 846.0,\n        \"num_unique_values\": 7,\n        \"samples\": [\n          768.0,\n          79.79947916666667,\n          127.25\n        ],\n        \"semantic_type\": \"\",\n        \"description\": \"\"\n      }\n    },\n    {\n      \"column\": \"BMI\",\n      \"properties\": {\n        \"dtype\": \"number\",\n        \"std\": 262.05117817552093,\n        \"min\": 0.0,\n        \"max\": 768.0,\n        \"num_unique_values\": 8,\n        \"samples\": [\n          31.992578124999998,\n          32.0,\n          768.0\n        ],\n        \"semantic_type\": \"\",\n        \"description\": \"\"\n      }\n    },\n    {\n      \"column\": \"DiabetesPedigreeFunction\",\n      \"properties\": {\n        \"dtype\": \"number\",\n        \"std\": 271.3005221658502,\n        \"min\": 0.078,\n        \"max\": 768.0,\n        \"num_unique_values\": 8,\n        \"samples\": [\n          0.47187630208333325,\n          0.3725,\n          768.0\n        ],\n        \"semantic_type\": \"\",\n        \"description\": \"\"\n      }\n    },\n    {\n      \"column\": \"Age\",\n      \"properties\": {\n        \"dtype\": \"number\",\n        \"std\": 260.1941178528413,\n        \"min\": 11.76023154067868,\n        \"max\": 768.0,\n        \"num_unique_values\": 8,\n        \"samples\": [\n          33.240885416666664,\n          29.0,\n          768.0\n        ],\n        \"semantic_type\": \"\",\n        \"description\": \"\"\n      }\n    },\n    {\n      \"column\": \"Outcome\",\n      \"properties\": {\n        \"dtype\": \"number\",\n        \"std\": 271.3865920388932,\n        \"min\": 0.0,\n        \"max\": 768.0,\n        \"num_unique_values\": 5,\n        \"samples\": [\n          0.3489583333333333,\n          1.0,\n          0.4769513772427971\n        ],\n        \"semantic_type\": \"\",\n        \"description\": \"\"\n      }\n    }\n  ]\n}"
            }
          },
          "metadata": {},
          "execution_count": 96
        }
      ]
    },
    {
      "cell_type": "code",
      "source": [
        "plt.hist(diabetes_df['Glucose'], bins = 100)\n",
        "plt.show()"
      ],
      "metadata": {
        "colab": {
          "base_uri": "https://localhost:8080/",
          "height": 430
        },
        "id": "w08DinvHYxP3",
        "outputId": "510ca855-cd8b-4fea-b40f-dd6f08d11d6f"
      },
      "execution_count": 97,
      "outputs": [
        {
          "output_type": "display_data",
          "data": {
            "text/plain": [
              "<Figure size 640x480 with 1 Axes>"
            ],
            "image/png": "[encoded data removed]"
          },
          "metadata": {}
        }
      ]
    },
    {
      "cell_type": "code",
      "source": [
        "zero_features = ['Glucose', 'BloodPressure', 'SkinThickness', 'Insulin', 'BMI']\n",
        "\n",
        "total_count = diabetes_df['Glucose'].count()\n",
        "\n",
        "for feature in zero_features:\n",
        "  zero_count = diabetes_df[diabetes_df[feature] == 0][feature].count()\n",
        "  print('{0} 0 건수는 {1}, 퍼센트는 {2:.2f}%'.format(feature, zero_count, 100*zero_count/total_count))\n",
        ""
      ],
      "metadata": {
        "colab": {
          "base_uri": "https://localhost:8080/"
        },
        "id": "_LlJevsBY4KM",
        "outputId": "6c326b2a-b3d6-49b7-c31f-8d5c5bfd1808"
      },
      "execution_count": 98,
      "outputs": [
        {
          "output_type": "stream",
          "name": "stdout",
          "text": [
            "Glucose 0 건수는 5, 퍼센트는 0.65%\n",
            "BloodPressure 0 건수는 35, 퍼센트는 4.56%\n",
            "SkinThickness 0 건수는 227, 퍼센트는 29.56%\n",
            "Insulin 0 건수는 374, 퍼센트는 48.70%\n",
            "BMI 0 건수는 11, 퍼센트는 1.43%\n"
          ]
        }
      ]
    },
    {
      "cell_type": "code",
      "source": [
        "X = diabetes_df.iloc[:, :-1]\n",
        "y = diabetes_df.iloc[:, -1]\n",
        "\n",
        "scaler = StandardScaler()\n",
        "X_scaled = scaler.fit_transform(X)\n",
        "\n",
        "X_train, X_test, y_train, y_test = train_test_split(X_scaled, y, test_size = 0.2, random_state = 156, stratify = y)\n",
        "\n",
        "lr_clf = LogisticRegression()\n",
        "lr_clf.fit(X_train, y_train)\n",
        "pred = lr_clf.predict(X_test)\n",
        "pred_proba = lr_clf.predict_proba(X_test)[:, 1]\n",
        "\n",
        "get_clf_eval(y_test, pred, pred_proba)"
      ],
      "metadata": {
        "colab": {
          "base_uri": "https://localhost:8080/"
        },
        "id": "pWAC97w5Y7kT",
        "outputId": "a0a5eff7-ad24-48e1-c671-6b0468df8ced"
      },
      "execution_count": 99,
      "outputs": [
        {
          "output_type": "stream",
          "name": "stdout",
          "text": [
            "오차 행렬\n",
            "[[90 10]\n",
            " [21 33]]\n",
            "정확도:  0.7987, 정밀도: 0.7674, 재현율: 0.6111,\\ F1: 0.6804, AUC:0.8059\n"
          ]
        }
      ]
    },
    {
      "cell_type": "code",
      "source": [
        "thresholds = [0.3, 0.33, 0.36, 0.39, 0.42, 0.45, 0.48, 0.5]\n",
        "pred_proba = lr_clf.predict_proba(X_test)\n",
        "get_eval_by_threshold(y_test, pred_proba[:, 1].reshape(-1, 1), thresholds)"
      ],
      "metadata": {
        "colab": {
          "base_uri": "https://localhost:8080/",
          "height": 388
        },
        "id": "pcEvuYliZE5W",
        "outputId": "2f98c0a1-e61a-477d-9c13-81eff340fa93"
      },
      "execution_count": 101,
      "outputs": [
        {
          "output_type": "stream",
          "name": "stdout",
          "text": [
            "임곗값: 0.3\n"
          ]
        },
        {
          "output_type": "error",
          "ename": "InvalidParameterError",
          "evalue": "The 'y_score' parameter of roc_auc_score must be an array-like. Got None instead.",
          "traceback": [
            "\u001b[0;31m---------------------------------------------------------------------------\u001b[0m",
            "\u001b[0;31mInvalidParameterError\u001b[0m                     Traceback (most recent call last)",
            "\u001b[0;32m<ipython-input-101-a0f42ac493b9>\u001b[0m in \u001b[0;36m<cell line: 3>\u001b[0;34m()\u001b[0m\n\u001b[1;32m      1\u001b[0m \u001b[0mthresholds\u001b[0m \u001b[0;34m=\u001b[0m \u001b[0;34m[\u001b[0m\u001b[0;36m0.3\u001b[0m\u001b[0;34m,\u001b[0m \u001b[0;36m0.33\u001b[0m\u001b[0;34m,\u001b[0m \u001b[0;36m0.36\u001b[0m\u001b[0;34m,\u001b[0m \u001b[0;36m0.39\u001b[0m\u001b[0;34m,\u001b[0m \u001b[0;36m0.42\u001b[0m\u001b[0;34m,\u001b[0m \u001b[0;36m0.45\u001b[0m\u001b[0;34m,\u001b[0m \u001b[0;36m0.48\u001b[0m\u001b[0;34m,\u001b[0m \u001b[0;36m0.5\u001b[0m\u001b[0;34m]\u001b[0m\u001b[0;34m\u001b[0m\u001b[0;34m\u001b[0m\u001b[0m\n\u001b[1;32m      2\u001b[0m \u001b[0mpred_proba\u001b[0m \u001b[0;34m=\u001b[0m \u001b[0mlr_clf\u001b[0m\u001b[0;34m.\u001b[0m\u001b[0mpredict_proba\u001b[0m\u001b[0;34m(\u001b[0m\u001b[0mX_test\u001b[0m\u001b[0;34m)\u001b[0m\u001b[0;34m\u001b[0m\u001b[0;34m\u001b[0m\u001b[0m\n\u001b[0;32m----> 3\u001b[0;31m \u001b[0mget_eval_by_threshold\u001b[0m\u001b[0;34m(\u001b[0m\u001b[0my_test\u001b[0m\u001b[0;34m,\u001b[0m \u001b[0mpred_proba\u001b[0m\u001b[0;34m[\u001b[0m\u001b[0;34m:\u001b[0m\u001b[0;34m,\u001b[0m \u001b[0;36m1\u001b[0m\u001b[0;34m]\u001b[0m\u001b[0;34m.\u001b[0m\u001b[0mreshape\u001b[0m\u001b[0;34m(\u001b[0m\u001b[0;34m-\u001b[0m\u001b[0;36m1\u001b[0m\u001b[0;34m,\u001b[0m \u001b[0;36m1\u001b[0m\u001b[0;34m)\u001b[0m\u001b[0;34m,\u001b[0m \u001b[0mthresholds\u001b[0m\u001b[0;34m)\u001b[0m\u001b[0;34m\u001b[0m\u001b[0;34m\u001b[0m\u001b[0m\n\u001b[0m",
            "\u001b[0;32m<ipython-input-75-89180a3a0bc5>\u001b[0m in \u001b[0;36mget_eval_by_threshold\u001b[0;34m(y_test, pred_proba_c1, thresholds)\u001b[0m\n\u001b[1;32m      7\u001b[0m         \u001b[0mcustom_predict\u001b[0m \u001b[0;34m=\u001b[0m \u001b[0mbinarizer\u001b[0m\u001b[0;34m.\u001b[0m\u001b[0mtransform\u001b[0m\u001b[0;34m(\u001b[0m\u001b[0mpred_proba_c1\u001b[0m\u001b[0;34m)\u001b[0m\u001b[0;34m\u001b[0m\u001b[0;34m\u001b[0m\u001b[0m\n\u001b[1;32m      8\u001b[0m         \u001b[0mprint\u001b[0m\u001b[0;34m(\u001b[0m\u001b[0;34m'임곗값:'\u001b[0m\u001b[0;34m,\u001b[0m \u001b[0mcustom_threshold\u001b[0m\u001b[0;34m)\u001b[0m\u001b[0;34m\u001b[0m\u001b[0;34m\u001b[0m\u001b[0m\n\u001b[0;32m----> 9\u001b[0;31m         \u001b[0mget_clf_eval\u001b[0m\u001b[0;34m(\u001b[0m\u001b[0my_test\u001b[0m\u001b[0;34m,\u001b[0m \u001b[0mcustom_predict\u001b[0m\u001b[0;34m)\u001b[0m\u001b[0;34m\u001b[0m\u001b[0;34m\u001b[0m\u001b[0m\n\u001b[0m\u001b[1;32m     10\u001b[0m \u001b[0;34m\u001b[0m\u001b[0m\n\u001b[1;32m     11\u001b[0m \u001b[0mget_eval_by_threshold\u001b[0m\u001b[0;34m(\u001b[0m\u001b[0my_test\u001b[0m\u001b[0;34m,\u001b[0m \u001b[0mpred_proba\u001b[0m\u001b[0;34m[\u001b[0m\u001b[0;34m:\u001b[0m\u001b[0;34m,\u001b[0m \u001b[0;36m1\u001b[0m\u001b[0;34m]\u001b[0m\u001b[0;34m.\u001b[0m\u001b[0mreshape\u001b[0m\u001b[0;34m(\u001b[0m\u001b[0;34m-\u001b[0m\u001b[0;36m1\u001b[0m\u001b[0;34m,\u001b[0m\u001b[0;36m1\u001b[0m\u001b[0;34m)\u001b[0m\u001b[0;34m,\u001b[0m \u001b[0mthresholds\u001b[0m\u001b[0;34m)\u001b[0m\u001b[0;34m\u001b[0m\u001b[0;34m\u001b[0m\u001b[0m\n",
            "\u001b[0;32m<ipython-input-83-243b39093479>\u001b[0m in \u001b[0;36mget_clf_eval\u001b[0;34m(y_test, pred, pred_proba)\u001b[0m\n\u001b[1;32m      6\u001b[0m     \u001b[0mf1\u001b[0m \u001b[0;34m=\u001b[0m \u001b[0mf1_score\u001b[0m\u001b[0;34m(\u001b[0m\u001b[0my_test\u001b[0m\u001b[0;34m,\u001b[0m \u001b[0mpred\u001b[0m\u001b[0;34m)\u001b[0m\u001b[0;34m\u001b[0m\u001b[0;34m\u001b[0m\u001b[0m\n\u001b[1;32m      7\u001b[0m     \u001b[0;31m# ROC-AUC 추가\u001b[0m\u001b[0;34m\u001b[0m\u001b[0;34m\u001b[0m\u001b[0m\n\u001b[0;32m----> 8\u001b[0;31m     \u001b[0mroc_auc\u001b[0m \u001b[0;34m=\u001b[0m \u001b[0mroc_auc_score\u001b[0m\u001b[0;34m(\u001b[0m\u001b[0my_test\u001b[0m\u001b[0;34m,\u001b[0m \u001b[0mpred_proba\u001b[0m\u001b[0;34m)\u001b[0m\u001b[0;34m\u001b[0m\u001b[0;34m\u001b[0m\u001b[0m\n\u001b[0m\u001b[1;32m      9\u001b[0m     \u001b[0mprint\u001b[0m\u001b[0;34m(\u001b[0m\u001b[0;34m'오차 행렬'\u001b[0m\u001b[0;34m)\u001b[0m\u001b[0;34m\u001b[0m\u001b[0;34m\u001b[0m\u001b[0m\n\u001b[1;32m     10\u001b[0m     \u001b[0mprint\u001b[0m\u001b[0;34m(\u001b[0m\u001b[0mconfusion\u001b[0m\u001b[0;34m)\u001b[0m\u001b[0;34m\u001b[0m\u001b[0;34m\u001b[0m\u001b[0m\n",
            "\u001b[0;32m/usr/local/lib/python3.10/dist-packages/sklearn/utils/_param_validation.py\u001b[0m in \u001b[0;36mwrapper\u001b[0;34m(*args, **kwargs)\u001b[0m\n\u001b[1;32m    201\u001b[0m             \u001b[0mparams\u001b[0m \u001b[0;34m=\u001b[0m \u001b[0;34m{\u001b[0m\u001b[0mk\u001b[0m\u001b[0;34m:\u001b[0m \u001b[0mv\u001b[0m \u001b[0;32mfor\u001b[0m \u001b[0mk\u001b[0m\u001b[0;34m,\u001b[0m \u001b[0mv\u001b[0m \u001b[0;32min\u001b[0m \u001b[0mparams\u001b[0m\u001b[0;34m.\u001b[0m\u001b[0marguments\u001b[0m\u001b[0;34m.\u001b[0m\u001b[0mitems\u001b[0m\u001b[0;34m(\u001b[0m\u001b[0;34m)\u001b[0m \u001b[0;32mif\u001b[0m \u001b[0mk\u001b[0m \u001b[0;32mnot\u001b[0m \u001b[0;32min\u001b[0m \u001b[0mto_ignore\u001b[0m\u001b[0;34m}\u001b[0m\u001b[0;34m\u001b[0m\u001b[0;34m\u001b[0m\u001b[0m\n\u001b[1;32m    202\u001b[0m \u001b[0;34m\u001b[0m\u001b[0m\n\u001b[0;32m--> 203\u001b[0;31m             validate_parameter_constraints(\n\u001b[0m\u001b[1;32m    204\u001b[0m                 \u001b[0mparameter_constraints\u001b[0m\u001b[0;34m,\u001b[0m \u001b[0mparams\u001b[0m\u001b[0;34m,\u001b[0m \u001b[0mcaller_name\u001b[0m\u001b[0;34m=\u001b[0m\u001b[0mfunc\u001b[0m\u001b[0;34m.\u001b[0m\u001b[0m__qualname__\u001b[0m\u001b[0;34m\u001b[0m\u001b[0;34m\u001b[0m\u001b[0m\n\u001b[1;32m    205\u001b[0m             )\n",
            "\u001b[0;32m/usr/local/lib/python3.10/dist-packages/sklearn/utils/_param_validation.py\u001b[0m in \u001b[0;36mvalidate_parameter_constraints\u001b[0;34m(parameter_constraints, params, caller_name)\u001b[0m\n\u001b[1;32m     93\u001b[0m                 )\n\u001b[1;32m     94\u001b[0m \u001b[0;34m\u001b[0m\u001b[0m\n\u001b[0;32m---> 95\u001b[0;31m             raise InvalidParameterError(\n\u001b[0m\u001b[1;32m     96\u001b[0m                 \u001b[0;34mf\"The {param_name!r} parameter of {caller_name} must be\"\u001b[0m\u001b[0;34m\u001b[0m\u001b[0;34m\u001b[0m\u001b[0m\n\u001b[1;32m     97\u001b[0m                 \u001b[0;34mf\" {constraints_str}. Got {param_val!r} instead.\"\u001b[0m\u001b[0;34m\u001b[0m\u001b[0;34m\u001b[0m\u001b[0m\n",
            "\u001b[0;31mInvalidParameterError\u001b[0m: The 'y_score' parameter of roc_auc_score must be an array-like. Got None instead."
          ]
        }
      ]
    },
    {
      "cell_type": "code",
      "source": [
        "binarizer = Binarizer(threshold = 0.48)\n",
        "\n",
        "pred_th_048 = binarizer.fit_transform(pred_proba[:, 1].reshape(-1, 1))\n",
        "\n",
        "get_clf_eval(y_test, pred_th_048, pred_proba[:, 1])"
      ],
      "metadata": {
        "colab": {
          "base_uri": "https://localhost:8080/"
        },
        "id": "zc_Q-mvDZF8n",
        "outputId": "efd9e37c-82b7-4906-8324-00ede8aebdec"
      },
      "execution_count": 102,
      "outputs": [
        {
          "output_type": "stream",
          "name": "stdout",
          "text": [
            "오차 행렬\n",
            "[[88 12]\n",
            " [21 33]]\n",
            "정확도:  0.7857, 정밀도: 0.7333, 재현율: 0.6111,\\ F1: 0.6667, AUC:0.8059\n"
          ]
        }
      ]
    },
    {
      "cell_type": "code",
      "source": [],
      "metadata": {
        "id": "FzUCQh2-ZWSY"
      },
      "execution_count": null,
      "outputs": []
    }
  ]
}