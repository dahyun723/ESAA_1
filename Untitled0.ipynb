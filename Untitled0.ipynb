{
  "nbformat": 4,
  "nbformat_minor": 0,
  "metadata": {
    "colab": {
      "provenance": [],
      "toc_visible": true,
      "authorship_tag": "ABX9TyOwY7yJsTuWd6JawxLLkq36",
      "include_colab_link": true
    },
    "kernelspec": {
      "name": "python3",
      "display_name": "Python 3"
    },
    "language_info": {
      "name": "python"
    }
  },
  "cells": [
    {
      "cell_type": "markdown",
      "metadata": {
        "id": "view-in-github",
        "colab_type": "text"
      },
      "source": [
        "<a href=\"https://colab.research.google.com/github/dahyun723/ESAA_1/blob/main/Untitled0.ipynb\" target=\"_parent\"><img src=\"https://colab.research.google.com/assets/colab-badge.svg\" alt=\"Open In Colab\"/></a>"
      ]
    },
    {
      "cell_type": "markdown",
      "source": [],
      "metadata": {
        "id": "sf2gW75Aguwb"
      }
    },
    {
      "cell_type": "markdown",
      "source": [
        "#넘파이\n",
        "넘파이는 파이썬에서 선형대수 기반의 프로그램을 쉽게 만들 수 있도록 지원하는 대표적인 패키지이다.\n",
        "\n",
        "넘파이의 기반 데이터 타입은 ndarray이다.\n",
        "ndarray를 이용해서 넘파이에서 다차원 배열을 쉽게 생성하고 다양한 연산을 수행할 수 있다\n"
      ],
      "metadata": {
        "id": "mH67LZSohzCS"
      }
    },
    {
      "cell_type": "markdown",
      "source": [
        "##넘파이 ndarray 개요"
      ],
      "metadata": {
        "id": "OWjH6Ycgm1iA"
      }
    },
    {
      "cell_type": "code",
      "source": [
        "import numpy as np #넘파이 모듈을 임포트"
      ],
      "metadata": {
        "id": "QTRd5xcInApK"
      },
      "execution_count": 3,
      "outputs": []
    },
    {
      "cell_type": "markdown",
      "source": [
        "array( ): array 함수는 파이썬의 리스트와 같은 인자를 입력받아서 ndarry로 변환하는 기능을 수행\n"
      ],
      "metadata": {
        "id": "AXrGOPlqvyEo"
      }
    },
    {
      "cell_type": "code",
      "source": [
        "array1 = np.array([1,2,3]) #넘파이의 array()함수는 파이썬의 리스트와 같은 인자를 입력받아 ndarray로 변환한다\n",
        "print('array1 type:',type(array1))\n",
        "print('array1 array 형태:',array1.shape) #ndarray의 shape변수는 ndarray의 크기, 즉 행과 열의 수를 튜플 형태로 갖고 있다\n",
        "\n",
        "array2 = np.array([[1,2,3],\n",
        "                  [2,3,4]])\n",
        "print('array2 type:',type(array2))\n",
        "print('array2 array 형태:',array2.shape)\n",
        "\n",
        "array3 = np.array([[1,2,3]])\n",
        "print('array3 type:',type(array3))\n",
        "print('array3 array 형태:',array3.shape)"
      ],
      "metadata": {
        "colab": {
          "base_uri": "https://localhost:8080/"
        },
        "id": "1im5z2a8nJhU",
        "outputId": "a7c3730b-0586-4f67-8282-bcca8cd33672"
      },
      "execution_count": 4,
      "outputs": [
        {
          "output_type": "stream",
          "name": "stdout",
          "text": [
            "array1 type: <class 'numpy.ndarray'>\n",
            "array1 array 형태: (3,)\n",
            "array2 type: <class 'numpy.ndarray'>\n",
            "array2 array 형태: (2, 3)\n",
            "array3 type: <class 'numpy.ndarray'>\n",
            "array3 array 형태: (1, 3)\n"
          ]
        }
      ]
    },
    {
      "cell_type": "markdown",
      "source": [
        "np.array() 사용법 : ndarray로 변환을 원하는 객체를 인자로 입력 -> ndarray를 반환"
      ],
      "metadata": {
        "id": "v12aUDmKwpV_"
      }
    },
    {
      "cell_type": "code",
      "source": [
        "print('array1: {0}차원, array2: {1}차원, array3: {2}차원'.format(array1.ndim,array2.ndim,array3.ndim))\n",
        "#각 array 차원을 ndarray.ndim을 통해서 확인"
      ],
      "metadata": {
        "colab": {
          "base_uri": "https://localhost:8080/"
        },
        "id": "YjrtqMCmrE1w",
        "outputId": "9ffe9026-e6ac-4b4d-adec-c89525d17300"
      },
      "execution_count": 12,
      "outputs": [
        {
          "output_type": "stream",
          "name": "stdout",
          "text": [
            "array1: 1차원, array2: 2차원, array3: 2차원\n"
          ]
        }
      ]
    },
    {
      "cell_type": "markdown",
      "source": [
        "ndarray의 데이터 타입은 dtyoe 속성으로 확인할 수 있다"
      ],
      "metadata": {
        "id": "HEPunRTk4q7-"
      }
    },
    {
      "cell_type": "code",
      "source": [
        "list1 = [1,2,3]\n",
        "print(type(list1))\n",
        "array1 = np.array(list1)\n",
        "print(type(array1))\n",
        "print(array1, array1.dtype)"
      ],
      "metadata": {
        "colab": {
          "base_uri": "https://localhost:8080/"
        },
        "id": "EdHjVo0kr76V",
        "outputId": "eda90271-2804-45ce-8040-01b4c5f16ad1"
      },
      "execution_count": 13,
      "outputs": [
        {
          "output_type": "stream",
          "name": "stdout",
          "text": [
            "<class 'list'>\n",
            "<class 'numpy.ndarray'>\n",
            "[1 2 3] int64\n"
          ]
        }
      ]
    },
    {
      "cell_type": "code",
      "source": [
        "list2 = [1, 2, 'test']\n",
        "array2 = np.array(list2)\n",
        "print(array2, array2.dtype)\n",
        "\n",
        "list3 = [1, 2, 3.0]\n",
        "array3 = np.array(list3)\n",
        "print(array3, array3.dtype)"
      ],
      "metadata": {
        "colab": {
          "base_uri": "https://localhost:8080/"
        },
        "id": "PMFStz865OOT",
        "outputId": "1cf0d3c1-7ead-416c-f299-2180b2ca56d7"
      },
      "execution_count": 14,
      "outputs": [
        {
          "output_type": "stream",
          "name": "stdout",
          "text": [
            "['1' '2' 'test'] <U21\n",
            "[1. 2. 3.] float64\n"
          ]
        }
      ]
    },
    {
      "cell_type": "code",
      "source": [
        "array_int = np.array([1, 2, 3])\n",
        "array_float = array_int.astype('float64')\n",
        "print(array_float, array_float.dtype)\n",
        "\n",
        "array_int1= array_float.astype('int32')\n",
        "print(array_int1, array_int1.dtype)\n",
        "\n",
        "array_float1 = np.array([1.1, 2.1, 3.1])\n",
        "array_int2= array_float1.astype('int32')\n",
        "print(array_int2, array_int2.dtype)"
      ],
      "metadata": {
        "colab": {
          "base_uri": "https://localhost:8080/"
        },
        "id": "KXW2jn1X5XRF",
        "outputId": "da89c031-451b-4b4d-8d1f-f5084a42ad0d"
      },
      "execution_count": 15,
      "outputs": [
        {
          "output_type": "stream",
          "name": "stdout",
          "text": [
            "[1. 2. 3.] float64\n",
            "[1 2 3] int32\n",
            "[1 2 3] int32\n"
          ]
        }
      ]
    },
    {
      "cell_type": "code",
      "source": [
        "sequenece_array = np.arange(10)\n",
        "print(sequenece_array)\n",
        "print(sequenece_array.dtype, sequenece_array.shape)"
      ],
      "metadata": {
        "colab": {
          "base_uri": "https://localhost:8080/"
        },
        "id": "2883LVb45o3r",
        "outputId": "1a7d4706-ddf6-42b8-cb3f-87f2200dfc19"
      },
      "execution_count": 16,
      "outputs": [
        {
          "output_type": "stream",
          "name": "stdout",
          "text": [
            "[0 1 2 3 4 5 6 7 8 9]\n",
            "int64 (10,)\n"
          ]
        }
      ]
    },
    {
      "cell_type": "code",
      "source": [
        "zero_array = np.zeros((3,2),dtype='int32')\n",
        "print(zero_array)\n",
        "print(zero_array.dtype, zero_array.shape)\n",
        "\n",
        "one_array = np.ones((3,2))\n",
        "print(one_array)\n",
        "print(one_array.dtype, one_array.shape)"
      ],
      "metadata": {
        "colab": {
          "base_uri": "https://localhost:8080/"
        },
        "id": "AvoRas_85udU",
        "outputId": "997f2021-0f6e-4a58-b51e-2df70e38041a"
      },
      "execution_count": 17,
      "outputs": [
        {
          "output_type": "stream",
          "name": "stdout",
          "text": [
            "[[0 0]\n",
            " [0 0]\n",
            " [0 0]]\n",
            "int32 (3, 2)\n",
            "[[1. 1.]\n",
            " [1. 1.]\n",
            " [1. 1.]]\n",
            "float64 (3, 2)\n"
          ]
        }
      ]
    },
    {
      "cell_type": "code",
      "source": [
        "array1 = np.arange(10)\n",
        "print('array1:\\n', array1)\n",
        "\n",
        "array2 = array1.reshape(2,5)\n",
        "print('array2:\\n',array2)\n",
        "\n",
        "array3 = array1.reshape(5,2)\n",
        "print('array3:\\n',array3)"
      ],
      "metadata": {
        "colab": {
          "base_uri": "https://localhost:8080/"
        },
        "id": "QY4sHCkA54wh",
        "outputId": "c22f44e0-dad8-48e8-a194-e8f4418beb39"
      },
      "execution_count": 25,
      "outputs": [
        {
          "output_type": "stream",
          "name": "stdout",
          "text": [
            "array1:\n",
            " [0 1 2 3 4 5 6 7 8 9]\n",
            "array2:\n",
            " [[0 1 2 3 4]\n",
            " [5 6 7 8 9]]\n",
            "array3:\n",
            " [[0 1]\n",
            " [2 3]\n",
            " [4 5]\n",
            " [6 7]\n",
            " [8 9]]\n"
          ]
        }
      ]
    },
    {
      "cell_type": "code",
      "source": [
        "array1.reshape(4,3) #지정된 사이즈로 변경이 불가능 하면 오류 발생함"
      ],
      "metadata": {
        "colab": {
          "base_uri": "https://localhost:8080/",
          "height": 141
        },
        "id": "-RrbEpIh6BQt",
        "outputId": "c3e82284-624b-4d80-a2fc-655b95130af0"
      },
      "execution_count": 27,
      "outputs": [
        {
          "output_type": "error",
          "ename": "ValueError",
          "evalue": "cannot reshape array of size 10 into shape (4,3)",
          "traceback": [
            "\u001b[0;31m---------------------------------------------------------------------------\u001b[0m",
            "\u001b[0;31mValueError\u001b[0m                                Traceback (most recent call last)",
            "\u001b[0;32m<ipython-input-27-a40469ec5825>\u001b[0m in \u001b[0;36m<cell line: 1>\u001b[0;34m()\u001b[0m\n\u001b[0;32m----> 1\u001b[0;31m \u001b[0marray1\u001b[0m\u001b[0;34m.\u001b[0m\u001b[0mreshape\u001b[0m\u001b[0;34m(\u001b[0m\u001b[0;36m4\u001b[0m\u001b[0;34m,\u001b[0m\u001b[0;36m3\u001b[0m\u001b[0;34m)\u001b[0m\u001b[0;34m\u001b[0m\u001b[0;34m\u001b[0m\u001b[0m\n\u001b[0m",
            "\u001b[0;31mValueError\u001b[0m: cannot reshape array of size 10 into shape (4,3)"
          ]
        }
      ]
    },
    {
      "cell_type": "code",
      "source": [
        "array1=np.arange(10)\n",
        "print(array1)\n",
        "array2 = array1.reshape(-1,5)\n",
        "print('array2 shape:',array2.shape)\n",
        "array3 = array1.reshape(5,-1)\n",
        "print('array3 shape:',array3.shape)"
      ],
      "metadata": {
        "colab": {
          "base_uri": "https://localhost:8080/"
        },
        "id": "B2PUrquQ7k0K",
        "outputId": "5f656c67-4722-4402-ceb8-b347704949d1"
      },
      "execution_count": 28,
      "outputs": [
        {
          "output_type": "stream",
          "name": "stdout",
          "text": [
            "[0 1 2 3 4 5 6 7 8 9]\n",
            "array2 shape: (2, 5)\n",
            "array3 shape: (5, 2)\n"
          ]
        }
      ]
    },
    {
      "cell_type": "code",
      "source": [
        "array1 = np.arange(10)\n",
        "array4 = array1.reshape(-1,4)\n",
        "#-1을 사용하더라도 호환 될 수 없는 형태는 변환할 수 없다.\n",
        "#10개의 1차원 데이터를 고정된 4개의 칼럼을 가진 로우로는 변경할 수 없기에 에러가 발생한다\n"
      ],
      "metadata": {
        "colab": {
          "base_uri": "https://localhost:8080/",
          "height": 158
        },
        "id": "RXlxijHk7-gf",
        "outputId": "729a4880-5616-4727-b278-0bf1b63133f2"
      },
      "execution_count": 30,
      "outputs": [
        {
          "output_type": "error",
          "ename": "ValueError",
          "evalue": "cannot reshape array of size 10 into shape (4)",
          "traceback": [
            "\u001b[0;31m---------------------------------------------------------------------------\u001b[0m",
            "\u001b[0;31mValueError\u001b[0m                                Traceback (most recent call last)",
            "\u001b[0;32m<ipython-input-30-07da9760475e>\u001b[0m in \u001b[0;36m<cell line: 2>\u001b[0;34m()\u001b[0m\n\u001b[1;32m      1\u001b[0m \u001b[0marray1\u001b[0m \u001b[0;34m=\u001b[0m \u001b[0mnp\u001b[0m\u001b[0;34m.\u001b[0m\u001b[0marange\u001b[0m\u001b[0;34m(\u001b[0m\u001b[0;36m10\u001b[0m\u001b[0;34m)\u001b[0m\u001b[0;34m\u001b[0m\u001b[0;34m\u001b[0m\u001b[0m\n\u001b[0;32m----> 2\u001b[0;31m \u001b[0marray4\u001b[0m \u001b[0;34m=\u001b[0m \u001b[0marray1\u001b[0m\u001b[0;34m.\u001b[0m\u001b[0mreshape\u001b[0m\u001b[0;34m(\u001b[0m\u001b[0;34m-\u001b[0m\u001b[0;36m1\u001b[0m\u001b[0;34m,\u001b[0m\u001b[0;36m4\u001b[0m\u001b[0;34m)\u001b[0m\u001b[0;34m\u001b[0m\u001b[0;34m\u001b[0m\u001b[0m\n\u001b[0m",
            "\u001b[0;31mValueError\u001b[0m: cannot reshape array of size 10 into shape (4)"
          ]
        }
      ]
    },
    {
      "cell_type": "code",
      "source": [
        "array1 = np.arange(8)\n",
        "array3d = array1.reshape((2,2,2))\n",
        "print('array3d:\\n',array3d.tolist())\n",
        "\n",
        "#3차원 ndarray를 2차원 ndarray로 변환\n",
        "array5 = array3d.reshape(-1,1)\n",
        "print('array5:\\n',array5.tolist())\n",
        "print('array5 shape:',array5.shape)\n",
        "\n",
        "#1차원 ndarray를 2차원 ndarray로 변환\n",
        "array6 = array1.reshape(-1,1)\n",
        "print('array6:\\n',array6.tolist())\n",
        "print('array6 shape:',array6.shape)"
      ],
      "metadata": {
        "colab": {
          "base_uri": "https://localhost:8080/"
        },
        "id": "rD6yY_T08LF9",
        "outputId": "e8df5ee1-3cc2-4369-cff5-c59bbec6c3e0"
      },
      "execution_count": 31,
      "outputs": [
        {
          "output_type": "stream",
          "name": "stdout",
          "text": [
            "array3d:\n",
            " [[[0, 1], [2, 3]], [[4, 5], [6, 7]]]\n",
            "array5:\n",
            " [[0], [1], [2], [3], [4], [5], [6], [7]]\n",
            "array5 shape: (8, 1)\n",
            "array6:\n",
            " [[0], [1], [2], [3], [4], [5], [6], [7]]\n",
            "array6 shape: (8, 1)\n"
          ]
        }
      ]
    },
    {
      "cell_type": "markdown",
      "source": [
        "##넘파이의 ndarray의 데이터 세트 선택하기\n",
        "##인덱싱(Indexing)\n",
        "\n",
        "1. 특정한 데이터만 추출(단일 값 추출)\n",
        "2. 슬라이싱\n",
        "3. 펜시 인덱싱\n",
        "4. 불린 인덱싱"
      ],
      "metadata": {
        "id": "Ir67hv-F9Ik1"
      }
    },
    {
      "cell_type": "code",
      "source": [
        "#1부터 9까지의 1차원 ndarray 생성\n",
        "array1 = np.arange(start=1, stop=10)\n",
        "print('array1:',array1)\n",
        "#index는 0부터 시작하므로 array1[2]는 3번째 index 위치의 데이터값을 의미\n",
        "value = array1[2]\n",
        "print('value:',value)\n",
        "print(type(value))"
      ],
      "metadata": {
        "colab": {
          "base_uri": "https://localhost:8080/"
        },
        "id": "L9816Wqe_IRh",
        "outputId": "4ab34d90-2a74-4e21-b148-3f5a8817a5f0"
      },
      "execution_count": 32,
      "outputs": [
        {
          "output_type": "stream",
          "name": "stdout",
          "text": [
            "array1: [1 2 3 4 5 6 7 8 9]\n",
            "value: 3\n",
            "<class 'numpy.int64'>\n"
          ]
        }
      ]
    },
    {
      "cell_type": "code",
      "source": [
        "print('맨 뒤의 값:',array1[-1], ', 맨 뒤에서 두번째 값:',array1[-2])"
      ],
      "metadata": {
        "colab": {
          "base_uri": "https://localhost:8080/"
        },
        "id": "R1yyVBlr_hqb",
        "outputId": "f5331d19-d6b9-41f1-f26b-066c07fba63e"
      },
      "execution_count": 33,
      "outputs": [
        {
          "output_type": "stream",
          "name": "stdout",
          "text": [
            "맨 뒤의 값: 9 , 맨 뒤에서 두번째 값: 8\n"
          ]
        }
      ]
    },
    {
      "cell_type": "code",
      "source": [
        "array1[0] = 9\n",
        "array1[8] = 0\n",
        "print('array1:',array1)"
      ],
      "metadata": {
        "colab": {
          "base_uri": "https://localhost:8080/"
        },
        "id": "X4zqV8r8_mQU",
        "outputId": "a42e6b0b-b6cf-4696-f8c5-f14f3e31083a"
      },
      "execution_count": 34,
      "outputs": [
        {
          "output_type": "stream",
          "name": "stdout",
          "text": [
            "array1: [9 2 3 4 5 6 7 8 0]\n"
          ]
        }
      ]
    },
    {
      "cell_type": "code",
      "source": [
        "#다차원 ndarray에서 단일 값 추출\n",
        "#(3차원 이상의 ndarray에서의 데이터 추출도 2차원 ndarray와 큰 차이가 없다)\n",
        "array1d = np.arange(start=1, stop=10)\n",
        "array2d = array1d.reshape(3,3)\n",
        "print(array2d)\n",
        "\n",
        "print('(row=0,col=0) index 가리키는 값:', array2d[0,0])\n",
        "print('(row=0,col=1) index 가리키는 값:', array2d[0,1])\n",
        "print('(row=1,col=0) index 가리키는 값:', array2d[1,0])\n",
        "print('(row=2,col=2) index 가리키는 값:', array2d[2,2])"
      ],
      "metadata": {
        "colab": {
          "base_uri": "https://localhost:8080/"
        },
        "id": "7lMeoHPb_sju",
        "outputId": "1d2f0d30-411b-434b-b05d-8ea008bc0295"
      },
      "execution_count": 35,
      "outputs": [
        {
          "output_type": "stream",
          "name": "stdout",
          "text": [
            "[[1 2 3]\n",
            " [4 5 6]\n",
            " [7 8 9]]\n",
            "(row=0,col=0) index 가리키는 값: 1\n",
            "(row=0,col=1) index 가리키는 값: 2\n",
            "(row=1,col=0) index 가리키는 값: 4\n",
            "(row=2,col=2) index 가리키는 값: 9\n"
          ]
        }
      ]
    },
    {
      "cell_type": "code",
      "source": [
        "#슬라이싱\n",
        "array1 = np.arange(start=1, stop=10)\n",
        "array3 = array1[0:3]\n",
        "print(array3)\n",
        "print(type(array3))"
      ],
      "metadata": {
        "colab": {
          "base_uri": "https://localhost:8080/"
        },
        "id": "pLnph70WAKQV",
        "outputId": "12d4ea4a-7e06-4630-f065-93d49e5019e3"
      },
      "execution_count": 36,
      "outputs": [
        {
          "output_type": "stream",
          "name": "stdout",
          "text": [
            "[1 2 3]\n",
            "<class 'numpy.ndarray'>\n"
          ]
        }
      ]
    },
    {
      "cell_type": "markdown",
      "source": [
        "1차원"
      ],
      "metadata": {
        "id": "5N7MKxQAAkYO"
      }
    },
    {
      "cell_type": "code",
      "source": [
        "#슬라이싱 기호인 : 사이의 시작, 종료 인덱스는 생략 가능\n",
        "array1 = np.arange(start=1, stop=10)\n",
        "array4 = array1[:3]\n",
        "print(array4)\n",
        "\n",
        "array5 = array1[3:]\n",
        "print(array5)\n",
        "\n",
        "array6 = array1[:]\n",
        "print(array6)"
      ],
      "metadata": {
        "colab": {
          "base_uri": "https://localhost:8080/"
        },
        "id": "3vvr7xRIAXZ_",
        "outputId": "8ca00691-34ed-4eee-860b-612e9c4076a2"
      },
      "execution_count": 37,
      "outputs": [
        {
          "output_type": "stream",
          "name": "stdout",
          "text": [
            "[1 2 3]\n",
            "[4 5 6 7 8 9]\n",
            "[1 2 3 4 5 6 7 8 9]\n"
          ]
        }
      ]
    },
    {
      "cell_type": "markdown",
      "source": [
        "2차원 (콤마로 로우와 칼럼 인덱스를 지칭하는 부분만 차이)"
      ],
      "metadata": {
        "id": "FRcCrFNSAm3u"
      }
    },
    {
      "cell_type": "code",
      "source": [
        "array1d = np.arange(start=1, stop=10)\n",
        "array2d = array1d.reshape(3,3)\n",
        "print('array2d:\\n',array2d)\n",
        "\n",
        "print('array2d[0:2, 0:2] \\n', array2d[0:2, 0:2])\n",
        "print('array2d[1:3, 0:3] \\n', array2d[1:3, 0:3])\n",
        "print('array2d[1:3, :] \\n', array2d[1:3, :])\n",
        "print('array2d[:, :] \\n', array2d[:,:])\n",
        "print('array2d[:2, 1:] \\n', array2d[:2, 1:])\n",
        "print('array2d[:2, 0] \\n', array2d[:2, 0])"
      ],
      "metadata": {
        "colab": {
          "base_uri": "https://localhost:8080/"
        },
        "id": "qAoxQr0DAh4r",
        "outputId": "05473f23-cd11-44ac-fdc8-3445a3ae67be"
      },
      "execution_count": 38,
      "outputs": [
        {
          "output_type": "stream",
          "name": "stdout",
          "text": [
            "array2d:\n",
            " [[1 2 3]\n",
            " [4 5 6]\n",
            " [7 8 9]]\n",
            "array2d[0:2, 0:2] \n",
            " [[1 2]\n",
            " [4 5]]\n",
            "array2d[1:3, 0:3] \n",
            " [[4 5 6]\n",
            " [7 8 9]]\n",
            "array2d[1:3, :] \n",
            " [[4 5 6]\n",
            " [7 8 9]]\n",
            "array2d[:, :] \n",
            " [[1 2 3]\n",
            " [4 5 6]\n",
            " [7 8 9]]\n",
            "array2d[:2, 1:] \n",
            " [[2 3]\n",
            " [5 6]]\n",
            "array2d[:2, 0] \n",
            " [1 4]\n"
          ]
        }
      ]
    },
    {
      "cell_type": "code",
      "source": [
        "print(array2d[0])\n",
        "print(array2d[1])\n",
        "print('array2d[0] shape:', array2d[0].shape, 'array2d[1] shape:', array2d[1].shape )"
      ],
      "metadata": {
        "colab": {
          "base_uri": "https://localhost:8080/"
        },
        "id": "FUiMeXOXBADl",
        "outputId": "53530edb-64cb-4e4f-cd9f-87186a8bd599"
      },
      "execution_count": 39,
      "outputs": [
        {
          "output_type": "stream",
          "name": "stdout",
          "text": [
            "[1 2 3]\n",
            "[4 5 6]\n",
            "array2d[0] shape: (3,) array2d[1] shape: (3,)\n"
          ]
        }
      ]
    },
    {
      "cell_type": "markdown",
      "source": [
        "3. 펜시 인덱싱"
      ],
      "metadata": {
        "id": "-COWt3AGBR-V"
      }
    },
    {
      "cell_type": "code",
      "source": [
        "array1d = np.arange(start=1, stop=10)\n",
        "array2d = array1d.reshape(3,3)\n",
        "\n",
        "array3 = array2d[[0,1], 2]\n",
        "print('array2d[[0,1], 2] => ',array3.tolist())\n",
        "\n",
        "array4 = array2d[[0,2], 0:2]\n",
        "print('array2d[[0,2], 0:2] => ',array4.tolist())\n",
        "\n",
        "array5 = array2d[[0,1]]\n",
        "print('array2d[[0,1]] => ',array5.tolist())"
      ],
      "metadata": {
        "colab": {
          "base_uri": "https://localhost:8080/"
        },
        "id": "DxluHXjSBZO5",
        "outputId": "4c6cb9eb-bfae-4191-dc22-aac0e5dcdd35"
      },
      "execution_count": 40,
      "outputs": [
        {
          "output_type": "stream",
          "name": "stdout",
          "text": [
            "array2d[[0,1], 2] =>  [3, 6]\n",
            "array2d[[0,2], 0:2] =>  [[1, 2], [7, 8]]\n",
            "array2d[[0,1]] =>  [[1, 2, 3], [4, 5, 6]]\n"
          ]
        }
      ]
    },
    {
      "cell_type": "markdown",
      "source": [
        "4. 불린 인덱싱"
      ],
      "metadata": {
        "id": "qpg5cWtMBpWT"
      }
    },
    {
      "cell_type": "code",
      "source": [
        "array11 = np.arange(start=1, stop=10)\n",
        "# [ ] 안에 array1d > 5 Boolean indexing을 적용\n",
        "array3 = array11[array11 > 5]\n",
        "print('array1d > 5 불린 인덱싱 결과 값 :', array3)"
      ],
      "metadata": {
        "colab": {
          "base_uri": "https://localhost:8080/"
        },
        "id": "pGA1bbfYBkch",
        "outputId": "f1de720c-cd20-40ce-8628-49938aafd7c1"
      },
      "execution_count": 41,
      "outputs": [
        {
          "output_type": "stream",
          "name": "stdout",
          "text": [
            "array1d > 5 불린 인덱싱 결과 값 : [6 7 8 9]\n"
          ]
        }
      ]
    },
    {
      "cell_type": "code",
      "source": [
        "#조건 필터링이 이처럼 간단하게 될 수 있는지 넘파이 ndarray 객체에 조건식을 할당하면 어떤일이 일어나는지\n",
        "array1d > 5"
      ],
      "metadata": {
        "colab": {
          "base_uri": "https://localhost:8080/"
        },
        "id": "6_ZrExl0B0KC",
        "outputId": "c1b160ff-2263-4b1e-b74a-dde6b775525c"
      },
      "execution_count": 42,
      "outputs": [
        {
          "output_type": "execute_result",
          "data": {
            "text/plain": [
              "array([False, False, False, False, False,  True,  True,  True,  True])"
            ]
          },
          "metadata": {},
          "execution_count": 42
        }
      ]
    },
    {
      "cell_type": "code",
      "source": [
        "boolean_indexes = np.array([False, False, False, False, False,  True,  True,  True,  True])\n",
        "array3 = array1d[boolean_indexes]\n",
        "print('불린 인덱스로 필터링 결과 :', array3)"
      ],
      "metadata": {
        "colab": {
          "base_uri": "https://localhost:8080/"
        },
        "id": "wA1Z7G54CH7W",
        "outputId": "12c6e308-6341-4167-a3a5-8a59a3f884e0"
      },
      "execution_count": 43,
      "outputs": [
        {
          "output_type": "stream",
          "name": "stdout",
          "text": [
            "불린 인덱스로 필터링 결과 : [6 7 8 9]\n"
          ]
        }
      ]
    },
    {
      "cell_type": "code",
      "source": [
        "indexes = np.array([5,6,7,8])\n",
        "array4 = array1d[ indexes ]\n",
        "print('일반 인덱스로 필터링 결과 :',array4)"
      ],
      "metadata": {
        "colab": {
          "base_uri": "https://localhost:8080/"
        },
        "id": "q_-RFuQaCNtN",
        "outputId": "d895de78-2939-4e17-cdbb-97285d97d0f1"
      },
      "execution_count": 44,
      "outputs": [
        {
          "output_type": "stream",
          "name": "stdout",
          "text": [
            "일반 인덱스로 필터링 결과 : [6 7 8 9]\n"
          ]
        }
      ]
    },
    {
      "cell_type": "markdown",
      "source": [
        "##행렬의 정렬 - sort( )와 argsort( )\n",
        "넘파이에서 행렬을 정렬하는 대표적인 방법"
      ],
      "metadata": {
        "id": "-9JsTDFVCWsI"
      }
    },
    {
      "cell_type": "code",
      "source": [
        "org_array = np.array([ 3, 1, 9, 5])\n",
        "print('원본 행렬:', org_array)\n",
        "# np.sort( )로 정렬\n",
        "sort_array1 = np.sort(org_array)\n",
        "print ('np.sort( ) 호출 후 반환된 정렬 행렬:', sort_array1)\n",
        "print('np.sort( ) 호출 후 원본 행렬:', org_array)\n",
        "# ndarray.sort( )로 정렬\n",
        "sort_array2 = org_array.sort()\n",
        "org_array.sort()\n",
        "print('org_array.sort( ) 호출 후 반환된 행렬:', sort_array2)\n",
        "print('org_array.sort( ) 호출 후 원본 행렬:', org_array)"
      ],
      "metadata": {
        "colab": {
          "base_uri": "https://localhost:8080/"
        },
        "id": "Rb8jRC8YCQxd",
        "outputId": "1f5ac52c-7ab2-4996-8fec-20abc0791a5d"
      },
      "execution_count": 46,
      "outputs": [
        {
          "output_type": "stream",
          "name": "stdout",
          "text": [
            "원본 행렬: [3 1 9 5]\n",
            "np.sort( ) 호출 후 반환된 정렬 행렬: [1 3 5 9]\n",
            "np.sort( ) 호출 후 원본 행렬: [3 1 9 5]\n",
            "org_array.sort( ) 호출 후 반환된 행렬: None\n",
            "org_array.sort( ) 호출 후 원본 행렬: [1 3 5 9]\n"
          ]
        }
      ]
    },
    {
      "cell_type": "code",
      "source": [
        "sort_array1_desc = np.sort(org_array)[::-1]\n",
        "print ('내림차순으로 정렬:', sort_array1_desc)"
      ],
      "metadata": {
        "colab": {
          "base_uri": "https://localhost:8080/"
        },
        "id": "3HihmkHQC1nI",
        "outputId": "e1774c1e-6685-4d96-d3b5-ab13befd5deb"
      },
      "execution_count": 47,
      "outputs": [
        {
          "output_type": "stream",
          "name": "stdout",
          "text": [
            "내림차순으로 정렬: [9 5 3 1]\n"
          ]
        }
      ]
    },
    {
      "cell_type": "code",
      "source": [
        "array2d = np.array([[8, 12],\n",
        "                   [7, 1 ]])\n",
        "\n",
        "sort_array2d_axis0 = np.sort(array2d, axis=0)\n",
        "print('로우 방향으로 정렬:\\n', sort_array2d_axis0)\n",
        "\n",
        "sort_array2d_axis1 = np.sort(array2d, axis=1)\n",
        "print('컬럼 방향으로 정렬:\\n', sort_array2d_axis1)"
      ],
      "metadata": {
        "colab": {
          "base_uri": "https://localhost:8080/"
        },
        "id": "-g24NmzrDGVi",
        "outputId": "40d9787a-ca25-4d92-a462-a9afd4ca4d69"
      },
      "execution_count": 50,
      "outputs": [
        {
          "output_type": "stream",
          "name": "stdout",
          "text": [
            "로우 방향으로 정렬:\n",
            " [[ 7  1]\n",
            " [ 8 12]]\n",
            "컬럼 방향으로 정렬:\n",
            " [[ 8 12]\n",
            " [ 1  7]]\n"
          ]
        }
      ]
    },
    {
      "cell_type": "code",
      "source": [
        "org_array = np.array([ 3, 1, 9, 5])\n",
        "sort_indices = np.argsort(org_array)\n",
        "print(type(sort_indices))\n",
        "print('행렬 정렬 시 원본 행렬의 인덱스:', sort_indices)"
      ],
      "metadata": {
        "colab": {
          "base_uri": "https://localhost:8080/"
        },
        "id": "QdplZfplDOFZ",
        "outputId": "e377b088-7840-446e-877f-9ca3f92f816d"
      },
      "execution_count": 51,
      "outputs": [
        {
          "output_type": "stream",
          "name": "stdout",
          "text": [
            "<class 'numpy.ndarray'>\n",
            "행렬 정렬 시 원본 행렬의 인덱스: [1 0 3 2]\n"
          ]
        }
      ]
    },
    {
      "cell_type": "code",
      "source": [
        "import numpy as np\n",
        "\n",
        "name_array = np.array(['John', 'Mike', 'Sarah', 'Kate', 'Samuel'])\n",
        "score_array= np.array([78, 95, 84, 98, 88])\n",
        "\n",
        "sort_indices_asc = np.argsort(score_array)\n",
        "print('성적 오름차순 정렬 시 score_array의 인덱스:', sort_indices_asc)\n",
        "print('성적 오름차순으로 name_array의 이름 출력:', name_array[sort_indices_asc])"
      ],
      "metadata": {
        "colab": {
          "base_uri": "https://localhost:8080/"
        },
        "id": "jwCFKWdDDvL0",
        "outputId": "a6256663-9e69-4b64-c4e3-ab59f1e622f3"
      },
      "execution_count": 52,
      "outputs": [
        {
          "output_type": "stream",
          "name": "stdout",
          "text": [
            "성적 오름차순 정렬 시 score_array의 인덱스: [0 2 4 1 3]\n",
            "성적 오름차순으로 name_array의 이름 출력: ['John' 'Sarah' 'Samuel' 'Mike' 'Kate']\n"
          ]
        }
      ]
    },
    {
      "cell_type": "markdown",
      "source": [
        "##선형대수 연산 - 행렬 내적과 전치 행렬 구하기"
      ],
      "metadata": {
        "id": "A5McxxrXEdea"
      }
    },
    {
      "cell_type": "markdown",
      "source": [],
      "metadata": {
        "id": "Bcm90WyAEda4"
      }
    },
    {
      "cell_type": "markdown",
      "source": [
        "행렬 내적(행렬곱)\n",
        "내적은 np.dot( )을 이용해 계산가능"
      ],
      "metadata": {
        "id": "RSPDfGeHEnOu"
      }
    },
    {
      "cell_type": "code",
      "source": [
        "A = np.array([[1, 2, 3],\n",
        "              [4, 5, 6]])\n",
        "B = np.array([[7, 8],\n",
        "              [9, 10],\n",
        "              [11, 12]])\n",
        "\n",
        "dot_product = np.dot(A, B)\n",
        "print('행렬 내적 결과:\\n', dot_product)"
      ],
      "metadata": {
        "colab": {
          "base_uri": "https://localhost:8080/"
        },
        "id": "BnBTW6JlEbSI",
        "outputId": "71297f8d-34b3-4837-8e2d-6163ea1db83a"
      },
      "execution_count": 53,
      "outputs": [
        {
          "output_type": "stream",
          "name": "stdout",
          "text": [
            "행렬 내적 결과:\n",
            " [[ 58  64]\n",
            " [139 154]]\n"
          ]
        }
      ]
    },
    {
      "cell_type": "markdown",
      "source": [
        "전치행렬은 transpose( )를 이용해 쉽게 구할 수 있음"
      ],
      "metadata": {
        "id": "guViRdnuFB8O"
      }
    },
    {
      "cell_type": "code",
      "source": [
        "A = np.array([[1, 2],\n",
        "              [3, 4]])\n",
        "transpose_mat = np.transpose(A)\n",
        "print('A의 전치 행렬:\\n', transpose_mat)"
      ],
      "metadata": {
        "colab": {
          "base_uri": "https://localhost:8080/"
        },
        "id": "jYavU22QE6Oz",
        "outputId": "7a5fc054-7965-4d30-db2f-4085c08f73e4"
      },
      "execution_count": 54,
      "outputs": [
        {
          "output_type": "stream",
          "name": "stdout",
          "text": [
            "A의 전치 행렬:\n",
            " [[1 3]\n",
            " [2 4]]\n"
          ]
        }
      ]
    },
    {
      "cell_type": "code",
      "source": [],
      "metadata": {
        "id": "PJOm_XjdFPcF"
      },
      "execution_count": null,
      "outputs": []
    }
  ]
}